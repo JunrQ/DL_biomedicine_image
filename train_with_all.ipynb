{
 "cells": [
  {
   "cell_type": "code",
   "execution_count": null,
   "metadata": {},
   "outputs": [],
   "source": [
    "%load_ext autoreload\n",
    "%autoreload 2"
   ]
  },
  {
   "cell_type": "code",
   "execution_count": null,
   "metadata": {},
   "outputs": [],
   "source": [
    "from config.rnn import default as default_config\n",
    "from models import RNN\n",
    "from utils import DataManager\n",
    "from utils.validation import (Accumulator, AggregateMetric, calcu_metrics)\n",
    "\n",
    "\n",
    "from functional import seq\n",
    "import json\n",
    "from multiprocessing import Process, Pipe\n",
    "from pathlib import Path\n",
    "import pickle\n",
    "from tqdm import tqdm\n",
    "import tensorflow as tf\n",
    "from tensorpack import (TrainConfig, SyncMultiGPUTrainerParameterServer as Trainer,\n",
    "                        PredictConfig, SaverRestore, logger)\n",
    "from tensorpack.train import launch_train_with_config\n",
    "from tensorpack.predict import SimpleDatasetPredictor as Predictor\n",
    "from tensorpack.callbacks import (\n",
    "    ScheduledHyperParamSetter, MaxSaver, ModelSaver, DataParallelInferenceRunner as InfRunner)\n",
    "from tensorpack.tfutils.common import get_default_sess_config\n",
    "from tensorpack.tfutils.sesscreate import ReuseSessionCreator"
   ]
  },
  {
   "cell_type": "code",
   "execution_count": null,
   "metadata": {},
   "outputs": [],
   "source": [
    "RESNET_LOC = \"data/resnet_v2_101/resnet_v2_101.ckpt\"\n",
    "LOG_LOC = \"train_log/train_with_all\"\n",
    "ignore_restore = ['learning_rate', 'global_step', 'logits/weights', 'logits/biases', \n",
    "                      'hidden_fc/weights', 'hidden_fc/biases']\n",
    "save_name = \"max-training-macro-f1.tfmodel\"\n",
    "\n",
    "logger.set_logger_dir(LOG_LOC)"
   ]
  },
  {
   "cell_type": "code",
   "execution_count": null,
   "metadata": {},
   "outputs": [],
   "source": [
    "config = default_config\n",
    "config.stages = [2, 3, 4, 5, 6]\n",
    "config.proportion = {'train': 0.8, 'val': 0.2, 'test': 0.0}\n",
    "config.annotation_number = 30\n",
    "config.batch_size = 16\n",
    "threshold = 0.4\n",
    "\n",
    "dm = DataManager.from_config(config)\n",
    "train_data = dm.get_train_stream()\n",
    "validation_data = dm.get_validation_stream(batch_size=32)\n",
    "\n",
    "with open(LOG_LOC + '/vocabulary.json', 'w') as f:\n",
    "    json.dump(list(dm.get_vocabulary()), f)"
   ]
  },
  {
   "cell_type": "code",
   "execution_count": null,
   "metadata": {},
   "outputs": [],
   "source": [
    "model = RNN(config, is_finetuning=True, label_weights=dm.get_imbalance_ratio().train.values)\n",
    "\n",
    "tf.reset_default_graph()\n",
    "train_config = TrainConfig(model=model, dataflow=train_data,\n",
    "                            callbacks=[\n",
    "                                ScheduledHyperParamSetter(\n",
    "                                    'learning_rate', [(0, 1e-4), (40, 1e-5)]),\n",
    "                                InfRunner(validation_data, [AggregateMetric(config.validation_metrics, threshold)],\n",
    "                                        [0, 1]),\n",
    "                                ModelSaver(max_to_keep=5),\n",
    "                                MaxSaver('macro_f1', save_name),\n",
    "                            ],\n",
    "                            session_init=SaverRestore(\n",
    "                                model_path=RESNET_LOC, ignore=ignore_restore),\n",
    "                            max_epoch=65)\n",
    "launch_train_with_config(train_config, Trainer(gpus=[0, 1]))"
   ]
  },
  {
   "cell_type": "code",
   "execution_count": null,
   "metadata": {},
   "outputs": [],
   "source": []
  }
 ],
 "metadata": {
  "kernelspec": {
   "display_name": "Python 3",
   "language": "python",
   "name": "python3"
  },
  "language_info": {
   "codemirror_mode": {
    "name": "ipython",
    "version": 3
   },
   "file_extension": ".py",
   "mimetype": "text/x-python",
   "name": "python",
   "nbconvert_exporter": "python",
   "pygments_lexer": "ipython3",
   "version": "3.6.4"
  }
 },
 "nbformat": 4,
 "nbformat_minor": 2
}
