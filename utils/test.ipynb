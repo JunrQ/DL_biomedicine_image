{
 "cells": [
  {
   "cell_type": "code",
   "execution_count": 36,
   "metadata": {},
   "outputs": [
    {
     "name": "stdout",
     "output_type": "stream",
     "text": [
      "The autoreload extension is already loaded. To reload it, use:\n",
      "  %reload_ext autoreload\n"
     ]
    }
   ],
   "source": [
    "%load_ext autoreload\n",
    "%autoreload 1\n",
    "%aimport seperation\n",
    "%aimport data_manager\n",
    "%aimport csv_loader\n",
    "import pandas as pd\n",
    "from tensorpack import TestDataSpeed\n",
    "\n",
    "image_table_loc = \"../data/standard_images.csv\"\n",
    "annot_table_loc = \"../data/standard_annotations.csv\""
   ]
  },
  {
   "cell_type": "code",
   "execution_count": 68,
   "metadata": {
    "collapsed": true
   },
   "outputs": [],
   "source": [
    "annot_table = csv_loader.load_annot_table(annot_table_loc)\n",
    "image_table = csv_loader.load_image_table(image_table_loc)"
   ]
  },
  {
   "cell_type": "code",
   "execution_count": 69,
   "metadata": {
    "collapsed": true
   },
   "outputs": [],
   "source": [
    "test_scheme = seperation.SeparationScheme(stages=[4, 5, 6], \n",
    "                                          directions=['dorsal', 'lateral'])\n",
    "proportion = {'train': 0.7, 'val': 0.1, 'test': 0.2}"
   ]
  },
  {
   "cell_type": "code",
   "execution_count": 75,
   "metadata": {},
   "outputs": [],
   "source": [
    "data_set, _ = test_scheme.separate(image_table, annot_table, proportion, shuffle=True)"
   ]
  },
  {
   "cell_type": "code",
   "execution_count": 76,
   "metadata": {},
   "outputs": [
    {
     "name": "stdout",
     "output_type": "stream",
     "text": [
      "train: 0.7206511016113121, val: 0.03633673133837553, test: 0.2430121670503124\n"
     ]
    }
   ],
   "source": [
    "train_size = len(data_set.train)\n",
    "val_size = len(data_set.validation)\n",
    "test_size = len(data_set.test)\n",
    "total = train_size + val_size + test_size\n",
    "\n",
    "print(f\"train: {train_size/total}, val: {val_size/total}, test: {test_size/total}\")"
   ]
  },
  {
   "cell_type": "code",
   "execution_count": 80,
   "metadata": {},
   "outputs": [
    {
     "data": {
      "text/html": [
       "<div>\n",
       "<style>\n",
       "    .dataframe thead tr:only-child th {\n",
       "        text-align: right;\n",
       "    }\n",
       "\n",
       "    .dataframe thead th {\n",
       "        text-align: left;\n",
       "    }\n",
       "\n",
       "    .dataframe tbody tr th {\n",
       "        vertical-align: top;\n",
       "    }\n",
       "</style>\n",
       "<table border=\"1\" class=\"dataframe\">\n",
       "  <thead>\n",
       "    <tr style=\"text-align: right;\">\n",
       "      <th></th>\n",
       "      <th></th>\n",
       "      <th>image_url</th>\n",
       "      <th>annotation</th>\n",
       "    </tr>\n",
       "    <tr>\n",
       "      <th>gene</th>\n",
       "      <th>stage</th>\n",
       "      <th></th>\n",
       "      <th></th>\n",
       "    </tr>\n",
       "  </thead>\n",
       "  <tbody>\n",
       "    <tr>\n",
       "      <th>CG13912</th>\n",
       "      <th>4</th>\n",
       "      <td>(30736_s.bmp,)</td>\n",
       "      <td>(procephalic ectoderm primordium, ventral nerv...</td>\n",
       "    </tr>\n",
       "    <tr>\n",
       "      <th>CG13651</th>\n",
       "      <th>5</th>\n",
       "      <td>(39649_s.bmp, 39649_s.bmp, 39651_s.bmp, 39653_...</td>\n",
       "      <td>(ventral nerve cord primordium, brain primordium)</td>\n",
       "    </tr>\n",
       "    <tr>\n",
       "      <th>CG5803</th>\n",
       "      <th>5</th>\n",
       "      <td>(48423_s.bmp, 48424_s.bmp, 48432_s.bmp, 48433_...</td>\n",
       "      <td>(foregut primordium, dorsal epidermis primordi...</td>\n",
       "    </tr>\n",
       "    <tr>\n",
       "      <th>CG1539</th>\n",
       "      <th>4</th>\n",
       "      <td>(54172_s.bmp, 54173_s.bmp, 54174_s.bmp)</td>\n",
       "      <td>(ventral nerve cord primordium P3, anterior en...</td>\n",
       "    </tr>\n",
       "    <tr>\n",
       "      <th>CG1031</th>\n",
       "      <th>6</th>\n",
       "      <td>(57795_s.bmp, 57796_s.bmp)</td>\n",
       "      <td>(germ cell, embryonic midgut)</td>\n",
       "    </tr>\n",
       "  </tbody>\n",
       "</table>\n",
       "</div>"
      ],
      "text/plain": [
       "                                                       image_url  \\\n",
       "gene    stage                                                      \n",
       "CG13912 4                                         (30736_s.bmp,)   \n",
       "CG13651 5      (39649_s.bmp, 39649_s.bmp, 39651_s.bmp, 39653_...   \n",
       "CG5803  5      (48423_s.bmp, 48424_s.bmp, 48432_s.bmp, 48433_...   \n",
       "CG1539  4                (54172_s.bmp, 54173_s.bmp, 54174_s.bmp)   \n",
       "CG1031  6                             (57795_s.bmp, 57796_s.bmp)   \n",
       "\n",
       "                                                      annotation  \n",
       "gene    stage                                                     \n",
       "CG13912 4      (procephalic ectoderm primordium, ventral nerv...  \n",
       "CG13651 5      (ventral nerve cord primordium, brain primordium)  \n",
       "CG5803  5      (foregut primordium, dorsal epidermis primordi...  \n",
       "CG1539  4      (ventral nerve cord primordium P3, anterior en...  \n",
       "CG1031  6                          (germ cell, embryonic midgut)  "
      ]
     },
     "execution_count": 80,
     "metadata": {},
     "output_type": "execute_result"
    }
   ],
   "source": [
    "data_set.train.head()"
   ]
  },
  {
   "cell_type": "code",
   "execution_count": 158,
   "metadata": {},
   "outputs": [],
   "source": [
    "dm = data_manager.DataManager(image_table_loc, annot_table_loc)\n",
    "ds = dm.get_train_stream()"
   ]
  },
  {
   "cell_type": "code",
   "execution_count": 159,
   "metadata": {
    "scrolled": true
   },
   "outputs": [
    {
     "name": "stderr",
     "output_type": "stream",
     "text": [
      "  5%|4         |240/5000[00:21<07:14,10.96it/s]\n"
     ]
    }
   ],
   "source": [
    "TestDataSpeed(ds).start()"
   ]
  },
  {
   "cell_type": "code",
   "execution_count": 103,
   "metadata": {},
   "outputs": [],
   "source": [
    "ds.reset_state()\n",
    "batches = ds.get_data()"
   ]
  },
  {
   "cell_type": "code",
   "execution_count": 161,
   "metadata": {},
   "outputs": [
    {
     "data": {
      "text/plain": [
       "array([[[1, 0, 0, ..., 0, 0, 0]],\n",
       "\n",
       "       [[0, 1, 0, ..., 0, 0, 0]],\n",
       "\n",
       "       [[1, 0, 0, ..., 0, 0, 0]],\n",
       "\n",
       "       ..., \n",
       "       [[0, 0, 0, ..., 0, 0, 0]],\n",
       "\n",
       "       [[0, 0, 0, ..., 0, 0, 0]],\n",
       "\n",
       "       [[0, 0, 0, ..., 0, 0, 0]]])"
      ]
     },
     "execution_count": 161,
     "metadata": {},
     "output_type": "execute_result"
    }
   ],
   "source": [
    "batch = next(batches)\n",
    "batch[2]\n"
   ]
  },
  {
   "cell_type": "code",
   "execution_count": null,
   "metadata": {
    "collapsed": true
   },
   "outputs": [],
   "source": []
  },
  {
   "cell_type": "code",
   "execution_count": null,
   "metadata": {
    "collapsed": true
   },
   "outputs": [],
   "source": []
  }
 ],
 "metadata": {
  "kernelspec": {
   "display_name": "Python 3",
   "language": "python",
   "name": "python3"
  },
  "language_info": {
   "codemirror_mode": {
    "name": "ipython",
    "version": 3
   },
   "file_extension": ".py",
   "mimetype": "text/x-python",
   "name": "python",
   "nbconvert_exporter": "python",
   "pygments_lexer": "ipython3",
   "version": "3.6.2"
  }
 },
 "nbformat": 4,
 "nbformat_minor": 2
}
