{
 "cells": [
  {
   "cell_type": "code",
   "execution_count": 135,
   "metadata": {},
   "outputs": [
    {
     "name": "stdout",
     "output_type": "stream",
     "text": [
      "The autoreload extension is already loaded. To reload it, use:\n",
      "  %reload_ext autoreload\n"
     ]
    }
   ],
   "source": [
    "%load_ext autoreload\n",
    "%autoreload 1\n",
    "%aimport seperation\n",
    "%aimport data_manager\n",
    "%aimport csv_loader\n",
    "import pandas as pd\n",
    "\n",
    "image_table_loc = \"../data/standard_images.csv\"\n",
    "annot_table_loc = \"../data/standard_annotations.csv\""
   ]
  },
  {
   "cell_type": "code",
   "execution_count": 168,
   "metadata": {
    "collapsed": true
   },
   "outputs": [],
   "source": [
    "annot_table = csv_loader.load_annot_table(annot_table_loc)\n",
    "image_table = csv_loader.load_image_table(image_table_loc)"
   ]
  },
  {
   "cell_type": "code",
   "execution_count": 202,
   "metadata": {
    "collapsed": true
   },
   "outputs": [],
   "source": [
    "test_scheme = seperation.SeparationScheme(stages=[4, 5, 6], \n",
    "                                          directions=['dorsal', 'lateral'])\n",
    "proportion = {'train': 0.6, 'val': 0.15, 'test': 0.25}"
   ]
  },
  {
   "cell_type": "code",
   "execution_count": 203,
   "metadata": {},
   "outputs": [],
   "source": [
    "data_set = test_scheme.separate(image_table, annot_table, proportion)"
   ]
  },
  {
   "cell_type": "code",
   "execution_count": 204,
   "metadata": {},
   "outputs": [
    {
     "name": "stdout",
     "output_type": "stream",
     "text": [
      "train: 0.6238079579085827, val: 0.06099967116080237, test: 0.3151923709306149\n"
     ]
    }
   ],
   "source": [
    "train_size = len(data_set.train)\n",
    "val_size = len(data_set.validation)\n",
    "test_size = len(data_set.test)\n",
    "total = train_size + val_size + test_size\n",
    "\n",
    "print(f\"train: {train_size/total}, val: {val_size/total}, test: {test_size/total}\")"
   ]
  },
  {
   "cell_type": "code",
   "execution_count": null,
   "metadata": {
    "collapsed": true
   },
   "outputs": [],
   "source": []
  }
 ],
 "metadata": {
  "kernelspec": {
   "display_name": "Python 3",
   "language": "python",
   "name": "python3"
  },
  "language_info": {
   "codemirror_mode": {
    "name": "ipython",
    "version": 3
   },
   "file_extension": ".py",
   "mimetype": "text/x-python",
   "name": "python",
   "nbconvert_exporter": "python",
   "pygments_lexer": "ipython3",
   "version": "3.6.2"
  }
 },
 "nbformat": 4,
 "nbformat_minor": 2
}
