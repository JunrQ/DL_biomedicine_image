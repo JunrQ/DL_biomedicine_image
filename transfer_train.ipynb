{
 "cells": [
  {
   "cell_type": "code",
   "execution_count": 2,
   "metadata": {},
   "outputs": [
    {
     "name": "stdout",
     "output_type": "stream",
     "text": [
      "The autoreload extension is already loaded. To reload it, use:\n",
      "  %reload_ext autoreload\n",
      "\u001b[32m[1029 13:41:43 @logger.py:94]\u001b[0m \u001b[5m\u001b[31mWRN\u001b[0m Log directory ./train_log/transfer/all_stages-g2/ exists! Please either backup/delete it, or use a new directory.\n",
      "\u001b[32m[1029 13:41:43 @logger.py:96]\u001b[0m \u001b[5m\u001b[31mWRN\u001b[0m If you're resuming from a previous run you can choose to keep it.\n",
      "\u001b[32m[1029 13:41:43 @logger.py:97]\u001b[0m Select Action: k (keep) / b (backup) / d (delete) / n (new) / q (quit):\n",
      "d\n",
      "\u001b[32m[1029 13:41:45 @logger.py:74]\u001b[0m Argv: /home/fuxiaofeng/Applications/anaconda3/lib/python3.6/site-packages/ipykernel_launcher.py -f /run/user/1012/jupyter/kernel-453e813e-e305-4457-bca8-d100773d6d44.json\n"
     ]
    }
   ],
   "source": [
    "%load_ext autoreload\n",
    "%autoreload 2\n",
    "\n",
    "from config.rnn import default\n",
    "from models import RNN\n",
    "import numpy as np\n",
    "from functional import seq\n",
    "import tensorflow as tf\n",
    "from tensorpack import (TrainConfig, SyncMultiGPUTrainerParameterServer as Trainer, \n",
    "                        PredictConfig, MultiProcessDatasetPredictor as Predictor,\n",
    "                        SaverRestore, logger)\n",
    "from tensorpack.callbacks import (ScheduledHyperParamSetter, MaxSaver, ModelSaver,\n",
    "                                  DataParallelInferenceRunner as InfRunner)\n",
    "from tensorpack.predict import SimpleDatasetPredictor\n",
    "from tensorpack.tfutils.common import get_default_sess_config\n",
    "from utils import DataManager\n",
    "from utils.validation import (Accumulator, AggregateMetric, calcu_metrics)\n",
    "\n",
    "resnet_loc = \"./data/resnet_v2_101/resnet_v2_101.ckpt\"\n",
    "log_dir = './train_log/transfer/all_stages-g2/'\n",
    "logger.set_logger_dir(log_dir)"
   ]
  },
  {
   "cell_type": "code",
   "execution_count": 3,
   "metadata": {
    "collapsed": true
   },
   "outputs": [],
   "source": [
    "config = default\n",
    "ignore_restore = ['learning_rate', 'global_step']\n",
    "save_name = \"all-stages-max-micro-auc.tfmodel\""
   ]
  },
  {
   "cell_type": "markdown",
   "metadata": {},
   "source": [
    "#### Split train set and test set"
   ]
  },
  {
   "cell_type": "code",
   "execution_count": 4,
   "metadata": {},
   "outputs": [],
   "source": [
    "config.stages = [2, 3, 4, 5, 6]\n",
    "config.proportion = {'train': 0.55, 'val': 0.0, 'test': 0.45}\n",
    "config.annotation_number = None\n",
    "dm = DataManager.from_config(config)\n",
    "train_set = dm.get_train_set()\n",
    "test_set = dm.get_test_set()"
   ]
  },
  {
   "cell_type": "markdown",
   "metadata": {},
   "source": [
    "#### Gether data to train rnn"
   ]
  },
  {
   "cell_type": "code",
   "execution_count": 5,
   "metadata": {},
   "outputs": [
    {
     "data": {
      "text/plain": [
       "{'test': (4049, 17464), 'train': (3583, 16164), 'val': (829, 3651)}"
      ]
     },
     "execution_count": 5,
     "metadata": {},
     "output_type": "execute_result"
    }
   ],
   "source": [
    "config.proportion = {'train': 0.8, 'val':0.2, 'test': 0.0}\n",
    "config.stages = [2, 3, 4, 5, 6]\n",
    "config.annotation_number = 30\n",
    "dm = DataManager.from_dataset(train_set, test_set, config)\n",
    "dm.get_num_info()"
   ]
  },
  {
   "cell_type": "code",
   "execution_count": 5,
   "metadata": {},
   "outputs": [
    {
     "data": {
      "text/html": [
       "<div>\n",
       "<style>\n",
       "    .dataframe thead tr:only-child th {\n",
       "        text-align: right;\n",
       "    }\n",
       "\n",
       "    .dataframe thead th {\n",
       "        text-align: left;\n",
       "    }\n",
       "\n",
       "    .dataframe tbody tr th {\n",
       "        vertical-align: top;\n",
       "    }\n",
       "</style>\n",
       "<table border=\"1\" class=\"dataframe\">\n",
       "  <thead>\n",
       "    <tr style=\"text-align: right;\">\n",
       "      <th></th>\n",
       "      <th>train</th>\n",
       "      <th>val</th>\n",
       "      <th>test</th>\n",
       "    </tr>\n",
       "  </thead>\n",
       "  <tbody>\n",
       "    <tr>\n",
       "      <th>embryonic dorsal epidermis</th>\n",
       "      <td>12.124542</td>\n",
       "      <td>11.560606</td>\n",
       "      <td>12.725424</td>\n",
       "    </tr>\n",
       "    <tr>\n",
       "      <th>procephalic ectoderm primordium</th>\n",
       "      <td>21.677215</td>\n",
       "      <td>20.815789</td>\n",
       "      <td>23.391566</td>\n",
       "    </tr>\n",
       "    <tr>\n",
       "      <th>embryonic head epidermis</th>\n",
       "      <td>18.472826</td>\n",
       "      <td>17.021739</td>\n",
       "      <td>19.245000</td>\n",
       "    </tr>\n",
       "    <tr>\n",
       "      <th>brain primordium</th>\n",
       "      <td>12.833977</td>\n",
       "      <td>12.590164</td>\n",
       "      <td>13.257042</td>\n",
       "    </tr>\n",
       "    <tr>\n",
       "      <th>ubiquitous</th>\n",
       "      <td>1.611516</td>\n",
       "      <td>1.467262</td>\n",
       "      <td>1.702937</td>\n",
       "    </tr>\n",
       "    <tr>\n",
       "      <th>embryonic ventral epidermis</th>\n",
       "      <td>13.684426</td>\n",
       "      <td>13.050847</td>\n",
       "      <td>14.573077</td>\n",
       "    </tr>\n",
       "    <tr>\n",
       "      <th>embryonic central nervous system</th>\n",
       "      <td>13.106299</td>\n",
       "      <td>13.050847</td>\n",
       "      <td>14.513410</td>\n",
       "    </tr>\n",
       "    <tr>\n",
       "      <th>dorsal prothoracic pharyngeal muscle</th>\n",
       "      <td>19.474286</td>\n",
       "      <td>19.219512</td>\n",
       "      <td>20.652406</td>\n",
       "    </tr>\n",
       "    <tr>\n",
       "      <th>posterior midgut primordium</th>\n",
       "      <td>8.140306</td>\n",
       "      <td>8.109890</td>\n",
       "      <td>8.416279</td>\n",
       "    </tr>\n",
       "    <tr>\n",
       "      <th>embryonic/larval muscle system</th>\n",
       "      <td>12.780769</td>\n",
       "      <td>13.050847</td>\n",
       "      <td>13.108014</td>\n",
       "    </tr>\n",
       "    <tr>\n",
       "      <th>anterior endoderm primordium</th>\n",
       "      <td>17.005025</td>\n",
       "      <td>16.270833</td>\n",
       "      <td>17.658986</td>\n",
       "    </tr>\n",
       "    <tr>\n",
       "      <th>cellular blastoderm</th>\n",
       "      <td>9.538235</td>\n",
       "      <td>9.109756</td>\n",
       "      <td>9.655263</td>\n",
       "    </tr>\n",
       "    <tr>\n",
       "      <th>posterior endoderm primordium</th>\n",
       "      <td>15.981043</td>\n",
       "      <td>14.942308</td>\n",
       "      <td>16.915929</td>\n",
       "    </tr>\n",
       "    <tr>\n",
       "      <th>trunk mesoderm primordium</th>\n",
       "      <td>6.823144</td>\n",
       "      <td>6.271930</td>\n",
       "      <td>7.081836</td>\n",
       "    </tr>\n",
       "    <tr>\n",
       "      <th>embryonic foregut</th>\n",
       "      <td>21.117284</td>\n",
       "      <td>21.405405</td>\n",
       "      <td>21.875706</td>\n",
       "    </tr>\n",
       "    <tr>\n",
       "      <th>embryonic midgut</th>\n",
       "      <td>6.011742</td>\n",
       "      <td>6.146552</td>\n",
       "      <td>6.128521</td>\n",
       "    </tr>\n",
       "    <tr>\n",
       "      <th>faint ubiquitous</th>\n",
       "      <td>4.082270</td>\n",
       "      <td>3.764368</td>\n",
       "      <td>4.313648</td>\n",
       "    </tr>\n",
       "    <tr>\n",
       "      <th>amnioserosa</th>\n",
       "      <td>20.584337</td>\n",
       "      <td>21.405405</td>\n",
       "      <td>21.875706</td>\n",
       "    </tr>\n",
       "    <tr>\n",
       "      <th>yolk nuclei</th>\n",
       "      <td>12.270370</td>\n",
       "      <td>11.373134</td>\n",
       "      <td>12.679054</td>\n",
       "    </tr>\n",
       "    <tr>\n",
       "      <th>foregut primordium</th>\n",
       "      <td>19.474286</td>\n",
       "      <td>19.219512</td>\n",
       "      <td>20.423280</td>\n",
       "    </tr>\n",
       "    <tr>\n",
       "      <th>ventral nerve cord</th>\n",
       "      <td>8.657682</td>\n",
       "      <td>8.314607</td>\n",
       "      <td>8.803874</td>\n",
       "    </tr>\n",
       "    <tr>\n",
       "      <th>head mesoderm primordium P2</th>\n",
       "      <td>16.478049</td>\n",
       "      <td>14.942308</td>\n",
       "      <td>17.075893</td>\n",
       "    </tr>\n",
       "    <tr>\n",
       "      <th>embryonic hindgut</th>\n",
       "      <td>10.447284</td>\n",
       "      <td>10.842857</td>\n",
       "      <td>10.979290</td>\n",
       "    </tr>\n",
       "    <tr>\n",
       "      <th>posterior endoderm primordium P2</th>\n",
       "      <td>19.953216</td>\n",
       "      <td>20.815789</td>\n",
       "      <td>21.620112</td>\n",
       "    </tr>\n",
       "    <tr>\n",
       "      <th>trunk mesoderm primordium P2</th>\n",
       "      <td>18.579235</td>\n",
       "      <td>18.738095</td>\n",
       "      <td>19.553299</td>\n",
       "    </tr>\n",
       "    <tr>\n",
       "      <th>head mesoderm primordium P4</th>\n",
       "      <td>19.953216</td>\n",
       "      <td>20.256410</td>\n",
       "      <td>21.494444</td>\n",
       "    </tr>\n",
       "    <tr>\n",
       "      <th>anterior midgut primordium</th>\n",
       "      <td>8.478836</td>\n",
       "      <td>8.528736</td>\n",
       "      <td>8.924020</td>\n",
       "    </tr>\n",
       "    <tr>\n",
       "      <th>hindgut proper primordium</th>\n",
       "      <td>15.821596</td>\n",
       "      <td>16.270833</td>\n",
       "      <td>16.452586</td>\n",
       "    </tr>\n",
       "    <tr>\n",
       "      <th>ventral nerve cord primordium</th>\n",
       "      <td>14.118143</td>\n",
       "      <td>14.351852</td>\n",
       "      <td>14.573077</td>\n",
       "    </tr>\n",
       "    <tr>\n",
       "      <th>embryonic brain</th>\n",
       "      <td>8.980501</td>\n",
       "      <td>8.639535</td>\n",
       "      <td>9.047146</td>\n",
       "    </tr>\n",
       "  </tbody>\n",
       "</table>\n",
       "</div>"
      ],
      "text/plain": [
       "                                          train        val       test\n",
       "embryonic dorsal epidermis            12.124542  11.560606  12.725424\n",
       "procephalic ectoderm primordium       21.677215  20.815789  23.391566\n",
       "embryonic head epidermis              18.472826  17.021739  19.245000\n",
       "brain primordium                      12.833977  12.590164  13.257042\n",
       "ubiquitous                             1.611516   1.467262   1.702937\n",
       "embryonic ventral epidermis           13.684426  13.050847  14.573077\n",
       "embryonic central nervous system      13.106299  13.050847  14.513410\n",
       "dorsal prothoracic pharyngeal muscle  19.474286  19.219512  20.652406\n",
       "posterior midgut primordium            8.140306   8.109890   8.416279\n",
       "embryonic/larval muscle system        12.780769  13.050847  13.108014\n",
       "anterior endoderm primordium          17.005025  16.270833  17.658986\n",
       "cellular blastoderm                    9.538235   9.109756   9.655263\n",
       "posterior endoderm primordium         15.981043  14.942308  16.915929\n",
       "trunk mesoderm primordium              6.823144   6.271930   7.081836\n",
       "embryonic foregut                     21.117284  21.405405  21.875706\n",
       "embryonic midgut                       6.011742   6.146552   6.128521\n",
       "faint ubiquitous                       4.082270   3.764368   4.313648\n",
       "amnioserosa                           20.584337  21.405405  21.875706\n",
       "yolk nuclei                           12.270370  11.373134  12.679054\n",
       "foregut primordium                    19.474286  19.219512  20.423280\n",
       "ventral nerve cord                     8.657682   8.314607   8.803874\n",
       "head mesoderm primordium P2           16.478049  14.942308  17.075893\n",
       "embryonic hindgut                     10.447284  10.842857  10.979290\n",
       "posterior endoderm primordium P2      19.953216  20.815789  21.620112\n",
       "trunk mesoderm primordium P2          18.579235  18.738095  19.553299\n",
       "head mesoderm primordium P4           19.953216  20.256410  21.494444\n",
       "anterior midgut primordium             8.478836   8.528736   8.924020\n",
       "hindgut proper primordium             15.821596  16.270833  16.452586\n",
       "ventral nerve cord primordium         14.118143  14.351852  14.573077\n",
       "embryonic brain                        8.980501   8.639535   9.047146"
      ]
     },
     "execution_count": 5,
     "metadata": {},
     "output_type": "execute_result"
    }
   ],
   "source": [
    "dm.get_imbalance_ratio()"
   ]
  },
  {
   "cell_type": "code",
   "execution_count": 6,
   "metadata": {
    "scrolled": true
   },
   "outputs": [],
   "source": [
    "config.weight_decay = 0.0\n",
    "config.dropout_keep_prob = 0.5\n",
    "config.gamma = 2\n",
    "config.use_glimpse = True\n",
    "config.read_time = 5\n",
    "config.batch_size = 64\n",
    "config.use_hidden_dense = False\n",
    "\n",
    "threshold = 0.5\n",
    "train_data = dm.get_train_stream()\n",
    "val_data = dm.get_validation_stream()\n",
    "model = RNN(config, is_finetuning=False)"
   ]
  },
  {
   "cell_type": "code",
   "execution_count": 7,
   "metadata": {},
   "outputs": [
    {
     "name": "stdout",
     "output_type": "stream",
     "text": [
      "\u001b[32m[1029 13:42:09 @inference_runner.py:83]\u001b[0m InferenceRunner will eval on an InputSource of size 12\n",
      "\u001b[32m[1029 13:42:10 @input_source.py:179]\u001b[0m Setting up the queue 'QueueInput/input_queue' for CPU prefetching ...\n",
      "\u001b[32m[1029 13:42:10 @input_source.py:460]\u001b[0m Setting up StagingArea for GPU prefetching ...\n",
      "\u001b[32m[1029 13:42:10 @training.py:41]\u001b[0m Training a model of 2 towers\n",
      "\u001b[32m[1029 13:42:10 @training.py:92]\u001b[0m Building graph for training tower 0 on device LeastLoadedDeviceSetter-/gpu:0...\n",
      "INFO:tensorflow:Scale of 0 disables regularizer.\n",
      "INFO:tensorflow:Scale of 0 disables regularizer.\n",
      "INFO:tensorflow:Scale of 0 disables regularizer.\n",
      "INFO:tensorflow:Scale of 0 disables regularizer.\n",
      "INFO:tensorflow:Scale of 0 disables regularizer.\n",
      "INFO:tensorflow:Scale of 0 disables regularizer.\n",
      "INFO:tensorflow:Scale of 0 disables regularizer.\n",
      "INFO:tensorflow:Scale of 0 disables regularizer.\n",
      "INFO:tensorflow:Scale of 0 disables regularizer.\n",
      "INFO:tensorflow:Scale of 0 disables regularizer.\n",
      "INFO:tensorflow:Scale of 0 disables regularizer.\n",
      "INFO:tensorflow:Scale of 0 disables regularizer.\n",
      "\u001b[32m[1029 13:42:15 @training.py:92]\u001b[0m Building graph for training tower 1 on device LeastLoadedDeviceSetter-/gpu:1...\n",
      "INFO:tensorflow:Scale of 0 disables regularizer.\n",
      "INFO:tensorflow:Scale of 0 disables regularizer.\n",
      "INFO:tensorflow:Scale of 0 disables regularizer.\n",
      "INFO:tensorflow:Scale of 0 disables regularizer.\n",
      "INFO:tensorflow:Scale of 0 disables regularizer.\n",
      "INFO:tensorflow:Scale of 0 disables regularizer.\n",
      "INFO:tensorflow:Scale of 0 disables regularizer.\n",
      "INFO:tensorflow:Scale of 0 disables regularizer.\n",
      "INFO:tensorflow:Scale of 0 disables regularizer.\n",
      "INFO:tensorflow:Scale of 0 disables regularizer.\n",
      "INFO:tensorflow:Scale of 0 disables regularizer.\n",
      "INFO:tensorflow:Scale of 0 disables regularizer.\n",
      "\u001b[32m[1029 13:42:18 @model_utils.py:47]\u001b[0m \u001b[36mModel Parameters: \n",
      "\u001b[0mname                            shape                  dim  device\n",
      "------------------------------  -----------------  -------  -------------\n",
      "custom_cnn/conv1/weights:0      [3, 3, 1024, 512]  4718592  /device:GPU:1\n",
      "custom_cnn/conv1/biases:0       [512]                  512  /device:GPU:0\n",
      "custom_cnn/batch_norm1/beta:0   [512]                  512  /device:GPU:0\n",
      "custom_cnn/batch_norm1/gamma:0  [512]                  512  /device:GPU:0\n",
      "rnn/process/fc_read/weights:0   [1024, 1]             1024  /device:GPU:0\n",
      "rnn/process/fc_read/biases:0    [1]                      1  /device:GPU:0\n",
      "rnn/process/fc_fg/weights:0     [1024, 512]         524288  /device:GPU:0\n",
      "rnn/process/fc_fg/biases:0      [512]                  512  /device:GPU:0\n",
      "rnn/process/fc_ig/weights:0     [1024, 512]         524288  /device:GPU:0\n",
      "rnn/process/fc_ig/biases:0      [512]                  512  /device:GPU:0\n",
      "logits/weights:0                [512, 30]            15360  /device:GPU:0\n",
      "logits/biases:0                 [30]                    30  /device:GPU:0\u001b[36m\n",
      "Total #vars=12, #param=5786143 (22.07 MB assuming all float32)\u001b[0m\n",
      "\u001b[32m[1029 13:42:18 @base.py:207]\u001b[0m Setup callbacks graph ...\n",
      "\u001b[32m[1029 13:42:18 @input_source.py:179]\u001b[0m Setting up the queue 'DataParallelInferenceRunner/QueueInput/input_queue' for CPU prefetching ...\n",
      "\u001b[32m[1029 13:42:18 @predictor_factory.py:54]\u001b[0m Building predictor tower 'InferenceTower0' on device /gpu:0 ...\n",
      "INFO:tensorflow:Scale of 0 disables regularizer.\n",
      "INFO:tensorflow:Scale of 0 disables regularizer.\n",
      "INFO:tensorflow:Scale of 0 disables regularizer.\n",
      "INFO:tensorflow:Scale of 0 disables regularizer.\n",
      "INFO:tensorflow:Scale of 0 disables regularizer.\n",
      "INFO:tensorflow:Scale of 0 disables regularizer.\n",
      "INFO:tensorflow:Scale of 0 disables regularizer.\n",
      "INFO:tensorflow:Scale of 0 disables regularizer.\n",
      "INFO:tensorflow:Scale of 0 disables regularizer.\n",
      "INFO:tensorflow:Scale of 0 disables regularizer.\n",
      "INFO:tensorflow:Scale of 0 disables regularizer.\n",
      "INFO:tensorflow:Scale of 0 disables regularizer.\n",
      "\u001b[32m[1029 13:42:20 @predictor_factory.py:54]\u001b[0m Building predictor tower 'InferenceTower1' on device /gpu:1 ...\n",
      "INFO:tensorflow:Scale of 0 disables regularizer.\n",
      "INFO:tensorflow:Scale of 0 disables regularizer.\n",
      "INFO:tensorflow:Scale of 0 disables regularizer.\n",
      "INFO:tensorflow:Scale of 0 disables regularizer.\n",
      "INFO:tensorflow:Scale of 0 disables regularizer.\n",
      "INFO:tensorflow:Scale of 0 disables regularizer.\n",
      "INFO:tensorflow:Scale of 0 disables regularizer.\n",
      "INFO:tensorflow:Scale of 0 disables regularizer.\n",
      "INFO:tensorflow:Scale of 0 disables regularizer.\n",
      "INFO:tensorflow:Scale of 0 disables regularizer.\n",
      "INFO:tensorflow:Scale of 0 disables regularizer.\n",
      "INFO:tensorflow:Scale of 0 disables regularizer.\n",
      "\u001b[32m[1029 13:42:22 @summary.py:34]\u001b[0m Maintain moving average summary of 1 tensors.\n",
      "\u001b[32m[1029 13:42:22 @graph.py:91]\u001b[0m Applying collection UPDATE_OPS of 406 ops.\n",
      "\u001b[32m[1029 13:42:25 @sessinit.py:136]\u001b[0m Variable global_step:0 in the graph will be not loaded from the checkpoint!\n",
      "\u001b[32m[1029 13:42:25 @sessinit.py:89]\u001b[0m \u001b[5m\u001b[31mWRN\u001b[0m The following variables are in the graph, but not found in the checkpoint: custom_cnn/conv1/weights, custom_cnn/conv1/biases, custom_cnn/batch_norm1/beta, custom_cnn/batch_norm1/gamma, custom_cnn/batch_norm1/moving_mean, custom_cnn/batch_norm1/moving_variance, rnn/process/fc_read/weights, rnn/process/fc_read/biases, rnn/process/fc_fg/weights, rnn/process/fc_fg/biases, rnn/process/fc_ig/weights, rnn/process/fc_ig/biases, logits/weights, logits/biases, learning_rate, beta1_power, beta2_power\n",
      "\u001b[32m[1029 13:42:25 @sessinit.py:89]\u001b[0m \u001b[5m\u001b[31mWRN\u001b[0m The following variables are in the checkpoint, but not found in the graph: global_step:0, resnet_v2_101/block1/unit_1/bottleneck_v2/conv1/BatchNorm/beta/ExponentialMovingAverage:0, resnet_v2_101/block1/unit_1/bottleneck_v2/conv1/BatchNorm/gamma/ExponentialMovingAverage:0, resnet_v2_101/block1/unit_1/bottleneck_v2/conv1/BatchNorm/moving_mean/ExponentialMovingAverage:0, resnet_v2_101/block1/unit_1/bottleneck_v2/conv1/BatchNorm/moving_variance/ExponentialMovingAverage:0, resnet_v2_101/block1/unit_1/bottleneck_v2/conv1/weights/ExponentialMovingAverage:0, resnet_v2_101/block1/unit_1/bottleneck_v2/conv2/BatchNorm/beta/ExponentialMovingAverage:0, resnet_v2_101/block1/unit_1/bottleneck_v2/conv2/BatchNorm/gamma/ExponentialMovingAverage:0, resnet_v2_101/block1/unit_1/bottleneck_v2/conv2/BatchNorm/moving_mean/ExponentialMovingAverage:0, resnet_v2_101/block1/unit_1/bottleneck_v2/conv2/BatchNorm/moving_variance/ExponentialMovingAverage:0, resnet_v2_101/block1/unit_1/bottleneck_v2/conv2/weights/ExponentialMovingAverage:0, resnet_v2_101/block1/unit_1/bottleneck_v2/conv3/biases/ExponentialMovingAverage:0, resnet_v2_101/block1/unit_1/bottleneck_v2/conv3/weights/ExponentialMovingAverage:0, resnet_v2_101/block1/unit_1/bottleneck_v2/preact/beta/ExponentialMovingAverage:0, resnet_v2_101/block1/unit_1/bottleneck_v2/preact/gamma/ExponentialMovingAverage:0, resnet_v2_101/block1/unit_1/bottleneck_v2/preact/moving_mean/ExponentialMovingAverage:0, resnet_v2_101/block1/unit_1/bottleneck_v2/preact/moving_variance/ExponentialMovingAverage:0, resnet_v2_101/block1/unit_1/bottleneck_v2/shortcut/biases/ExponentialMovingAverage:0, resnet_v2_101/block1/unit_1/bottleneck_v2/shortcut/weights/ExponentialMovingAverage:0, resnet_v2_101/block1/unit_2/bottleneck_v2/conv1/BatchNorm/beta/ExponentialMovingAverage:0, resnet_v2_101/block1/unit_2/bottleneck_v2/conv1/BatchNorm/gamma/ExponentialMovingAverage:0, resnet_v2_101/block1/unit_2/bottleneck_v2/conv1/BatchNorm/moving_mean/ExponentialMovingAverage:0, resnet_v2_101/block1/unit_2/bottleneck_v2/conv1/BatchNorm/moving_variance/ExponentialMovingAverage:0, resnet_v2_101/block1/unit_2/bottleneck_v2/conv1/weights/ExponentialMovingAverage:0, resnet_v2_101/block1/unit_2/bottleneck_v2/conv2/BatchNorm/beta/ExponentialMovingAverage:0, resnet_v2_101/block1/unit_2/bottleneck_v2/conv2/BatchNorm/gamma/ExponentialMovingAverage:0, resnet_v2_101/block1/unit_2/bottleneck_v2/conv2/BatchNorm/moving_mean/ExponentialMovingAverage:0, resnet_v2_101/block1/unit_2/bottleneck_v2/conv2/BatchNorm/moving_variance/ExponentialMovingAverage:0, resnet_v2_101/block1/unit_2/bottleneck_v2/conv2/weights/ExponentialMovingAverage:0, resnet_v2_101/block1/unit_2/bottleneck_v2/conv3/biases/ExponentialMovingAverage:0, resnet_v2_101/block1/unit_2/bottleneck_v2/conv3/weights/ExponentialMovingAverage:0, resnet_v2_101/block1/unit_2/bottleneck_v2/preact/beta/ExponentialMovingAverage:0, resnet_v2_101/block1/unit_2/bottleneck_v2/preact/gamma/ExponentialMovingAverage:0, resnet_v2_101/block1/unit_2/bottleneck_v2/preact/moving_mean/ExponentialMovingAverage:0, resnet_v2_101/block1/unit_2/bottleneck_v2/preact/moving_variance/ExponentialMovingAverage:0, resnet_v2_101/block1/unit_3/bottleneck_v2/conv1/BatchNorm/beta/ExponentialMovingAverage:0, resnet_v2_101/block1/unit_3/bottleneck_v2/conv1/BatchNorm/gamma/ExponentialMovingAverage:0, resnet_v2_101/block1/unit_3/bottleneck_v2/conv1/BatchNorm/moving_mean/ExponentialMovingAverage:0, resnet_v2_101/block1/unit_3/bottleneck_v2/conv1/BatchNorm/moving_variance/ExponentialMovingAverage:0, resnet_v2_101/block1/unit_3/bottleneck_v2/conv1/weights/ExponentialMovingAverage:0, resnet_v2_101/block1/unit_3/bottleneck_v2/conv2/BatchNorm/beta/ExponentialMovingAverage:0, resnet_v2_101/block1/unit_3/bottleneck_v2/conv2/BatchNorm/gamma/ExponentialMovingAverage:0, resnet_v2_101/block1/unit_3/bottleneck_v2/conv2/BatchNorm/moving_mean/ExponentialMovingAverage:0, resnet_v2_101/block1/unit_3/bottleneck_v2/conv2/BatchNorm/moving_variance/ExponentialMovingAverage:0, resnet_v2_101/block1/unit_3/bottleneck_v2/conv2/weights/ExponentialMovingAverage:0, resnet_v2_101/block1/unit_3/bottleneck_v2/conv3/biases/ExponentialMovingAverage:0, resnet_v2_101/block1/unit_3/bottleneck_v2/conv3/weights/ExponentialMovingAverage:0, resnet_v2_101/block1/unit_3/bottleneck_v2/preact/beta/ExponentialMovingAverage:0, resnet_v2_101/block1/unit_3/bottleneck_v2/preact/gamma/ExponentialMovingAverage:0, resnet_v2_101/block1/unit_3/bottleneck_v2/preact/moving_mean/ExponentialMovingAverage:0, resnet_v2_101/block1/unit_3/bottleneck_v2/preact/moving_variance/ExponentialMovingAverage:0, resnet_v2_101/block2/unit_1/bottleneck_v2/conv1/BatchNorm/beta/ExponentialMovingAverage:0, resnet_v2_101/block2/unit_1/bottleneck_v2/conv1/BatchNorm/gamma/ExponentialMovingAverage:0, resnet_v2_101/block2/unit_1/bottleneck_v2/conv1/BatchNorm/moving_mean/ExponentialMovingAverage:0, resnet_v2_101/block2/unit_1/bottleneck_v2/conv1/BatchNorm/moving_variance/ExponentialMovingAverage:0, resnet_v2_101/block2/unit_1/bottleneck_v2/conv1/weights/ExponentialMovingAverage:0, resnet_v2_101/block2/unit_1/bottleneck_v2/conv2/BatchNorm/beta/ExponentialMovingAverage:0, resnet_v2_101/block2/unit_1/bottleneck_v2/conv2/BatchNorm/gamma/ExponentialMovingAverage:0, resnet_v2_101/block2/unit_1/bottleneck_v2/conv2/BatchNorm/moving_mean/ExponentialMovingAverage:0, resnet_v2_101/block2/unit_1/bottleneck_v2/conv2/BatchNorm/moving_variance/ExponentialMovingAverage:0, resnet_v2_101/block2/unit_1/bottleneck_v2/conv2/weights/ExponentialMovingAverage:0, resnet_v2_101/block2/unit_1/bottleneck_v2/conv3/biases/ExponentialMovingAverage:0, resnet_v2_101/block2/unit_1/bottleneck_v2/conv3/weights/ExponentialMovingAverage:0, resnet_v2_101/block2/unit_1/bottleneck_v2/preact/beta/ExponentialMovingAverage:0, resnet_v2_101/block2/unit_1/bottleneck_v2/preact/gamma/ExponentialMovingAverage:0, resnet_v2_101/block2/unit_1/bottleneck_v2/preact/moving_mean/ExponentialMovingAverage:0, resnet_v2_101/block2/unit_1/bottleneck_v2/preact/moving_variance/ExponentialMovingAverage:0, resnet_v2_101/block2/unit_1/bottleneck_v2/shortcut/biases/ExponentialMovingAverage:0, resnet_v2_101/block2/unit_1/bottleneck_v2/shortcut/weights/ExponentialMovingAverage:0, resnet_v2_101/block2/unit_2/bottleneck_v2/conv1/BatchNorm/beta/ExponentialMovingAverage:0, resnet_v2_101/block2/unit_2/bottleneck_v2/conv1/BatchNorm/gamma/ExponentialMovingAverage:0, resnet_v2_101/block2/unit_2/bottleneck_v2/conv1/BatchNorm/moving_mean/ExponentialMovingAverage:0, resnet_v2_101/block2/unit_2/bottleneck_v2/conv1/BatchNorm/moving_variance/ExponentialMovingAverage:0, resnet_v2_101/block2/unit_2/bottleneck_v2/conv1/weights/ExponentialMovingAverage:0, resnet_v2_101/block2/unit_2/bottleneck_v2/conv2/BatchNorm/beta/ExponentialMovingAverage:0, resnet_v2_101/block2/unit_2/bottleneck_v2/conv2/BatchNorm/gamma/ExponentialMovingAverage:0, resnet_v2_101/block2/unit_2/bottleneck_v2/conv2/BatchNorm/moving_mean/ExponentialMovingAverage:0, resnet_v2_101/block2/unit_2/bottleneck_v2/conv2/BatchNorm/moving_variance/ExponentialMovingAverage:0, resnet_v2_101/block2/unit_2/bottleneck_v2/conv2/weights/ExponentialMovingAverage:0, resnet_v2_101/block2/unit_2/bottleneck_v2/conv3/biases/ExponentialMovingAverage:0, resnet_v2_101/block2/unit_2/bottleneck_v2/conv3/weights/ExponentialMovingAverage:0, resnet_v2_101/block2/unit_2/bottleneck_v2/preact/beta/ExponentialMovingAverage:0, resnet_v2_101/block2/unit_2/bottleneck_v2/preact/gamma/ExponentialMovingAverage:0, resnet_v2_101/block2/unit_2/bottleneck_v2/preact/moving_mean/ExponentialMovingAverage:0, resnet_v2_101/block2/unit_2/bottleneck_v2/preact/moving_variance/ExponentialMovingAverage:0, resnet_v2_101/block2/unit_3/bottleneck_v2/conv1/BatchNorm/beta/ExponentialMovingAverage:0, resnet_v2_101/block2/unit_3/bottleneck_v2/conv1/BatchNorm/gamma/ExponentialMovingAverage:0, resnet_v2_101/block2/unit_3/bottleneck_v2/conv1/BatchNorm/moving_mean/ExponentialMovingAverage:0, resnet_v2_101/block2/unit_3/bottleneck_v2/conv1/BatchNorm/moving_variance/ExponentialMovingAverage:0, resnet_v2_101/block2/unit_3/bottleneck_v2/conv1/weights/ExponentialMovingAverage:0, resnet_v2_101/block2/unit_3/bottleneck_v2/conv2/BatchNorm/beta/ExponentialMovingAverage:0, resnet_v2_101/block2/unit_3/bottleneck_v2/conv2/BatchNorm/gamma/ExponentialMovingAverage:0, resnet_v2_101/block2/unit_3/bottleneck_v2/conv2/BatchNorm/moving_mean/ExponentialMovingAverage:0, resnet_v2_101/block2/unit_3/bottleneck_v2/conv2/BatchNorm/moving_variance/ExponentialMovingAverage:0, resnet_v2_101/block2/unit_3/bottleneck_v2/conv2/weights/ExponentialMovingAverage:0, resnet_v2_101/block2/unit_3/bottleneck_v2/conv3/biases/ExponentialMovingAverage:0, resnet_v2_101/block2/unit_3/bottleneck_v2/conv3/weights/ExponentialMovingAverage:0, resnet_v2_101/block2/unit_3/bottleneck_v2/preact/beta/ExponentialMovingAverage:0, resnet_v2_101/block2/unit_3/bottleneck_v2/preact/gamma/ExponentialMovingAverage:0, resnet_v2_101/block2/unit_3/bottleneck_v2/preact/moving_mean/ExponentialMovingAverage:0, resnet_v2_101/block2/unit_3/bottleneck_v2/preact/moving_variance/ExponentialMovingAverage:0, resnet_v2_101/block2/unit_4/bottleneck_v2/conv1/BatchNorm/beta/ExponentialMovingAverage:0, resnet_v2_101/block2/unit_4/bottleneck_v2/conv1/BatchNorm/gamma/ExponentialMovingAverage:0, resnet_v2_101/block2/unit_4/bottleneck_v2/conv1/BatchNorm/moving_mean/ExponentialMovingAverage:0, resnet_v2_101/block2/unit_4/bottleneck_v2/conv1/BatchNorm/moving_variance/ExponentialMovingAverage:0, resnet_v2_101/block2/unit_4/bottleneck_v2/conv1/weights/ExponentialMovingAverage:0, resnet_v2_101/block2/unit_4/bottleneck_v2/conv2/BatchNorm/beta/ExponentialMovingAverage:0, resnet_v2_101/block2/unit_4/bottleneck_v2/conv2/BatchNorm/gamma/ExponentialMovingAverage:0, resnet_v2_101/block2/unit_4/bottleneck_v2/conv2/BatchNorm/moving_mean/ExponentialMovingAverage:0, resnet_v2_101/block2/unit_4/bottleneck_v2/conv2/BatchNorm/moving_variance/ExponentialMovingAverage:0, resnet_v2_101/block2/unit_4/bottleneck_v2/conv2/weights/ExponentialMovingAverage:0, resnet_v2_101/block2/unit_4/bottleneck_v2/conv3/biases/ExponentialMovingAverage:0, resnet_v2_101/block2/unit_4/bottleneck_v2/conv3/weights/ExponentialMovingAverage:0, resnet_v2_101/block2/unit_4/bottleneck_v2/preact/beta/ExponentialMovingAverage:0, resnet_v2_101/block2/unit_4/bottleneck_v2/preact/gamma/ExponentialMovingAverage:0, resnet_v2_101/block2/unit_4/bottleneck_v2/preact/moving_mean/ExponentialMovingAverage:0, resnet_v2_101/block2/unit_4/bottleneck_v2/preact/moving_variance/ExponentialMovingAverage:0, resnet_v2_101/block3/unit_1/bottleneck_v2/conv1/BatchNorm/beta/ExponentialMovingAverage:0, resnet_v2_101/block3/unit_1/bottleneck_v2/conv1/BatchNorm/gamma/ExponentialMovingAverage:0, resnet_v2_101/block3/unit_1/bottleneck_v2/conv1/BatchNorm/moving_mean/ExponentialMovingAverage:0, resnet_v2_101/block3/unit_1/bottleneck_v2/conv1/BatchNorm/moving_variance/ExponentialMovingAverage:0, resnet_v2_101/block3/unit_1/bottleneck_v2/conv1/weights/ExponentialMovingAverage:0, resnet_v2_101/block3/unit_1/bottleneck_v2/conv2/BatchNorm/beta/ExponentialMovingAverage:0, resnet_v2_101/block3/unit_1/bottleneck_v2/conv2/BatchNorm/gamma/ExponentialMovingAverage:0, resnet_v2_101/block3/unit_1/bottleneck_v2/conv2/BatchNorm/moving_mean/ExponentialMovingAverage:0, resnet_v2_101/block3/unit_1/bottleneck_v2/conv2/BatchNorm/moving_variance/ExponentialMovingAverage:0, resnet_v2_101/block3/unit_1/bottleneck_v2/conv2/weights/ExponentialMovingAverage:0, resnet_v2_101/block3/unit_1/bottleneck_v2/conv3/biases/ExponentialMovingAverage:0, resnet_v2_101/block3/unit_1/bottleneck_v2/conv3/weights/ExponentialMovingAverage:0, resnet_v2_101/block3/unit_1/bottleneck_v2/preact/beta/ExponentialMovingAverage:0, resnet_v2_101/block3/unit_1/bottleneck_v2/preact/gamma/ExponentialMovingAverage:0, resnet_v2_101/block3/unit_1/bottleneck_v2/preact/moving_mean/ExponentialMovingAverage:0, resnet_v2_101/block3/unit_1/bottleneck_v2/preact/moving_variance/ExponentialMovingAverage:0, resnet_v2_101/block3/unit_1/bottleneck_v2/shortcut/biases/ExponentialMovingAverage:0, resnet_v2_101/block3/unit_1/bottleneck_v2/shortcut/weights/ExponentialMovingAverage:0, resnet_v2_101/block3/unit_10/bottleneck_v2/conv1/BatchNorm/beta/ExponentialMovingAverage:0, resnet_v2_101/block3/unit_10/bottleneck_v2/conv1/BatchNorm/gamma/ExponentialMovingAverage:0, resnet_v2_101/block3/unit_10/bottleneck_v2/conv1/BatchNorm/moving_mean/ExponentialMovingAverage:0, resnet_v2_101/block3/unit_10/bottleneck_v2/conv1/BatchNorm/moving_variance/ExponentialMovingAverage:0, resnet_v2_101/block3/unit_10/bottleneck_v2/conv1/weights/ExponentialMovingAverage:0, resnet_v2_101/block3/unit_10/bottleneck_v2/conv2/BatchNorm/beta/ExponentialMovingAverage:0, resnet_v2_101/block3/unit_10/bottleneck_v2/conv2/BatchNorm/gamma/ExponentialMovingAverage:0, resnet_v2_101/block3/unit_10/bottleneck_v2/conv2/BatchNorm/moving_mean/ExponentialMovingAverage:0, resnet_v2_101/block3/unit_10/bottleneck_v2/conv2/BatchNorm/moving_variance/ExponentialMovingAverage:0, resnet_v2_101/block3/unit_10/bottleneck_v2/conv2/weights/ExponentialMovingAverage:0, resnet_v2_101/block3/unit_10/bottleneck_v2/conv3/biases/ExponentialMovingAverage:0, resnet_v2_101/block3/unit_10/bottleneck_v2/conv3/weights/ExponentialMovingAverage:0, resnet_v2_101/block3/unit_10/bottleneck_v2/preact/beta/ExponentialMovingAverage:0, resnet_v2_101/block3/unit_10/bottleneck_v2/preact/gamma/ExponentialMovingAverage:0, resnet_v2_101/block3/unit_10/bottleneck_v2/preact/moving_mean/ExponentialMovingAverage:0, resnet_v2_101/block3/unit_10/bottleneck_v2/preact/moving_variance/ExponentialMovingAverage:0, resnet_v2_101/block3/unit_11/bottleneck_v2/conv1/BatchNorm/beta/ExponentialMovingAverage:0, resnet_v2_101/block3/unit_11/bottleneck_v2/conv1/BatchNorm/gamma/ExponentialMovingAverage:0, resnet_v2_101/block3/unit_11/bottleneck_v2/conv1/BatchNorm/moving_mean/ExponentialMovingAverage:0, resnet_v2_101/block3/unit_11/bottleneck_v2/conv1/BatchNorm/moving_variance/ExponentialMovingAverage:0, resnet_v2_101/block3/unit_11/bottleneck_v2/conv1/weights/ExponentialMovingAverage:0, resnet_v2_101/block3/unit_11/bottleneck_v2/conv2/BatchNorm/beta/ExponentialMovingAverage:0, resnet_v2_101/block3/unit_11/bottleneck_v2/conv2/BatchNorm/gamma/ExponentialMovingAverage:0, resnet_v2_101/block3/unit_11/bottleneck_v2/conv2/BatchNorm/moving_mean/ExponentialMovingAverage:0, resnet_v2_101/block3/unit_11/bottleneck_v2/conv2/BatchNorm/moving_variance/ExponentialMovingAverage:0, resnet_v2_101/block3/unit_11/bottleneck_v2/conv2/weights/ExponentialMovingAverage:0, resnet_v2_101/block3/unit_11/bottleneck_v2/conv3/biases/ExponentialMovingAverage:0, resnet_v2_101/block3/unit_11/bottleneck_v2/conv3/weights/ExponentialMovingAverage:0, resnet_v2_101/block3/unit_11/bottleneck_v2/preact/beta/ExponentialMovingAverage:0, resnet_v2_101/block3/unit_11/bottleneck_v2/preact/gamma/ExponentialMovingAverage:0, resnet_v2_101/block3/unit_11/bottleneck_v2/preact/moving_mean/ExponentialMovingAverage:0, resnet_v2_101/block3/unit_11/bottleneck_v2/preact/moving_variance/ExponentialMovingAverage:0, resnet_v2_101/block3/unit_12/bottleneck_v2/conv1/BatchNorm/beta/ExponentialMovingAverage:0, resnet_v2_101/block3/unit_12/bottleneck_v2/conv1/BatchNorm/gamma/ExponentialMovingAverage:0, resnet_v2_101/block3/unit_12/bottleneck_v2/conv1/BatchNorm/moving_mean/ExponentialMovingAverage:0, resnet_v2_101/block3/unit_12/bottleneck_v2/conv1/BatchNorm/moving_variance/ExponentialMovingAverage:0, resnet_v2_101/block3/unit_12/bottleneck_v2/conv1/weights/ExponentialMovingAverage:0, resnet_v2_101/block3/unit_12/bottleneck_v2/conv2/BatchNorm/beta/ExponentialMovingAverage:0, resnet_v2_101/block3/unit_12/bottleneck_v2/conv2/BatchNorm/gamma/ExponentialMovingAverage:0, resnet_v2_101/block3/unit_12/bottleneck_v2/conv2/BatchNorm/moving_mean/ExponentialMovingAverage:0, resnet_v2_101/block3/unit_12/bottleneck_v2/conv2/BatchNorm/moving_variance/ExponentialMovingAverage:0, resnet_v2_101/block3/unit_12/bottleneck_v2/conv2/weights/ExponentialMovingAverage:0, resnet_v2_101/block3/unit_12/bottleneck_v2/conv3/biases/ExponentialMovingAverage:0, resnet_v2_101/block3/unit_12/bottleneck_v2/conv3/weights/ExponentialMovingAverage:0, resnet_v2_101/block3/unit_12/bottleneck_v2/preact/beta/ExponentialMovingAverage:0, resnet_v2_101/block3/unit_12/bottleneck_v2/preact/gamma/ExponentialMovingAverage:0, resnet_v2_101/block3/unit_12/bottleneck_v2/preact/moving_mean/ExponentialMovingAverage:0, resnet_v2_101/block3/unit_12/bottleneck_v2/preact/moving_variance/ExponentialMovingAverage:0, resnet_v2_101/block3/unit_13/bottleneck_v2/conv1/BatchNorm/beta/ExponentialMovingAverage:0, resnet_v2_101/block3/unit_13/bottleneck_v2/conv1/BatchNorm/gamma/ExponentialMovingAverage:0, resnet_v2_101/block3/unit_13/bottleneck_v2/conv1/BatchNorm/moving_mean/ExponentialMovingAverage:0, resnet_v2_101/block3/unit_13/bottleneck_v2/conv1/BatchNorm/moving_variance/ExponentialMovingAverage:0, resnet_v2_101/block3/unit_13/bottleneck_v2/conv1/weights/ExponentialMovingAverage:0, resnet_v2_101/block3/unit_13/bottleneck_v2/conv2/BatchNorm/beta/ExponentialMovingAverage:0, resnet_v2_101/block3/unit_13/bottleneck_v2/conv2/BatchNorm/gamma/ExponentialMovingAverage:0, resnet_v2_101/block3/unit_13/bottleneck_v2/conv2/BatchNorm/moving_mean/ExponentialMovingAverage:0, resnet_v2_101/block3/unit_13/bottleneck_v2/conv2/BatchNorm/moving_variance/ExponentialMovingAverage:0, resnet_v2_101/block3/unit_13/bottleneck_v2/conv2/weights/ExponentialMovingAverage:0, resnet_v2_101/block3/unit_13/bottleneck_v2/conv3/biases/ExponentialMovingAverage:0, resnet_v2_101/block3/unit_13/bottleneck_v2/conv3/weights/ExponentialMovingAverage:0, resnet_v2_101/block3/unit_13/bottleneck_v2/preact/beta/ExponentialMovingAverage:0, resnet_v2_101/block3/unit_13/bottleneck_v2/preact/gamma/ExponentialMovingAverage:0, resnet_v2_101/block3/unit_13/bottleneck_v2/preact/moving_mean/ExponentialMovingAverage:0, resnet_v2_101/block3/unit_13/bottleneck_v2/preact/moving_variance/ExponentialMovingAverage:0, resnet_v2_101/block3/unit_14/bottleneck_v2/conv1/BatchNorm/beta/ExponentialMovingAverage:0, resnet_v2_101/block3/unit_14/bottleneck_v2/conv1/BatchNorm/gamma/ExponentialMovingAverage:0, resnet_v2_101/block3/unit_14/bottleneck_v2/conv1/BatchNorm/moving_mean/ExponentialMovingAverage:0, resnet_v2_101/block3/unit_14/bottleneck_v2/conv1/BatchNorm/moving_variance/ExponentialMovingAverage:0, resnet_v2_101/block3/unit_14/bottleneck_v2/conv1/weights/ExponentialMovingAverage:0, resnet_v2_101/block3/unit_14/bottleneck_v2/conv2/BatchNorm/beta/ExponentialMovingAverage:0, resnet_v2_101/block3/unit_14/bottleneck_v2/conv2/BatchNorm/gamma/ExponentialMovingAverage:0, resnet_v2_101/block3/unit_14/bottleneck_v2/conv2/BatchNorm/moving_mean/ExponentialMovingAverage:0, resnet_v2_101/block3/unit_14/bottleneck_v2/conv2/BatchNorm/moving_variance/ExponentialMovingAverage:0, resnet_v2_101/block3/unit_14/bottleneck_v2/conv2/weights/ExponentialMovingAverage:0, resnet_v2_101/block3/unit_14/bottleneck_v2/conv3/biases/ExponentialMovingAverage:0, resnet_v2_101/block3/unit_14/bottleneck_v2/conv3/weights/ExponentialMovingAverage:0, resnet_v2_101/block3/unit_14/bottleneck_v2/preact/beta/ExponentialMovingAverage:0, resnet_v2_101/block3/unit_14/bottleneck_v2/preact/gamma/ExponentialMovingAverage:0, resnet_v2_101/block3/unit_14/bottleneck_v2/preact/moving_mean/ExponentialMovingAverage:0, resnet_v2_101/block3/unit_14/bottleneck_v2/preact/moving_variance/ExponentialMovingAverage:0, resnet_v2_101/block3/unit_15/bottleneck_v2/conv1/BatchNorm/beta/ExponentialMovingAverage:0, resnet_v2_101/block3/unit_15/bottleneck_v2/conv1/BatchNorm/gamma/ExponentialMovingAverage:0, resnet_v2_101/block3/unit_15/bottleneck_v2/conv1/BatchNorm/moving_mean/ExponentialMovingAverage:0, resnet_v2_101/block3/unit_15/bottleneck_v2/conv1/BatchNorm/moving_variance/ExponentialMovingAverage:0, resnet_v2_101/block3/unit_15/bottleneck_v2/conv1/weights/ExponentialMovingAverage:0, resnet_v2_101/block3/unit_15/bottleneck_v2/conv2/BatchNorm/beta/ExponentialMovingAverage:0, resnet_v2_101/block3/unit_15/bottleneck_v2/conv2/BatchNorm/gamma/ExponentialMovingAverage:0, resnet_v2_101/block3/unit_15/bottleneck_v2/conv2/BatchNorm/moving_mean/ExponentialMovingAverage:0, resnet_v2_101/block3/unit_15/bottleneck_v2/conv2/BatchNorm/moving_variance/ExponentialMovingAverage:0, resnet_v2_101/block3/unit_15/bottleneck_v2/conv2/weights/ExponentialMovingAverage:0, resnet_v2_101/block3/unit_15/bottleneck_v2/conv3/biases/ExponentialMovingAverage:0, resnet_v2_101/block3/unit_15/bottleneck_v2/conv3/weights/ExponentialMovingAverage:0, resnet_v2_101/block3/unit_15/bottleneck_v2/preact/beta/ExponentialMovingAverage:0, resnet_v2_101/block3/unit_15/bottleneck_v2/preact/gamma/ExponentialMovingAverage:0, resnet_v2_101/block3/unit_15/bottleneck_v2/preact/moving_mean/ExponentialMovingAverage:0, resnet_v2_101/block3/unit_15/bottleneck_v2/preact/moving_variance/ExponentialMovingAverage:0, resnet_v2_101/block3/unit_16/bottleneck_v2/conv1/BatchNorm/beta/ExponentialMovingAverage:0, resnet_v2_101/block3/unit_16/bottleneck_v2/conv1/BatchNorm/gamma/ExponentialMovingAverage:0, resnet_v2_101/block3/unit_16/bottleneck_v2/conv1/BatchNorm/moving_mean/ExponentialMovingAverage:0, resnet_v2_101/block3/unit_16/bottleneck_v2/conv1/BatchNorm/moving_variance/ExponentialMovingAverage:0, resnet_v2_101/block3/unit_16/bottleneck_v2/conv1/weights/ExponentialMovingAverage:0, resnet_v2_101/block3/unit_16/bottleneck_v2/conv2/BatchNorm/beta/ExponentialMovingAverage:0, resnet_v2_101/block3/unit_16/bottleneck_v2/conv2/BatchNorm/gamma/ExponentialMovingAverage:0, resnet_v2_101/block3/unit_16/bottleneck_v2/conv2/BatchNorm/moving_mean/ExponentialMovingAverage:0, resnet_v2_101/block3/unit_16/bottleneck_v2/conv2/BatchNorm/moving_variance/ExponentialMovingAverage:0, resnet_v2_101/block3/unit_16/bottleneck_v2/conv2/weights/ExponentialMovingAverage:0, resnet_v2_101/block3/unit_16/bottleneck_v2/conv3/biases/ExponentialMovingAverage:0, resnet_v2_101/block3/unit_16/bottleneck_v2/conv3/weights/ExponentialMovingAverage:0, resnet_v2_101/block3/unit_16/bottleneck_v2/preact/beta/ExponentialMovingAverage:0, resnet_v2_101/block3/unit_16/bottleneck_v2/preact/gamma/ExponentialMovingAverage:0, resnet_v2_101/block3/unit_16/bottleneck_v2/preact/moving_mean/ExponentialMovingAverage:0, resnet_v2_101/block3/unit_16/bottleneck_v2/preact/moving_variance/ExponentialMovingAverage:0, resnet_v2_101/block3/unit_17/bottleneck_v2/conv1/BatchNorm/beta/ExponentialMovingAverage:0, resnet_v2_101/block3/unit_17/bottleneck_v2/conv1/BatchNorm/gamma/ExponentialMovingAverage:0, resnet_v2_101/block3/unit_17/bottleneck_v2/conv1/BatchNorm/moving_mean/ExponentialMovingAverage:0, resnet_v2_101/block3/unit_17/bottleneck_v2/conv1/BatchNorm/moving_variance/ExponentialMovingAverage:0, resnet_v2_101/block3/unit_17/bottleneck_v2/conv1/weights/ExponentialMovingAverage:0, resnet_v2_101/block3/unit_17/bottleneck_v2/conv2/BatchNorm/beta/ExponentialMovingAverage:0, resnet_v2_101/block3/unit_17/bottleneck_v2/conv2/BatchNorm/gamma/ExponentialMovingAverage:0, resnet_v2_101/block3/unit_17/bottleneck_v2/conv2/BatchNorm/moving_mean/ExponentialMovingAverage:0, resnet_v2_101/block3/unit_17/bottleneck_v2/conv2/BatchNorm/moving_variance/ExponentialMovingAverage:0, resnet_v2_101/block3/unit_17/bottleneck_v2/conv2/weights/ExponentialMovingAverage:0, resnet_v2_101/block3/unit_17/bottleneck_v2/conv3/biases/ExponentialMovingAverage:0, resnet_v2_101/block3/unit_17/bottleneck_v2/conv3/weights/ExponentialMovingAverage:0, resnet_v2_101/block3/unit_17/bottleneck_v2/preact/beta/ExponentialMovingAverage:0, resnet_v2_101/block3/unit_17/bottleneck_v2/preact/gamma/ExponentialMovingAverage:0, resnet_v2_101/block3/unit_17/bottleneck_v2/preact/moving_mean/ExponentialMovingAverage:0, resnet_v2_101/block3/unit_17/bottleneck_v2/preact/moving_variance/ExponentialMovingAverage:0, resnet_v2_101/block3/unit_18/bottleneck_v2/conv1/BatchNorm/beta/ExponentialMovingAverage:0, resnet_v2_101/block3/unit_18/bottleneck_v2/conv1/BatchNorm/gamma/ExponentialMovingAverage:0, resnet_v2_101/block3/unit_18/bottleneck_v2/conv1/BatchNorm/moving_mean/ExponentialMovingAverage:0, resnet_v2_101/block3/unit_18/bottleneck_v2/conv1/BatchNorm/moving_variance/ExponentialMovingAverage:0, resnet_v2_101/block3/unit_18/bottleneck_v2/conv1/weights/ExponentialMovingAverage:0, resnet_v2_101/block3/unit_18/bottleneck_v2/conv2/BatchNorm/beta/ExponentialMovingAverage:0, resnet_v2_101/block3/unit_18/bottleneck_v2/conv2/BatchNorm/gamma/ExponentialMovingAverage:0, resnet_v2_101/block3/unit_18/bottleneck_v2/conv2/BatchNorm/moving_mean/ExponentialMovingAverage:0, resnet_v2_101/block3/unit_18/bottleneck_v2/conv2/BatchNorm/moving_variance/ExponentialMovingAverage:0, resnet_v2_101/block3/unit_18/bottleneck_v2/conv2/weights/ExponentialMovingAverage:0, resnet_v2_101/block3/unit_18/bottleneck_v2/conv3/biases/ExponentialMovingAverage:0, resnet_v2_101/block3/unit_18/bottleneck_v2/conv3/weights/ExponentialMovingAverage:0, resnet_v2_101/block3/unit_18/bottleneck_v2/preact/beta/ExponentialMovingAverage:0, resnet_v2_101/block3/unit_18/bottleneck_v2/preact/gamma/ExponentialMovingAverage:0, resnet_v2_101/block3/unit_18/bottleneck_v2/preact/moving_mean/ExponentialMovingAverage:0, resnet_v2_101/block3/unit_18/bottleneck_v2/preact/moving_variance/ExponentialMovingAverage:0, resnet_v2_101/block3/unit_19/bottleneck_v2/conv1/BatchNorm/beta/ExponentialMovingAverage:0, resnet_v2_101/block3/unit_19/bottleneck_v2/conv1/BatchNorm/gamma/ExponentialMovingAverage:0, resnet_v2_101/block3/unit_19/bottleneck_v2/conv1/BatchNorm/moving_mean/ExponentialMovingAverage:0, resnet_v2_101/block3/unit_19/bottleneck_v2/conv1/BatchNorm/moving_variance/ExponentialMovingAverage:0, resnet_v2_101/block3/unit_19/bottleneck_v2/conv1/weights/ExponentialMovingAverage:0, resnet_v2_101/block3/unit_19/bottleneck_v2/conv2/BatchNorm/beta/ExponentialMovingAverage:0, resnet_v2_101/block3/unit_19/bottleneck_v2/conv2/BatchNorm/gamma/ExponentialMovingAverage:0, resnet_v2_101/block3/unit_19/bottleneck_v2/conv2/BatchNorm/moving_mean/ExponentialMovingAverage:0, resnet_v2_101/block3/unit_19/bottleneck_v2/conv2/BatchNorm/moving_variance/ExponentialMovingAverage:0, resnet_v2_101/block3/unit_19/bottleneck_v2/conv2/weights/ExponentialMovingAverage:0, resnet_v2_101/block3/unit_19/bottleneck_v2/conv3/biases/ExponentialMovingAverage:0, resnet_v2_101/block3/unit_19/bottleneck_v2/conv3/weights/ExponentialMovingAverage:0, resnet_v2_101/block3/unit_19/bottleneck_v2/preact/beta/ExponentialMovingAverage:0, resnet_v2_101/block3/unit_19/bottleneck_v2/preact/gamma/ExponentialMovingAverage:0, resnet_v2_101/block3/unit_19/bottleneck_v2/preact/moving_mean/ExponentialMovingAverage:0, resnet_v2_101/block3/unit_19/bottleneck_v2/preact/moving_variance/ExponentialMovingAverage:0, resnet_v2_101/block3/unit_2/bottleneck_v2/conv1/BatchNorm/beta/ExponentialMovingAverage:0, resnet_v2_101/block3/unit_2/bottleneck_v2/conv1/BatchNorm/gamma/ExponentialMovingAverage:0, resnet_v2_101/block3/unit_2/bottleneck_v2/conv1/BatchNorm/moving_mean/ExponentialMovingAverage:0, resnet_v2_101/block3/unit_2/bottleneck_v2/conv1/BatchNorm/moving_variance/ExponentialMovingAverage:0, resnet_v2_101/block3/unit_2/bottleneck_v2/conv1/weights/ExponentialMovingAverage:0, resnet_v2_101/block3/unit_2/bottleneck_v2/conv2/BatchNorm/beta/ExponentialMovingAverage:0, resnet_v2_101/block3/unit_2/bottleneck_v2/conv2/BatchNorm/gamma/ExponentialMovingAverage:0, resnet_v2_101/block3/unit_2/bottleneck_v2/conv2/BatchNorm/moving_mean/ExponentialMovingAverage:0, resnet_v2_101/block3/unit_2/bottleneck_v2/conv2/BatchNorm/moving_variance/ExponentialMovingAverage:0, resnet_v2_101/block3/unit_2/bottleneck_v2/conv2/weights/ExponentialMovingAverage:0, resnet_v2_101/block3/unit_2/bottleneck_v2/conv3/biases/ExponentialMovingAverage:0, resnet_v2_101/block3/unit_2/bottleneck_v2/conv3/weights/ExponentialMovingAverage:0, resnet_v2_101/block3/unit_2/bottleneck_v2/preact/beta/ExponentialMovingAverage:0, resnet_v2_101/block3/unit_2/bottleneck_v2/preact/gamma/ExponentialMovingAverage:0, resnet_v2_101/block3/unit_2/bottleneck_v2/preact/moving_mean/ExponentialMovingAverage:0, resnet_v2_101/block3/unit_2/bottleneck_v2/preact/moving_variance/ExponentialMovingAverage:0, resnet_v2_101/block3/unit_20/bottleneck_v2/conv1/BatchNorm/beta/ExponentialMovingAverage:0, resnet_v2_101/block3/unit_20/bottleneck_v2/conv1/BatchNorm/gamma/ExponentialMovingAverage:0, resnet_v2_101/block3/unit_20/bottleneck_v2/conv1/BatchNorm/moving_mean/ExponentialMovingAverage:0, resnet_v2_101/block3/unit_20/bottleneck_v2/conv1/BatchNorm/moving_variance/ExponentialMovingAverage:0, resnet_v2_101/block3/unit_20/bottleneck_v2/conv1/weights/ExponentialMovingAverage:0, resnet_v2_101/block3/unit_20/bottleneck_v2/conv2/BatchNorm/beta/ExponentialMovingAverage:0, resnet_v2_101/block3/unit_20/bottleneck_v2/conv2/BatchNorm/gamma/ExponentialMovingAverage:0, resnet_v2_101/block3/unit_20/bottleneck_v2/conv2/BatchNorm/moving_mean/ExponentialMovingAverage:0, resnet_v2_101/block3/unit_20/bottleneck_v2/conv2/BatchNorm/moving_variance/ExponentialMovingAverage:0, resnet_v2_101/block3/unit_20/bottleneck_v2/conv2/weights/ExponentialMovingAverage:0, resnet_v2_101/block3/unit_20/bottleneck_v2/conv3/biases/ExponentialMovingAverage:0, resnet_v2_101/block3/unit_20/bottleneck_v2/conv3/weights/ExponentialMovingAverage:0, resnet_v2_101/block3/unit_20/bottleneck_v2/preact/beta/ExponentialMovingAverage:0, resnet_v2_101/block3/unit_20/bottleneck_v2/preact/gamma/ExponentialMovingAverage:0, resnet_v2_101/block3/unit_20/bottleneck_v2/preact/moving_mean/ExponentialMovingAverage:0, resnet_v2_101/block3/unit_20/bottleneck_v2/preact/moving_variance/ExponentialMovingAverage:0, resnet_v2_101/block3/unit_21/bottleneck_v2/conv1/BatchNorm/beta/ExponentialMovingAverage:0, resnet_v2_101/block3/unit_21/bottleneck_v2/conv1/BatchNorm/gamma/ExponentialMovingAverage:0, resnet_v2_101/block3/unit_21/bottleneck_v2/conv1/BatchNorm/moving_mean/ExponentialMovingAverage:0, resnet_v2_101/block3/unit_21/bottleneck_v2/conv1/BatchNorm/moving_variance/ExponentialMovingAverage:0, resnet_v2_101/block3/unit_21/bottleneck_v2/conv1/weights/ExponentialMovingAverage:0, resnet_v2_101/block3/unit_21/bottleneck_v2/conv2/BatchNorm/beta/ExponentialMovingAverage:0, resnet_v2_101/block3/unit_21/bottleneck_v2/conv2/BatchNorm/gamma/ExponentialMovingAverage:0, resnet_v2_101/block3/unit_21/bottleneck_v2/conv2/BatchNorm/moving_mean/ExponentialMovingAverage:0, resnet_v2_101/block3/unit_21/bottleneck_v2/conv2/BatchNorm/moving_variance/ExponentialMovingAverage:0, resnet_v2_101/block3/unit_21/bottleneck_v2/conv2/weights/ExponentialMovingAverage:0, resnet_v2_101/block3/unit_21/bottleneck_v2/conv3/biases/ExponentialMovingAverage:0, resnet_v2_101/block3/unit_21/bottleneck_v2/conv3/weights/ExponentialMovingAverage:0, resnet_v2_101/block3/unit_21/bottleneck_v2/preact/beta/ExponentialMovingAverage:0, resnet_v2_101/block3/unit_21/bottleneck_v2/preact/gamma/ExponentialMovingAverage:0, resnet_v2_101/block3/unit_21/bottleneck_v2/preact/moving_mean/ExponentialMovingAverage:0, resnet_v2_101/block3/unit_21/bottleneck_v2/preact/moving_variance/ExponentialMovingAverage:0, resnet_v2_101/block3/unit_22/bottleneck_v2/conv1/BatchNorm/beta/ExponentialMovingAverage:0, resnet_v2_101/block3/unit_22/bottleneck_v2/conv1/BatchNorm/gamma/ExponentialMovingAverage:0, resnet_v2_101/block3/unit_22/bottleneck_v2/conv1/BatchNorm/moving_mean/ExponentialMovingAverage:0, resnet_v2_101/block3/unit_22/bottleneck_v2/conv1/BatchNorm/moving_variance/ExponentialMovingAverage:0, resnet_v2_101/block3/unit_22/bottleneck_v2/conv1/weights/ExponentialMovingAverage:0, resnet_v2_101/block3/unit_22/bottleneck_v2/conv2/BatchNorm/beta/ExponentialMovingAverage:0, resnet_v2_101/block3/unit_22/bottleneck_v2/conv2/BatchNorm/gamma/ExponentialMovingAverage:0, resnet_v2_101/block3/unit_22/bottleneck_v2/conv2/BatchNorm/moving_mean/ExponentialMovingAverage:0, resnet_v2_101/block3/unit_22/bottleneck_v2/conv2/BatchNorm/moving_variance/ExponentialMovingAverage:0, resnet_v2_101/block3/unit_22/bottleneck_v2/conv2/weights/ExponentialMovingAverage:0, resnet_v2_101/block3/unit_22/bottleneck_v2/conv3/biases/ExponentialMovingAverage:0, resnet_v2_101/block3/unit_22/bottleneck_v2/conv3/weights/ExponentialMovingAverage:0, resnet_v2_101/block3/unit_22/bottleneck_v2/preact/beta/ExponentialMovingAverage:0, resnet_v2_101/block3/unit_22/bottleneck_v2/preact/gamma/ExponentialMovingAverage:0, resnet_v2_101/block3/unit_22/bottleneck_v2/preact/moving_mean/ExponentialMovingAverage:0, resnet_v2_101/block3/unit_22/bottleneck_v2/preact/moving_variance/ExponentialMovingAverage:0, resnet_v2_101/block3/unit_23/bottleneck_v2/conv1/BatchNorm/beta/ExponentialMovingAverage:0, resnet_v2_101/block3/unit_23/bottleneck_v2/conv1/BatchNorm/gamma/ExponentialMovingAverage:0, resnet_v2_101/block3/unit_23/bottleneck_v2/conv1/BatchNorm/moving_mean/ExponentialMovingAverage:0, resnet_v2_101/block3/unit_23/bottleneck_v2/conv1/BatchNorm/moving_variance/ExponentialMovingAverage:0, resnet_v2_101/block3/unit_23/bottleneck_v2/conv1/weights/ExponentialMovingAverage:0, resnet_v2_101/block3/unit_23/bottleneck_v2/conv2/BatchNorm/beta/ExponentialMovingAverage:0, resnet_v2_101/block3/unit_23/bottleneck_v2/conv2/BatchNorm/gamma/ExponentialMovingAverage:0, resnet_v2_101/block3/unit_23/bottleneck_v2/conv2/BatchNorm/moving_mean/ExponentialMovingAverage:0, resnet_v2_101/block3/unit_23/bottleneck_v2/conv2/BatchNorm/moving_variance/ExponentialMovingAverage:0, resnet_v2_101/block3/unit_23/bottleneck_v2/conv2/weights/ExponentialMovingAverage:0, resnet_v2_101/block3/unit_23/bottleneck_v2/conv3/biases/ExponentialMovingAverage:0, resnet_v2_101/block3/unit_23/bottleneck_v2/conv3/weights/ExponentialMovingAverage:0, resnet_v2_101/block3/unit_23/bottleneck_v2/preact/beta/ExponentialMovingAverage:0, resnet_v2_101/block3/unit_23/bottleneck_v2/preact/gamma/ExponentialMovingAverage:0, resnet_v2_101/block3/unit_23/bottleneck_v2/preact/moving_mean/ExponentialMovingAverage:0, resnet_v2_101/block3/unit_23/bottleneck_v2/preact/moving_variance/ExponentialMovingAverage:0, resnet_v2_101/block3/unit_3/bottleneck_v2/conv1/BatchNorm/beta/ExponentialMovingAverage:0, resnet_v2_101/block3/unit_3/bottleneck_v2/conv1/BatchNorm/gamma/ExponentialMovingAverage:0, resnet_v2_101/block3/unit_3/bottleneck_v2/conv1/BatchNorm/moving_mean/ExponentialMovingAverage:0, resnet_v2_101/block3/unit_3/bottleneck_v2/conv1/BatchNorm/moving_variance/ExponentialMovingAverage:0, resnet_v2_101/block3/unit_3/bottleneck_v2/conv1/weights/ExponentialMovingAverage:0, resnet_v2_101/block3/unit_3/bottleneck_v2/conv2/BatchNorm/beta/ExponentialMovingAverage:0, resnet_v2_101/block3/unit_3/bottleneck_v2/conv2/BatchNorm/gamma/ExponentialMovingAverage:0, resnet_v2_101/block3/unit_3/bottleneck_v2/conv2/BatchNorm/moving_mean/ExponentialMovingAverage:0, resnet_v2_101/block3/unit_3/bottleneck_v2/conv2/BatchNorm/moving_variance/ExponentialMovingAverage:0, resnet_v2_101/block3/unit_3/bottleneck_v2/conv2/weights/ExponentialMovingAverage:0, resnet_v2_101/block3/unit_3/bottleneck_v2/conv3/biases/ExponentialMovingAverage:0, resnet_v2_101/block3/unit_3/bottleneck_v2/conv3/weights/ExponentialMovingAverage:0, resnet_v2_101/block3/unit_3/bottleneck_v2/preact/beta/ExponentialMovingAverage:0, resnet_v2_101/block3/unit_3/bottleneck_v2/preact/gamma/ExponentialMovingAverage:0, resnet_v2_101/block3/unit_3/bottleneck_v2/preact/moving_mean/ExponentialMovingAverage:0, resnet_v2_101/block3/unit_3/bottleneck_v2/preact/moving_variance/ExponentialMovingAverage:0, resnet_v2_101/block3/unit_4/bottleneck_v2/conv1/BatchNorm/beta/ExponentialMovingAverage:0, resnet_v2_101/block3/unit_4/bottleneck_v2/conv1/BatchNorm/gamma/ExponentialMovingAverage:0, resnet_v2_101/block3/unit_4/bottleneck_v2/conv1/BatchNorm/moving_mean/ExponentialMovingAverage:0, resnet_v2_101/block3/unit_4/bottleneck_v2/conv1/BatchNorm/moving_variance/ExponentialMovingAverage:0, resnet_v2_101/block3/unit_4/bottleneck_v2/conv1/weights/ExponentialMovingAverage:0, resnet_v2_101/block3/unit_4/bottleneck_v2/conv2/BatchNorm/beta/ExponentialMovingAverage:0, resnet_v2_101/block3/unit_4/bottleneck_v2/conv2/BatchNorm/gamma/ExponentialMovingAverage:0, resnet_v2_101/block3/unit_4/bottleneck_v2/conv2/BatchNorm/moving_mean/ExponentialMovingAverage:0, resnet_v2_101/block3/unit_4/bottleneck_v2/conv2/BatchNorm/moving_variance/ExponentialMovingAverage:0, resnet_v2_101/block3/unit_4/bottleneck_v2/conv2/weights/ExponentialMovingAverage:0, resnet_v2_101/block3/unit_4/bottleneck_v2/conv3/biases/ExponentialMovingAverage:0, resnet_v2_101/block3/unit_4/bottleneck_v2/conv3/weights/ExponentialMovingAverage:0, resnet_v2_101/block3/unit_4/bottleneck_v2/preact/beta/ExponentialMovingAverage:0, resnet_v2_101/block3/unit_4/bottleneck_v2/preact/gamma/ExponentialMovingAverage:0, resnet_v2_101/block3/unit_4/bottleneck_v2/preact/moving_mean/ExponentialMovingAverage:0, resnet_v2_101/block3/unit_4/bottleneck_v2/preact/moving_variance/ExponentialMovingAverage:0, resnet_v2_101/block3/unit_5/bottleneck_v2/conv1/BatchNorm/beta/ExponentialMovingAverage:0, resnet_v2_101/block3/unit_5/bottleneck_v2/conv1/BatchNorm/gamma/ExponentialMovingAverage:0, resnet_v2_101/block3/unit_5/bottleneck_v2/conv1/BatchNorm/moving_mean/ExponentialMovingAverage:0, resnet_v2_101/block3/unit_5/bottleneck_v2/conv1/BatchNorm/moving_variance/ExponentialMovingAverage:0, resnet_v2_101/block3/unit_5/bottleneck_v2/conv1/weights/ExponentialMovingAverage:0, resnet_v2_101/block3/unit_5/bottleneck_v2/conv2/BatchNorm/beta/ExponentialMovingAverage:0, resnet_v2_101/block3/unit_5/bottleneck_v2/conv2/BatchNorm/gamma/ExponentialMovingAverage:0, resnet_v2_101/block3/unit_5/bottleneck_v2/conv2/BatchNorm/moving_mean/ExponentialMovingAverage:0, resnet_v2_101/block3/unit_5/bottleneck_v2/conv2/BatchNorm/moving_variance/ExponentialMovingAverage:0, resnet_v2_101/block3/unit_5/bottleneck_v2/conv2/weights/ExponentialMovingAverage:0, resnet_v2_101/block3/unit_5/bottleneck_v2/conv3/biases/ExponentialMovingAverage:0, resnet_v2_101/block3/unit_5/bottleneck_v2/conv3/weights/ExponentialMovingAverage:0, resnet_v2_101/block3/unit_5/bottleneck_v2/preact/beta/ExponentialMovingAverage:0, resnet_v2_101/block3/unit_5/bottleneck_v2/preact/gamma/ExponentialMovingAverage:0, resnet_v2_101/block3/unit_5/bottleneck_v2/preact/moving_mean/ExponentialMovingAverage:0, resnet_v2_101/block3/unit_5/bottleneck_v2/preact/moving_variance/ExponentialMovingAverage:0, resnet_v2_101/block3/unit_6/bottleneck_v2/conv1/BatchNorm/beta/ExponentialMovingAverage:0, resnet_v2_101/block3/unit_6/bottleneck_v2/conv1/BatchNorm/gamma/ExponentialMovingAverage:0, resnet_v2_101/block3/unit_6/bottleneck_v2/conv1/BatchNorm/moving_mean/ExponentialMovingAverage:0, resnet_v2_101/block3/unit_6/bottleneck_v2/conv1/BatchNorm/moving_variance/ExponentialMovingAverage:0, resnet_v2_101/block3/unit_6/bottleneck_v2/conv1/weights/ExponentialMovingAverage:0, resnet_v2_101/block3/unit_6/bottleneck_v2/conv2/BatchNorm/beta/ExponentialMovingAverage:0, resnet_v2_101/block3/unit_6/bottleneck_v2/conv2/BatchNorm/gamma/ExponentialMovingAverage:0, resnet_v2_101/block3/unit_6/bottleneck_v2/conv2/BatchNorm/moving_mean/ExponentialMovingAverage:0, resnet_v2_101/block3/unit_6/bottleneck_v2/conv2/BatchNorm/moving_variance/ExponentialMovingAverage:0, resnet_v2_101/block3/unit_6/bottleneck_v2/conv2/weights/ExponentialMovingAverage:0, resnet_v2_101/block3/unit_6/bottleneck_v2/conv3/biases/ExponentialMovingAverage:0, resnet_v2_101/block3/unit_6/bottleneck_v2/conv3/weights/ExponentialMovingAverage:0, resnet_v2_101/block3/unit_6/bottleneck_v2/preact/beta/ExponentialMovingAverage:0, resnet_v2_101/block3/unit_6/bottleneck_v2/preact/gamma/ExponentialMovingAverage:0, resnet_v2_101/block3/unit_6/bottleneck_v2/preact/moving_mean/ExponentialMovingAverage:0, resnet_v2_101/block3/unit_6/bottleneck_v2/preact/moving_variance/ExponentialMovingAverage:0, resnet_v2_101/block3/unit_7/bottleneck_v2/conv1/BatchNorm/beta/ExponentialMovingAverage:0, resnet_v2_101/block3/unit_7/bottleneck_v2/conv1/BatchNorm/gamma/ExponentialMovingAverage:0, resnet_v2_101/block3/unit_7/bottleneck_v2/conv1/BatchNorm/moving_mean/ExponentialMovingAverage:0, resnet_v2_101/block3/unit_7/bottleneck_v2/conv1/BatchNorm/moving_variance/ExponentialMovingAverage:0, resnet_v2_101/block3/unit_7/bottleneck_v2/conv1/weights/ExponentialMovingAverage:0, resnet_v2_101/block3/unit_7/bottleneck_v2/conv2/BatchNorm/beta/ExponentialMovingAverage:0, resnet_v2_101/block3/unit_7/bottleneck_v2/conv2/BatchNorm/gamma/ExponentialMovingAverage:0, resnet_v2_101/block3/unit_7/bottleneck_v2/conv2/BatchNorm/moving_mean/ExponentialMovingAverage:0, resnet_v2_101/block3/unit_7/bottleneck_v2/conv2/BatchNorm/moving_variance/ExponentialMovingAverage:0, resnet_v2_101/block3/unit_7/bottleneck_v2/conv2/weights/ExponentialMovingAverage:0, resnet_v2_101/block3/unit_7/bottleneck_v2/conv3/biases/ExponentialMovingAverage:0, resnet_v2_101/block3/unit_7/bottleneck_v2/conv3/weights/ExponentialMovingAverage:0, resnet_v2_101/block3/unit_7/bottleneck_v2/preact/beta/ExponentialMovingAverage:0, resnet_v2_101/block3/unit_7/bottleneck_v2/preact/gamma/ExponentialMovingAverage:0, resnet_v2_101/block3/unit_7/bottleneck_v2/preact/moving_mean/ExponentialMovingAverage:0, resnet_v2_101/block3/unit_7/bottleneck_v2/preact/moving_variance/ExponentialMovingAverage:0, resnet_v2_101/block3/unit_8/bottleneck_v2/conv1/BatchNorm/beta/ExponentialMovingAverage:0, resnet_v2_101/block3/unit_8/bottleneck_v2/conv1/BatchNorm/gamma/ExponentialMovingAverage:0, resnet_v2_101/block3/unit_8/bottleneck_v2/conv1/BatchNorm/moving_mean/ExponentialMovingAverage:0, resnet_v2_101/block3/unit_8/bottleneck_v2/conv1/BatchNorm/moving_variance/ExponentialMovingAverage:0, resnet_v2_101/block3/unit_8/bottleneck_v2/conv1/weights/ExponentialMovingAverage:0, resnet_v2_101/block3/unit_8/bottleneck_v2/conv2/BatchNorm/beta/ExponentialMovingAverage:0, resnet_v2_101/block3/unit_8/bottleneck_v2/conv2/BatchNorm/gamma/ExponentialMovingAverage:0, resnet_v2_101/block3/unit_8/bottleneck_v2/conv2/BatchNorm/moving_mean/ExponentialMovingAverage:0, resnet_v2_101/block3/unit_8/bottleneck_v2/conv2/BatchNorm/moving_variance/ExponentialMovingAverage:0, resnet_v2_101/block3/unit_8/bottleneck_v2/conv2/weights/ExponentialMovingAverage:0, resnet_v2_101/block3/unit_8/bottleneck_v2/conv3/biases/ExponentialMovingAverage:0, resnet_v2_101/block3/unit_8/bottleneck_v2/conv3/weights/ExponentialMovingAverage:0, resnet_v2_101/block3/unit_8/bottleneck_v2/preact/beta/ExponentialMovingAverage:0, resnet_v2_101/block3/unit_8/bottleneck_v2/preact/gamma/ExponentialMovingAverage:0, resnet_v2_101/block3/unit_8/bottleneck_v2/preact/moving_mean/ExponentialMovingAverage:0, resnet_v2_101/block3/unit_8/bottleneck_v2/preact/moving_variance/ExponentialMovingAverage:0, resnet_v2_101/block3/unit_9/bottleneck_v2/conv1/BatchNorm/beta/ExponentialMovingAverage:0, resnet_v2_101/block3/unit_9/bottleneck_v2/conv1/BatchNorm/gamma/ExponentialMovingAverage:0, resnet_v2_101/block3/unit_9/bottleneck_v2/conv1/BatchNorm/moving_mean/ExponentialMovingAverage:0, resnet_v2_101/block3/unit_9/bottleneck_v2/conv1/BatchNorm/moving_variance/ExponentialMovingAverage:0, resnet_v2_101/block3/unit_9/bottleneck_v2/conv1/weights/ExponentialMovingAverage:0, resnet_v2_101/block3/unit_9/bottleneck_v2/conv2/BatchNorm/beta/ExponentialMovingAverage:0, resnet_v2_101/block3/unit_9/bottleneck_v2/conv2/BatchNorm/gamma/ExponentialMovingAverage:0, resnet_v2_101/block3/unit_9/bottleneck_v2/conv2/BatchNorm/moving_mean/ExponentialMovingAverage:0, resnet_v2_101/block3/unit_9/bottleneck_v2/conv2/BatchNorm/moving_variance/ExponentialMovingAverage:0, resnet_v2_101/block3/unit_9/bottleneck_v2/conv2/weights/ExponentialMovingAverage:0, resnet_v2_101/block3/unit_9/bottleneck_v2/conv3/biases/ExponentialMovingAverage:0, resnet_v2_101/block3/unit_9/bottleneck_v2/conv3/weights/ExponentialMovingAverage:0, resnet_v2_101/block3/unit_9/bottleneck_v2/preact/beta/ExponentialMovingAverage:0, resnet_v2_101/block3/unit_9/bottleneck_v2/preact/gamma/ExponentialMovingAverage:0, resnet_v2_101/block3/unit_9/bottleneck_v2/preact/moving_mean/ExponentialMovingAverage:0, resnet_v2_101/block3/unit_9/bottleneck_v2/preact/moving_variance/ExponentialMovingAverage:0, resnet_v2_101/block4/unit_1/bottleneck_v2/conv1/BatchNorm/beta/ExponentialMovingAverage:0, resnet_v2_101/block4/unit_1/bottleneck_v2/conv1/BatchNorm/gamma/ExponentialMovingAverage:0, resnet_v2_101/block4/unit_1/bottleneck_v2/conv1/BatchNorm/moving_mean/ExponentialMovingAverage:0, resnet_v2_101/block4/unit_1/bottleneck_v2/conv1/BatchNorm/moving_variance/ExponentialMovingAverage:0, resnet_v2_101/block4/unit_1/bottleneck_v2/conv1/weights/ExponentialMovingAverage:0, resnet_v2_101/block4/unit_1/bottleneck_v2/conv2/BatchNorm/beta/ExponentialMovingAverage:0, resnet_v2_101/block4/unit_1/bottleneck_v2/conv2/BatchNorm/gamma/ExponentialMovingAverage:0, resnet_v2_101/block4/unit_1/bottleneck_v2/conv2/BatchNorm/moving_mean/ExponentialMovingAverage:0, resnet_v2_101/block4/unit_1/bottleneck_v2/conv2/BatchNorm/moving_variance/ExponentialMovingAverage:0, resnet_v2_101/block4/unit_1/bottleneck_v2/conv2/weights/ExponentialMovingAverage:0, resnet_v2_101/block4/unit_1/bottleneck_v2/conv3/biases/ExponentialMovingAverage:0, resnet_v2_101/block4/unit_1/bottleneck_v2/conv3/weights/ExponentialMovingAverage:0, resnet_v2_101/block4/unit_1/bottleneck_v2/preact/beta/ExponentialMovingAverage:0, resnet_v2_101/block4/unit_1/bottleneck_v2/preact/gamma/ExponentialMovingAverage:0, resnet_v2_101/block4/unit_1/bottleneck_v2/preact/moving_mean/ExponentialMovingAverage:0, resnet_v2_101/block4/unit_1/bottleneck_v2/preact/moving_variance/ExponentialMovingAverage:0, resnet_v2_101/block4/unit_1/bottleneck_v2/shortcut/biases/ExponentialMovingAverage:0, resnet_v2_101/block4/unit_1/bottleneck_v2/shortcut/weights/ExponentialMovingAverage:0, resnet_v2_101/block4/unit_2/bottleneck_v2/conv1/BatchNorm/beta/ExponentialMovingAverage:0, resnet_v2_101/block4/unit_2/bottleneck_v2/conv1/BatchNorm/gamma/ExponentialMovingAverage:0, resnet_v2_101/block4/unit_2/bottleneck_v2/conv1/BatchNorm/moving_mean/ExponentialMovingAverage:0, resnet_v2_101/block4/unit_2/bottleneck_v2/conv1/BatchNorm/moving_variance/ExponentialMovingAverage:0, resnet_v2_101/block4/unit_2/bottleneck_v2/conv1/weights/ExponentialMovingAverage:0, resnet_v2_101/block4/unit_2/bottleneck_v2/conv2/BatchNorm/beta/ExponentialMovingAverage:0, resnet_v2_101/block4/unit_2/bottleneck_v2/conv2/BatchNorm/gamma/ExponentialMovingAverage:0, resnet_v2_101/block4/unit_2/bottleneck_v2/conv2/BatchNorm/moving_mean/ExponentialMovingAverage:0, resnet_v2_101/block4/unit_2/bottleneck_v2/conv2/BatchNorm/moving_variance/ExponentialMovingAverage:0, resnet_v2_101/block4/unit_2/bottleneck_v2/conv2/weights/ExponentialMovingAverage:0, resnet_v2_101/block4/unit_2/bottleneck_v2/conv3/biases/ExponentialMovingAverage:0, resnet_v2_101/block4/unit_2/bottleneck_v2/conv3/weights/ExponentialMovingAverage:0, resnet_v2_101/block4/unit_2/bottleneck_v2/preact/beta/ExponentialMovingAverage:0, resnet_v2_101/block4/unit_2/bottleneck_v2/preact/gamma/ExponentialMovingAverage:0, resnet_v2_101/block4/unit_2/bottleneck_v2/preact/moving_mean/ExponentialMovingAverage:0, resnet_v2_101/block4/unit_2/bottleneck_v2/preact/moving_variance/ExponentialMovingAverage:0, resnet_v2_101/block4/unit_3/bottleneck_v2/conv1/BatchNorm/beta/ExponentialMovingAverage:0, resnet_v2_101/block4/unit_3/bottleneck_v2/conv1/BatchNorm/gamma/ExponentialMovingAverage:0, resnet_v2_101/block4/unit_3/bottleneck_v2/conv1/BatchNorm/moving_mean/ExponentialMovingAverage:0, resnet_v2_101/block4/unit_3/bottleneck_v2/conv1/BatchNorm/moving_variance/ExponentialMovingAverage:0, resnet_v2_101/block4/unit_3/bottleneck_v2/conv1/weights/ExponentialMovingAverage:0, resnet_v2_101/block4/unit_3/bottleneck_v2/conv2/BatchNorm/beta/ExponentialMovingAverage:0, resnet_v2_101/block4/unit_3/bottleneck_v2/conv2/BatchNorm/gamma/ExponentialMovingAverage:0, resnet_v2_101/block4/unit_3/bottleneck_v2/conv2/BatchNorm/moving_mean/ExponentialMovingAverage:0, resnet_v2_101/block4/unit_3/bottleneck_v2/conv2/BatchNorm/moving_variance/ExponentialMovingAverage:0, resnet_v2_101/block4/unit_3/bottleneck_v2/conv2/weights/ExponentialMovingAverage:0, resnet_v2_101/block4/unit_3/bottleneck_v2/conv3/biases/ExponentialMovingAverage:0, resnet_v2_101/block4/unit_3/bottleneck_v2/conv3/weights/ExponentialMovingAverage:0, resnet_v2_101/block4/unit_3/bottleneck_v2/preact/beta/ExponentialMovingAverage:0, resnet_v2_101/block4/unit_3/bottleneck_v2/preact/gamma/ExponentialMovingAverage:0, resnet_v2_101/block4/unit_3/bottleneck_v2/preact/moving_mean/ExponentialMovingAverage:0, resnet_v2_101/block4/unit_3/bottleneck_v2/preact/moving_variance/ExponentialMovingAverage:0, resnet_v2_101/conv1/biases/ExponentialMovingAverage:0, resnet_v2_101/conv1/weights/ExponentialMovingAverage:0, resnet_v2_101/logits/biases/ExponentialMovingAverage:0, resnet_v2_101/logits/biases:0, resnet_v2_101/logits/weights/ExponentialMovingAverage:0, resnet_v2_101/logits/weights:0, resnet_v2_101/postnorm/beta/ExponentialMovingAverage:0, resnet_v2_101/postnorm/gamma/ExponentialMovingAverage:0, resnet_v2_101/postnorm/moving_mean/ExponentialMovingAverage:0, resnet_v2_101/postnorm/moving_variance/ExponentialMovingAverage:0, total_loss/ExponentialMovingAverage:0\n"
     ]
    },
    {
     "name": "stdout",
     "output_type": "stream",
     "text": [
      "\u001b[32m[1029 13:42:26 @base.py:212]\u001b[0m Creating the session ...\n",
      "\u001b[32m[1029 13:42:30 @base.py:216]\u001b[0m Initializing the session ...\n",
      "\u001b[32m[1029 13:42:30 @sessinit.py:116]\u001b[0m Restoring checkpoint from ./data/resnet_v2_101/resnet_v2_101.ckpt ...\n",
      "INFO:tensorflow:Restoring parameters from ./data/resnet_v2_101/resnet_v2_101.ckpt\n",
      "\u001b[32m[1029 13:42:30 @base.py:223]\u001b[0m Graph Finalized.\n",
      "\u001b[32m[1029 13:42:30 @param.py:144]\u001b[0m After epoch 0, learning_rate will change to 0.00010000\n",
      "\u001b[32m[1029 13:42:30 @concurrency.py:36]\u001b[0m Starting EnqueueThread DataParallelInferenceRunner/QueueInput/input_queue ...\n",
      "\u001b[32m[1029 13:42:33 @concurrency.py:36]\u001b[0m Starting EnqueueThread QueueInput/input_queue ...\n",
      "\u001b[32m[1029 13:42:33 @input_source.py:419]\u001b[0m Pre-filling staging area ...\n",
      "\u001b[32m[1029 13:42:35 @base.py:257]\u001b[0m Start Epoch 1 ...\n"
     ]
    },
    {
     "name": "stderr",
     "output_type": "stream",
     "text": [
      "100%|##########|55/55[01:57<00:00, 0.42it/s]"
     ]
    },
    {
     "name": "stdout",
     "output_type": "stream",
     "text": [
      "\u001b[32m[1029 13:44:33 @base.py:267]\u001b[0m Epoch 1 (global_step 55) finished, time:117.86 sec.\n"
     ]
    },
    {
     "name": "stderr",
     "output_type": "stream",
     "text": [
      "\n",
      "  0%|          |0/12[00:00<?,?it/s]/home/fuxiaofeng/Applications/anaconda3/lib/python3.6/site-packages/sklearn/metrics/classification.py:1135: UndefinedMetricWarning: F-score is ill-defined and being set to 0.0 in labels with no predicted samples.\n",
      "  'precision', 'predicted', average, warn_for)\n",
      "100%|##########|12/12[00:10<00:00, 1.28it/s]\n"
     ]
    },
    {
     "name": "stdout",
     "output_type": "stream",
     "text": [
      "\u001b[32m[1029 13:44:44 @saver.py:89]\u001b[0m Model saved to ./train_log/transfer/all_stages-g2/model-55.\n",
      "\u001b[32m[1029 13:44:45 @saver.py:158]\u001b[0m Model with maximum 'micro_auc' saved.\n",
      "\u001b[32m[1029 13:44:45 @monitor.py:362]\u001b[0m DataParallelInferenceRunner/QueueInput/queue_size: 50\n",
      "\u001b[32m[1029 13:44:45 @monitor.py:362]\u001b[0m QueueInput/queue_size: 33.754\n",
      "\u001b[32m[1029 13:44:45 @monitor.py:362]\u001b[0m coverage: 18.447\n",
      "\u001b[32m[1029 13:44:45 @monitor.py:362]\u001b[0m learning_rate: 0.0001\n",
      "\u001b[32m[1029 13:44:45 @monitor.py:362]\u001b[0m loss/value: 0.098758\n",
      "\u001b[32m[1029 13:44:45 @monitor.py:362]\u001b[0m macro_auc: 0.66615\n",
      "\u001b[32m[1029 13:44:45 @monitor.py:362]\u001b[0m macro_f1: 0.074686\n",
      "\u001b[32m[1029 13:44:45 @monitor.py:362]\u001b[0m mean_average_precision: 0.25619\n",
      "\u001b[32m[1029 13:44:45 @monitor.py:362]\u001b[0m micro_auc: 0.6168\n",
      "\u001b[32m[1029 13:44:45 @monitor.py:362]\u001b[0m micro_f1: 0.22844\n",
      "\u001b[32m[1029 13:44:45 @monitor.py:362]\u001b[0m one_error: 0.68229\n",
      "\u001b[32m[1029 13:44:45 @monitor.py:362]\u001b[0m ranking_loss: 0.41338\n",
      "\u001b[32m[1029 13:44:46 @monitor.py:362]\u001b[0m ranking_mean_average_precision: 0.3281\n",
      "\u001b[32m[1029 13:44:46 @monitor.py:362]\u001b[0m training_auc: 0.62772\n",
      "\u001b[32m[1029 13:44:46 @group.py:42]\u001b[0m Callbacks took 12.210 sec in total. DataParallelInferenceRunner: 10.299sec\n",
      "\u001b[32m[1029 13:44:46 @base.py:257]\u001b[0m Start Epoch 2 ...\n"
     ]
    },
    {
     "name": "stderr",
     "output_type": "stream",
     "text": [
      "100%|##########|55/55[01:52<00:00, 0.48it/s]"
     ]
    },
    {
     "name": "stdout",
     "output_type": "stream",
     "text": [
      "\u001b[32m[1029 13:46:38 @base.py:267]\u001b[0m Epoch 2 (global_step 110) finished, time:112.90 sec.\n"
     ]
    },
    {
     "name": "stderr",
     "output_type": "stream",
     "text": [
      "\n",
      "100%|##########|12/12[00:09<00:00, 1.27it/s]"
     ]
    },
    {
     "name": "stdout",
     "output_type": "stream",
     "text": [
      "\u001b[32m[1029 13:46:48 @saver.py:89]\u001b[0m Model saved to ./train_log/transfer/all_stages-g2/model-110.\n"
     ]
    },
    {
     "name": "stderr",
     "output_type": "stream",
     "text": [
      "\n"
     ]
    },
    {
     "name": "stdout",
     "output_type": "stream",
     "text": [
      "\u001b[32m[1029 13:46:48 @saver.py:158]\u001b[0m Model with maximum 'micro_auc' saved.\n",
      "\u001b[32m[1029 13:46:48 @monitor.py:362]\u001b[0m DataParallelInferenceRunner/QueueInput/queue_size: 49.099\n",
      "\u001b[32m[1029 13:46:48 @monitor.py:362]\u001b[0m QueueInput/queue_size: 48.156\n",
      "\u001b[32m[1029 13:46:48 @monitor.py:362]\u001b[0m coverage: 16.464\n",
      "\u001b[32m[1029 13:46:48 @monitor.py:362]\u001b[0m learning_rate: 0.0001\n",
      "\u001b[32m[1029 13:46:48 @monitor.py:362]\u001b[0m loss/value: 0.07471\n",
      "\u001b[32m[1029 13:46:48 @monitor.py:362]\u001b[0m macro_auc: 0.76917\n",
      "\u001b[32m[1029 13:46:48 @monitor.py:362]\u001b[0m macro_f1: 0.096349\n",
      "\u001b[32m[1029 13:46:48 @monitor.py:362]\u001b[0m mean_average_precision: 0.3526\n",
      "\u001b[32m[1029 13:46:48 @monitor.py:362]\u001b[0m micro_auc: 0.67459\n",
      "\u001b[32m[1029 13:46:48 @monitor.py:362]\u001b[0m micro_f1: 0.24816\n",
      "\u001b[32m[1029 13:46:48 @monitor.py:362]\u001b[0m one_error: 0.66927\n",
      "\u001b[32m[1029 13:46:48 @monitor.py:362]\u001b[0m ranking_loss: 0.35744\n",
      "\u001b[32m[1029 13:46:48 @monitor.py:362]\u001b[0m ranking_mean_average_precision: 0.36593\n",
      "\u001b[32m[1029 13:46:48 @monitor.py:362]\u001b[0m training_auc: 0.68663\n",
      "\u001b[32m[1029 13:46:48 @group.py:42]\u001b[0m Callbacks took 10.047 sec in total. DataParallelInferenceRunner: 9.636sec\n",
      "\u001b[32m[1029 13:46:48 @base.py:257]\u001b[0m Start Epoch 3 ...\n"
     ]
    },
    {
     "name": "stderr",
     "output_type": "stream",
     "text": [
      "100%|##########|55/55[01:55<00:00, 0.48it/s]"
     ]
    },
    {
     "name": "stdout",
     "output_type": "stream",
     "text": [
      "\u001b[32m[1029 13:48:44 @base.py:267]\u001b[0m Epoch 3 (global_step 165) finished, time:115.75 sec.\n"
     ]
    },
    {
     "name": "stderr",
     "output_type": "stream",
     "text": [
      "\n",
      "100%|##########|12/12[00:09<00:00, 1.22it/s]\n"
     ]
    },
    {
     "name": "stdout",
     "output_type": "stream",
     "text": [
      "\u001b[32m[1029 13:48:54 @saver.py:89]\u001b[0m Model saved to ./train_log/transfer/all_stages-g2/model-165.\n",
      "\u001b[32m[1029 13:48:55 @saver.py:158]\u001b[0m Model with maximum 'micro_auc' saved.\n",
      "\u001b[32m[1029 13:48:55 @monitor.py:362]\u001b[0m DataParallelInferenceRunner/QueueInput/queue_size: 49.361\n",
      "\u001b[32m[1029 13:48:55 @monitor.py:362]\u001b[0m QueueInput/queue_size: 49.312\n",
      "\u001b[32m[1029 13:48:55 @monitor.py:362]\u001b[0m coverage: 12.879\n",
      "\u001b[32m[1029 13:48:55 @monitor.py:362]\u001b[0m learning_rate: 0.0001\n",
      "\u001b[32m[1029 13:48:55 @monitor.py:362]\u001b[0m loss/value: 0.065983\n",
      "\u001b[32m[1029 13:48:55 @monitor.py:362]\u001b[0m macro_auc: 0.82465\n",
      "\u001b[32m[1029 13:48:55 @monitor.py:362]\u001b[0m macro_f1: 0.12439\n",
      "\u001b[32m[1029 13:48:55 @monitor.py:362]\u001b[0m mean_average_precision: 0.41478\n",
      "\u001b[32m[1029 13:48:55 @monitor.py:362]\u001b[0m micro_auc: 0.75194\n",
      "\u001b[32m[1029 13:48:55 @monitor.py:362]\u001b[0m micro_f1: 0.29278\n",
      "\u001b[32m[1029 13:48:55 @monitor.py:362]\u001b[0m one_error: 0.57552\n",
      "\u001b[32m[1029 13:48:55 @monitor.py:362]\u001b[0m ranking_loss: 0.26494\n",
      "\u001b[32m[1029 13:48:55 @monitor.py:362]\u001b[0m ranking_mean_average_precision: 0.45778\n",
      "\u001b[32m[1029 13:48:55 @monitor.py:362]\u001b[0m training_auc: 0.72749\n",
      "\u001b[32m[1029 13:48:55 @group.py:42]\u001b[0m Callbacks took 10.470 sec in total. DataParallelInferenceRunner: 9.853sec\n",
      "\u001b[32m[1029 13:48:55 @base.py:257]\u001b[0m Start Epoch 4 ...\n"
     ]
    },
    {
     "name": "stderr",
     "output_type": "stream",
     "text": [
      "100%|##########|55/55[01:54<00:00, 0.48it/s]"
     ]
    },
    {
     "name": "stdout",
     "output_type": "stream",
     "text": [
      "\u001b[32m[1029 13:50:50 @base.py:267]\u001b[0m Epoch 4 (global_step 220) finished, time:114.98 sec.\n"
     ]
    },
    {
     "name": "stderr",
     "output_type": "stream",
     "text": [
      "\n",
      "100%|##########|12/12[00:09<00:00, 1.24it/s]\n"
     ]
    },
    {
     "name": "stdout",
     "output_type": "stream",
     "text": [
      "\u001b[32m[1029 13:51:00 @saver.py:89]\u001b[0m Model saved to ./train_log/transfer/all_stages-g2/model-220.\n",
      "\u001b[32m[1029 13:51:01 @saver.py:158]\u001b[0m Model with maximum 'micro_auc' saved.\n",
      "\u001b[32m[1029 13:51:01 @monitor.py:362]\u001b[0m DataParallelInferenceRunner/QueueInput/queue_size: 49.458\n",
      "\u001b[32m[1029 13:51:01 @monitor.py:362]\u001b[0m QueueInput/queue_size: 49.447\n",
      "\u001b[32m[1029 13:51:01 @monitor.py:362]\u001b[0m coverage: 9.0599\n",
      "\u001b[32m[1029 13:51:01 @monitor.py:362]\u001b[0m learning_rate: 0.0001\n",
      "\u001b[32m[1029 13:51:01 @monitor.py:362]\u001b[0m loss/value: 0.060308\n",
      "\u001b[32m[1029 13:51:01 @monitor.py:362]\u001b[0m macro_auc: 0.87234\n",
      "\u001b[32m[1029 13:51:01 @monitor.py:362]\u001b[0m macro_f1: 0.18979\n",
      "\u001b[32m[1029 13:51:01 @monitor.py:362]\u001b[0m mean_average_precision: 0.48388\n",
      "\u001b[32m[1029 13:51:01 @monitor.py:362]\u001b[0m micro_auc: 0.83932\n",
      "\u001b[32m[1029 13:51:01 @monitor.py:362]\u001b[0m micro_f1: 0.37619\n",
      "\u001b[32m[1029 13:51:01 @monitor.py:362]\u001b[0m one_error: 0.53125\n",
      "\u001b[32m[1029 13:51:01 @monitor.py:362]\u001b[0m ranking_loss: 0.1725\n",
      "\u001b[32m[1029 13:51:01 @monitor.py:362]\u001b[0m ranking_mean_average_precision: 0.54183\n",
      "\u001b[32m[1029 13:51:01 @monitor.py:362]\u001b[0m training_auc: 0.75777\n",
      "\u001b[32m[1029 13:51:01 @group.py:42]\u001b[0m Callbacks took 11.107 sec in total. DataParallelInferenceRunner: 9.840sec\n",
      "\u001b[32m[1029 13:51:01 @base.py:257]\u001b[0m Start Epoch 5 ...\n"
     ]
    },
    {
     "name": "stderr",
     "output_type": "stream",
     "text": [
      "100%|##########|55/55[01:55<00:00, 0.47it/s]"
     ]
    },
    {
     "name": "stdout",
     "output_type": "stream",
     "text": [
      "\u001b[32m[1029 13:52:56 @base.py:267]\u001b[0m Epoch 5 (global_step 275) finished, time:115.23 sec.\n"
     ]
    },
    {
     "name": "stderr",
     "output_type": "stream",
     "text": [
      "\n",
      "100%|##########|12/12[00:09<00:00, 1.22it/s]\n"
     ]
    },
    {
     "name": "stdout",
     "output_type": "stream",
     "text": [
      "\u001b[32m[1029 13:53:06 @saver.py:89]\u001b[0m Model saved to ./train_log/transfer/all_stages-g2/model-275.\n",
      "\u001b[32m[1029 13:53:07 @saver.py:158]\u001b[0m Model with maximum 'micro_auc' saved.\n",
      "\u001b[32m[1029 13:53:07 @monitor.py:362]\u001b[0m DataParallelInferenceRunner/QueueInput/queue_size: 49.453\n",
      "\u001b[32m[1029 13:53:07 @monitor.py:362]\u001b[0m QueueInput/queue_size: 49.421\n",
      "\u001b[32m[1029 13:53:07 @monitor.py:362]\u001b[0m coverage: 6.7578\n",
      "\u001b[32m[1029 13:53:07 @monitor.py:362]\u001b[0m learning_rate: 0.0001\n",
      "\u001b[32m[1029 13:53:07 @monitor.py:362]\u001b[0m loss/value: 0.056483\n",
      "\u001b[32m[1029 13:53:07 @monitor.py:362]\u001b[0m macro_auc: 0.90673\n",
      "\u001b[32m[1029 13:53:07 @monitor.py:362]\u001b[0m macro_f1: 0.20508\n",
      "\u001b[32m[1029 13:53:07 @monitor.py:362]\u001b[0m mean_average_precision: 0.56197\n",
      "\u001b[32m[1029 13:53:07 @monitor.py:362]\u001b[0m micro_auc: 0.89469\n",
      "\u001b[32m[1029 13:53:07 @monitor.py:362]\u001b[0m micro_f1: 0.40968\n",
      "\u001b[32m[1029 13:53:07 @monitor.py:362]\u001b[0m one_error: 0.46745\n",
      "\u001b[32m[1029 13:53:07 @monitor.py:362]\u001b[0m ranking_loss: 0.11284\n",
      "\u001b[32m[1029 13:53:07 @monitor.py:362]\u001b[0m ranking_mean_average_precision: 0.61759\n",
      "\u001b[32m[1029 13:53:07 @monitor.py:362]\u001b[0m training_auc: 0.78146\n",
      "\u001b[32m[1029 13:53:07 @group.py:42]\u001b[0m Callbacks took 11.478 sec in total. DataParallelInferenceRunner: 9.950sec\n",
      "\u001b[32m[1029 13:53:07 @base.py:257]\u001b[0m Start Epoch 6 ...\n"
     ]
    },
    {
     "name": "stderr",
     "output_type": "stream",
     "text": [
      "100%|##########|55/55[01:55<00:00, 0.47it/s]"
     ]
    },
    {
     "name": "stdout",
     "output_type": "stream",
     "text": [
      "\u001b[32m[1029 13:55:03 @base.py:267]\u001b[0m Epoch 6 (global_step 330) finished, time:115.95 sec.\n"
     ]
    },
    {
     "name": "stderr",
     "output_type": "stream",
     "text": [
      "\n",
      "100%|##########|12/12[00:09<00:00, 1.22it/s]\n"
     ]
    },
    {
     "name": "stdout",
     "output_type": "stream",
     "text": [
      "\u001b[32m[1029 13:55:14 @saver.py:89]\u001b[0m Model saved to ./train_log/transfer/all_stages-g2/model-330.\n",
      "\u001b[32m[1029 13:55:14 @saver.py:158]\u001b[0m Model with maximum 'micro_auc' saved.\n",
      "\u001b[32m[1029 13:55:14 @monitor.py:362]\u001b[0m DataParallelInferenceRunner/QueueInput/queue_size: 49.598\n",
      "\u001b[32m[1029 13:55:14 @monitor.py:362]\u001b[0m QueueInput/queue_size: 49.627\n",
      "\u001b[32m[1029 13:55:14 @monitor.py:362]\u001b[0m coverage: 6.0781\n",
      "\u001b[32m[1029 13:55:14 @monitor.py:362]\u001b[0m learning_rate: 0.0001\n",
      "\u001b[32m[1029 13:55:14 @monitor.py:362]\u001b[0m loss/value: 0.053906\n",
      "\u001b[32m[1029 13:55:14 @monitor.py:362]\u001b[0m macro_auc: 0.92\n",
      "\u001b[32m[1029 13:55:14 @monitor.py:362]\u001b[0m macro_f1: 0.25183\n",
      "\u001b[32m[1029 13:55:14 @monitor.py:362]\u001b[0m mean_average_precision: 0.60328\n",
      "\u001b[32m[1029 13:55:14 @monitor.py:362]\u001b[0m micro_auc: 0.90798\n",
      "\u001b[32m[1029 13:55:14 @monitor.py:362]\u001b[0m micro_f1: 0.4491\n",
      "\u001b[32m[1029 13:55:14 @monitor.py:362]\u001b[0m one_error: 0.45573\n",
      "\u001b[32m[1029 13:55:14 @monitor.py:362]\u001b[0m ranking_loss: 0.098976\n",
      "\u001b[32m[1029 13:55:14 @monitor.py:362]\u001b[0m ranking_mean_average_precision: 0.63697\n",
      "\u001b[32m[1029 13:55:14 @monitor.py:362]\u001b[0m training_auc: 0.80032\n",
      "\u001b[32m[1029 13:55:14 @group.py:42]\u001b[0m Callbacks took 10.620 sec in total. DataParallelInferenceRunner: 9.891sec\n",
      "\u001b[32m[1029 13:55:14 @base.py:257]\u001b[0m Start Epoch 7 ...\n"
     ]
    },
    {
     "name": "stderr",
     "output_type": "stream",
     "text": [
      "100%|##########|55/55[01:55<00:00, 0.46it/s]"
     ]
    },
    {
     "name": "stdout",
     "output_type": "stream",
     "text": [
      "\u001b[32m[1029 13:57:09 @base.py:267]\u001b[0m Epoch 7 (global_step 385) finished, time:115.21 sec.\n"
     ]
    },
    {
     "name": "stderr",
     "output_type": "stream",
     "text": [
      "\n",
      "100%|##########|12/12[00:09<00:00, 1.24it/s]\n"
     ]
    },
    {
     "name": "stdout",
     "output_type": "stream",
     "text": [
      "\u001b[32m[1029 13:57:19 @saver.py:89]\u001b[0m Model saved to ./train_log/transfer/all_stages-g2/model-385.\n",
      "\u001b[32m[1029 13:57:20 @saver.py:158]\u001b[0m Model with maximum 'micro_auc' saved.\n",
      "\u001b[32m[1029 13:57:20 @monitor.py:362]\u001b[0m DataParallelInferenceRunner/QueueInput/queue_size: 49.403\n",
      "\u001b[32m[1029 13:57:20 @monitor.py:362]\u001b[0m QueueInput/queue_size: 49.37\n",
      "\u001b[32m[1029 13:57:20 @monitor.py:362]\u001b[0m coverage: 5.5508\n",
      "\u001b[32m[1029 13:57:20 @monitor.py:362]\u001b[0m learning_rate: 0.0001\n",
      "\u001b[32m[1029 13:57:20 @monitor.py:362]\u001b[0m loss/value: 0.050682\n",
      "\u001b[32m[1029 13:57:20 @monitor.py:362]\u001b[0m macro_auc: 0.92423\n",
      "\u001b[32m[1029 13:57:20 @monitor.py:362]\u001b[0m macro_f1: 0.31058\n",
      "\u001b[32m[1029 13:57:20 @monitor.py:362]\u001b[0m mean_average_precision: 0.62441\n",
      "\u001b[32m[1029 13:57:20 @monitor.py:362]\u001b[0m micro_auc: 0.91753\n",
      "\u001b[32m[1029 13:57:20 @monitor.py:362]\u001b[0m micro_f1: 0.49501\n",
      "\u001b[32m[1029 13:57:20 @monitor.py:362]\u001b[0m one_error: 0.41536\n",
      "\u001b[32m[1029 13:57:20 @monitor.py:362]\u001b[0m ranking_loss: 0.089622\n",
      "\u001b[32m[1029 13:57:20 @monitor.py:362]\u001b[0m ranking_mean_average_precision: 0.66555\n",
      "\u001b[32m[1029 13:57:20 @monitor.py:362]\u001b[0m training_auc: 0.81654\n",
      "\u001b[32m[1029 13:57:20 @group.py:42]\u001b[0m Callbacks took 10.552 sec in total. DataParallelInferenceRunner: 9.941sec\n",
      "\u001b[32m[1029 13:57:20 @base.py:257]\u001b[0m Start Epoch 8 ...\n"
     ]
    },
    {
     "name": "stderr",
     "output_type": "stream",
     "text": [
      "100%|##########|55/55[01:57<00:00, 0.46it/s]"
     ]
    },
    {
     "name": "stdout",
     "output_type": "stream",
     "text": [
      "\u001b[32m[1029 13:59:17 @base.py:267]\u001b[0m Epoch 8 (global_step 440) finished, time:117.02 sec.\n"
     ]
    },
    {
     "name": "stderr",
     "output_type": "stream",
     "text": [
      "\n",
      "100%|##########|12/12[00:09<00:00, 1.21it/s]"
     ]
    },
    {
     "name": "stdout",
     "output_type": "stream",
     "text": [
      "\u001b[32m[1029 13:59:27 @saver.py:89]\u001b[0m Model saved to ./train_log/transfer/all_stages-g2/model-440.\n"
     ]
    },
    {
     "name": "stderr",
     "output_type": "stream",
     "text": [
      "\n"
     ]
    },
    {
     "name": "stdout",
     "output_type": "stream",
     "text": [
      "\u001b[32m[1029 13:59:28 @saver.py:158]\u001b[0m Model with maximum 'micro_auc' saved.\n",
      "\u001b[32m[1029 13:59:28 @monitor.py:362]\u001b[0m DataParallelInferenceRunner/QueueInput/queue_size: 49.516\n",
      "\u001b[32m[1029 13:59:28 @monitor.py:362]\u001b[0m QueueInput/queue_size: 49.621\n",
      "\u001b[32m[1029 13:59:28 @monitor.py:362]\u001b[0m coverage: 4.9714\n",
      "\u001b[32m[1029 13:59:28 @monitor.py:362]\u001b[0m learning_rate: 0.0001\n",
      "\u001b[32m[1029 13:59:28 @monitor.py:362]\u001b[0m loss/value: 0.048696\n",
      "\u001b[32m[1029 13:59:28 @monitor.py:362]\u001b[0m macro_auc: 0.92998\n",
      "\u001b[32m[1029 13:59:28 @monitor.py:362]\u001b[0m macro_f1: 0.34187\n",
      "\u001b[32m[1029 13:59:28 @monitor.py:362]\u001b[0m mean_average_precision: 0.64026\n",
      "\u001b[32m[1029 13:59:28 @monitor.py:362]\u001b[0m micro_auc: 0.93028\n",
      "\u001b[32m[1029 13:59:28 @monitor.py:362]\u001b[0m micro_f1: 0.49378\n",
      "\u001b[32m[1029 13:59:28 @monitor.py:362]\u001b[0m one_error: 0.35938\n",
      "\u001b[32m[1029 13:59:28 @monitor.py:362]\u001b[0m ranking_loss: 0.072921\n",
      "\u001b[32m[1029 13:59:28 @monitor.py:362]\u001b[0m ranking_mean_average_precision: 0.70876\n",
      "\u001b[32m[1029 13:59:28 @monitor.py:362]\u001b[0m training_auc: 0.83001\n",
      "\u001b[32m[1029 13:59:28 @group.py:42]\u001b[0m Callbacks took 10.824 sec in total. DataParallelInferenceRunner: 9.830sec\n",
      "\u001b[32m[1029 13:59:28 @base.py:257]\u001b[0m Start Epoch 9 ...\n"
     ]
    },
    {
     "name": "stderr",
     "output_type": "stream",
     "text": [
      "100%|##########|55/55[01:55<00:00, 0.47it/s]"
     ]
    },
    {
     "name": "stdout",
     "output_type": "stream",
     "text": [
      "\u001b[32m[1029 14:01:23 @base.py:267]\u001b[0m Epoch 9 (global_step 495) finished, time:115.45 sec.\n"
     ]
    },
    {
     "name": "stderr",
     "output_type": "stream",
     "text": [
      "\n",
      "100%|##########|12/12[00:09<00:00, 1.22it/s]"
     ]
    },
    {
     "name": "stdout",
     "output_type": "stream",
     "text": [
      "\u001b[32m[1029 14:01:33 @saver.py:89]\u001b[0m Model saved to ./train_log/transfer/all_stages-g2/model-495.\n"
     ]
    },
    {
     "name": "stderr",
     "output_type": "stream",
     "text": [
      "\n"
     ]
    },
    {
     "name": "stdout",
     "output_type": "stream",
     "text": [
      "\u001b[32m[1029 14:01:34 @saver.py:158]\u001b[0m Model with maximum 'micro_auc' saved.\n",
      "\u001b[32m[1029 14:01:34 @monitor.py:362]\u001b[0m DataParallelInferenceRunner/QueueInput/queue_size: 49.55\n",
      "\u001b[32m[1029 14:01:34 @monitor.py:362]\u001b[0m QueueInput/queue_size: 49.507\n",
      "\u001b[32m[1029 14:01:34 @monitor.py:362]\u001b[0m coverage: 4.849\n",
      "\u001b[32m[1029 14:01:34 @monitor.py:362]\u001b[0m learning_rate: 0.0001\n",
      "\u001b[32m[1029 14:01:34 @monitor.py:362]\u001b[0m loss/value: 0.046123\n",
      "\u001b[32m[1029 14:01:34 @monitor.py:362]\u001b[0m macro_auc: 0.92943\n",
      "\u001b[32m[1029 14:01:34 @monitor.py:362]\u001b[0m macro_f1: 0.36028\n",
      "\u001b[32m[1029 14:01:34 @monitor.py:362]\u001b[0m mean_average_precision: 0.64497\n",
      "\u001b[32m[1029 14:01:34 @monitor.py:362]\u001b[0m micro_auc: 0.93158\n",
      "\u001b[32m[1029 14:01:34 @monitor.py:362]\u001b[0m micro_f1: 0.52011\n",
      "\u001b[32m[1029 14:01:34 @monitor.py:362]\u001b[0m one_error: 0.34766\n",
      "\u001b[32m[1029 14:01:34 @monitor.py:362]\u001b[0m ranking_loss: 0.069754\n",
      "\u001b[32m[1029 14:01:34 @monitor.py:362]\u001b[0m ranking_mean_average_precision: 0.71279\n",
      "\u001b[32m[1029 14:01:34 @monitor.py:362]\u001b[0m training_auc: 0.84145\n",
      "\u001b[32m[1029 14:01:34 @group.py:42]\u001b[0m Callbacks took 11.210 sec in total. DataParallelInferenceRunner: 9.924sec\n",
      "\u001b[32m[1029 14:01:34 @base.py:257]\u001b[0m Start Epoch 10 ...\n"
     ]
    },
    {
     "name": "stderr",
     "output_type": "stream",
     "text": [
      "100%|##########|55/55[01:54<00:00, 0.48it/s]"
     ]
    },
    {
     "name": "stdout",
     "output_type": "stream",
     "text": [
      "\u001b[32m[1029 14:03:29 @base.py:267]\u001b[0m Epoch 10 (global_step 550) finished, time:114.58 sec.\n"
     ]
    },
    {
     "name": "stderr",
     "output_type": "stream",
     "text": [
      "\n",
      "100%|##########|12/12[00:10<00:00, 1.22it/s]\n"
     ]
    },
    {
     "name": "stdout",
     "output_type": "stream",
     "text": [
      "\u001b[32m[1029 14:03:39 @saver.py:89]\u001b[0m Model saved to ./train_log/transfer/all_stages-g2/model-550.\n",
      "\u001b[32m[1029 14:03:40 @saver.py:158]\u001b[0m Model with maximum 'micro_auc' saved.\n",
      "\u001b[32m[1029 14:03:40 @monitor.py:362]\u001b[0m DataParallelInferenceRunner/QueueInput/queue_size: 49.508\n",
      "\u001b[32m[1029 14:03:40 @monitor.py:362]\u001b[0m QueueInput/queue_size: 49.453\n",
      "\u001b[32m[1029 14:03:40 @monitor.py:362]\u001b[0m coverage: 4.6471\n",
      "\u001b[32m[1029 14:03:40 @monitor.py:362]\u001b[0m learning_rate: 0.0001\n",
      "\u001b[32m[1029 14:03:40 @monitor.py:362]\u001b[0m loss/value: 0.044292\n",
      "\u001b[32m[1029 14:03:40 @monitor.py:362]\u001b[0m macro_auc: 0.93178\n",
      "\u001b[32m[1029 14:03:40 @monitor.py:362]\u001b[0m macro_f1: 0.33598\n",
      "\u001b[32m[1029 14:03:40 @monitor.py:362]\u001b[0m mean_average_precision: 0.63856\n",
      "\u001b[32m[1029 14:03:40 @monitor.py:362]\u001b[0m micro_auc: 0.93471\n",
      "\u001b[32m[1029 14:03:40 @monitor.py:362]\u001b[0m micro_f1: 0.48742\n",
      "\u001b[32m[1029 14:03:40 @monitor.py:362]\u001b[0m one_error: 0.34505\n",
      "\u001b[32m[1029 14:03:40 @monitor.py:362]\u001b[0m ranking_loss: 0.06613\n",
      "\u001b[32m[1029 14:03:40 @monitor.py:362]\u001b[0m ranking_mean_average_precision: 0.71587\n",
      "\u001b[32m[1029 14:03:40 @monitor.py:362]\u001b[0m training_auc: 0.85127\n",
      "\u001b[32m[1029 14:03:40 @group.py:42]\u001b[0m Callbacks took 11.461 sec in total. DataParallelInferenceRunner: 10.076sec\n",
      "\u001b[32m[1029 14:03:40 @base.py:257]\u001b[0m Start Epoch 11 ...\n"
     ]
    },
    {
     "name": "stderr",
     "output_type": "stream",
     "text": [
      "100%|##########|55/55[01:54<00:00, 0.48it/s]"
     ]
    },
    {
     "name": "stdout",
     "output_type": "stream",
     "text": [
      "\u001b[32m[1029 14:05:35 @base.py:267]\u001b[0m Epoch 11 (global_step 605) finished, time:114.72 sec.\n"
     ]
    },
    {
     "name": "stderr",
     "output_type": "stream",
     "text": [
      "\n",
      "100%|##########|12/12[00:09<00:00, 1.22it/s]"
     ]
    },
    {
     "name": "stdout",
     "output_type": "stream",
     "text": [
      "\u001b[32m[1029 14:05:45 @saver.py:89]\u001b[0m Model saved to ./train_log/transfer/all_stages-g2/model-605.\n"
     ]
    },
    {
     "name": "stderr",
     "output_type": "stream",
     "text": [
      "\n"
     ]
    },
    {
     "name": "stdout",
     "output_type": "stream",
     "text": [
      "\u001b[32m[1029 14:05:46 @saver.py:158]\u001b[0m Model with maximum 'micro_auc' saved.\n",
      "\u001b[32m[1029 14:05:46 @monitor.py:362]\u001b[0m DataParallelInferenceRunner/QueueInput/queue_size: 49.616\n",
      "\u001b[32m[1029 14:05:46 @monitor.py:362]\u001b[0m QueueInput/queue_size: 49.339\n",
      "\u001b[32m[1029 14:05:46 @monitor.py:362]\u001b[0m coverage: 4.5456\n",
      "\u001b[32m[1029 14:05:46 @monitor.py:362]\u001b[0m learning_rate: 0.0001\n",
      "\u001b[32m[1029 14:05:46 @monitor.py:362]\u001b[0m loss/value: 0.042444\n",
      "\u001b[32m[1029 14:05:46 @monitor.py:362]\u001b[0m macro_auc: 0.93537\n",
      "\u001b[32m[1029 14:05:46 @monitor.py:362]\u001b[0m macro_f1: 0.3837\n",
      "\u001b[32m[1029 14:05:46 @monitor.py:362]\u001b[0m mean_average_precision: 0.66415\n",
      "\u001b[32m[1029 14:05:46 @monitor.py:362]\u001b[0m micro_auc: 0.93823\n",
      "\u001b[32m[1029 14:05:46 @monitor.py:362]\u001b[0m micro_f1: 0.52287\n",
      "\u001b[32m[1029 14:05:46 @monitor.py:362]\u001b[0m one_error: 0.33724\n",
      "\u001b[32m[1029 14:05:46 @monitor.py:362]\u001b[0m ranking_loss: 0.063723\n",
      "\u001b[32m[1029 14:05:46 @monitor.py:362]\u001b[0m ranking_mean_average_precision: 0.71966\n",
      "\u001b[32m[1029 14:05:46 @monitor.py:362]\u001b[0m training_auc: 0.86039\n",
      "\u001b[32m[1029 14:05:46 @group.py:42]\u001b[0m Callbacks took 10.624 sec in total. DataParallelInferenceRunner: 9.932sec\n",
      "\u001b[32m[1029 14:05:46 @base.py:257]\u001b[0m Start Epoch 12 ...\n"
     ]
    },
    {
     "name": "stderr",
     "output_type": "stream",
     "text": [
      "100%|##########|55/55[01:55<00:00, 0.48it/s]"
     ]
    },
    {
     "name": "stdout",
     "output_type": "stream",
     "text": [
      "\u001b[32m[1029 14:07:41 @base.py:267]\u001b[0m Epoch 12 (global_step 660) finished, time:115.75 sec.\n"
     ]
    },
    {
     "name": "stderr",
     "output_type": "stream",
     "text": [
      "\n",
      "100%|##########|12/12[00:09<00:00, 1.20it/s]\n"
     ]
    },
    {
     "name": "stdout",
     "output_type": "stream",
     "text": [
      "\u001b[32m[1029 14:07:52 @saver.py:89]\u001b[0m Model saved to ./train_log/transfer/all_stages-g2/model-660.\n",
      "\u001b[32m[1029 14:07:53 @saver.py:158]\u001b[0m Model with maximum 'micro_auc' saved.\n",
      "\u001b[32m[1029 14:07:53 @monitor.py:362]\u001b[0m DataParallelInferenceRunner/QueueInput/queue_size: 49.614\n",
      "\u001b[32m[1029 14:07:53 @monitor.py:362]\u001b[0m QueueInput/queue_size: 49.639\n",
      "\u001b[32m[1029 14:07:53 @monitor.py:362]\u001b[0m coverage: 4.5807\n",
      "\u001b[32m[1029 14:07:53 @monitor.py:362]\u001b[0m learning_rate: 0.0001\n",
      "\u001b[32m[1029 14:07:53 @monitor.py:362]\u001b[0m loss/value: 0.041485\n",
      "\u001b[32m[1029 14:07:53 @monitor.py:362]\u001b[0m macro_auc: 0.93293\n",
      "\u001b[32m[1029 14:07:53 @monitor.py:362]\u001b[0m macro_f1: 0.37274\n",
      "\u001b[32m[1029 14:07:53 @monitor.py:362]\u001b[0m mean_average_precision: 0.66235\n",
      "\u001b[32m[1029 14:07:53 @monitor.py:362]\u001b[0m micro_auc: 0.93842\n",
      "\u001b[32m[1029 14:07:53 @monitor.py:362]\u001b[0m micro_f1: 0.50885\n",
      "\u001b[32m[1029 14:07:53 @monitor.py:362]\u001b[0m one_error: 0.33203\n",
      "\u001b[32m[1029 14:07:53 @monitor.py:362]\u001b[0m ranking_loss: 0.06445\n",
      "\u001b[32m[1029 14:07:53 @monitor.py:362]\u001b[0m ranking_mean_average_precision: 0.72908\n",
      "\u001b[32m[1029 14:07:53 @monitor.py:362]\u001b[0m training_auc: 0.86821\n",
      "\u001b[32m[1029 14:07:53 @group.py:42]\u001b[0m Callbacks took 11.142 sec in total. DataParallelInferenceRunner: 9.837sec\n",
      "\u001b[32m[1029 14:07:53 @base.py:257]\u001b[0m Start Epoch 13 ...\n"
     ]
    },
    {
     "name": "stderr",
     "output_type": "stream",
     "text": [
      "100%|##########|55/55[01:55<00:00, 0.47it/s]"
     ]
    },
    {
     "name": "stdout",
     "output_type": "stream",
     "text": [
      "\u001b[32m[1029 14:09:48 @base.py:267]\u001b[0m Epoch 13 (global_step 715) finished, time:115.83 sec.\n"
     ]
    },
    {
     "name": "stderr",
     "output_type": "stream",
     "text": [
      "\n",
      "100%|##########|12/12[00:10<00:00, 1.20it/s]\n"
     ]
    },
    {
     "name": "stdout",
     "output_type": "stream",
     "text": [
      "\u001b[32m[1029 14:09:59 @saver.py:89]\u001b[0m Model saved to ./train_log/transfer/all_stages-g2/model-715.\n",
      "\u001b[32m[1029 14:10:00 @saver.py:158]\u001b[0m Model with maximum 'micro_auc' saved.\n",
      "\u001b[32m[1029 14:10:00 @monitor.py:362]\u001b[0m DataParallelInferenceRunner/QueueInput/queue_size: 49.643\n",
      "\u001b[32m[1029 14:10:00 @monitor.py:362]\u001b[0m QueueInput/queue_size: 49.547\n",
      "\u001b[32m[1029 14:10:00 @monitor.py:362]\u001b[0m coverage: 4.4232\n",
      "\u001b[32m[1029 14:10:00 @monitor.py:362]\u001b[0m learning_rate: 0.0001\n",
      "\u001b[32m[1029 14:10:00 @monitor.py:362]\u001b[0m loss/value: 0.040558\n",
      "\u001b[32m[1029 14:10:00 @monitor.py:362]\u001b[0m macro_auc: 0.93814\n",
      "\u001b[32m[1029 14:10:00 @monitor.py:362]\u001b[0m macro_f1: 0.39435\n",
      "\u001b[32m[1029 14:10:00 @monitor.py:362]\u001b[0m mean_average_precision: 0.67383\n",
      "\u001b[32m[1029 14:10:00 @monitor.py:362]\u001b[0m micro_auc: 0.94138\n",
      "\u001b[32m[1029 14:10:00 @monitor.py:362]\u001b[0m micro_f1: 0.53148\n",
      "\u001b[32m[1029 14:10:00 @monitor.py:362]\u001b[0m one_error: 0.30078\n",
      "\u001b[32m[1029 14:10:00 @monitor.py:362]\u001b[0m ranking_loss: 0.060154\n",
      "\u001b[32m[1029 14:10:00 @monitor.py:362]\u001b[0m ranking_mean_average_precision: 0.74508\n",
      "\u001b[32m[1029 14:10:00 @monitor.py:362]\u001b[0m training_auc: 0.87504\n",
      "\u001b[32m[1029 14:10:00 @group.py:42]\u001b[0m Callbacks took 11.361 sec in total. DataParallelInferenceRunner: 10.032sec\n",
      "\u001b[32m[1029 14:10:00 @base.py:257]\u001b[0m Start Epoch 14 ...\n"
     ]
    },
    {
     "name": "stderr",
     "output_type": "stream",
     "text": [
      "100%|##########|55/55[01:55<00:00, 0.48it/s]"
     ]
    },
    {
     "name": "stdout",
     "output_type": "stream",
     "text": [
      "\u001b[32m[1029 14:11:56 @base.py:267]\u001b[0m Epoch 14 (global_step 770) finished, time:115.89 sec.\n"
     ]
    },
    {
     "name": "stderr",
     "output_type": "stream",
     "text": [
      "\n",
      "100%|##########|12/12[00:10<00:00, 1.13it/s]\n"
     ]
    },
    {
     "name": "stdout",
     "output_type": "stream",
     "text": [
      "\u001b[32m[1029 14:12:06 @saver.py:89]\u001b[0m Model saved to ./train_log/transfer/all_stages-g2/model-770.\n",
      "\u001b[32m[1029 14:12:06 @monitor.py:362]\u001b[0m DataParallelInferenceRunner/QueueInput/queue_size: 49.667\n",
      "\u001b[32m[1029 14:12:06 @monitor.py:362]\u001b[0m QueueInput/queue_size: 49.495\n",
      "\u001b[32m[1029 14:12:06 @monitor.py:362]\u001b[0m coverage: 4.4388\n",
      "\u001b[32m[1029 14:12:06 @monitor.py:362]\u001b[0m learning_rate: 0.0001\n",
      "\u001b[32m[1029 14:12:06 @monitor.py:362]\u001b[0m loss/value: 0.037905\n",
      "\u001b[32m[1029 14:12:06 @monitor.py:362]\u001b[0m macro_auc: 0.93686\n",
      "\u001b[32m[1029 14:12:06 @monitor.py:362]\u001b[0m macro_f1: 0.38288\n",
      "\u001b[32m[1029 14:12:06 @monitor.py:362]\u001b[0m mean_average_precision: 0.67757\n",
      "\u001b[32m[1029 14:12:06 @monitor.py:362]\u001b[0m micro_auc: 0.93971\n",
      "\u001b[32m[1029 14:12:06 @monitor.py:362]\u001b[0m micro_f1: 0.53947\n",
      "\u001b[32m[1029 14:12:06 @monitor.py:362]\u001b[0m one_error: 0.32422\n",
      "\u001b[32m[1029 14:12:06 @monitor.py:362]\u001b[0m ranking_loss: 0.062223\n",
      "\u001b[32m[1029 14:12:06 @monitor.py:362]\u001b[0m ranking_mean_average_precision: 0.73075\n",
      "\u001b[32m[1029 14:12:06 @monitor.py:362]\u001b[0m training_auc: 0.88153\n",
      "\u001b[32m[1029 14:12:06 @group.py:42]\u001b[0m Callbacks took 10.579 sec in total. DataParallelInferenceRunner: 10.306sec\n",
      "\u001b[32m[1029 14:12:06 @base.py:257]\u001b[0m Start Epoch 15 ...\n"
     ]
    },
    {
     "name": "stderr",
     "output_type": "stream",
     "text": [
      "100%|##########|55/55[01:55<00:00, 0.47it/s]"
     ]
    },
    {
     "name": "stdout",
     "output_type": "stream",
     "text": [
      "\u001b[32m[1029 14:14:02 @base.py:267]\u001b[0m Epoch 15 (global_step 825) finished, time:115.51 sec.\n",
      "\u001b[32m[1029 14:14:02 @param.py:144]\u001b[0m After epoch 15, learning_rate will change to 0.00001000\n"
     ]
    },
    {
     "name": "stderr",
     "output_type": "stream",
     "text": [
      "\n",
      "100%|##########|12/12[00:09<00:00, 1.20it/s]\n"
     ]
    },
    {
     "name": "stdout",
     "output_type": "stream",
     "text": [
      "\u001b[32m[1029 14:14:12 @saver.py:89]\u001b[0m Model saved to ./train_log/transfer/all_stages-g2/model-825.\n",
      "\u001b[32m[1029 14:14:12 @monitor.py:362]\u001b[0m DataParallelInferenceRunner/QueueInput/queue_size: 49.59\n",
      "\u001b[32m[1029 14:14:12 @monitor.py:362]\u001b[0m QueueInput/queue_size: 49.322\n",
      "\u001b[32m[1029 14:14:12 @monitor.py:362]\u001b[0m coverage: 4.7018\n",
      "\u001b[32m[1029 14:14:12 @monitor.py:362]\u001b[0m learning_rate: 0.0001\n",
      "\u001b[32m[1029 14:14:12 @monitor.py:362]\u001b[0m loss/value: 0.036669\n",
      "\u001b[32m[1029 14:14:12 @monitor.py:362]\u001b[0m macro_auc: 0.93669\n",
      "\u001b[32m[1029 14:14:12 @monitor.py:362]\u001b[0m macro_f1: 0.44224\n",
      "\u001b[32m[1029 14:14:12 @monitor.py:362]\u001b[0m mean_average_precision: 0.68543\n",
      "\u001b[32m[1029 14:14:12 @monitor.py:362]\u001b[0m micro_auc: 0.93726\n",
      "\u001b[32m[1029 14:14:12 @monitor.py:362]\u001b[0m micro_f1: 0.56676\n",
      "\u001b[32m[1029 14:14:12 @monitor.py:362]\u001b[0m one_error: 0.3151\n",
      "\u001b[32m[1029 14:14:12 @monitor.py:362]\u001b[0m ranking_loss: 0.065062\n",
      "\u001b[32m[1029 14:14:12 @monitor.py:362]\u001b[0m ranking_mean_average_precision: 0.73196\n",
      "\u001b[32m[1029 14:14:12 @monitor.py:362]\u001b[0m training_auc: 0.88743\n",
      "\u001b[32m[1029 14:14:12 @group.py:42]\u001b[0m Callbacks took 10.271 sec in total. DataParallelInferenceRunner: 9.991sec\n",
      "\u001b[32m[1029 14:14:12 @base.py:257]\u001b[0m Start Epoch 16 ...\n"
     ]
    },
    {
     "name": "stderr",
     "output_type": "stream",
     "text": [
      "100%|##########|55/55[01:56<00:00, 0.48it/s]"
     ]
    },
    {
     "name": "stdout",
     "output_type": "stream",
     "text": [
      "\u001b[32m[1029 14:16:08 @base.py:267]\u001b[0m Epoch 16 (global_step 880) finished, time:116.15 sec.\n"
     ]
    },
    {
     "name": "stderr",
     "output_type": "stream",
     "text": [
      "\n",
      "100%|##########|12/12[00:09<00:00, 1.23it/s]\n"
     ]
    },
    {
     "name": "stdout",
     "output_type": "stream",
     "text": [
      "\u001b[32m[1029 14:16:18 @saver.py:89]\u001b[0m Model saved to ./train_log/transfer/all_stages-g2/model-880.\n",
      "\u001b[32m[1029 14:16:19 @saver.py:158]\u001b[0m Model with maximum 'micro_auc' saved.\n",
      "\u001b[32m[1029 14:16:19 @monitor.py:362]\u001b[0m DataParallelInferenceRunner/QueueInput/queue_size: 49.587\n",
      "\u001b[32m[1029 14:16:19 @monitor.py:362]\u001b[0m QueueInput/queue_size: 49.258\n",
      "\u001b[32m[1029 14:16:19 @monitor.py:362]\u001b[0m coverage: 4.168\n",
      "\u001b[32m[1029 14:16:19 @monitor.py:362]\u001b[0m learning_rate: 1e-05\n",
      "\u001b[32m[1029 14:16:19 @monitor.py:362]\u001b[0m loss/value: 0.035079\n",
      "\u001b[32m[1029 14:16:19 @monitor.py:362]\u001b[0m macro_auc: 0.93797\n",
      "\u001b[32m[1029 14:16:19 @monitor.py:362]\u001b[0m macro_f1: 0.45165\n",
      "\u001b[32m[1029 14:16:19 @monitor.py:362]\u001b[0m mean_average_precision: 0.68681\n",
      "\u001b[32m[1029 14:16:19 @monitor.py:362]\u001b[0m micro_auc: 0.94706\n",
      "\u001b[32m[1029 14:16:19 @monitor.py:362]\u001b[0m micro_f1: 0.57513\n",
      "\u001b[32m[1029 14:16:19 @monitor.py:362]\u001b[0m one_error: 0.3151\n",
      "\u001b[32m[1029 14:16:19 @monitor.py:362]\u001b[0m ranking_loss: 0.054673\n",
      "\u001b[32m[1029 14:16:19 @monitor.py:362]\u001b[0m ranking_mean_average_precision: 0.7471\n",
      "\u001b[32m[1029 14:16:19 @monitor.py:362]\u001b[0m training_auc: 0.89294\n",
      "\u001b[32m[1029 14:16:19 @group.py:42]\u001b[0m Callbacks took 10.982 sec in total. DataParallelInferenceRunner: 9.947sec\n",
      "\u001b[32m[1029 14:16:19 @base.py:257]\u001b[0m Start Epoch 17 ...\n"
     ]
    },
    {
     "name": "stderr",
     "output_type": "stream",
     "text": [
      "100%|##########|55/55[01:55<00:00, 0.48it/s]"
     ]
    },
    {
     "name": "stdout",
     "output_type": "stream",
     "text": [
      "\u001b[32m[1029 14:18:15 @base.py:267]\u001b[0m Epoch 17 (global_step 935) finished, time:115.87 sec.\n"
     ]
    },
    {
     "name": "stderr",
     "output_type": "stream",
     "text": [
      "\n",
      "100%|##########|12/12[00:09<00:00, 1.21it/s]\n"
     ]
    },
    {
     "name": "stdout",
     "output_type": "stream",
     "text": [
      "\u001b[32m[1029 14:18:25 @saver.py:89]\u001b[0m Model saved to ./train_log/transfer/all_stages-g2/model-935.\n",
      "\u001b[32m[1029 14:18:26 @saver.py:158]\u001b[0m Model with maximum 'micro_auc' saved.\n",
      "\u001b[32m[1029 14:18:26 @monitor.py:362]\u001b[0m DataParallelInferenceRunner/QueueInput/queue_size: 49.585\n",
      "\u001b[32m[1029 14:18:26 @monitor.py:362]\u001b[0m QueueInput/queue_size: 49.39\n",
      "\u001b[32m[1029 14:18:26 @monitor.py:362]\u001b[0m coverage: 4.0482\n",
      "\u001b[32m[1029 14:18:26 @monitor.py:362]\u001b[0m learning_rate: 1e-05\n",
      "\u001b[32m[1029 14:18:26 @monitor.py:362]\u001b[0m loss/value: 0.034224\n",
      "\u001b[32m[1029 14:18:26 @monitor.py:362]\u001b[0m macro_auc: 0.94\n",
      "\u001b[32m[1029 14:18:26 @monitor.py:362]\u001b[0m macro_f1: 0.42713\n",
      "\u001b[32m[1029 14:18:26 @monitor.py:362]\u001b[0m mean_average_precision: 0.68019\n",
      "\u001b[32m[1029 14:18:26 @monitor.py:362]\u001b[0m micro_auc: 0.94862\n",
      "\u001b[32m[1029 14:18:26 @monitor.py:362]\u001b[0m micro_f1: 0.55672\n",
      "\u001b[32m[1029 14:18:26 @monitor.py:362]\u001b[0m one_error: 0.29427\n",
      "\u001b[32m[1029 14:18:26 @monitor.py:362]\u001b[0m ranking_loss: 0.052797\n",
      "\u001b[32m[1029 14:18:26 @monitor.py:362]\u001b[0m ranking_mean_average_precision: 0.75965\n",
      "\u001b[32m[1029 14:18:26 @monitor.py:362]\u001b[0m training_auc: 0.8978\n",
      "\u001b[32m[1029 14:18:26 @group.py:42]\u001b[0m Callbacks took 11.058 sec in total. DataParallelInferenceRunner: 9.970sec\n",
      "\u001b[32m[1029 14:18:26 @base.py:257]\u001b[0m Start Epoch 18 ...\n"
     ]
    },
    {
     "name": "stderr",
     "output_type": "stream",
     "text": [
      "100%|##########|55/55[01:55<00:00, 0.48it/s]"
     ]
    },
    {
     "name": "stdout",
     "output_type": "stream",
     "text": [
      "\u001b[32m[1029 14:20:22 @base.py:267]\u001b[0m Epoch 18 (global_step 990) finished, time:115.67 sec.\n"
     ]
    },
    {
     "name": "stderr",
     "output_type": "stream",
     "text": [
      "\n",
      "100%|##########|12/12[00:10<00:00, 1.21it/s]\n"
     ]
    },
    {
     "name": "stdout",
     "output_type": "stream",
     "text": [
      "\u001b[32m[1029 14:20:32 @saver.py:89]\u001b[0m Model saved to ./train_log/transfer/all_stages-g2/model-990.\n",
      "\u001b[32m[1029 14:20:32 @monitor.py:362]\u001b[0m DataParallelInferenceRunner/QueueInput/queue_size: 49.594\n",
      "\u001b[32m[1029 14:20:32 @monitor.py:362]\u001b[0m QueueInput/queue_size: 49.638\n",
      "\u001b[32m[1029 14:20:32 @monitor.py:362]\u001b[0m coverage: 4.1484\n",
      "\u001b[32m[1029 14:20:32 @monitor.py:362]\u001b[0m learning_rate: 1e-05\n",
      "\u001b[32m[1029 14:20:32 @monitor.py:362]\u001b[0m loss/value: 0.03491\n",
      "\u001b[32m[1029 14:20:32 @monitor.py:362]\u001b[0m macro_auc: 0.93704\n",
      "\u001b[32m[1029 14:20:32 @monitor.py:362]\u001b[0m macro_f1: 0.43022\n",
      "\u001b[32m[1029 14:20:32 @monitor.py:362]\u001b[0m mean_average_precision: 0.67361\n",
      "\u001b[32m[1029 14:20:32 @monitor.py:362]\u001b[0m micro_auc: 0.94712\n",
      "\u001b[32m[1029 14:20:32 @monitor.py:362]\u001b[0m micro_f1: 0.54054\n",
      "\u001b[32m[1029 14:20:32 @monitor.py:362]\u001b[0m one_error: 0.32682\n",
      "\u001b[32m[1029 14:20:32 @monitor.py:362]\u001b[0m ranking_loss: 0.054747\n",
      "\u001b[32m[1029 14:20:32 @monitor.py:362]\u001b[0m ranking_mean_average_precision: 0.74573\n",
      "\u001b[32m[1029 14:20:32 @monitor.py:362]\u001b[0m training_auc: 0.90223\n",
      "\u001b[32m[1029 14:20:32 @group.py:42]\u001b[0m Callbacks took 10.337 sec in total. DataParallelInferenceRunner: 10.104sec\n",
      "\u001b[32m[1029 14:20:32 @base.py:257]\u001b[0m Start Epoch 19 ...\n"
     ]
    },
    {
     "name": "stderr",
     "output_type": "stream",
     "text": [
      "100%|##########|55/55[01:52<00:00, 0.49it/s]"
     ]
    },
    {
     "name": "stdout",
     "output_type": "stream",
     "text": [
      "\u001b[32m[1029 14:22:24 @base.py:267]\u001b[0m Epoch 19 (global_step 1045) finished, time:112.35 sec.\n"
     ]
    },
    {
     "name": "stderr",
     "output_type": "stream",
     "text": [
      "\n",
      "100%|##########|12/12[00:10<00:00, 1.19it/s]\n"
     ]
    },
    {
     "name": "stdout",
     "output_type": "stream",
     "text": [
      "\u001b[32m[1029 14:22:36 @saver.py:89]\u001b[0m Model saved to ./train_log/transfer/all_stages-g2/model-1045.\n",
      "\u001b[32m[1029 14:22:39 @saver.py:158]\u001b[0m Model with maximum 'micro_auc' saved.\n",
      "\u001b[32m[1029 14:22:39 @monitor.py:362]\u001b[0m DataParallelInferenceRunner/QueueInput/queue_size: 49.669\n",
      "\u001b[32m[1029 14:22:39 @monitor.py:362]\u001b[0m QueueInput/queue_size: 49.622\n",
      "\u001b[32m[1029 14:22:39 @monitor.py:362]\u001b[0m coverage: 4.0469\n",
      "\u001b[32m[1029 14:22:39 @monitor.py:362]\u001b[0m learning_rate: 1e-05\n",
      "\u001b[32m[1029 14:22:39 @monitor.py:362]\u001b[0m loss/value: 0.034018\n",
      "\u001b[32m[1029 14:22:39 @monitor.py:362]\u001b[0m macro_auc: 0.93857\n",
      "\u001b[32m[1029 14:22:39 @monitor.py:362]\u001b[0m macro_f1: 0.4246\n",
      "\u001b[32m[1029 14:22:39 @monitor.py:362]\u001b[0m mean_average_precision: 0.68398\n",
      "\u001b[32m[1029 14:22:39 @monitor.py:362]\u001b[0m micro_auc: 0.94898\n",
      "\u001b[32m[1029 14:22:39 @monitor.py:362]\u001b[0m micro_f1: 0.53719\n",
      "\u001b[32m[1029 14:22:39 @monitor.py:362]\u001b[0m one_error: 0.32031\n",
      "\u001b[32m[1029 14:22:39 @monitor.py:362]\u001b[0m ranking_loss: 0.053236\n",
      "\u001b[32m[1029 14:22:39 @monitor.py:362]\u001b[0m ranking_mean_average_precision: 0.7508\n",
      "\u001b[32m[1029 14:22:39 @monitor.py:362]\u001b[0m training_auc: 0.90611\n",
      "\u001b[32m[1029 14:22:39 @group.py:42]\u001b[0m Callbacks took 14.483 sec in total. DataParallelInferenceRunner: 10.025sec\n",
      "\u001b[32m[1029 14:22:39 @base.py:257]\u001b[0m Start Epoch 20 ...\n"
     ]
    },
    {
     "name": "stderr",
     "output_type": "stream",
     "text": [
      "100%|##########|55/55[01:53<00:00, 0.49it/s]"
     ]
    },
    {
     "name": "stdout",
     "output_type": "stream",
     "text": [
      "\u001b[32m[1029 14:24:32 @base.py:267]\u001b[0m Epoch 20 (global_step 1100) finished, time:113.12 sec.\n"
     ]
    },
    {
     "name": "stderr",
     "output_type": "stream",
     "text": [
      "\n",
      "100%|##########|12/12[00:09<00:00, 1.19it/s]\n"
     ]
    },
    {
     "name": "stdout",
     "output_type": "stream",
     "text": [
      "\u001b[32m[1029 14:24:43 @saver.py:89]\u001b[0m Model saved to ./train_log/transfer/all_stages-g2/model-1100.\n",
      "\u001b[32m[1029 14:24:43 @monitor.py:362]\u001b[0m DataParallelInferenceRunner/QueueInput/queue_size: 49.386\n",
      "\u001b[32m[1029 14:24:43 @monitor.py:362]\u001b[0m QueueInput/queue_size: 49.585\n",
      "\u001b[32m[1029 14:24:43 @monitor.py:362]\u001b[0m coverage: 4.0859\n",
      "\u001b[32m[1029 14:24:43 @monitor.py:362]\u001b[0m learning_rate: 1e-05\n",
      "\u001b[32m[1029 14:24:43 @monitor.py:362]\u001b[0m loss/value: 0.033164\n",
      "\u001b[32m[1029 14:24:43 @monitor.py:362]\u001b[0m macro_auc: 0.93886\n",
      "\u001b[32m[1029 14:24:43 @monitor.py:362]\u001b[0m macro_f1: 0.43665\n",
      "\u001b[32m[1029 14:24:43 @monitor.py:362]\u001b[0m mean_average_precision: 0.68616\n",
      "\u001b[32m[1029 14:24:43 @monitor.py:362]\u001b[0m micro_auc: 0.94871\n",
      "\u001b[32m[1029 14:24:43 @monitor.py:362]\u001b[0m micro_f1: 0.55274\n",
      "\u001b[32m[1029 14:24:43 @monitor.py:362]\u001b[0m one_error: 0.30859\n",
      "\u001b[32m[1029 14:24:43 @monitor.py:362]\u001b[0m ranking_loss: 0.054\n",
      "\u001b[32m[1029 14:24:43 @monitor.py:362]\u001b[0m ranking_mean_average_precision: 0.75706\n",
      "\u001b[32m[1029 14:24:43 @monitor.py:362]\u001b[0m training_auc: 0.90969\n",
      "\u001b[32m[1029 14:24:43 @group.py:42]\u001b[0m Callbacks took 10.444 sec in total. DataParallelInferenceRunner: 9.963sec\n",
      "\u001b[32m[1029 14:24:43 @base.py:271]\u001b[0m Training has finished!\n",
      "\u001b[32m[1029 14:24:43 @input_source.py:147]\u001b[0m EnqueueThread QueueInput/input_queue Exited.\n",
      "\u001b[32m[1029 14:24:43 @input_source.py:147]\u001b[0m EnqueueThread DataParallelInferenceRunner/QueueInput/input_queue Exited.\n"
     ]
    }
   ],
   "source": [
    "tf.reset_default_graph()\n",
    "train_config = TrainConfig(model=model, dataflow=train_data,\n",
    "                           callbacks=[\n",
    "                               ScheduledHyperParamSetter('learning_rate', [(0, 1e-4), (15, 1e-5)]),\n",
    "                               InfRunner(val_data, [AggregateMetric(config.validation_metrics, threshold)],\n",
    "                                         [0, 1]),\n",
    "                               ModelSaver(var_collections='model_variables'),\n",
    "                               MaxSaver('micro_auc', save_name),\n",
    "                           ],\n",
    "                           session_init=SaverRestore(\n",
    "                               model_path=resnet_loc, ignore=ignore_restore),\n",
    "                           max_epoch=20, tower=[0, 1])\n",
    "Trainer(train_config).train()"
   ]
  },
  {
   "cell_type": "code",
   "execution_count": 7,
   "metadata": {},
   "outputs": [
    {
     "name": "stdout",
     "output_type": "stream",
     "text": [
      "\u001b[32m[1029 13:01:39 @input_source.py:147]\u001b[0m EnqueueThread DataParallelInferenceRunner/QueueInput/input_queue Exited.\n",
      "\u001b[32m[1029 13:01:39 @input_source.py:147]\u001b[0m EnqueueThread QueueInput/input_queue Exited.\n"
     ]
    }
   ],
   "source": [
    "test_loc_dir = 'train_log/transfer/test/D1'\n",
    "test_save_name = 'max-training-auc.tfmodel'\n",
    "\n",
    "config.proportion = {'train': 0.8, 'val': 0.2, 'test': 0.0}\n",
    "config.stages = [2]\n",
    "config.annotation_number = 10\n",
    "dm = DataManager.from_dataset(train_set, test_set, config)\n",
    "train_data = dm.get_train_stream()\n",
    "val_data = dm.get_validation_stream()\n",
    "test_date = dm.get_test_stream()\n",
    "model = RNN(config, is_finetuning=True)"
   ]
  },
  {
   "cell_type": "code",
   "execution_count": 8,
   "metadata": {},
   "outputs": [
    {
     "data": {
      "text/html": [
       "<div>\n",
       "<style>\n",
       "    .dataframe thead tr:only-child th {\n",
       "        text-align: right;\n",
       "    }\n",
       "\n",
       "    .dataframe thead th {\n",
       "        text-align: left;\n",
       "    }\n",
       "\n",
       "    .dataframe tbody tr th {\n",
       "        vertical-align: top;\n",
       "    }\n",
       "</style>\n",
       "<table border=\"1\" class=\"dataframe\">\n",
       "  <thead>\n",
       "    <tr style=\"text-align: right;\">\n",
       "      <th></th>\n",
       "      <th>train</th>\n",
       "      <th>val</th>\n",
       "      <th>test</th>\n",
       "    </tr>\n",
       "  </thead>\n",
       "  <tbody>\n",
       "    <tr>\n",
       "      <th>anlage in statu nascendi</th>\n",
       "      <td>7.439024</td>\n",
       "      <td>7.666667</td>\n",
       "      <td>7.758621</td>\n",
       "    </tr>\n",
       "    <tr>\n",
       "      <th>dorsal ectoderm anlage in statu nascendi</th>\n",
       "      <td>6.440860</td>\n",
       "      <td>6.090909</td>\n",
       "      <td>6.398058</td>\n",
       "    </tr>\n",
       "    <tr>\n",
       "      <th>maternal</th>\n",
       "      <td>3.907801</td>\n",
       "      <td>4.379310</td>\n",
       "      <td>4.013158</td>\n",
       "    </tr>\n",
       "    <tr>\n",
       "      <th>cellular blastoderm</th>\n",
       "      <td>1.005797</td>\n",
       "      <td>1.025974</td>\n",
       "      <td>1.005263</td>\n",
       "    </tr>\n",
       "    <tr>\n",
       "      <th>subset</th>\n",
       "      <td>3.552632</td>\n",
       "      <td>3.457143</td>\n",
       "      <td>3.590361</td>\n",
       "    </tr>\n",
       "    <tr>\n",
       "      <th>ubiquitous</th>\n",
       "      <td>0.870270</td>\n",
       "      <td>0.714286</td>\n",
       "      <td>0.809976</td>\n",
       "    </tr>\n",
       "    <tr>\n",
       "      <th>faint ubiquitous</th>\n",
       "      <td>5.653846</td>\n",
       "      <td>5.782609</td>\n",
       "      <td>4.953125</td>\n",
       "    </tr>\n",
       "    <tr>\n",
       "      <th>ventral ectoderm anlage in statu nascendi</th>\n",
       "      <td>7.650000</td>\n",
       "      <td>6.800000</td>\n",
       "      <td>7.282609</td>\n",
       "    </tr>\n",
       "    <tr>\n",
       "      <th>procephalic ectoderm anlage in statu nascendi</th>\n",
       "      <td>7.650000</td>\n",
       "      <td>7.666667</td>\n",
       "      <td>7.758621</td>\n",
       "    </tr>\n",
       "    <tr>\n",
       "      <th>posterior endoderm anlage in statu nascendi</th>\n",
       "      <td>15.878049</td>\n",
       "      <td>14.600000</td>\n",
       "      <td>15.565217</td>\n",
       "    </tr>\n",
       "  </tbody>\n",
       "</table>\n",
       "</div>"
      ],
      "text/plain": [
       "                                                   train        val       test\n",
       "anlage in statu nascendi                        7.439024   7.666667   7.758621\n",
       "dorsal ectoderm anlage in statu nascendi        6.440860   6.090909   6.398058\n",
       "maternal                                        3.907801   4.379310   4.013158\n",
       "cellular blastoderm                             1.005797   1.025974   1.005263\n",
       "subset                                          3.552632   3.457143   3.590361\n",
       "ubiquitous                                      0.870270   0.714286   0.809976\n",
       "faint ubiquitous                                5.653846   5.782609   4.953125\n",
       "ventral ectoderm anlage in statu nascendi       7.650000   6.800000   7.282609\n",
       "procephalic ectoderm anlage in statu nascendi   7.650000   7.666667   7.758621\n",
       "posterior endoderm anlage in statu nascendi    15.878049  14.600000  15.565217"
      ]
     },
     "execution_count": 8,
     "metadata": {},
     "output_type": "execute_result"
    }
   ],
   "source": [
    "dm.get_imbalance_ratio()"
   ]
  },
  {
   "cell_type": "code",
   "execution_count": 22,
   "metadata": {},
   "outputs": [
    {
     "data": {
      "text/html": [
       "<div>\n",
       "<style>\n",
       "    .dataframe thead tr:only-child th {\n",
       "        text-align: right;\n",
       "    }\n",
       "\n",
       "    .dataframe thead th {\n",
       "        text-align: left;\n",
       "    }\n",
       "\n",
       "    .dataframe tbody tr th {\n",
       "        vertical-align: top;\n",
       "    }\n",
       "</style>\n",
       "<table border=\"1\" class=\"dataframe\">\n",
       "  <thead>\n",
       "    <tr style=\"text-align: right;\">\n",
       "      <th></th>\n",
       "      <th></th>\n",
       "      <th>image_url</th>\n",
       "      <th>annotation</th>\n",
       "    </tr>\n",
       "    <tr>\n",
       "      <th>gene</th>\n",
       "      <th>stage</th>\n",
       "      <th></th>\n",
       "      <th></th>\n",
       "    </tr>\n",
       "  </thead>\n",
       "  <tbody>\n",
       "    <tr>\n",
       "      <th>CG32656</th>\n",
       "      <th>6</th>\n",
       "      <td>(32951_s.bmp, 32954_s.bmp, 32952_s.bmp)</td>\n",
       "      <td>(imaginal tracheal precursor, embryonic head e...</td>\n",
       "    </tr>\n",
       "    <tr>\n",
       "      <th>CG3028</th>\n",
       "      <th>5</th>\n",
       "      <td>(38372_s.bmp, 38371_s.bmp, 38374_s.bmp)</td>\n",
       "      <td>(ubiquitous, ring gland primordium)</td>\n",
       "    </tr>\n",
       "    <tr>\n",
       "      <th>CG4091</th>\n",
       "      <th>6</th>\n",
       "      <td>(9653_s.bmp, 9654_s.bmp)</td>\n",
       "      <td>(imaginal tracheal precursor, adult hindgut pr...</td>\n",
       "    </tr>\n",
       "    <tr>\n",
       "      <th>CG4608</th>\n",
       "      <th>5</th>\n",
       "      <td>(15290_s.bmp, 15298_s.bmp, 15299_s.bmp, 15289_...</td>\n",
       "      <td>(dorsal epidermis primordium, tracheal primord...</td>\n",
       "    </tr>\n",
       "    <tr>\n",
       "      <th>CG3722</th>\n",
       "      <th>6</th>\n",
       "      <td>(18010_s.bmp, 18015_s.bmp, 18020_s.bmp, 18011_...</td>\n",
       "      <td>(embryonic head epidermis, embryonic foregut, ...</td>\n",
       "    </tr>\n",
       "    <tr>\n",
       "      <th>CG9184</th>\n",
       "      <th>5</th>\n",
       "      <td>(25526_s.bmp, 25527_s.bmp, 25529_s.bmp, 25530_...</td>\n",
       "      <td>(dorsal epidermis primordium, dorsomedial neur...</td>\n",
       "    </tr>\n",
       "    <tr>\n",
       "      <th>CG12653</th>\n",
       "      <th>2</th>\n",
       "      <td>(75726_s.bmp, 75727_s.bmp, 75728_s.bmp, 75729_...</td>\n",
       "      <td>(cellular blastoderm, procephalic ectoderm anl...</td>\n",
       "    </tr>\n",
       "    <tr>\n",
       "      <th>CG4123</th>\n",
       "      <th>5</th>\n",
       "      <td>(23368_s.bmp, 23368_s.bmp, 23364_s.bmp, 23365_...</td>\n",
       "      <td>(dorsal epidermis primordium, tracheal primord...</td>\n",
       "    </tr>\n",
       "    <tr>\n",
       "      <th>CG7055</th>\n",
       "      <th>5</th>\n",
       "      <td>(17943_s.bmp, 17944_s.bmp, 17945_s.bmp, 17941_...</td>\n",
       "      <td>(embryonic central brain glia, lateral cord gl...</td>\n",
       "    </tr>\n",
       "    <tr>\n",
       "      <th>CG8524</th>\n",
       "      <th>6</th>\n",
       "      <td>(18980_s.bmp, 18982_s.bmp, 18983_s.bmp)</td>\n",
       "      <td>(embryonic/larval posterior spiracle, embryoni...</td>\n",
       "    </tr>\n",
       "    <tr>\n",
       "      <th rowspan=\"2\" valign=\"top\">CG3722</th>\n",
       "      <th>4</th>\n",
       "      <td>(18002_s.bmp, 18003_s.bmp, 18004_s.bmp)</td>\n",
       "      <td>(ventral ectoderm primordium, inclusive hindgu...</td>\n",
       "    </tr>\n",
       "    <tr>\n",
       "      <th>5</th>\n",
       "      <td>(18005_s.bmp, 18007_s.bmp, 18006_s.bmp, 18009_...</td>\n",
       "      <td>(foregut primordium, proventriculus primordium...</td>\n",
       "    </tr>\n",
       "    <tr>\n",
       "      <th>CG4829</th>\n",
       "      <th>6</th>\n",
       "      <td>(11900_s.bmp, 11905_s.bmp, 11906_s.bmp, 11907_...</td>\n",
       "      <td>(embryonic central nervous system, embryonic c...</td>\n",
       "    </tr>\n",
       "    <tr>\n",
       "      <th>CG10287</th>\n",
       "      <th>4</th>\n",
       "      <td>(49971_s.bmp, 49971_s.bmp, 23832_s.bmp, 49970_...</td>\n",
       "      <td>(Malpighian tubule anlage,)</td>\n",
       "    </tr>\n",
       "    <tr>\n",
       "      <th>CG7437</th>\n",
       "      <th>5</th>\n",
       "      <td>(13599_s.bmp,)</td>\n",
       "      <td>(faint ubiquitous, mushroom body primordium, b...</td>\n",
       "    </tr>\n",
       "    <tr>\n",
       "      <th>CG3287</th>\n",
       "      <th>4</th>\n",
       "      <td>(27049_s.bmp,)</td>\n",
       "      <td>(ubiquitous, foregut primordium, inclusive hin...</td>\n",
       "    </tr>\n",
       "    <tr>\n",
       "      <th>CG11121</th>\n",
       "      <th>5</th>\n",
       "      <td>(16986_s.bmp, 16989_s.bmp, 16992_s.bmp, 16987_...</td>\n",
       "      <td>(stomatogastric nervous system primordium, dor...</td>\n",
       "    </tr>\n",
       "    <tr>\n",
       "      <th>CG6634</th>\n",
       "      <th>2</th>\n",
       "      <td>(106750_s.bmp, 106753_s.bmp, 106754_s.bmp, 106...</td>\n",
       "      <td>(segmentally repeated, ventral ectoderm anlage...</td>\n",
       "    </tr>\n",
       "    <tr>\n",
       "      <th>CG11922</th>\n",
       "      <th>4</th>\n",
       "      <td>(74299_s.bmp, 74300_s.bmp, 74302_s.bmp, 74303_...</td>\n",
       "      <td>(gnathal lobes anlage, ventral epidermis primo...</td>\n",
       "    </tr>\n",
       "    <tr>\n",
       "      <th>CG6883</th>\n",
       "      <th>4</th>\n",
       "      <td>(41203_s.bmp, 41202_s.bmp)</td>\n",
       "      <td>(tracheal system anlage, salivary gland anlage)</td>\n",
       "    </tr>\n",
       "    <tr>\n",
       "      <th>CG1212</th>\n",
       "      <th>6</th>\n",
       "      <td>(47329_s.bmp, 47335_s.bmp, 47367_s.bmp)</td>\n",
       "      <td>(embryonic central nervous system, ventral ima...</td>\n",
       "    </tr>\n",
       "    <tr>\n",
       "      <th>CG10480</th>\n",
       "      <th>6</th>\n",
       "      <td>(55449_s.bmp, 55451_s.bmp, 55453_s.bmp, 55446_...</td>\n",
       "      <td>(embryonic central nervous system, embryonic b...</td>\n",
       "    </tr>\n",
       "    <tr>\n",
       "      <th>CG10488</th>\n",
       "      <th>4</th>\n",
       "      <td>(18964_s.bmp,)</td>\n",
       "      <td>(dorsal ectoderm primordium, antennal primordi...</td>\n",
       "    </tr>\n",
       "    <tr>\n",
       "      <th>CG5853</th>\n",
       "      <th>6</th>\n",
       "      <td>(10095_s.bmp, 10089_s.bmp, 10090_s.bmp, 10091_...</td>\n",
       "      <td>(amnioserosa, plasmatocytes, macrophage, embry...</td>\n",
       "    </tr>\n",
       "    <tr>\n",
       "      <th>CG12369</th>\n",
       "      <th>2</th>\n",
       "      <td>(57851_s.bmp, 57852_s.bmp, 57853_s.bmp, 57798_...</td>\n",
       "      <td>(anlage in statu nascendi, ectoderm anlage in ...</td>\n",
       "    </tr>\n",
       "    <tr>\n",
       "      <th>CG7428</th>\n",
       "      <th>2</th>\n",
       "      <td>(33975_s.bmp, 33980_s.bmp, 33986_s.bmp, 33987_...</td>\n",
       "      <td>(cellular blastoderm, subset, anlage in statu ...</td>\n",
       "    </tr>\n",
       "    <tr>\n",
       "      <th>CG6070</th>\n",
       "      <th>6</th>\n",
       "      <td>(11536_s.bmp, 11535_s.bmp, 11537_s.bmp, 11538_...</td>\n",
       "      <td>(embryonic central nervous system, embryonic b...</td>\n",
       "    </tr>\n",
       "    <tr>\n",
       "      <th>CG10231</th>\n",
       "      <th>5</th>\n",
       "      <td>(42513_s.bmp, 42512_s.bmp, 42514_s.bmp, 42516_...</td>\n",
       "      <td>(visceral muscle primordium, proventriculus pr...</td>\n",
       "    </tr>\n",
       "    <tr>\n",
       "      <th>CG17064</th>\n",
       "      <th>6</th>\n",
       "      <td>(54903_s.bmp, 54904_s.bmp, 54907_s.bmp, 54900_...</td>\n",
       "      <td>(embryonic central nervous system, embryonic c...</td>\n",
       "    </tr>\n",
       "    <tr>\n",
       "      <th>CG5149</th>\n",
       "      <th>2</th>\n",
       "      <td>(51443_s.bmp, 51444_s.bmp, 51459_s.bmp, 24084_...</td>\n",
       "      <td>(yolk, yolk nuclei)</td>\n",
       "    </tr>\n",
       "    <tr>\n",
       "      <th>...</th>\n",
       "      <th>...</th>\n",
       "      <td>...</td>\n",
       "      <td>...</td>\n",
       "    </tr>\n",
       "    <tr>\n",
       "      <th>CG5971</th>\n",
       "      <th>3</th>\n",
       "      <td>(58265_s.bmp,)</td>\n",
       "      <td>(ubiquitous,)</td>\n",
       "    </tr>\n",
       "    <tr>\n",
       "      <th>CG11793</th>\n",
       "      <th>5</th>\n",
       "      <td>(35479_s.bmp, 35481_s.bmp, 35480_s.bmp)</td>\n",
       "      <td>(germ cell,)</td>\n",
       "    </tr>\n",
       "    <tr>\n",
       "      <th>CG10895</th>\n",
       "      <th>6</th>\n",
       "      <td>(68607_s.bmp, 68611_s.bmp, 68612_s.bmp, 68613_...</td>\n",
       "      <td>(embryonic central nervous system, gonad, germ...</td>\n",
       "    </tr>\n",
       "    <tr>\n",
       "      <th>CG7920</th>\n",
       "      <th>2</th>\n",
       "      <td>(68283_s.bmp, 9266_s.bmp)</td>\n",
       "      <td>(cellular blastoderm, faint ubiquitous)</td>\n",
       "    </tr>\n",
       "    <tr>\n",
       "      <th>CG6113</th>\n",
       "      <th>6</th>\n",
       "      <td>(27141_s.bmp, 27144_s.bmp, 27143_s.bmp)</td>\n",
       "      <td>(amnioserosa, yolk nuclei)</td>\n",
       "    </tr>\n",
       "    <tr>\n",
       "      <th>CG9009</th>\n",
       "      <th>5</th>\n",
       "      <td>(57185_s.bmp, 57183_s.bmp, 57184_s.bmp, 57186_...</td>\n",
       "      <td>(anterior midgut primordium, ventral epidermis...</td>\n",
       "    </tr>\n",
       "    <tr>\n",
       "      <th>CG18740</th>\n",
       "      <th>5</th>\n",
       "      <td>(21181_s.bmp,)</td>\n",
       "      <td>(embryonic central brain neuron, embryonic cen...</td>\n",
       "    </tr>\n",
       "    <tr>\n",
       "      <th>CG32464</th>\n",
       "      <th>3</th>\n",
       "      <td>(56502_s.bmp, 56503_s.bmp, 56517_s.bmp, 56518_...</td>\n",
       "      <td>(dorsal ectoderm primordium, ventral ectoderm ...</td>\n",
       "    </tr>\n",
       "    <tr>\n",
       "      <th>CG6773</th>\n",
       "      <th>3</th>\n",
       "      <td>(49408_s.bmp,)</td>\n",
       "      <td>(ubiquitous, trunk mesoderm primordium P2, hea...</td>\n",
       "    </tr>\n",
       "    <tr>\n",
       "      <th>CG40049</th>\n",
       "      <th>5</th>\n",
       "      <td>(35981_s.bmp, 35982_s.bmp, 35983_s.bmp)</td>\n",
       "      <td>(anterior midgut primordium, posterior midgut ...</td>\n",
       "    </tr>\n",
       "    <tr>\n",
       "      <th>CG9261</th>\n",
       "      <th>5</th>\n",
       "      <td>(56655_s.bmp, 56656_s.bmp, 56657_s.bmp, 56658_...</td>\n",
       "      <td>(brain primordium, foregut primordium, hindgut...</td>\n",
       "    </tr>\n",
       "    <tr>\n",
       "      <th>CG33129</th>\n",
       "      <th>6</th>\n",
       "      <td>(44018_s.bmp, 44020_s.bmp, 44024_s.bmp, 44025_...</td>\n",
       "      <td>(embryonic foregut, embryonic epipharynx, embr...</td>\n",
       "    </tr>\n",
       "    <tr>\n",
       "      <th>CG5594</th>\n",
       "      <th>6</th>\n",
       "      <td>(71413_s.bmp, 15341_s.bmp, 15349_s.bmp, 15351_...</td>\n",
       "      <td>(embryonic proventriculus, embryonic midgut, l...</td>\n",
       "    </tr>\n",
       "    <tr>\n",
       "      <th>CG32105</th>\n",
       "      <th>4</th>\n",
       "      <td>(39469_s.bmp, 39488_s.bmp, 39469_s.bmp, 39488_...</td>\n",
       "      <td>(trunk mesoderm primordium, inclusive hindgut ...</td>\n",
       "    </tr>\n",
       "    <tr>\n",
       "      <th>CG8160</th>\n",
       "      <th>6</th>\n",
       "      <td>(31175_s.bmp,)</td>\n",
       "      <td>(embryonic/larval fat body, ubiquitous, faint ...</td>\n",
       "    </tr>\n",
       "    <tr>\n",
       "      <th>CG17246</th>\n",
       "      <th>2</th>\n",
       "      <td>(56770_s.bmp,)</td>\n",
       "      <td>(ubiquitous,)</td>\n",
       "    </tr>\n",
       "    <tr>\n",
       "      <th>CG9643</th>\n",
       "      <th>2</th>\n",
       "      <td>(45297_s.bmp,)</td>\n",
       "      <td>(maternal, faint ubiquitous)</td>\n",
       "    </tr>\n",
       "    <tr>\n",
       "      <th>CG2530</th>\n",
       "      <th>4</th>\n",
       "      <td>(14435_s.bmp, 14436_s.bmp)</td>\n",
       "      <td>(ventral nerve cord primordium P3, inclusive h...</td>\n",
       "    </tr>\n",
       "    <tr>\n",
       "      <th>CG7655</th>\n",
       "      <th>5</th>\n",
       "      <td>(46064_s.bmp, 46063_s.bmp, 46065_s.bmp, 46067_...</td>\n",
       "      <td>(longitudinal visceral mesoderm primordium, vi...</td>\n",
       "    </tr>\n",
       "    <tr>\n",
       "      <th>CG3307</th>\n",
       "      <th>3</th>\n",
       "      <td>(21196_s.bmp, 21189_s.bmp, 21197_s.bmp)</td>\n",
       "      <td>(ventral ectoderm primordium P2, anterior endo...</td>\n",
       "    </tr>\n",
       "    <tr>\n",
       "      <th>CG12592</th>\n",
       "      <th>4</th>\n",
       "      <td>(45129_s.bmp, 45128_s.bmp)</td>\n",
       "      <td>(dorsal ectoderm primordium, procephalic ectod...</td>\n",
       "    </tr>\n",
       "    <tr>\n",
       "      <th>CG1966</th>\n",
       "      <th>4</th>\n",
       "      <td>(20880_s.bmp, 20883_s.bmp, 28950_s.bmp, 20881_...</td>\n",
       "      <td>(procephalic ectoderm primordium, ventral nerv...</td>\n",
       "    </tr>\n",
       "    <tr>\n",
       "      <th>CG1433</th>\n",
       "      <th>6</th>\n",
       "      <td>(14827_s.bmp, 14828_s.bmp)</td>\n",
       "      <td>(embryonic central nervous system, embryonic b...</td>\n",
       "    </tr>\n",
       "    <tr>\n",
       "      <th>CG8353</th>\n",
       "      <th>5</th>\n",
       "      <td>(48937_s.bmp, 48935_s.bmp, 48936_s.bmp, 48938_...</td>\n",
       "      <td>(anterior midgut primordium, posterior midgut ...</td>\n",
       "    </tr>\n",
       "    <tr>\n",
       "      <th>CG32575</th>\n",
       "      <th>5</th>\n",
       "      <td>(18352_s.bmp, 18353_s.bmp, 18354_s.bmp)</td>\n",
       "      <td>(neuroblasts of ventral nervous system, procep...</td>\n",
       "    </tr>\n",
       "    <tr>\n",
       "      <th>CG15094</th>\n",
       "      <th>3</th>\n",
       "      <td>(34149_s.bmp,)</td>\n",
       "      <td>(ubiquitous, faint ubiquitous)</td>\n",
       "    </tr>\n",
       "    <tr>\n",
       "      <th>CG11164</th>\n",
       "      <th>3</th>\n",
       "      <td>(36336_s.bmp, 36337_s.bmp)</td>\n",
       "      <td>(procephalic ectoderm anlage, ventral nerve co...</td>\n",
       "    </tr>\n",
       "    <tr>\n",
       "      <th>CG7115</th>\n",
       "      <th>4</th>\n",
       "      <td>(57446_s.bmp, 57451_s.bmp)</td>\n",
       "      <td>(germ cell,)</td>\n",
       "    </tr>\n",
       "    <tr>\n",
       "      <th>CG17436</th>\n",
       "      <th>5</th>\n",
       "      <td>(27992_s.bmp, 27991_s.bmp, 27993_s.bmp)</td>\n",
       "      <td>(ubiquitous, brain primordium, ventral nerve c...</td>\n",
       "    </tr>\n",
       "    <tr>\n",
       "      <th>CG14622</th>\n",
       "      <th>4</th>\n",
       "      <td>(43451_s.bmp, 43452_s.bmp, 43449_s.bmp, 43450_...</td>\n",
       "      <td>(procephalic ectoderm primordium, ventral ecto...</td>\n",
       "    </tr>\n",
       "  </tbody>\n",
       "</table>\n",
       "<p>5014 rows × 2 columns</p>\n",
       "</div>"
      ],
      "text/plain": [
       "                                                       image_url  \\\n",
       "gene    stage                                                      \n",
       "CG32656 6                (32951_s.bmp, 32954_s.bmp, 32952_s.bmp)   \n",
       "CG3028  5                (38372_s.bmp, 38371_s.bmp, 38374_s.bmp)   \n",
       "CG4091  6                               (9653_s.bmp, 9654_s.bmp)   \n",
       "CG4608  5      (15290_s.bmp, 15298_s.bmp, 15299_s.bmp, 15289_...   \n",
       "CG3722  6      (18010_s.bmp, 18015_s.bmp, 18020_s.bmp, 18011_...   \n",
       "CG9184  5      (25526_s.bmp, 25527_s.bmp, 25529_s.bmp, 25530_...   \n",
       "CG12653 2      (75726_s.bmp, 75727_s.bmp, 75728_s.bmp, 75729_...   \n",
       "CG4123  5      (23368_s.bmp, 23368_s.bmp, 23364_s.bmp, 23365_...   \n",
       "CG7055  5      (17943_s.bmp, 17944_s.bmp, 17945_s.bmp, 17941_...   \n",
       "CG8524  6                (18980_s.bmp, 18982_s.bmp, 18983_s.bmp)   \n",
       "CG3722  4                (18002_s.bmp, 18003_s.bmp, 18004_s.bmp)   \n",
       "        5      (18005_s.bmp, 18007_s.bmp, 18006_s.bmp, 18009_...   \n",
       "CG4829  6      (11900_s.bmp, 11905_s.bmp, 11906_s.bmp, 11907_...   \n",
       "CG10287 4      (49971_s.bmp, 49971_s.bmp, 23832_s.bmp, 49970_...   \n",
       "CG7437  5                                         (13599_s.bmp,)   \n",
       "CG3287  4                                         (27049_s.bmp,)   \n",
       "CG11121 5      (16986_s.bmp, 16989_s.bmp, 16992_s.bmp, 16987_...   \n",
       "CG6634  2      (106750_s.bmp, 106753_s.bmp, 106754_s.bmp, 106...   \n",
       "CG11922 4      (74299_s.bmp, 74300_s.bmp, 74302_s.bmp, 74303_...   \n",
       "CG6883  4                             (41203_s.bmp, 41202_s.bmp)   \n",
       "CG1212  6                (47329_s.bmp, 47335_s.bmp, 47367_s.bmp)   \n",
       "CG10480 6      (55449_s.bmp, 55451_s.bmp, 55453_s.bmp, 55446_...   \n",
       "CG10488 4                                         (18964_s.bmp,)   \n",
       "CG5853  6      (10095_s.bmp, 10089_s.bmp, 10090_s.bmp, 10091_...   \n",
       "CG12369 2      (57851_s.bmp, 57852_s.bmp, 57853_s.bmp, 57798_...   \n",
       "CG7428  2      (33975_s.bmp, 33980_s.bmp, 33986_s.bmp, 33987_...   \n",
       "CG6070  6      (11536_s.bmp, 11535_s.bmp, 11537_s.bmp, 11538_...   \n",
       "CG10231 5      (42513_s.bmp, 42512_s.bmp, 42514_s.bmp, 42516_...   \n",
       "CG17064 6      (54903_s.bmp, 54904_s.bmp, 54907_s.bmp, 54900_...   \n",
       "CG5149  2      (51443_s.bmp, 51444_s.bmp, 51459_s.bmp, 24084_...   \n",
       "...                                                          ...   \n",
       "CG5971  3                                         (58265_s.bmp,)   \n",
       "CG11793 5                (35479_s.bmp, 35481_s.bmp, 35480_s.bmp)   \n",
       "CG10895 6      (68607_s.bmp, 68611_s.bmp, 68612_s.bmp, 68613_...   \n",
       "CG7920  2                              (68283_s.bmp, 9266_s.bmp)   \n",
       "CG6113  6                (27141_s.bmp, 27144_s.bmp, 27143_s.bmp)   \n",
       "CG9009  5      (57185_s.bmp, 57183_s.bmp, 57184_s.bmp, 57186_...   \n",
       "CG18740 5                                         (21181_s.bmp,)   \n",
       "CG32464 3      (56502_s.bmp, 56503_s.bmp, 56517_s.bmp, 56518_...   \n",
       "CG6773  3                                         (49408_s.bmp,)   \n",
       "CG40049 5                (35981_s.bmp, 35982_s.bmp, 35983_s.bmp)   \n",
       "CG9261  5      (56655_s.bmp, 56656_s.bmp, 56657_s.bmp, 56658_...   \n",
       "CG33129 6      (44018_s.bmp, 44020_s.bmp, 44024_s.bmp, 44025_...   \n",
       "CG5594  6      (71413_s.bmp, 15341_s.bmp, 15349_s.bmp, 15351_...   \n",
       "CG32105 4      (39469_s.bmp, 39488_s.bmp, 39469_s.bmp, 39488_...   \n",
       "CG8160  6                                         (31175_s.bmp,)   \n",
       "CG17246 2                                         (56770_s.bmp,)   \n",
       "CG9643  2                                         (45297_s.bmp,)   \n",
       "CG2530  4                             (14435_s.bmp, 14436_s.bmp)   \n",
       "CG7655  5      (46064_s.bmp, 46063_s.bmp, 46065_s.bmp, 46067_...   \n",
       "CG3307  3                (21196_s.bmp, 21189_s.bmp, 21197_s.bmp)   \n",
       "CG12592 4                             (45129_s.bmp, 45128_s.bmp)   \n",
       "CG1966  4      (20880_s.bmp, 20883_s.bmp, 28950_s.bmp, 20881_...   \n",
       "CG1433  6                             (14827_s.bmp, 14828_s.bmp)   \n",
       "CG8353  5      (48937_s.bmp, 48935_s.bmp, 48936_s.bmp, 48938_...   \n",
       "CG32575 5                (18352_s.bmp, 18353_s.bmp, 18354_s.bmp)   \n",
       "CG15094 3                                         (34149_s.bmp,)   \n",
       "CG11164 3                             (36336_s.bmp, 36337_s.bmp)   \n",
       "CG7115  4                             (57446_s.bmp, 57451_s.bmp)   \n",
       "CG17436 5                (27992_s.bmp, 27991_s.bmp, 27993_s.bmp)   \n",
       "CG14622 4      (43451_s.bmp, 43452_s.bmp, 43449_s.bmp, 43450_...   \n",
       "\n",
       "                                                      annotation  \n",
       "gene    stage                                                     \n",
       "CG32656 6      (imaginal tracheal precursor, embryonic head e...  \n",
       "CG3028  5                    (ubiquitous, ring gland primordium)  \n",
       "CG4091  6      (imaginal tracheal precursor, adult hindgut pr...  \n",
       "CG4608  5      (dorsal epidermis primordium, tracheal primord...  \n",
       "CG3722  6      (embryonic head epidermis, embryonic foregut, ...  \n",
       "CG9184  5      (dorsal epidermis primordium, dorsomedial neur...  \n",
       "CG12653 2      (cellular blastoderm, procephalic ectoderm anl...  \n",
       "CG4123  5      (dorsal epidermis primordium, tracheal primord...  \n",
       "CG7055  5      (embryonic central brain glia, lateral cord gl...  \n",
       "CG8524  6      (embryonic/larval posterior spiracle, embryoni...  \n",
       "CG3722  4      (ventral ectoderm primordium, inclusive hindgu...  \n",
       "        5      (foregut primordium, proventriculus primordium...  \n",
       "CG4829  6      (embryonic central nervous system, embryonic c...  \n",
       "CG10287 4                            (Malpighian tubule anlage,)  \n",
       "CG7437  5      (faint ubiquitous, mushroom body primordium, b...  \n",
       "CG3287  4      (ubiquitous, foregut primordium, inclusive hin...  \n",
       "CG11121 5      (stomatogastric nervous system primordium, dor...  \n",
       "CG6634  2      (segmentally repeated, ventral ectoderm anlage...  \n",
       "CG11922 4      (gnathal lobes anlage, ventral epidermis primo...  \n",
       "CG6883  4        (tracheal system anlage, salivary gland anlage)  \n",
       "CG1212  6      (embryonic central nervous system, ventral ima...  \n",
       "CG10480 6      (embryonic central nervous system, embryonic b...  \n",
       "CG10488 4      (dorsal ectoderm primordium, antennal primordi...  \n",
       "CG5853  6      (amnioserosa, plasmatocytes, macrophage, embry...  \n",
       "CG12369 2      (anlage in statu nascendi, ectoderm anlage in ...  \n",
       "CG7428  2      (cellular blastoderm, subset, anlage in statu ...  \n",
       "CG6070  6      (embryonic central nervous system, embryonic b...  \n",
       "CG10231 5      (visceral muscle primordium, proventriculus pr...  \n",
       "CG17064 6      (embryonic central nervous system, embryonic c...  \n",
       "CG5149  2                                    (yolk, yolk nuclei)  \n",
       "...                                                          ...  \n",
       "CG5971  3                                          (ubiquitous,)  \n",
       "CG11793 5                                           (germ cell,)  \n",
       "CG10895 6      (embryonic central nervous system, gonad, germ...  \n",
       "CG7920  2                (cellular blastoderm, faint ubiquitous)  \n",
       "CG6113  6                             (amnioserosa, yolk nuclei)  \n",
       "CG9009  5      (anterior midgut primordium, ventral epidermis...  \n",
       "CG18740 5      (embryonic central brain neuron, embryonic cen...  \n",
       "CG32464 3      (dorsal ectoderm primordium, ventral ectoderm ...  \n",
       "CG6773  3      (ubiquitous, trunk mesoderm primordium P2, hea...  \n",
       "CG40049 5      (anterior midgut primordium, posterior midgut ...  \n",
       "CG9261  5      (brain primordium, foregut primordium, hindgut...  \n",
       "CG33129 6      (embryonic foregut, embryonic epipharynx, embr...  \n",
       "CG5594  6      (embryonic proventriculus, embryonic midgut, l...  \n",
       "CG32105 4      (trunk mesoderm primordium, inclusive hindgut ...  \n",
       "CG8160  6      (embryonic/larval fat body, ubiquitous, faint ...  \n",
       "CG17246 2                                          (ubiquitous,)  \n",
       "CG9643  2                           (maternal, faint ubiquitous)  \n",
       "CG2530  4      (ventral nerve cord primordium P3, inclusive h...  \n",
       "CG7655  5      (longitudinal visceral mesoderm primordium, vi...  \n",
       "CG3307  3      (ventral ectoderm primordium P2, anterior endo...  \n",
       "CG12592 4      (dorsal ectoderm primordium, procephalic ectod...  \n",
       "CG1966  4      (procephalic ectoderm primordium, ventral nerv...  \n",
       "CG1433  6      (embryonic central nervous system, embryonic b...  \n",
       "CG8353  5      (anterior midgut primordium, posterior midgut ...  \n",
       "CG32575 5      (neuroblasts of ventral nervous system, procep...  \n",
       "CG15094 3                         (ubiquitous, faint ubiquitous)  \n",
       "CG11164 3      (procephalic ectoderm anlage, ventral nerve co...  \n",
       "CG7115  4                                           (germ cell,)  \n",
       "CG17436 5      (ubiquitous, brain primordium, ventral nerve c...  \n",
       "CG14622 4      (procephalic ectoderm primordium, ventral ecto...  \n",
       "\n",
       "[5014 rows x 2 columns]"
      ]
     },
     "execution_count": 22,
     "metadata": {},
     "output_type": "execute_result"
    }
   ],
   "source": [
    "train_set"
   ]
  },
  {
   "cell_type": "code",
   "execution_count": null,
   "metadata": {
    "collapsed": true
   },
   "outputs": [],
   "source": [
    "tf.reset_default_graph()\n",
    "train_config = TrainConfig(model=model, dataflow=train_data,\n",
    "                           callbacks=[\n",
    "                               ScheduledHyperParamSetter('learning_rate', [(0, 1e-4), (15, 1e-5)]),\n",
    "                               InfRunner(val_data, [AggregateMetric(config.validation_metrics, threshold)],\n",
    "                                         [0, 1]),\n",
    "                               ModelSaver(var_collections='model_variables'),\n",
    "                               MaxSaver('micro_auc', test_save_name),\n",
    "                           ],\n",
    "                           session_init=SaverRestore(\n",
    "                               model_path=log_dir + save_name, ignore=ignore_restore),\n",
    "                           max_epoch=20, tower=[0, 1])\n",
    "Trainer(train_config).train()"
   ]
  }
 ],
 "metadata": {
  "kernelspec": {
   "display_name": "Python 3",
   "language": "python",
   "name": "python3"
  },
  "language_info": {
   "codemirror_mode": {
    "name": "ipython",
    "version": 3
   },
   "file_extension": ".py",
   "mimetype": "text/x-python",
   "name": "python",
   "nbconvert_exporter": "python",
   "pygments_lexer": "ipython3",
   "version": "3.6.2"
  }
 },
 "nbformat": 4,
 "nbformat_minor": 2
}
