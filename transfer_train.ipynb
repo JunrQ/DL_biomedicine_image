{
 "cells": [
  {
   "cell_type": "code",
   "execution_count": 1,
   "metadata": {},
   "outputs": [
    {
     "name": "stdout",
     "output_type": "stream",
     "text": [
      "\u001b[32m[1028 08:38:10 @logger.py:94]\u001b[0m \u001b[5m\u001b[31mWRN\u001b[0m Log directory train_log/transfer/all_stages-g2-hidden/ exists! Please either backup/delete it, or use a new directory.\n",
      "\u001b[32m[1028 08:38:10 @logger.py:96]\u001b[0m \u001b[5m\u001b[31mWRN\u001b[0m If you're resuming from a previous run you can choose to keep it.\n",
      "\u001b[32m[1028 08:38:10 @logger.py:97]\u001b[0m Select Action: k (keep) / b (backup) / d (delete) / n (new) / q (quit):\n",
      "d\n",
      "\u001b[32m[1028 08:38:32 @logger.py:74]\u001b[0m Argv: /home/fuxiaofeng/Applications/anaconda3/lib/python3.6/site-packages/ipykernel_launcher.py -f /run/user/1012/jupyter/kernel-cba806d0-4add-41ab-ba1a-3c75da85f415.json\n"
     ]
    }
   ],
   "source": [
    "%load_ext autoreload\n",
    "%autoreload 2\n",
    "\n",
    "from config.rnn import default\n",
    "from models import RNN\n",
    "import numpy as np\n",
    "from functional import seq\n",
    "import tensorflow as tf\n",
    "from tensorpack import (TrainConfig, SyncMultiGPUTrainerParameterServer as Trainer, \n",
    "                        PredictConfig, MultiProcessDatasetPredictor as Predictor,\n",
    "                        SaverRestore, logger)\n",
    "from tensorpack.callbacks import (ScheduledHyperParamSetter, MaxSaver, ModelSaver,\n",
    "                                  DataParallelInferenceRunner as InfRunner)\n",
    "from tensorpack.predict import SimpleDatasetPredictor\n",
    "from tensorpack.tfutils.common import get_default_sess_config\n",
    "from utils import DataManager\n",
    "from utils.validation import (Accumulator, AggregateMetric, calcu_metrics)\n",
    "\n",
    "resnet_loc = \"./data/resnet_v2_101/resnet_v2_101.ckpt\"\n",
    "log_dir = 'train_log/transfer/all_stages-g2-hidden/'\n",
    "logger.set_logger_dir(log_dir)"
   ]
  },
  {
   "cell_type": "code",
   "execution_count": 2,
   "metadata": {
    "collapsed": true
   },
   "outputs": [],
   "source": [
    "config = default\n",
    "ignore_restore = ['learning_rate', 'global_step']\n",
    "save_name = \"all-stages-max-micro-auc.tfmodel\""
   ]
  },
  {
   "cell_type": "markdown",
   "metadata": {},
   "source": [
    "#### Split train set and test set"
   ]
  },
  {
   "cell_type": "code",
   "execution_count": 3,
   "metadata": {},
   "outputs": [
    {
     "name": "stdout",
     "output_type": "stream",
     "text": [
      "Group numbers:\n",
      "train: 5014, validation: 0, test: 4726\n",
      "Image numbers:\n",
      "train: 22989, validation: 0, test: 21028\n"
     ]
    }
   ],
   "source": [
    "config.stages = [2, 3, 4, 5, 6]\n",
    "config.proportion = {'train': 0.55, 'val': 0.0, 'test': 0.45}\n",
    "config.annotation_number = None\n",
    "dm = DataManager.from_config(config)\n",
    "train_set = dm.get_train_set()"
   ]
  },
  {
   "cell_type": "markdown",
   "metadata": {},
   "source": [
    "#### Gether data to train rnn"
   ]
  },
  {
   "cell_type": "code",
   "execution_count": 4,
   "metadata": {},
   "outputs": [
    {
     "name": "stdout",
     "output_type": "stream",
     "text": [
      "Group numbers:\n",
      "train: 3584, validation: 778, test: 0\n",
      "Image numbers:\n",
      "train: 16196, validation: 3364, test: 0\n"
     ]
    }
   ],
   "source": [
    "config.proportion = {'train': 0.8, 'val':0.2, 'test': 0.0}\n",
    "config.annotation_number = 30\n",
    "dm = DataManager.from_dataset(train_set, config)"
   ]
  },
  {
   "cell_type": "code",
   "execution_count": 5,
   "metadata": {
    "collapsed": true
   },
   "outputs": [],
   "source": [
    "config.weight_decay = 0.0\n",
    "config.dropout_keep_prob = 0.5\n",
    "config.gamma = 2\n",
    "config.use_glimpse = True\n",
    "config.read_time = 5\n",
    "config.batch_size = 64\n",
    "config.use_hidden_dense = True\n",
    "\n",
    "threshold = 0.5\n",
    "train_data = dm.get_train_stream()\n",
    "val_data = dm.get_validation_stream()\n",
    "model = RNN(config, is_finetuning=False)"
   ]
  },
  {
   "cell_type": "code",
   "execution_count": 6,
   "metadata": {},
   "outputs": [
    {
     "name": "stdout",
     "output_type": "stream",
     "text": [
      "\u001b[32m[1028 08:38:55 @inference_runner.py:83]\u001b[0m InferenceRunner will eval on an InputSource of size 12\n",
      "\u001b[32m[1028 08:38:56 @input_source.py:178]\u001b[0m Setting up the queue 'QueueInput/input_queue' for CPU prefetching ...\n",
      "\u001b[32m[1028 08:38:56 @input_source.py:459]\u001b[0m Setting up StagingArea for GPU prefetching ...\n",
      "\u001b[32m[1028 08:38:56 @training.py:41]\u001b[0m Training a model of 2 towers\n",
      "\u001b[32m[1028 08:38:56 @training.py:92]\u001b[0m Building graph for training tower 0 on device LeastLoadedDeviceSetter-/gpu:0...\n",
      "INFO:tensorflow:Scale of 0 disables regularizer.\n",
      "INFO:tensorflow:Scale of 0 disables regularizer.\n",
      "INFO:tensorflow:Scale of 0 disables regularizer.\n",
      "INFO:tensorflow:Scale of 0 disables regularizer.\n",
      "INFO:tensorflow:Scale of 0 disables regularizer.\n",
      "INFO:tensorflow:Scale of 0 disables regularizer.\n",
      "INFO:tensorflow:Scale of 0 disables regularizer.\n",
      "INFO:tensorflow:Scale of 0 disables regularizer.\n",
      "INFO:tensorflow:Scale of 0 disables regularizer.\n",
      "INFO:tensorflow:Scale of 0 disables regularizer.\n",
      "INFO:tensorflow:Scale of 0 disables regularizer.\n",
      "INFO:tensorflow:Scale of 0 disables regularizer.\n",
      "INFO:tensorflow:Scale of 0 disables regularizer.\n",
      "\u001b[32m[1028 08:39:00 @training.py:92]\u001b[0m Building graph for training tower 1 on device LeastLoadedDeviceSetter-/gpu:1...\n",
      "INFO:tensorflow:Scale of 0 disables regularizer.\n",
      "INFO:tensorflow:Scale of 0 disables regularizer.\n",
      "INFO:tensorflow:Scale of 0 disables regularizer.\n",
      "INFO:tensorflow:Scale of 0 disables regularizer.\n",
      "INFO:tensorflow:Scale of 0 disables regularizer.\n",
      "INFO:tensorflow:Scale of 0 disables regularizer.\n",
      "INFO:tensorflow:Scale of 0 disables regularizer.\n",
      "INFO:tensorflow:Scale of 0 disables regularizer.\n",
      "INFO:tensorflow:Scale of 0 disables regularizer.\n",
      "INFO:tensorflow:Scale of 0 disables regularizer.\n",
      "INFO:tensorflow:Scale of 0 disables regularizer.\n",
      "INFO:tensorflow:Scale of 0 disables regularizer.\n",
      "INFO:tensorflow:Scale of 0 disables regularizer.\n",
      "\u001b[32m[1028 08:39:03 @model_utils.py:47]\u001b[0m \u001b[36mModel Parameters: \n",
      "\u001b[0mname                            shape                  dim  device\n",
      "------------------------------  -----------------  -------  -------------\n",
      "custom_cnn/conv1/weights:0      [3, 3, 1024, 512]  4718592  /device:GPU:1\n",
      "custom_cnn/conv1/biases:0       [512]                  512  /device:GPU:0\n",
      "custom_cnn/batch_norm1/beta:0   [512]                  512  /device:GPU:0\n",
      "custom_cnn/batch_norm1/gamma:0  [512]                  512  /device:GPU:0\n",
      "rnn/process/fc_read/weights:0   [1024, 1]             1024  /device:GPU:0\n",
      "rnn/process/fc_read/biases:0    [1]                      1  /device:GPU:0\n",
      "rnn/process/fc_fg/weights:0     [1024, 512]         524288  /device:GPU:0\n",
      "rnn/process/fc_fg/biases:0      [512]                  512  /device:GPU:0\n",
      "rnn/process/fc_ig/weights:0     [1024, 512]         524288  /device:GPU:0\n",
      "rnn/process/fc_ig/biases:0      [512]                  512  /device:GPU:0\n",
      "hidden_fc/weights:0             [512, 512]          262144  /device:GPU:0\n",
      "hidden_fc/biases:0              [512]                  512  /device:GPU:0\n",
      "logits/weights:0                [512, 30]            15360  /device:GPU:0\n",
      "logits/biases:0                 [30]                    30  /device:GPU:0\u001b[36m\n",
      "Total #vars=14, #param=6048799 (23.07 MB assuming all float32)\u001b[0m\n",
      "\u001b[32m[1028 08:39:03 @base.py:207]\u001b[0m Setup callbacks graph ...\n",
      "\u001b[32m[1028 08:39:03 @input_source.py:178]\u001b[0m Setting up the queue 'DataParallelInferenceRunner/QueueInput/input_queue' for CPU prefetching ...\n",
      "\u001b[32m[1028 08:39:03 @predictor_factory.py:54]\u001b[0m Building predictor tower 'InferenceTower0' on device /gpu:0 ...\n",
      "INFO:tensorflow:Scale of 0 disables regularizer.\n",
      "INFO:tensorflow:Scale of 0 disables regularizer.\n",
      "INFO:tensorflow:Scale of 0 disables regularizer.\n",
      "INFO:tensorflow:Scale of 0 disables regularizer.\n",
      "INFO:tensorflow:Scale of 0 disables regularizer.\n",
      "INFO:tensorflow:Scale of 0 disables regularizer.\n",
      "INFO:tensorflow:Scale of 0 disables regularizer.\n",
      "INFO:tensorflow:Scale of 0 disables regularizer.\n",
      "INFO:tensorflow:Scale of 0 disables regularizer.\n",
      "INFO:tensorflow:Scale of 0 disables regularizer.\n",
      "INFO:tensorflow:Scale of 0 disables regularizer.\n",
      "INFO:tensorflow:Scale of 0 disables regularizer.\n",
      "INFO:tensorflow:Scale of 0 disables regularizer.\n",
      "\u001b[32m[1028 08:39:05 @predictor_factory.py:54]\u001b[0m Building predictor tower 'InferenceTower1' on device /gpu:1 ...\n",
      "INFO:tensorflow:Scale of 0 disables regularizer.\n",
      "INFO:tensorflow:Scale of 0 disables regularizer.\n",
      "INFO:tensorflow:Scale of 0 disables regularizer.\n",
      "INFO:tensorflow:Scale of 0 disables regularizer.\n",
      "INFO:tensorflow:Scale of 0 disables regularizer.\n",
      "INFO:tensorflow:Scale of 0 disables regularizer.\n",
      "INFO:tensorflow:Scale of 0 disables regularizer.\n",
      "INFO:tensorflow:Scale of 0 disables regularizer.\n",
      "INFO:tensorflow:Scale of 0 disables regularizer.\n",
      "INFO:tensorflow:Scale of 0 disables regularizer.\n",
      "INFO:tensorflow:Scale of 0 disables regularizer.\n",
      "INFO:tensorflow:Scale of 0 disables regularizer.\n",
      "INFO:tensorflow:Scale of 0 disables regularizer.\n",
      "\u001b[32m[1028 08:39:07 @summary.py:34]\u001b[0m Maintain moving average summary of 1 tensors.\n",
      "\u001b[32m[1028 08:39:07 @graph.py:91]\u001b[0m Applying collection UPDATE_OPS of 406 ops.\n",
      "\u001b[32m[1028 08:39:10 @sessinit.py:136]\u001b[0m Variable global_step:0 in the graph will be not loaded from the checkpoint!\n",
      "\u001b[32m[1028 08:39:10 @sessinit.py:89]\u001b[0m \u001b[5m\u001b[31mWRN\u001b[0m The following variables are in the graph, but not found in the checkpoint: custom_cnn/conv1/weights, custom_cnn/conv1/biases, custom_cnn/batch_norm1/beta, custom_cnn/batch_norm1/gamma, custom_cnn/batch_norm1/moving_mean, custom_cnn/batch_norm1/moving_variance, rnn/process/fc_read/weights, rnn/process/fc_read/biases, rnn/process/fc_fg/weights, rnn/process/fc_fg/biases, rnn/process/fc_ig/weights, rnn/process/fc_ig/biases, hidden_fc/weights, hidden_fc/biases, logits/weights, logits/biases, learning_rate, beta1_power, beta2_power\n",
      "\u001b[32m[1028 08:39:10 @sessinit.py:89]\u001b[0m \u001b[5m\u001b[31mWRN\u001b[0m The following variables are in the checkpoint, but not found in the graph: global_step:0, resnet_v2_101/block1/unit_1/bottleneck_v2/conv1/BatchNorm/beta/ExponentialMovingAverage:0, resnet_v2_101/block1/unit_1/bottleneck_v2/conv1/BatchNorm/gamma/ExponentialMovingAverage:0, resnet_v2_101/block1/unit_1/bottleneck_v2/conv1/BatchNorm/moving_mean/ExponentialMovingAverage:0, resnet_v2_101/block1/unit_1/bottleneck_v2/conv1/BatchNorm/moving_variance/ExponentialMovingAverage:0, resnet_v2_101/block1/unit_1/bottleneck_v2/conv1/weights/ExponentialMovingAverage:0, resnet_v2_101/block1/unit_1/bottleneck_v2/conv2/BatchNorm/beta/ExponentialMovingAverage:0, resnet_v2_101/block1/unit_1/bottleneck_v2/conv2/BatchNorm/gamma/ExponentialMovingAverage:0, resnet_v2_101/block1/unit_1/bottleneck_v2/conv2/BatchNorm/moving_mean/ExponentialMovingAverage:0, resnet_v2_101/block1/unit_1/bottleneck_v2/conv2/BatchNorm/moving_variance/ExponentialMovingAverage:0, resnet_v2_101/block1/unit_1/bottleneck_v2/conv2/weights/ExponentialMovingAverage:0, resnet_v2_101/block1/unit_1/bottleneck_v2/conv3/biases/ExponentialMovingAverage:0, resnet_v2_101/block1/unit_1/bottleneck_v2/conv3/weights/ExponentialMovingAverage:0, resnet_v2_101/block1/unit_1/bottleneck_v2/preact/beta/ExponentialMovingAverage:0, resnet_v2_101/block1/unit_1/bottleneck_v2/preact/gamma/ExponentialMovingAverage:0, resnet_v2_101/block1/unit_1/bottleneck_v2/preact/moving_mean/ExponentialMovingAverage:0, resnet_v2_101/block1/unit_1/bottleneck_v2/preact/moving_variance/ExponentialMovingAverage:0, resnet_v2_101/block1/unit_1/bottleneck_v2/shortcut/biases/ExponentialMovingAverage:0, resnet_v2_101/block1/unit_1/bottleneck_v2/shortcut/weights/ExponentialMovingAverage:0, resnet_v2_101/block1/unit_2/bottleneck_v2/conv1/BatchNorm/beta/ExponentialMovingAverage:0, resnet_v2_101/block1/unit_2/bottleneck_v2/conv1/BatchNorm/gamma/ExponentialMovingAverage:0, resnet_v2_101/block1/unit_2/bottleneck_v2/conv1/BatchNorm/moving_mean/ExponentialMovingAverage:0, resnet_v2_101/block1/unit_2/bottleneck_v2/conv1/BatchNorm/moving_variance/ExponentialMovingAverage:0, resnet_v2_101/block1/unit_2/bottleneck_v2/conv1/weights/ExponentialMovingAverage:0, resnet_v2_101/block1/unit_2/bottleneck_v2/conv2/BatchNorm/beta/ExponentialMovingAverage:0, resnet_v2_101/block1/unit_2/bottleneck_v2/conv2/BatchNorm/gamma/ExponentialMovingAverage:0, resnet_v2_101/block1/unit_2/bottleneck_v2/conv2/BatchNorm/moving_mean/ExponentialMovingAverage:0, resnet_v2_101/block1/unit_2/bottleneck_v2/conv2/BatchNorm/moving_variance/ExponentialMovingAverage:0, resnet_v2_101/block1/unit_2/bottleneck_v2/conv2/weights/ExponentialMovingAverage:0, resnet_v2_101/block1/unit_2/bottleneck_v2/conv3/biases/ExponentialMovingAverage:0, resnet_v2_101/block1/unit_2/bottleneck_v2/conv3/weights/ExponentialMovingAverage:0, resnet_v2_101/block1/unit_2/bottleneck_v2/preact/beta/ExponentialMovingAverage:0, resnet_v2_101/block1/unit_2/bottleneck_v2/preact/gamma/ExponentialMovingAverage:0, resnet_v2_101/block1/unit_2/bottleneck_v2/preact/moving_mean/ExponentialMovingAverage:0, resnet_v2_101/block1/unit_2/bottleneck_v2/preact/moving_variance/ExponentialMovingAverage:0, resnet_v2_101/block1/unit_3/bottleneck_v2/conv1/BatchNorm/beta/ExponentialMovingAverage:0, resnet_v2_101/block1/unit_3/bottleneck_v2/conv1/BatchNorm/gamma/ExponentialMovingAverage:0, resnet_v2_101/block1/unit_3/bottleneck_v2/conv1/BatchNorm/moving_mean/ExponentialMovingAverage:0, resnet_v2_101/block1/unit_3/bottleneck_v2/conv1/BatchNorm/moving_variance/ExponentialMovingAverage:0, resnet_v2_101/block1/unit_3/bottleneck_v2/conv1/weights/ExponentialMovingAverage:0, resnet_v2_101/block1/unit_3/bottleneck_v2/conv2/BatchNorm/beta/ExponentialMovingAverage:0, resnet_v2_101/block1/unit_3/bottleneck_v2/conv2/BatchNorm/gamma/ExponentialMovingAverage:0, resnet_v2_101/block1/unit_3/bottleneck_v2/conv2/BatchNorm/moving_mean/ExponentialMovingAverage:0, resnet_v2_101/block1/unit_3/bottleneck_v2/conv2/BatchNorm/moving_variance/ExponentialMovingAverage:0, resnet_v2_101/block1/unit_3/bottleneck_v2/conv2/weights/ExponentialMovingAverage:0, resnet_v2_101/block1/unit_3/bottleneck_v2/conv3/biases/ExponentialMovingAverage:0, resnet_v2_101/block1/unit_3/bottleneck_v2/conv3/weights/ExponentialMovingAverage:0, resnet_v2_101/block1/unit_3/bottleneck_v2/preact/beta/ExponentialMovingAverage:0, resnet_v2_101/block1/unit_3/bottleneck_v2/preact/gamma/ExponentialMovingAverage:0, resnet_v2_101/block1/unit_3/bottleneck_v2/preact/moving_mean/ExponentialMovingAverage:0, resnet_v2_101/block1/unit_3/bottleneck_v2/preact/moving_variance/ExponentialMovingAverage:0, resnet_v2_101/block2/unit_1/bottleneck_v2/conv1/BatchNorm/beta/ExponentialMovingAverage:0, resnet_v2_101/block2/unit_1/bottleneck_v2/conv1/BatchNorm/gamma/ExponentialMovingAverage:0, resnet_v2_101/block2/unit_1/bottleneck_v2/conv1/BatchNorm/moving_mean/ExponentialMovingAverage:0, resnet_v2_101/block2/unit_1/bottleneck_v2/conv1/BatchNorm/moving_variance/ExponentialMovingAverage:0, resnet_v2_101/block2/unit_1/bottleneck_v2/conv1/weights/ExponentialMovingAverage:0, resnet_v2_101/block2/unit_1/bottleneck_v2/conv2/BatchNorm/beta/ExponentialMovingAverage:0, resnet_v2_101/block2/unit_1/bottleneck_v2/conv2/BatchNorm/gamma/ExponentialMovingAverage:0, resnet_v2_101/block2/unit_1/bottleneck_v2/conv2/BatchNorm/moving_mean/ExponentialMovingAverage:0, resnet_v2_101/block2/unit_1/bottleneck_v2/conv2/BatchNorm/moving_variance/ExponentialMovingAverage:0, resnet_v2_101/block2/unit_1/bottleneck_v2/conv2/weights/ExponentialMovingAverage:0, resnet_v2_101/block2/unit_1/bottleneck_v2/conv3/biases/ExponentialMovingAverage:0, resnet_v2_101/block2/unit_1/bottleneck_v2/conv3/weights/ExponentialMovingAverage:0, resnet_v2_101/block2/unit_1/bottleneck_v2/preact/beta/ExponentialMovingAverage:0, resnet_v2_101/block2/unit_1/bottleneck_v2/preact/gamma/ExponentialMovingAverage:0, resnet_v2_101/block2/unit_1/bottleneck_v2/preact/moving_mean/ExponentialMovingAverage:0, resnet_v2_101/block2/unit_1/bottleneck_v2/preact/moving_variance/ExponentialMovingAverage:0, resnet_v2_101/block2/unit_1/bottleneck_v2/shortcut/biases/ExponentialMovingAverage:0, resnet_v2_101/block2/unit_1/bottleneck_v2/shortcut/weights/ExponentialMovingAverage:0, resnet_v2_101/block2/unit_2/bottleneck_v2/conv1/BatchNorm/beta/ExponentialMovingAverage:0, resnet_v2_101/block2/unit_2/bottleneck_v2/conv1/BatchNorm/gamma/ExponentialMovingAverage:0, resnet_v2_101/block2/unit_2/bottleneck_v2/conv1/BatchNorm/moving_mean/ExponentialMovingAverage:0, resnet_v2_101/block2/unit_2/bottleneck_v2/conv1/BatchNorm/moving_variance/ExponentialMovingAverage:0, resnet_v2_101/block2/unit_2/bottleneck_v2/conv1/weights/ExponentialMovingAverage:0, resnet_v2_101/block2/unit_2/bottleneck_v2/conv2/BatchNorm/beta/ExponentialMovingAverage:0, resnet_v2_101/block2/unit_2/bottleneck_v2/conv2/BatchNorm/gamma/ExponentialMovingAverage:0, resnet_v2_101/block2/unit_2/bottleneck_v2/conv2/BatchNorm/moving_mean/ExponentialMovingAverage:0, resnet_v2_101/block2/unit_2/bottleneck_v2/conv2/BatchNorm/moving_variance/ExponentialMovingAverage:0, resnet_v2_101/block2/unit_2/bottleneck_v2/conv2/weights/ExponentialMovingAverage:0, resnet_v2_101/block2/unit_2/bottleneck_v2/conv3/biases/ExponentialMovingAverage:0, resnet_v2_101/block2/unit_2/bottleneck_v2/conv3/weights/ExponentialMovingAverage:0, resnet_v2_101/block2/unit_2/bottleneck_v2/preact/beta/ExponentialMovingAverage:0, resnet_v2_101/block2/unit_2/bottleneck_v2/preact/gamma/ExponentialMovingAverage:0, resnet_v2_101/block2/unit_2/bottleneck_v2/preact/moving_mean/ExponentialMovingAverage:0, resnet_v2_101/block2/unit_2/bottleneck_v2/preact/moving_variance/ExponentialMovingAverage:0, resnet_v2_101/block2/unit_3/bottleneck_v2/conv1/BatchNorm/beta/ExponentialMovingAverage:0, resnet_v2_101/block2/unit_3/bottleneck_v2/conv1/BatchNorm/gamma/ExponentialMovingAverage:0, resnet_v2_101/block2/unit_3/bottleneck_v2/conv1/BatchNorm/moving_mean/ExponentialMovingAverage:0, resnet_v2_101/block2/unit_3/bottleneck_v2/conv1/BatchNorm/moving_variance/ExponentialMovingAverage:0, resnet_v2_101/block2/unit_3/bottleneck_v2/conv1/weights/ExponentialMovingAverage:0, resnet_v2_101/block2/unit_3/bottleneck_v2/conv2/BatchNorm/beta/ExponentialMovingAverage:0, resnet_v2_101/block2/unit_3/bottleneck_v2/conv2/BatchNorm/gamma/ExponentialMovingAverage:0, resnet_v2_101/block2/unit_3/bottleneck_v2/conv2/BatchNorm/moving_mean/ExponentialMovingAverage:0, resnet_v2_101/block2/unit_3/bottleneck_v2/conv2/BatchNorm/moving_variance/ExponentialMovingAverage:0, resnet_v2_101/block2/unit_3/bottleneck_v2/conv2/weights/ExponentialMovingAverage:0, resnet_v2_101/block2/unit_3/bottleneck_v2/conv3/biases/ExponentialMovingAverage:0, resnet_v2_101/block2/unit_3/bottleneck_v2/conv3/weights/ExponentialMovingAverage:0, resnet_v2_101/block2/unit_3/bottleneck_v2/preact/beta/ExponentialMovingAverage:0, resnet_v2_101/block2/unit_3/bottleneck_v2/preact/gamma/ExponentialMovingAverage:0, resnet_v2_101/block2/unit_3/bottleneck_v2/preact/moving_mean/ExponentialMovingAverage:0, resnet_v2_101/block2/unit_3/bottleneck_v2/preact/moving_variance/ExponentialMovingAverage:0, resnet_v2_101/block2/unit_4/bottleneck_v2/conv1/BatchNorm/beta/ExponentialMovingAverage:0, resnet_v2_101/block2/unit_4/bottleneck_v2/conv1/BatchNorm/gamma/ExponentialMovingAverage:0, resnet_v2_101/block2/unit_4/bottleneck_v2/conv1/BatchNorm/moving_mean/ExponentialMovingAverage:0, resnet_v2_101/block2/unit_4/bottleneck_v2/conv1/BatchNorm/moving_variance/ExponentialMovingAverage:0, resnet_v2_101/block2/unit_4/bottleneck_v2/conv1/weights/ExponentialMovingAverage:0, resnet_v2_101/block2/unit_4/bottleneck_v2/conv2/BatchNorm/beta/ExponentialMovingAverage:0, resnet_v2_101/block2/unit_4/bottleneck_v2/conv2/BatchNorm/gamma/ExponentialMovingAverage:0, resnet_v2_101/block2/unit_4/bottleneck_v2/conv2/BatchNorm/moving_mean/ExponentialMovingAverage:0, resnet_v2_101/block2/unit_4/bottleneck_v2/conv2/BatchNorm/moving_variance/ExponentialMovingAverage:0, resnet_v2_101/block2/unit_4/bottleneck_v2/conv2/weights/ExponentialMovingAverage:0, resnet_v2_101/block2/unit_4/bottleneck_v2/conv3/biases/ExponentialMovingAverage:0, resnet_v2_101/block2/unit_4/bottleneck_v2/conv3/weights/ExponentialMovingAverage:0, resnet_v2_101/block2/unit_4/bottleneck_v2/preact/beta/ExponentialMovingAverage:0, resnet_v2_101/block2/unit_4/bottleneck_v2/preact/gamma/ExponentialMovingAverage:0, resnet_v2_101/block2/unit_4/bottleneck_v2/preact/moving_mean/ExponentialMovingAverage:0, resnet_v2_101/block2/unit_4/bottleneck_v2/preact/moving_variance/ExponentialMovingAverage:0, resnet_v2_101/block3/unit_1/bottleneck_v2/conv1/BatchNorm/beta/ExponentialMovingAverage:0, resnet_v2_101/block3/unit_1/bottleneck_v2/conv1/BatchNorm/gamma/ExponentialMovingAverage:0, resnet_v2_101/block3/unit_1/bottleneck_v2/conv1/BatchNorm/moving_mean/ExponentialMovingAverage:0, resnet_v2_101/block3/unit_1/bottleneck_v2/conv1/BatchNorm/moving_variance/ExponentialMovingAverage:0, resnet_v2_101/block3/unit_1/bottleneck_v2/conv1/weights/ExponentialMovingAverage:0, resnet_v2_101/block3/unit_1/bottleneck_v2/conv2/BatchNorm/beta/ExponentialMovingAverage:0, resnet_v2_101/block3/unit_1/bottleneck_v2/conv2/BatchNorm/gamma/ExponentialMovingAverage:0, resnet_v2_101/block3/unit_1/bottleneck_v2/conv2/BatchNorm/moving_mean/ExponentialMovingAverage:0, resnet_v2_101/block3/unit_1/bottleneck_v2/conv2/BatchNorm/moving_variance/ExponentialMovingAverage:0, resnet_v2_101/block3/unit_1/bottleneck_v2/conv2/weights/ExponentialMovingAverage:0, resnet_v2_101/block3/unit_1/bottleneck_v2/conv3/biases/ExponentialMovingAverage:0, resnet_v2_101/block3/unit_1/bottleneck_v2/conv3/weights/ExponentialMovingAverage:0, resnet_v2_101/block3/unit_1/bottleneck_v2/preact/beta/ExponentialMovingAverage:0, resnet_v2_101/block3/unit_1/bottleneck_v2/preact/gamma/ExponentialMovingAverage:0, resnet_v2_101/block3/unit_1/bottleneck_v2/preact/moving_mean/ExponentialMovingAverage:0, resnet_v2_101/block3/unit_1/bottleneck_v2/preact/moving_variance/ExponentialMovingAverage:0, resnet_v2_101/block3/unit_1/bottleneck_v2/shortcut/biases/ExponentialMovingAverage:0, resnet_v2_101/block3/unit_1/bottleneck_v2/shortcut/weights/ExponentialMovingAverage:0, resnet_v2_101/block3/unit_10/bottleneck_v2/conv1/BatchNorm/beta/ExponentialMovingAverage:0, resnet_v2_101/block3/unit_10/bottleneck_v2/conv1/BatchNorm/gamma/ExponentialMovingAverage:0, resnet_v2_101/block3/unit_10/bottleneck_v2/conv1/BatchNorm/moving_mean/ExponentialMovingAverage:0, resnet_v2_101/block3/unit_10/bottleneck_v2/conv1/BatchNorm/moving_variance/ExponentialMovingAverage:0, resnet_v2_101/block3/unit_10/bottleneck_v2/conv1/weights/ExponentialMovingAverage:0, resnet_v2_101/block3/unit_10/bottleneck_v2/conv2/BatchNorm/beta/ExponentialMovingAverage:0, resnet_v2_101/block3/unit_10/bottleneck_v2/conv2/BatchNorm/gamma/ExponentialMovingAverage:0, resnet_v2_101/block3/unit_10/bottleneck_v2/conv2/BatchNorm/moving_mean/ExponentialMovingAverage:0, resnet_v2_101/block3/unit_10/bottleneck_v2/conv2/BatchNorm/moving_variance/ExponentialMovingAverage:0, resnet_v2_101/block3/unit_10/bottleneck_v2/conv2/weights/ExponentialMovingAverage:0, resnet_v2_101/block3/unit_10/bottleneck_v2/conv3/biases/ExponentialMovingAverage:0, resnet_v2_101/block3/unit_10/bottleneck_v2/conv3/weights/ExponentialMovingAverage:0, resnet_v2_101/block3/unit_10/bottleneck_v2/preact/beta/ExponentialMovingAverage:0, resnet_v2_101/block3/unit_10/bottleneck_v2/preact/gamma/ExponentialMovingAverage:0, resnet_v2_101/block3/unit_10/bottleneck_v2/preact/moving_mean/ExponentialMovingAverage:0, resnet_v2_101/block3/unit_10/bottleneck_v2/preact/moving_variance/ExponentialMovingAverage:0, resnet_v2_101/block3/unit_11/bottleneck_v2/conv1/BatchNorm/beta/ExponentialMovingAverage:0, resnet_v2_101/block3/unit_11/bottleneck_v2/conv1/BatchNorm/gamma/ExponentialMovingAverage:0, resnet_v2_101/block3/unit_11/bottleneck_v2/conv1/BatchNorm/moving_mean/ExponentialMovingAverage:0, resnet_v2_101/block3/unit_11/bottleneck_v2/conv1/BatchNorm/moving_variance/ExponentialMovingAverage:0, resnet_v2_101/block3/unit_11/bottleneck_v2/conv1/weights/ExponentialMovingAverage:0, resnet_v2_101/block3/unit_11/bottleneck_v2/conv2/BatchNorm/beta/ExponentialMovingAverage:0, resnet_v2_101/block3/unit_11/bottleneck_v2/conv2/BatchNorm/gamma/ExponentialMovingAverage:0, resnet_v2_101/block3/unit_11/bottleneck_v2/conv2/BatchNorm/moving_mean/ExponentialMovingAverage:0, resnet_v2_101/block3/unit_11/bottleneck_v2/conv2/BatchNorm/moving_variance/ExponentialMovingAverage:0, resnet_v2_101/block3/unit_11/bottleneck_v2/conv2/weights/ExponentialMovingAverage:0, resnet_v2_101/block3/unit_11/bottleneck_v2/conv3/biases/ExponentialMovingAverage:0, resnet_v2_101/block3/unit_11/bottleneck_v2/conv3/weights/ExponentialMovingAverage:0, resnet_v2_101/block3/unit_11/bottleneck_v2/preact/beta/ExponentialMovingAverage:0, resnet_v2_101/block3/unit_11/bottleneck_v2/preact/gamma/ExponentialMovingAverage:0, resnet_v2_101/block3/unit_11/bottleneck_v2/preact/moving_mean/ExponentialMovingAverage:0, resnet_v2_101/block3/unit_11/bottleneck_v2/preact/moving_variance/ExponentialMovingAverage:0, resnet_v2_101/block3/unit_12/bottleneck_v2/conv1/BatchNorm/beta/ExponentialMovingAverage:0, resnet_v2_101/block3/unit_12/bottleneck_v2/conv1/BatchNorm/gamma/ExponentialMovingAverage:0, resnet_v2_101/block3/unit_12/bottleneck_v2/conv1/BatchNorm/moving_mean/ExponentialMovingAverage:0, resnet_v2_101/block3/unit_12/bottleneck_v2/conv1/BatchNorm/moving_variance/ExponentialMovingAverage:0, resnet_v2_101/block3/unit_12/bottleneck_v2/conv1/weights/ExponentialMovingAverage:0, resnet_v2_101/block3/unit_12/bottleneck_v2/conv2/BatchNorm/beta/ExponentialMovingAverage:0, resnet_v2_101/block3/unit_12/bottleneck_v2/conv2/BatchNorm/gamma/ExponentialMovingAverage:0, resnet_v2_101/block3/unit_12/bottleneck_v2/conv2/BatchNorm/moving_mean/ExponentialMovingAverage:0, resnet_v2_101/block3/unit_12/bottleneck_v2/conv2/BatchNorm/moving_variance/ExponentialMovingAverage:0, resnet_v2_101/block3/unit_12/bottleneck_v2/conv2/weights/ExponentialMovingAverage:0, resnet_v2_101/block3/unit_12/bottleneck_v2/conv3/biases/ExponentialMovingAverage:0, resnet_v2_101/block3/unit_12/bottleneck_v2/conv3/weights/ExponentialMovingAverage:0, resnet_v2_101/block3/unit_12/bottleneck_v2/preact/beta/ExponentialMovingAverage:0, resnet_v2_101/block3/unit_12/bottleneck_v2/preact/gamma/ExponentialMovingAverage:0, resnet_v2_101/block3/unit_12/bottleneck_v2/preact/moving_mean/ExponentialMovingAverage:0, resnet_v2_101/block3/unit_12/bottleneck_v2/preact/moving_variance/ExponentialMovingAverage:0, resnet_v2_101/block3/unit_13/bottleneck_v2/conv1/BatchNorm/beta/ExponentialMovingAverage:0, resnet_v2_101/block3/unit_13/bottleneck_v2/conv1/BatchNorm/gamma/ExponentialMovingAverage:0, resnet_v2_101/block3/unit_13/bottleneck_v2/conv1/BatchNorm/moving_mean/ExponentialMovingAverage:0, resnet_v2_101/block3/unit_13/bottleneck_v2/conv1/BatchNorm/moving_variance/ExponentialMovingAverage:0, resnet_v2_101/block3/unit_13/bottleneck_v2/conv1/weights/ExponentialMovingAverage:0, resnet_v2_101/block3/unit_13/bottleneck_v2/conv2/BatchNorm/beta/ExponentialMovingAverage:0, resnet_v2_101/block3/unit_13/bottleneck_v2/conv2/BatchNorm/gamma/ExponentialMovingAverage:0, resnet_v2_101/block3/unit_13/bottleneck_v2/conv2/BatchNorm/moving_mean/ExponentialMovingAverage:0, resnet_v2_101/block3/unit_13/bottleneck_v2/conv2/BatchNorm/moving_variance/ExponentialMovingAverage:0, resnet_v2_101/block3/unit_13/bottleneck_v2/conv2/weights/ExponentialMovingAverage:0, resnet_v2_101/block3/unit_13/bottleneck_v2/conv3/biases/ExponentialMovingAverage:0, resnet_v2_101/block3/unit_13/bottleneck_v2/conv3/weights/ExponentialMovingAverage:0, resnet_v2_101/block3/unit_13/bottleneck_v2/preact/beta/ExponentialMovingAverage:0, resnet_v2_101/block3/unit_13/bottleneck_v2/preact/gamma/ExponentialMovingAverage:0, resnet_v2_101/block3/unit_13/bottleneck_v2/preact/moving_mean/ExponentialMovingAverage:0, resnet_v2_101/block3/unit_13/bottleneck_v2/preact/moving_variance/ExponentialMovingAverage:0, resnet_v2_101/block3/unit_14/bottleneck_v2/conv1/BatchNorm/beta/ExponentialMovingAverage:0, resnet_v2_101/block3/unit_14/bottleneck_v2/conv1/BatchNorm/gamma/ExponentialMovingAverage:0, resnet_v2_101/block3/unit_14/bottleneck_v2/conv1/BatchNorm/moving_mean/ExponentialMovingAverage:0, resnet_v2_101/block3/unit_14/bottleneck_v2/conv1/BatchNorm/moving_variance/ExponentialMovingAverage:0, resnet_v2_101/block3/unit_14/bottleneck_v2/conv1/weights/ExponentialMovingAverage:0, resnet_v2_101/block3/unit_14/bottleneck_v2/conv2/BatchNorm/beta/ExponentialMovingAverage:0, resnet_v2_101/block3/unit_14/bottleneck_v2/conv2/BatchNorm/gamma/ExponentialMovingAverage:0, resnet_v2_101/block3/unit_14/bottleneck_v2/conv2/BatchNorm/moving_mean/ExponentialMovingAverage:0, resnet_v2_101/block3/unit_14/bottleneck_v2/conv2/BatchNorm/moving_variance/ExponentialMovingAverage:0, resnet_v2_101/block3/unit_14/bottleneck_v2/conv2/weights/ExponentialMovingAverage:0, resnet_v2_101/block3/unit_14/bottleneck_v2/conv3/biases/ExponentialMovingAverage:0, resnet_v2_101/block3/unit_14/bottleneck_v2/conv3/weights/ExponentialMovingAverage:0, resnet_v2_101/block3/unit_14/bottleneck_v2/preact/beta/ExponentialMovingAverage:0, resnet_v2_101/block3/unit_14/bottleneck_v2/preact/gamma/ExponentialMovingAverage:0, resnet_v2_101/block3/unit_14/bottleneck_v2/preact/moving_mean/ExponentialMovingAverage:0, resnet_v2_101/block3/unit_14/bottleneck_v2/preact/moving_variance/ExponentialMovingAverage:0, resnet_v2_101/block3/unit_15/bottleneck_v2/conv1/BatchNorm/beta/ExponentialMovingAverage:0, resnet_v2_101/block3/unit_15/bottleneck_v2/conv1/BatchNorm/gamma/ExponentialMovingAverage:0, resnet_v2_101/block3/unit_15/bottleneck_v2/conv1/BatchNorm/moving_mean/ExponentialMovingAverage:0, resnet_v2_101/block3/unit_15/bottleneck_v2/conv1/BatchNorm/moving_variance/ExponentialMovingAverage:0, resnet_v2_101/block3/unit_15/bottleneck_v2/conv1/weights/ExponentialMovingAverage:0, resnet_v2_101/block3/unit_15/bottleneck_v2/conv2/BatchNorm/beta/ExponentialMovingAverage:0, resnet_v2_101/block3/unit_15/bottleneck_v2/conv2/BatchNorm/gamma/ExponentialMovingAverage:0, resnet_v2_101/block3/unit_15/bottleneck_v2/conv2/BatchNorm/moving_mean/ExponentialMovingAverage:0, resnet_v2_101/block3/unit_15/bottleneck_v2/conv2/BatchNorm/moving_variance/ExponentialMovingAverage:0, resnet_v2_101/block3/unit_15/bottleneck_v2/conv2/weights/ExponentialMovingAverage:0, resnet_v2_101/block3/unit_15/bottleneck_v2/conv3/biases/ExponentialMovingAverage:0, resnet_v2_101/block3/unit_15/bottleneck_v2/conv3/weights/ExponentialMovingAverage:0, resnet_v2_101/block3/unit_15/bottleneck_v2/preact/beta/ExponentialMovingAverage:0, resnet_v2_101/block3/unit_15/bottleneck_v2/preact/gamma/ExponentialMovingAverage:0, resnet_v2_101/block3/unit_15/bottleneck_v2/preact/moving_mean/ExponentialMovingAverage:0, resnet_v2_101/block3/unit_15/bottleneck_v2/preact/moving_variance/ExponentialMovingAverage:0, resnet_v2_101/block3/unit_16/bottleneck_v2/conv1/BatchNorm/beta/ExponentialMovingAverage:0, resnet_v2_101/block3/unit_16/bottleneck_v2/conv1/BatchNorm/gamma/ExponentialMovingAverage:0, resnet_v2_101/block3/unit_16/bottleneck_v2/conv1/BatchNorm/moving_mean/ExponentialMovingAverage:0, resnet_v2_101/block3/unit_16/bottleneck_v2/conv1/BatchNorm/moving_variance/ExponentialMovingAverage:0, resnet_v2_101/block3/unit_16/bottleneck_v2/conv1/weights/ExponentialMovingAverage:0, resnet_v2_101/block3/unit_16/bottleneck_v2/conv2/BatchNorm/beta/ExponentialMovingAverage:0, resnet_v2_101/block3/unit_16/bottleneck_v2/conv2/BatchNorm/gamma/ExponentialMovingAverage:0, resnet_v2_101/block3/unit_16/bottleneck_v2/conv2/BatchNorm/moving_mean/ExponentialMovingAverage:0, resnet_v2_101/block3/unit_16/bottleneck_v2/conv2/BatchNorm/moving_variance/ExponentialMovingAverage:0, resnet_v2_101/block3/unit_16/bottleneck_v2/conv2/weights/ExponentialMovingAverage:0, resnet_v2_101/block3/unit_16/bottleneck_v2/conv3/biases/ExponentialMovingAverage:0, resnet_v2_101/block3/unit_16/bottleneck_v2/conv3/weights/ExponentialMovingAverage:0, resnet_v2_101/block3/unit_16/bottleneck_v2/preact/beta/ExponentialMovingAverage:0, resnet_v2_101/block3/unit_16/bottleneck_v2/preact/gamma/ExponentialMovingAverage:0, resnet_v2_101/block3/unit_16/bottleneck_v2/preact/moving_mean/ExponentialMovingAverage:0, resnet_v2_101/block3/unit_16/bottleneck_v2/preact/moving_variance/ExponentialMovingAverage:0, resnet_v2_101/block3/unit_17/bottleneck_v2/conv1/BatchNorm/beta/ExponentialMovingAverage:0, resnet_v2_101/block3/unit_17/bottleneck_v2/conv1/BatchNorm/gamma/ExponentialMovingAverage:0, resnet_v2_101/block3/unit_17/bottleneck_v2/conv1/BatchNorm/moving_mean/ExponentialMovingAverage:0, resnet_v2_101/block3/unit_17/bottleneck_v2/conv1/BatchNorm/moving_variance/ExponentialMovingAverage:0, resnet_v2_101/block3/unit_17/bottleneck_v2/conv1/weights/ExponentialMovingAverage:0, resnet_v2_101/block3/unit_17/bottleneck_v2/conv2/BatchNorm/beta/ExponentialMovingAverage:0, resnet_v2_101/block3/unit_17/bottleneck_v2/conv2/BatchNorm/gamma/ExponentialMovingAverage:0, resnet_v2_101/block3/unit_17/bottleneck_v2/conv2/BatchNorm/moving_mean/ExponentialMovingAverage:0, resnet_v2_101/block3/unit_17/bottleneck_v2/conv2/BatchNorm/moving_variance/ExponentialMovingAverage:0, resnet_v2_101/block3/unit_17/bottleneck_v2/conv2/weights/ExponentialMovingAverage:0, resnet_v2_101/block3/unit_17/bottleneck_v2/conv3/biases/ExponentialMovingAverage:0, resnet_v2_101/block3/unit_17/bottleneck_v2/conv3/weights/ExponentialMovingAverage:0, resnet_v2_101/block3/unit_17/bottleneck_v2/preact/beta/ExponentialMovingAverage:0, resnet_v2_101/block3/unit_17/bottleneck_v2/preact/gamma/ExponentialMovingAverage:0, resnet_v2_101/block3/unit_17/bottleneck_v2/preact/moving_mean/ExponentialMovingAverage:0, resnet_v2_101/block3/unit_17/bottleneck_v2/preact/moving_variance/ExponentialMovingAverage:0, resnet_v2_101/block3/unit_18/bottleneck_v2/conv1/BatchNorm/beta/ExponentialMovingAverage:0, resnet_v2_101/block3/unit_18/bottleneck_v2/conv1/BatchNorm/gamma/ExponentialMovingAverage:0, resnet_v2_101/block3/unit_18/bottleneck_v2/conv1/BatchNorm/moving_mean/ExponentialMovingAverage:0, resnet_v2_101/block3/unit_18/bottleneck_v2/conv1/BatchNorm/moving_variance/ExponentialMovingAverage:0, resnet_v2_101/block3/unit_18/bottleneck_v2/conv1/weights/ExponentialMovingAverage:0, resnet_v2_101/block3/unit_18/bottleneck_v2/conv2/BatchNorm/beta/ExponentialMovingAverage:0, resnet_v2_101/block3/unit_18/bottleneck_v2/conv2/BatchNorm/gamma/ExponentialMovingAverage:0, resnet_v2_101/block3/unit_18/bottleneck_v2/conv2/BatchNorm/moving_mean/ExponentialMovingAverage:0, resnet_v2_101/block3/unit_18/bottleneck_v2/conv2/BatchNorm/moving_variance/ExponentialMovingAverage:0, resnet_v2_101/block3/unit_18/bottleneck_v2/conv2/weights/ExponentialMovingAverage:0, resnet_v2_101/block3/unit_18/bottleneck_v2/conv3/biases/ExponentialMovingAverage:0, resnet_v2_101/block3/unit_18/bottleneck_v2/conv3/weights/ExponentialMovingAverage:0, resnet_v2_101/block3/unit_18/bottleneck_v2/preact/beta/ExponentialMovingAverage:0, resnet_v2_101/block3/unit_18/bottleneck_v2/preact/gamma/ExponentialMovingAverage:0, resnet_v2_101/block3/unit_18/bottleneck_v2/preact/moving_mean/ExponentialMovingAverage:0, resnet_v2_101/block3/unit_18/bottleneck_v2/preact/moving_variance/ExponentialMovingAverage:0, resnet_v2_101/block3/unit_19/bottleneck_v2/conv1/BatchNorm/beta/ExponentialMovingAverage:0, resnet_v2_101/block3/unit_19/bottleneck_v2/conv1/BatchNorm/gamma/ExponentialMovingAverage:0, resnet_v2_101/block3/unit_19/bottleneck_v2/conv1/BatchNorm/moving_mean/ExponentialMovingAverage:0, resnet_v2_101/block3/unit_19/bottleneck_v2/conv1/BatchNorm/moving_variance/ExponentialMovingAverage:0, resnet_v2_101/block3/unit_19/bottleneck_v2/conv1/weights/ExponentialMovingAverage:0, resnet_v2_101/block3/unit_19/bottleneck_v2/conv2/BatchNorm/beta/ExponentialMovingAverage:0, resnet_v2_101/block3/unit_19/bottleneck_v2/conv2/BatchNorm/gamma/ExponentialMovingAverage:0, resnet_v2_101/block3/unit_19/bottleneck_v2/conv2/BatchNorm/moving_mean/ExponentialMovingAverage:0, resnet_v2_101/block3/unit_19/bottleneck_v2/conv2/BatchNorm/moving_variance/ExponentialMovingAverage:0, resnet_v2_101/block3/unit_19/bottleneck_v2/conv2/weights/ExponentialMovingAverage:0, resnet_v2_101/block3/unit_19/bottleneck_v2/conv3/biases/ExponentialMovingAverage:0, resnet_v2_101/block3/unit_19/bottleneck_v2/conv3/weights/ExponentialMovingAverage:0, resnet_v2_101/block3/unit_19/bottleneck_v2/preact/beta/ExponentialMovingAverage:0, resnet_v2_101/block3/unit_19/bottleneck_v2/preact/gamma/ExponentialMovingAverage:0, resnet_v2_101/block3/unit_19/bottleneck_v2/preact/moving_mean/ExponentialMovingAverage:0, resnet_v2_101/block3/unit_19/bottleneck_v2/preact/moving_variance/ExponentialMovingAverage:0, resnet_v2_101/block3/unit_2/bottleneck_v2/conv1/BatchNorm/beta/ExponentialMovingAverage:0, resnet_v2_101/block3/unit_2/bottleneck_v2/conv1/BatchNorm/gamma/ExponentialMovingAverage:0, resnet_v2_101/block3/unit_2/bottleneck_v2/conv1/BatchNorm/moving_mean/ExponentialMovingAverage:0, resnet_v2_101/block3/unit_2/bottleneck_v2/conv1/BatchNorm/moving_variance/ExponentialMovingAverage:0, resnet_v2_101/block3/unit_2/bottleneck_v2/conv1/weights/ExponentialMovingAverage:0, resnet_v2_101/block3/unit_2/bottleneck_v2/conv2/BatchNorm/beta/ExponentialMovingAverage:0, resnet_v2_101/block3/unit_2/bottleneck_v2/conv2/BatchNorm/gamma/ExponentialMovingAverage:0, resnet_v2_101/block3/unit_2/bottleneck_v2/conv2/BatchNorm/moving_mean/ExponentialMovingAverage:0, resnet_v2_101/block3/unit_2/bottleneck_v2/conv2/BatchNorm/moving_variance/ExponentialMovingAverage:0, resnet_v2_101/block3/unit_2/bottleneck_v2/conv2/weights/ExponentialMovingAverage:0, resnet_v2_101/block3/unit_2/bottleneck_v2/conv3/biases/ExponentialMovingAverage:0, resnet_v2_101/block3/unit_2/bottleneck_v2/conv3/weights/ExponentialMovingAverage:0, resnet_v2_101/block3/unit_2/bottleneck_v2/preact/beta/ExponentialMovingAverage:0, resnet_v2_101/block3/unit_2/bottleneck_v2/preact/gamma/ExponentialMovingAverage:0, resnet_v2_101/block3/unit_2/bottleneck_v2/preact/moving_mean/ExponentialMovingAverage:0, resnet_v2_101/block3/unit_2/bottleneck_v2/preact/moving_variance/ExponentialMovingAverage:0, resnet_v2_101/block3/unit_20/bottleneck_v2/conv1/BatchNorm/beta/ExponentialMovingAverage:0, resnet_v2_101/block3/unit_20/bottleneck_v2/conv1/BatchNorm/gamma/ExponentialMovingAverage:0, resnet_v2_101/block3/unit_20/bottleneck_v2/conv1/BatchNorm/moving_mean/ExponentialMovingAverage:0, resnet_v2_101/block3/unit_20/bottleneck_v2/conv1/BatchNorm/moving_variance/ExponentialMovingAverage:0, resnet_v2_101/block3/unit_20/bottleneck_v2/conv1/weights/ExponentialMovingAverage:0, resnet_v2_101/block3/unit_20/bottleneck_v2/conv2/BatchNorm/beta/ExponentialMovingAverage:0, resnet_v2_101/block3/unit_20/bottleneck_v2/conv2/BatchNorm/gamma/ExponentialMovingAverage:0, resnet_v2_101/block3/unit_20/bottleneck_v2/conv2/BatchNorm/moving_mean/ExponentialMovingAverage:0, resnet_v2_101/block3/unit_20/bottleneck_v2/conv2/BatchNorm/moving_variance/ExponentialMovingAverage:0, resnet_v2_101/block3/unit_20/bottleneck_v2/conv2/weights/ExponentialMovingAverage:0, resnet_v2_101/block3/unit_20/bottleneck_v2/conv3/biases/ExponentialMovingAverage:0, resnet_v2_101/block3/unit_20/bottleneck_v2/conv3/weights/ExponentialMovingAverage:0, resnet_v2_101/block3/unit_20/bottleneck_v2/preact/beta/ExponentialMovingAverage:0, resnet_v2_101/block3/unit_20/bottleneck_v2/preact/gamma/ExponentialMovingAverage:0, resnet_v2_101/block3/unit_20/bottleneck_v2/preact/moving_mean/ExponentialMovingAverage:0, resnet_v2_101/block3/unit_20/bottleneck_v2/preact/moving_variance/ExponentialMovingAverage:0, resnet_v2_101/block3/unit_21/bottleneck_v2/conv1/BatchNorm/beta/ExponentialMovingAverage:0, resnet_v2_101/block3/unit_21/bottleneck_v2/conv1/BatchNorm/gamma/ExponentialMovingAverage:0, resnet_v2_101/block3/unit_21/bottleneck_v2/conv1/BatchNorm/moving_mean/ExponentialMovingAverage:0, resnet_v2_101/block3/unit_21/bottleneck_v2/conv1/BatchNorm/moving_variance/ExponentialMovingAverage:0, resnet_v2_101/block3/unit_21/bottleneck_v2/conv1/weights/ExponentialMovingAverage:0, resnet_v2_101/block3/unit_21/bottleneck_v2/conv2/BatchNorm/beta/ExponentialMovingAverage:0, resnet_v2_101/block3/unit_21/bottleneck_v2/conv2/BatchNorm/gamma/ExponentialMovingAverage:0, resnet_v2_101/block3/unit_21/bottleneck_v2/conv2/BatchNorm/moving_mean/ExponentialMovingAverage:0, resnet_v2_101/block3/unit_21/bottleneck_v2/conv2/BatchNorm/moving_variance/ExponentialMovingAverage:0, resnet_v2_101/block3/unit_21/bottleneck_v2/conv2/weights/ExponentialMovingAverage:0, resnet_v2_101/block3/unit_21/bottleneck_v2/conv3/biases/ExponentialMovingAverage:0, resnet_v2_101/block3/unit_21/bottleneck_v2/conv3/weights/ExponentialMovingAverage:0, resnet_v2_101/block3/unit_21/bottleneck_v2/preact/beta/ExponentialMovingAverage:0, resnet_v2_101/block3/unit_21/bottleneck_v2/preact/gamma/ExponentialMovingAverage:0, resnet_v2_101/block3/unit_21/bottleneck_v2/preact/moving_mean/ExponentialMovingAverage:0, resnet_v2_101/block3/unit_21/bottleneck_v2/preact/moving_variance/ExponentialMovingAverage:0, resnet_v2_101/block3/unit_22/bottleneck_v2/conv1/BatchNorm/beta/ExponentialMovingAverage:0, resnet_v2_101/block3/unit_22/bottleneck_v2/conv1/BatchNorm/gamma/ExponentialMovingAverage:0, resnet_v2_101/block3/unit_22/bottleneck_v2/conv1/BatchNorm/moving_mean/ExponentialMovingAverage:0, resnet_v2_101/block3/unit_22/bottleneck_v2/conv1/BatchNorm/moving_variance/ExponentialMovingAverage:0, resnet_v2_101/block3/unit_22/bottleneck_v2/conv1/weights/ExponentialMovingAverage:0, resnet_v2_101/block3/unit_22/bottleneck_v2/conv2/BatchNorm/beta/ExponentialMovingAverage:0, resnet_v2_101/block3/unit_22/bottleneck_v2/conv2/BatchNorm/gamma/ExponentialMovingAverage:0, resnet_v2_101/block3/unit_22/bottleneck_v2/conv2/BatchNorm/moving_mean/ExponentialMovingAverage:0, resnet_v2_101/block3/unit_22/bottleneck_v2/conv2/BatchNorm/moving_variance/ExponentialMovingAverage:0, resnet_v2_101/block3/unit_22/bottleneck_v2/conv2/weights/ExponentialMovingAverage:0, resnet_v2_101/block3/unit_22/bottleneck_v2/conv3/biases/ExponentialMovingAverage:0, resnet_v2_101/block3/unit_22/bottleneck_v2/conv3/weights/ExponentialMovingAverage:0, resnet_v2_101/block3/unit_22/bottleneck_v2/preact/beta/ExponentialMovingAverage:0, resnet_v2_101/block3/unit_22/bottleneck_v2/preact/gamma/ExponentialMovingAverage:0, resnet_v2_101/block3/unit_22/bottleneck_v2/preact/moving_mean/ExponentialMovingAverage:0, resnet_v2_101/block3/unit_22/bottleneck_v2/preact/moving_variance/ExponentialMovingAverage:0, resnet_v2_101/block3/unit_23/bottleneck_v2/conv1/BatchNorm/beta/ExponentialMovingAverage:0, resnet_v2_101/block3/unit_23/bottleneck_v2/conv1/BatchNorm/gamma/ExponentialMovingAverage:0, resnet_v2_101/block3/unit_23/bottleneck_v2/conv1/BatchNorm/moving_mean/ExponentialMovingAverage:0, resnet_v2_101/block3/unit_23/bottleneck_v2/conv1/BatchNorm/moving_variance/ExponentialMovingAverage:0, resnet_v2_101/block3/unit_23/bottleneck_v2/conv1/weights/ExponentialMovingAverage:0, resnet_v2_101/block3/unit_23/bottleneck_v2/conv2/BatchNorm/beta/ExponentialMovingAverage:0, resnet_v2_101/block3/unit_23/bottleneck_v2/conv2/BatchNorm/gamma/ExponentialMovingAverage:0, resnet_v2_101/block3/unit_23/bottleneck_v2/conv2/BatchNorm/moving_mean/ExponentialMovingAverage:0, resnet_v2_101/block3/unit_23/bottleneck_v2/conv2/BatchNorm/moving_variance/ExponentialMovingAverage:0, resnet_v2_101/block3/unit_23/bottleneck_v2/conv2/weights/ExponentialMovingAverage:0, resnet_v2_101/block3/unit_23/bottleneck_v2/conv3/biases/ExponentialMovingAverage:0, resnet_v2_101/block3/unit_23/bottleneck_v2/conv3/weights/ExponentialMovingAverage:0, resnet_v2_101/block3/unit_23/bottleneck_v2/preact/beta/ExponentialMovingAverage:0, resnet_v2_101/block3/unit_23/bottleneck_v2/preact/gamma/ExponentialMovingAverage:0, resnet_v2_101/block3/unit_23/bottleneck_v2/preact/moving_mean/ExponentialMovingAverage:0, resnet_v2_101/block3/unit_23/bottleneck_v2/preact/moving_variance/ExponentialMovingAverage:0, resnet_v2_101/block3/unit_3/bottleneck_v2/conv1/BatchNorm/beta/ExponentialMovingAverage:0, resnet_v2_101/block3/unit_3/bottleneck_v2/conv1/BatchNorm/gamma/ExponentialMovingAverage:0, resnet_v2_101/block3/unit_3/bottleneck_v2/conv1/BatchNorm/moving_mean/ExponentialMovingAverage:0, resnet_v2_101/block3/unit_3/bottleneck_v2/conv1/BatchNorm/moving_variance/ExponentialMovingAverage:0, resnet_v2_101/block3/unit_3/bottleneck_v2/conv1/weights/ExponentialMovingAverage:0, resnet_v2_101/block3/unit_3/bottleneck_v2/conv2/BatchNorm/beta/ExponentialMovingAverage:0, resnet_v2_101/block3/unit_3/bottleneck_v2/conv2/BatchNorm/gamma/ExponentialMovingAverage:0, resnet_v2_101/block3/unit_3/bottleneck_v2/conv2/BatchNorm/moving_mean/ExponentialMovingAverage:0, resnet_v2_101/block3/unit_3/bottleneck_v2/conv2/BatchNorm/moving_variance/ExponentialMovingAverage:0, resnet_v2_101/block3/unit_3/bottleneck_v2/conv2/weights/ExponentialMovingAverage:0, resnet_v2_101/block3/unit_3/bottleneck_v2/conv3/biases/ExponentialMovingAverage:0, resnet_v2_101/block3/unit_3/bottleneck_v2/conv3/weights/ExponentialMovingAverage:0, resnet_v2_101/block3/unit_3/bottleneck_v2/preact/beta/ExponentialMovingAverage:0, resnet_v2_101/block3/unit_3/bottleneck_v2/preact/gamma/ExponentialMovingAverage:0, resnet_v2_101/block3/unit_3/bottleneck_v2/preact/moving_mean/ExponentialMovingAverage:0, resnet_v2_101/block3/unit_3/bottleneck_v2/preact/moving_variance/ExponentialMovingAverage:0, resnet_v2_101/block3/unit_4/bottleneck_v2/conv1/BatchNorm/beta/ExponentialMovingAverage:0, resnet_v2_101/block3/unit_4/bottleneck_v2/conv1/BatchNorm/gamma/ExponentialMovingAverage:0, resnet_v2_101/block3/unit_4/bottleneck_v2/conv1/BatchNorm/moving_mean/ExponentialMovingAverage:0, resnet_v2_101/block3/unit_4/bottleneck_v2/conv1/BatchNorm/moving_variance/ExponentialMovingAverage:0, resnet_v2_101/block3/unit_4/bottleneck_v2/conv1/weights/ExponentialMovingAverage:0, resnet_v2_101/block3/unit_4/bottleneck_v2/conv2/BatchNorm/beta/ExponentialMovingAverage:0, resnet_v2_101/block3/unit_4/bottleneck_v2/conv2/BatchNorm/gamma/ExponentialMovingAverage:0, resnet_v2_101/block3/unit_4/bottleneck_v2/conv2/BatchNorm/moving_mean/ExponentialMovingAverage:0, resnet_v2_101/block3/unit_4/bottleneck_v2/conv2/BatchNorm/moving_variance/ExponentialMovingAverage:0, resnet_v2_101/block3/unit_4/bottleneck_v2/conv2/weights/ExponentialMovingAverage:0, resnet_v2_101/block3/unit_4/bottleneck_v2/conv3/biases/ExponentialMovingAverage:0, resnet_v2_101/block3/unit_4/bottleneck_v2/conv3/weights/ExponentialMovingAverage:0, resnet_v2_101/block3/unit_4/bottleneck_v2/preact/beta/ExponentialMovingAverage:0, resnet_v2_101/block3/unit_4/bottleneck_v2/preact/gamma/ExponentialMovingAverage:0, resnet_v2_101/block3/unit_4/bottleneck_v2/preact/moving_mean/ExponentialMovingAverage:0, resnet_v2_101/block3/unit_4/bottleneck_v2/preact/moving_variance/ExponentialMovingAverage:0, resnet_v2_101/block3/unit_5/bottleneck_v2/conv1/BatchNorm/beta/ExponentialMovingAverage:0, resnet_v2_101/block3/unit_5/bottleneck_v2/conv1/BatchNorm/gamma/ExponentialMovingAverage:0, resnet_v2_101/block3/unit_5/bottleneck_v2/conv1/BatchNorm/moving_mean/ExponentialMovingAverage:0, resnet_v2_101/block3/unit_5/bottleneck_v2/conv1/BatchNorm/moving_variance/ExponentialMovingAverage:0, resnet_v2_101/block3/unit_5/bottleneck_v2/conv1/weights/ExponentialMovingAverage:0, resnet_v2_101/block3/unit_5/bottleneck_v2/conv2/BatchNorm/beta/ExponentialMovingAverage:0, resnet_v2_101/block3/unit_5/bottleneck_v2/conv2/BatchNorm/gamma/ExponentialMovingAverage:0, resnet_v2_101/block3/unit_5/bottleneck_v2/conv2/BatchNorm/moving_mean/ExponentialMovingAverage:0, resnet_v2_101/block3/unit_5/bottleneck_v2/conv2/BatchNorm/moving_variance/ExponentialMovingAverage:0, resnet_v2_101/block3/unit_5/bottleneck_v2/conv2/weights/ExponentialMovingAverage:0, resnet_v2_101/block3/unit_5/bottleneck_v2/conv3/biases/ExponentialMovingAverage:0, resnet_v2_101/block3/unit_5/bottleneck_v2/conv3/weights/ExponentialMovingAverage:0, resnet_v2_101/block3/unit_5/bottleneck_v2/preact/beta/ExponentialMovingAverage:0, resnet_v2_101/block3/unit_5/bottleneck_v2/preact/gamma/ExponentialMovingAverage:0, resnet_v2_101/block3/unit_5/bottleneck_v2/preact/moving_mean/ExponentialMovingAverage:0, resnet_v2_101/block3/unit_5/bottleneck_v2/preact/moving_variance/ExponentialMovingAverage:0, resnet_v2_101/block3/unit_6/bottleneck_v2/conv1/BatchNorm/beta/ExponentialMovingAverage:0, resnet_v2_101/block3/unit_6/bottleneck_v2/conv1/BatchNorm/gamma/ExponentialMovingAverage:0, resnet_v2_101/block3/unit_6/bottleneck_v2/conv1/BatchNorm/moving_mean/ExponentialMovingAverage:0, resnet_v2_101/block3/unit_6/bottleneck_v2/conv1/BatchNorm/moving_variance/ExponentialMovingAverage:0, resnet_v2_101/block3/unit_6/bottleneck_v2/conv1/weights/ExponentialMovingAverage:0, resnet_v2_101/block3/unit_6/bottleneck_v2/conv2/BatchNorm/beta/ExponentialMovingAverage:0, resnet_v2_101/block3/unit_6/bottleneck_v2/conv2/BatchNorm/gamma/ExponentialMovingAverage:0, resnet_v2_101/block3/unit_6/bottleneck_v2/conv2/BatchNorm/moving_mean/ExponentialMovingAverage:0, resnet_v2_101/block3/unit_6/bottleneck_v2/conv2/BatchNorm/moving_variance/ExponentialMovingAverage:0, resnet_v2_101/block3/unit_6/bottleneck_v2/conv2/weights/ExponentialMovingAverage:0, resnet_v2_101/block3/unit_6/bottleneck_v2/conv3/biases/ExponentialMovingAverage:0, resnet_v2_101/block3/unit_6/bottleneck_v2/conv3/weights/ExponentialMovingAverage:0, resnet_v2_101/block3/unit_6/bottleneck_v2/preact/beta/ExponentialMovingAverage:0, resnet_v2_101/block3/unit_6/bottleneck_v2/preact/gamma/ExponentialMovingAverage:0, resnet_v2_101/block3/unit_6/bottleneck_v2/preact/moving_mean/ExponentialMovingAverage:0, resnet_v2_101/block3/unit_6/bottleneck_v2/preact/moving_variance/ExponentialMovingAverage:0, resnet_v2_101/block3/unit_7/bottleneck_v2/conv1/BatchNorm/beta/ExponentialMovingAverage:0, resnet_v2_101/block3/unit_7/bottleneck_v2/conv1/BatchNorm/gamma/ExponentialMovingAverage:0, resnet_v2_101/block3/unit_7/bottleneck_v2/conv1/BatchNorm/moving_mean/ExponentialMovingAverage:0, resnet_v2_101/block3/unit_7/bottleneck_v2/conv1/BatchNorm/moving_variance/ExponentialMovingAverage:0, resnet_v2_101/block3/unit_7/bottleneck_v2/conv1/weights/ExponentialMovingAverage:0, resnet_v2_101/block3/unit_7/bottleneck_v2/conv2/BatchNorm/beta/ExponentialMovingAverage:0, resnet_v2_101/block3/unit_7/bottleneck_v2/conv2/BatchNorm/gamma/ExponentialMovingAverage:0, resnet_v2_101/block3/unit_7/bottleneck_v2/conv2/BatchNorm/moving_mean/ExponentialMovingAverage:0, resnet_v2_101/block3/unit_7/bottleneck_v2/conv2/BatchNorm/moving_variance/ExponentialMovingAverage:0, resnet_v2_101/block3/unit_7/bottleneck_v2/conv2/weights/ExponentialMovingAverage:0, resnet_v2_101/block3/unit_7/bottleneck_v2/conv3/biases/ExponentialMovingAverage:0, resnet_v2_101/block3/unit_7/bottleneck_v2/conv3/weights/ExponentialMovingAverage:0, resnet_v2_101/block3/unit_7/bottleneck_v2/preact/beta/ExponentialMovingAverage:0, resnet_v2_101/block3/unit_7/bottleneck_v2/preact/gamma/ExponentialMovingAverage:0, resnet_v2_101/block3/unit_7/bottleneck_v2/preact/moving_mean/ExponentialMovingAverage:0, resnet_v2_101/block3/unit_7/bottleneck_v2/preact/moving_variance/ExponentialMovingAverage:0, resnet_v2_101/block3/unit_8/bottleneck_v2/conv1/BatchNorm/beta/ExponentialMovingAverage:0, resnet_v2_101/block3/unit_8/bottleneck_v2/conv1/BatchNorm/gamma/ExponentialMovingAverage:0, resnet_v2_101/block3/unit_8/bottleneck_v2/conv1/BatchNorm/moving_mean/ExponentialMovingAverage:0, resnet_v2_101/block3/unit_8/bottleneck_v2/conv1/BatchNorm/moving_variance/ExponentialMovingAverage:0, resnet_v2_101/block3/unit_8/bottleneck_v2/conv1/weights/ExponentialMovingAverage:0, resnet_v2_101/block3/unit_8/bottleneck_v2/conv2/BatchNorm/beta/ExponentialMovingAverage:0, resnet_v2_101/block3/unit_8/bottleneck_v2/conv2/BatchNorm/gamma/ExponentialMovingAverage:0, resnet_v2_101/block3/unit_8/bottleneck_v2/conv2/BatchNorm/moving_mean/ExponentialMovingAverage:0, resnet_v2_101/block3/unit_8/bottleneck_v2/conv2/BatchNorm/moving_variance/ExponentialMovingAverage:0, resnet_v2_101/block3/unit_8/bottleneck_v2/conv2/weights/ExponentialMovingAverage:0, resnet_v2_101/block3/unit_8/bottleneck_v2/conv3/biases/ExponentialMovingAverage:0, resnet_v2_101/block3/unit_8/bottleneck_v2/conv3/weights/ExponentialMovingAverage:0, resnet_v2_101/block3/unit_8/bottleneck_v2/preact/beta/ExponentialMovingAverage:0, resnet_v2_101/block3/unit_8/bottleneck_v2/preact/gamma/ExponentialMovingAverage:0, resnet_v2_101/block3/unit_8/bottleneck_v2/preact/moving_mean/ExponentialMovingAverage:0, resnet_v2_101/block3/unit_8/bottleneck_v2/preact/moving_variance/ExponentialMovingAverage:0, resnet_v2_101/block3/unit_9/bottleneck_v2/conv1/BatchNorm/beta/ExponentialMovingAverage:0, resnet_v2_101/block3/unit_9/bottleneck_v2/conv1/BatchNorm/gamma/ExponentialMovingAverage:0, resnet_v2_101/block3/unit_9/bottleneck_v2/conv1/BatchNorm/moving_mean/ExponentialMovingAverage:0, resnet_v2_101/block3/unit_9/bottleneck_v2/conv1/BatchNorm/moving_variance/ExponentialMovingAverage:0, resnet_v2_101/block3/unit_9/bottleneck_v2/conv1/weights/ExponentialMovingAverage:0, resnet_v2_101/block3/unit_9/bottleneck_v2/conv2/BatchNorm/beta/ExponentialMovingAverage:0, resnet_v2_101/block3/unit_9/bottleneck_v2/conv2/BatchNorm/gamma/ExponentialMovingAverage:0, resnet_v2_101/block3/unit_9/bottleneck_v2/conv2/BatchNorm/moving_mean/ExponentialMovingAverage:0, resnet_v2_101/block3/unit_9/bottleneck_v2/conv2/BatchNorm/moving_variance/ExponentialMovingAverage:0, resnet_v2_101/block3/unit_9/bottleneck_v2/conv2/weights/ExponentialMovingAverage:0, resnet_v2_101/block3/unit_9/bottleneck_v2/conv3/biases/ExponentialMovingAverage:0, resnet_v2_101/block3/unit_9/bottleneck_v2/conv3/weights/ExponentialMovingAverage:0, resnet_v2_101/block3/unit_9/bottleneck_v2/preact/beta/ExponentialMovingAverage:0, resnet_v2_101/block3/unit_9/bottleneck_v2/preact/gamma/ExponentialMovingAverage:0, resnet_v2_101/block3/unit_9/bottleneck_v2/preact/moving_mean/ExponentialMovingAverage:0, resnet_v2_101/block3/unit_9/bottleneck_v2/preact/moving_variance/ExponentialMovingAverage:0, resnet_v2_101/block4/unit_1/bottleneck_v2/conv1/BatchNorm/beta/ExponentialMovingAverage:0, resnet_v2_101/block4/unit_1/bottleneck_v2/conv1/BatchNorm/gamma/ExponentialMovingAverage:0, resnet_v2_101/block4/unit_1/bottleneck_v2/conv1/BatchNorm/moving_mean/ExponentialMovingAverage:0, resnet_v2_101/block4/unit_1/bottleneck_v2/conv1/BatchNorm/moving_variance/ExponentialMovingAverage:0, resnet_v2_101/block4/unit_1/bottleneck_v2/conv1/weights/ExponentialMovingAverage:0, resnet_v2_101/block4/unit_1/bottleneck_v2/conv2/BatchNorm/beta/ExponentialMovingAverage:0, resnet_v2_101/block4/unit_1/bottleneck_v2/conv2/BatchNorm/gamma/ExponentialMovingAverage:0, resnet_v2_101/block4/unit_1/bottleneck_v2/conv2/BatchNorm/moving_mean/ExponentialMovingAverage:0, resnet_v2_101/block4/unit_1/bottleneck_v2/conv2/BatchNorm/moving_variance/ExponentialMovingAverage:0, resnet_v2_101/block4/unit_1/bottleneck_v2/conv2/weights/ExponentialMovingAverage:0, resnet_v2_101/block4/unit_1/bottleneck_v2/conv3/biases/ExponentialMovingAverage:0, resnet_v2_101/block4/unit_1/bottleneck_v2/conv3/weights/ExponentialMovingAverage:0, resnet_v2_101/block4/unit_1/bottleneck_v2/preact/beta/ExponentialMovingAverage:0, resnet_v2_101/block4/unit_1/bottleneck_v2/preact/gamma/ExponentialMovingAverage:0, resnet_v2_101/block4/unit_1/bottleneck_v2/preact/moving_mean/ExponentialMovingAverage:0, resnet_v2_101/block4/unit_1/bottleneck_v2/preact/moving_variance/ExponentialMovingAverage:0, resnet_v2_101/block4/unit_1/bottleneck_v2/shortcut/biases/ExponentialMovingAverage:0, resnet_v2_101/block4/unit_1/bottleneck_v2/shortcut/weights/ExponentialMovingAverage:0, resnet_v2_101/block4/unit_2/bottleneck_v2/conv1/BatchNorm/beta/ExponentialMovingAverage:0, resnet_v2_101/block4/unit_2/bottleneck_v2/conv1/BatchNorm/gamma/ExponentialMovingAverage:0, resnet_v2_101/block4/unit_2/bottleneck_v2/conv1/BatchNorm/moving_mean/ExponentialMovingAverage:0, resnet_v2_101/block4/unit_2/bottleneck_v2/conv1/BatchNorm/moving_variance/ExponentialMovingAverage:0, resnet_v2_101/block4/unit_2/bottleneck_v2/conv1/weights/ExponentialMovingAverage:0, resnet_v2_101/block4/unit_2/bottleneck_v2/conv2/BatchNorm/beta/ExponentialMovingAverage:0, resnet_v2_101/block4/unit_2/bottleneck_v2/conv2/BatchNorm/gamma/ExponentialMovingAverage:0, resnet_v2_101/block4/unit_2/bottleneck_v2/conv2/BatchNorm/moving_mean/ExponentialMovingAverage:0, resnet_v2_101/block4/unit_2/bottleneck_v2/conv2/BatchNorm/moving_variance/ExponentialMovingAverage:0, resnet_v2_101/block4/unit_2/bottleneck_v2/conv2/weights/ExponentialMovingAverage:0, resnet_v2_101/block4/unit_2/bottleneck_v2/conv3/biases/ExponentialMovingAverage:0, resnet_v2_101/block4/unit_2/bottleneck_v2/conv3/weights/ExponentialMovingAverage:0, resnet_v2_101/block4/unit_2/bottleneck_v2/preact/beta/ExponentialMovingAverage:0, resnet_v2_101/block4/unit_2/bottleneck_v2/preact/gamma/ExponentialMovingAverage:0, resnet_v2_101/block4/unit_2/bottleneck_v2/preact/moving_mean/ExponentialMovingAverage:0, resnet_v2_101/block4/unit_2/bottleneck_v2/preact/moving_variance/ExponentialMovingAverage:0, resnet_v2_101/block4/unit_3/bottleneck_v2/conv1/BatchNorm/beta/ExponentialMovingAverage:0, resnet_v2_101/block4/unit_3/bottleneck_v2/conv1/BatchNorm/gamma/ExponentialMovingAverage:0, resnet_v2_101/block4/unit_3/bottleneck_v2/conv1/BatchNorm/moving_mean/ExponentialMovingAverage:0, resnet_v2_101/block4/unit_3/bottleneck_v2/conv1/BatchNorm/moving_variance/ExponentialMovingAverage:0, resnet_v2_101/block4/unit_3/bottleneck_v2/conv1/weights/ExponentialMovingAverage:0, resnet_v2_101/block4/unit_3/bottleneck_v2/conv2/BatchNorm/beta/ExponentialMovingAverage:0, resnet_v2_101/block4/unit_3/bottleneck_v2/conv2/BatchNorm/gamma/ExponentialMovingAverage:0, resnet_v2_101/block4/unit_3/bottleneck_v2/conv2/BatchNorm/moving_mean/ExponentialMovingAverage:0, resnet_v2_101/block4/unit_3/bottleneck_v2/conv2/BatchNorm/moving_variance/ExponentialMovingAverage:0, resnet_v2_101/block4/unit_3/bottleneck_v2/conv2/weights/ExponentialMovingAverage:0, resnet_v2_101/block4/unit_3/bottleneck_v2/conv3/biases/ExponentialMovingAverage:0, resnet_v2_101/block4/unit_3/bottleneck_v2/conv3/weights/ExponentialMovingAverage:0, resnet_v2_101/block4/unit_3/bottleneck_v2/preact/beta/ExponentialMovingAverage:0, resnet_v2_101/block4/unit_3/bottleneck_v2/preact/gamma/ExponentialMovingAverage:0, resnet_v2_101/block4/unit_3/bottleneck_v2/preact/moving_mean/ExponentialMovingAverage:0, resnet_v2_101/block4/unit_3/bottleneck_v2/preact/moving_variance/ExponentialMovingAverage:0, resnet_v2_101/conv1/biases/ExponentialMovingAverage:0, resnet_v2_101/conv1/weights/ExponentialMovingAverage:0, resnet_v2_101/logits/biases/ExponentialMovingAverage:0, resnet_v2_101/logits/biases:0, resnet_v2_101/logits/weights/ExponentialMovingAverage:0, resnet_v2_101/logits/weights:0, resnet_v2_101/postnorm/beta/ExponentialMovingAverage:0, resnet_v2_101/postnorm/gamma/ExponentialMovingAverage:0, resnet_v2_101/postnorm/moving_mean/ExponentialMovingAverage:0, resnet_v2_101/postnorm/moving_variance/ExponentialMovingAverage:0, total_loss/ExponentialMovingAverage:0\n"
     ]
    },
    {
     "name": "stdout",
     "output_type": "stream",
     "text": [
      "\u001b[32m[1028 08:39:10 @base.py:212]\u001b[0m Creating the session ...\n",
      "\u001b[32m[1028 08:39:14 @base.py:216]\u001b[0m Initializing the session ...\n",
      "\u001b[32m[1028 08:39:14 @sessinit.py:116]\u001b[0m Restoring checkpoint from ./data/resnet_v2_101/resnet_v2_101.ckpt ...\n",
      "INFO:tensorflow:Restoring parameters from ./data/resnet_v2_101/resnet_v2_101.ckpt\n",
      "\u001b[32m[1028 08:39:15 @base.py:223]\u001b[0m Graph Finalized.\n",
      "\u001b[32m[1028 08:39:15 @param.py:144]\u001b[0m After epoch 0, learning_rate will change to 0.00010000\n",
      "\u001b[32m[1028 08:39:15 @concurrency.py:36]\u001b[0m Starting EnqueueThread DataParallelInferenceRunner/QueueInput/input_queue ...\n",
      "\u001b[32m[1028 08:39:17 @concurrency.py:36]\u001b[0m Starting EnqueueThread QueueInput/input_queue ...\n",
      "\u001b[32m[1028 08:39:17 @input_source.py:418]\u001b[0m Pre-filling staging area ...\n",
      "\u001b[32m[1028 08:39:20 @base.py:257]\u001b[0m Start Epoch 1 ...\n"
     ]
    },
    {
     "name": "stderr",
     "output_type": "stream",
     "text": [
      "100%|##########|56/56[02:02<00:00, 0.41it/s]"
     ]
    },
    {
     "name": "stdout",
     "output_type": "stream",
     "text": [
      "\u001b[32m[1028 08:41:22 @base.py:267]\u001b[0m Epoch 1 (global_step 56) finished, time:122.27 sec.\n"
     ]
    },
    {
     "name": "stderr",
     "output_type": "stream",
     "text": [
      "\n",
      "  0%|          |0/12[00:00<?,?it/s]/home/fuxiaofeng/Applications/anaconda3/lib/python3.6/site-packages/sklearn/metrics/classification.py:1135: UndefinedMetricWarning: F-score is ill-defined and being set to 0.0 in labels with no predicted samples.\n",
      "  'precision', 'predicted', average, warn_for)\n",
      "100%|##########|12/12[00:10<00:00, 1.17it/s]\n"
     ]
    },
    {
     "name": "stdout",
     "output_type": "stream",
     "text": [
      "\u001b[32m[1028 08:41:33 @saver.py:89]\u001b[0m Model saved to train_log/transfer/all_stages-g2-hidden/model-56.\n",
      "\u001b[32m[1028 08:41:33 @saver.py:158]\u001b[0m Model with maximum 'micro_auc' saved.\n",
      "\u001b[32m[1028 08:41:33 @monitor.py:361]\u001b[0m DataParallelInferenceRunner/QueueInput/queue_size_1: 50\n",
      "\u001b[32m[1028 08:41:33 @monitor.py:361]\u001b[0m QueueInput/queue_size_1: 49.177\n",
      "\u001b[32m[1028 08:41:33 @monitor.py:361]\u001b[0m coverage: 14.345\n",
      "\u001b[32m[1028 08:41:33 @monitor.py:361]\u001b[0m learning_rate: 0.0001\n",
      "\u001b[32m[1028 08:41:33 @monitor.py:361]\u001b[0m loss/value: 0.089023\n",
      "\u001b[32m[1028 08:41:33 @monitor.py:361]\u001b[0m macro_auc: 0.67043\n",
      "\u001b[32m[1028 08:41:33 @monitor.py:361]\u001b[0m macro_f1: 0.061792\n",
      "\u001b[32m[1028 08:41:33 @monitor.py:361]\u001b[0m mean_average_precision: 0.25736\n",
      "\u001b[32m[1028 08:41:33 @monitor.py:361]\u001b[0m micro_auc: 0.64401\n",
      "\u001b[32m[1028 08:41:33 @monitor.py:361]\u001b[0m micro_f1: 0.26113\n",
      "\u001b[32m[1028 08:41:33 @monitor.py:361]\u001b[0m one_error: 0.56771\n",
      "\u001b[32m[1028 08:41:33 @monitor.py:361]\u001b[0m ranking_loss: 0.34674\n",
      "\u001b[32m[1028 08:41:33 @monitor.py:361]\u001b[0m ranking_mean_average_precision: 0.42615\n",
      "\u001b[32m[1028 08:41:33 @monitor.py:361]\u001b[0m training_auc: 0.62509\n",
      "\u001b[32m[1028 08:41:33 @group.py:42]\u001b[0m Callbacks took 11.273 sec in total. DataParallelInferenceRunner: 10.549sec\n",
      "\u001b[32m[1028 08:41:33 @base.py:257]\u001b[0m Start Epoch 2 ...\n"
     ]
    },
    {
     "name": "stderr",
     "output_type": "stream",
     "text": [
      "100%|##########|56/56[01:54<00:00, 0.48it/s]"
     ]
    },
    {
     "name": "stdout",
     "output_type": "stream",
     "text": [
      "\u001b[32m[1028 08:43:28 @base.py:267]\u001b[0m Epoch 2 (global_step 112) finished, time:114.82 sec.\n"
     ]
    },
    {
     "name": "stderr",
     "output_type": "stream",
     "text": [
      "\n",
      "100%|##########|12/12[00:10<00:00, 1.19it/s]\n"
     ]
    },
    {
     "name": "stdout",
     "output_type": "stream",
     "text": [
      "\u001b[32m[1028 08:43:39 @saver.py:89]\u001b[0m Model saved to train_log/transfer/all_stages-g2-hidden/model-112.\n",
      "\u001b[32m[1028 08:43:39 @saver.py:158]\u001b[0m Model with maximum 'micro_auc' saved.\n",
      "\u001b[32m[1028 08:43:39 @monitor.py:361]\u001b[0m DataParallelInferenceRunner/QueueInput/queue_size_1: 49.361\n",
      "\u001b[32m[1028 08:43:39 @monitor.py:361]\u001b[0m QueueInput/queue_size_1: 49.506\n",
      "\u001b[32m[1028 08:43:39 @monitor.py:361]\u001b[0m coverage: 13.513\n",
      "\u001b[32m[1028 08:43:39 @monitor.py:361]\u001b[0m learning_rate: 0.0001\n",
      "\u001b[32m[1028 08:43:39 @monitor.py:361]\u001b[0m loss/value: 0.070724\n",
      "\u001b[32m[1028 08:43:39 @monitor.py:361]\u001b[0m macro_auc: 0.74774\n",
      "\u001b[32m[1028 08:43:39 @monitor.py:361]\u001b[0m macro_f1: 0.073858\n",
      "\u001b[32m[1028 08:43:39 @monitor.py:361]\u001b[0m mean_average_precision: 0.33845\n",
      "\u001b[32m[1028 08:43:39 @monitor.py:361]\u001b[0m micro_auc: 0.67087\n",
      "\u001b[32m[1028 08:43:39 @monitor.py:361]\u001b[0m micro_f1: 0.26697\n",
      "\u001b[32m[1028 08:43:39 @monitor.py:361]\u001b[0m one_error: 0.56901\n",
      "\u001b[32m[1028 08:43:39 @monitor.py:361]\u001b[0m ranking_loss: 0.32559\n",
      "\u001b[32m[1028 08:43:39 @monitor.py:361]\u001b[0m ranking_mean_average_precision: 0.44103\n",
      "\u001b[32m[1028 08:43:39 @monitor.py:361]\u001b[0m training_auc: 0.69168\n",
      "\u001b[32m[1028 08:43:39 @group.py:42]\u001b[0m Callbacks took 10.975 sec in total. DataParallelInferenceRunner: 10.053sec\n",
      "\u001b[32m[1028 08:43:39 @base.py:257]\u001b[0m Start Epoch 3 ...\n"
     ]
    },
    {
     "name": "stderr",
     "output_type": "stream",
     "text": [
      "100%|##########|56/56[01:55<00:00, 0.48it/s]"
     ]
    },
    {
     "name": "stdout",
     "output_type": "stream",
     "text": [
      "\u001b[32m[1028 08:45:35 @base.py:267]\u001b[0m Epoch 3 (global_step 168) finished, time:115.90 sec.\n"
     ]
    },
    {
     "name": "stderr",
     "output_type": "stream",
     "text": [
      "\n",
      "100%|##########|12/12[00:10<00:00, 1.19it/s]\n"
     ]
    },
    {
     "name": "stdout",
     "output_type": "stream",
     "text": [
      "\u001b[32m[1028 08:45:46 @saver.py:89]\u001b[0m Model saved to train_log/transfer/all_stages-g2-hidden/model-168.\n",
      "\u001b[32m[1028 08:45:46 @saver.py:158]\u001b[0m Model with maximum 'micro_auc' saved.\n",
      "\u001b[32m[1028 08:45:46 @monitor.py:361]\u001b[0m DataParallelInferenceRunner/QueueInput/queue_size_1: 49.336\n",
      "\u001b[32m[1028 08:45:46 @monitor.py:361]\u001b[0m QueueInput/queue_size_1: 49.595\n",
      "\u001b[32m[1028 08:45:46 @monitor.py:361]\u001b[0m coverage: 11.478\n",
      "\u001b[32m[1028 08:45:46 @monitor.py:361]\u001b[0m learning_rate: 0.0001\n",
      "\u001b[32m[1028 08:45:46 @monitor.py:361]\u001b[0m loss/value: 0.061812\n",
      "\u001b[32m[1028 08:45:46 @monitor.py:361]\u001b[0m macro_auc: 0.81543\n",
      "\u001b[32m[1028 08:45:46 @monitor.py:361]\u001b[0m macro_f1: 0.10081\n",
      "\u001b[32m[1028 08:45:46 @monitor.py:361]\u001b[0m mean_average_precision: 0.40869\n",
      "\u001b[32m[1028 08:45:46 @monitor.py:361]\u001b[0m micro_auc: 0.73653\n",
      "\u001b[32m[1028 08:45:46 @monitor.py:361]\u001b[0m micro_f1: 0.30376\n",
      "\u001b[32m[1028 08:45:46 @monitor.py:361]\u001b[0m one_error: 0.5625\n",
      "\u001b[32m[1028 08:45:46 @monitor.py:361]\u001b[0m ranking_loss: 0.25652\n",
      "\u001b[32m[1028 08:45:46 @monitor.py:361]\u001b[0m ranking_mean_average_precision: 0.48475\n",
      "\u001b[32m[1028 08:45:46 @monitor.py:361]\u001b[0m training_auc: 0.74192\n",
      "\u001b[32m[1028 08:45:46 @group.py:42]\u001b[0m Callbacks took 11.116 sec in total. DataParallelInferenceRunner: 10.275sec\n",
      "\u001b[32m[1028 08:45:46 @base.py:257]\u001b[0m Start Epoch 4 ...\n"
     ]
    },
    {
     "name": "stderr",
     "output_type": "stream",
     "text": [
      "100%|##########|56/56[01:56<00:00, 0.49it/s]"
     ]
    },
    {
     "name": "stdout",
     "output_type": "stream",
     "text": [
      "\u001b[32m[1028 08:47:42 @base.py:267]\u001b[0m Epoch 4 (global_step 224) finished, time:116.12 sec.\n"
     ]
    },
    {
     "name": "stderr",
     "output_type": "stream",
     "text": [
      "\n",
      "100%|##########|12/12[00:10<00:00, 1.18it/s]\n"
     ]
    },
    {
     "name": "stdout",
     "output_type": "stream",
     "text": [
      "\u001b[32m[1028 08:47:53 @saver.py:89]\u001b[0m Model saved to train_log/transfer/all_stages-g2-hidden/model-224.\n",
      "\u001b[32m[1028 08:47:53 @saver.py:158]\u001b[0m Model with maximum 'micro_auc' saved.\n",
      "\u001b[32m[1028 08:47:53 @monitor.py:361]\u001b[0m DataParallelInferenceRunner/QueueInput/queue_size_1: 49.454\n",
      "\u001b[32m[1028 08:47:53 @monitor.py:361]\u001b[0m QueueInput/queue_size_1: 49.404\n",
      "\u001b[32m[1028 08:47:53 @monitor.py:361]\u001b[0m coverage: 8.4023\n",
      "\u001b[32m[1028 08:47:53 @monitor.py:361]\u001b[0m learning_rate: 0.0001\n",
      "\u001b[32m[1028 08:47:53 @monitor.py:361]\u001b[0m loss/value: 0.056342\n",
      "\u001b[32m[1028 08:47:53 @monitor.py:361]\u001b[0m macro_auc: 0.87468\n",
      "\u001b[32m[1028 08:47:53 @monitor.py:361]\u001b[0m macro_f1: 0.14792\n",
      "\u001b[32m[1028 08:47:53 @monitor.py:361]\u001b[0m mean_average_precision: 0.47698\n",
      "\u001b[32m[1028 08:47:53 @monitor.py:361]\u001b[0m micro_auc: 0.83801\n",
      "\u001b[32m[1028 08:47:53 @monitor.py:361]\u001b[0m micro_f1: 0.369\n",
      "\u001b[32m[1028 08:47:53 @monitor.py:361]\u001b[0m one_error: 0.52604\n",
      "\u001b[32m[1028 08:47:53 @monitor.py:361]\u001b[0m ranking_loss: 0.16016\n",
      "\u001b[32m[1028 08:47:53 @monitor.py:361]\u001b[0m ranking_mean_average_precision: 0.56033\n",
      "\u001b[32m[1028 08:47:53 @monitor.py:361]\u001b[0m training_auc: 0.77673\n",
      "\u001b[32m[1028 08:47:53 @group.py:42]\u001b[0m Callbacks took 10.932 sec in total. DataParallelInferenceRunner: 10.250sec\n",
      "\u001b[32m[1028 08:47:53 @base.py:257]\u001b[0m Start Epoch 5 ...\n"
     ]
    },
    {
     "name": "stderr",
     "output_type": "stream",
     "text": [
      "100%|##########|56/56[01:56<00:00, 0.49it/s]"
     ]
    },
    {
     "name": "stdout",
     "output_type": "stream",
     "text": [
      "\u001b[32m[1028 08:49:49 @base.py:267]\u001b[0m Epoch 5 (global_step 280) finished, time:116.06 sec.\n"
     ]
    },
    {
     "name": "stderr",
     "output_type": "stream",
     "text": [
      "\n",
      "100%|##########|12/12[00:10<00:00, 1.19it/s]\n"
     ]
    },
    {
     "name": "stdout",
     "output_type": "stream",
     "text": [
      "\u001b[32m[1028 08:50:00 @saver.py:89]\u001b[0m Model saved to train_log/transfer/all_stages-g2-hidden/model-280.\n",
      "\u001b[32m[1028 08:50:00 @saver.py:158]\u001b[0m Model with maximum 'micro_auc' saved.\n",
      "\u001b[32m[1028 08:50:00 @monitor.py:361]\u001b[0m DataParallelInferenceRunner/QueueInput/queue_size_1: 49.55\n",
      "\u001b[32m[1028 08:50:00 @monitor.py:361]\u001b[0m QueueInput/queue_size_1: 49.582\n",
      "\u001b[32m[1028 08:50:00 @monitor.py:361]\u001b[0m coverage: 6.0898\n",
      "\u001b[32m[1028 08:50:00 @monitor.py:361]\u001b[0m learning_rate: 0.0001\n",
      "\u001b[32m[1028 08:50:00 @monitor.py:361]\u001b[0m loss/value: 0.052907\n",
      "\u001b[32m[1028 08:50:00 @monitor.py:361]\u001b[0m macro_auc: 0.9071\n",
      "\u001b[32m[1028 08:50:00 @monitor.py:361]\u001b[0m macro_f1: 0.25421\n",
      "\u001b[32m[1028 08:50:00 @monitor.py:361]\u001b[0m mean_average_precision: 0.57056\n",
      "\u001b[32m[1028 08:50:00 @monitor.py:361]\u001b[0m micro_auc: 0.90251\n",
      "\u001b[32m[1028 08:50:00 @monitor.py:361]\u001b[0m micro_f1: 0.46041\n",
      "\u001b[32m[1028 08:50:00 @monitor.py:361]\u001b[0m one_error: 0.40495\n",
      "\u001b[32m[1028 08:50:00 @monitor.py:361]\u001b[0m ranking_loss: 0.097009\n",
      "\u001b[32m[1028 08:50:00 @monitor.py:361]\u001b[0m ranking_mean_average_precision: 0.65395\n",
      "\u001b[32m[1028 08:50:00 @monitor.py:361]\u001b[0m training_auc: 0.80357\n",
      "\u001b[32m[1028 08:50:00 @group.py:42]\u001b[0m Callbacks took 10.839 sec in total. DataParallelInferenceRunner: 10.171sec\n",
      "\u001b[32m[1028 08:50:00 @base.py:257]\u001b[0m Start Epoch 6 ...\n"
     ]
    },
    {
     "name": "stderr",
     "output_type": "stream",
     "text": [
      "100%|##########|56/56[01:56<00:00, 0.48it/s]"
     ]
    },
    {
     "name": "stdout",
     "output_type": "stream",
     "text": [
      "\u001b[32m[1028 08:51:56 @base.py:267]\u001b[0m Epoch 6 (global_step 336) finished, time:116.02 sec.\n"
     ]
    },
    {
     "name": "stderr",
     "output_type": "stream",
     "text": [
      "\n",
      "100%|##########|12/12[00:10<00:00, 1.18it/s]\n"
     ]
    },
    {
     "name": "stdout",
     "output_type": "stream",
     "text": [
      "\u001b[32m[1028 08:52:07 @saver.py:89]\u001b[0m Model saved to train_log/transfer/all_stages-g2-hidden/model-336.\n",
      "\u001b[32m[1028 08:52:07 @saver.py:158]\u001b[0m Model with maximum 'micro_auc' saved.\n",
      "\u001b[32m[1028 08:52:07 @monitor.py:361]\u001b[0m DataParallelInferenceRunner/QueueInput/queue_size_1: 49.609\n",
      "\u001b[32m[1028 08:52:07 @monitor.py:361]\u001b[0m QueueInput/queue_size_1: 49.557\n",
      "\u001b[32m[1028 08:52:07 @monitor.py:361]\u001b[0m coverage: 5.3672\n",
      "\u001b[32m[1028 08:52:07 @monitor.py:361]\u001b[0m learning_rate: 0.0001\n",
      "\u001b[32m[1028 08:52:07 @monitor.py:361]\u001b[0m loss/value: 0.049693\n",
      "\u001b[32m[1028 08:52:07 @monitor.py:361]\u001b[0m macro_auc: 0.91211\n",
      "\u001b[32m[1028 08:52:07 @monitor.py:361]\u001b[0m macro_f1: 0.28952\n",
      "\u001b[32m[1028 08:52:07 @monitor.py:361]\u001b[0m mean_average_precision: 0.5808\n",
      "\u001b[32m[1028 08:52:07 @monitor.py:361]\u001b[0m micro_auc: 0.91898\n",
      "\u001b[32m[1028 08:52:07 @monitor.py:361]\u001b[0m micro_f1: 0.47035\n",
      "\u001b[32m[1028 08:52:07 @monitor.py:361]\u001b[0m one_error: 0.36849\n",
      "\u001b[32m[1028 08:52:07 @monitor.py:361]\u001b[0m ranking_loss: 0.078535\n",
      "\u001b[32m[1028 08:52:07 @monitor.py:361]\u001b[0m ranking_mean_average_precision: 0.68737\n",
      "\u001b[32m[1028 08:52:07 @monitor.py:361]\u001b[0m training_auc: 0.82396\n",
      "\u001b[32m[1028 08:52:07 @group.py:42]\u001b[0m Callbacks took 10.795 sec in total. DataParallelInferenceRunner: 10.148sec\n",
      "\u001b[32m[1028 08:52:07 @base.py:257]\u001b[0m Start Epoch 7 ...\n"
     ]
    },
    {
     "name": "stderr",
     "output_type": "stream",
     "text": [
      "100%|##########|56/56[01:56<00:00, 0.47it/s]"
     ]
    },
    {
     "name": "stdout",
     "output_type": "stream",
     "text": [
      "\u001b[32m[1028 08:54:03 @base.py:267]\u001b[0m Epoch 7 (global_step 392) finished, time:116.18 sec.\n"
     ]
    },
    {
     "name": "stderr",
     "output_type": "stream",
     "text": [
      "\n",
      "100%|##########|12/12[00:10<00:00, 1.18it/s]\n"
     ]
    },
    {
     "name": "stdout",
     "output_type": "stream",
     "text": [
      "\u001b[32m[1028 08:54:14 @saver.py:89]\u001b[0m Model saved to train_log/transfer/all_stages-g2-hidden/model-392.\n",
      "\u001b[32m[1028 08:54:14 @saver.py:158]\u001b[0m Model with maximum 'micro_auc' saved.\n",
      "\u001b[32m[1028 08:54:14 @monitor.py:361]\u001b[0m DataParallelInferenceRunner/QueueInput/queue_size_1: 49.594\n",
      "\u001b[32m[1028 08:54:14 @monitor.py:361]\u001b[0m QueueInput/queue_size_1: 49.375\n",
      "\u001b[32m[1028 08:54:14 @monitor.py:361]\u001b[0m coverage: 4.9727\n",
      "\u001b[32m[1028 08:54:14 @monitor.py:361]\u001b[0m learning_rate: 0.0001\n",
      "\u001b[32m[1028 08:54:14 @monitor.py:361]\u001b[0m loss/value: 0.047615\n",
      "\u001b[32m[1028 08:54:14 @monitor.py:361]\u001b[0m macro_auc: 0.91775\n",
      "\u001b[32m[1028 08:54:14 @monitor.py:361]\u001b[0m macro_f1: 0.34738\n",
      "\u001b[32m[1028 08:54:14 @monitor.py:361]\u001b[0m mean_average_precision: 0.61041\n",
      "\u001b[32m[1028 08:54:14 @monitor.py:361]\u001b[0m micro_auc: 0.9271\n",
      "\u001b[32m[1028 08:54:14 @monitor.py:361]\u001b[0m micro_f1: 0.5088\n",
      "\u001b[32m[1028 08:54:14 @monitor.py:361]\u001b[0m one_error: 0.34896\n",
      "\u001b[32m[1028 08:54:14 @monitor.py:361]\u001b[0m ranking_loss: 0.072111\n",
      "\u001b[32m[1028 08:54:14 @monitor.py:361]\u001b[0m ranking_mean_average_precision: 0.71021\n",
      "\u001b[32m[1028 08:54:14 @monitor.py:361]\u001b[0m training_auc: 0.84072\n",
      "\u001b[32m[1028 08:54:14 @group.py:42]\u001b[0m Callbacks took 10.871 sec in total. DataParallelInferenceRunner: 10.148sec\n",
      "\u001b[32m[1028 08:54:14 @base.py:257]\u001b[0m Start Epoch 8 ...\n"
     ]
    },
    {
     "name": "stderr",
     "output_type": "stream",
     "text": [
      "100%|##########|56/56[01:56<00:00, 0.49it/s]"
     ]
    },
    {
     "name": "stdout",
     "output_type": "stream",
     "text": [
      "\u001b[32m[1028 08:56:10 @base.py:267]\u001b[0m Epoch 8 (global_step 448) finished, time:116.28 sec.\n"
     ]
    },
    {
     "name": "stderr",
     "output_type": "stream",
     "text": [
      "\n",
      "100%|##########|12/12[00:10<00:00, 1.19it/s]\n"
     ]
    },
    {
     "name": "stdout",
     "output_type": "stream",
     "text": [
      "\u001b[32m[1028 08:56:21 @saver.py:89]\u001b[0m Model saved to train_log/transfer/all_stages-g2-hidden/model-448.\n",
      "\u001b[32m[1028 08:56:21 @saver.py:158]\u001b[0m Model with maximum 'micro_auc' saved.\n",
      "\u001b[32m[1028 08:56:21 @monitor.py:361]\u001b[0m DataParallelInferenceRunner/QueueInput/queue_size_1: 49.678\n",
      "\u001b[32m[1028 08:56:21 @monitor.py:361]\u001b[0m QueueInput/queue_size_1: 49.658\n",
      "\u001b[32m[1028 08:56:21 @monitor.py:361]\u001b[0m coverage: 4.6432\n",
      "\u001b[32m[1028 08:56:21 @monitor.py:361]\u001b[0m learning_rate: 0.0001\n",
      "\u001b[32m[1028 08:56:21 @monitor.py:361]\u001b[0m loss/value: 0.044095\n",
      "\u001b[32m[1028 08:56:21 @monitor.py:361]\u001b[0m macro_auc: 0.9267\n",
      "\u001b[32m[1028 08:56:21 @monitor.py:361]\u001b[0m macro_f1: 0.45645\n",
      "\u001b[32m[1028 08:56:21 @monitor.py:361]\u001b[0m mean_average_precision: 0.6363\n",
      "\u001b[32m[1028 08:56:21 @monitor.py:361]\u001b[0m micro_auc: 0.93628\n",
      "\u001b[32m[1028 08:56:21 @monitor.py:361]\u001b[0m micro_f1: 0.58566\n",
      "\u001b[32m[1028 08:56:21 @monitor.py:361]\u001b[0m one_error: 0.3138\n",
      "\u001b[32m[1028 08:56:21 @monitor.py:361]\u001b[0m ranking_loss: 0.062035\n",
      "\u001b[32m[1028 08:56:21 @monitor.py:361]\u001b[0m ranking_mean_average_precision: 0.73525\n",
      "\u001b[32m[1028 08:56:21 @monitor.py:361]\u001b[0m training_auc: 0.85431\n",
      "\u001b[32m[1028 08:56:21 @group.py:42]\u001b[0m Callbacks took 10.763 sec in total. DataParallelInferenceRunner: 10.127sec\n",
      "\u001b[32m[1028 08:56:21 @base.py:257]\u001b[0m Start Epoch 9 ...\n"
     ]
    },
    {
     "name": "stderr",
     "output_type": "stream",
     "text": [
      "100%|##########|56/56[01:56<00:00, 0.48it/s]"
     ]
    },
    {
     "name": "stdout",
     "output_type": "stream",
     "text": [
      "\u001b[32m[1028 08:58:18 @base.py:267]\u001b[0m Epoch 9 (global_step 504) finished, time:116.58 sec.\n"
     ]
    },
    {
     "name": "stderr",
     "output_type": "stream",
     "text": [
      "\n",
      "100%|##########|12/12[00:10<00:00, 1.17it/s]"
     ]
    },
    {
     "name": "stdout",
     "output_type": "stream",
     "text": [
      "\u001b[32m[1028 08:58:28 @saver.py:89]\u001b[0m Model saved to train_log/transfer/all_stages-g2-hidden/model-504.\n",
      "\u001b[32m[1028 08:58:28 @monitor.py:361]\u001b[0m DataParallelInferenceRunner/QueueInput/queue_size_1: 49.692\n",
      "\u001b[32m[1028 08:58:28 @monitor.py:361]\u001b[0m QueueInput/queue_size_1: 49.519\n",
      "\u001b[32m[1028 08:58:28 @monitor.py:361]\u001b[0m coverage: 4.9609\n",
      "\u001b[32m[1028 08:58:28 @monitor.py:361]\u001b[0m learning_rate: 0.0001\n",
      "\u001b[32m[1028 08:58:28 @monitor.py:361]\u001b[0m loss/value: 0.043225\n",
      "\u001b[32m[1028 08:58:28 @monitor.py:361]\u001b[0m macro_auc: 0.92951\n",
      "\u001b[32m[1028 08:58:28 @monitor.py:361]\u001b[0m macro_f1: 0.42359\n",
      "\u001b[32m[1028 08:58:28 @monitor.py:361]\u001b[0m mean_average_precision: 0.65149\n",
      "\u001b[32m[1028 08:58:28 @monitor.py:361]\u001b[0m micro_auc: 0.92877\n",
      "\u001b[32m[1028 08:58:28 @monitor.py:361]\u001b[0m micro_f1: 0.53962\n",
      "\u001b[32m[1028 08:58:28 @monitor.py:361]\u001b[0m one_error: 0.3138\n",
      "\u001b[32m[1028 08:58:28 @monitor.py:361]\u001b[0m ranking_loss: 0.071385\n",
      "\u001b[32m[1028 08:58:28 @monitor.py:361]\u001b[0m ranking_mean_average_precision: 0.72096\n",
      "\u001b[32m[1028 08:58:28 @monitor.py:361]\u001b[0m training_auc: 0.86543\n",
      "\u001b[32m[1028 08:58:28 @group.py:42]\u001b[0m Callbacks took 10.396 sec in total. DataParallelInferenceRunner: 10.204sec\n",
      "\u001b[32m[1028 08:58:28 @base.py:257]\u001b[0m Start Epoch 10 ...\n"
     ]
    },
    {
     "name": "stderr",
     "output_type": "stream",
     "text": [
      "\n",
      "100%|##########|56/56[01:55<00:00, 0.48it/s]"
     ]
    },
    {
     "name": "stdout",
     "output_type": "stream",
     "text": [
      "\u001b[32m[1028 09:00:24 @base.py:267]\u001b[0m Epoch 10 (global_step 560) finished, time:115.56 sec.\n"
     ]
    },
    {
     "name": "stderr",
     "output_type": "stream",
     "text": [
      "\n",
      "100%|##########|12/12[00:10<00:00, 1.18it/s]\n"
     ]
    },
    {
     "name": "stdout",
     "output_type": "stream",
     "text": [
      "\u001b[32m[1028 09:00:34 @saver.py:89]\u001b[0m Model saved to train_log/transfer/all_stages-g2-hidden/model-560.\n",
      "\u001b[32m[1028 09:00:34 @monitor.py:361]\u001b[0m DataParallelInferenceRunner/QueueInput/queue_size_1: 49.612\n",
      "\u001b[32m[1028 09:00:34 @monitor.py:361]\u001b[0m QueueInput/queue_size_1: 49.485\n",
      "\u001b[32m[1028 09:00:34 @monitor.py:361]\u001b[0m coverage: 4.8411\n",
      "\u001b[32m[1028 09:00:34 @monitor.py:361]\u001b[0m learning_rate: 0.0001\n",
      "\u001b[32m[1028 09:00:34 @monitor.py:361]\u001b[0m loss/value: 0.041088\n",
      "\u001b[32m[1028 09:00:34 @monitor.py:361]\u001b[0m macro_auc: 0.93074\n",
      "\u001b[32m[1028 09:00:34 @monitor.py:361]\u001b[0m macro_f1: 0.4388\n",
      "\u001b[32m[1028 09:00:34 @monitor.py:361]\u001b[0m mean_average_precision: 0.66376\n",
      "\u001b[32m[1028 09:00:34 @monitor.py:361]\u001b[0m micro_auc: 0.93246\n",
      "\u001b[32m[1028 09:00:34 @monitor.py:361]\u001b[0m micro_f1: 0.55913\n",
      "\u001b[32m[1028 09:00:34 @monitor.py:361]\u001b[0m one_error: 0.3112\n",
      "\u001b[32m[1028 09:00:34 @monitor.py:361]\u001b[0m ranking_loss: 0.067227\n",
      "\u001b[32m[1028 09:00:34 @monitor.py:361]\u001b[0m ranking_mean_average_precision: 0.7283\n",
      "\u001b[32m[1028 09:00:34 @monitor.py:361]\u001b[0m training_auc: 0.87491\n",
      "\u001b[32m[1028 09:00:34 @group.py:42]\u001b[0m Callbacks took 10.399 sec in total. DataParallelInferenceRunner: 10.163sec\n",
      "\u001b[32m[1028 09:00:34 @base.py:257]\u001b[0m Start Epoch 11 ...\n"
     ]
    },
    {
     "name": "stderr",
     "output_type": "stream",
     "text": [
      "100%|##########|56/56[01:55<00:00, 0.49it/s]"
     ]
    },
    {
     "name": "stdout",
     "output_type": "stream",
     "text": [
      "\u001b[32m[1028 09:02:29 @base.py:267]\u001b[0m Epoch 11 (global_step 616) finished, time:115.34 sec.\n"
     ]
    },
    {
     "name": "stderr",
     "output_type": "stream",
     "text": [
      "\n",
      "100%|##########|12/12[00:10<00:00, 1.17it/s]\n"
     ]
    },
    {
     "name": "stdout",
     "output_type": "stream",
     "text": [
      "\u001b[32m[1028 09:02:40 @saver.py:89]\u001b[0m Model saved to train_log/transfer/all_stages-g2-hidden/model-616.\n",
      "\u001b[32m[1028 09:02:40 @monitor.py:361]\u001b[0m DataParallelInferenceRunner/QueueInput/queue_size_1: 49.609\n",
      "\u001b[32m[1028 09:02:40 @monitor.py:361]\u001b[0m QueueInput/queue_size_1: 49.495\n",
      "\u001b[32m[1028 09:02:40 @monitor.py:361]\u001b[0m coverage: 4.7435\n",
      "\u001b[32m[1028 09:02:40 @monitor.py:361]\u001b[0m learning_rate: 0.0001\n",
      "\u001b[32m[1028 09:02:40 @monitor.py:361]\u001b[0m loss/value: 0.038777\n",
      "\u001b[32m[1028 09:02:40 @monitor.py:361]\u001b[0m macro_auc: 0.93266\n",
      "\u001b[32m[1028 09:02:40 @monitor.py:361]\u001b[0m macro_f1: 0.43904\n",
      "\u001b[32m[1028 09:02:40 @monitor.py:361]\u001b[0m mean_average_precision: 0.65929\n",
      "\u001b[32m[1028 09:02:40 @monitor.py:361]\u001b[0m micro_auc: 0.93495\n",
      "\u001b[32m[1028 09:02:40 @monitor.py:361]\u001b[0m micro_f1: 0.56711\n",
      "\u001b[32m[1028 09:02:40 @monitor.py:361]\u001b[0m one_error: 0.3112\n",
      "\u001b[32m[1028 09:02:40 @monitor.py:361]\u001b[0m ranking_loss: 0.066376\n",
      "\u001b[32m[1028 09:02:40 @monitor.py:361]\u001b[0m ranking_mean_average_precision: 0.72423\n",
      "\u001b[32m[1028 09:02:40 @monitor.py:361]\u001b[0m training_auc: 0.88331\n",
      "\u001b[32m[1028 09:02:40 @group.py:42]\u001b[0m Callbacks took 10.492 sec in total. DataParallelInferenceRunner: 10.215sec\n",
      "\u001b[32m[1028 09:02:40 @base.py:257]\u001b[0m Start Epoch 12 ...\n"
     ]
    },
    {
     "name": "stderr",
     "output_type": "stream",
     "text": [
      "100%|##########|56/56[01:55<00:00, 0.49it/s]"
     ]
    },
    {
     "name": "stdout",
     "output_type": "stream",
     "text": [
      "\u001b[32m[1028 09:04:36 @base.py:267]\u001b[0m Epoch 12 (global_step 672) finished, time:115.59 sec.\n"
     ]
    },
    {
     "name": "stderr",
     "output_type": "stream",
     "text": [
      "\n",
      "100%|##########|12/12[00:10<00:00, 1.18it/s]\n"
     ]
    },
    {
     "name": "stdout",
     "output_type": "stream",
     "text": [
      "\u001b[32m[1028 09:04:46 @saver.py:89]\u001b[0m Model saved to train_log/transfer/all_stages-g2-hidden/model-672.\n",
      "\u001b[32m[1028 09:04:47 @saver.py:158]\u001b[0m Model with maximum 'micro_auc' saved.\n",
      "\u001b[32m[1028 09:04:47 @monitor.py:361]\u001b[0m DataParallelInferenceRunner/QueueInput/queue_size_1: 49.6\n",
      "\u001b[32m[1028 09:04:47 @monitor.py:361]\u001b[0m QueueInput/queue_size_1: 49.517\n",
      "\u001b[32m[1028 09:04:47 @monitor.py:361]\u001b[0m coverage: 4.4883\n",
      "\u001b[32m[1028 09:04:47 @monitor.py:361]\u001b[0m learning_rate: 0.0001\n",
      "\u001b[32m[1028 09:04:47 @monitor.py:361]\u001b[0m loss/value: 0.037796\n",
      "\u001b[32m[1028 09:04:47 @monitor.py:361]\u001b[0m macro_auc: 0.93739\n",
      "\u001b[32m[1028 09:04:47 @monitor.py:361]\u001b[0m macro_f1: 0.48261\n",
      "\u001b[32m[1028 09:04:47 @monitor.py:361]\u001b[0m mean_average_precision: 0.68097\n",
      "\u001b[32m[1028 09:04:47 @monitor.py:361]\u001b[0m micro_auc: 0.94093\n",
      "\u001b[32m[1028 09:04:47 @monitor.py:361]\u001b[0m micro_f1: 0.59953\n",
      "\u001b[32m[1028 09:04:47 @monitor.py:361]\u001b[0m one_error: 0.28255\n",
      "\u001b[32m[1028 09:04:47 @monitor.py:361]\u001b[0m ranking_loss: 0.06016\n",
      "\u001b[32m[1028 09:04:47 @monitor.py:361]\u001b[0m ranking_mean_average_precision: 0.75136\n",
      "\u001b[32m[1028 09:04:47 @monitor.py:361]\u001b[0m training_auc: 0.89043\n",
      "\u001b[32m[1028 09:04:47 @group.py:42]\u001b[0m Callbacks took 11.057 sec in total. DataParallelInferenceRunner: 10.217sec\n",
      "\u001b[32m[1028 09:04:47 @base.py:257]\u001b[0m Start Epoch 13 ...\n"
     ]
    },
    {
     "name": "stderr",
     "output_type": "stream",
     "text": [
      "100%|##########|56/56[01:55<00:00, 0.48it/s]"
     ]
    },
    {
     "name": "stdout",
     "output_type": "stream",
     "text": [
      "\u001b[32m[1028 09:06:42 @base.py:267]\u001b[0m Epoch 13 (global_step 728) finished, time:115.73 sec.\n"
     ]
    },
    {
     "name": "stderr",
     "output_type": "stream",
     "text": [
      "\n",
      "100%|##########|12/12[00:10<00:00, 1.17it/s]\n"
     ]
    },
    {
     "name": "stdout",
     "output_type": "stream",
     "text": [
      "\u001b[32m[1028 09:06:53 @saver.py:89]\u001b[0m Model saved to train_log/transfer/all_stages-g2-hidden/model-728.\n",
      "\u001b[32m[1028 09:06:53 @saver.py:158]\u001b[0m Model with maximum 'micro_auc' saved.\n",
      "\u001b[32m[1028 09:06:53 @monitor.py:361]\u001b[0m DataParallelInferenceRunner/QueueInput/queue_size_1: 49.637\n",
      "\u001b[32m[1028 09:06:53 @monitor.py:361]\u001b[0m QueueInput/queue_size_1: 49.549\n",
      "\u001b[32m[1028 09:06:53 @monitor.py:361]\u001b[0m coverage: 4.362\n",
      "\u001b[32m[1028 09:06:53 @monitor.py:361]\u001b[0m learning_rate: 0.0001\n",
      "\u001b[32m[1028 09:06:53 @monitor.py:361]\u001b[0m loss/value: 0.037948\n",
      "\u001b[32m[1028 09:06:53 @monitor.py:361]\u001b[0m macro_auc: 0.93571\n",
      "\u001b[32m[1028 09:06:53 @monitor.py:361]\u001b[0m macro_f1: 0.45828\n",
      "\u001b[32m[1028 09:06:53 @monitor.py:361]\u001b[0m mean_average_precision: 0.67306\n",
      "\u001b[32m[1028 09:06:53 @monitor.py:361]\u001b[0m micro_auc: 0.94113\n",
      "\u001b[32m[1028 09:06:53 @monitor.py:361]\u001b[0m micro_f1: 0.58347\n",
      "\u001b[32m[1028 09:06:53 @monitor.py:361]\u001b[0m one_error: 0.29687\n",
      "\u001b[32m[1028 09:06:53 @monitor.py:361]\u001b[0m ranking_loss: 0.056547\n",
      "\u001b[32m[1028 09:06:53 @monitor.py:361]\u001b[0m ranking_mean_average_precision: 0.75456\n",
      "\u001b[32m[1028 09:06:53 @monitor.py:361]\u001b[0m training_auc: 0.89664\n",
      "\u001b[32m[1028 09:06:53 @group.py:42]\u001b[0m Callbacks took 11.029 sec in total. DataParallelInferenceRunner: 10.345sec\n",
      "\u001b[32m[1028 09:06:53 @base.py:257]\u001b[0m Start Epoch 14 ...\n"
     ]
    },
    {
     "name": "stderr",
     "output_type": "stream",
     "text": [
      "100%|##########|56/56[01:55<00:00, 0.49it/s]"
     ]
    },
    {
     "name": "stdout",
     "output_type": "stream",
     "text": [
      "\u001b[32m[1028 09:08:49 @base.py:267]\u001b[0m Epoch 14 (global_step 784) finished, time:115.82 sec.\n"
     ]
    },
    {
     "name": "stderr",
     "output_type": "stream",
     "text": [
      "\n",
      "100%|##########|12/12[00:10<00:00, 1.19it/s]\n"
     ]
    },
    {
     "name": "stdout",
     "output_type": "stream",
     "text": [
      "\u001b[32m[1028 09:09:00 @saver.py:89]\u001b[0m Model saved to train_log/transfer/all_stages-g2-hidden/model-784.\n",
      "\u001b[32m[1028 09:09:00 @monitor.py:361]\u001b[0m DataParallelInferenceRunner/QueueInput/queue_size_1: 49.622\n",
      "\u001b[32m[1028 09:09:00 @monitor.py:361]\u001b[0m QueueInput/queue_size_1: 49.409\n",
      "\u001b[32m[1028 09:09:00 @monitor.py:361]\u001b[0m coverage: 4.4232\n",
      "\u001b[32m[1028 09:09:00 @monitor.py:361]\u001b[0m learning_rate: 0.0001\n",
      "\u001b[32m[1028 09:09:00 @monitor.py:361]\u001b[0m loss/value: 0.035768\n",
      "\u001b[32m[1028 09:09:00 @monitor.py:361]\u001b[0m macro_auc: 0.93334\n",
      "\u001b[32m[1028 09:09:00 @monitor.py:361]\u001b[0m macro_f1: 0.47931\n",
      "\u001b[32m[1028 09:09:00 @monitor.py:361]\u001b[0m mean_average_precision: 0.66586\n",
      "\u001b[32m[1028 09:09:00 @monitor.py:361]\u001b[0m micro_auc: 0.93959\n",
      "\u001b[32m[1028 09:09:00 @monitor.py:361]\u001b[0m micro_f1: 0.594\n",
      "\u001b[32m[1028 09:09:00 @monitor.py:361]\u001b[0m one_error: 0.28906\n",
      "\u001b[32m[1028 09:09:00 @monitor.py:361]\u001b[0m ranking_loss: 0.059961\n",
      "\u001b[32m[1028 09:09:00 @monitor.py:361]\u001b[0m ranking_mean_average_precision: 0.75068\n",
      "\u001b[32m[1028 09:09:00 @monitor.py:361]\u001b[0m training_auc: 0.9023\n",
      "\u001b[32m[1028 09:09:00 @group.py:42]\u001b[0m Callbacks took 10.439 sec in total. DataParallelInferenceRunner: 10.167sec\n",
      "\u001b[32m[1028 09:09:00 @base.py:257]\u001b[0m Start Epoch 15 ...\n"
     ]
    },
    {
     "name": "stderr",
     "output_type": "stream",
     "text": [
      "100%|##########|56/56[01:55<00:00, 0.48it/s]"
     ]
    },
    {
     "name": "stdout",
     "output_type": "stream",
     "text": [
      "\u001b[32m[1028 09:10:55 @base.py:267]\u001b[0m Epoch 15 (global_step 840) finished, time:115.44 sec.\n",
      "\u001b[32m[1028 09:10:55 @param.py:144]\u001b[0m After epoch 15, learning_rate will change to 0.00001000\n"
     ]
    },
    {
     "name": "stderr",
     "output_type": "stream",
     "text": [
      "\n",
      "100%|##########|12/12[00:10<00:00, 1.16it/s]\n"
     ]
    },
    {
     "name": "stdout",
     "output_type": "stream",
     "text": [
      "\u001b[32m[1028 09:11:06 @saver.py:89]\u001b[0m Model saved to train_log/transfer/all_stages-g2-hidden/model-840.\n",
      "\u001b[32m[1028 09:11:06 @monitor.py:361]\u001b[0m DataParallelInferenceRunner/QueueInput/queue_size_1: 49.566\n",
      "\u001b[32m[1028 09:11:06 @monitor.py:361]\u001b[0m QueueInput/queue_size_1: 49.472\n",
      "\u001b[32m[1028 09:11:06 @monitor.py:361]\u001b[0m coverage: 4.7292\n",
      "\u001b[32m[1028 09:11:06 @monitor.py:361]\u001b[0m learning_rate: 0.0001\n",
      "\u001b[32m[1028 09:11:06 @monitor.py:361]\u001b[0m loss/value: 0.034509\n",
      "\u001b[32m[1028 09:11:06 @monitor.py:361]\u001b[0m macro_auc: 0.93297\n",
      "\u001b[32m[1028 09:11:06 @monitor.py:361]\u001b[0m macro_f1: 0.41944\n",
      "\u001b[32m[1028 09:11:06 @monitor.py:361]\u001b[0m mean_average_precision: 0.6717\n",
      "\u001b[32m[1028 09:11:06 @monitor.py:361]\u001b[0m micro_auc: 0.93314\n",
      "\u001b[32m[1028 09:11:06 @monitor.py:361]\u001b[0m micro_f1: 0.56888\n",
      "\u001b[32m[1028 09:11:06 @monitor.py:361]\u001b[0m one_error: 0.30339\n",
      "\u001b[32m[1028 09:11:06 @monitor.py:361]\u001b[0m ranking_loss: 0.065808\n",
      "\u001b[32m[1028 09:11:06 @monitor.py:361]\u001b[0m ranking_mean_average_precision: 0.73822\n",
      "\u001b[32m[1028 09:11:06 @monitor.py:361]\u001b[0m training_auc: 0.90735\n",
      "\u001b[32m[1028 09:11:06 @group.py:42]\u001b[0m Callbacks took 10.475 sec in total. DataParallelInferenceRunner: 10.232sec\n",
      "\u001b[32m[1028 09:11:06 @base.py:257]\u001b[0m Start Epoch 16 ...\n"
     ]
    },
    {
     "name": "stderr",
     "output_type": "stream",
     "text": [
      "100%|##########|56/56[01:55<00:00, 0.49it/s]"
     ]
    },
    {
     "name": "stdout",
     "output_type": "stream",
     "text": [
      "\u001b[32m[1028 09:13:01 @base.py:267]\u001b[0m Epoch 16 (global_step 896) finished, time:115.73 sec.\n"
     ]
    },
    {
     "name": "stderr",
     "output_type": "stream",
     "text": [
      "\n",
      "100%|##########|12/12[00:10<00:00, 1.17it/s]"
     ]
    },
    {
     "name": "stdout",
     "output_type": "stream",
     "text": [
      "\u001b[32m[1028 09:13:12 @saver.py:89]\u001b[0m Model saved to train_log/transfer/all_stages-g2-hidden/model-896.\n"
     ]
    },
    {
     "name": "stderr",
     "output_type": "stream",
     "text": [
      "\n"
     ]
    },
    {
     "name": "stdout",
     "output_type": "stream",
     "text": [
      "\u001b[32m[1028 09:13:12 @saver.py:158]\u001b[0m Model with maximum 'micro_auc' saved.\n",
      "\u001b[32m[1028 09:13:12 @monitor.py:361]\u001b[0m DataParallelInferenceRunner/QueueInput/queue_size_1: 49.567\n",
      "\u001b[32m[1028 09:13:12 @monitor.py:361]\u001b[0m QueueInput/queue_size_1: 49.511\n",
      "\u001b[32m[1028 09:13:12 @monitor.py:361]\u001b[0m coverage: 4.2604\n",
      "\u001b[32m[1028 09:13:12 @monitor.py:361]\u001b[0m learning_rate: 1e-05\n",
      "\u001b[32m[1028 09:13:12 @monitor.py:361]\u001b[0m loss/value: 0.033639\n",
      "\u001b[32m[1028 09:13:12 @monitor.py:361]\u001b[0m macro_auc: 0.93925\n",
      "\u001b[32m[1028 09:13:12 @monitor.py:361]\u001b[0m macro_f1: 0.50026\n",
      "\u001b[32m[1028 09:13:12 @monitor.py:361]\u001b[0m mean_average_precision: 0.69325\n",
      "\u001b[32m[1028 09:13:12 @monitor.py:361]\u001b[0m micro_auc: 0.94488\n",
      "\u001b[32m[1028 09:13:12 @monitor.py:361]\u001b[0m micro_f1: 0.6175\n",
      "\u001b[32m[1028 09:13:12 @monitor.py:361]\u001b[0m one_error: 0.27344\n",
      "\u001b[32m[1028 09:13:12 @monitor.py:361]\u001b[0m ranking_loss: 0.055234\n",
      "\u001b[32m[1028 09:13:12 @monitor.py:361]\u001b[0m ranking_mean_average_precision: 0.7629\n",
      "\u001b[32m[1028 09:13:12 @monitor.py:361]\u001b[0m training_auc: 0.91188\n",
      "\u001b[32m[1028 09:13:12 @group.py:42]\u001b[0m Callbacks took 10.847 sec in total. DataParallelInferenceRunner: 10.224sec\n",
      "\u001b[32m[1028 09:13:12 @base.py:257]\u001b[0m Start Epoch 17 ...\n"
     ]
    },
    {
     "name": "stderr",
     "output_type": "stream",
     "text": [
      "100%|##########|56/56[01:55<00:00, 0.48it/s]"
     ]
    },
    {
     "name": "stdout",
     "output_type": "stream",
     "text": [
      "\u001b[32m[1028 09:15:08 @base.py:267]\u001b[0m Epoch 17 (global_step 952) finished, time:115.41 sec.\n"
     ]
    },
    {
     "name": "stderr",
     "output_type": "stream",
     "text": [
      "\n",
      "100%|##########|12/12[00:10<00:00, 1.16it/s]\n"
     ]
    },
    {
     "name": "stdout",
     "output_type": "stream",
     "text": [
      "\u001b[32m[1028 09:15:18 @saver.py:89]\u001b[0m Model saved to train_log/transfer/all_stages-g2-hidden/model-952.\n",
      "\u001b[32m[1028 09:15:19 @saver.py:158]\u001b[0m Model with maximum 'micro_auc' saved.\n",
      "\u001b[32m[1028 09:15:19 @monitor.py:361]\u001b[0m DataParallelInferenceRunner/QueueInput/queue_size_1: 49.621\n",
      "\u001b[32m[1028 09:15:19 @monitor.py:361]\u001b[0m QueueInput/queue_size_1: 49.543\n",
      "\u001b[32m[1028 09:15:19 @monitor.py:361]\u001b[0m coverage: 4.0964\n",
      "\u001b[32m[1028 09:15:19 @monitor.py:361]\u001b[0m learning_rate: 1e-05\n",
      "\u001b[32m[1028 09:15:19 @monitor.py:361]\u001b[0m loss/value: 0.031678\n",
      "\u001b[32m[1028 09:15:19 @monitor.py:361]\u001b[0m macro_auc: 0.93925\n",
      "\u001b[32m[1028 09:15:19 @monitor.py:361]\u001b[0m macro_f1: 0.50735\n",
      "\u001b[32m[1028 09:15:19 @monitor.py:361]\u001b[0m mean_average_precision: 0.68431\n",
      "\u001b[32m[1028 09:15:19 @monitor.py:361]\u001b[0m micro_auc: 0.94828\n",
      "\u001b[32m[1028 09:15:19 @monitor.py:361]\u001b[0m micro_f1: 0.6275\n",
      "\u001b[32m[1028 09:15:19 @monitor.py:361]\u001b[0m one_error: 0.25391\n",
      "\u001b[32m[1028 09:15:19 @monitor.py:361]\u001b[0m ranking_loss: 0.05182\n",
      "\u001b[32m[1028 09:15:19 @monitor.py:361]\u001b[0m ranking_mean_average_precision: 0.77557\n",
      "\u001b[32m[1028 09:15:19 @monitor.py:361]\u001b[0m training_auc: 0.91614\n",
      "\u001b[32m[1028 09:15:19 @group.py:42]\u001b[0m Callbacks took 11.219 sec in total. DataParallelInferenceRunner: 10.358sec\n",
      "\u001b[32m[1028 09:15:19 @base.py:257]\u001b[0m Start Epoch 18 ...\n"
     ]
    },
    {
     "name": "stderr",
     "output_type": "stream",
     "text": [
      "100%|##########|56/56[01:55<00:00, 0.48it/s]"
     ]
    },
    {
     "name": "stdout",
     "output_type": "stream",
     "text": [
      "\u001b[32m[1028 09:17:14 @base.py:267]\u001b[0m Epoch 18 (global_step 1008) finished, time:115.63 sec.\n"
     ]
    },
    {
     "name": "stderr",
     "output_type": "stream",
     "text": [
      "\n",
      "100%|##########|12/12[00:10<00:00, 1.17it/s]\n"
     ]
    },
    {
     "name": "stdout",
     "output_type": "stream",
     "text": [
      "\u001b[32m[1028 09:17:25 @saver.py:89]\u001b[0m Model saved to train_log/transfer/all_stages-g2-hidden/model-1008.\n",
      "\u001b[32m[1028 09:17:26 @saver.py:158]\u001b[0m Model with maximum 'micro_auc' saved.\n",
      "\u001b[32m[1028 09:17:26 @monitor.py:361]\u001b[0m DataParallelInferenceRunner/QueueInput/queue_size_1: 49.651\n",
      "\u001b[32m[1028 09:17:26 @monitor.py:361]\u001b[0m QueueInput/queue_size_1: 49.545\n",
      "\u001b[32m[1028 09:17:26 @monitor.py:361]\u001b[0m coverage: 4.0781\n",
      "\u001b[32m[1028 09:17:26 @monitor.py:361]\u001b[0m learning_rate: 1e-05\n",
      "\u001b[32m[1028 09:17:26 @monitor.py:361]\u001b[0m loss/value: 0.030864\n",
      "\u001b[32m[1028 09:17:26 @monitor.py:361]\u001b[0m macro_auc: 0.941\n",
      "\u001b[32m[1028 09:17:26 @monitor.py:361]\u001b[0m macro_f1: 0.52442\n",
      "\u001b[32m[1028 09:17:26 @monitor.py:361]\u001b[0m mean_average_precision: 0.69688\n",
      "\u001b[32m[1028 09:17:26 @monitor.py:361]\u001b[0m micro_auc: 0.95098\n",
      "\u001b[32m[1028 09:17:26 @monitor.py:361]\u001b[0m micro_f1: 0.63134\n",
      "\u001b[32m[1028 09:17:26 @monitor.py:361]\u001b[0m one_error: 0.26562\n",
      "\u001b[32m[1028 09:17:26 @monitor.py:361]\u001b[0m ranking_loss: 0.051957\n",
      "\u001b[32m[1028 09:17:26 @monitor.py:361]\u001b[0m ranking_mean_average_precision: 0.77009\n",
      "\u001b[32m[1028 09:17:26 @monitor.py:361]\u001b[0m training_auc: 0.91986\n",
      "\u001b[32m[1028 09:17:26 @group.py:42]\u001b[0m Callbacks took 11.125 sec in total. DataParallelInferenceRunner: 10.270sec\n",
      "\u001b[32m[1028 09:17:26 @base.py:257]\u001b[0m Start Epoch 19 ...\n"
     ]
    },
    {
     "name": "stderr",
     "output_type": "stream",
     "text": [
      "100%|##########|56/56[01:56<00:00, 0.49it/s]"
     ]
    },
    {
     "name": "stdout",
     "output_type": "stream",
     "text": [
      "\u001b[32m[1028 09:19:22 @base.py:267]\u001b[0m Epoch 19 (global_step 1064) finished, time:116.15 sec.\n"
     ]
    },
    {
     "name": "stderr",
     "output_type": "stream",
     "text": [
      "\n",
      "100%|##########|12/12[00:10<00:00, 1.18it/s]\n"
     ]
    },
    {
     "name": "stdout",
     "output_type": "stream",
     "text": [
      "\u001b[32m[1028 09:19:32 @saver.py:89]\u001b[0m Model saved to train_log/transfer/all_stages-g2-hidden/model-1064.\n",
      "\u001b[32m[1028 09:19:32 @monitor.py:361]\u001b[0m DataParallelInferenceRunner/QueueInput/queue_size_1: 49.67\n",
      "\u001b[32m[1028 09:19:32 @monitor.py:361]\u001b[0m QueueInput/queue_size_1: 49.414\n",
      "\u001b[32m[1028 09:19:32 @monitor.py:361]\u001b[0m coverage: 4.099\n",
      "\u001b[32m[1028 09:19:32 @monitor.py:361]\u001b[0m learning_rate: 1e-05\n",
      "\u001b[32m[1028 09:19:32 @monitor.py:361]\u001b[0m loss/value: 0.031291\n",
      "\u001b[32m[1028 09:19:32 @monitor.py:361]\u001b[0m macro_auc: 0.93818\n",
      "\u001b[32m[1028 09:19:32 @monitor.py:361]\u001b[0m macro_f1: 0.51269\n",
      "\u001b[32m[1028 09:19:32 @monitor.py:361]\u001b[0m mean_average_precision: 0.68781\n",
      "\u001b[32m[1028 09:19:32 @monitor.py:361]\u001b[0m micro_auc: 0.94971\n",
      "\u001b[32m[1028 09:19:32 @monitor.py:361]\u001b[0m micro_f1: 0.62736\n",
      "\u001b[32m[1028 09:19:32 @monitor.py:361]\u001b[0m one_error: 0.27214\n",
      "\u001b[32m[1028 09:19:32 @monitor.py:361]\u001b[0m ranking_loss: 0.051732\n",
      "\u001b[32m[1028 09:19:32 @monitor.py:361]\u001b[0m ranking_mean_average_precision: 0.77136\n",
      "\u001b[32m[1028 09:19:32 @monitor.py:361]\u001b[0m training_auc: 0.92314\n",
      "\u001b[32m[1028 09:19:32 @group.py:42]\u001b[0m Callbacks took 10.493 sec in total. DataParallelInferenceRunner: 10.214sec\n",
      "\u001b[32m[1028 09:19:32 @base.py:257]\u001b[0m Start Epoch 20 ...\n"
     ]
    },
    {
     "name": "stderr",
     "output_type": "stream",
     "text": [
      "100%|##########|56/56[01:55<00:00, 0.48it/s]"
     ]
    },
    {
     "name": "stdout",
     "output_type": "stream",
     "text": [
      "\u001b[32m[1028 09:21:28 @base.py:267]\u001b[0m Epoch 20 (global_step 1120) finished, time:115.58 sec.\n"
     ]
    },
    {
     "name": "stderr",
     "output_type": "stream",
     "text": [
      "\n",
      "100%|##########|12/12[00:10<00:00, 1.18it/s]\n"
     ]
    },
    {
     "name": "stdout",
     "output_type": "stream",
     "text": [
      "\u001b[32m[1028 09:21:38 @saver.py:89]\u001b[0m Model saved to train_log/transfer/all_stages-g2-hidden/model-1120.\n",
      "\u001b[32m[1028 09:21:39 @saver.py:158]\u001b[0m Model with maximum 'micro_auc' saved.\n",
      "\u001b[32m[1028 09:21:39 @monitor.py:361]\u001b[0m DataParallelInferenceRunner/QueueInput/queue_size_1: 49.563\n",
      "\u001b[32m[1028 09:21:39 @monitor.py:361]\u001b[0m QueueInput/queue_size_1: 49.515\n",
      "\u001b[32m[1028 09:21:39 @monitor.py:361]\u001b[0m coverage: 3.9727\n",
      "\u001b[32m[1028 09:21:39 @monitor.py:361]\u001b[0m learning_rate: 1e-05\n",
      "\u001b[32m[1028 09:21:39 @monitor.py:361]\u001b[0m loss/value: 0.031483\n",
      "\u001b[32m[1028 09:21:39 @monitor.py:361]\u001b[0m macro_auc: 0.94005\n",
      "\u001b[32m[1028 09:21:39 @monitor.py:361]\u001b[0m macro_f1: 0.52725\n",
      "\u001b[32m[1028 09:21:39 @monitor.py:361]\u001b[0m mean_average_precision: 0.68972\n",
      "\u001b[32m[1028 09:21:39 @monitor.py:361]\u001b[0m micro_auc: 0.95259\n",
      "\u001b[32m[1028 09:21:39 @monitor.py:361]\u001b[0m micro_f1: 0.63018\n",
      "\u001b[32m[1028 09:21:39 @monitor.py:361]\u001b[0m one_error: 0.26302\n",
      "\u001b[32m[1028 09:21:39 @monitor.py:361]\u001b[0m ranking_loss: 0.048341\n",
      "\u001b[32m[1028 09:21:39 @monitor.py:361]\u001b[0m ranking_mean_average_precision: 0.77406\n",
      "\u001b[32m[1028 09:21:39 @monitor.py:361]\u001b[0m training_auc: 0.92607\n",
      "\u001b[32m[1028 09:21:39 @group.py:42]\u001b[0m Callbacks took 11.037 sec in total. DataParallelInferenceRunner: 10.262sec\n",
      "\u001b[32m[1028 09:21:39 @base.py:271]\u001b[0m Training has finished!\n",
      "\u001b[32m[1028 09:21:39 @input_source.py:146]\u001b[0m EnqueueThread DataParallelInferenceRunner/QueueInput/input_queue Exited.\n",
      "\u001b[32m[1028 09:21:39 @input_source.py:146]\u001b[0m EnqueueThread QueueInput/input_queue Exited.\n"
     ]
    }
   ],
   "source": [
    "tf.reset_default_graph()\n",
    "train_config = TrainConfig(model=model, dataflow=train_data,\n",
    "                           callbacks=[\n",
    "                               ScheduledHyperParamSetter('learning_rate', [(0, 1e-4), (15, 1e-5)]),\n",
    "                               InfRunner(val_data, [AggregateMetric(config.validation_metrics, threshold)],\n",
    "                                         [0, 1]),\n",
    "                               ModelSaver(var_collections='model_variables'),\n",
    "                               MaxSaver('micro_auc', save_name),\n",
    "                           ],\n",
    "                           session_init=SaverRestore(\n",
    "                               model_path=resnet_loc, ignore=ignore_restore),\n",
    "                           max_epoch=20, nr_tower=2)\n",
    "Trainer(train_config).train()"
   ]
  },
  {
   "cell_type": "code",
   "execution_count": 15,
   "metadata": {},
   "outputs": [
    {
     "data": {
      "text/plain": [
       "[<tf.Variable 'EMA/QueueInput/queue_size:0' shape=() dtype=float32_ref>,\n",
       " <tf.Variable 'EMA/QueueInput/queue_size/biased:0' shape=() dtype=float32_ref>,\n",
       " <tf.Variable 'EMA/QueueInput/queue_size/local_step:0' shape=() dtype=float32_ref>,\n",
       " <tf.Variable 'resnet_v2_101/conv1/weights:0' shape=(7, 7, 3, 64) dtype=float32_ref>,\n",
       " <tf.Variable 'resnet_v2_101/conv1/biases:0' shape=(64,) dtype=float32_ref>,\n",
       " <tf.Variable 'resnet_v2_101/block1/unit_1/bottleneck_v2/preact/beta:0' shape=(64,) dtype=float32_ref>,\n",
       " <tf.Variable 'resnet_v2_101/block1/unit_1/bottleneck_v2/preact/gamma:0' shape=(64,) dtype=float32_ref>,\n",
       " <tf.Variable 'resnet_v2_101/block1/unit_1/bottleneck_v2/preact/moving_mean:0' shape=(64,) dtype=float32_ref>,\n",
       " <tf.Variable 'resnet_v2_101/block1/unit_1/bottleneck_v2/preact/moving_variance:0' shape=(64,) dtype=float32_ref>,\n",
       " <tf.Variable 'resnet_v2_101/block1/unit_1/bottleneck_v2/shortcut/weights:0' shape=(1, 1, 64, 256) dtype=float32_ref>,\n",
       " <tf.Variable 'resnet_v2_101/block1/unit_1/bottleneck_v2/shortcut/biases:0' shape=(256,) dtype=float32_ref>,\n",
       " <tf.Variable 'resnet_v2_101/block1/unit_1/bottleneck_v2/conv1/weights:0' shape=(1, 1, 64, 64) dtype=float32_ref>,\n",
       " <tf.Variable 'resnet_v2_101/block1/unit_1/bottleneck_v2/conv1/BatchNorm/beta:0' shape=(64,) dtype=float32_ref>,\n",
       " <tf.Variable 'resnet_v2_101/block1/unit_1/bottleneck_v2/conv1/BatchNorm/gamma:0' shape=(64,) dtype=float32_ref>,\n",
       " <tf.Variable 'resnet_v2_101/block1/unit_1/bottleneck_v2/conv1/BatchNorm/moving_mean:0' shape=(64,) dtype=float32_ref>,\n",
       " <tf.Variable 'resnet_v2_101/block1/unit_1/bottleneck_v2/conv1/BatchNorm/moving_variance:0' shape=(64,) dtype=float32_ref>,\n",
       " <tf.Variable 'resnet_v2_101/block1/unit_1/bottleneck_v2/conv2/weights:0' shape=(3, 3, 64, 64) dtype=float32_ref>,\n",
       " <tf.Variable 'resnet_v2_101/block1/unit_1/bottleneck_v2/conv2/BatchNorm/beta:0' shape=(64,) dtype=float32_ref>,\n",
       " <tf.Variable 'resnet_v2_101/block1/unit_1/bottleneck_v2/conv2/BatchNorm/gamma:0' shape=(64,) dtype=float32_ref>,\n",
       " <tf.Variable 'resnet_v2_101/block1/unit_1/bottleneck_v2/conv2/BatchNorm/moving_mean:0' shape=(64,) dtype=float32_ref>,\n",
       " <tf.Variable 'resnet_v2_101/block1/unit_1/bottleneck_v2/conv2/BatchNorm/moving_variance:0' shape=(64,) dtype=float32_ref>,\n",
       " <tf.Variable 'resnet_v2_101/block1/unit_1/bottleneck_v2/conv3/weights:0' shape=(1, 1, 64, 256) dtype=float32_ref>,\n",
       " <tf.Variable 'resnet_v2_101/block1/unit_1/bottleneck_v2/conv3/biases:0' shape=(256,) dtype=float32_ref>,\n",
       " <tf.Variable 'resnet_v2_101/block1/unit_2/bottleneck_v2/preact/beta:0' shape=(256,) dtype=float32_ref>,\n",
       " <tf.Variable 'resnet_v2_101/block1/unit_2/bottleneck_v2/preact/gamma:0' shape=(256,) dtype=float32_ref>,\n",
       " <tf.Variable 'resnet_v2_101/block1/unit_2/bottleneck_v2/preact/moving_mean:0' shape=(256,) dtype=float32_ref>,\n",
       " <tf.Variable 'resnet_v2_101/block1/unit_2/bottleneck_v2/preact/moving_variance:0' shape=(256,) dtype=float32_ref>,\n",
       " <tf.Variable 'resnet_v2_101/block1/unit_2/bottleneck_v2/conv1/weights:0' shape=(1, 1, 256, 64) dtype=float32_ref>,\n",
       " <tf.Variable 'resnet_v2_101/block1/unit_2/bottleneck_v2/conv1/BatchNorm/beta:0' shape=(64,) dtype=float32_ref>,\n",
       " <tf.Variable 'resnet_v2_101/block1/unit_2/bottleneck_v2/conv1/BatchNorm/gamma:0' shape=(64,) dtype=float32_ref>,\n",
       " <tf.Variable 'resnet_v2_101/block1/unit_2/bottleneck_v2/conv1/BatchNorm/moving_mean:0' shape=(64,) dtype=float32_ref>,\n",
       " <tf.Variable 'resnet_v2_101/block1/unit_2/bottleneck_v2/conv1/BatchNorm/moving_variance:0' shape=(64,) dtype=float32_ref>,\n",
       " <tf.Variable 'resnet_v2_101/block1/unit_2/bottleneck_v2/conv2/weights:0' shape=(3, 3, 64, 64) dtype=float32_ref>,\n",
       " <tf.Variable 'resnet_v2_101/block1/unit_2/bottleneck_v2/conv2/BatchNorm/beta:0' shape=(64,) dtype=float32_ref>,\n",
       " <tf.Variable 'resnet_v2_101/block1/unit_2/bottleneck_v2/conv2/BatchNorm/gamma:0' shape=(64,) dtype=float32_ref>,\n",
       " <tf.Variable 'resnet_v2_101/block1/unit_2/bottleneck_v2/conv2/BatchNorm/moving_mean:0' shape=(64,) dtype=float32_ref>,\n",
       " <tf.Variable 'resnet_v2_101/block1/unit_2/bottleneck_v2/conv2/BatchNorm/moving_variance:0' shape=(64,) dtype=float32_ref>,\n",
       " <tf.Variable 'resnet_v2_101/block1/unit_2/bottleneck_v2/conv3/weights:0' shape=(1, 1, 64, 256) dtype=float32_ref>,\n",
       " <tf.Variable 'resnet_v2_101/block1/unit_2/bottleneck_v2/conv3/biases:0' shape=(256,) dtype=float32_ref>,\n",
       " <tf.Variable 'resnet_v2_101/block1/unit_3/bottleneck_v2/preact/beta:0' shape=(256,) dtype=float32_ref>,\n",
       " <tf.Variable 'resnet_v2_101/block1/unit_3/bottleneck_v2/preact/gamma:0' shape=(256,) dtype=float32_ref>,\n",
       " <tf.Variable 'resnet_v2_101/block1/unit_3/bottleneck_v2/preact/moving_mean:0' shape=(256,) dtype=float32_ref>,\n",
       " <tf.Variable 'resnet_v2_101/block1/unit_3/bottleneck_v2/preact/moving_variance:0' shape=(256,) dtype=float32_ref>,\n",
       " <tf.Variable 'resnet_v2_101/block1/unit_3/bottleneck_v2/conv1/weights:0' shape=(1, 1, 256, 64) dtype=float32_ref>,\n",
       " <tf.Variable 'resnet_v2_101/block1/unit_3/bottleneck_v2/conv1/BatchNorm/beta:0' shape=(64,) dtype=float32_ref>,\n",
       " <tf.Variable 'resnet_v2_101/block1/unit_3/bottleneck_v2/conv1/BatchNorm/gamma:0' shape=(64,) dtype=float32_ref>,\n",
       " <tf.Variable 'resnet_v2_101/block1/unit_3/bottleneck_v2/conv1/BatchNorm/moving_mean:0' shape=(64,) dtype=float32_ref>,\n",
       " <tf.Variable 'resnet_v2_101/block1/unit_3/bottleneck_v2/conv1/BatchNorm/moving_variance:0' shape=(64,) dtype=float32_ref>,\n",
       " <tf.Variable 'resnet_v2_101/block1/unit_3/bottleneck_v2/conv2/weights:0' shape=(3, 3, 64, 64) dtype=float32_ref>,\n",
       " <tf.Variable 'resnet_v2_101/block1/unit_3/bottleneck_v2/conv2/BatchNorm/beta:0' shape=(64,) dtype=float32_ref>,\n",
       " <tf.Variable 'resnet_v2_101/block1/unit_3/bottleneck_v2/conv2/BatchNorm/gamma:0' shape=(64,) dtype=float32_ref>,\n",
       " <tf.Variable 'resnet_v2_101/block1/unit_3/bottleneck_v2/conv2/BatchNorm/moving_mean:0' shape=(64,) dtype=float32_ref>,\n",
       " <tf.Variable 'resnet_v2_101/block1/unit_3/bottleneck_v2/conv2/BatchNorm/moving_variance:0' shape=(64,) dtype=float32_ref>,\n",
       " <tf.Variable 'resnet_v2_101/block1/unit_3/bottleneck_v2/conv3/weights:0' shape=(1, 1, 64, 256) dtype=float32_ref>,\n",
       " <tf.Variable 'resnet_v2_101/block1/unit_3/bottleneck_v2/conv3/biases:0' shape=(256,) dtype=float32_ref>,\n",
       " <tf.Variable 'resnet_v2_101/block2/unit_1/bottleneck_v2/preact/beta:0' shape=(256,) dtype=float32_ref>,\n",
       " <tf.Variable 'resnet_v2_101/block2/unit_1/bottleneck_v2/preact/gamma:0' shape=(256,) dtype=float32_ref>,\n",
       " <tf.Variable 'resnet_v2_101/block2/unit_1/bottleneck_v2/preact/moving_mean:0' shape=(256,) dtype=float32_ref>,\n",
       " <tf.Variable 'resnet_v2_101/block2/unit_1/bottleneck_v2/preact/moving_variance:0' shape=(256,) dtype=float32_ref>,\n",
       " <tf.Variable 'resnet_v2_101/block2/unit_1/bottleneck_v2/shortcut/weights:0' shape=(1, 1, 256, 512) dtype=float32_ref>,\n",
       " <tf.Variable 'resnet_v2_101/block2/unit_1/bottleneck_v2/shortcut/biases:0' shape=(512,) dtype=float32_ref>,\n",
       " <tf.Variable 'resnet_v2_101/block2/unit_1/bottleneck_v2/conv1/weights:0' shape=(1, 1, 256, 128) dtype=float32_ref>,\n",
       " <tf.Variable 'resnet_v2_101/block2/unit_1/bottleneck_v2/conv1/BatchNorm/beta:0' shape=(128,) dtype=float32_ref>,\n",
       " <tf.Variable 'resnet_v2_101/block2/unit_1/bottleneck_v2/conv1/BatchNorm/gamma:0' shape=(128,) dtype=float32_ref>,\n",
       " <tf.Variable 'resnet_v2_101/block2/unit_1/bottleneck_v2/conv1/BatchNorm/moving_mean:0' shape=(128,) dtype=float32_ref>,\n",
       " <tf.Variable 'resnet_v2_101/block2/unit_1/bottleneck_v2/conv1/BatchNorm/moving_variance:0' shape=(128,) dtype=float32_ref>,\n",
       " <tf.Variable 'resnet_v2_101/block2/unit_1/bottleneck_v2/conv2/weights:0' shape=(3, 3, 128, 128) dtype=float32_ref>,\n",
       " <tf.Variable 'resnet_v2_101/block2/unit_1/bottleneck_v2/conv2/BatchNorm/beta:0' shape=(128,) dtype=float32_ref>,\n",
       " <tf.Variable 'resnet_v2_101/block2/unit_1/bottleneck_v2/conv2/BatchNorm/gamma:0' shape=(128,) dtype=float32_ref>,\n",
       " <tf.Variable 'resnet_v2_101/block2/unit_1/bottleneck_v2/conv2/BatchNorm/moving_mean:0' shape=(128,) dtype=float32_ref>,\n",
       " <tf.Variable 'resnet_v2_101/block2/unit_1/bottleneck_v2/conv2/BatchNorm/moving_variance:0' shape=(128,) dtype=float32_ref>,\n",
       " <tf.Variable 'resnet_v2_101/block2/unit_1/bottleneck_v2/conv3/weights:0' shape=(1, 1, 128, 512) dtype=float32_ref>,\n",
       " <tf.Variable 'resnet_v2_101/block2/unit_1/bottleneck_v2/conv3/biases:0' shape=(512,) dtype=float32_ref>,\n",
       " <tf.Variable 'resnet_v2_101/block2/unit_2/bottleneck_v2/preact/beta:0' shape=(512,) dtype=float32_ref>,\n",
       " <tf.Variable 'resnet_v2_101/block2/unit_2/bottleneck_v2/preact/gamma:0' shape=(512,) dtype=float32_ref>,\n",
       " <tf.Variable 'resnet_v2_101/block2/unit_2/bottleneck_v2/preact/moving_mean:0' shape=(512,) dtype=float32_ref>,\n",
       " <tf.Variable 'resnet_v2_101/block2/unit_2/bottleneck_v2/preact/moving_variance:0' shape=(512,) dtype=float32_ref>,\n",
       " <tf.Variable 'resnet_v2_101/block2/unit_2/bottleneck_v2/conv1/weights:0' shape=(1, 1, 512, 128) dtype=float32_ref>,\n",
       " <tf.Variable 'resnet_v2_101/block2/unit_2/bottleneck_v2/conv1/BatchNorm/beta:0' shape=(128,) dtype=float32_ref>,\n",
       " <tf.Variable 'resnet_v2_101/block2/unit_2/bottleneck_v2/conv1/BatchNorm/gamma:0' shape=(128,) dtype=float32_ref>,\n",
       " <tf.Variable 'resnet_v2_101/block2/unit_2/bottleneck_v2/conv1/BatchNorm/moving_mean:0' shape=(128,) dtype=float32_ref>,\n",
       " <tf.Variable 'resnet_v2_101/block2/unit_2/bottleneck_v2/conv1/BatchNorm/moving_variance:0' shape=(128,) dtype=float32_ref>,\n",
       " <tf.Variable 'resnet_v2_101/block2/unit_2/bottleneck_v2/conv2/weights:0' shape=(3, 3, 128, 128) dtype=float32_ref>,\n",
       " <tf.Variable 'resnet_v2_101/block2/unit_2/bottleneck_v2/conv2/BatchNorm/beta:0' shape=(128,) dtype=float32_ref>,\n",
       " <tf.Variable 'resnet_v2_101/block2/unit_2/bottleneck_v2/conv2/BatchNorm/gamma:0' shape=(128,) dtype=float32_ref>,\n",
       " <tf.Variable 'resnet_v2_101/block2/unit_2/bottleneck_v2/conv2/BatchNorm/moving_mean:0' shape=(128,) dtype=float32_ref>,\n",
       " <tf.Variable 'resnet_v2_101/block2/unit_2/bottleneck_v2/conv2/BatchNorm/moving_variance:0' shape=(128,) dtype=float32_ref>,\n",
       " <tf.Variable 'resnet_v2_101/block2/unit_2/bottleneck_v2/conv3/weights:0' shape=(1, 1, 128, 512) dtype=float32_ref>,\n",
       " <tf.Variable 'resnet_v2_101/block2/unit_2/bottleneck_v2/conv3/biases:0' shape=(512,) dtype=float32_ref>,\n",
       " <tf.Variable 'resnet_v2_101/block2/unit_3/bottleneck_v2/preact/beta:0' shape=(512,) dtype=float32_ref>,\n",
       " <tf.Variable 'resnet_v2_101/block2/unit_3/bottleneck_v2/preact/gamma:0' shape=(512,) dtype=float32_ref>,\n",
       " <tf.Variable 'resnet_v2_101/block2/unit_3/bottleneck_v2/preact/moving_mean:0' shape=(512,) dtype=float32_ref>,\n",
       " <tf.Variable 'resnet_v2_101/block2/unit_3/bottleneck_v2/preact/moving_variance:0' shape=(512,) dtype=float32_ref>,\n",
       " <tf.Variable 'resnet_v2_101/block2/unit_3/bottleneck_v2/conv1/weights:0' shape=(1, 1, 512, 128) dtype=float32_ref>,\n",
       " <tf.Variable 'resnet_v2_101/block2/unit_3/bottleneck_v2/conv1/BatchNorm/beta:0' shape=(128,) dtype=float32_ref>,\n",
       " <tf.Variable 'resnet_v2_101/block2/unit_3/bottleneck_v2/conv1/BatchNorm/gamma:0' shape=(128,) dtype=float32_ref>,\n",
       " <tf.Variable 'resnet_v2_101/block2/unit_3/bottleneck_v2/conv1/BatchNorm/moving_mean:0' shape=(128,) dtype=float32_ref>,\n",
       " <tf.Variable 'resnet_v2_101/block2/unit_3/bottleneck_v2/conv1/BatchNorm/moving_variance:0' shape=(128,) dtype=float32_ref>,\n",
       " <tf.Variable 'resnet_v2_101/block2/unit_3/bottleneck_v2/conv2/weights:0' shape=(3, 3, 128, 128) dtype=float32_ref>,\n",
       " <tf.Variable 'resnet_v2_101/block2/unit_3/bottleneck_v2/conv2/BatchNorm/beta:0' shape=(128,) dtype=float32_ref>,\n",
       " <tf.Variable 'resnet_v2_101/block2/unit_3/bottleneck_v2/conv2/BatchNorm/gamma:0' shape=(128,) dtype=float32_ref>,\n",
       " <tf.Variable 'resnet_v2_101/block2/unit_3/bottleneck_v2/conv2/BatchNorm/moving_mean:0' shape=(128,) dtype=float32_ref>,\n",
       " <tf.Variable 'resnet_v2_101/block2/unit_3/bottleneck_v2/conv2/BatchNorm/moving_variance:0' shape=(128,) dtype=float32_ref>,\n",
       " <tf.Variable 'resnet_v2_101/block2/unit_3/bottleneck_v2/conv3/weights:0' shape=(1, 1, 128, 512) dtype=float32_ref>,\n",
       " <tf.Variable 'resnet_v2_101/block2/unit_3/bottleneck_v2/conv3/biases:0' shape=(512,) dtype=float32_ref>,\n",
       " <tf.Variable 'resnet_v2_101/block2/unit_4/bottleneck_v2/preact/beta:0' shape=(512,) dtype=float32_ref>,\n",
       " <tf.Variable 'resnet_v2_101/block2/unit_4/bottleneck_v2/preact/gamma:0' shape=(512,) dtype=float32_ref>,\n",
       " <tf.Variable 'resnet_v2_101/block2/unit_4/bottleneck_v2/preact/moving_mean:0' shape=(512,) dtype=float32_ref>,\n",
       " <tf.Variable 'resnet_v2_101/block2/unit_4/bottleneck_v2/preact/moving_variance:0' shape=(512,) dtype=float32_ref>,\n",
       " <tf.Variable 'resnet_v2_101/block2/unit_4/bottleneck_v2/conv1/weights:0' shape=(1, 1, 512, 128) dtype=float32_ref>,\n",
       " <tf.Variable 'resnet_v2_101/block2/unit_4/bottleneck_v2/conv1/BatchNorm/beta:0' shape=(128,) dtype=float32_ref>,\n",
       " <tf.Variable 'resnet_v2_101/block2/unit_4/bottleneck_v2/conv1/BatchNorm/gamma:0' shape=(128,) dtype=float32_ref>,\n",
       " <tf.Variable 'resnet_v2_101/block2/unit_4/bottleneck_v2/conv1/BatchNorm/moving_mean:0' shape=(128,) dtype=float32_ref>,\n",
       " <tf.Variable 'resnet_v2_101/block2/unit_4/bottleneck_v2/conv1/BatchNorm/moving_variance:0' shape=(128,) dtype=float32_ref>,\n",
       " <tf.Variable 'resnet_v2_101/block2/unit_4/bottleneck_v2/conv2/weights:0' shape=(3, 3, 128, 128) dtype=float32_ref>,\n",
       " <tf.Variable 'resnet_v2_101/block2/unit_4/bottleneck_v2/conv2/BatchNorm/beta:0' shape=(128,) dtype=float32_ref>,\n",
       " <tf.Variable 'resnet_v2_101/block2/unit_4/bottleneck_v2/conv2/BatchNorm/gamma:0' shape=(128,) dtype=float32_ref>,\n",
       " <tf.Variable 'resnet_v2_101/block2/unit_4/bottleneck_v2/conv2/BatchNorm/moving_mean:0' shape=(128,) dtype=float32_ref>,\n",
       " <tf.Variable 'resnet_v2_101/block2/unit_4/bottleneck_v2/conv2/BatchNorm/moving_variance:0' shape=(128,) dtype=float32_ref>,\n",
       " <tf.Variable 'resnet_v2_101/block2/unit_4/bottleneck_v2/conv3/weights:0' shape=(1, 1, 128, 512) dtype=float32_ref>,\n",
       " <tf.Variable 'resnet_v2_101/block2/unit_4/bottleneck_v2/conv3/biases:0' shape=(512,) dtype=float32_ref>,\n",
       " <tf.Variable 'resnet_v2_101/block3/unit_1/bottleneck_v2/preact/beta:0' shape=(512,) dtype=float32_ref>,\n",
       " <tf.Variable 'resnet_v2_101/block3/unit_1/bottleneck_v2/preact/gamma:0' shape=(512,) dtype=float32_ref>,\n",
       " <tf.Variable 'resnet_v2_101/block3/unit_1/bottleneck_v2/preact/moving_mean:0' shape=(512,) dtype=float32_ref>,\n",
       " <tf.Variable 'resnet_v2_101/block3/unit_1/bottleneck_v2/preact/moving_variance:0' shape=(512,) dtype=float32_ref>,\n",
       " <tf.Variable 'resnet_v2_101/block3/unit_1/bottleneck_v2/shortcut/weights:0' shape=(1, 1, 512, 1024) dtype=float32_ref>,\n",
       " <tf.Variable 'resnet_v2_101/block3/unit_1/bottleneck_v2/shortcut/biases:0' shape=(1024,) dtype=float32_ref>,\n",
       " <tf.Variable 'resnet_v2_101/block3/unit_1/bottleneck_v2/conv1/weights:0' shape=(1, 1, 512, 256) dtype=float32_ref>,\n",
       " <tf.Variable 'resnet_v2_101/block3/unit_1/bottleneck_v2/conv1/BatchNorm/beta:0' shape=(256,) dtype=float32_ref>,\n",
       " <tf.Variable 'resnet_v2_101/block3/unit_1/bottleneck_v2/conv1/BatchNorm/gamma:0' shape=(256,) dtype=float32_ref>,\n",
       " <tf.Variable 'resnet_v2_101/block3/unit_1/bottleneck_v2/conv1/BatchNorm/moving_mean:0' shape=(256,) dtype=float32_ref>,\n",
       " <tf.Variable 'resnet_v2_101/block3/unit_1/bottleneck_v2/conv1/BatchNorm/moving_variance:0' shape=(256,) dtype=float32_ref>,\n",
       " <tf.Variable 'resnet_v2_101/block3/unit_1/bottleneck_v2/conv2/weights:0' shape=(3, 3, 256, 256) dtype=float32_ref>,\n",
       " <tf.Variable 'resnet_v2_101/block3/unit_1/bottleneck_v2/conv2/BatchNorm/beta:0' shape=(256,) dtype=float32_ref>,\n",
       " <tf.Variable 'resnet_v2_101/block3/unit_1/bottleneck_v2/conv2/BatchNorm/gamma:0' shape=(256,) dtype=float32_ref>,\n",
       " <tf.Variable 'resnet_v2_101/block3/unit_1/bottleneck_v2/conv2/BatchNorm/moving_mean:0' shape=(256,) dtype=float32_ref>,\n",
       " <tf.Variable 'resnet_v2_101/block3/unit_1/bottleneck_v2/conv2/BatchNorm/moving_variance:0' shape=(256,) dtype=float32_ref>,\n",
       " <tf.Variable 'resnet_v2_101/block3/unit_1/bottleneck_v2/conv3/weights:0' shape=(1, 1, 256, 1024) dtype=float32_ref>,\n",
       " <tf.Variable 'resnet_v2_101/block3/unit_1/bottleneck_v2/conv3/biases:0' shape=(1024,) dtype=float32_ref>,\n",
       " <tf.Variable 'resnet_v2_101/block3/unit_2/bottleneck_v2/preact/beta:0' shape=(1024,) dtype=float32_ref>,\n",
       " <tf.Variable 'resnet_v2_101/block3/unit_2/bottleneck_v2/preact/gamma:0' shape=(1024,) dtype=float32_ref>,\n",
       " <tf.Variable 'resnet_v2_101/block3/unit_2/bottleneck_v2/preact/moving_mean:0' shape=(1024,) dtype=float32_ref>,\n",
       " <tf.Variable 'resnet_v2_101/block3/unit_2/bottleneck_v2/preact/moving_variance:0' shape=(1024,) dtype=float32_ref>,\n",
       " <tf.Variable 'resnet_v2_101/block3/unit_2/bottleneck_v2/conv1/weights:0' shape=(1, 1, 1024, 256) dtype=float32_ref>,\n",
       " <tf.Variable 'resnet_v2_101/block3/unit_2/bottleneck_v2/conv1/BatchNorm/beta:0' shape=(256,) dtype=float32_ref>,\n",
       " <tf.Variable 'resnet_v2_101/block3/unit_2/bottleneck_v2/conv1/BatchNorm/gamma:0' shape=(256,) dtype=float32_ref>,\n",
       " <tf.Variable 'resnet_v2_101/block3/unit_2/bottleneck_v2/conv1/BatchNorm/moving_mean:0' shape=(256,) dtype=float32_ref>,\n",
       " <tf.Variable 'resnet_v2_101/block3/unit_2/bottleneck_v2/conv1/BatchNorm/moving_variance:0' shape=(256,) dtype=float32_ref>,\n",
       " <tf.Variable 'resnet_v2_101/block3/unit_2/bottleneck_v2/conv2/weights:0' shape=(3, 3, 256, 256) dtype=float32_ref>,\n",
       " <tf.Variable 'resnet_v2_101/block3/unit_2/bottleneck_v2/conv2/BatchNorm/beta:0' shape=(256,) dtype=float32_ref>,\n",
       " <tf.Variable 'resnet_v2_101/block3/unit_2/bottleneck_v2/conv2/BatchNorm/gamma:0' shape=(256,) dtype=float32_ref>,\n",
       " <tf.Variable 'resnet_v2_101/block3/unit_2/bottleneck_v2/conv2/BatchNorm/moving_mean:0' shape=(256,) dtype=float32_ref>,\n",
       " <tf.Variable 'resnet_v2_101/block3/unit_2/bottleneck_v2/conv2/BatchNorm/moving_variance:0' shape=(256,) dtype=float32_ref>,\n",
       " <tf.Variable 'resnet_v2_101/block3/unit_2/bottleneck_v2/conv3/weights:0' shape=(1, 1, 256, 1024) dtype=float32_ref>,\n",
       " <tf.Variable 'resnet_v2_101/block3/unit_2/bottleneck_v2/conv3/biases:0' shape=(1024,) dtype=float32_ref>,\n",
       " <tf.Variable 'resnet_v2_101/block3/unit_3/bottleneck_v2/preact/beta:0' shape=(1024,) dtype=float32_ref>,\n",
       " <tf.Variable 'resnet_v2_101/block3/unit_3/bottleneck_v2/preact/gamma:0' shape=(1024,) dtype=float32_ref>,\n",
       " <tf.Variable 'resnet_v2_101/block3/unit_3/bottleneck_v2/preact/moving_mean:0' shape=(1024,) dtype=float32_ref>,\n",
       " <tf.Variable 'resnet_v2_101/block3/unit_3/bottleneck_v2/preact/moving_variance:0' shape=(1024,) dtype=float32_ref>,\n",
       " <tf.Variable 'resnet_v2_101/block3/unit_3/bottleneck_v2/conv1/weights:0' shape=(1, 1, 1024, 256) dtype=float32_ref>,\n",
       " <tf.Variable 'resnet_v2_101/block3/unit_3/bottleneck_v2/conv1/BatchNorm/beta:0' shape=(256,) dtype=float32_ref>,\n",
       " <tf.Variable 'resnet_v2_101/block3/unit_3/bottleneck_v2/conv1/BatchNorm/gamma:0' shape=(256,) dtype=float32_ref>,\n",
       " <tf.Variable 'resnet_v2_101/block3/unit_3/bottleneck_v2/conv1/BatchNorm/moving_mean:0' shape=(256,) dtype=float32_ref>,\n",
       " <tf.Variable 'resnet_v2_101/block3/unit_3/bottleneck_v2/conv1/BatchNorm/moving_variance:0' shape=(256,) dtype=float32_ref>,\n",
       " <tf.Variable 'resnet_v2_101/block3/unit_3/bottleneck_v2/conv2/weights:0' shape=(3, 3, 256, 256) dtype=float32_ref>,\n",
       " <tf.Variable 'resnet_v2_101/block3/unit_3/bottleneck_v2/conv2/BatchNorm/beta:0' shape=(256,) dtype=float32_ref>,\n",
       " <tf.Variable 'resnet_v2_101/block3/unit_3/bottleneck_v2/conv2/BatchNorm/gamma:0' shape=(256,) dtype=float32_ref>,\n",
       " <tf.Variable 'resnet_v2_101/block3/unit_3/bottleneck_v2/conv2/BatchNorm/moving_mean:0' shape=(256,) dtype=float32_ref>,\n",
       " <tf.Variable 'resnet_v2_101/block3/unit_3/bottleneck_v2/conv2/BatchNorm/moving_variance:0' shape=(256,) dtype=float32_ref>,\n",
       " <tf.Variable 'resnet_v2_101/block3/unit_3/bottleneck_v2/conv3/weights:0' shape=(1, 1, 256, 1024) dtype=float32_ref>,\n",
       " <tf.Variable 'resnet_v2_101/block3/unit_3/bottleneck_v2/conv3/biases:0' shape=(1024,) dtype=float32_ref>,\n",
       " <tf.Variable 'resnet_v2_101/block3/unit_4/bottleneck_v2/preact/beta:0' shape=(1024,) dtype=float32_ref>,\n",
       " <tf.Variable 'resnet_v2_101/block3/unit_4/bottleneck_v2/preact/gamma:0' shape=(1024,) dtype=float32_ref>,\n",
       " <tf.Variable 'resnet_v2_101/block3/unit_4/bottleneck_v2/preact/moving_mean:0' shape=(1024,) dtype=float32_ref>,\n",
       " <tf.Variable 'resnet_v2_101/block3/unit_4/bottleneck_v2/preact/moving_variance:0' shape=(1024,) dtype=float32_ref>,\n",
       " <tf.Variable 'resnet_v2_101/block3/unit_4/bottleneck_v2/conv1/weights:0' shape=(1, 1, 1024, 256) dtype=float32_ref>,\n",
       " <tf.Variable 'resnet_v2_101/block3/unit_4/bottleneck_v2/conv1/BatchNorm/beta:0' shape=(256,) dtype=float32_ref>,\n",
       " <tf.Variable 'resnet_v2_101/block3/unit_4/bottleneck_v2/conv1/BatchNorm/gamma:0' shape=(256,) dtype=float32_ref>,\n",
       " <tf.Variable 'resnet_v2_101/block3/unit_4/bottleneck_v2/conv1/BatchNorm/moving_mean:0' shape=(256,) dtype=float32_ref>,\n",
       " <tf.Variable 'resnet_v2_101/block3/unit_4/bottleneck_v2/conv1/BatchNorm/moving_variance:0' shape=(256,) dtype=float32_ref>,\n",
       " <tf.Variable 'resnet_v2_101/block3/unit_4/bottleneck_v2/conv2/weights:0' shape=(3, 3, 256, 256) dtype=float32_ref>,\n",
       " <tf.Variable 'resnet_v2_101/block3/unit_4/bottleneck_v2/conv2/BatchNorm/beta:0' shape=(256,) dtype=float32_ref>,\n",
       " <tf.Variable 'resnet_v2_101/block3/unit_4/bottleneck_v2/conv2/BatchNorm/gamma:0' shape=(256,) dtype=float32_ref>,\n",
       " <tf.Variable 'resnet_v2_101/block3/unit_4/bottleneck_v2/conv2/BatchNorm/moving_mean:0' shape=(256,) dtype=float32_ref>,\n",
       " <tf.Variable 'resnet_v2_101/block3/unit_4/bottleneck_v2/conv2/BatchNorm/moving_variance:0' shape=(256,) dtype=float32_ref>,\n",
       " <tf.Variable 'resnet_v2_101/block3/unit_4/bottleneck_v2/conv3/weights:0' shape=(1, 1, 256, 1024) dtype=float32_ref>,\n",
       " <tf.Variable 'resnet_v2_101/block3/unit_4/bottleneck_v2/conv3/biases:0' shape=(1024,) dtype=float32_ref>,\n",
       " <tf.Variable 'resnet_v2_101/block3/unit_5/bottleneck_v2/preact/beta:0' shape=(1024,) dtype=float32_ref>,\n",
       " <tf.Variable 'resnet_v2_101/block3/unit_5/bottleneck_v2/preact/gamma:0' shape=(1024,) dtype=float32_ref>,\n",
       " <tf.Variable 'resnet_v2_101/block3/unit_5/bottleneck_v2/preact/moving_mean:0' shape=(1024,) dtype=float32_ref>,\n",
       " <tf.Variable 'resnet_v2_101/block3/unit_5/bottleneck_v2/preact/moving_variance:0' shape=(1024,) dtype=float32_ref>,\n",
       " <tf.Variable 'resnet_v2_101/block3/unit_5/bottleneck_v2/conv1/weights:0' shape=(1, 1, 1024, 256) dtype=float32_ref>,\n",
       " <tf.Variable 'resnet_v2_101/block3/unit_5/bottleneck_v2/conv1/BatchNorm/beta:0' shape=(256,) dtype=float32_ref>,\n",
       " <tf.Variable 'resnet_v2_101/block3/unit_5/bottleneck_v2/conv1/BatchNorm/gamma:0' shape=(256,) dtype=float32_ref>,\n",
       " <tf.Variable 'resnet_v2_101/block3/unit_5/bottleneck_v2/conv1/BatchNorm/moving_mean:0' shape=(256,) dtype=float32_ref>,\n",
       " <tf.Variable 'resnet_v2_101/block3/unit_5/bottleneck_v2/conv1/BatchNorm/moving_variance:0' shape=(256,) dtype=float32_ref>,\n",
       " <tf.Variable 'resnet_v2_101/block3/unit_5/bottleneck_v2/conv2/weights:0' shape=(3, 3, 256, 256) dtype=float32_ref>,\n",
       " <tf.Variable 'resnet_v2_101/block3/unit_5/bottleneck_v2/conv2/BatchNorm/beta:0' shape=(256,) dtype=float32_ref>,\n",
       " <tf.Variable 'resnet_v2_101/block3/unit_5/bottleneck_v2/conv2/BatchNorm/gamma:0' shape=(256,) dtype=float32_ref>,\n",
       " <tf.Variable 'resnet_v2_101/block3/unit_5/bottleneck_v2/conv2/BatchNorm/moving_mean:0' shape=(256,) dtype=float32_ref>,\n",
       " <tf.Variable 'resnet_v2_101/block3/unit_5/bottleneck_v2/conv2/BatchNorm/moving_variance:0' shape=(256,) dtype=float32_ref>,\n",
       " <tf.Variable 'resnet_v2_101/block3/unit_5/bottleneck_v2/conv3/weights:0' shape=(1, 1, 256, 1024) dtype=float32_ref>,\n",
       " <tf.Variable 'resnet_v2_101/block3/unit_5/bottleneck_v2/conv3/biases:0' shape=(1024,) dtype=float32_ref>,\n",
       " <tf.Variable 'resnet_v2_101/block3/unit_6/bottleneck_v2/preact/beta:0' shape=(1024,) dtype=float32_ref>,\n",
       " <tf.Variable 'resnet_v2_101/block3/unit_6/bottleneck_v2/preact/gamma:0' shape=(1024,) dtype=float32_ref>,\n",
       " <tf.Variable 'resnet_v2_101/block3/unit_6/bottleneck_v2/preact/moving_mean:0' shape=(1024,) dtype=float32_ref>,\n",
       " <tf.Variable 'resnet_v2_101/block3/unit_6/bottleneck_v2/preact/moving_variance:0' shape=(1024,) dtype=float32_ref>,\n",
       " <tf.Variable 'resnet_v2_101/block3/unit_6/bottleneck_v2/conv1/weights:0' shape=(1, 1, 1024, 256) dtype=float32_ref>,\n",
       " <tf.Variable 'resnet_v2_101/block3/unit_6/bottleneck_v2/conv1/BatchNorm/beta:0' shape=(256,) dtype=float32_ref>,\n",
       " <tf.Variable 'resnet_v2_101/block3/unit_6/bottleneck_v2/conv1/BatchNorm/gamma:0' shape=(256,) dtype=float32_ref>,\n",
       " <tf.Variable 'resnet_v2_101/block3/unit_6/bottleneck_v2/conv1/BatchNorm/moving_mean:0' shape=(256,) dtype=float32_ref>,\n",
       " <tf.Variable 'resnet_v2_101/block3/unit_6/bottleneck_v2/conv1/BatchNorm/moving_variance:0' shape=(256,) dtype=float32_ref>,\n",
       " <tf.Variable 'resnet_v2_101/block3/unit_6/bottleneck_v2/conv2/weights:0' shape=(3, 3, 256, 256) dtype=float32_ref>,\n",
       " <tf.Variable 'resnet_v2_101/block3/unit_6/bottleneck_v2/conv2/BatchNorm/beta:0' shape=(256,) dtype=float32_ref>,\n",
       " <tf.Variable 'resnet_v2_101/block3/unit_6/bottleneck_v2/conv2/BatchNorm/gamma:0' shape=(256,) dtype=float32_ref>,\n",
       " <tf.Variable 'resnet_v2_101/block3/unit_6/bottleneck_v2/conv2/BatchNorm/moving_mean:0' shape=(256,) dtype=float32_ref>,\n",
       " <tf.Variable 'resnet_v2_101/block3/unit_6/bottleneck_v2/conv2/BatchNorm/moving_variance:0' shape=(256,) dtype=float32_ref>,\n",
       " <tf.Variable 'resnet_v2_101/block3/unit_6/bottleneck_v2/conv3/weights:0' shape=(1, 1, 256, 1024) dtype=float32_ref>,\n",
       " <tf.Variable 'resnet_v2_101/block3/unit_6/bottleneck_v2/conv3/biases:0' shape=(1024,) dtype=float32_ref>,\n",
       " <tf.Variable 'resnet_v2_101/block3/unit_7/bottleneck_v2/preact/beta:0' shape=(1024,) dtype=float32_ref>,\n",
       " <tf.Variable 'resnet_v2_101/block3/unit_7/bottleneck_v2/preact/gamma:0' shape=(1024,) dtype=float32_ref>,\n",
       " <tf.Variable 'resnet_v2_101/block3/unit_7/bottleneck_v2/preact/moving_mean:0' shape=(1024,) dtype=float32_ref>,\n",
       " <tf.Variable 'resnet_v2_101/block3/unit_7/bottleneck_v2/preact/moving_variance:0' shape=(1024,) dtype=float32_ref>,\n",
       " <tf.Variable 'resnet_v2_101/block3/unit_7/bottleneck_v2/conv1/weights:0' shape=(1, 1, 1024, 256) dtype=float32_ref>,\n",
       " <tf.Variable 'resnet_v2_101/block3/unit_7/bottleneck_v2/conv1/BatchNorm/beta:0' shape=(256,) dtype=float32_ref>,\n",
       " <tf.Variable 'resnet_v2_101/block3/unit_7/bottleneck_v2/conv1/BatchNorm/gamma:0' shape=(256,) dtype=float32_ref>,\n",
       " <tf.Variable 'resnet_v2_101/block3/unit_7/bottleneck_v2/conv1/BatchNorm/moving_mean:0' shape=(256,) dtype=float32_ref>,\n",
       " <tf.Variable 'resnet_v2_101/block3/unit_7/bottleneck_v2/conv1/BatchNorm/moving_variance:0' shape=(256,) dtype=float32_ref>,\n",
       " <tf.Variable 'resnet_v2_101/block3/unit_7/bottleneck_v2/conv2/weights:0' shape=(3, 3, 256, 256) dtype=float32_ref>,\n",
       " <tf.Variable 'resnet_v2_101/block3/unit_7/bottleneck_v2/conv2/BatchNorm/beta:0' shape=(256,) dtype=float32_ref>,\n",
       " <tf.Variable 'resnet_v2_101/block3/unit_7/bottleneck_v2/conv2/BatchNorm/gamma:0' shape=(256,) dtype=float32_ref>,\n",
       " <tf.Variable 'resnet_v2_101/block3/unit_7/bottleneck_v2/conv2/BatchNorm/moving_mean:0' shape=(256,) dtype=float32_ref>,\n",
       " <tf.Variable 'resnet_v2_101/block3/unit_7/bottleneck_v2/conv2/BatchNorm/moving_variance:0' shape=(256,) dtype=float32_ref>,\n",
       " <tf.Variable 'resnet_v2_101/block3/unit_7/bottleneck_v2/conv3/weights:0' shape=(1, 1, 256, 1024) dtype=float32_ref>,\n",
       " <tf.Variable 'resnet_v2_101/block3/unit_7/bottleneck_v2/conv3/biases:0' shape=(1024,) dtype=float32_ref>,\n",
       " <tf.Variable 'resnet_v2_101/block3/unit_8/bottleneck_v2/preact/beta:0' shape=(1024,) dtype=float32_ref>,\n",
       " <tf.Variable 'resnet_v2_101/block3/unit_8/bottleneck_v2/preact/gamma:0' shape=(1024,) dtype=float32_ref>,\n",
       " <tf.Variable 'resnet_v2_101/block3/unit_8/bottleneck_v2/preact/moving_mean:0' shape=(1024,) dtype=float32_ref>,\n",
       " <tf.Variable 'resnet_v2_101/block3/unit_8/bottleneck_v2/preact/moving_variance:0' shape=(1024,) dtype=float32_ref>,\n",
       " <tf.Variable 'resnet_v2_101/block3/unit_8/bottleneck_v2/conv1/weights:0' shape=(1, 1, 1024, 256) dtype=float32_ref>,\n",
       " <tf.Variable 'resnet_v2_101/block3/unit_8/bottleneck_v2/conv1/BatchNorm/beta:0' shape=(256,) dtype=float32_ref>,\n",
       " <tf.Variable 'resnet_v2_101/block3/unit_8/bottleneck_v2/conv1/BatchNorm/gamma:0' shape=(256,) dtype=float32_ref>,\n",
       " <tf.Variable 'resnet_v2_101/block3/unit_8/bottleneck_v2/conv1/BatchNorm/moving_mean:0' shape=(256,) dtype=float32_ref>,\n",
       " <tf.Variable 'resnet_v2_101/block3/unit_8/bottleneck_v2/conv1/BatchNorm/moving_variance:0' shape=(256,) dtype=float32_ref>,\n",
       " <tf.Variable 'resnet_v2_101/block3/unit_8/bottleneck_v2/conv2/weights:0' shape=(3, 3, 256, 256) dtype=float32_ref>,\n",
       " <tf.Variable 'resnet_v2_101/block3/unit_8/bottleneck_v2/conv2/BatchNorm/beta:0' shape=(256,) dtype=float32_ref>,\n",
       " <tf.Variable 'resnet_v2_101/block3/unit_8/bottleneck_v2/conv2/BatchNorm/gamma:0' shape=(256,) dtype=float32_ref>,\n",
       " <tf.Variable 'resnet_v2_101/block3/unit_8/bottleneck_v2/conv2/BatchNorm/moving_mean:0' shape=(256,) dtype=float32_ref>,\n",
       " <tf.Variable 'resnet_v2_101/block3/unit_8/bottleneck_v2/conv2/BatchNorm/moving_variance:0' shape=(256,) dtype=float32_ref>,\n",
       " <tf.Variable 'resnet_v2_101/block3/unit_8/bottleneck_v2/conv3/weights:0' shape=(1, 1, 256, 1024) dtype=float32_ref>,\n",
       " <tf.Variable 'resnet_v2_101/block3/unit_8/bottleneck_v2/conv3/biases:0' shape=(1024,) dtype=float32_ref>,\n",
       " <tf.Variable 'resnet_v2_101/block3/unit_9/bottleneck_v2/preact/beta:0' shape=(1024,) dtype=float32_ref>,\n",
       " <tf.Variable 'resnet_v2_101/block3/unit_9/bottleneck_v2/preact/gamma:0' shape=(1024,) dtype=float32_ref>,\n",
       " <tf.Variable 'resnet_v2_101/block3/unit_9/bottleneck_v2/preact/moving_mean:0' shape=(1024,) dtype=float32_ref>,\n",
       " <tf.Variable 'resnet_v2_101/block3/unit_9/bottleneck_v2/preact/moving_variance:0' shape=(1024,) dtype=float32_ref>,\n",
       " <tf.Variable 'resnet_v2_101/block3/unit_9/bottleneck_v2/conv1/weights:0' shape=(1, 1, 1024, 256) dtype=float32_ref>,\n",
       " <tf.Variable 'resnet_v2_101/block3/unit_9/bottleneck_v2/conv1/BatchNorm/beta:0' shape=(256,) dtype=float32_ref>,\n",
       " <tf.Variable 'resnet_v2_101/block3/unit_9/bottleneck_v2/conv1/BatchNorm/gamma:0' shape=(256,) dtype=float32_ref>,\n",
       " <tf.Variable 'resnet_v2_101/block3/unit_9/bottleneck_v2/conv1/BatchNorm/moving_mean:0' shape=(256,) dtype=float32_ref>,\n",
       " <tf.Variable 'resnet_v2_101/block3/unit_9/bottleneck_v2/conv1/BatchNorm/moving_variance:0' shape=(256,) dtype=float32_ref>,\n",
       " <tf.Variable 'resnet_v2_101/block3/unit_9/bottleneck_v2/conv2/weights:0' shape=(3, 3, 256, 256) dtype=float32_ref>,\n",
       " <tf.Variable 'resnet_v2_101/block3/unit_9/bottleneck_v2/conv2/BatchNorm/beta:0' shape=(256,) dtype=float32_ref>,\n",
       " <tf.Variable 'resnet_v2_101/block3/unit_9/bottleneck_v2/conv2/BatchNorm/gamma:0' shape=(256,) dtype=float32_ref>,\n",
       " <tf.Variable 'resnet_v2_101/block3/unit_9/bottleneck_v2/conv2/BatchNorm/moving_mean:0' shape=(256,) dtype=float32_ref>,\n",
       " <tf.Variable 'resnet_v2_101/block3/unit_9/bottleneck_v2/conv2/BatchNorm/moving_variance:0' shape=(256,) dtype=float32_ref>,\n",
       " <tf.Variable 'resnet_v2_101/block3/unit_9/bottleneck_v2/conv3/weights:0' shape=(1, 1, 256, 1024) dtype=float32_ref>,\n",
       " <tf.Variable 'resnet_v2_101/block3/unit_9/bottleneck_v2/conv3/biases:0' shape=(1024,) dtype=float32_ref>,\n",
       " <tf.Variable 'resnet_v2_101/block3/unit_10/bottleneck_v2/preact/beta:0' shape=(1024,) dtype=float32_ref>,\n",
       " <tf.Variable 'resnet_v2_101/block3/unit_10/bottleneck_v2/preact/gamma:0' shape=(1024,) dtype=float32_ref>,\n",
       " <tf.Variable 'resnet_v2_101/block3/unit_10/bottleneck_v2/preact/moving_mean:0' shape=(1024,) dtype=float32_ref>,\n",
       " <tf.Variable 'resnet_v2_101/block3/unit_10/bottleneck_v2/preact/moving_variance:0' shape=(1024,) dtype=float32_ref>,\n",
       " <tf.Variable 'resnet_v2_101/block3/unit_10/bottleneck_v2/conv1/weights:0' shape=(1, 1, 1024, 256) dtype=float32_ref>,\n",
       " <tf.Variable 'resnet_v2_101/block3/unit_10/bottleneck_v2/conv1/BatchNorm/beta:0' shape=(256,) dtype=float32_ref>,\n",
       " <tf.Variable 'resnet_v2_101/block3/unit_10/bottleneck_v2/conv1/BatchNorm/gamma:0' shape=(256,) dtype=float32_ref>,\n",
       " <tf.Variable 'resnet_v2_101/block3/unit_10/bottleneck_v2/conv1/BatchNorm/moving_mean:0' shape=(256,) dtype=float32_ref>,\n",
       " <tf.Variable 'resnet_v2_101/block3/unit_10/bottleneck_v2/conv1/BatchNorm/moving_variance:0' shape=(256,) dtype=float32_ref>,\n",
       " <tf.Variable 'resnet_v2_101/block3/unit_10/bottleneck_v2/conv2/weights:0' shape=(3, 3, 256, 256) dtype=float32_ref>,\n",
       " <tf.Variable 'resnet_v2_101/block3/unit_10/bottleneck_v2/conv2/BatchNorm/beta:0' shape=(256,) dtype=float32_ref>,\n",
       " <tf.Variable 'resnet_v2_101/block3/unit_10/bottleneck_v2/conv2/BatchNorm/gamma:0' shape=(256,) dtype=float32_ref>,\n",
       " <tf.Variable 'resnet_v2_101/block3/unit_10/bottleneck_v2/conv2/BatchNorm/moving_mean:0' shape=(256,) dtype=float32_ref>,\n",
       " <tf.Variable 'resnet_v2_101/block3/unit_10/bottleneck_v2/conv2/BatchNorm/moving_variance:0' shape=(256,) dtype=float32_ref>,\n",
       " <tf.Variable 'resnet_v2_101/block3/unit_10/bottleneck_v2/conv3/weights:0' shape=(1, 1, 256, 1024) dtype=float32_ref>,\n",
       " <tf.Variable 'resnet_v2_101/block3/unit_10/bottleneck_v2/conv3/biases:0' shape=(1024,) dtype=float32_ref>,\n",
       " <tf.Variable 'resnet_v2_101/block3/unit_11/bottleneck_v2/preact/beta:0' shape=(1024,) dtype=float32_ref>,\n",
       " <tf.Variable 'resnet_v2_101/block3/unit_11/bottleneck_v2/preact/gamma:0' shape=(1024,) dtype=float32_ref>,\n",
       " <tf.Variable 'resnet_v2_101/block3/unit_11/bottleneck_v2/preact/moving_mean:0' shape=(1024,) dtype=float32_ref>,\n",
       " <tf.Variable 'resnet_v2_101/block3/unit_11/bottleneck_v2/preact/moving_variance:0' shape=(1024,) dtype=float32_ref>,\n",
       " <tf.Variable 'resnet_v2_101/block3/unit_11/bottleneck_v2/conv1/weights:0' shape=(1, 1, 1024, 256) dtype=float32_ref>,\n",
       " <tf.Variable 'resnet_v2_101/block3/unit_11/bottleneck_v2/conv1/BatchNorm/beta:0' shape=(256,) dtype=float32_ref>,\n",
       " <tf.Variable 'resnet_v2_101/block3/unit_11/bottleneck_v2/conv1/BatchNorm/gamma:0' shape=(256,) dtype=float32_ref>,\n",
       " <tf.Variable 'resnet_v2_101/block3/unit_11/bottleneck_v2/conv1/BatchNorm/moving_mean:0' shape=(256,) dtype=float32_ref>,\n",
       " <tf.Variable 'resnet_v2_101/block3/unit_11/bottleneck_v2/conv1/BatchNorm/moving_variance:0' shape=(256,) dtype=float32_ref>,\n",
       " <tf.Variable 'resnet_v2_101/block3/unit_11/bottleneck_v2/conv2/weights:0' shape=(3, 3, 256, 256) dtype=float32_ref>,\n",
       " <tf.Variable 'resnet_v2_101/block3/unit_11/bottleneck_v2/conv2/BatchNorm/beta:0' shape=(256,) dtype=float32_ref>,\n",
       " <tf.Variable 'resnet_v2_101/block3/unit_11/bottleneck_v2/conv2/BatchNorm/gamma:0' shape=(256,) dtype=float32_ref>,\n",
       " <tf.Variable 'resnet_v2_101/block3/unit_11/bottleneck_v2/conv2/BatchNorm/moving_mean:0' shape=(256,) dtype=float32_ref>,\n",
       " <tf.Variable 'resnet_v2_101/block3/unit_11/bottleneck_v2/conv2/BatchNorm/moving_variance:0' shape=(256,) dtype=float32_ref>,\n",
       " <tf.Variable 'resnet_v2_101/block3/unit_11/bottleneck_v2/conv3/weights:0' shape=(1, 1, 256, 1024) dtype=float32_ref>,\n",
       " <tf.Variable 'resnet_v2_101/block3/unit_11/bottleneck_v2/conv3/biases:0' shape=(1024,) dtype=float32_ref>,\n",
       " <tf.Variable 'resnet_v2_101/block3/unit_12/bottleneck_v2/preact/beta:0' shape=(1024,) dtype=float32_ref>,\n",
       " <tf.Variable 'resnet_v2_101/block3/unit_12/bottleneck_v2/preact/gamma:0' shape=(1024,) dtype=float32_ref>,\n",
       " <tf.Variable 'resnet_v2_101/block3/unit_12/bottleneck_v2/preact/moving_mean:0' shape=(1024,) dtype=float32_ref>,\n",
       " <tf.Variable 'resnet_v2_101/block3/unit_12/bottleneck_v2/preact/moving_variance:0' shape=(1024,) dtype=float32_ref>,\n",
       " <tf.Variable 'resnet_v2_101/block3/unit_12/bottleneck_v2/conv1/weights:0' shape=(1, 1, 1024, 256) dtype=float32_ref>,\n",
       " <tf.Variable 'resnet_v2_101/block3/unit_12/bottleneck_v2/conv1/BatchNorm/beta:0' shape=(256,) dtype=float32_ref>,\n",
       " <tf.Variable 'resnet_v2_101/block3/unit_12/bottleneck_v2/conv1/BatchNorm/gamma:0' shape=(256,) dtype=float32_ref>,\n",
       " <tf.Variable 'resnet_v2_101/block3/unit_12/bottleneck_v2/conv1/BatchNorm/moving_mean:0' shape=(256,) dtype=float32_ref>,\n",
       " <tf.Variable 'resnet_v2_101/block3/unit_12/bottleneck_v2/conv1/BatchNorm/moving_variance:0' shape=(256,) dtype=float32_ref>,\n",
       " <tf.Variable 'resnet_v2_101/block3/unit_12/bottleneck_v2/conv2/weights:0' shape=(3, 3, 256, 256) dtype=float32_ref>,\n",
       " <tf.Variable 'resnet_v2_101/block3/unit_12/bottleneck_v2/conv2/BatchNorm/beta:0' shape=(256,) dtype=float32_ref>,\n",
       " <tf.Variable 'resnet_v2_101/block3/unit_12/bottleneck_v2/conv2/BatchNorm/gamma:0' shape=(256,) dtype=float32_ref>,\n",
       " <tf.Variable 'resnet_v2_101/block3/unit_12/bottleneck_v2/conv2/BatchNorm/moving_mean:0' shape=(256,) dtype=float32_ref>,\n",
       " <tf.Variable 'resnet_v2_101/block3/unit_12/bottleneck_v2/conv2/BatchNorm/moving_variance:0' shape=(256,) dtype=float32_ref>,\n",
       " <tf.Variable 'resnet_v2_101/block3/unit_12/bottleneck_v2/conv3/weights:0' shape=(1, 1, 256, 1024) dtype=float32_ref>,\n",
       " <tf.Variable 'resnet_v2_101/block3/unit_12/bottleneck_v2/conv3/biases:0' shape=(1024,) dtype=float32_ref>,\n",
       " <tf.Variable 'resnet_v2_101/block3/unit_13/bottleneck_v2/preact/beta:0' shape=(1024,) dtype=float32_ref>,\n",
       " <tf.Variable 'resnet_v2_101/block3/unit_13/bottleneck_v2/preact/gamma:0' shape=(1024,) dtype=float32_ref>,\n",
       " <tf.Variable 'resnet_v2_101/block3/unit_13/bottleneck_v2/preact/moving_mean:0' shape=(1024,) dtype=float32_ref>,\n",
       " <tf.Variable 'resnet_v2_101/block3/unit_13/bottleneck_v2/preact/moving_variance:0' shape=(1024,) dtype=float32_ref>,\n",
       " <tf.Variable 'resnet_v2_101/block3/unit_13/bottleneck_v2/conv1/weights:0' shape=(1, 1, 1024, 256) dtype=float32_ref>,\n",
       " <tf.Variable 'resnet_v2_101/block3/unit_13/bottleneck_v2/conv1/BatchNorm/beta:0' shape=(256,) dtype=float32_ref>,\n",
       " <tf.Variable 'resnet_v2_101/block3/unit_13/bottleneck_v2/conv1/BatchNorm/gamma:0' shape=(256,) dtype=float32_ref>,\n",
       " <tf.Variable 'resnet_v2_101/block3/unit_13/bottleneck_v2/conv1/BatchNorm/moving_mean:0' shape=(256,) dtype=float32_ref>,\n",
       " <tf.Variable 'resnet_v2_101/block3/unit_13/bottleneck_v2/conv1/BatchNorm/moving_variance:0' shape=(256,) dtype=float32_ref>,\n",
       " <tf.Variable 'resnet_v2_101/block3/unit_13/bottleneck_v2/conv2/weights:0' shape=(3, 3, 256, 256) dtype=float32_ref>,\n",
       " <tf.Variable 'resnet_v2_101/block3/unit_13/bottleneck_v2/conv2/BatchNorm/beta:0' shape=(256,) dtype=float32_ref>,\n",
       " <tf.Variable 'resnet_v2_101/block3/unit_13/bottleneck_v2/conv2/BatchNorm/gamma:0' shape=(256,) dtype=float32_ref>,\n",
       " <tf.Variable 'resnet_v2_101/block3/unit_13/bottleneck_v2/conv2/BatchNorm/moving_mean:0' shape=(256,) dtype=float32_ref>,\n",
       " <tf.Variable 'resnet_v2_101/block3/unit_13/bottleneck_v2/conv2/BatchNorm/moving_variance:0' shape=(256,) dtype=float32_ref>,\n",
       " <tf.Variable 'resnet_v2_101/block3/unit_13/bottleneck_v2/conv3/weights:0' shape=(1, 1, 256, 1024) dtype=float32_ref>,\n",
       " <tf.Variable 'resnet_v2_101/block3/unit_13/bottleneck_v2/conv3/biases:0' shape=(1024,) dtype=float32_ref>,\n",
       " <tf.Variable 'resnet_v2_101/block3/unit_14/bottleneck_v2/preact/beta:0' shape=(1024,) dtype=float32_ref>,\n",
       " <tf.Variable 'resnet_v2_101/block3/unit_14/bottleneck_v2/preact/gamma:0' shape=(1024,) dtype=float32_ref>,\n",
       " <tf.Variable 'resnet_v2_101/block3/unit_14/bottleneck_v2/preact/moving_mean:0' shape=(1024,) dtype=float32_ref>,\n",
       " <tf.Variable 'resnet_v2_101/block3/unit_14/bottleneck_v2/preact/moving_variance:0' shape=(1024,) dtype=float32_ref>,\n",
       " <tf.Variable 'resnet_v2_101/block3/unit_14/bottleneck_v2/conv1/weights:0' shape=(1, 1, 1024, 256) dtype=float32_ref>,\n",
       " <tf.Variable 'resnet_v2_101/block3/unit_14/bottleneck_v2/conv1/BatchNorm/beta:0' shape=(256,) dtype=float32_ref>,\n",
       " <tf.Variable 'resnet_v2_101/block3/unit_14/bottleneck_v2/conv1/BatchNorm/gamma:0' shape=(256,) dtype=float32_ref>,\n",
       " <tf.Variable 'resnet_v2_101/block3/unit_14/bottleneck_v2/conv1/BatchNorm/moving_mean:0' shape=(256,) dtype=float32_ref>,\n",
       " <tf.Variable 'resnet_v2_101/block3/unit_14/bottleneck_v2/conv1/BatchNorm/moving_variance:0' shape=(256,) dtype=float32_ref>,\n",
       " <tf.Variable 'resnet_v2_101/block3/unit_14/bottleneck_v2/conv2/weights:0' shape=(3, 3, 256, 256) dtype=float32_ref>,\n",
       " <tf.Variable 'resnet_v2_101/block3/unit_14/bottleneck_v2/conv2/BatchNorm/beta:0' shape=(256,) dtype=float32_ref>,\n",
       " <tf.Variable 'resnet_v2_101/block3/unit_14/bottleneck_v2/conv2/BatchNorm/gamma:0' shape=(256,) dtype=float32_ref>,\n",
       " <tf.Variable 'resnet_v2_101/block3/unit_14/bottleneck_v2/conv2/BatchNorm/moving_mean:0' shape=(256,) dtype=float32_ref>,\n",
       " <tf.Variable 'resnet_v2_101/block3/unit_14/bottleneck_v2/conv2/BatchNorm/moving_variance:0' shape=(256,) dtype=float32_ref>,\n",
       " <tf.Variable 'resnet_v2_101/block3/unit_14/bottleneck_v2/conv3/weights:0' shape=(1, 1, 256, 1024) dtype=float32_ref>,\n",
       " <tf.Variable 'resnet_v2_101/block3/unit_14/bottleneck_v2/conv3/biases:0' shape=(1024,) dtype=float32_ref>,\n",
       " <tf.Variable 'resnet_v2_101/block3/unit_15/bottleneck_v2/preact/beta:0' shape=(1024,) dtype=float32_ref>,\n",
       " <tf.Variable 'resnet_v2_101/block3/unit_15/bottleneck_v2/preact/gamma:0' shape=(1024,) dtype=float32_ref>,\n",
       " <tf.Variable 'resnet_v2_101/block3/unit_15/bottleneck_v2/preact/moving_mean:0' shape=(1024,) dtype=float32_ref>,\n",
       " <tf.Variable 'resnet_v2_101/block3/unit_15/bottleneck_v2/preact/moving_variance:0' shape=(1024,) dtype=float32_ref>,\n",
       " <tf.Variable 'resnet_v2_101/block3/unit_15/bottleneck_v2/conv1/weights:0' shape=(1, 1, 1024, 256) dtype=float32_ref>,\n",
       " <tf.Variable 'resnet_v2_101/block3/unit_15/bottleneck_v2/conv1/BatchNorm/beta:0' shape=(256,) dtype=float32_ref>,\n",
       " <tf.Variable 'resnet_v2_101/block3/unit_15/bottleneck_v2/conv1/BatchNorm/gamma:0' shape=(256,) dtype=float32_ref>,\n",
       " <tf.Variable 'resnet_v2_101/block3/unit_15/bottleneck_v2/conv1/BatchNorm/moving_mean:0' shape=(256,) dtype=float32_ref>,\n",
       " <tf.Variable 'resnet_v2_101/block3/unit_15/bottleneck_v2/conv1/BatchNorm/moving_variance:0' shape=(256,) dtype=float32_ref>,\n",
       " <tf.Variable 'resnet_v2_101/block3/unit_15/bottleneck_v2/conv2/weights:0' shape=(3, 3, 256, 256) dtype=float32_ref>,\n",
       " <tf.Variable 'resnet_v2_101/block3/unit_15/bottleneck_v2/conv2/BatchNorm/beta:0' shape=(256,) dtype=float32_ref>,\n",
       " <tf.Variable 'resnet_v2_101/block3/unit_15/bottleneck_v2/conv2/BatchNorm/gamma:0' shape=(256,) dtype=float32_ref>,\n",
       " <tf.Variable 'resnet_v2_101/block3/unit_15/bottleneck_v2/conv2/BatchNorm/moving_mean:0' shape=(256,) dtype=float32_ref>,\n",
       " <tf.Variable 'resnet_v2_101/block3/unit_15/bottleneck_v2/conv2/BatchNorm/moving_variance:0' shape=(256,) dtype=float32_ref>,\n",
       " <tf.Variable 'resnet_v2_101/block3/unit_15/bottleneck_v2/conv3/weights:0' shape=(1, 1, 256, 1024) dtype=float32_ref>,\n",
       " <tf.Variable 'resnet_v2_101/block3/unit_15/bottleneck_v2/conv3/biases:0' shape=(1024,) dtype=float32_ref>,\n",
       " <tf.Variable 'resnet_v2_101/block3/unit_16/bottleneck_v2/preact/beta:0' shape=(1024,) dtype=float32_ref>,\n",
       " <tf.Variable 'resnet_v2_101/block3/unit_16/bottleneck_v2/preact/gamma:0' shape=(1024,) dtype=float32_ref>,\n",
       " <tf.Variable 'resnet_v2_101/block3/unit_16/bottleneck_v2/preact/moving_mean:0' shape=(1024,) dtype=float32_ref>,\n",
       " <tf.Variable 'resnet_v2_101/block3/unit_16/bottleneck_v2/preact/moving_variance:0' shape=(1024,) dtype=float32_ref>,\n",
       " <tf.Variable 'resnet_v2_101/block3/unit_16/bottleneck_v2/conv1/weights:0' shape=(1, 1, 1024, 256) dtype=float32_ref>,\n",
       " <tf.Variable 'resnet_v2_101/block3/unit_16/bottleneck_v2/conv1/BatchNorm/beta:0' shape=(256,) dtype=float32_ref>,\n",
       " <tf.Variable 'resnet_v2_101/block3/unit_16/bottleneck_v2/conv1/BatchNorm/gamma:0' shape=(256,) dtype=float32_ref>,\n",
       " <tf.Variable 'resnet_v2_101/block3/unit_16/bottleneck_v2/conv1/BatchNorm/moving_mean:0' shape=(256,) dtype=float32_ref>,\n",
       " <tf.Variable 'resnet_v2_101/block3/unit_16/bottleneck_v2/conv1/BatchNorm/moving_variance:0' shape=(256,) dtype=float32_ref>,\n",
       " <tf.Variable 'resnet_v2_101/block3/unit_16/bottleneck_v2/conv2/weights:0' shape=(3, 3, 256, 256) dtype=float32_ref>,\n",
       " <tf.Variable 'resnet_v2_101/block3/unit_16/bottleneck_v2/conv2/BatchNorm/beta:0' shape=(256,) dtype=float32_ref>,\n",
       " <tf.Variable 'resnet_v2_101/block3/unit_16/bottleneck_v2/conv2/BatchNorm/gamma:0' shape=(256,) dtype=float32_ref>,\n",
       " <tf.Variable 'resnet_v2_101/block3/unit_16/bottleneck_v2/conv2/BatchNorm/moving_mean:0' shape=(256,) dtype=float32_ref>,\n",
       " <tf.Variable 'resnet_v2_101/block3/unit_16/bottleneck_v2/conv2/BatchNorm/moving_variance:0' shape=(256,) dtype=float32_ref>,\n",
       " <tf.Variable 'resnet_v2_101/block3/unit_16/bottleneck_v2/conv3/weights:0' shape=(1, 1, 256, 1024) dtype=float32_ref>,\n",
       " <tf.Variable 'resnet_v2_101/block3/unit_16/bottleneck_v2/conv3/biases:0' shape=(1024,) dtype=float32_ref>,\n",
       " <tf.Variable 'resnet_v2_101/block3/unit_17/bottleneck_v2/preact/beta:0' shape=(1024,) dtype=float32_ref>,\n",
       " <tf.Variable 'resnet_v2_101/block3/unit_17/bottleneck_v2/preact/gamma:0' shape=(1024,) dtype=float32_ref>,\n",
       " <tf.Variable 'resnet_v2_101/block3/unit_17/bottleneck_v2/preact/moving_mean:0' shape=(1024,) dtype=float32_ref>,\n",
       " <tf.Variable 'resnet_v2_101/block3/unit_17/bottleneck_v2/preact/moving_variance:0' shape=(1024,) dtype=float32_ref>,\n",
       " <tf.Variable 'resnet_v2_101/block3/unit_17/bottleneck_v2/conv1/weights:0' shape=(1, 1, 1024, 256) dtype=float32_ref>,\n",
       " <tf.Variable 'resnet_v2_101/block3/unit_17/bottleneck_v2/conv1/BatchNorm/beta:0' shape=(256,) dtype=float32_ref>,\n",
       " <tf.Variable 'resnet_v2_101/block3/unit_17/bottleneck_v2/conv1/BatchNorm/gamma:0' shape=(256,) dtype=float32_ref>,\n",
       " <tf.Variable 'resnet_v2_101/block3/unit_17/bottleneck_v2/conv1/BatchNorm/moving_mean:0' shape=(256,) dtype=float32_ref>,\n",
       " <tf.Variable 'resnet_v2_101/block3/unit_17/bottleneck_v2/conv1/BatchNorm/moving_variance:0' shape=(256,) dtype=float32_ref>,\n",
       " <tf.Variable 'resnet_v2_101/block3/unit_17/bottleneck_v2/conv2/weights:0' shape=(3, 3, 256, 256) dtype=float32_ref>,\n",
       " <tf.Variable 'resnet_v2_101/block3/unit_17/bottleneck_v2/conv2/BatchNorm/beta:0' shape=(256,) dtype=float32_ref>,\n",
       " <tf.Variable 'resnet_v2_101/block3/unit_17/bottleneck_v2/conv2/BatchNorm/gamma:0' shape=(256,) dtype=float32_ref>,\n",
       " <tf.Variable 'resnet_v2_101/block3/unit_17/bottleneck_v2/conv2/BatchNorm/moving_mean:0' shape=(256,) dtype=float32_ref>,\n",
       " <tf.Variable 'resnet_v2_101/block3/unit_17/bottleneck_v2/conv2/BatchNorm/moving_variance:0' shape=(256,) dtype=float32_ref>,\n",
       " <tf.Variable 'resnet_v2_101/block3/unit_17/bottleneck_v2/conv3/weights:0' shape=(1, 1, 256, 1024) dtype=float32_ref>,\n",
       " <tf.Variable 'resnet_v2_101/block3/unit_17/bottleneck_v2/conv3/biases:0' shape=(1024,) dtype=float32_ref>,\n",
       " <tf.Variable 'resnet_v2_101/block3/unit_18/bottleneck_v2/preact/beta:0' shape=(1024,) dtype=float32_ref>,\n",
       " <tf.Variable 'resnet_v2_101/block3/unit_18/bottleneck_v2/preact/gamma:0' shape=(1024,) dtype=float32_ref>,\n",
       " <tf.Variable 'resnet_v2_101/block3/unit_18/bottleneck_v2/preact/moving_mean:0' shape=(1024,) dtype=float32_ref>,\n",
       " <tf.Variable 'resnet_v2_101/block3/unit_18/bottleneck_v2/preact/moving_variance:0' shape=(1024,) dtype=float32_ref>,\n",
       " <tf.Variable 'resnet_v2_101/block3/unit_18/bottleneck_v2/conv1/weights:0' shape=(1, 1, 1024, 256) dtype=float32_ref>,\n",
       " <tf.Variable 'resnet_v2_101/block3/unit_18/bottleneck_v2/conv1/BatchNorm/beta:0' shape=(256,) dtype=float32_ref>,\n",
       " <tf.Variable 'resnet_v2_101/block3/unit_18/bottleneck_v2/conv1/BatchNorm/gamma:0' shape=(256,) dtype=float32_ref>,\n",
       " <tf.Variable 'resnet_v2_101/block3/unit_18/bottleneck_v2/conv1/BatchNorm/moving_mean:0' shape=(256,) dtype=float32_ref>,\n",
       " <tf.Variable 'resnet_v2_101/block3/unit_18/bottleneck_v2/conv1/BatchNorm/moving_variance:0' shape=(256,) dtype=float32_ref>,\n",
       " <tf.Variable 'resnet_v2_101/block3/unit_18/bottleneck_v2/conv2/weights:0' shape=(3, 3, 256, 256) dtype=float32_ref>,\n",
       " <tf.Variable 'resnet_v2_101/block3/unit_18/bottleneck_v2/conv2/BatchNorm/beta:0' shape=(256,) dtype=float32_ref>,\n",
       " <tf.Variable 'resnet_v2_101/block3/unit_18/bottleneck_v2/conv2/BatchNorm/gamma:0' shape=(256,) dtype=float32_ref>,\n",
       " <tf.Variable 'resnet_v2_101/block3/unit_18/bottleneck_v2/conv2/BatchNorm/moving_mean:0' shape=(256,) dtype=float32_ref>,\n",
       " <tf.Variable 'resnet_v2_101/block3/unit_18/bottleneck_v2/conv2/BatchNorm/moving_variance:0' shape=(256,) dtype=float32_ref>,\n",
       " <tf.Variable 'resnet_v2_101/block3/unit_18/bottleneck_v2/conv3/weights:0' shape=(1, 1, 256, 1024) dtype=float32_ref>,\n",
       " <tf.Variable 'resnet_v2_101/block3/unit_18/bottleneck_v2/conv3/biases:0' shape=(1024,) dtype=float32_ref>,\n",
       " <tf.Variable 'resnet_v2_101/block3/unit_19/bottleneck_v2/preact/beta:0' shape=(1024,) dtype=float32_ref>,\n",
       " <tf.Variable 'resnet_v2_101/block3/unit_19/bottleneck_v2/preact/gamma:0' shape=(1024,) dtype=float32_ref>,\n",
       " <tf.Variable 'resnet_v2_101/block3/unit_19/bottleneck_v2/preact/moving_mean:0' shape=(1024,) dtype=float32_ref>,\n",
       " <tf.Variable 'resnet_v2_101/block3/unit_19/bottleneck_v2/preact/moving_variance:0' shape=(1024,) dtype=float32_ref>,\n",
       " <tf.Variable 'resnet_v2_101/block3/unit_19/bottleneck_v2/conv1/weights:0' shape=(1, 1, 1024, 256) dtype=float32_ref>,\n",
       " <tf.Variable 'resnet_v2_101/block3/unit_19/bottleneck_v2/conv1/BatchNorm/beta:0' shape=(256,) dtype=float32_ref>,\n",
       " <tf.Variable 'resnet_v2_101/block3/unit_19/bottleneck_v2/conv1/BatchNorm/gamma:0' shape=(256,) dtype=float32_ref>,\n",
       " <tf.Variable 'resnet_v2_101/block3/unit_19/bottleneck_v2/conv1/BatchNorm/moving_mean:0' shape=(256,) dtype=float32_ref>,\n",
       " <tf.Variable 'resnet_v2_101/block3/unit_19/bottleneck_v2/conv1/BatchNorm/moving_variance:0' shape=(256,) dtype=float32_ref>,\n",
       " <tf.Variable 'resnet_v2_101/block3/unit_19/bottleneck_v2/conv2/weights:0' shape=(3, 3, 256, 256) dtype=float32_ref>,\n",
       " <tf.Variable 'resnet_v2_101/block3/unit_19/bottleneck_v2/conv2/BatchNorm/beta:0' shape=(256,) dtype=float32_ref>,\n",
       " <tf.Variable 'resnet_v2_101/block3/unit_19/bottleneck_v2/conv2/BatchNorm/gamma:0' shape=(256,) dtype=float32_ref>,\n",
       " <tf.Variable 'resnet_v2_101/block3/unit_19/bottleneck_v2/conv2/BatchNorm/moving_mean:0' shape=(256,) dtype=float32_ref>,\n",
       " <tf.Variable 'resnet_v2_101/block3/unit_19/bottleneck_v2/conv2/BatchNorm/moving_variance:0' shape=(256,) dtype=float32_ref>,\n",
       " <tf.Variable 'resnet_v2_101/block3/unit_19/bottleneck_v2/conv3/weights:0' shape=(1, 1, 256, 1024) dtype=float32_ref>,\n",
       " <tf.Variable 'resnet_v2_101/block3/unit_19/bottleneck_v2/conv3/biases:0' shape=(1024,) dtype=float32_ref>,\n",
       " <tf.Variable 'resnet_v2_101/block3/unit_20/bottleneck_v2/preact/beta:0' shape=(1024,) dtype=float32_ref>,\n",
       " <tf.Variable 'resnet_v2_101/block3/unit_20/bottleneck_v2/preact/gamma:0' shape=(1024,) dtype=float32_ref>,\n",
       " <tf.Variable 'resnet_v2_101/block3/unit_20/bottleneck_v2/preact/moving_mean:0' shape=(1024,) dtype=float32_ref>,\n",
       " <tf.Variable 'resnet_v2_101/block3/unit_20/bottleneck_v2/preact/moving_variance:0' shape=(1024,) dtype=float32_ref>,\n",
       " <tf.Variable 'resnet_v2_101/block3/unit_20/bottleneck_v2/conv1/weights:0' shape=(1, 1, 1024, 256) dtype=float32_ref>,\n",
       " <tf.Variable 'resnet_v2_101/block3/unit_20/bottleneck_v2/conv1/BatchNorm/beta:0' shape=(256,) dtype=float32_ref>,\n",
       " <tf.Variable 'resnet_v2_101/block3/unit_20/bottleneck_v2/conv1/BatchNorm/gamma:0' shape=(256,) dtype=float32_ref>,\n",
       " <tf.Variable 'resnet_v2_101/block3/unit_20/bottleneck_v2/conv1/BatchNorm/moving_mean:0' shape=(256,) dtype=float32_ref>,\n",
       " <tf.Variable 'resnet_v2_101/block3/unit_20/bottleneck_v2/conv1/BatchNorm/moving_variance:0' shape=(256,) dtype=float32_ref>,\n",
       " <tf.Variable 'resnet_v2_101/block3/unit_20/bottleneck_v2/conv2/weights:0' shape=(3, 3, 256, 256) dtype=float32_ref>,\n",
       " <tf.Variable 'resnet_v2_101/block3/unit_20/bottleneck_v2/conv2/BatchNorm/beta:0' shape=(256,) dtype=float32_ref>,\n",
       " <tf.Variable 'resnet_v2_101/block3/unit_20/bottleneck_v2/conv2/BatchNorm/gamma:0' shape=(256,) dtype=float32_ref>,\n",
       " <tf.Variable 'resnet_v2_101/block3/unit_20/bottleneck_v2/conv2/BatchNorm/moving_mean:0' shape=(256,) dtype=float32_ref>,\n",
       " <tf.Variable 'resnet_v2_101/block3/unit_20/bottleneck_v2/conv2/BatchNorm/moving_variance:0' shape=(256,) dtype=float32_ref>,\n",
       " <tf.Variable 'resnet_v2_101/block3/unit_20/bottleneck_v2/conv3/weights:0' shape=(1, 1, 256, 1024) dtype=float32_ref>,\n",
       " <tf.Variable 'resnet_v2_101/block3/unit_20/bottleneck_v2/conv3/biases:0' shape=(1024,) dtype=float32_ref>,\n",
       " <tf.Variable 'resnet_v2_101/block3/unit_21/bottleneck_v2/preact/beta:0' shape=(1024,) dtype=float32_ref>,\n",
       " <tf.Variable 'resnet_v2_101/block3/unit_21/bottleneck_v2/preact/gamma:0' shape=(1024,) dtype=float32_ref>,\n",
       " <tf.Variable 'resnet_v2_101/block3/unit_21/bottleneck_v2/preact/moving_mean:0' shape=(1024,) dtype=float32_ref>,\n",
       " <tf.Variable 'resnet_v2_101/block3/unit_21/bottleneck_v2/preact/moving_variance:0' shape=(1024,) dtype=float32_ref>,\n",
       " <tf.Variable 'resnet_v2_101/block3/unit_21/bottleneck_v2/conv1/weights:0' shape=(1, 1, 1024, 256) dtype=float32_ref>,\n",
       " <tf.Variable 'resnet_v2_101/block3/unit_21/bottleneck_v2/conv1/BatchNorm/beta:0' shape=(256,) dtype=float32_ref>,\n",
       " <tf.Variable 'resnet_v2_101/block3/unit_21/bottleneck_v2/conv1/BatchNorm/gamma:0' shape=(256,) dtype=float32_ref>,\n",
       " <tf.Variable 'resnet_v2_101/block3/unit_21/bottleneck_v2/conv1/BatchNorm/moving_mean:0' shape=(256,) dtype=float32_ref>,\n",
       " <tf.Variable 'resnet_v2_101/block3/unit_21/bottleneck_v2/conv1/BatchNorm/moving_variance:0' shape=(256,) dtype=float32_ref>,\n",
       " <tf.Variable 'resnet_v2_101/block3/unit_21/bottleneck_v2/conv2/weights:0' shape=(3, 3, 256, 256) dtype=float32_ref>,\n",
       " <tf.Variable 'resnet_v2_101/block3/unit_21/bottleneck_v2/conv2/BatchNorm/beta:0' shape=(256,) dtype=float32_ref>,\n",
       " <tf.Variable 'resnet_v2_101/block3/unit_21/bottleneck_v2/conv2/BatchNorm/gamma:0' shape=(256,) dtype=float32_ref>,\n",
       " <tf.Variable 'resnet_v2_101/block3/unit_21/bottleneck_v2/conv2/BatchNorm/moving_mean:0' shape=(256,) dtype=float32_ref>,\n",
       " <tf.Variable 'resnet_v2_101/block3/unit_21/bottleneck_v2/conv2/BatchNorm/moving_variance:0' shape=(256,) dtype=float32_ref>,\n",
       " <tf.Variable 'resnet_v2_101/block3/unit_21/bottleneck_v2/conv3/weights:0' shape=(1, 1, 256, 1024) dtype=float32_ref>,\n",
       " <tf.Variable 'resnet_v2_101/block3/unit_21/bottleneck_v2/conv3/biases:0' shape=(1024,) dtype=float32_ref>,\n",
       " <tf.Variable 'resnet_v2_101/block3/unit_22/bottleneck_v2/preact/beta:0' shape=(1024,) dtype=float32_ref>,\n",
       " <tf.Variable 'resnet_v2_101/block3/unit_22/bottleneck_v2/preact/gamma:0' shape=(1024,) dtype=float32_ref>,\n",
       " <tf.Variable 'resnet_v2_101/block3/unit_22/bottleneck_v2/preact/moving_mean:0' shape=(1024,) dtype=float32_ref>,\n",
       " <tf.Variable 'resnet_v2_101/block3/unit_22/bottleneck_v2/preact/moving_variance:0' shape=(1024,) dtype=float32_ref>,\n",
       " <tf.Variable 'resnet_v2_101/block3/unit_22/bottleneck_v2/conv1/weights:0' shape=(1, 1, 1024, 256) dtype=float32_ref>,\n",
       " <tf.Variable 'resnet_v2_101/block3/unit_22/bottleneck_v2/conv1/BatchNorm/beta:0' shape=(256,) dtype=float32_ref>,\n",
       " <tf.Variable 'resnet_v2_101/block3/unit_22/bottleneck_v2/conv1/BatchNorm/gamma:0' shape=(256,) dtype=float32_ref>,\n",
       " <tf.Variable 'resnet_v2_101/block3/unit_22/bottleneck_v2/conv1/BatchNorm/moving_mean:0' shape=(256,) dtype=float32_ref>,\n",
       " <tf.Variable 'resnet_v2_101/block3/unit_22/bottleneck_v2/conv1/BatchNorm/moving_variance:0' shape=(256,) dtype=float32_ref>,\n",
       " <tf.Variable 'resnet_v2_101/block3/unit_22/bottleneck_v2/conv2/weights:0' shape=(3, 3, 256, 256) dtype=float32_ref>,\n",
       " <tf.Variable 'resnet_v2_101/block3/unit_22/bottleneck_v2/conv2/BatchNorm/beta:0' shape=(256,) dtype=float32_ref>,\n",
       " <tf.Variable 'resnet_v2_101/block3/unit_22/bottleneck_v2/conv2/BatchNorm/gamma:0' shape=(256,) dtype=float32_ref>,\n",
       " <tf.Variable 'resnet_v2_101/block3/unit_22/bottleneck_v2/conv2/BatchNorm/moving_mean:0' shape=(256,) dtype=float32_ref>,\n",
       " <tf.Variable 'resnet_v2_101/block3/unit_22/bottleneck_v2/conv2/BatchNorm/moving_variance:0' shape=(256,) dtype=float32_ref>,\n",
       " <tf.Variable 'resnet_v2_101/block3/unit_22/bottleneck_v2/conv3/weights:0' shape=(1, 1, 256, 1024) dtype=float32_ref>,\n",
       " <tf.Variable 'resnet_v2_101/block3/unit_22/bottleneck_v2/conv3/biases:0' shape=(1024,) dtype=float32_ref>,\n",
       " <tf.Variable 'resnet_v2_101/block3/unit_23/bottleneck_v2/preact/beta:0' shape=(1024,) dtype=float32_ref>,\n",
       " <tf.Variable 'resnet_v2_101/block3/unit_23/bottleneck_v2/preact/gamma:0' shape=(1024,) dtype=float32_ref>,\n",
       " <tf.Variable 'resnet_v2_101/block3/unit_23/bottleneck_v2/preact/moving_mean:0' shape=(1024,) dtype=float32_ref>,\n",
       " <tf.Variable 'resnet_v2_101/block3/unit_23/bottleneck_v2/preact/moving_variance:0' shape=(1024,) dtype=float32_ref>,\n",
       " <tf.Variable 'resnet_v2_101/block3/unit_23/bottleneck_v2/conv1/weights:0' shape=(1, 1, 1024, 256) dtype=float32_ref>,\n",
       " <tf.Variable 'resnet_v2_101/block3/unit_23/bottleneck_v2/conv1/BatchNorm/beta:0' shape=(256,) dtype=float32_ref>,\n",
       " <tf.Variable 'resnet_v2_101/block3/unit_23/bottleneck_v2/conv1/BatchNorm/gamma:0' shape=(256,) dtype=float32_ref>,\n",
       " <tf.Variable 'resnet_v2_101/block3/unit_23/bottleneck_v2/conv1/BatchNorm/moving_mean:0' shape=(256,) dtype=float32_ref>,\n",
       " <tf.Variable 'resnet_v2_101/block3/unit_23/bottleneck_v2/conv1/BatchNorm/moving_variance:0' shape=(256,) dtype=float32_ref>,\n",
       " <tf.Variable 'resnet_v2_101/block3/unit_23/bottleneck_v2/conv2/weights:0' shape=(3, 3, 256, 256) dtype=float32_ref>,\n",
       " <tf.Variable 'resnet_v2_101/block3/unit_23/bottleneck_v2/conv2/BatchNorm/beta:0' shape=(256,) dtype=float32_ref>,\n",
       " <tf.Variable 'resnet_v2_101/block3/unit_23/bottleneck_v2/conv2/BatchNorm/gamma:0' shape=(256,) dtype=float32_ref>,\n",
       " <tf.Variable 'resnet_v2_101/block3/unit_23/bottleneck_v2/conv2/BatchNorm/moving_mean:0' shape=(256,) dtype=float32_ref>,\n",
       " <tf.Variable 'resnet_v2_101/block3/unit_23/bottleneck_v2/conv2/BatchNorm/moving_variance:0' shape=(256,) dtype=float32_ref>,\n",
       " <tf.Variable 'resnet_v2_101/block3/unit_23/bottleneck_v2/conv3/weights:0' shape=(1, 1, 256, 1024) dtype=float32_ref>,\n",
       " <tf.Variable 'resnet_v2_101/block3/unit_23/bottleneck_v2/conv3/biases:0' shape=(1024,) dtype=float32_ref>,\n",
       " <tf.Variable 'resnet_v2_101/block4/unit_1/bottleneck_v2/preact/beta:0' shape=(1024,) dtype=float32_ref>,\n",
       " <tf.Variable 'resnet_v2_101/block4/unit_1/bottleneck_v2/preact/gamma:0' shape=(1024,) dtype=float32_ref>,\n",
       " <tf.Variable 'resnet_v2_101/block4/unit_1/bottleneck_v2/preact/moving_mean:0' shape=(1024,) dtype=float32_ref>,\n",
       " <tf.Variable 'resnet_v2_101/block4/unit_1/bottleneck_v2/preact/moving_variance:0' shape=(1024,) dtype=float32_ref>,\n",
       " <tf.Variable 'resnet_v2_101/block4/unit_1/bottleneck_v2/shortcut/weights:0' shape=(1, 1, 1024, 2048) dtype=float32_ref>,\n",
       " <tf.Variable 'resnet_v2_101/block4/unit_1/bottleneck_v2/shortcut/biases:0' shape=(2048,) dtype=float32_ref>,\n",
       " <tf.Variable 'resnet_v2_101/block4/unit_1/bottleneck_v2/conv1/weights:0' shape=(1, 1, 1024, 512) dtype=float32_ref>,\n",
       " <tf.Variable 'resnet_v2_101/block4/unit_1/bottleneck_v2/conv1/BatchNorm/beta:0' shape=(512,) dtype=float32_ref>,\n",
       " <tf.Variable 'resnet_v2_101/block4/unit_1/bottleneck_v2/conv1/BatchNorm/gamma:0' shape=(512,) dtype=float32_ref>,\n",
       " <tf.Variable 'resnet_v2_101/block4/unit_1/bottleneck_v2/conv1/BatchNorm/moving_mean:0' shape=(512,) dtype=float32_ref>,\n",
       " <tf.Variable 'resnet_v2_101/block4/unit_1/bottleneck_v2/conv1/BatchNorm/moving_variance:0' shape=(512,) dtype=float32_ref>,\n",
       " <tf.Variable 'resnet_v2_101/block4/unit_1/bottleneck_v2/conv2/weights:0' shape=(3, 3, 512, 512) dtype=float32_ref>,\n",
       " <tf.Variable 'resnet_v2_101/block4/unit_1/bottleneck_v2/conv2/BatchNorm/beta:0' shape=(512,) dtype=float32_ref>,\n",
       " <tf.Variable 'resnet_v2_101/block4/unit_1/bottleneck_v2/conv2/BatchNorm/gamma:0' shape=(512,) dtype=float32_ref>,\n",
       " <tf.Variable 'resnet_v2_101/block4/unit_1/bottleneck_v2/conv2/BatchNorm/moving_mean:0' shape=(512,) dtype=float32_ref>,\n",
       " <tf.Variable 'resnet_v2_101/block4/unit_1/bottleneck_v2/conv2/BatchNorm/moving_variance:0' shape=(512,) dtype=float32_ref>,\n",
       " <tf.Variable 'resnet_v2_101/block4/unit_1/bottleneck_v2/conv3/weights:0' shape=(1, 1, 512, 2048) dtype=float32_ref>,\n",
       " <tf.Variable 'resnet_v2_101/block4/unit_1/bottleneck_v2/conv3/biases:0' shape=(2048,) dtype=float32_ref>,\n",
       " <tf.Variable 'resnet_v2_101/block4/unit_2/bottleneck_v2/preact/beta:0' shape=(2048,) dtype=float32_ref>,\n",
       " <tf.Variable 'resnet_v2_101/block4/unit_2/bottleneck_v2/preact/gamma:0' shape=(2048,) dtype=float32_ref>,\n",
       " <tf.Variable 'resnet_v2_101/block4/unit_2/bottleneck_v2/preact/moving_mean:0' shape=(2048,) dtype=float32_ref>,\n",
       " <tf.Variable 'resnet_v2_101/block4/unit_2/bottleneck_v2/preact/moving_variance:0' shape=(2048,) dtype=float32_ref>,\n",
       " <tf.Variable 'resnet_v2_101/block4/unit_2/bottleneck_v2/conv1/weights:0' shape=(1, 1, 2048, 512) dtype=float32_ref>,\n",
       " <tf.Variable 'resnet_v2_101/block4/unit_2/bottleneck_v2/conv1/BatchNorm/beta:0' shape=(512,) dtype=float32_ref>,\n",
       " <tf.Variable 'resnet_v2_101/block4/unit_2/bottleneck_v2/conv1/BatchNorm/gamma:0' shape=(512,) dtype=float32_ref>,\n",
       " <tf.Variable 'resnet_v2_101/block4/unit_2/bottleneck_v2/conv1/BatchNorm/moving_mean:0' shape=(512,) dtype=float32_ref>,\n",
       " <tf.Variable 'resnet_v2_101/block4/unit_2/bottleneck_v2/conv1/BatchNorm/moving_variance:0' shape=(512,) dtype=float32_ref>,\n",
       " <tf.Variable 'resnet_v2_101/block4/unit_2/bottleneck_v2/conv2/weights:0' shape=(3, 3, 512, 512) dtype=float32_ref>,\n",
       " <tf.Variable 'resnet_v2_101/block4/unit_2/bottleneck_v2/conv2/BatchNorm/beta:0' shape=(512,) dtype=float32_ref>,\n",
       " <tf.Variable 'resnet_v2_101/block4/unit_2/bottleneck_v2/conv2/BatchNorm/gamma:0' shape=(512,) dtype=float32_ref>,\n",
       " <tf.Variable 'resnet_v2_101/block4/unit_2/bottleneck_v2/conv2/BatchNorm/moving_mean:0' shape=(512,) dtype=float32_ref>,\n",
       " <tf.Variable 'resnet_v2_101/block4/unit_2/bottleneck_v2/conv2/BatchNorm/moving_variance:0' shape=(512,) dtype=float32_ref>,\n",
       " <tf.Variable 'resnet_v2_101/block4/unit_2/bottleneck_v2/conv3/weights:0' shape=(1, 1, 512, 2048) dtype=float32_ref>,\n",
       " <tf.Variable 'resnet_v2_101/block4/unit_2/bottleneck_v2/conv3/biases:0' shape=(2048,) dtype=float32_ref>,\n",
       " <tf.Variable 'resnet_v2_101/block4/unit_3/bottleneck_v2/preact/beta:0' shape=(2048,) dtype=float32_ref>,\n",
       " <tf.Variable 'resnet_v2_101/block4/unit_3/bottleneck_v2/preact/gamma:0' shape=(2048,) dtype=float32_ref>,\n",
       " <tf.Variable 'resnet_v2_101/block4/unit_3/bottleneck_v2/preact/moving_mean:0' shape=(2048,) dtype=float32_ref>,\n",
       " <tf.Variable 'resnet_v2_101/block4/unit_3/bottleneck_v2/preact/moving_variance:0' shape=(2048,) dtype=float32_ref>,\n",
       " <tf.Variable 'resnet_v2_101/block4/unit_3/bottleneck_v2/conv1/weights:0' shape=(1, 1, 2048, 512) dtype=float32_ref>,\n",
       " <tf.Variable 'resnet_v2_101/block4/unit_3/bottleneck_v2/conv1/BatchNorm/beta:0' shape=(512,) dtype=float32_ref>,\n",
       " <tf.Variable 'resnet_v2_101/block4/unit_3/bottleneck_v2/conv1/BatchNorm/gamma:0' shape=(512,) dtype=float32_ref>,\n",
       " <tf.Variable 'resnet_v2_101/block4/unit_3/bottleneck_v2/conv1/BatchNorm/moving_mean:0' shape=(512,) dtype=float32_ref>,\n",
       " <tf.Variable 'resnet_v2_101/block4/unit_3/bottleneck_v2/conv1/BatchNorm/moving_variance:0' shape=(512,) dtype=float32_ref>,\n",
       " <tf.Variable 'resnet_v2_101/block4/unit_3/bottleneck_v2/conv2/weights:0' shape=(3, 3, 512, 512) dtype=float32_ref>,\n",
       " <tf.Variable 'resnet_v2_101/block4/unit_3/bottleneck_v2/conv2/BatchNorm/beta:0' shape=(512,) dtype=float32_ref>,\n",
       " <tf.Variable 'resnet_v2_101/block4/unit_3/bottleneck_v2/conv2/BatchNorm/gamma:0' shape=(512,) dtype=float32_ref>,\n",
       " <tf.Variable 'resnet_v2_101/block4/unit_3/bottleneck_v2/conv2/BatchNorm/moving_mean:0' shape=(512,) dtype=float32_ref>,\n",
       " <tf.Variable 'resnet_v2_101/block4/unit_3/bottleneck_v2/conv2/BatchNorm/moving_variance:0' shape=(512,) dtype=float32_ref>,\n",
       " <tf.Variable 'resnet_v2_101/block4/unit_3/bottleneck_v2/conv3/weights:0' shape=(1, 1, 512, 2048) dtype=float32_ref>,\n",
       " <tf.Variable 'resnet_v2_101/block4/unit_3/bottleneck_v2/conv3/biases:0' shape=(2048,) dtype=float32_ref>,\n",
       " <tf.Variable 'resnet_v2_101/postnorm/beta:0' shape=(2048,) dtype=float32_ref>,\n",
       " <tf.Variable 'resnet_v2_101/postnorm/gamma:0' shape=(2048,) dtype=float32_ref>,\n",
       " <tf.Variable 'resnet_v2_101/postnorm/moving_mean:0' shape=(2048,) dtype=float32_ref>,\n",
       " <tf.Variable 'resnet_v2_101/postnorm/moving_variance:0' shape=(2048,) dtype=float32_ref>,\n",
       " <tf.Variable 'custom_cnn/conv1/weights:0' shape=(3, 3, 1024, 512) dtype=float32_ref>,\n",
       " <tf.Variable 'custom_cnn/conv1/biases:0' shape=(512,) dtype=float32_ref>,\n",
       " <tf.Variable 'custom_cnn/batch_norm1/beta:0' shape=(512,) dtype=float32_ref>,\n",
       " <tf.Variable 'custom_cnn/batch_norm1/gamma:0' shape=(512,) dtype=float32_ref>,\n",
       " <tf.Variable 'custom_cnn/batch_norm1/moving_mean:0' shape=(512,) dtype=float32_ref>,\n",
       " <tf.Variable 'custom_cnn/batch_norm1/moving_variance:0' shape=(512,) dtype=float32_ref>,\n",
       " <tf.Variable 'rnn/process/fc_read/weights:0' shape=(1024, 1) dtype=float32_ref>,\n",
       " <tf.Variable 'rnn/process/fc_read/biases:0' shape=(1,) dtype=float32_ref>,\n",
       " <tf.Variable 'rnn/process/fc_fg/weights:0' shape=(1024, 512) dtype=float32_ref>,\n",
       " <tf.Variable 'rnn/process/fc_fg/biases:0' shape=(512,) dtype=float32_ref>,\n",
       " <tf.Variable 'rnn/process/fc_ig/weights:0' shape=(1024, 512) dtype=float32_ref>,\n",
       " <tf.Variable 'rnn/process/fc_ig/biases:0' shape=(512,) dtype=float32_ref>,\n",
       " <tf.Variable 'hidden_fc/weights:0' shape=(512, 512) dtype=float32_ref>,\n",
       " <tf.Variable 'hidden_fc/biases:0' shape=(512,) dtype=float32_ref>,\n",
       " <tf.Variable 'logits/weights:0' shape=(512, 30) dtype=float32_ref>,\n",
       " <tf.Variable 'logits/biases:0' shape=(30,) dtype=float32_ref>,\n",
       " <tf.Variable 'EMA/loss/value:0' shape=() dtype=float32_ref>,\n",
       " <tf.Variable 'EMA/loss/value/biased:0' shape=() dtype=float32_ref>,\n",
       " <tf.Variable 'EMA/loss/value/local_step:0' shape=() dtype=float32_ref>,\n",
       " <tf.Variable 'learning_rate:0' shape=() dtype=float32_ref>,\n",
       " <tf.Variable 'beta1_power:0' shape=() dtype=float32_ref>,\n",
       " <tf.Variable 'beta2_power:0' shape=() dtype=float32_ref>,\n",
       " <tf.Variable 'custom_cnn/conv1/weights/Adam:0' shape=(3, 3, 1024, 512) dtype=float32_ref>,\n",
       " <tf.Variable 'custom_cnn/conv1/weights/Adam_1:0' shape=(3, 3, 1024, 512) dtype=float32_ref>,\n",
       " <tf.Variable 'custom_cnn/conv1/biases/Adam:0' shape=(512,) dtype=float32_ref>,\n",
       " <tf.Variable 'custom_cnn/conv1/biases/Adam_1:0' shape=(512,) dtype=float32_ref>,\n",
       " <tf.Variable 'custom_cnn/batch_norm1/beta/Adam:0' shape=(512,) dtype=float32_ref>,\n",
       " <tf.Variable 'custom_cnn/batch_norm1/beta/Adam_1:0' shape=(512,) dtype=float32_ref>,\n",
       " <tf.Variable 'custom_cnn/batch_norm1/gamma/Adam:0' shape=(512,) dtype=float32_ref>,\n",
       " <tf.Variable 'custom_cnn/batch_norm1/gamma/Adam_1:0' shape=(512,) dtype=float32_ref>,\n",
       " <tf.Variable 'rnn/process/fc_read/weights/Adam:0' shape=(1024, 1) dtype=float32_ref>,\n",
       " <tf.Variable 'rnn/process/fc_read/weights/Adam_1:0' shape=(1024, 1) dtype=float32_ref>,\n",
       " <tf.Variable 'rnn/process/fc_read/biases/Adam:0' shape=(1,) dtype=float32_ref>,\n",
       " <tf.Variable 'rnn/process/fc_read/biases/Adam_1:0' shape=(1,) dtype=float32_ref>,\n",
       " <tf.Variable 'rnn/process/fc_fg/weights/Adam:0' shape=(1024, 512) dtype=float32_ref>,\n",
       " <tf.Variable 'rnn/process/fc_fg/weights/Adam_1:0' shape=(1024, 512) dtype=float32_ref>,\n",
       " <tf.Variable 'rnn/process/fc_fg/biases/Adam:0' shape=(512,) dtype=float32_ref>,\n",
       " <tf.Variable 'rnn/process/fc_fg/biases/Adam_1:0' shape=(512,) dtype=float32_ref>,\n",
       " <tf.Variable 'rnn/process/fc_ig/weights/Adam:0' shape=(1024, 512) dtype=float32_ref>,\n",
       " <tf.Variable 'rnn/process/fc_ig/weights/Adam_1:0' shape=(1024, 512) dtype=float32_ref>,\n",
       " <tf.Variable 'rnn/process/fc_ig/biases/Adam:0' shape=(512,) dtype=float32_ref>,\n",
       " <tf.Variable 'rnn/process/fc_ig/biases/Adam_1:0' shape=(512,) dtype=float32_ref>,\n",
       " <tf.Variable 'hidden_fc/weights/Adam:0' shape=(512, 512) dtype=float32_ref>,\n",
       " <tf.Variable 'hidden_fc/weights/Adam_1:0' shape=(512, 512) dtype=float32_ref>,\n",
       " <tf.Variable 'hidden_fc/biases/Adam:0' shape=(512,) dtype=float32_ref>,\n",
       " <tf.Variable 'hidden_fc/biases/Adam_1:0' shape=(512,) dtype=float32_ref>,\n",
       " <tf.Variable 'logits/weights/Adam:0' shape=(512, 30) dtype=float32_ref>,\n",
       " <tf.Variable 'logits/weights/Adam_1:0' shape=(512, 30) dtype=float32_ref>,\n",
       " <tf.Variable 'logits/biases/Adam:0' shape=(30,) dtype=float32_ref>,\n",
       " <tf.Variable 'logits/biases/Adam_1:0' shape=(30,) dtype=float32_ref>,\n",
       " <tf.Variable 'global_step:0' shape=() dtype=int64_ref>,\n",
       " <tf.Variable 'EMA/DataParallelInferenceRunner/QueueInput/queue_size:0' shape=() dtype=float32_ref>,\n",
       " <tf.Variable 'EMA/DataParallelInferenceRunner/QueueInput/queue_size/biased:0' shape=() dtype=float32_ref>,\n",
       " <tf.Variable 'EMA/DataParallelInferenceRunner/QueueInput/queue_size/local_step:0' shape=() dtype=float32_ref>]"
      ]
     },
     "execution_count": 15,
     "metadata": {},
     "output_type": "execute_result"
    }
   ],
   "source": [
    "tf.get_collection(tf.GraphKeys.GLOBAL_VARIABLES)"
   ]
  },
  {
   "cell_type": "code",
   "execution_count": 1,
   "metadata": {
    "collapsed": true
   },
   "outputs": [],
   "source": [
    "a, b = 1, 2"
   ]
  },
  {
   "cell_type": "code",
   "execution_count": null,
   "metadata": {
    "collapsed": true
   },
   "outputs": [],
   "source": []
  }
 ],
 "metadata": {
  "kernelspec": {
   "display_name": "Python 3",
   "language": "python",
   "name": "python3"
  },
  "language_info": {
   "codemirror_mode": {
    "name": "ipython",
    "version": 3
   },
   "file_extension": ".py",
   "mimetype": "text/x-python",
   "name": "python",
   "nbconvert_exporter": "python",
   "pygments_lexer": "ipython3",
   "version": "3.6.2"
  }
 },
 "nbformat": 4,
 "nbformat_minor": 2
}
