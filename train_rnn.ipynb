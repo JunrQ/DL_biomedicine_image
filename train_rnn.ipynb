{
 "cells": [
  {
   "cell_type": "code",
   "execution_count": 1,
   "metadata": {},
   "outputs": [
    {
     "name": "stdout",
     "output_type": "stream",
     "text": [
      "\u001b[32m[1114 22:15:24 @logger.py:94]\u001b[0m \u001b[5m\u001b[31mWRN\u001b[0m Log directory train_log/sift-512-hidden-gls-r5/ exists! Please either backup/delete it, or use a new directory.\n",
      "\u001b[32m[1114 22:15:24 @logger.py:96]\u001b[0m \u001b[5m\u001b[31mWRN\u001b[0m If you're resuming from a previous run you can choose to keep it.\n",
      "\u001b[32m[1114 22:15:24 @logger.py:97]\u001b[0m Select Action: k (keep) / b (backup) / d (delete) / n (new) / q (quit):\n",
      "k\n",
      "\u001b[32m[1114 22:21:45 @logger.py:67]\u001b[0m Existing log file 'train_log/sift-512-hidden-gls-r5/log.log' backuped to 'train_log/sift-512-hidden-gls-r5/log.log.1114-222145'\n",
      "\u001b[32m[1114 22:21:45 @logger.py:74]\u001b[0m Argv: /home/yangyang/Applications/anaconda3/lib/python3.6/site-packages/ipykernel_launcher.py -f /run/user/1007/jupyter/kernel-e7d475b0-1365-4815-b5b2-b6c4a45352cd.json\n"
     ]
    }
   ],
   "source": [
    "%load_ext autoreload\n",
    "%autoreload 2\n",
    "\n",
    "from config.rnn import default\n",
    "from models import RNN\n",
    "import numpy as np\n",
    "from functional import seq\n",
    "import tensorflow as tf\n",
    "from tensorpack import (TrainConfig, SyncMultiGPUTrainer as Trainer, \n",
    "                        PredictConfig, MultiProcessDatasetPredictor as Predictor,\n",
    "                        SaverRestore, logger)\n",
    "from tensorpack.callbacks import (ScheduledHyperParamSetter, MaxSaver, ModelSaver,\n",
    "                                  DataParallelInferenceRunner as InfRunner)\n",
    "from tensorpack.predict import SimpleDatasetPredictor\n",
    "from tensorpack.tfutils.common import get_default_sess_config\n",
    "from utils import DataManager\n",
    "from utils.validation import (Accumulator, AggregateMetric, calcu_metrics)\n",
    "import pickle\n",
    "\n",
    "resnet_loc = \"./data/resnet_v2_101/resnet_v2_101.ckpt\"\n",
    "log_dir = 'train_log/sift-512-hidden-gls-r5/'\n",
    "feature_loc = '/data/yangyang/10_labels_feature.pickle'\n",
    "logger.set_logger_dir(log_dir)\n",
    "\n",
    "with open(feature_loc, 'rb') as f:\n",
    "    feature = pickle.load(f)"
   ]
  },
  {
   "cell_type": "code",
   "execution_count": 4,
   "metadata": {
    "scrolled": true
   },
   "outputs": [
    {
     "name": "stdout",
     "output_type": "stream",
     "text": [
      "{'train': (4278, 18731), 'val': (0, 0), 'test': (4183, 18548)}\n",
      "                                          train  val       test\n",
      "amnioserosa                           21.051546  NaN  21.489247\n",
      "anterior endoderm primordium          17.050633  NaN  17.427313\n",
      "anterior midgut primordium             8.527840  NaN   8.865566\n",
      "brain primordium                      12.667732  NaN  13.374570\n",
      "cellular blastoderm                    9.434146  NaN   9.670918\n",
      "dorsal prothoracic pharyngeal muscle  20.073892  NaN  19.915000\n",
      "embryonic brain                        9.042254  NaN   8.912322\n",
      "embryonic central nervous system      13.701031  NaN  13.780919\n",
      "embryonic dorsal epidermis            12.452830  NaN  12.237342\n",
      "embryonic foregut                     21.877005  NaN  21.132275\n",
      "embryonic head epidermis              18.990654  NaN  18.365741\n",
      "embryonic hindgut                     10.530997  NaN  10.951429\n",
      "embryonic midgut                       6.082781  NaN   6.077834\n",
      "embryonic ventral epidermis           14.170213  NaN  13.886121\n",
      "embryonic/larval muscle system        12.980392  NaN  12.943333\n",
      "faint ubiquitous                       4.148014  NaN   4.164198\n",
      "foregut primordium                    19.274882  NaN  20.561856\n",
      "head mesoderm primordium P2           16.390244  NaN  16.800000\n",
      "head mesoderm primordium P4           20.938462  NaN  20.451282\n",
      "hindgut proper primordium             15.842520  NaN  16.502092\n",
      "posterior endoderm primordium         15.976190  NaN  16.649789\n",
      "posterior endoderm primordium P2      21.051546  NaN  20.561856\n",
      "posterior midgut primordium            8.121535  NaN   8.421171\n",
      "procephalic ectoderm primordium       22.124324  NaN  22.632768\n",
      "trunk mesoderm primordium              6.750000  NaN   7.028791\n",
      "trunk mesoderm primordium P2          19.179245  NaN  18.919048\n",
      "ubiquitous                             1.677096  NaN   1.601368\n",
      "ventral nerve cord                     8.767123  NaN   8.616092\n",
      "ventral nerve cord primordium         14.116608  NaN  14.608209\n",
      "yolk nuclei                           12.163077  NaN  12.581169\n"
     ]
    },
    {
     "name": "stderr",
     "output_type": "stream",
     "text": [
      "/home/yangyang/Documents/flyexpress/DL_biomedicine_image/utils/data_manager/__init__.py:182: RuntimeWarning: invalid value encountered in double_scalars\n",
      "  posi_ratio = np.sum(binary_annot, axis=0) / binary_annot.shape[0]\n"
     ]
    }
   ],
   "source": [
    "config = default\n",
    "config.proportion = {'train': 0.52, 'val': 0.00, 'test': 0.48}\n",
    "config.stages = [2, 3, 4, 5, 6]\n",
    "config.annotation_number = 30\n",
    "config.weight_decay = 0.0\n",
    "config.dropout_keep_prob = 0.5\n",
    "config.doubly_stochastic_lambda = 0.5\n",
    "config.gamma = 0\n",
    "config.use_glimpse = True\n",
    "config.use_hidden = True\n",
    "config.read_time = 5\n",
    "config.batch_size = 128\n",
    "config.use_foreign = True\n",
    "\n",
    "ignore_restore = ['learning_rate', 'global_step']\n",
    "save_name = \"max-micro_f1.tfmodel\"\n",
    "threshold = 0.5\n",
    "\n",
    "data_manager = DataManager.from_config(config)\n",
    "data_manager.override_feature(feature)\n",
    "print(data_manager.get_num_info())\n",
    "print(data_manager.get_imbalance_ratio())\n",
    "train_data = data_manager.get_train_stream()\n",
    "#val_data = data_manager.get_validation_stream()\n",
    "test_data = data_manager.get_test_stream()"
   ]
  },
  {
   "cell_type": "code",
   "execution_count": 39,
   "metadata": {
    "collapsed": true
   },
   "outputs": [],
   "source": [
    "model = RNN(config, label_weights=data_manager.get_imbalance_ratio().train.values)"
   ]
  },
  {
   "cell_type": "code",
   "execution_count": 40,
   "metadata": {
    "scrolled": true
   },
   "outputs": [
    {
     "name": "stdout",
     "output_type": "stream",
     "text": [
      "\u001b[32m[1112 12:39:19 @inference_runner.py:82]\u001b[0m InferenceRunner will eval on an InputSource of size 5\n",
      "\u001b[32m[1112 12:39:19 @input_source.py:180]\u001b[0m Setting up the queue 'QueueInput/input_queue' for CPU prefetching ...\n",
      "\u001b[32m[1112 12:39:19 @training.py:90]\u001b[0m Building graph for training tower 0 on device LeastLoadedDeviceSetter-/gpu:1...\n",
      "INFO:tensorflow:Scale of 0 disables regularizer.\n",
      "INFO:tensorflow:Scale of 0 disables regularizer.\n",
      "INFO:tensorflow:Scale of 0 disables regularizer.\n",
      "INFO:tensorflow:Scale of 0 disables regularizer.\n",
      "INFO:tensorflow:Scale of 0 disables regularizer.\n",
      "INFO:tensorflow:Scale of 0 disables regularizer.\n",
      "INFO:tensorflow:Scale of 0 disables regularizer.\n",
      "INFO:tensorflow:Scale of 0 disables regularizer.\n",
      "INFO:tensorflow:Scale of 0 disables regularizer.\n",
      "INFO:tensorflow:Scale of 0 disables regularizer.\n",
      "INFO:tensorflow:Scale of 0 disables regularizer.\n",
      "INFO:tensorflow:Scale of 0 disables regularizer.\n",
      "INFO:tensorflow:Scale of 0 disables regularizer.\n",
      "INFO:tensorflow:Scale of 0 disables regularizer.\n",
      "INFO:tensorflow:Scale of 0 disables regularizer.\n",
      "INFO:tensorflow:Scale of 0 disables regularizer.\n",
      "INFO:tensorflow:Scale of 0 disables regularizer.\n",
      "\u001b[32m[1112 12:39:20 @model_utils.py:47]\u001b[0m \u001b[36mModel Parameters: \n",
      "\u001b[0mname                              shape           dim\n",
      "--------------------------------  -----------  ------\n",
      "rnn/process/logits_att/weights:0  [1024, 1]      1024\n",
      "rnn/process/logits_att/biases:0   [1]               1\n",
      "rnn/process/gate_att/weights:0    [512, 1]        512\n",
      "rnn/process/gate_att/biases:0     [1]               1\n",
      "rnn/process/fc_fg/weights:0       [1024, 512]  524288\n",
      "rnn/process/fc_fg/biases:0        [512]           512\n",
      "rnn/process/fc_ig/weights:0       [1024, 512]  524288\n",
      "rnn/process/fc_ig/biases:0        [512]           512\n",
      "logits/weights:0                  [512, 10]      5120\n",
      "logits/biases:0                   [10]             10\u001b[36m\n",
      "Total #vars=10, #param=1056268 (4.03 MB assuming all float32)\u001b[0m\n",
      "\u001b[32m[1112 12:39:20 @base.py:207]\u001b[0m Setup callbacks graph ...\n",
      "\u001b[32m[1112 12:39:20 @input_source.py:180]\u001b[0m Setting up the queue 'DataParallelInferenceRunner/QueueInput/input_queue' for CPU prefetching ...\n",
      "\u001b[32m[1112 12:39:20 @predict.py:51]\u001b[0m Building predictor tower 'InferenceTower0' on device /gpu:1 ...\n",
      "INFO:tensorflow:Scale of 0 disables regularizer.\n",
      "INFO:tensorflow:Scale of 0 disables regularizer.\n",
      "INFO:tensorflow:Scale of 0 disables regularizer.\n",
      "INFO:tensorflow:Scale of 0 disables regularizer.\n",
      "INFO:tensorflow:Scale of 0 disables regularizer.\n",
      "INFO:tensorflow:Scale of 0 disables regularizer.\n",
      "INFO:tensorflow:Scale of 0 disables regularizer.\n",
      "INFO:tensorflow:Scale of 0 disables regularizer.\n",
      "INFO:tensorflow:Scale of 0 disables regularizer.\n",
      "INFO:tensorflow:Scale of 0 disables regularizer.\n",
      "INFO:tensorflow:Scale of 0 disables regularizer.\n",
      "INFO:tensorflow:Scale of 0 disables regularizer.\n",
      "INFO:tensorflow:Scale of 0 disables regularizer.\n",
      "INFO:tensorflow:Scale of 0 disables regularizer.\n",
      "INFO:tensorflow:Scale of 0 disables regularizer.\n",
      "INFO:tensorflow:Scale of 0 disables regularizer.\n",
      "INFO:tensorflow:Scale of 0 disables regularizer.\n",
      "\u001b[32m[1112 12:39:21 @collection.py:152]\u001b[0m These collections were modified but restored in InferenceTower0: (tf.GraphKeys.SUMMARIES: 7->10), (tf.GraphKeys.UPDATE_OPS: 2->4)\n",
      "\u001b[32m[1112 12:39:21 @summary.py:34]\u001b[0m Maintain moving average summary of 1 tensors.\n",
      "\u001b[32m[1112 12:39:21 @graph.py:90]\u001b[0m Applying collection UPDATE_OPS of 2 ops.\n",
      "\u001b[32m[1112 12:39:22 @base.py:212]\u001b[0m Creating the session ...\n",
      "\u001b[32m[1112 12:39:22 @base.py:216]\u001b[0m Initializing the session ...\n",
      "\u001b[32m[1112 12:39:22 @base.py:223]\u001b[0m Graph Finalized.\n",
      "\u001b[32m[1112 12:39:22 @param.py:144]\u001b[0m After epoch 0, learning_rate will change to 0.00100000\n",
      "\u001b[32m[1112 12:39:22 @concurrency.py:36]\u001b[0m Starting EnqueueThread DataParallelInferenceRunner/QueueInput/input_queue ...\n",
      "\u001b[32m[1112 12:39:22 @concurrency.py:36]\u001b[0m Starting EnqueueThread QueueInput/input_queue ...\n",
      "\u001b[32m[1112 12:39:22 @base.py:257]\u001b[0m Start Epoch 1 ...\n"
     ]
    },
    {
     "name": "stderr",
     "output_type": "stream",
     "text": [
      "100%|##########|23/23[00:02<00:00, 7.69it/s]"
     ]
    },
    {
     "name": "stdout",
     "output_type": "stream",
     "text": [
      "\u001b[32m[1112 12:39:25 @base.py:267]\u001b[0m Epoch 1 (global_step 23) finished, time:2.98 sec.\n"
     ]
    },
    {
     "name": "stderr",
     "output_type": "stream",
     "text": [
      "\n",
      "100%|##########|5/5[00:01<00:00, 4.43it/s]"
     ]
    },
    {
     "name": "stdout",
     "output_type": "stream",
     "text": [
      "\u001b[32m[1112 12:39:27 @saver.py:90]\u001b[0m Model saved to train_log/sift-512-hidden-gls-r5/model-23.\n",
      "\u001b[32m[1112 12:39:27 @saver.py:159]\u001b[0m Model with maximum 'micro_f1' saved.\n",
      "\u001b[32m[1112 12:39:27 @monitor.py:362]\u001b[0m DataParallelInferenceRunner/QueueInput/queue_size: 22\n",
      "\u001b[32m[1112 12:39:27 @monitor.py:362]\u001b[0m QueueInput/queue_size: 0.10396\n",
      "\u001b[32m[1112 12:39:27 @monitor.py:362]\u001b[0m coverage: 5.2923\n",
      "\u001b[32m[1112 12:39:27 @monitor.py:362]\u001b[0m doubly_stochastic_loss: 2.2009\n",
      "\u001b[32m[1112 12:39:27 @monitor.py:362]\u001b[0m learning_rate: 0.001\n",
      "\u001b[32m[1112 12:39:27 @monitor.py:362]\u001b[0m loss/value: 16.589\n",
      "\u001b[32m[1112 12:39:27 @monitor.py:362]\u001b[0m macro_auc: 0.5316\n",
      "\u001b[32m[1112 12:39:27 @monitor.py:362]\u001b[0m macro_f1: 0.25981\n",
      "\u001b[32m[1112 12:39:27 @monitor.py:362]\u001b[0m mean_average_precision: 0.21665\n",
      "\u001b[32m[1112 12:39:27 @monitor.py:362]\u001b[0m micro_auc: 0.54085\n",
      "\u001b[32m[1112 12:39:27 @monitor.py:362]\u001b[0m micro_f1: 0.27998\n",
      "\u001b[32m[1112 12:39:27 @monitor.py:362]\u001b[0m one_error: 0.8164\n",
      "\u001b[32m[1112 12:39:27 @monitor.py:362]\u001b[0m ranking_loss: 0.46453\n",
      "\u001b[32m[1112 12:39:27 @monitor.py:362]\u001b[0m ranking_mean_average_precision: 0.37101\n",
      "\u001b[32m[1112 12:39:27 @monitor.py:362]\u001b[0m training_ap: 0.18984\n",
      "\u001b[32m[1112 12:39:27 @monitor.py:362]\u001b[0m training_auc: 0.51442\n",
      "\u001b[32m[1112 12:39:27 @base.py:257]\u001b[0m Start Epoch 2 ...\n"
     ]
    },
    {
     "name": "stderr",
     "output_type": "stream",
     "text": [
      "\n",
      "100%|##########|23/23[00:01<00:00,13.46it/s]"
     ]
    },
    {
     "name": "stdout",
     "output_type": "stream",
     "text": [
      "\u001b[32m[1112 12:39:28 @base.py:267]\u001b[0m Epoch 2 (global_step 46) finished, time:1.71 sec.\n"
     ]
    },
    {
     "name": "stderr",
     "output_type": "stream",
     "text": [
      "\n",
      "100%|##########|5/5[00:01<00:00, 4.62it/s]"
     ]
    },
    {
     "name": "stdout",
     "output_type": "stream",
     "text": [
      "\u001b[32m[1112 12:39:29 @saver.py:90]\u001b[0m Model saved to train_log/sift-512-hidden-gls-r5/model-46.\n",
      "\u001b[32m[1112 12:39:29 @saver.py:159]\u001b[0m Model with maximum 'micro_f1' saved.\n",
      "\u001b[32m[1112 12:39:29 @monitor.py:362]\u001b[0m DataParallelInferenceRunner/QueueInput/queue_size: 25.868\n",
      "\u001b[32m[1112 12:39:29 @monitor.py:362]\u001b[0m QueueInput/queue_size: 1.5384\n",
      "\u001b[32m[1112 12:39:29 @monitor.py:362]\u001b[0m coverage: 5.0695\n",
      "\u001b[32m[1112 12:39:29 @monitor.py:362]\u001b[0m doubly_stochastic_loss: 1.5263\n",
      "\u001b[32m[1112 12:39:30 @monitor.py:362]\u001b[0m learning_rate: 0.001\n",
      "\u001b[32m[1112 12:39:30 @monitor.py:362]\u001b[0m loss/value: 15.72\n",
      "\u001b[32m[1112 12:39:30 @monitor.py:362]\u001b[0m macro_auc: 0.55399\n",
      "\u001b[32m[1112 12:39:30 @monitor.py:362]\u001b[0m macro_f1: 0.26322\n",
      "\u001b[32m[1112 12:39:30 @monitor.py:362]\u001b[0m mean_average_precision: 0.2303\n",
      "\u001b[32m[1112 12:39:30 @monitor.py:362]\u001b[0m micro_auc: 0.55819\n",
      "\u001b[32m[1112 12:39:30 @monitor.py:362]\u001b[0m micro_f1: 0.28554\n",
      "\u001b[32m[1112 12:39:30 @monitor.py:362]\u001b[0m one_error: 0.79679\n",
      "\u001b[32m[1112 12:39:30 @monitor.py:362]\u001b[0m ranking_loss: 0.44512\n",
      "\u001b[32m[1112 12:39:30 @monitor.py:362]\u001b[0m ranking_mean_average_precision: 0.38575\n",
      "\u001b[32m[1112 12:39:30 @monitor.py:362]\u001b[0m training_ap: 0.19471\n",
      "\u001b[32m[1112 12:39:30 @monitor.py:362]\u001b[0m training_auc: 0.52319\n",
      "\u001b[32m[1112 12:39:30 @base.py:257]\u001b[0m Start Epoch 3 ...\n"
     ]
    },
    {
     "name": "stderr",
     "output_type": "stream",
     "text": [
      "\n",
      "100%|##########|23/23[00:01<00:00,15.41it/s]"
     ]
    },
    {
     "name": "stdout",
     "output_type": "stream",
     "text": [
      "\u001b[32m[1112 12:39:31 @base.py:267]\u001b[0m Epoch 3 (global_step 69) finished, time:1.50 sec.\n"
     ]
    },
    {
     "name": "stderr",
     "output_type": "stream",
     "text": [
      "\n",
      "100%|##########|5/5[00:00<00:00, 6.42it/s]"
     ]
    },
    {
     "name": "stdout",
     "output_type": "stream",
     "text": [
      "\u001b[32m[1112 12:39:32 @saver.py:90]\u001b[0m Model saved to train_log/sift-512-hidden-gls-r5/model-69.\n",
      "\u001b[32m[1112 12:39:32 @saver.py:159]\u001b[0m Model with maximum 'micro_f1' saved.\n",
      "\u001b[32m[1112 12:39:32 @monitor.py:362]\u001b[0m DataParallelInferenceRunner/QueueInput/queue_size: 35.145\n",
      "\u001b[32m[1112 12:39:32 @monitor.py:362]\u001b[0m QueueInput/queue_size: 4.4666\n",
      "\u001b[32m[1112 12:39:32 @monitor.py:362]\u001b[0m coverage: 4.8075\n",
      "\u001b[32m[1112 12:39:32 @monitor.py:362]\u001b[0m doubly_stochastic_loss: 1.5848\n",
      "\u001b[32m[1112 12:39:32 @monitor.py:362]\u001b[0m learning_rate: 0.001\n",
      "\u001b[32m[1112 12:39:32 @monitor.py:362]\u001b[0m loss/value: 14.784\n",
      "\u001b[32m[1112 12:39:32 @monitor.py:362]\u001b[0m macro_auc: 0.57669\n",
      "\u001b[32m[1112 12:39:32 @monitor.py:362]\u001b[0m macro_f1: 0.27672\n",
      "\u001b[32m[1112 12:39:32 @monitor.py:362]\u001b[0m mean_average_precision: 0.2431\n",
      "\u001b[32m[1112 12:39:32 @monitor.py:362]\u001b[0m micro_auc: 0.58429\n",
      "\u001b[32m[1112 12:39:32 @monitor.py:362]\u001b[0m micro_f1: 0.30125\n",
      "\u001b[32m[1112 12:39:32 @monitor.py:362]\u001b[0m one_error: 0.76292\n",
      "\u001b[32m[1112 12:39:32 @monitor.py:362]\u001b[0m ranking_loss: 0.41445\n",
      "\u001b[32m[1112 12:39:32 @monitor.py:362]\u001b[0m ranking_mean_average_precision: 0.41645\n",
      "\u001b[32m[1112 12:39:32 @monitor.py:362]\u001b[0m training_ap: 0.1983\n",
      "\u001b[32m[1112 12:39:32 @monitor.py:362]\u001b[0m training_auc: 0.53126\n",
      "\u001b[32m[1112 12:39:32 @base.py:257]\u001b[0m Start Epoch 4 ...\n"
     ]
    },
    {
     "name": "stderr",
     "output_type": "stream",
     "text": [
      "\n",
      "100%|##########|23/23[00:01<00:00,14.84it/s]"
     ]
    },
    {
     "name": "stdout",
     "output_type": "stream",
     "text": [
      "\u001b[32m[1112 12:39:34 @base.py:267]\u001b[0m Epoch 4 (global_step 92) finished, time:1.55 sec.\n"
     ]
    },
    {
     "name": "stderr",
     "output_type": "stream",
     "text": [
      "\n",
      "100%|##########|5/5[00:00<00:00, 5.92it/s]"
     ]
    },
    {
     "name": "stdout",
     "output_type": "stream",
     "text": [
      "\u001b[32m[1112 12:39:34 @saver.py:90]\u001b[0m Model saved to train_log/sift-512-hidden-gls-r5/model-92.\n",
      "\u001b[32m[1112 12:39:34 @saver.py:159]\u001b[0m Model with maximum 'micro_f1' saved.\n",
      "\u001b[32m[1112 12:39:34 @monitor.py:362]\u001b[0m DataParallelInferenceRunner/QueueInput/queue_size: 41.393\n",
      "\u001b[32m[1112 12:39:34 @monitor.py:362]\u001b[0m QueueInput/queue_size: 13.4\n",
      "\u001b[32m[1112 12:39:34 @monitor.py:362]\u001b[0m coverage: 4.6952\n",
      "\u001b[32m[1112 12:39:34 @monitor.py:362]\u001b[0m doubly_stochastic_loss: 0.35819\n",
      "\u001b[32m[1112 12:39:34 @monitor.py:362]\u001b[0m learning_rate: 0.001\n",
      "\u001b[32m[1112 12:39:34 @monitor.py:362]\u001b[0m loss/value: 13.923\n",
      "\u001b[32m[1112 12:39:34 @monitor.py:362]\u001b[0m macro_auc: 0.6001\n",
      "\u001b[32m[1112 12:39:34 @monitor.py:362]\u001b[0m macro_f1: 0.28868\n",
      "\u001b[32m[1112 12:39:34 @monitor.py:362]\u001b[0m mean_average_precision: 0.26525\n",
      "\u001b[32m[1112 12:39:34 @monitor.py:362]\u001b[0m micro_auc: 0.60312\n",
      "\u001b[32m[1112 12:39:34 @monitor.py:362]\u001b[0m micro_f1: 0.3142\n",
      "\u001b[32m[1112 12:39:34 @monitor.py:362]\u001b[0m one_error: 0.73262\n",
      "\u001b[32m[1112 12:39:34 @monitor.py:362]\u001b[0m ranking_loss: 0.39982\n",
      "\u001b[32m[1112 12:39:34 @monitor.py:362]\u001b[0m ranking_mean_average_precision: 0.42854\n",
      "\u001b[32m[1112 12:39:34 @monitor.py:362]\u001b[0m training_ap: 0.20279\n",
      "\u001b[32m[1112 12:39:34 @monitor.py:362]\u001b[0m training_auc: 0.54023\n",
      "\u001b[32m[1112 12:39:34 @base.py:257]\u001b[0m Start Epoch 5 ...\n"
     ]
    },
    {
     "name": "stderr",
     "output_type": "stream",
     "text": [
      "\n",
      "100%|##########|23/23[00:01<00:00,15.47it/s]"
     ]
    },
    {
     "name": "stdout",
     "output_type": "stream",
     "text": [
      "\u001b[32m[1112 12:39:36 @base.py:267]\u001b[0m Epoch 5 (global_step 115) finished, time:1.49 sec.\n"
     ]
    },
    {
     "name": "stderr",
     "output_type": "stream",
     "text": [
      "\n",
      "100%|##########|5/5[00:00<00:00, 6.28it/s]"
     ]
    },
    {
     "name": "stdout",
     "output_type": "stream",
     "text": [
      "\u001b[32m[1112 12:39:37 @saver.py:90]\u001b[0m Model saved to train_log/sift-512-hidden-gls-r5/model-115.\n",
      "\u001b[32m[1112 12:39:37 @saver.py:159]\u001b[0m Model with maximum 'micro_f1' saved.\n",
      "\u001b[32m[1112 12:39:37 @monitor.py:362]\u001b[0m DataParallelInferenceRunner/QueueInput/queue_size: 44.548\n",
      "\u001b[32m[1112 12:39:37 @monitor.py:362]\u001b[0m QueueInput/queue_size: 24.395\n",
      "\u001b[32m[1112 12:39:37 @monitor.py:362]\u001b[0m coverage: 4.5882\n",
      "\u001b[32m[1112 12:39:37 @monitor.py:362]\u001b[0m doubly_stochastic_loss: 1.9687\n",
      "\u001b[32m[1112 12:39:37 @monitor.py:362]\u001b[0m learning_rate: 0.001\n",
      "\u001b[32m[1112 12:39:37 @monitor.py:362]\u001b[0m loss/value: 13.495\n",
      "\u001b[32m[1112 12:39:37 @monitor.py:362]\u001b[0m macro_auc: 0.61991\n",
      "\u001b[32m[1112 12:39:37 @monitor.py:362]\u001b[0m macro_f1: 0.30246\n",
      "\u001b[32m[1112 12:39:37 @monitor.py:362]\u001b[0m mean_average_precision: 0.28015\n",
      "\u001b[32m[1112 12:39:37 @monitor.py:362]\u001b[0m micro_auc: 0.62474\n",
      "\u001b[32m[1112 12:39:37 @monitor.py:362]\u001b[0m micro_f1: 0.32676\n",
      "\u001b[32m[1112 12:39:37 @monitor.py:362]\u001b[0m one_error: 0.72193\n",
      "\u001b[32m[1112 12:39:37 @monitor.py:362]\u001b[0m ranking_loss: 0.38738\n",
      "\u001b[32m[1112 12:39:37 @monitor.py:362]\u001b[0m ranking_mean_average_precision: 0.43639\n",
      "\u001b[32m[1112 12:39:37 @monitor.py:362]\u001b[0m training_ap: 0.20632\n",
      "\u001b[32m[1112 12:39:37 @monitor.py:362]\u001b[0m training_auc: 0.54812\n",
      "\u001b[32m[1112 12:39:37 @base.py:257]\u001b[0m Start Epoch 6 ...\n"
     ]
    },
    {
     "name": "stderr",
     "output_type": "stream",
     "text": [
      "\n",
      "100%|##########|23/23[00:01<00:00,14.27it/s]"
     ]
    },
    {
     "name": "stdout",
     "output_type": "stream",
     "text": [
      "\u001b[32m[1112 12:39:39 @base.py:267]\u001b[0m Epoch 6 (global_step 138) finished, time:1.61 sec.\n"
     ]
    },
    {
     "name": "stderr",
     "output_type": "stream",
     "text": [
      "\n",
      "100%|##########|5/5[00:00<00:00, 6.29it/s]"
     ]
    },
    {
     "name": "stdout",
     "output_type": "stream",
     "text": [
      "\u001b[32m[1112 12:39:39 @saver.py:90]\u001b[0m Model saved to train_log/sift-512-hidden-gls-r5/model-138.\n",
      "\u001b[32m[1112 12:39:39 @saver.py:159]\u001b[0m Model with maximum 'micro_f1' saved.\n",
      "\u001b[32m[1112 12:39:39 @monitor.py:362]\u001b[0m DataParallelInferenceRunner/QueueInput/queue_size: 46.308\n",
      "\u001b[32m[1112 12:39:39 @monitor.py:362]\u001b[0m QueueInput/queue_size: 35.145\n",
      "\u001b[32m[1112 12:39:39 @monitor.py:362]\u001b[0m coverage: 4.4225\n",
      "\u001b[32m[1112 12:39:39 @monitor.py:362]\u001b[0m doubly_stochastic_loss: 0.59132\n",
      "\u001b[32m[1112 12:39:39 @monitor.py:362]\u001b[0m learning_rate: 0.001\n",
      "\u001b[32m[1112 12:39:39 @monitor.py:362]\u001b[0m loss/value: 13.046\n",
      "\u001b[32m[1112 12:39:39 @monitor.py:362]\u001b[0m macro_auc: 0.64003\n",
      "\u001b[32m[1112 12:39:39 @monitor.py:362]\u001b[0m macro_f1: 0.31295\n",
      "\u001b[32m[1112 12:39:39 @monitor.py:362]\u001b[0m mean_average_precision: 0.29261\n",
      "\u001b[32m[1112 12:39:39 @monitor.py:362]\u001b[0m micro_auc: 0.63834\n",
      "\u001b[32m[1112 12:39:39 @monitor.py:362]\u001b[0m micro_f1: 0.33725\n",
      "\u001b[32m[1112 12:39:39 @monitor.py:362]\u001b[0m one_error: 0.70232\n",
      "\u001b[32m[1112 12:39:39 @monitor.py:362]\u001b[0m ranking_loss: 0.37079\n",
      "\u001b[32m[1112 12:39:39 @monitor.py:362]\u001b[0m ranking_mean_average_precision: 0.44833\n",
      "\u001b[32m[1112 12:39:39 @monitor.py:362]\u001b[0m training_ap: 0.2098\n",
      "\u001b[32m[1112 12:39:39 @monitor.py:362]\u001b[0m training_auc: 0.55451\n",
      "\u001b[32m[1112 12:39:39 @base.py:257]\u001b[0m Start Epoch 7 ...\n"
     ]
    },
    {
     "name": "stderr",
     "output_type": "stream",
     "text": [
      "\n",
      "100%|##########|23/23[00:01<00:00,14.74it/s]"
     ]
    },
    {
     "name": "stdout",
     "output_type": "stream",
     "text": [
      "\u001b[32m[1112 12:39:41 @base.py:267]\u001b[0m Epoch 7 (global_step 161) finished, time:1.57 sec.\n"
     ]
    },
    {
     "name": "stderr",
     "output_type": "stream",
     "text": [
      "\n",
      "100%|##########|5/5[00:00<00:00, 8.77it/s]"
     ]
    },
    {
     "name": "stdout",
     "output_type": "stream",
     "text": [
      "\u001b[32m[1112 12:39:42 @saver.py:90]\u001b[0m Model saved to train_log/sift-512-hidden-gls-r5/model-161.\n",
      "\u001b[32m[1112 12:39:42 @saver.py:159]\u001b[0m Model with maximum 'micro_f1' saved.\n",
      "\u001b[32m[1112 12:39:42 @monitor.py:362]\u001b[0m DataParallelInferenceRunner/QueueInput/queue_size: 47.459\n",
      "\u001b[32m[1112 12:39:42 @monitor.py:362]\u001b[0m QueueInput/queue_size: 44.134\n",
      "\u001b[32m[1112 12:39:42 @monitor.py:362]\u001b[0m coverage: 4.2246\n",
      "\u001b[32m[1112 12:39:42 @monitor.py:362]\u001b[0m doubly_stochastic_loss: 0.39106\n",
      "\u001b[32m[1112 12:39:42 @monitor.py:362]\u001b[0m learning_rate: 0.001\n",
      "\u001b[32m[1112 12:39:42 @monitor.py:362]\u001b[0m loss/value: 12.58\n",
      "\u001b[32m[1112 12:39:42 @monitor.py:362]\u001b[0m macro_auc: 0.65208\n",
      "\u001b[32m[1112 12:39:42 @monitor.py:362]\u001b[0m macro_f1: 0.31809\n",
      "\u001b[32m[1112 12:39:42 @monitor.py:362]\u001b[0m mean_average_precision: 0.30122\n",
      "\u001b[32m[1112 12:39:42 @monitor.py:362]\u001b[0m micro_auc: 0.65205\n",
      "\u001b[32m[1112 12:39:42 @monitor.py:362]\u001b[0m micro_f1: 0.34305\n",
      "\u001b[32m[1112 12:39:42 @monitor.py:362]\u001b[0m one_error: 0.69875\n",
      "\u001b[32m[1112 12:39:42 @monitor.py:362]\u001b[0m ranking_loss: 0.3535\n",
      "\u001b[32m[1112 12:39:42 @monitor.py:362]\u001b[0m ranking_mean_average_precision: 0.46443\n",
      "\u001b[32m[1112 12:39:42 @monitor.py:362]\u001b[0m training_ap: 0.2136\n",
      "\u001b[32m[1112 12:39:42 @monitor.py:362]\u001b[0m training_auc: 0.56149\n",
      "\u001b[32m[1112 12:39:42 @base.py:257]\u001b[0m Start Epoch 8 ...\n"
     ]
    },
    {
     "name": "stderr",
     "output_type": "stream",
     "text": [
      "\n",
      "100%|##########|23/23[00:01<00:00,15.06it/s]"
     ]
    },
    {
     "name": "stdout",
     "output_type": "stream",
     "text": [
      "\u001b[32m[1112 12:39:43 @base.py:267]\u001b[0m Epoch 8 (global_step 184) finished, time:1.53 sec.\n"
     ]
    },
    {
     "name": "stderr",
     "output_type": "stream",
     "text": [
      "\n",
      "100%|##########|5/5[00:00<00:00,11.13it/s]"
     ]
    },
    {
     "name": "stdout",
     "output_type": "stream",
     "text": [
      "\u001b[32m[1112 12:39:44 @saver.py:90]\u001b[0m Model saved to train_log/sift-512-hidden-gls-r5/model-184.\n",
      "\u001b[32m[1112 12:39:44 @saver.py:159]\u001b[0m Model with maximum 'micro_f1' saved.\n",
      "\u001b[32m[1112 12:39:44 @monitor.py:362]\u001b[0m DataParallelInferenceRunner/QueueInput/queue_size: 48.17\n",
      "\u001b[32m[1112 12:39:44 @monitor.py:362]\u001b[0m QueueInput/queue_size: 48.008\n",
      "\u001b[32m[1112 12:39:44 @monitor.py:362]\u001b[0m coverage: 4.0856\n",
      "\u001b[32m[1112 12:39:44 @monitor.py:362]\u001b[0m doubly_stochastic_loss: 0.49059\n",
      "\u001b[32m[1112 12:39:44 @monitor.py:362]\u001b[0m learning_rate: 0.001\n",
      "\u001b[32m[1112 12:39:44 @monitor.py:362]\u001b[0m loss/value: 12.257\n",
      "\u001b[32m[1112 12:39:44 @monitor.py:362]\u001b[0m macro_auc: 0.67736\n",
      "\u001b[32m[1112 12:39:44 @monitor.py:362]\u001b[0m macro_f1: 0.33577\n",
      "\u001b[32m[1112 12:39:44 @monitor.py:362]\u001b[0m mean_average_precision: 0.3298\n",
      "\u001b[32m[1112 12:39:44 @monitor.py:362]\u001b[0m micro_auc: 0.67397\n",
      "\u001b[32m[1112 12:39:44 @monitor.py:362]\u001b[0m micro_f1: 0.35945\n",
      "\u001b[32m[1112 12:39:44 @monitor.py:362]\u001b[0m one_error: 0.65597\n",
      "\u001b[32m[1112 12:39:44 @monitor.py:362]\u001b[0m ranking_loss: 0.3347\n",
      "\u001b[32m[1112 12:39:44 @monitor.py:362]\u001b[0m ranking_mean_average_precision: 0.49144\n",
      "\u001b[32m[1112 12:39:44 @monitor.py:362]\u001b[0m training_ap: 0.21732\n",
      "\u001b[32m[1112 12:39:44 @monitor.py:362]\u001b[0m training_auc: 0.56899\n",
      "\u001b[32m[1112 12:39:44 @base.py:257]\u001b[0m Start Epoch 9 ...\n"
     ]
    },
    {
     "name": "stderr",
     "output_type": "stream",
     "text": [
      "\n",
      "100%|##########|23/23[00:01<00:00,15.02it/s]"
     ]
    },
    {
     "name": "stdout",
     "output_type": "stream",
     "text": [
      "\u001b[32m[1112 12:39:45 @base.py:267]\u001b[0m Epoch 9 (global_step 207) finished, time:1.58 sec.\n"
     ]
    },
    {
     "name": "stderr",
     "output_type": "stream",
     "text": [
      "\n",
      "100%|##########|5/5[00:00<00:00,10.26it/s]"
     ]
    },
    {
     "name": "stdout",
     "output_type": "stream",
     "text": [
      "\u001b[32m[1112 12:39:46 @saver.py:90]\u001b[0m Model saved to train_log/sift-512-hidden-gls-r5/model-207.\n",
      "\u001b[32m[1112 12:39:46 @saver.py:159]\u001b[0m Model with maximum 'micro_f1' saved.\n",
      "\u001b[32m[1112 12:39:46 @monitor.py:362]\u001b[0m DataParallelInferenceRunner/QueueInput/queue_size: 48.697\n",
      "\u001b[32m[1112 12:39:46 @monitor.py:362]\u001b[0m QueueInput/queue_size: 49.194\n",
      "\u001b[32m[1112 12:39:46 @monitor.py:362]\u001b[0m coverage: 3.8681\n",
      "\u001b[32m[1112 12:39:46 @monitor.py:362]\u001b[0m doubly_stochastic_loss: 0.94187\n",
      "\u001b[32m[1112 12:39:46 @monitor.py:362]\u001b[0m learning_rate: 0.001\n",
      "\u001b[32m[1112 12:39:46 @monitor.py:362]\u001b[0m loss/value: 12.083\n",
      "\u001b[32m[1112 12:39:46 @monitor.py:362]\u001b[0m macro_auc: 0.69039\n",
      "\u001b[32m[1112 12:39:46 @monitor.py:362]\u001b[0m macro_f1: 0.34531\n",
      "\u001b[32m[1112 12:39:46 @monitor.py:362]\u001b[0m mean_average_precision: 0.33858\n",
      "\u001b[32m[1112 12:39:46 @monitor.py:362]\u001b[0m micro_auc: 0.68944\n",
      "\u001b[32m[1112 12:39:46 @monitor.py:362]\u001b[0m micro_f1: 0.36936\n",
      "\u001b[32m[1112 12:39:46 @monitor.py:362]\u001b[0m one_error: 0.64349\n",
      "\u001b[32m[1112 12:39:46 @monitor.py:362]\u001b[0m ranking_loss: 0.31304\n",
      "\u001b[32m[1112 12:39:46 @monitor.py:362]\u001b[0m ranking_mean_average_precision: 0.50586\n",
      "\u001b[32m[1112 12:39:46 @monitor.py:362]\u001b[0m training_ap: 0.22065\n",
      "\u001b[32m[1112 12:39:46 @monitor.py:362]\u001b[0m training_auc: 0.57535\n",
      "\u001b[32m[1112 12:39:46 @base.py:257]\u001b[0m Start Epoch 10 ...\n"
     ]
    },
    {
     "name": "stderr",
     "output_type": "stream",
     "text": [
      "\n",
      "100%|##########|23/23[00:01<00:00,14.75it/s]"
     ]
    },
    {
     "name": "stdout",
     "output_type": "stream",
     "text": [
      "\u001b[32m[1112 12:39:47 @base.py:267]\u001b[0m Epoch 10 (global_step 230) finished, time:1.56 sec.\n"
     ]
    },
    {
     "name": "stderr",
     "output_type": "stream",
     "text": [
      "\n",
      "100%|##########|5/5[00:00<00:00, 9.79it/s]"
     ]
    },
    {
     "name": "stdout",
     "output_type": "stream",
     "text": [
      "\u001b[32m[1112 12:39:48 @saver.py:90]\u001b[0m Model saved to train_log/sift-512-hidden-gls-r5/model-230.\n",
      "\u001b[32m[1112 12:39:48 @saver.py:159]\u001b[0m Model with maximum 'micro_f1' saved.\n",
      "\u001b[32m[1112 12:39:48 @monitor.py:362]\u001b[0m DataParallelInferenceRunner/QueueInput/queue_size: 49.021\n",
      "\u001b[32m[1112 12:39:48 @monitor.py:362]\u001b[0m QueueInput/queue_size: 49.69\n",
      "\u001b[32m[1112 12:39:48 @monitor.py:362]\u001b[0m coverage: 3.6506\n",
      "\u001b[32m[1112 12:39:48 @monitor.py:362]\u001b[0m doubly_stochastic_loss: 2.2305\n",
      "\u001b[32m[1112 12:39:48 @monitor.py:362]\u001b[0m learning_rate: 0.001\n",
      "\u001b[32m[1112 12:39:48 @monitor.py:362]\u001b[0m loss/value: 11.947\n",
      "\u001b[32m[1112 12:39:48 @monitor.py:362]\u001b[0m macro_auc: 0.71878\n",
      "\u001b[32m[1112 12:39:48 @monitor.py:362]\u001b[0m macro_f1: 0.36459\n",
      "\u001b[32m[1112 12:39:48 @monitor.py:362]\u001b[0m mean_average_precision: 0.37261\n",
      "\u001b[32m[1112 12:39:48 @monitor.py:362]\u001b[0m micro_auc: 0.7151\n",
      "\u001b[32m[1112 12:39:48 @monitor.py:362]\u001b[0m micro_f1: 0.38831\n",
      "\u001b[32m[1112 12:39:48 @monitor.py:362]\u001b[0m one_error: 0.59537\n",
      "\u001b[32m[1112 12:39:48 @monitor.py:362]\u001b[0m ranking_loss: 0.29091\n",
      "\u001b[32m[1112 12:39:48 @monitor.py:362]\u001b[0m ranking_mean_average_precision: 0.53566\n",
      "\u001b[32m[1112 12:39:48 @monitor.py:362]\u001b[0m training_ap: 0.22451\n",
      "\u001b[32m[1112 12:39:48 @monitor.py:362]\u001b[0m training_auc: 0.58215\n",
      "\u001b[32m[1112 12:39:48 @base.py:257]\u001b[0m Start Epoch 11 ...\n"
     ]
    },
    {
     "name": "stderr",
     "output_type": "stream",
     "text": [
      "\n",
      "100%|##########|23/23[00:01<00:00,14.81it/s]"
     ]
    },
    {
     "name": "stdout",
     "output_type": "stream",
     "text": [
      "\u001b[32m[1112 12:39:49 @base.py:267]\u001b[0m Epoch 11 (global_step 253) finished, time:1.56 sec.\n"
     ]
    },
    {
     "name": "stderr",
     "output_type": "stream",
     "text": [
      "\n",
      "100%|##########|5/5[00:00<00:00, 9.27it/s]"
     ]
    },
    {
     "name": "stdout",
     "output_type": "stream",
     "text": [
      "\u001b[32m[1112 12:39:50 @saver.py:90]\u001b[0m Model saved to train_log/sift-512-hidden-gls-r5/model-253.\n",
      "\u001b[32m[1112 12:39:50 @saver.py:159]\u001b[0m Model with maximum 'micro_f1' saved.\n",
      "\u001b[32m[1112 12:39:50 @monitor.py:362]\u001b[0m DataParallelInferenceRunner/QueueInput/queue_size: 49.245\n",
      "\u001b[32m[1112 12:39:50 @monitor.py:362]\u001b[0m QueueInput/queue_size: 49.829\n",
      "\u001b[32m[1112 12:39:50 @monitor.py:362]\u001b[0m coverage: 3.7308\n",
      "\u001b[32m[1112 12:39:50 @monitor.py:362]\u001b[0m doubly_stochastic_loss: 0.94944\n",
      "\u001b[32m[1112 12:39:50 @monitor.py:362]\u001b[0m learning_rate: 0.001\n",
      "\u001b[32m[1112 12:39:50 @monitor.py:362]\u001b[0m loss/value: 11.832\n",
      "\u001b[32m[1112 12:39:50 @monitor.py:362]\u001b[0m macro_auc: 0.71687\n",
      "\u001b[32m[1112 12:39:50 @monitor.py:362]\u001b[0m macro_f1: 0.3664\n",
      "\u001b[32m[1112 12:39:50 @monitor.py:362]\u001b[0m mean_average_precision: 0.39021\n",
      "\u001b[32m[1112 12:39:50 @monitor.py:362]\u001b[0m micro_auc: 0.71479\n",
      "\u001b[32m[1112 12:39:50 @monitor.py:362]\u001b[0m micro_f1: 0.39206\n",
      "\u001b[32m[1112 12:39:50 @monitor.py:362]\u001b[0m one_error: 0.6025\n",
      "\u001b[32m[1112 12:39:50 @monitor.py:362]\u001b[0m ranking_loss: 0.29698\n",
      "\u001b[32m[1112 12:39:50 @monitor.py:362]\u001b[0m ranking_mean_average_precision: 0.53163\n",
      "\u001b[32m[1112 12:39:50 @monitor.py:362]\u001b[0m training_ap: 0.22824\n",
      "\u001b[32m[1112 12:39:50 @monitor.py:362]\u001b[0m training_auc: 0.58795\n",
      "\u001b[32m[1112 12:39:50 @base.py:257]\u001b[0m Start Epoch 12 ...\n"
     ]
    },
    {
     "name": "stderr",
     "output_type": "stream",
     "text": [
      "\n",
      "100%|##########|23/23[00:01<00:00,15.21it/s]"
     ]
    },
    {
     "name": "stdout",
     "output_type": "stream",
     "text": [
      "\u001b[32m[1112 12:39:52 @base.py:267]\u001b[0m Epoch 12 (global_step 276) finished, time:1.52 sec.\n"
     ]
    },
    {
     "name": "stderr",
     "output_type": "stream",
     "text": [
      "\n",
      "100%|##########|5/5[00:00<00:00,11.02it/s]"
     ]
    },
    {
     "name": "stdout",
     "output_type": "stream",
     "text": [
      "\u001b[32m[1112 12:39:52 @saver.py:90]\u001b[0m Model saved to train_log/sift-512-hidden-gls-r5/model-276.\n",
      "\u001b[32m[1112 12:39:52 @saver.py:159]\u001b[0m Model with maximum 'micro_f1' saved.\n",
      "\u001b[32m[1112 12:39:52 @monitor.py:362]\u001b[0m DataParallelInferenceRunner/QueueInput/queue_size: 49.452\n",
      "\u001b[32m[1112 12:39:52 @monitor.py:362]\u001b[0m QueueInput/queue_size: 49.813\n",
      "\u001b[32m[1112 12:39:52 @monitor.py:362]\u001b[0m coverage: 3.5989\n",
      "\u001b[32m[1112 12:39:52 @monitor.py:362]\u001b[0m doubly_stochastic_loss: 0.44303\n",
      "\u001b[32m[1112 12:39:52 @monitor.py:362]\u001b[0m learning_rate: 0.001\n",
      "\u001b[32m[1112 12:39:52 @monitor.py:362]\u001b[0m loss/value: 11.468\n",
      "\u001b[32m[1112 12:39:52 @monitor.py:362]\u001b[0m macro_auc: 0.72541\n",
      "\u001b[32m[1112 12:39:52 @monitor.py:362]\u001b[0m macro_f1: 0.37237\n",
      "\u001b[32m[1112 12:39:52 @monitor.py:362]\u001b[0m mean_average_precision: 0.37732\n",
      "\u001b[32m[1112 12:39:52 @monitor.py:362]\u001b[0m micro_auc: 0.72178\n",
      "\u001b[32m[1112 12:39:52 @monitor.py:362]\u001b[0m micro_f1: 0.39817\n",
      "\u001b[32m[1112 12:39:52 @monitor.py:362]\u001b[0m one_error: 0.61141\n",
      "\u001b[32m[1112 12:39:52 @monitor.py:362]\u001b[0m ranking_loss: 0.28949\n",
      "\u001b[32m[1112 12:39:52 @monitor.py:362]\u001b[0m ranking_mean_average_precision: 0.53447\n",
      "\u001b[32m[1112 12:39:52 @monitor.py:362]\u001b[0m training_ap: 0.23197\n",
      "\u001b[32m[1112 12:39:52 @monitor.py:362]\u001b[0m training_auc: 0.59411\n",
      "\u001b[32m[1112 12:39:52 @base.py:257]\u001b[0m Start Epoch 13 ...\n"
     ]
    },
    {
     "name": "stderr",
     "output_type": "stream",
     "text": [
      "\n",
      "100%|##########|23/23[00:01<00:00,15.04it/s]"
     ]
    },
    {
     "name": "stdout",
     "output_type": "stream",
     "text": [
      "\u001b[32m[1112 12:39:54 @base.py:267]\u001b[0m Epoch 13 (global_step 299) finished, time:1.53 sec.\n"
     ]
    },
    {
     "name": "stderr",
     "output_type": "stream",
     "text": [
      "\n",
      "100%|##########|5/5[00:00<00:00,11.44it/s]"
     ]
    },
    {
     "name": "stdout",
     "output_type": "stream",
     "text": [
      "\u001b[32m[1112 12:39:54 @saver.py:90]\u001b[0m Model saved to train_log/sift-512-hidden-gls-r5/model-299.\n",
      "\u001b[32m[1112 12:39:54 @saver.py:159]\u001b[0m Model with maximum 'micro_f1' saved.\n",
      "\u001b[32m[1112 12:39:54 @monitor.py:362]\u001b[0m DataParallelInferenceRunner/QueueInput/queue_size: 49.6\n",
      "\u001b[32m[1112 12:39:54 @monitor.py:362]\u001b[0m QueueInput/queue_size: 49.889\n",
      "\u001b[32m[1112 12:39:54 @monitor.py:362]\u001b[0m coverage: 3.4332\n",
      "\u001b[32m[1112 12:39:54 @monitor.py:362]\u001b[0m doubly_stochastic_loss: 0.63002\n",
      "\u001b[32m[1112 12:39:54 @monitor.py:362]\u001b[0m learning_rate: 0.001\n",
      "\u001b[32m[1112 12:39:54 @monitor.py:362]\u001b[0m loss/value: 11.433\n",
      "\u001b[32m[1112 12:39:54 @monitor.py:362]\u001b[0m macro_auc: 0.75374\n",
      "\u001b[32m[1112 12:39:54 @monitor.py:362]\u001b[0m macro_f1: 0.3907\n",
      "\u001b[32m[1112 12:39:54 @monitor.py:362]\u001b[0m mean_average_precision: 0.41426\n",
      "\u001b[32m[1112 12:39:54 @monitor.py:362]\u001b[0m micro_auc: 0.7438\n",
      "\u001b[32m[1112 12:39:54 @monitor.py:362]\u001b[0m micro_f1: 0.41666\n",
      "\u001b[32m[1112 12:39:54 @monitor.py:362]\u001b[0m one_error: 0.58467\n",
      "\u001b[32m[1112 12:39:54 @monitor.py:362]\u001b[0m ranking_loss: 0.2697\n",
      "\u001b[32m[1112 12:39:54 @monitor.py:362]\u001b[0m ranking_mean_average_precision: 0.55749\n",
      "\u001b[32m[1112 12:39:54 @monitor.py:362]\u001b[0m training_ap: 0.23623\n",
      "\u001b[32m[1112 12:39:54 @monitor.py:362]\u001b[0m training_auc: 0.60041\n",
      "\u001b[32m[1112 12:39:54 @base.py:257]\u001b[0m Start Epoch 14 ...\n"
     ]
    },
    {
     "name": "stderr",
     "output_type": "stream",
     "text": [
      "\n",
      "100%|##########|23/23[00:01<00:00,14.96it/s]"
     ]
    },
    {
     "name": "stdout",
     "output_type": "stream",
     "text": [
      "\u001b[32m[1112 12:39:56 @base.py:267]\u001b[0m Epoch 14 (global_step 322) finished, time:1.54 sec.\n"
     ]
    },
    {
     "name": "stderr",
     "output_type": "stream",
     "text": [
      "\n",
      "100%|##########|5/5[00:00<00:00,10.71it/s]"
     ]
    },
    {
     "name": "stdout",
     "output_type": "stream",
     "text": [
      "\u001b[32m[1112 12:39:56 @saver.py:90]\u001b[0m Model saved to train_log/sift-512-hidden-gls-r5/model-322.\n",
      "\u001b[32m[1112 12:39:56 @saver.py:159]\u001b[0m Model with maximum 'micro_f1' saved.\n",
      "\u001b[32m[1112 12:39:56 @monitor.py:362]\u001b[0m DataParallelInferenceRunner/QueueInput/queue_size: 49.708\n",
      "\u001b[32m[1112 12:39:56 @monitor.py:362]\u001b[0m QueueInput/queue_size: 49.865\n",
      "\u001b[32m[1112 12:39:56 @monitor.py:362]\u001b[0m coverage: 3.3583\n",
      "\u001b[32m[1112 12:39:56 @monitor.py:362]\u001b[0m doubly_stochastic_loss: 0.3122\n",
      "\u001b[32m[1112 12:39:56 @monitor.py:362]\u001b[0m learning_rate: 0.001\n",
      "\u001b[32m[1112 12:39:56 @monitor.py:362]\u001b[0m loss/value: 11.265\n",
      "\u001b[32m[1112 12:39:56 @monitor.py:362]\u001b[0m macro_auc: 0.7638\n",
      "\u001b[32m[1112 12:39:56 @monitor.py:362]\u001b[0m macro_f1: 0.41018\n",
      "\u001b[32m[1112 12:39:56 @monitor.py:362]\u001b[0m mean_average_precision: 0.43552\n",
      "\u001b[32m[1112 12:39:56 @monitor.py:362]\u001b[0m micro_auc: 0.75627\n",
      "\u001b[32m[1112 12:39:56 @monitor.py:362]\u001b[0m micro_f1: 0.43331\n",
      "\u001b[32m[1112 12:39:56 @monitor.py:362]\u001b[0m one_error: 0.55437\n",
      "\u001b[32m[1112 12:39:56 @monitor.py:362]\u001b[0m ranking_loss: 0.25773\n",
      "\u001b[32m[1112 12:39:56 @monitor.py:362]\u001b[0m ranking_mean_average_precision: 0.57626\n",
      "\u001b[32m[1112 12:39:56 @monitor.py:362]\u001b[0m training_ap: 0.24036\n",
      "\u001b[32m[1112 12:39:56 @monitor.py:362]\u001b[0m training_auc: 0.6064\n",
      "\u001b[32m[1112 12:39:56 @base.py:257]\u001b[0m Start Epoch 15 ...\n"
     ]
    },
    {
     "name": "stderr",
     "output_type": "stream",
     "text": [
      "\n",
      "100%|##########|23/23[00:01<00:00,15.38it/s]"
     ]
    },
    {
     "name": "stdout",
     "output_type": "stream",
     "text": [
      "\u001b[32m[1112 12:39:58 @base.py:267]\u001b[0m Epoch 15 (global_step 345) finished, time:1.50 sec.\n"
     ]
    },
    {
     "name": "stderr",
     "output_type": "stream",
     "text": [
      "\n",
      "100%|##########|5/5[00:00<00:00, 9.58it/s]"
     ]
    },
    {
     "name": "stdout",
     "output_type": "stream",
     "text": [
      "\u001b[32m[1112 12:39:58 @saver.py:90]\u001b[0m Model saved to train_log/sift-512-hidden-gls-r5/model-345.\n",
      "\u001b[32m[1112 12:39:58 @monitor.py:362]\u001b[0m DataParallelInferenceRunner/QueueInput/queue_size: 49.786\n",
      "\u001b[32m[1112 12:39:58 @monitor.py:362]\u001b[0m QueueInput/queue_size: 49.864\n",
      "\u001b[32m[1112 12:39:58 @monitor.py:362]\u001b[0m coverage: 3.2585\n",
      "\u001b[32m[1112 12:39:58 @monitor.py:362]\u001b[0m doubly_stochastic_loss: 0.40232\n",
      "\u001b[32m[1112 12:39:58 @monitor.py:362]\u001b[0m learning_rate: 0.001\n",
      "\u001b[32m[1112 12:39:58 @monitor.py:362]\u001b[0m loss/value: 11.134\n",
      "\u001b[32m[1112 12:39:58 @monitor.py:362]\u001b[0m macro_auc: 0.76047\n",
      "\u001b[32m[1112 12:39:58 @monitor.py:362]\u001b[0m macro_f1: 0.40183\n",
      "\u001b[32m[1112 12:39:58 @monitor.py:362]\u001b[0m mean_average_precision: 0.43673\n",
      "\u001b[32m[1112 12:39:58 @monitor.py:362]\u001b[0m micro_auc: 0.75949\n",
      "\u001b[32m[1112 12:39:58 @monitor.py:362]\u001b[0m micro_f1: 0.42836\n",
      "\u001b[32m[1112 12:39:58 @monitor.py:362]\u001b[0m one_error: 0.56863\n",
      "\u001b[32m[1112 12:39:58 @monitor.py:362]\u001b[0m ranking_loss: 0.25412\n",
      "\u001b[32m[1112 12:39:58 @monitor.py:362]\u001b[0m ranking_mean_average_precision: 0.57763\n",
      "\u001b[32m[1112 12:39:58 @monitor.py:362]\u001b[0m training_ap: 0.24423\n",
      "\u001b[32m[1112 12:39:58 @monitor.py:362]\u001b[0m training_auc: 0.61236\n",
      "\u001b[32m[1112 12:39:58 @base.py:257]\u001b[0m Start Epoch 16 ...\n"
     ]
    },
    {
     "name": "stderr",
     "output_type": "stream",
     "text": [
      "\n",
      "100%|##########|23/23[00:01<00:00,15.29it/s]"
     ]
    },
    {
     "name": "stdout",
     "output_type": "stream",
     "text": [
      "\u001b[32m[1112 12:40:00 @base.py:267]\u001b[0m Epoch 16 (global_step 368) finished, time:1.52 sec.\n"
     ]
    },
    {
     "name": "stderr",
     "output_type": "stream",
     "text": [
      "\n",
      "100%|##########|5/5[00:00<00:00,10.07it/s]"
     ]
    },
    {
     "name": "stdout",
     "output_type": "stream",
     "text": [
      "\u001b[32m[1112 12:40:00 @saver.py:90]\u001b[0m Model saved to train_log/sift-512-hidden-gls-r5/model-368.\n",
      "\u001b[32m[1112 12:40:00 @saver.py:159]\u001b[0m Model with maximum 'micro_f1' saved.\n",
      "\u001b[32m[1112 12:40:00 @monitor.py:362]\u001b[0m DataParallelInferenceRunner/QueueInput/queue_size: 49.8\n",
      "\u001b[32m[1112 12:40:00 @monitor.py:362]\u001b[0m QueueInput/queue_size: 49.911\n",
      "\u001b[32m[1112 12:40:01 @monitor.py:362]\u001b[0m coverage: 3.0927\n",
      "\u001b[32m[1112 12:40:01 @monitor.py:362]\u001b[0m doubly_stochastic_loss: 0.54743\n",
      "\u001b[32m[1112 12:40:01 @monitor.py:362]\u001b[0m learning_rate: 0.001\n",
      "\u001b[32m[1112 12:40:01 @monitor.py:362]\u001b[0m loss/value: 10.897\n",
      "\u001b[32m[1112 12:40:01 @monitor.py:362]\u001b[0m macro_auc: 0.77815\n",
      "\u001b[32m[1112 12:40:01 @monitor.py:362]\u001b[0m macro_f1: 0.42091\n",
      "\u001b[32m[1112 12:40:01 @monitor.py:362]\u001b[0m mean_average_precision: 0.45008\n",
      "\u001b[32m[1112 12:40:01 @monitor.py:362]\u001b[0m micro_auc: 0.77569\n",
      "\u001b[32m[1112 12:40:01 @monitor.py:362]\u001b[0m micro_f1: 0.44871\n",
      "\u001b[32m[1112 12:40:01 @monitor.py:362]\u001b[0m one_error: 0.53654\n",
      "\u001b[32m[1112 12:40:01 @monitor.py:362]\u001b[0m ranking_loss: 0.23815\n",
      "\u001b[32m[1112 12:40:01 @monitor.py:362]\u001b[0m ranking_mean_average_precision: 0.601\n",
      "\u001b[32m[1112 12:40:01 @monitor.py:362]\u001b[0m training_ap: 0.24816\n",
      "\u001b[32m[1112 12:40:01 @monitor.py:362]\u001b[0m training_auc: 0.61788\n",
      "\u001b[32m[1112 12:40:01 @base.py:257]\u001b[0m Start Epoch 17 ...\n"
     ]
    },
    {
     "name": "stderr",
     "output_type": "stream",
     "text": [
      "\n",
      "100%|##########|23/23[00:01<00:00,14.88it/s]"
     ]
    },
    {
     "name": "stdout",
     "output_type": "stream",
     "text": [
      "\u001b[32m[1112 12:40:02 @base.py:267]\u001b[0m Epoch 17 (global_step 391) finished, time:1.55 sec.\n"
     ]
    },
    {
     "name": "stderr",
     "output_type": "stream",
     "text": [
      "\n",
      "100%|##########|5/5[00:00<00:00, 9.11it/s]"
     ]
    },
    {
     "name": "stdout",
     "output_type": "stream",
     "text": [
      "\u001b[32m[1112 12:40:03 @saver.py:90]\u001b[0m Model saved to train_log/sift-512-hidden-gls-r5/model-391.\n",
      "\u001b[32m[1112 12:40:03 @saver.py:159]\u001b[0m Model with maximum 'micro_f1' saved.\n",
      "\u001b[32m[1112 12:40:03 @monitor.py:362]\u001b[0m DataParallelInferenceRunner/QueueInput/queue_size: 49.854\n",
      "\u001b[32m[1112 12:40:03 @monitor.py:362]\u001b[0m QueueInput/queue_size: 49.863\n",
      "\u001b[32m[1112 12:40:03 @monitor.py:362]\u001b[0m coverage: 3.0178\n",
      "\u001b[32m[1112 12:40:03 @monitor.py:362]\u001b[0m doubly_stochastic_loss: 0.56378\n",
      "\u001b[32m[1112 12:40:03 @monitor.py:362]\u001b[0m learning_rate: 0.001\n",
      "\u001b[32m[1112 12:40:03 @monitor.py:362]\u001b[0m loss/value: 10.83\n",
      "\u001b[32m[1112 12:40:03 @monitor.py:362]\u001b[0m macro_auc: 0.78975\n",
      "\u001b[32m[1112 12:40:03 @monitor.py:362]\u001b[0m macro_f1: 0.4347\n",
      "\u001b[32m[1112 12:40:03 @monitor.py:362]\u001b[0m mean_average_precision: 0.46679\n",
      "\u001b[32m[1112 12:40:03 @monitor.py:362]\u001b[0m micro_auc: 0.78524\n",
      "\u001b[32m[1112 12:40:03 @monitor.py:362]\u001b[0m micro_f1: 0.4625\n",
      "\u001b[32m[1112 12:40:03 @monitor.py:362]\u001b[0m one_error: 0.54902\n",
      "\u001b[32m[1112 12:40:03 @monitor.py:362]\u001b[0m ranking_loss: 0.2313\n",
      "\u001b[32m[1112 12:40:03 @monitor.py:362]\u001b[0m ranking_mean_average_precision: 0.6004\n",
      "\u001b[32m[1112 12:40:03 @monitor.py:362]\u001b[0m training_ap: 0.25261\n",
      "\u001b[32m[1112 12:40:03 @monitor.py:362]\u001b[0m training_auc: 0.62377\n",
      "\u001b[32m[1112 12:40:03 @base.py:257]\u001b[0m Start Epoch 18 ...\n"
     ]
    },
    {
     "name": "stderr",
     "output_type": "stream",
     "text": [
      "\n",
      "100%|##########|23/23[00:01<00:00,13.37it/s]"
     ]
    },
    {
     "name": "stdout",
     "output_type": "stream",
     "text": [
      "\u001b[32m[1112 12:40:04 @base.py:267]\u001b[0m Epoch 18 (global_step 414) finished, time:1.72 sec.\n"
     ]
    },
    {
     "name": "stderr",
     "output_type": "stream",
     "text": [
      "\n",
      "100%|##########|5/5[00:00<00:00, 9.77it/s]"
     ]
    },
    {
     "name": "stdout",
     "output_type": "stream",
     "text": [
      "\u001b[32m[1112 12:40:05 @saver.py:90]\u001b[0m Model saved to train_log/sift-512-hidden-gls-r5/model-414.\n",
      "\u001b[32m[1112 12:40:05 @monitor.py:362]\u001b[0m DataParallelInferenceRunner/QueueInput/queue_size: 49.852\n",
      "\u001b[32m[1112 12:40:05 @monitor.py:362]\u001b[0m QueueInput/queue_size: 49.925\n",
      "\u001b[32m[1112 12:40:05 @monitor.py:362]\u001b[0m coverage: 2.9447\n",
      "\u001b[32m[1112 12:40:05 @monitor.py:362]\u001b[0m doubly_stochastic_loss: 0.38013\n",
      "\u001b[32m[1112 12:40:05 @monitor.py:362]\u001b[0m learning_rate: 0.001\n",
      "\u001b[32m[1112 12:40:05 @monitor.py:362]\u001b[0m loss/value: 10.68\n",
      "\u001b[32m[1112 12:40:05 @monitor.py:362]\u001b[0m macro_auc: 0.7966\n",
      "\u001b[32m[1112 12:40:05 @monitor.py:362]\u001b[0m macro_f1: 0.42921\n",
      "\u001b[32m[1112 12:40:05 @monitor.py:362]\u001b[0m mean_average_precision: 0.4729\n",
      "\u001b[32m[1112 12:40:05 @monitor.py:362]\u001b[0m micro_auc: 0.79275\n",
      "\u001b[32m[1112 12:40:05 @monitor.py:362]\u001b[0m micro_f1: 0.45289\n",
      "\u001b[32m[1112 12:40:05 @monitor.py:362]\u001b[0m one_error: 0.5205\n",
      "\u001b[32m[1112 12:40:05 @monitor.py:362]\u001b[0m ranking_loss: 0.22273\n",
      "\u001b[32m[1112 12:40:05 @monitor.py:362]\u001b[0m ranking_mean_average_precision: 0.61329\n",
      "\u001b[32m[1112 12:40:05 @monitor.py:362]\u001b[0m training_ap: 0.25716\n",
      "\u001b[32m[1112 12:40:05 @monitor.py:362]\u001b[0m training_auc: 0.62934\n",
      "\u001b[32m[1112 12:40:05 @base.py:257]\u001b[0m Start Epoch 19 ...\n"
     ]
    },
    {
     "name": "stderr",
     "output_type": "stream",
     "text": [
      "\n",
      "100%|##########|23/23[00:01<00:00,14.32it/s]"
     ]
    },
    {
     "name": "stdout",
     "output_type": "stream",
     "text": [
      "\u001b[32m[1112 12:40:07 @base.py:267]\u001b[0m Epoch 19 (global_step 437) finished, time:1.61 sec.\n"
     ]
    },
    {
     "name": "stderr",
     "output_type": "stream",
     "text": [
      "\n",
      "100%|##########|5/5[00:00<00:00,10.58it/s]"
     ]
    },
    {
     "name": "stdout",
     "output_type": "stream",
     "text": [
      "\u001b[32m[1112 12:40:07 @saver.py:90]\u001b[0m Model saved to train_log/sift-512-hidden-gls-r5/model-437.\n",
      "\u001b[32m[1112 12:40:07 @saver.py:159]\u001b[0m Model with maximum 'micro_f1' saved.\n",
      "\u001b[32m[1112 12:40:07 @monitor.py:362]\u001b[0m DataParallelInferenceRunner/QueueInput/queue_size: 49.891\n",
      "\u001b[32m[1112 12:40:07 @monitor.py:362]\u001b[0m QueueInput/queue_size: 49.895\n",
      "\u001b[32m[1112 12:40:07 @monitor.py:362]\u001b[0m coverage: 2.7879\n",
      "\u001b[32m[1112 12:40:07 @monitor.py:362]\u001b[0m doubly_stochastic_loss: 1.6106\n",
      "\u001b[32m[1112 12:40:07 @monitor.py:362]\u001b[0m learning_rate: 0.001\n",
      "\u001b[32m[1112 12:40:07 @monitor.py:362]\u001b[0m loss/value: 10.508\n",
      "\u001b[32m[1112 12:40:07 @monitor.py:362]\u001b[0m macro_auc: 0.81195\n",
      "\u001b[32m[1112 12:40:07 @monitor.py:362]\u001b[0m macro_f1: 0.45433\n",
      "\u001b[32m[1112 12:40:07 @monitor.py:362]\u001b[0m mean_average_precision: 0.49792\n",
      "\u001b[32m[1112 12:40:07 @monitor.py:362]\u001b[0m micro_auc: 0.80742\n",
      "\u001b[32m[1112 12:40:07 @monitor.py:362]\u001b[0m micro_f1: 0.48097\n",
      "\u001b[32m[1112 12:40:07 @monitor.py:362]\u001b[0m one_error: 0.49911\n",
      "\u001b[32m[1112 12:40:07 @monitor.py:362]\u001b[0m ranking_loss: 0.20619\n",
      "\u001b[32m[1112 12:40:07 @monitor.py:362]\u001b[0m ranking_mean_average_precision: 0.63216\n",
      "\u001b[32m[1112 12:40:07 @monitor.py:362]\u001b[0m training_ap: 0.26165\n",
      "\u001b[32m[1112 12:40:07 @monitor.py:362]\u001b[0m training_auc: 0.63515\n",
      "\u001b[32m[1112 12:40:07 @base.py:257]\u001b[0m Start Epoch 20 ...\n"
     ]
    },
    {
     "name": "stderr",
     "output_type": "stream",
     "text": [
      "\n",
      "100%|##########|23/23[00:01<00:00,14.98it/s]"
     ]
    },
    {
     "name": "stdout",
     "output_type": "stream",
     "text": [
      "\u001b[32m[1112 12:40:09 @base.py:267]\u001b[0m Epoch 20 (global_step 460) finished, time:1.54 sec.\n"
     ]
    },
    {
     "name": "stderr",
     "output_type": "stream",
     "text": [
      "\n",
      "100%|##########|5/5[00:00<00:00, 9.97it/s]"
     ]
    },
    {
     "name": "stdout",
     "output_type": "stream",
     "text": [
      "\u001b[32m[1112 12:40:09 @saver.py:90]\u001b[0m Model saved to train_log/sift-512-hidden-gls-r5/model-460.\n",
      "\u001b[32m[1112 12:40:09 @monitor.py:362]\u001b[0m DataParallelInferenceRunner/QueueInput/queue_size: 49.92\n",
      "\u001b[32m[1112 12:40:09 @monitor.py:362]\u001b[0m QueueInput/queue_size: 49.901\n",
      "\u001b[32m[1112 12:40:09 @monitor.py:362]\u001b[0m coverage: 2.7986\n",
      "\u001b[32m[1112 12:40:09 @monitor.py:362]\u001b[0m doubly_stochastic_loss: 0.50381\n",
      "\u001b[32m[1112 12:40:09 @monitor.py:362]\u001b[0m learning_rate: 0.001\n",
      "\u001b[32m[1112 12:40:09 @monitor.py:362]\u001b[0m loss/value: 10.267\n",
      "\u001b[32m[1112 12:40:09 @monitor.py:362]\u001b[0m macro_auc: 0.79498\n",
      "\u001b[32m[1112 12:40:09 @monitor.py:362]\u001b[0m macro_f1: 0.44499\n",
      "\u001b[32m[1112 12:40:09 @monitor.py:362]\u001b[0m mean_average_precision: 0.48053\n",
      "\u001b[32m[1112 12:40:09 @monitor.py:362]\u001b[0m micro_auc: 0.79628\n",
      "\u001b[32m[1112 12:40:09 @monitor.py:362]\u001b[0m micro_f1: 0.47386\n",
      "\u001b[32m[1112 12:40:09 @monitor.py:362]\u001b[0m one_error: 0.49911\n",
      "\u001b[32m[1112 12:40:09 @monitor.py:362]\u001b[0m ranking_loss: 0.20499\n",
      "\u001b[32m[1112 12:40:09 @monitor.py:362]\u001b[0m ranking_mean_average_precision: 0.63522\n",
      "\u001b[32m[1112 12:40:09 @monitor.py:362]\u001b[0m training_ap: 0.26664\n",
      "\u001b[32m[1112 12:40:09 @monitor.py:362]\u001b[0m training_auc: 0.64107\n",
      "\u001b[32m[1112 12:40:09 @base.py:257]\u001b[0m Start Epoch 21 ...\n"
     ]
    },
    {
     "name": "stderr",
     "output_type": "stream",
     "text": [
      "\n",
      "100%|##########|23/23[00:01<00:00,13.25it/s]"
     ]
    },
    {
     "name": "stdout",
     "output_type": "stream",
     "text": [
      "\u001b[32m[1112 12:40:11 @base.py:267]\u001b[0m Epoch 21 (global_step 483) finished, time:1.74 sec.\n"
     ]
    },
    {
     "name": "stderr",
     "output_type": "stream",
     "text": [
      "\n",
      "100%|##########|5/5[00:00<00:00, 9.91it/s]"
     ]
    },
    {
     "name": "stdout",
     "output_type": "stream",
     "text": [
      "\u001b[32m[1112 12:40:12 @saver.py:90]\u001b[0m Model saved to train_log/sift-512-hidden-gls-r5/model-483.\n",
      "\u001b[32m[1112 12:40:12 @saver.py:159]\u001b[0m Model with maximum 'micro_f1' saved.\n",
      "\u001b[32m[1112 12:40:12 @monitor.py:362]\u001b[0m DataParallelInferenceRunner/QueueInput/queue_size: 49.941\n",
      "\u001b[32m[1112 12:40:12 @monitor.py:362]\u001b[0m QueueInput/queue_size: 49.872\n",
      "\u001b[32m[1112 12:40:12 @monitor.py:362]\u001b[0m coverage: 2.8164\n",
      "\u001b[32m[1112 12:40:12 @monitor.py:362]\u001b[0m doubly_stochastic_loss: 0.38275\n",
      "\u001b[32m[1112 12:40:12 @monitor.py:362]\u001b[0m learning_rate: 0.001\n",
      "\u001b[32m[1112 12:40:12 @monitor.py:362]\u001b[0m loss/value: 10.239\n",
      "\u001b[32m[1112 12:40:12 @monitor.py:362]\u001b[0m macro_auc: 0.80532\n",
      "\u001b[32m[1112 12:40:12 @monitor.py:362]\u001b[0m macro_f1: 0.45845\n",
      "\u001b[32m[1112 12:40:12 @monitor.py:362]\u001b[0m mean_average_precision: 0.49821\n",
      "\u001b[32m[1112 12:40:12 @monitor.py:362]\u001b[0m micro_auc: 0.80488\n",
      "\u001b[32m[1112 12:40:12 @monitor.py:362]\u001b[0m micro_f1: 0.48606\n",
      "\u001b[32m[1112 12:40:12 @monitor.py:362]\u001b[0m one_error: 0.50802\n",
      "\u001b[32m[1112 12:40:12 @monitor.py:362]\u001b[0m ranking_loss: 0.21062\n",
      "\u001b[32m[1112 12:40:12 @monitor.py:362]\u001b[0m ranking_mean_average_precision: 0.63134\n",
      "\u001b[32m[1112 12:40:12 @monitor.py:362]\u001b[0m training_ap: 0.27155\n",
      "\u001b[32m[1112 12:40:12 @monitor.py:362]\u001b[0m training_auc: 0.6464\n",
      "\u001b[32m[1112 12:40:12 @base.py:257]\u001b[0m Start Epoch 22 ...\n"
     ]
    },
    {
     "name": "stderr",
     "output_type": "stream",
     "text": [
      "\n",
      "100%|##########|23/23[00:01<00:00,15.30it/s]"
     ]
    },
    {
     "name": "stdout",
     "output_type": "stream",
     "text": [
      "\u001b[32m[1112 12:40:13 @base.py:267]\u001b[0m Epoch 22 (global_step 506) finished, time:1.51 sec.\n"
     ]
    },
    {
     "name": "stderr",
     "output_type": "stream",
     "text": [
      "\n",
      "100%|##########|5/5[00:00<00:00, 8.40it/s]"
     ]
    },
    {
     "name": "stdout",
     "output_type": "stream",
     "text": [
      "\u001b[32m[1112 12:40:14 @saver.py:90]\u001b[0m Model saved to train_log/sift-512-hidden-gls-r5/model-506.\n",
      "\u001b[32m[1112 12:40:14 @saver.py:159]\u001b[0m Model with maximum 'micro_f1' saved.\n",
      "\u001b[32m[1112 12:40:14 @monitor.py:362]\u001b[0m DataParallelInferenceRunner/QueueInput/queue_size: 49.957\n",
      "\u001b[32m[1112 12:40:14 @monitor.py:362]\u001b[0m QueueInput/queue_size: 49.857\n",
      "\u001b[32m[1112 12:40:14 @monitor.py:362]\u001b[0m coverage: 2.7184\n",
      "\u001b[32m[1112 12:40:14 @monitor.py:362]\u001b[0m doubly_stochastic_loss: 0.64213\n",
      "\u001b[32m[1112 12:40:14 @monitor.py:362]\u001b[0m learning_rate: 0.001\n",
      "\u001b[32m[1112 12:40:14 @monitor.py:362]\u001b[0m loss/value: 10.302\n",
      "\u001b[32m[1112 12:40:14 @monitor.py:362]\u001b[0m macro_auc: 0.81784\n",
      "\u001b[32m[1112 12:40:14 @monitor.py:362]\u001b[0m macro_f1: 0.46101\n",
      "\u001b[32m[1112 12:40:14 @monitor.py:362]\u001b[0m mean_average_precision: 0.5031\n"
     ]
    },
    {
     "name": "stderr",
     "output_type": "stream",
     "text": [
      "\n"
     ]
    },
    {
     "name": "stdout",
     "output_type": "stream",
     "text": [
      "\u001b[32m[1112 12:40:14 @monitor.py:362]\u001b[0m micro_auc: 0.81135\n",
      "\u001b[32m[1112 12:40:14 @monitor.py:362]\u001b[0m micro_f1: 0.48974\n",
      "\u001b[32m[1112 12:40:14 @monitor.py:362]\u001b[0m one_error: 0.50446\n",
      "\u001b[32m[1112 12:40:14 @monitor.py:362]\u001b[0m ranking_loss: 0.20155\n",
      "\u001b[32m[1112 12:40:14 @monitor.py:362]\u001b[0m ranking_mean_average_precision: 0.637\n",
      "\u001b[32m[1112 12:40:14 @monitor.py:362]\u001b[0m training_ap: 0.27624\n",
      "\u001b[32m[1112 12:40:14 @monitor.py:362]\u001b[0m training_auc: 0.65169\n",
      "\u001b[32m[1112 12:40:14 @base.py:257]\u001b[0m Start Epoch 23 ...\n"
     ]
    },
    {
     "name": "stderr",
     "output_type": "stream",
     "text": [
      "100%|##########|23/23[00:01<00:00,13.74it/s]"
     ]
    },
    {
     "name": "stdout",
     "output_type": "stream",
     "text": [
      "\u001b[32m[1112 12:40:16 @base.py:267]\u001b[0m Epoch 23 (global_step 529) finished, time:1.68 sec.\n"
     ]
    },
    {
     "name": "stderr",
     "output_type": "stream",
     "text": [
      "\n",
      "100%|##########|5/5[00:00<00:00, 9.98it/s]"
     ]
    },
    {
     "name": "stdout",
     "output_type": "stream",
     "text": [
      "\u001b[32m[1112 12:40:16 @saver.py:90]\u001b[0m Model saved to train_log/sift-512-hidden-gls-r5/model-529.\n",
      "\u001b[32m[1112 12:40:16 @saver.py:159]\u001b[0m Model with maximum 'micro_f1' saved.\n",
      "\u001b[32m[1112 12:40:16 @monitor.py:362]\u001b[0m DataParallelInferenceRunner/QueueInput/queue_size: 49.925\n",
      "\u001b[32m[1112 12:40:16 @monitor.py:362]\u001b[0m QueueInput/queue_size: 49.79\n",
      "\u001b[32m[1112 12:40:16 @monitor.py:362]\u001b[0m coverage: 2.5989\n",
      "\u001b[32m[1112 12:40:16 @monitor.py:362]\u001b[0m doubly_stochastic_loss: 1.033\n",
      "\u001b[32m[1112 12:40:16 @monitor.py:362]\u001b[0m learning_rate: 0.001\n",
      "\u001b[32m[1112 12:40:16 @monitor.py:362]\u001b[0m loss/value: 10.117\n",
      "\u001b[32m[1112 12:40:16 @monitor.py:362]\u001b[0m macro_auc: 0.82343\n",
      "\u001b[32m[1112 12:40:16 @monitor.py:362]\u001b[0m macro_f1: 0.46876\n",
      "\u001b[32m[1112 12:40:16 @monitor.py:362]\u001b[0m mean_average_precision: 0.51718\n",
      "\u001b[32m[1112 12:40:16 @monitor.py:362]\u001b[0m micro_auc: 0.81969\n",
      "\u001b[32m[1112 12:40:16 @monitor.py:362]\u001b[0m micro_f1: 0.4955\n",
      "\u001b[32m[1112 12:40:16 @monitor.py:362]\u001b[0m one_error: 0.46524\n",
      "\u001b[32m[1112 12:40:16 @monitor.py:362]\u001b[0m ranking_loss: 0.18735\n",
      "\u001b[32m[1112 12:40:16 @monitor.py:362]\u001b[0m ranking_mean_average_precision: 0.66262\n",
      "\u001b[32m[1112 12:40:16 @monitor.py:362]\u001b[0m training_ap: 0.28131\n",
      "\u001b[32m[1112 12:40:16 @monitor.py:362]\u001b[0m training_auc: 0.65706\n",
      "\u001b[32m[1112 12:40:16 @base.py:257]\u001b[0m Start Epoch 24 ...\n"
     ]
    },
    {
     "name": "stderr",
     "output_type": "stream",
     "text": [
      "\n",
      "100%|##########|23/23[00:01<00:00,14.79it/s]"
     ]
    },
    {
     "name": "stdout",
     "output_type": "stream",
     "text": [
      "\u001b[32m[1112 12:40:18 @base.py:267]\u001b[0m Epoch 24 (global_step 552) finished, time:1.58 sec.\n"
     ]
    },
    {
     "name": "stderr",
     "output_type": "stream",
     "text": [
      "\n",
      "100%|##########|5/5[00:00<00:00,10.55it/s]"
     ]
    },
    {
     "name": "stdout",
     "output_type": "stream",
     "text": [
      "\u001b[32m[1112 12:40:18 @saver.py:90]\u001b[0m Model saved to train_log/sift-512-hidden-gls-r5/model-552.\n",
      "\u001b[32m[1112 12:40:18 @monitor.py:362]\u001b[0m DataParallelInferenceRunner/QueueInput/queue_size: 49.945\n",
      "\u001b[32m[1112 12:40:18 @monitor.py:362]\u001b[0m QueueInput/queue_size: 49.776\n",
      "\u001b[32m[1112 12:40:18 @monitor.py:362]\u001b[0m coverage: 2.6346\n",
      "\u001b[32m[1112 12:40:18 @monitor.py:362]\u001b[0m doubly_stochastic_loss: 1.2159\n",
      "\u001b[32m[1112 12:40:18 @monitor.py:362]\u001b[0m learning_rate: 0.001\n",
      "\u001b[32m[1112 12:40:18 @monitor.py:362]\u001b[0m loss/value: 9.9693\n",
      "\u001b[32m[1112 12:40:18 @monitor.py:362]\u001b[0m macro_auc: 0.82067\n",
      "\u001b[32m[1112 12:40:18 @monitor.py:362]\u001b[0m macro_f1: 0.46765\n",
      "\u001b[32m[1112 12:40:18 @monitor.py:362]\u001b[0m mean_average_precision: 0.49777\n",
      "\u001b[32m[1112 12:40:18 @monitor.py:362]\u001b[0m micro_auc: 0.8182\n",
      "\u001b[32m[1112 12:40:18 @monitor.py:362]\u001b[0m micro_f1: 0.493\n",
      "\u001b[32m[1112 12:40:18 @monitor.py:362]\u001b[0m one_error: 0.48307\n",
      "\u001b[32m[1112 12:40:18 @monitor.py:362]\u001b[0m ranking_loss: 0.19352\n",
      "\u001b[32m[1112 12:40:18 @monitor.py:362]\u001b[0m ranking_mean_average_precision: 0.64797\n",
      "\u001b[32m[1112 12:40:18 @monitor.py:362]\u001b[0m training_ap: 0.28649\n",
      "\u001b[32m[1112 12:40:18 @monitor.py:362]\u001b[0m training_auc: 0.66233\n",
      "\u001b[32m[1112 12:40:18 @base.py:257]\u001b[0m Start Epoch 25 ...\n"
     ]
    },
    {
     "name": "stderr",
     "output_type": "stream",
     "text": [
      "\n",
      "100%|##########|23/23[00:01<00:00,15.01it/s]"
     ]
    },
    {
     "name": "stdout",
     "output_type": "stream",
     "text": [
      "\u001b[32m[1112 12:40:20 @base.py:267]\u001b[0m Epoch 25 (global_step 575) finished, time:1.54 sec.\n"
     ]
    },
    {
     "name": "stderr",
     "output_type": "stream",
     "text": [
      "\n",
      "100%|##########|5/5[00:00<00:00, 9.00it/s]"
     ]
    },
    {
     "name": "stdout",
     "output_type": "stream",
     "text": [
      "\u001b[32m[1112 12:40:20 @saver.py:90]\u001b[0m Model saved to train_log/sift-512-hidden-gls-r5/model-575.\n",
      "\u001b[32m[1112 12:40:21 @saver.py:159]\u001b[0m Model with maximum 'micro_f1' saved.\n",
      "\u001b[32m[1112 12:40:21 @monitor.py:362]\u001b[0m DataParallelInferenceRunner/QueueInput/queue_size: 49.96\n",
      "\u001b[32m[1112 12:40:21 @monitor.py:362]\u001b[0m QueueInput/queue_size: 49.837\n",
      "\u001b[32m[1112 12:40:21 @monitor.py:362]\u001b[0m coverage: 2.5811\n",
      "\u001b[32m[1112 12:40:21 @monitor.py:362]\u001b[0m doubly_stochastic_loss: 0.67098\n",
      "\u001b[32m[1112 12:40:21 @monitor.py:362]\u001b[0m learning_rate: 0.001\n",
      "\u001b[32m[1112 12:40:21 @monitor.py:362]\u001b[0m loss/value: 9.811\n",
      "\u001b[32m[1112 12:40:21 @monitor.py:362]\u001b[0m macro_auc: 0.82276\n",
      "\u001b[32m[1112 12:40:21 @monitor.py:362]\u001b[0m macro_f1: 0.48511\n",
      "\u001b[32m[1112 12:40:21 @monitor.py:362]\u001b[0m mean_average_precision: 0.51613\n",
      "\u001b[32m[1112 12:40:21 @monitor.py:362]\u001b[0m micro_auc: 0.82253\n",
      "\u001b[32m[1112 12:40:21 @monitor.py:362]\u001b[0m micro_f1: 0.50737\n",
      "\u001b[32m[1112 12:40:21 @monitor.py:362]\u001b[0m one_error: 0.48663\n",
      "\u001b[32m[1112 12:40:21 @monitor.py:362]\u001b[0m ranking_loss: 0.1872\n",
      "\u001b[32m[1112 12:40:21 @monitor.py:362]\u001b[0m ranking_mean_average_precision: 0.65526\n",
      "\u001b[32m[1112 12:40:21 @monitor.py:362]\u001b[0m training_ap: 0.29178\n",
      "\u001b[32m[1112 12:40:21 @monitor.py:362]\u001b[0m training_auc: 0.66751\n",
      "\u001b[32m[1112 12:40:21 @base.py:257]\u001b[0m Start Epoch 26 ...\n"
     ]
    },
    {
     "name": "stderr",
     "output_type": "stream",
     "text": [
      "\n",
      "100%|##########|23/23[00:01<00:00,15.24it/s]"
     ]
    },
    {
     "name": "stdout",
     "output_type": "stream",
     "text": [
      "\u001b[32m[1112 12:40:22 @base.py:267]\u001b[0m Epoch 26 (global_step 598) finished, time:1.52 sec.\n"
     ]
    },
    {
     "name": "stderr",
     "output_type": "stream",
     "text": [
      "\n",
      "100%|##########|5/5[00:00<00:00, 9.48it/s]"
     ]
    },
    {
     "name": "stdout",
     "output_type": "stream",
     "text": [
      "\u001b[32m[1112 12:40:23 @saver.py:90]\u001b[0m Model saved to train_log/sift-512-hidden-gls-r5/model-598.\n",
      "\u001b[32m[1112 12:40:23 @monitor.py:362]\u001b[0m DataParallelInferenceRunner/QueueInput/queue_size: 49.97\n",
      "\u001b[32m[1112 12:40:23 @monitor.py:362]\u001b[0m QueueInput/queue_size: 49.901\n",
      "\u001b[32m[1112 12:40:23 @monitor.py:362]\u001b[0m coverage: 2.6203\n",
      "\u001b[32m[1112 12:40:23 @monitor.py:362]\u001b[0m doubly_stochastic_loss: 0.83636\n",
      "\u001b[32m[1112 12:40:23 @monitor.py:362]\u001b[0m learning_rate: 0.001\n",
      "\u001b[32m[1112 12:40:23 @monitor.py:362]\u001b[0m loss/value: 9.7317\n",
      "\u001b[32m[1112 12:40:23 @monitor.py:362]\u001b[0m macro_auc: 0.82332\n",
      "\u001b[32m[1112 12:40:23 @monitor.py:362]\u001b[0m macro_f1: 0.48079\n",
      "\u001b[32m[1112 12:40:23 @monitor.py:362]\u001b[0m mean_average_precision: 0.51727\n",
      "\u001b[32m[1112 12:40:23 @monitor.py:362]\u001b[0m micro_auc: 0.82249\n",
      "\u001b[32m[1112 12:40:23 @monitor.py:362]\u001b[0m micro_f1: 0.50419\n",
      "\u001b[32m[1112 12:40:23 @monitor.py:362]\u001b[0m one_error: 0.48841\n",
      "\u001b[32m[1112 12:40:23 @monitor.py:362]\u001b[0m ranking_loss: 0.19168\n",
      "\u001b[32m[1112 12:40:23 @monitor.py:362]\u001b[0m ranking_mean_average_precision: 0.64994\n",
      "\u001b[32m[1112 12:40:23 @monitor.py:362]\u001b[0m training_ap: 0.29685\n",
      "\u001b[32m[1112 12:40:23 @monitor.py:362]\u001b[0m training_auc: 0.67236\n",
      "\u001b[32m[1112 12:40:23 @base.py:257]\u001b[0m Start Epoch 27 ...\n"
     ]
    },
    {
     "name": "stderr",
     "output_type": "stream",
     "text": [
      "\n",
      "100%|##########|23/23[00:01<00:00,13.28it/s]"
     ]
    },
    {
     "name": "stdout",
     "output_type": "stream",
     "text": [
      "\u001b[32m[1112 12:40:24 @base.py:267]\u001b[0m Epoch 27 (global_step 621) finished, time:1.73 sec.\n"
     ]
    },
    {
     "name": "stderr",
     "output_type": "stream",
     "text": [
      "\n",
      "100%|##########|5/5[00:00<00:00,11.22it/s]"
     ]
    },
    {
     "name": "stdout",
     "output_type": "stream",
     "text": [
      "\u001b[32m[1112 12:40:25 @saver.py:90]\u001b[0m Model saved to train_log/sift-512-hidden-gls-r5/model-621.\n",
      "\u001b[32m[1112 12:40:25 @saver.py:159]\u001b[0m Model with maximum 'micro_f1' saved.\n",
      "\u001b[32m[1112 12:40:25 @monitor.py:362]\u001b[0m DataParallelInferenceRunner/QueueInput/queue_size: 49.978\n",
      "\u001b[32m[1112 12:40:25 @monitor.py:362]\u001b[0m QueueInput/queue_size: 49.969\n",
      "\u001b[32m[1112 12:40:25 @monitor.py:362]\u001b[0m coverage: 2.5758\n",
      "\u001b[32m[1112 12:40:25 @monitor.py:362]\u001b[0m doubly_stochastic_loss: 0.5926\n",
      "\u001b[32m[1112 12:40:25 @monitor.py:362]\u001b[0m learning_rate: 0.001\n",
      "\u001b[32m[1112 12:40:25 @monitor.py:362]\u001b[0m loss/value: 9.6516\n",
      "\u001b[32m[1112 12:40:25 @monitor.py:362]\u001b[0m macro_auc: 0.82522\n",
      "\u001b[32m[1112 12:40:25 @monitor.py:362]\u001b[0m macro_f1: 0.48581\n",
      "\u001b[32m[1112 12:40:25 @monitor.py:362]\u001b[0m mean_average_precision: 0.52426\n",
      "\u001b[32m[1112 12:40:25 @monitor.py:362]\u001b[0m micro_auc: 0.82651\n",
      "\u001b[32m[1112 12:40:25 @monitor.py:362]\u001b[0m micro_f1: 0.50836\n",
      "\u001b[32m[1112 12:40:25 @monitor.py:362]\u001b[0m one_error: 0.46346\n",
      "\u001b[32m[1112 12:40:25 @monitor.py:362]\u001b[0m ranking_loss: 0.18605\n",
      "\u001b[32m[1112 12:40:25 @monitor.py:362]\u001b[0m ranking_mean_average_precision: 0.66388\n",
      "\u001b[32m[1112 12:40:25 @monitor.py:362]\u001b[0m training_ap: 0.302\n",
      "\u001b[32m[1112 12:40:25 @monitor.py:362]\u001b[0m training_auc: 0.677\n",
      "\u001b[32m[1112 12:40:25 @base.py:257]\u001b[0m Start Epoch 28 ...\n"
     ]
    },
    {
     "name": "stderr",
     "output_type": "stream",
     "text": [
      "\n",
      "100%|##########|23/23[00:01<00:00,14.59it/s]"
     ]
    },
    {
     "name": "stdout",
     "output_type": "stream",
     "text": [
      "\u001b[32m[1112 12:40:27 @base.py:267]\u001b[0m Epoch 28 (global_step 644) finished, time:1.58 sec.\n"
     ]
    },
    {
     "name": "stderr",
     "output_type": "stream",
     "text": [
      "\n",
      "100%|##########|5/5[00:00<00:00, 9.64it/s]"
     ]
    },
    {
     "name": "stdout",
     "output_type": "stream",
     "text": [
      "\u001b[32m[1112 12:40:27 @saver.py:90]\u001b[0m Model saved to train_log/sift-512-hidden-gls-r5/model-644.\n",
      "\u001b[32m[1112 12:40:27 @monitor.py:362]\u001b[0m DataParallelInferenceRunner/QueueInput/queue_size: 49.984\n",
      "\u001b[32m[1112 12:40:27 @monitor.py:362]\u001b[0m QueueInput/queue_size: 49.851\n",
      "\u001b[32m[1112 12:40:27 @monitor.py:362]\u001b[0m coverage: 2.5187\n",
      "\u001b[32m[1112 12:40:27 @monitor.py:362]\u001b[0m doubly_stochastic_loss: 0.71291\n",
      "\u001b[32m[1112 12:40:27 @monitor.py:362]\u001b[0m learning_rate: 0.001\n",
      "\u001b[32m[1112 12:40:27 @monitor.py:362]\u001b[0m loss/value: 9.5763\n",
      "\u001b[32m[1112 12:40:27 @monitor.py:362]\u001b[0m macro_auc: 0.82826\n",
      "\u001b[32m[1112 12:40:27 @monitor.py:362]\u001b[0m macro_f1: 0.48542\n",
      "\u001b[32m[1112 12:40:27 @monitor.py:362]\u001b[0m mean_average_precision: 0.52754\n",
      "\u001b[32m[1112 12:40:27 @monitor.py:362]\u001b[0m micro_auc: 0.8283\n",
      "\u001b[32m[1112 12:40:27 @monitor.py:362]\u001b[0m micro_f1: 0.50606\n",
      "\u001b[32m[1112 12:40:27 @monitor.py:362]\u001b[0m one_error: 0.47059\n",
      "\u001b[32m[1112 12:40:27 @monitor.py:362]\u001b[0m ranking_loss: 0.18339\n",
      "\u001b[32m[1112 12:40:27 @monitor.py:362]\u001b[0m ranking_mean_average_precision: 0.66339\n",
      "\u001b[32m[1112 12:40:27 @monitor.py:362]\u001b[0m training_ap: 0.30709\n",
      "\u001b[32m[1112 12:40:27 @monitor.py:362]\u001b[0m training_auc: 0.68164\n",
      "\u001b[32m[1112 12:40:27 @base.py:257]\u001b[0m Start Epoch 29 ...\n"
     ]
    },
    {
     "name": "stderr",
     "output_type": "stream",
     "text": [
      "\n",
      "100%|##########|23/23[00:01<00:00,15.47it/s]"
     ]
    },
    {
     "name": "stdout",
     "output_type": "stream",
     "text": [
      "\u001b[32m[1112 12:40:29 @base.py:267]\u001b[0m Epoch 29 (global_step 667) finished, time:1.49 sec.\n"
     ]
    },
    {
     "name": "stderr",
     "output_type": "stream",
     "text": [
      "\n",
      "100%|##########|5/5[00:00<00:00, 9.22it/s]"
     ]
    },
    {
     "name": "stdout",
     "output_type": "stream",
     "text": [
      "\u001b[32m[1112 12:40:29 @saver.py:90]\u001b[0m Model saved to train_log/sift-512-hidden-gls-r5/model-667.\n",
      "\u001b[32m[1112 12:40:29 @saver.py:159]\u001b[0m Model with maximum 'micro_f1' saved.\n",
      "\u001b[32m[1112 12:40:29 @monitor.py:362]\u001b[0m DataParallelInferenceRunner/QueueInput/queue_size: 49.988\n",
      "\u001b[32m[1112 12:40:29 @monitor.py:362]\u001b[0m QueueInput/queue_size: 49.799\n",
      "\u001b[32m[1112 12:40:29 @monitor.py:362]\u001b[0m coverage: 2.5027\n",
      "\u001b[32m[1112 12:40:29 @monitor.py:362]\u001b[0m doubly_stochastic_loss: 0.34534\n",
      "\u001b[32m[1112 12:40:29 @monitor.py:362]\u001b[0m learning_rate: 0.001\n",
      "\u001b[32m[1112 12:40:29 @monitor.py:362]\u001b[0m loss/value: 9.5652\n",
      "\u001b[32m[1112 12:40:29 @monitor.py:362]\u001b[0m macro_auc: 0.83338\n",
      "\u001b[32m[1112 12:40:29 @monitor.py:362]\u001b[0m macro_f1: 0.49854\n",
      "\u001b[32m[1112 12:40:29 @monitor.py:362]\u001b[0m mean_average_precision: 0.52179\n",
      "\u001b[32m[1112 12:40:29 @monitor.py:362]\u001b[0m micro_auc: 0.83181\n",
      "\u001b[32m[1112 12:40:29 @monitor.py:362]\u001b[0m micro_f1: 0.517\n",
      "\u001b[32m[1112 12:40:29 @monitor.py:362]\u001b[0m one_error: 0.48485\n",
      "\u001b[32m[1112 12:40:29 @monitor.py:362]\u001b[0m ranking_loss: 0.18257\n",
      "\u001b[32m[1112 12:40:29 @monitor.py:362]\u001b[0m ranking_mean_average_precision: 0.65631\n",
      "\u001b[32m[1112 12:40:29 @monitor.py:362]\u001b[0m training_ap: 0.31192\n",
      "\u001b[32m[1112 12:40:29 @monitor.py:362]\u001b[0m training_auc: 0.68607\n",
      "\u001b[32m[1112 12:40:29 @base.py:257]\u001b[0m Start Epoch 30 ...\n"
     ]
    },
    {
     "name": "stderr",
     "output_type": "stream",
     "text": [
      "\n",
      "100%|##########|23/23[00:01<00:00,13.93it/s]"
     ]
    },
    {
     "name": "stdout",
     "output_type": "stream",
     "text": [
      "\u001b[32m[1112 12:40:31 @base.py:267]\u001b[0m Epoch 30 (global_step 690) finished, time:1.65 sec.\n"
     ]
    },
    {
     "name": "stderr",
     "output_type": "stream",
     "text": [
      "\n",
      "100%|##########|5/5[00:00<00:00,10.04it/s]"
     ]
    },
    {
     "name": "stdout",
     "output_type": "stream",
     "text": [
      "\u001b[32m[1112 12:40:31 @saver.py:90]\u001b[0m Model saved to train_log/sift-512-hidden-gls-r5/model-690.\n",
      "\u001b[32m[1112 12:40:31 @saver.py:159]\u001b[0m Model with maximum 'micro_f1' saved.\n",
      "\u001b[32m[1112 12:40:32 @monitor.py:362]\u001b[0m DataParallelInferenceRunner/QueueInput/queue_size: 49.946\n",
      "\u001b[32m[1112 12:40:32 @monitor.py:362]\u001b[0m QueueInput/queue_size: 49.938\n",
      "\u001b[32m[1112 12:40:32 @monitor.py:362]\u001b[0m coverage: 2.4831\n",
      "\u001b[32m[1112 12:40:32 @monitor.py:362]\u001b[0m doubly_stochastic_loss: 0.88693\n",
      "\u001b[32m[1112 12:40:32 @monitor.py:362]\u001b[0m learning_rate: 0.001\n",
      "\u001b[32m[1112 12:40:32 @monitor.py:362]\u001b[0m loss/value: 9.487\n",
      "\u001b[32m[1112 12:40:32 @monitor.py:362]\u001b[0m macro_auc: 0.83521\n",
      "\u001b[32m[1112 12:40:32 @monitor.py:362]\u001b[0m macro_f1: 0.49743\n",
      "\u001b[32m[1112 12:40:32 @monitor.py:362]\u001b[0m mean_average_precision: 0.53768\n",
      "\u001b[32m[1112 12:40:32 @monitor.py:362]\u001b[0m micro_auc: 0.83481\n",
      "\u001b[32m[1112 12:40:32 @monitor.py:362]\u001b[0m micro_f1: 0.52273\n",
      "\u001b[32m[1112 12:40:32 @monitor.py:362]\u001b[0m one_error: 0.47059\n",
      "\u001b[32m[1112 12:40:32 @monitor.py:362]\u001b[0m ranking_loss: 0.18011\n",
      "\u001b[32m[1112 12:40:32 @monitor.py:362]\u001b[0m ranking_mean_average_precision: 0.66367\n",
      "\u001b[32m[1112 12:40:32 @monitor.py:362]\u001b[0m training_ap: 0.31701\n",
      "\u001b[32m[1112 12:40:32 @monitor.py:362]\u001b[0m training_auc: 0.6903\n",
      "\u001b[32m[1112 12:40:32 @base.py:257]\u001b[0m Start Epoch 31 ...\n"
     ]
    },
    {
     "name": "stderr",
     "output_type": "stream",
     "text": [
      "\n",
      "100%|##########|23/23[00:01<00:00,14.50it/s]"
     ]
    },
    {
     "name": "stdout",
     "output_type": "stream",
     "text": [
      "\u001b[32m[1112 12:40:33 @base.py:267]\u001b[0m Epoch 31 (global_step 713) finished, time:1.61 sec.\n"
     ]
    },
    {
     "name": "stderr",
     "output_type": "stream",
     "text": [
      "\n",
      "100%|##########|5/5[00:00<00:00, 9.94it/s]"
     ]
    },
    {
     "name": "stdout",
     "output_type": "stream",
     "text": [
      "\u001b[32m[1112 12:40:34 @saver.py:90]\u001b[0m Model saved to train_log/sift-512-hidden-gls-r5/model-713.\n",
      "\u001b[32m[1112 12:40:34 @monitor.py:362]\u001b[0m DataParallelInferenceRunner/QueueInput/queue_size: 49.96\n",
      "\u001b[32m[1112 12:40:34 @monitor.py:362]\u001b[0m QueueInput/queue_size: 49.896\n",
      "\u001b[32m[1112 12:40:34 @monitor.py:362]\u001b[0m coverage: 2.426\n",
      "\u001b[32m[1112 12:40:34 @monitor.py:362]\u001b[0m doubly_stochastic_loss: 0.74929\n",
      "\u001b[32m[1112 12:40:34 @monitor.py:362]\u001b[0m learning_rate: 0.001\n",
      "\u001b[32m[1112 12:40:34 @monitor.py:362]\u001b[0m loss/value: 9.3071\n",
      "\u001b[32m[1112 12:40:34 @monitor.py:362]\u001b[0m macro_auc: 0.83975\n",
      "\u001b[32m[1112 12:40:34 @monitor.py:362]\u001b[0m macro_f1: 0.4984\n",
      "\u001b[32m[1112 12:40:34 @monitor.py:362]\u001b[0m mean_average_precision: 0.53317\n",
      "\u001b[32m[1112 12:40:34 @monitor.py:362]\u001b[0m micro_auc: 0.83858\n",
      "\u001b[32m[1112 12:40:34 @monitor.py:362]\u001b[0m micro_f1: 0.52069\n",
      "\u001b[32m[1112 12:40:34 @monitor.py:362]\u001b[0m one_error: 0.45098\n",
      "\u001b[32m[1112 12:40:34 @monitor.py:362]\u001b[0m ranking_loss: 0.17386\n",
      "\u001b[32m[1112 12:40:34 @monitor.py:362]\u001b[0m ranking_mean_average_precision: 0.67753\n",
      "\u001b[32m[1112 12:40:34 @monitor.py:362]\u001b[0m training_ap: 0.32207\n",
      "\u001b[32m[1112 12:40:34 @monitor.py:362]\u001b[0m training_auc: 0.69451\n",
      "\u001b[32m[1112 12:40:34 @base.py:257]\u001b[0m Start Epoch 32 ...\n"
     ]
    },
    {
     "name": "stderr",
     "output_type": "stream",
     "text": [
      "\n",
      "100%|##########|23/23[00:01<00:00,14.88it/s]"
     ]
    },
    {
     "name": "stdout",
     "output_type": "stream",
     "text": [
      "\u001b[32m[1112 12:40:35 @base.py:267]\u001b[0m Epoch 32 (global_step 736) finished, time:1.57 sec.\n"
     ]
    },
    {
     "name": "stderr",
     "output_type": "stream",
     "text": [
      "\n",
      "100%|##########|5/5[00:00<00:00,10.98it/s]"
     ]
    },
    {
     "name": "stdout",
     "output_type": "stream",
     "text": [
      "\u001b[32m[1112 12:40:36 @saver.py:90]\u001b[0m Model saved to train_log/sift-512-hidden-gls-r5/model-736.\n",
      "\u001b[32m[1112 12:40:36 @monitor.py:362]\u001b[0m DataParallelInferenceRunner/QueueInput/queue_size: 49.93\n",
      "\u001b[32m[1112 12:40:36 @monitor.py:362]\u001b[0m QueueInput/queue_size: 49.949\n",
      "\u001b[32m[1112 12:40:36 @monitor.py:362]\u001b[0m coverage: 2.4189\n",
      "\u001b[32m[1112 12:40:36 @monitor.py:362]\u001b[0m doubly_stochastic_loss: 0.23933\n",
      "\u001b[32m[1112 12:40:36 @monitor.py:362]\u001b[0m learning_rate: 0.001\n",
      "\u001b[32m[1112 12:40:36 @monitor.py:362]\u001b[0m loss/value: 9.166\n",
      "\u001b[32m[1112 12:40:36 @monitor.py:362]\u001b[0m macro_auc: 0.82832\n",
      "\u001b[32m[1112 12:40:36 @monitor.py:362]\u001b[0m macro_f1: 0.49073\n",
      "\u001b[32m[1112 12:40:36 @monitor.py:362]\u001b[0m mean_average_precision: 0.52381\n",
      "\u001b[32m[1112 12:40:36 @monitor.py:362]\u001b[0m micro_auc: 0.83365\n",
      "\u001b[32m[1112 12:40:36 @monitor.py:362]\u001b[0m micro_f1: 0.52184\n",
      "\u001b[32m[1112 12:40:36 @monitor.py:362]\u001b[0m one_error: 0.45455\n",
      "\u001b[32m[1112 12:40:36 @monitor.py:362]\u001b[0m ranking_loss: 0.17305\n",
      "\u001b[32m[1112 12:40:36 @monitor.py:362]\u001b[0m ranking_mean_average_precision: 0.67858\n",
      "\u001b[32m[1112 12:40:36 @monitor.py:362]\u001b[0m training_ap: 0.32727\n",
      "\u001b[32m[1112 12:40:36 @monitor.py:362]\u001b[0m training_auc: 0.69869\n",
      "\u001b[32m[1112 12:40:36 @base.py:257]\u001b[0m Start Epoch 33 ...\n"
     ]
    },
    {
     "name": "stderr",
     "output_type": "stream",
     "text": [
      "\n",
      "100%|##########|23/23[00:01<00:00,14.77it/s]"
     ]
    },
    {
     "name": "stdout",
     "output_type": "stream",
     "text": [
      "\u001b[32m[1112 12:40:37 @base.py:267]\u001b[0m Epoch 33 (global_step 759) finished, time:1.56 sec.\n"
     ]
    },
    {
     "name": "stderr",
     "output_type": "stream",
     "text": [
      "\n",
      "100%|##########|5/5[00:00<00:00,10.01it/s]"
     ]
    },
    {
     "name": "stdout",
     "output_type": "stream",
     "text": [
      "\u001b[32m[1112 12:40:38 @saver.py:90]\u001b[0m Model saved to train_log/sift-512-hidden-gls-r5/model-759.\n",
      "\u001b[32m[1112 12:40:38 @saver.py:159]\u001b[0m Model with maximum 'micro_f1' saved.\n",
      "\u001b[32m[1112 12:40:38 @monitor.py:362]\u001b[0m DataParallelInferenceRunner/QueueInput/queue_size: 49.949\n",
      "\u001b[32m[1112 12:40:38 @monitor.py:362]\u001b[0m QueueInput/queue_size: 49.853\n",
      "\u001b[32m[1112 12:40:38 @monitor.py:362]\u001b[0m coverage: 2.3975\n",
      "\u001b[32m[1112 12:40:38 @monitor.py:362]\u001b[0m doubly_stochastic_loss: 0.91813\n",
      "\u001b[32m[1112 12:40:38 @monitor.py:362]\u001b[0m learning_rate: 0.001\n",
      "\u001b[32m[1112 12:40:38 @monitor.py:362]\u001b[0m loss/value: 9.0396\n",
      "\u001b[32m[1112 12:40:38 @monitor.py:362]\u001b[0m macro_auc: 0.83744\n",
      "\u001b[32m[1112 12:40:38 @monitor.py:362]\u001b[0m macro_f1: 0.51018\n",
      "\u001b[32m[1112 12:40:38 @monitor.py:362]\u001b[0m mean_average_precision: 0.53113\n",
      "\u001b[32m[1112 12:40:38 @monitor.py:362]\u001b[0m micro_auc: 0.83911\n",
      "\u001b[32m[1112 12:40:38 @monitor.py:362]\u001b[0m micro_f1: 0.53554\n",
      "\u001b[32m[1112 12:40:38 @monitor.py:362]\u001b[0m one_error: 0.46881\n",
      "\u001b[32m[1112 12:40:38 @monitor.py:362]\u001b[0m ranking_loss: 0.17416\n",
      "\u001b[32m[1112 12:40:38 @monitor.py:362]\u001b[0m ranking_mean_average_precision: 0.67352\n",
      "\u001b[32m[1112 12:40:38 @monitor.py:362]\u001b[0m training_ap: 0.33277\n",
      "\u001b[32m[1112 12:40:38 @monitor.py:362]\u001b[0m training_auc: 0.70275\n",
      "\u001b[32m[1112 12:40:38 @base.py:257]\u001b[0m Start Epoch 34 ...\n"
     ]
    },
    {
     "name": "stderr",
     "output_type": "stream",
     "text": [
      "\n",
      "100%|##########|23/23[00:01<00:00,14.41it/s]"
     ]
    },
    {
     "name": "stdout",
     "output_type": "stream",
     "text": [
      "\u001b[32m[1112 12:40:40 @base.py:267]\u001b[0m Epoch 34 (global_step 782) finished, time:1.63 sec.\n"
     ]
    },
    {
     "name": "stderr",
     "output_type": "stream",
     "text": [
      "\n",
      "100%|##########|5/5[00:00<00:00, 9.29it/s]"
     ]
    },
    {
     "name": "stdout",
     "output_type": "stream",
     "text": [
      "\u001b[32m[1112 12:40:40 @saver.py:90]\u001b[0m Model saved to train_log/sift-512-hidden-gls-r5/model-782.\n",
      "\u001b[32m[1112 12:40:40 @monitor.py:362]\u001b[0m DataParallelInferenceRunner/QueueInput/queue_size: 49.922\n",
      "\u001b[32m[1112 12:40:40 @monitor.py:362]\u001b[0m QueueInput/queue_size: 49.892\n",
      "\u001b[32m[1112 12:40:40 @monitor.py:362]\u001b[0m coverage: 2.4189\n",
      "\u001b[32m[1112 12:40:40 @monitor.py:362]\u001b[0m doubly_stochastic_loss: 0.90445\n",
      "\u001b[32m[1112 12:40:40 @monitor.py:362]\u001b[0m learning_rate: 0.001\n",
      "\u001b[32m[1112 12:40:40 @monitor.py:362]\u001b[0m loss/value: 8.9312\n",
      "\u001b[32m[1112 12:40:40 @monitor.py:362]\u001b[0m macro_auc: 0.83546\n",
      "\u001b[32m[1112 12:40:40 @monitor.py:362]\u001b[0m macro_f1: 0.5062\n",
      "\u001b[32m[1112 12:40:40 @monitor.py:362]\u001b[0m mean_average_precision: 0.53282\n",
      "\u001b[32m[1112 12:40:40 @monitor.py:362]\u001b[0m micro_auc: 0.83401\n",
      "\u001b[32m[1112 12:40:40 @monitor.py:362]\u001b[0m micro_f1: 0.52502\n",
      "\u001b[32m[1112 12:40:40 @monitor.py:362]\u001b[0m one_error: 0.46702\n",
      "\u001b[32m[1112 12:40:40 @monitor.py:362]\u001b[0m ranking_loss: 0.17612\n",
      "\u001b[32m[1112 12:40:40 @monitor.py:362]\u001b[0m ranking_mean_average_precision: 0.6692\n",
      "\u001b[32m[1112 12:40:40 @monitor.py:362]\u001b[0m training_ap: 0.33803\n",
      "\u001b[32m[1112 12:40:40 @monitor.py:362]\u001b[0m training_auc: 0.70672\n",
      "\u001b[32m[1112 12:40:40 @base.py:257]\u001b[0m Start Epoch 35 ...\n"
     ]
    },
    {
     "name": "stderr",
     "output_type": "stream",
     "text": [
      "\n",
      "100%|##########|23/23[00:01<00:00,16.26it/s]"
     ]
    },
    {
     "name": "stdout",
     "output_type": "stream",
     "text": [
      "\u001b[32m[1112 12:40:42 @base.py:267]\u001b[0m Epoch 35 (global_step 805) finished, time:1.42 sec.\n"
     ]
    },
    {
     "name": "stderr",
     "output_type": "stream",
     "text": [
      "\n",
      "100%|##########|5/5[00:00<00:00, 9.12it/s]"
     ]
    },
    {
     "name": "stdout",
     "output_type": "stream",
     "text": [
      "\u001b[32m[1112 12:40:42 @saver.py:90]\u001b[0m Model saved to train_log/sift-512-hidden-gls-r5/model-805.\n",
      "\u001b[32m[1112 12:40:42 @saver.py:159]\u001b[0m Model with maximum 'micro_f1' saved.\n",
      "\u001b[32m[1112 12:40:42 @monitor.py:362]\u001b[0m DataParallelInferenceRunner/QueueInput/queue_size: 49.942\n",
      "\u001b[32m[1112 12:40:42 @monitor.py:362]\u001b[0m QueueInput/queue_size: 49.909\n",
      "\u001b[32m[1112 12:40:42 @monitor.py:362]\u001b[0m coverage: 2.262\n",
      "\u001b[32m[1112 12:40:42 @monitor.py:362]\u001b[0m doubly_stochastic_loss: 1.1412\n",
      "\u001b[32m[1112 12:40:42 @monitor.py:362]\u001b[0m learning_rate: 0.001\n",
      "\u001b[32m[1112 12:40:42 @monitor.py:362]\u001b[0m loss/value: 8.9766\n",
      "\u001b[32m[1112 12:40:42 @monitor.py:362]\u001b[0m macro_auc: 0.84643\n",
      "\u001b[32m[1112 12:40:42 @monitor.py:362]\u001b[0m macro_f1: 0.51787\n",
      "\u001b[32m[1112 12:40:42 @monitor.py:362]\u001b[0m mean_average_precision: 0.55443\n",
      "\u001b[32m[1112 12:40:42 @monitor.py:362]\u001b[0m micro_auc: 0.84789\n",
      "\u001b[32m[1112 12:40:42 @monitor.py:362]\u001b[0m micro_f1: 0.54294\n",
      "\u001b[32m[1112 12:40:42 @monitor.py:362]\u001b[0m one_error: 0.44385\n",
      "\u001b[32m[1112 12:40:42 @monitor.py:362]\u001b[0m ranking_loss: 0.15939\n",
      "\u001b[32m[1112 12:40:42 @monitor.py:362]\u001b[0m ranking_mean_average_precision: 0.69035\n",
      "\u001b[32m[1112 12:40:42 @monitor.py:362]\u001b[0m training_ap: 0.34359\n",
      "\u001b[32m[1112 12:40:42 @monitor.py:362]\u001b[0m training_auc: 0.71078\n",
      "\u001b[32m[1112 12:40:42 @base.py:257]\u001b[0m Start Epoch 36 ...\n"
     ]
    },
    {
     "name": "stderr",
     "output_type": "stream",
     "text": [
      "\n",
      "100%|##########|23/23[00:01<00:00,15.66it/s]"
     ]
    },
    {
     "name": "stdout",
     "output_type": "stream",
     "text": [
      "\u001b[32m[1112 12:40:44 @base.py:267]\u001b[0m Epoch 36 (global_step 828) finished, time:1.47 sec.\n"
     ]
    },
    {
     "name": "stderr",
     "output_type": "stream",
     "text": [
      "\n",
      "100%|##########|5/5[00:00<00:00, 9.75it/s]"
     ]
    },
    {
     "name": "stdout",
     "output_type": "stream",
     "text": [
      "\u001b[32m[1112 12:40:44 @saver.py:90]\u001b[0m Model saved to train_log/sift-512-hidden-gls-r5/model-828.\n",
      "\u001b[32m[1112 12:40:44 @monitor.py:362]\u001b[0m DataParallelInferenceRunner/QueueInput/queue_size: 49.958\n",
      "\u001b[32m[1112 12:40:44 @monitor.py:362]\u001b[0m QueueInput/queue_size: 49.922\n",
      "\u001b[32m[1112 12:40:44 @monitor.py:362]\u001b[0m coverage: 2.3743\n",
      "\u001b[32m[1112 12:40:44 @monitor.py:362]\u001b[0m doubly_stochastic_loss: 0.92354\n",
      "\u001b[32m[1112 12:40:44 @monitor.py:362]\u001b[0m learning_rate: 0.001\n",
      "\u001b[32m[1112 12:40:44 @monitor.py:362]\u001b[0m loss/value: 8.9025\n",
      "\u001b[32m[1112 12:40:44 @monitor.py:362]\u001b[0m macro_auc: 0.8389\n",
      "\u001b[32m[1112 12:40:44 @monitor.py:362]\u001b[0m macro_f1: 0.51447\n",
      "\u001b[32m[1112 12:40:44 @monitor.py:362]\u001b[0m mean_average_precision: 0.55171\n",
      "\u001b[32m[1112 12:40:44 @monitor.py:362]\u001b[0m micro_auc: 0.8439\n",
      "\u001b[32m[1112 12:40:44 @monitor.py:362]\u001b[0m micro_f1: 0.53947\n",
      "\u001b[32m[1112 12:40:44 @monitor.py:362]\u001b[0m one_error: 0.45098\n",
      "\u001b[32m[1112 12:40:44 @monitor.py:362]\u001b[0m ranking_loss: 0.16971\n",
      "\u001b[32m[1112 12:40:44 @monitor.py:362]\u001b[0m ranking_mean_average_precision: 0.68235\n",
      "\u001b[32m[1112 12:40:44 @monitor.py:362]\u001b[0m training_ap: 0.34899\n",
      "\u001b[32m[1112 12:40:44 @monitor.py:362]\u001b[0m training_auc: 0.71471\n",
      "\u001b[32m[1112 12:40:44 @base.py:257]\u001b[0m Start Epoch 37 ...\n"
     ]
    },
    {
     "name": "stderr",
     "output_type": "stream",
     "text": [
      "\n",
      "100%|##########|23/23[00:01<00:00,15.10it/s]"
     ]
    },
    {
     "name": "stdout",
     "output_type": "stream",
     "text": [
      "\u001b[32m[1112 12:40:46 @base.py:267]\u001b[0m Epoch 37 (global_step 851) finished, time:1.53 sec.\n"
     ]
    },
    {
     "name": "stderr",
     "output_type": "stream",
     "text": [
      "\n",
      "100%|##########|5/5[00:00<00:00,10.20it/s]"
     ]
    },
    {
     "name": "stdout",
     "output_type": "stream",
     "text": [
      "\u001b[32m[1112 12:40:46 @saver.py:90]\u001b[0m Model saved to train_log/sift-512-hidden-gls-r5/model-851.\n",
      "\u001b[32m[1112 12:40:46 @monitor.py:362]\u001b[0m DataParallelInferenceRunner/QueueInput/queue_size: 49.969\n",
      "\u001b[32m[1112 12:40:46 @monitor.py:362]\u001b[0m QueueInput/queue_size: 49.856\n",
      "\u001b[32m[1112 12:40:46 @monitor.py:362]\u001b[0m coverage: 2.3405\n",
      "\u001b[32m[1112 12:40:46 @monitor.py:362]\u001b[0m doubly_stochastic_loss: 0.50926\n",
      "\u001b[32m[1112 12:40:46 @monitor.py:362]\u001b[0m learning_rate: 0.001\n",
      "\u001b[32m[1112 12:40:46 @monitor.py:362]\u001b[0m loss/value: 8.7674\n",
      "\u001b[32m[1112 12:40:46 @monitor.py:362]\u001b[0m macro_auc: 0.84194\n",
      "\u001b[32m[1112 12:40:46 @monitor.py:362]\u001b[0m macro_f1: 0.51705\n",
      "\u001b[32m[1112 12:40:46 @monitor.py:362]\u001b[0m mean_average_precision: 0.54817\n",
      "\u001b[32m[1112 12:40:46 @monitor.py:362]\u001b[0m micro_auc: 0.84594\n",
      "\u001b[32m[1112 12:40:46 @monitor.py:362]\u001b[0m micro_f1: 0.54241\n",
      "\u001b[32m[1112 12:40:46 @monitor.py:362]\u001b[0m one_error: 0.42068\n",
      "\u001b[32m[1112 12:40:46 @monitor.py:362]\u001b[0m ranking_loss: 0.16335\n",
      "\u001b[32m[1112 12:40:46 @monitor.py:362]\u001b[0m ranking_mean_average_precision: 0.69517\n",
      "\u001b[32m[1112 12:40:46 @monitor.py:362]\u001b[0m training_ap: 0.35407\n",
      "\u001b[32m[1112 12:40:46 @monitor.py:362]\u001b[0m training_auc: 0.71845\n",
      "\u001b[32m[1112 12:40:46 @base.py:257]\u001b[0m Start Epoch 38 ...\n"
     ]
    },
    {
     "name": "stderr",
     "output_type": "stream",
     "text": [
      "\n",
      "100%|##########|23/23[00:01<00:00,14.56it/s]"
     ]
    },
    {
     "name": "stdout",
     "output_type": "stream",
     "text": [
      "\u001b[32m[1112 12:40:48 @base.py:267]\u001b[0m Epoch 38 (global_step 874) finished, time:1.58 sec.\n"
     ]
    },
    {
     "name": "stderr",
     "output_type": "stream",
     "text": [
      "\n",
      "100%|##########|5/5[00:00<00:00,11.13it/s]"
     ]
    },
    {
     "name": "stdout",
     "output_type": "stream",
     "text": [
      "\u001b[32m[1112 12:40:48 @saver.py:90]\u001b[0m Model saved to train_log/sift-512-hidden-gls-r5/model-874.\n",
      "\u001b[32m[1112 12:40:48 @monitor.py:362]\u001b[0m DataParallelInferenceRunner/QueueInput/queue_size: 49.977\n",
      "\u001b[32m[1112 12:40:48 @monitor.py:362]\u001b[0m QueueInput/queue_size: 49.823\n",
      "\u001b[32m[1112 12:40:48 @monitor.py:362]\u001b[0m coverage: 2.3387\n",
      "\u001b[32m[1112 12:40:48 @monitor.py:362]\u001b[0m doubly_stochastic_loss: 0.18487\n",
      "\u001b[32m[1112 12:40:48 @monitor.py:362]\u001b[0m learning_rate: 0.001\n",
      "\u001b[32m[1112 12:40:48 @monitor.py:362]\u001b[0m loss/value: 8.688\n",
      "\u001b[32m[1112 12:40:48 @monitor.py:362]\u001b[0m macro_auc: 0.83902\n",
      "\u001b[32m[1112 12:40:48 @monitor.py:362]\u001b[0m macro_f1: 0.50962\n",
      "\u001b[32m[1112 12:40:48 @monitor.py:362]\u001b[0m mean_average_precision: 0.56115\n",
      "\u001b[32m[1112 12:40:48 @monitor.py:362]\u001b[0m micro_auc: 0.84589\n",
      "\u001b[32m[1112 12:40:48 @monitor.py:362]\u001b[0m micro_f1: 0.53077\n",
      "\u001b[32m[1112 12:40:48 @monitor.py:362]\u001b[0m one_error: 0.45633\n",
      "\u001b[32m[1112 12:40:48 @monitor.py:362]\u001b[0m ranking_loss: 0.16675\n",
      "\u001b[32m[1112 12:40:48 @monitor.py:362]\u001b[0m ranking_mean_average_precision: 0.68353\n",
      "\u001b[32m[1112 12:40:48 @monitor.py:362]\u001b[0m training_ap: 0.35894\n",
      "\u001b[32m[1112 12:40:48 @monitor.py:362]\u001b[0m training_auc: 0.72189\n",
      "\u001b[32m[1112 12:40:48 @base.py:257]\u001b[0m Start Epoch 39 ...\n"
     ]
    },
    {
     "name": "stderr",
     "output_type": "stream",
     "text": [
      "\n",
      "100%|##########|23/23[00:01<00:00,15.26it/s]"
     ]
    },
    {
     "name": "stdout",
     "output_type": "stream",
     "text": [
      "\u001b[32m[1112 12:40:50 @base.py:267]\u001b[0m Epoch 39 (global_step 897) finished, time:1.51 sec.\n"
     ]
    },
    {
     "name": "stderr",
     "output_type": "stream",
     "text": [
      "\n",
      "100%|##########|5/5[00:00<00:00, 9.50it/s]"
     ]
    },
    {
     "name": "stdout",
     "output_type": "stream",
     "text": [
      "\u001b[32m[1112 12:40:50 @saver.py:90]\u001b[0m Model saved to train_log/sift-512-hidden-gls-r5/model-897.\n",
      "\u001b[32m[1112 12:40:50 @saver.py:159]\u001b[0m Model with maximum 'micro_f1' saved.\n",
      "\u001b[32m[1112 12:40:50 @monitor.py:362]\u001b[0m DataParallelInferenceRunner/QueueInput/queue_size: 49.983\n",
      "\u001b[32m[1112 12:40:51 @monitor.py:362]\u001b[0m QueueInput/queue_size: 49.843\n",
      "\u001b[32m[1112 12:40:51 @monitor.py:362]\u001b[0m coverage: 2.3066\n",
      "\u001b[32m[1112 12:40:51 @monitor.py:362]\u001b[0m doubly_stochastic_loss: 0.28136\n",
      "\u001b[32m[1112 12:40:51 @monitor.py:362]\u001b[0m learning_rate: 0.001\n",
      "\u001b[32m[1112 12:40:51 @monitor.py:362]\u001b[0m loss/value: 8.6048\n",
      "\u001b[32m[1112 12:40:51 @monitor.py:362]\u001b[0m macro_auc: 0.84502\n",
      "\u001b[32m[1112 12:40:51 @monitor.py:362]\u001b[0m macro_f1: 0.51934\n",
      "\u001b[32m[1112 12:40:51 @monitor.py:362]\u001b[0m mean_average_precision: 0.54519\n",
      "\u001b[32m[1112 12:40:51 @monitor.py:362]\u001b[0m micro_auc: 0.84671\n",
      "\u001b[32m[1112 12:40:51 @monitor.py:362]\u001b[0m micro_f1: 0.54735\n",
      "\u001b[32m[1112 12:40:51 @monitor.py:362]\u001b[0m one_error: 0.45098\n",
      "\u001b[32m[1112 12:40:51 @monitor.py:362]\u001b[0m ranking_loss: 0.16323\n",
      "\u001b[32m[1112 12:40:51 @monitor.py:362]\u001b[0m ranking_mean_average_precision: 0.68454\n",
      "\u001b[32m[1112 12:40:51 @monitor.py:362]\u001b[0m training_ap: 0.3638\n",
      "\u001b[32m[1112 12:40:51 @monitor.py:362]\u001b[0m training_auc: 0.72541\n",
      "\u001b[32m[1112 12:40:51 @base.py:257]\u001b[0m Start Epoch 40 ...\n"
     ]
    },
    {
     "name": "stderr",
     "output_type": "stream",
     "text": [
      "\n",
      "100%|##########|23/23[00:01<00:00,13.88it/s]"
     ]
    },
    {
     "name": "stdout",
     "output_type": "stream",
     "text": [
      "\u001b[32m[1112 12:40:52 @base.py:267]\u001b[0m Epoch 40 (global_step 920) finished, time:1.66 sec.\n",
      "\u001b[32m[1112 12:40:52 @param.py:144]\u001b[0m After epoch 40, learning_rate will change to 0.00010000\n"
     ]
    },
    {
     "name": "stderr",
     "output_type": "stream",
     "text": [
      "\n",
      "100%|##########|5/5[00:00<00:00,10.65it/s]"
     ]
    },
    {
     "name": "stdout",
     "output_type": "stream",
     "text": [
      "\u001b[32m[1112 12:40:53 @saver.py:90]\u001b[0m Model saved to train_log/sift-512-hidden-gls-r5/model-920.\n",
      "\u001b[32m[1112 12:40:53 @monitor.py:362]\u001b[0m DataParallelInferenceRunner/QueueInput/queue_size: 49.988\n",
      "\u001b[32m[1112 12:40:53 @monitor.py:362]\u001b[0m QueueInput/queue_size: 49.909\n",
      "\u001b[32m[1112 12:40:53 @monitor.py:362]\u001b[0m coverage: 2.2692\n",
      "\u001b[32m[1112 12:40:53 @monitor.py:362]\u001b[0m doubly_stochastic_loss: 0.36656\n",
      "\u001b[32m[1112 12:40:53 @monitor.py:362]\u001b[0m learning_rate: 0.001\n",
      "\u001b[32m[1112 12:40:53 @monitor.py:362]\u001b[0m loss/value: 8.5931\n",
      "\u001b[32m[1112 12:40:53 @monitor.py:362]\u001b[0m macro_auc: 0.83942\n",
      "\u001b[32m[1112 12:40:53 @monitor.py:362]\u001b[0m macro_f1: 0.51572\n",
      "\u001b[32m[1112 12:40:53 @monitor.py:362]\u001b[0m mean_average_precision: 0.53661\n",
      "\u001b[32m[1112 12:40:53 @monitor.py:362]\u001b[0m micro_auc: 0.84654\n",
      "\u001b[32m[1112 12:40:53 @monitor.py:362]\u001b[0m micro_f1: 0.53958\n",
      "\u001b[32m[1112 12:40:53 @monitor.py:362]\u001b[0m one_error: 0.44385\n",
      "\u001b[32m[1112 12:40:53 @monitor.py:362]\u001b[0m ranking_loss: 0.15841\n",
      "\u001b[32m[1112 12:40:53 @monitor.py:362]\u001b[0m ranking_mean_average_precision: 0.6935\n",
      "\u001b[32m[1112 12:40:53 @monitor.py:362]\u001b[0m training_ap: 0.36862\n",
      "\u001b[32m[1112 12:40:53 @monitor.py:362]\u001b[0m training_auc: 0.72867\n",
      "\u001b[32m[1112 12:40:53 @base.py:257]\u001b[0m Start Epoch 41 ...\n"
     ]
    },
    {
     "name": "stderr",
     "output_type": "stream",
     "text": [
      "\n",
      "100%|##########|23/23[00:01<00:00,14.66it/s]"
     ]
    },
    {
     "name": "stdout",
     "output_type": "stream",
     "text": [
      "\u001b[32m[1112 12:40:54 @base.py:267]\u001b[0m Epoch 41 (global_step 943) finished, time:1.59 sec.\n"
     ]
    },
    {
     "name": "stderr",
     "output_type": "stream",
     "text": [
      "\n",
      "100%|##########|5/5[00:00<00:00,10.31it/s]"
     ]
    },
    {
     "name": "stdout",
     "output_type": "stream",
     "text": [
      "\u001b[32m[1112 12:40:55 @saver.py:90]\u001b[0m Model saved to train_log/sift-512-hidden-gls-r5/model-943.\n",
      "\u001b[32m[1112 12:40:55 @monitor.py:362]\u001b[0m DataParallelInferenceRunner/QueueInput/queue_size: 49.991\n",
      "\u001b[32m[1112 12:40:55 @monitor.py:362]\u001b[0m QueueInput/queue_size: 49.951\n",
      "\u001b[32m[1112 12:40:55 @monitor.py:362]\u001b[0m coverage: 2.2638\n",
      "\u001b[32m[1112 12:40:55 @monitor.py:362]\u001b[0m doubly_stochastic_loss: 0.63376\n",
      "\u001b[32m[1112 12:40:55 @monitor.py:362]\u001b[0m learning_rate: 0.0001\n",
      "\u001b[32m[1112 12:40:55 @monitor.py:362]\u001b[0m loss/value: 8.4749\n",
      "\u001b[32m[1112 12:40:55 @monitor.py:362]\u001b[0m macro_auc: 0.84135\n",
      "\u001b[32m[1112 12:40:55 @monitor.py:362]\u001b[0m macro_f1: 0.52217\n",
      "\u001b[32m[1112 12:40:55 @monitor.py:362]\u001b[0m mean_average_precision: 0.54535\n",
      "\u001b[32m[1112 12:40:55 @monitor.py:362]\u001b[0m micro_auc: 0.84729\n",
      "\u001b[32m[1112 12:40:55 @monitor.py:362]\u001b[0m micro_f1: 0.54289\n",
      "\u001b[32m[1112 12:40:55 @monitor.py:362]\u001b[0m one_error: 0.43672\n",
      "\u001b[32m[1112 12:40:55 @monitor.py:362]\u001b[0m ranking_loss: 0.15669\n",
      "\u001b[32m[1112 12:40:55 @monitor.py:362]\u001b[0m ranking_mean_average_precision: 0.69773\n",
      "\u001b[32m[1112 12:40:55 @monitor.py:362]\u001b[0m training_ap: 0.37349\n",
      "\u001b[32m[1112 12:40:55 @monitor.py:362]\u001b[0m training_auc: 0.73191\n",
      "\u001b[32m[1112 12:40:55 @base.py:257]\u001b[0m Start Epoch 42 ...\n"
     ]
    },
    {
     "name": "stderr",
     "output_type": "stream",
     "text": [
      "\n",
      "100%|##########|23/23[00:01<00:00,14.04it/s]"
     ]
    },
    {
     "name": "stdout",
     "output_type": "stream",
     "text": [
      "\u001b[32m[1112 12:40:56 @base.py:267]\u001b[0m Epoch 42 (global_step 966) finished, time:1.64 sec.\n"
     ]
    },
    {
     "name": "stderr",
     "output_type": "stream",
     "text": [
      "\n",
      "100%|##########|5/5[00:00<00:00, 9.00it/s]"
     ]
    },
    {
     "name": "stdout",
     "output_type": "stream",
     "text": [
      "\u001b[32m[1112 12:40:57 @saver.py:90]\u001b[0m Model saved to train_log/sift-512-hidden-gls-r5/model-966.\n",
      "\u001b[32m[1112 12:40:57 @monitor.py:362]\u001b[0m DataParallelInferenceRunner/QueueInput/queue_size: 49.993\n",
      "\u001b[32m[1112 12:40:57 @monitor.py:362]\u001b[0m QueueInput/queue_size: 49.907\n",
      "\u001b[32m[1112 12:40:57 @monitor.py:362]\u001b[0m coverage: 2.2371\n",
      "\u001b[32m[1112 12:40:57 @monitor.py:362]\u001b[0m doubly_stochastic_loss: 0.94349\n",
      "\u001b[32m[1112 12:40:57 @monitor.py:362]\u001b[0m learning_rate: 0.0001\n",
      "\u001b[32m[1112 12:40:57 @monitor.py:362]\u001b[0m loss/value: 8.6083\n",
      "\u001b[32m[1112 12:40:57 @monitor.py:362]\u001b[0m macro_auc: 0.83893\n",
      "\u001b[32m[1112 12:40:57 @monitor.py:362]\u001b[0m macro_f1: 0.51987\n",
      "\u001b[32m[1112 12:40:57 @monitor.py:362]\u001b[0m mean_average_precision: 0.54236\n",
      "\u001b[32m[1112 12:40:57 @monitor.py:362]\u001b[0m micro_auc: 0.84601\n",
      "\u001b[32m[1112 12:40:57 @monitor.py:362]\u001b[0m micro_f1: 0.54552\n",
      "\u001b[32m[1112 12:40:57 @monitor.py:362]\u001b[0m one_error: 0.42781\n",
      "\u001b[32m[1112 12:40:57 @monitor.py:362]\u001b[0m ranking_loss: 0.15551\n",
      "\u001b[32m[1112 12:40:57 @monitor.py:362]\u001b[0m ranking_mean_average_precision: 0.70374\n",
      "\u001b[32m[1112 12:40:57 @monitor.py:362]\u001b[0m training_ap: 0.37804\n",
      "\u001b[32m[1112 12:40:57 @monitor.py:362]\u001b[0m training_auc: 0.73503\n",
      "\u001b[32m[1112 12:40:57 @base.py:257]\u001b[0m Start Epoch 43 ...\n"
     ]
    },
    {
     "name": "stderr",
     "output_type": "stream",
     "text": [
      "\n",
      "100%|##########|23/23[00:01<00:00,15.27it/s]"
     ]
    },
    {
     "name": "stdout",
     "output_type": "stream",
     "text": [
      "\u001b[32m[1112 12:40:59 @base.py:267]\u001b[0m Epoch 43 (global_step 989) finished, time:1.51 sec.\n"
     ]
    },
    {
     "name": "stderr",
     "output_type": "stream",
     "text": [
      "\n",
      "100%|##########|5/5[00:00<00:00,10.94it/s]"
     ]
    },
    {
     "name": "stdout",
     "output_type": "stream",
     "text": [
      "\u001b[32m[1112 12:40:59 @saver.py:90]\u001b[0m Model saved to train_log/sift-512-hidden-gls-r5/model-989.\n",
      "\u001b[32m[1112 12:40:59 @monitor.py:362]\u001b[0m DataParallelInferenceRunner/QueueInput/queue_size: 49.954\n",
      "\u001b[32m[1112 12:40:59 @monitor.py:362]\u001b[0m QueueInput/queue_size: 49.954\n",
      "\u001b[32m[1112 12:40:59 @monitor.py:362]\u001b[0m coverage: 2.2727\n",
      "\u001b[32m[1112 12:40:59 @monitor.py:362]\u001b[0m doubly_stochastic_loss: 0.96519\n",
      "\u001b[32m[1112 12:40:59 @monitor.py:362]\u001b[0m learning_rate: 0.0001\n",
      "\u001b[32m[1112 12:40:59 @monitor.py:362]\u001b[0m loss/value: 8.6343\n",
      "\u001b[32m[1112 12:40:59 @monitor.py:362]\u001b[0m macro_auc: 0.84163\n",
      "\u001b[32m[1112 12:40:59 @monitor.py:362]\u001b[0m macro_f1: 0.51906\n",
      "\u001b[32m[1112 12:40:59 @monitor.py:362]\u001b[0m mean_average_precision: 0.53486\n",
      "\u001b[32m[1112 12:40:59 @monitor.py:362]\u001b[0m micro_auc: 0.84772\n",
      "\u001b[32m[1112 12:40:59 @monitor.py:362]\u001b[0m micro_f1: 0.54452\n",
      "\u001b[32m[1112 12:40:59 @monitor.py:362]\u001b[0m one_error: 0.44563\n",
      "\u001b[32m[1112 12:40:59 @monitor.py:362]\u001b[0m ranking_loss: 0.16214\n",
      "\u001b[32m[1112 12:40:59 @monitor.py:362]\u001b[0m ranking_mean_average_precision: 0.69157\n",
      "\u001b[32m[1112 12:40:59 @monitor.py:362]\u001b[0m training_ap: 0.38244\n",
      "\u001b[32m[1112 12:40:59 @monitor.py:362]\u001b[0m training_auc: 0.73787\n",
      "\u001b[32m[1112 12:40:59 @base.py:257]\u001b[0m Start Epoch 44 ...\n"
     ]
    },
    {
     "name": "stderr",
     "output_type": "stream",
     "text": [
      "\n",
      "100%|##########|23/23[00:01<00:00,14.72it/s]"
     ]
    },
    {
     "name": "stdout",
     "output_type": "stream",
     "text": [
      "\u001b[32m[1112 12:41:01 @base.py:267]\u001b[0m Epoch 44 (global_step 1012) finished, time:1.58 sec.\n"
     ]
    },
    {
     "name": "stderr",
     "output_type": "stream",
     "text": [
      "\n",
      "100%|##########|5/5[00:00<00:00,10.00it/s]"
     ]
    },
    {
     "name": "stdout",
     "output_type": "stream",
     "text": [
      "\u001b[32m[1112 12:41:01 @saver.py:90]\u001b[0m Model saved to train_log/sift-512-hidden-gls-r5/model-1012.\n",
      "\u001b[32m[1112 12:41:01 @saver.py:159]\u001b[0m Model with maximum 'micro_f1' saved.\n",
      "\u001b[32m[1112 12:41:01 @monitor.py:362]\u001b[0m DataParallelInferenceRunner/QueueInput/queue_size: 49.966\n",
      "\u001b[32m[1112 12:41:01 @monitor.py:362]\u001b[0m QueueInput/queue_size: 49.86\n",
      "\u001b[32m[1112 12:41:01 @monitor.py:362]\u001b[0m coverage: 2.2852\n",
      "\u001b[32m[1112 12:41:01 @monitor.py:362]\u001b[0m doubly_stochastic_loss: 1.2922\n",
      "\u001b[32m[1112 12:41:01 @monitor.py:362]\u001b[0m learning_rate: 0.0001\n",
      "\u001b[32m[1112 12:41:01 @monitor.py:362]\u001b[0m loss/value: 8.4757\n",
      "\u001b[32m[1112 12:41:01 @monitor.py:362]\u001b[0m macro_auc: 0.84586\n",
      "\u001b[32m[1112 12:41:01 @monitor.py:362]\u001b[0m macro_f1: 0.52501\n",
      "\u001b[32m[1112 12:41:01 @monitor.py:362]\u001b[0m mean_average_precision: 0.55405\n",
      "\u001b[32m[1112 12:41:01 @monitor.py:362]\u001b[0m micro_auc: 0.85155\n",
      "\u001b[32m[1112 12:41:01 @monitor.py:362]\u001b[0m micro_f1: 0.54849\n",
      "\u001b[32m[1112 12:41:01 @monitor.py:362]\u001b[0m one_error: 0.44563\n",
      "\u001b[32m[1112 12:41:01 @monitor.py:362]\u001b[0m ranking_loss: 0.15944\n",
      "\u001b[32m[1112 12:41:01 @monitor.py:362]\u001b[0m ranking_mean_average_precision: 0.69121\n",
      "\u001b[32m[1112 12:41:01 @monitor.py:362]\u001b[0m training_ap: 0.38677\n",
      "\u001b[32m[1112 12:41:01 @monitor.py:362]\u001b[0m training_auc: 0.7408\n",
      "\u001b[32m[1112 12:41:01 @base.py:257]\u001b[0m Start Epoch 45 ...\n"
     ]
    },
    {
     "name": "stderr",
     "output_type": "stream",
     "text": [
      "\n",
      "100%|##########|23/23[00:01<00:00,13.55it/s]"
     ]
    },
    {
     "name": "stdout",
     "output_type": "stream",
     "text": [
      "\u001b[32m[1112 12:41:03 @base.py:267]\u001b[0m Epoch 45 (global_step 1035) finished, time:1.70 sec.\n"
     ]
    },
    {
     "name": "stderr",
     "output_type": "stream",
     "text": [
      "\n",
      "100%|##########|5/5[00:00<00:00,11.11it/s]"
     ]
    },
    {
     "name": "stdout",
     "output_type": "stream",
     "text": [
      "\u001b[32m[1112 12:41:04 @saver.py:90]\u001b[0m Model saved to train_log/sift-512-hidden-gls-r5/model-1035.\n",
      "\u001b[32m[1112 12:41:04 @saver.py:159]\u001b[0m Model with maximum 'micro_f1' saved.\n",
      "\u001b[32m[1112 12:41:04 @monitor.py:362]\u001b[0m DataParallelInferenceRunner/QueueInput/queue_size: 49.975\n",
      "\u001b[32m[1112 12:41:04 @monitor.py:362]\u001b[0m QueueInput/queue_size: 49.92\n",
      "\u001b[32m[1112 12:41:04 @monitor.py:362]\u001b[0m coverage: 2.2513\n",
      "\u001b[32m[1112 12:41:04 @monitor.py:362]\u001b[0m doubly_stochastic_loss: 0.51632\n",
      "\u001b[32m[1112 12:41:04 @monitor.py:362]\u001b[0m learning_rate: 0.0001\n",
      "\u001b[32m[1112 12:41:04 @monitor.py:362]\u001b[0m loss/value: 8.4033\n",
      "\u001b[32m[1112 12:41:04 @monitor.py:362]\u001b[0m macro_auc: 0.85326\n",
      "\u001b[32m[1112 12:41:04 @monitor.py:362]\u001b[0m macro_f1: 0.53011\n",
      "\u001b[32m[1112 12:41:04 @monitor.py:362]\u001b[0m mean_average_precision: 0.56217\n",
      "\u001b[32m[1112 12:41:04 @monitor.py:362]\u001b[0m micro_auc: 0.8522\n",
      "\u001b[32m[1112 12:41:04 @monitor.py:362]\u001b[0m micro_f1: 0.55115\n",
      "\u001b[32m[1112 12:41:04 @monitor.py:362]\u001b[0m one_error: 0.42781\n",
      "\u001b[32m[1112 12:41:04 @monitor.py:362]\u001b[0m ranking_loss: 0.1555\n",
      "\u001b[32m[1112 12:41:04 @monitor.py:362]\u001b[0m ranking_mean_average_precision: 0.69974\n",
      "\u001b[32m[1112 12:41:04 @monitor.py:362]\u001b[0m training_ap: 0.39092\n",
      "\u001b[32m[1112 12:41:04 @monitor.py:362]\u001b[0m training_auc: 0.74363\n",
      "\u001b[32m[1112 12:41:04 @base.py:257]\u001b[0m Start Epoch 46 ...\n"
     ]
    },
    {
     "name": "stderr",
     "output_type": "stream",
     "text": [
      "\n",
      "100%|##########|23/23[00:01<00:00,13.89it/s]"
     ]
    },
    {
     "name": "stdout",
     "output_type": "stream",
     "text": [
      "\u001b[32m[1112 12:41:05 @base.py:267]\u001b[0m Epoch 46 (global_step 1058) finished, time:1.66 sec.\n"
     ]
    },
    {
     "name": "stderr",
     "output_type": "stream",
     "text": [
      "\n",
      "100%|##########|5/5[00:00<00:00,10.41it/s]"
     ]
    },
    {
     "name": "stdout",
     "output_type": "stream",
     "text": [
      "\u001b[32m[1112 12:41:06 @saver.py:90]\u001b[0m Model saved to train_log/sift-512-hidden-gls-r5/model-1058.\n",
      "\u001b[32m[1112 12:41:06 @monitor.py:362]\u001b[0m DataParallelInferenceRunner/QueueInput/queue_size: 49.982\n",
      "\u001b[32m[1112 12:41:06 @monitor.py:362]\u001b[0m QueueInput/queue_size: 49.957\n",
      "\u001b[32m[1112 12:41:06 @monitor.py:362]\u001b[0m coverage: 2.2246\n",
      "\u001b[32m[1112 12:41:06 @monitor.py:362]\u001b[0m doubly_stochastic_loss: 1.1229\n",
      "\u001b[32m[1112 12:41:06 @monitor.py:362]\u001b[0m learning_rate: 0.0001\n",
      "\u001b[32m[1112 12:41:06 @monitor.py:362]\u001b[0m loss/value: 8.4487\n",
      "\u001b[32m[1112 12:41:06 @monitor.py:362]\u001b[0m macro_auc: 0.85041\n",
      "\u001b[32m[1112 12:41:06 @monitor.py:362]\u001b[0m macro_f1: 0.52455\n",
      "\u001b[32m[1112 12:41:06 @monitor.py:362]\u001b[0m mean_average_precision: 0.57069\n",
      "\u001b[32m[1112 12:41:06 @monitor.py:362]\u001b[0m micro_auc: 0.85252\n",
      "\u001b[32m[1112 12:41:06 @monitor.py:362]\u001b[0m micro_f1: 0.54825\n",
      "\u001b[32m[1112 12:41:06 @monitor.py:362]\u001b[0m one_error: 0.44385\n",
      "\u001b[32m[1112 12:41:06 @monitor.py:362]\u001b[0m ranking_loss: 0.15208\n",
      "\u001b[32m[1112 12:41:06 @monitor.py:362]\u001b[0m ranking_mean_average_precision: 0.69777\n",
      "\u001b[32m[1112 12:41:06 @monitor.py:362]\u001b[0m training_ap: 0.39513\n",
      "\u001b[32m[1112 12:41:06 @monitor.py:362]\u001b[0m training_auc: 0.74638\n",
      "\u001b[32m[1112 12:41:06 @base.py:257]\u001b[0m Start Epoch 47 ...\n"
     ]
    },
    {
     "name": "stderr",
     "output_type": "stream",
     "text": [
      "\n",
      "100%|##########|23/23[00:01<00:00,14.48it/s]"
     ]
    },
    {
     "name": "stdout",
     "output_type": "stream",
     "text": [
      "\u001b[32m[1112 12:41:07 @base.py:267]\u001b[0m Epoch 47 (global_step 1081) finished, time:1.60 sec.\n"
     ]
    },
    {
     "name": "stderr",
     "output_type": "stream",
     "text": [
      "\n",
      "100%|##########|5/5[00:00<00:00, 9.37it/s]"
     ]
    },
    {
     "name": "stdout",
     "output_type": "stream",
     "text": [
      "\u001b[32m[1112 12:41:08 @saver.py:90]\u001b[0m Model saved to train_log/sift-512-hidden-gls-r5/model-1081.\n",
      "\u001b[32m[1112 12:41:08 @monitor.py:362]\u001b[0m DataParallelInferenceRunner/QueueInput/queue_size: 49.987\n",
      "\u001b[32m[1112 12:41:08 @monitor.py:362]\u001b[0m QueueInput/queue_size: 49.97\n",
      "\u001b[32m[1112 12:41:08 @monitor.py:362]\u001b[0m coverage: 2.2282\n",
      "\u001b[32m[1112 12:41:08 @monitor.py:362]\u001b[0m doubly_stochastic_loss: 0.69791\n",
      "\u001b[32m[1112 12:41:08 @monitor.py:362]\u001b[0m learning_rate: 0.0001\n",
      "\u001b[32m[1112 12:41:08 @monitor.py:362]\u001b[0m loss/value: 8.4472\n",
      "\u001b[32m[1112 12:41:08 @monitor.py:362]\u001b[0m macro_auc: 0.84787\n",
      "\u001b[32m[1112 12:41:08 @monitor.py:362]\u001b[0m macro_f1: 0.52087\n",
      "\u001b[32m[1112 12:41:08 @monitor.py:362]\u001b[0m mean_average_precision: 0.56207\n",
      "\u001b[32m[1112 12:41:08 @monitor.py:362]\u001b[0m micro_auc: 0.85185\n",
      "\u001b[32m[1112 12:41:08 @monitor.py:362]\u001b[0m micro_f1: 0.54174\n",
      "\u001b[32m[1112 12:41:08 @monitor.py:362]\u001b[0m one_error: 0.45276\n",
      "\u001b[32m[1112 12:41:08 @monitor.py:362]\u001b[0m ranking_loss: 0.15546\n",
      "\u001b[32m[1112 12:41:08 @monitor.py:362]\u001b[0m ranking_mean_average_precision: 0.69119\n",
      "\u001b[32m[1112 12:41:08 @monitor.py:362]\u001b[0m training_ap: 0.39884\n",
      "\u001b[32m[1112 12:41:08 @monitor.py:362]\u001b[0m training_auc: 0.7488\n",
      "\u001b[32m[1112 12:41:08 @base.py:257]\u001b[0m Start Epoch 48 ...\n"
     ]
    },
    {
     "name": "stderr",
     "output_type": "stream",
     "text": [
      "\n",
      "100%|##########|23/23[00:01<00:00,14.85it/s]"
     ]
    },
    {
     "name": "stdout",
     "output_type": "stream",
     "text": [
      "\u001b[32m[1112 12:41:10 @base.py:267]\u001b[0m Epoch 48 (global_step 1104) finished, time:1.55 sec.\n"
     ]
    },
    {
     "name": "stderr",
     "output_type": "stream",
     "text": [
      "\n",
      "100%|##########|5/5[00:00<00:00,10.05it/s]"
     ]
    },
    {
     "name": "stdout",
     "output_type": "stream",
     "text": [
      "\u001b[32m[1112 12:41:10 @saver.py:90]\u001b[0m Model saved to train_log/sift-512-hidden-gls-r5/model-1104.\n",
      "\u001b[32m[1112 12:41:10 @monitor.py:362]\u001b[0m DataParallelInferenceRunner/QueueInput/queue_size: 49.99\n",
      "\u001b[32m[1112 12:41:10 @monitor.py:362]\u001b[0m QueueInput/queue_size: 49.818\n",
      "\u001b[32m[1112 12:41:10 @monitor.py:362]\u001b[0m coverage: 2.246\n",
      "\u001b[32m[1112 12:41:10 @monitor.py:362]\u001b[0m doubly_stochastic_loss: 0.56201\n",
      "\u001b[32m[1112 12:41:10 @monitor.py:362]\u001b[0m learning_rate: 0.0001\n",
      "\u001b[32m[1112 12:41:10 @monitor.py:362]\u001b[0m loss/value: 8.4616\n",
      "\u001b[32m[1112 12:41:10 @monitor.py:362]\u001b[0m macro_auc: 0.8503\n",
      "\u001b[32m[1112 12:41:10 @monitor.py:362]\u001b[0m macro_f1: 0.52981\n",
      "\u001b[32m[1112 12:41:10 @monitor.py:362]\u001b[0m mean_average_precision: 0.55505\n",
      "\u001b[32m[1112 12:41:10 @monitor.py:362]\u001b[0m micro_auc: 0.85355\n",
      "\u001b[32m[1112 12:41:10 @monitor.py:362]\u001b[0m micro_f1: 0.55081\n",
      "\u001b[32m[1112 12:41:10 @monitor.py:362]\u001b[0m one_error: 0.45455\n",
      "\u001b[32m[1112 12:41:10 @monitor.py:362]\u001b[0m ranking_loss: 0.15732\n",
      "\u001b[32m[1112 12:41:10 @monitor.py:362]\u001b[0m ranking_mean_average_precision: 0.68918\n",
      "\u001b[32m[1112 12:41:10 @monitor.py:362]\u001b[0m training_ap: 0.4026\n",
      "\u001b[32m[1112 12:41:10 @monitor.py:362]\u001b[0m training_auc: 0.75117\n",
      "\u001b[32m[1112 12:41:10 @base.py:257]\u001b[0m Start Epoch 49 ...\n"
     ]
    },
    {
     "name": "stderr",
     "output_type": "stream",
     "text": [
      "\n",
      "100%|##########|23/23[00:01<00:00,14.64it/s]"
     ]
    },
    {
     "name": "stdout",
     "output_type": "stream",
     "text": [
      "\u001b[32m[1112 12:41:12 @base.py:267]\u001b[0m Epoch 49 (global_step 1127) finished, time:1.58 sec.\n"
     ]
    },
    {
     "name": "stderr",
     "output_type": "stream",
     "text": [
      "\n",
      "100%|##########|5/5[00:00<00:00,10.42it/s]"
     ]
    },
    {
     "name": "stdout",
     "output_type": "stream",
     "text": [
      "\u001b[32m[1112 12:41:12 @saver.py:90]\u001b[0m Model saved to train_log/sift-512-hidden-gls-r5/model-1127.\n",
      "\u001b[32m[1112 12:41:12 @saver.py:159]\u001b[0m Model with maximum 'micro_f1' saved.\n",
      "\u001b[32m[1112 12:41:12 @monitor.py:362]\u001b[0m DataParallelInferenceRunner/QueueInput/queue_size: 49.907\n",
      "\u001b[32m[1112 12:41:12 @monitor.py:362]\u001b[0m QueueInput/queue_size: 49.917\n",
      "\u001b[32m[1112 12:41:12 @monitor.py:362]\u001b[0m coverage: 2.1729\n",
      "\u001b[32m[1112 12:41:12 @monitor.py:362]\u001b[0m doubly_stochastic_loss: 0.751\n",
      "\u001b[32m[1112 12:41:12 @monitor.py:362]\u001b[0m learning_rate: 0.0001\n",
      "\u001b[32m[1112 12:41:12 @monitor.py:362]\u001b[0m loss/value: 8.4813\n",
      "\u001b[32m[1112 12:41:12 @monitor.py:362]\u001b[0m macro_auc: 0.84837\n",
      "\u001b[32m[1112 12:41:12 @monitor.py:362]\u001b[0m macro_f1: 0.54095\n",
      "\u001b[32m[1112 12:41:12 @monitor.py:362]\u001b[0m mean_average_precision: 0.56065\n",
      "\u001b[32m[1112 12:41:12 @monitor.py:362]\u001b[0m micro_auc: 0.85472\n",
      "\u001b[32m[1112 12:41:12 @monitor.py:362]\u001b[0m micro_f1: 0.56079\n",
      "\u001b[32m[1112 12:41:12 @monitor.py:362]\u001b[0m one_error: 0.43672\n",
      "\u001b[32m[1112 12:41:12 @monitor.py:362]\u001b[0m ranking_loss: 0.14944\n",
      "\u001b[32m[1112 12:41:12 @monitor.py:362]\u001b[0m ranking_mean_average_precision: 0.70116\n",
      "\u001b[32m[1112 12:41:12 @monitor.py:362]\u001b[0m training_ap: 0.40597\n",
      "\u001b[32m[1112 12:41:12 @monitor.py:362]\u001b[0m training_auc: 0.75339\n",
      "\u001b[32m[1112 12:41:12 @base.py:257]\u001b[0m Start Epoch 50 ...\n"
     ]
    },
    {
     "name": "stderr",
     "output_type": "stream",
     "text": [
      "\n",
      "100%|##########|23/23[00:01<00:00,14.90it/s]"
     ]
    },
    {
     "name": "stdout",
     "output_type": "stream",
     "text": [
      "\u001b[32m[1112 12:41:14 @base.py:267]\u001b[0m Epoch 50 (global_step 1150) finished, time:1.55 sec.\n"
     ]
    },
    {
     "name": "stderr",
     "output_type": "stream",
     "text": [
      "\n",
      "100%|##########|5/5[00:00<00:00, 9.96it/s]"
     ]
    },
    {
     "name": "stdout",
     "output_type": "stream",
     "text": [
      "\u001b[32m[1112 12:41:14 @saver.py:90]\u001b[0m Model saved to train_log/sift-512-hidden-gls-r5/model-1150.\n",
      "\u001b[32m[1112 12:41:14 @monitor.py:362]\u001b[0m DataParallelInferenceRunner/QueueInput/queue_size: 49.886\n",
      "\u001b[32m[1112 12:41:14 @monitor.py:362]\u001b[0m QueueInput/queue_size: 49.917\n",
      "\u001b[32m[1112 12:41:14 @monitor.py:362]\u001b[0m coverage: 2.1462\n",
      "\u001b[32m[1112 12:41:14 @monitor.py:362]\u001b[0m doubly_stochastic_loss: 0.7949\n",
      "\u001b[32m[1112 12:41:14 @monitor.py:362]\u001b[0m learning_rate: 0.0001\n",
      "\u001b[32m[1112 12:41:14 @monitor.py:362]\u001b[0m loss/value: 8.4805\n",
      "\u001b[32m[1112 12:41:14 @monitor.py:362]\u001b[0m macro_auc: 0.85739\n",
      "\u001b[32m[1112 12:41:14 @monitor.py:362]\u001b[0m macro_f1: 0.53779\n",
      "\u001b[32m[1112 12:41:14 @monitor.py:362]\u001b[0m mean_average_precision: 0.58227\n",
      "\u001b[32m[1112 12:41:14 @monitor.py:362]\u001b[0m micro_auc: 0.86292\n",
      "\u001b[32m[1112 12:41:14 @monitor.py:362]\u001b[0m micro_f1: 0.55615\n",
      "\u001b[32m[1112 12:41:14 @monitor.py:362]\u001b[0m one_error: 0.42602\n",
      "\u001b[32m[1112 12:41:14 @monitor.py:362]\u001b[0m ranking_loss: 0.14589\n",
      "\u001b[32m[1112 12:41:14 @monitor.py:362]\u001b[0m ranking_mean_average_precision: 0.70702\n",
      "\u001b[32m[1112 12:41:14 @monitor.py:362]\u001b[0m training_ap: 0.40926\n",
      "\u001b[32m[1112 12:41:14 @monitor.py:362]\u001b[0m training_auc: 0.75547\n",
      "\u001b[32m[1112 12:41:14 @base.py:257]\u001b[0m Start Epoch 51 ...\n"
     ]
    },
    {
     "name": "stderr",
     "output_type": "stream",
     "text": [
      "\n",
      "100%|##########|23/23[00:01<00:00,15.08it/s]"
     ]
    },
    {
     "name": "stdout",
     "output_type": "stream",
     "text": [
      "\u001b[32m[1112 12:41:16 @base.py:267]\u001b[0m Epoch 51 (global_step 1173) finished, time:1.53 sec.\n"
     ]
    },
    {
     "name": "stderr",
     "output_type": "stream",
     "text": [
      "\n",
      "100%|##########|5/5[00:00<00:00, 9.90it/s]"
     ]
    },
    {
     "name": "stdout",
     "output_type": "stream",
     "text": [
      "\u001b[32m[1112 12:41:16 @saver.py:90]\u001b[0m Model saved to train_log/sift-512-hidden-gls-r5/model-1173.\n",
      "\u001b[32m[1112 12:41:16 @monitor.py:362]\u001b[0m DataParallelInferenceRunner/QueueInput/queue_size: 49.876\n",
      "\u001b[32m[1112 12:41:16 @monitor.py:362]\u001b[0m QueueInput/queue_size: 49.902\n",
      "\u001b[32m[1112 12:41:16 @monitor.py:362]\u001b[0m coverage: 2.2709\n",
      "\u001b[32m[1112 12:41:16 @monitor.py:362]\u001b[0m doubly_stochastic_loss: 0.83544\n",
      "\u001b[32m[1112 12:41:16 @monitor.py:362]\u001b[0m learning_rate: 0.0001\n",
      "\u001b[32m[1112 12:41:16 @monitor.py:362]\u001b[0m loss/value: 8.4131\n",
      "\u001b[32m[1112 12:41:16 @monitor.py:362]\u001b[0m macro_auc: 0.8353\n",
      "\u001b[32m[1112 12:41:16 @monitor.py:362]\u001b[0m macro_f1: 0.51835\n",
      "\u001b[32m[1112 12:41:16 @monitor.py:362]\u001b[0m mean_average_precision: 0.54329\n",
      "\u001b[32m[1112 12:41:16 @monitor.py:362]\u001b[0m micro_auc: 0.84568\n",
      "\u001b[32m[1112 12:41:16 @monitor.py:362]\u001b[0m micro_f1: 0.54532\n",
      "\u001b[32m[1112 12:41:16 @monitor.py:362]\u001b[0m one_error: 0.43672\n",
      "\u001b[32m[1112 12:41:16 @monitor.py:362]\u001b[0m ranking_loss: 0.15973\n",
      "\u001b[32m[1112 12:41:16 @monitor.py:362]\u001b[0m ranking_mean_average_precision: 0.69699\n",
      "\u001b[32m[1112 12:41:16 @monitor.py:362]\u001b[0m training_ap: 0.41251\n",
      "\u001b[32m[1112 12:41:16 @monitor.py:362]\u001b[0m training_auc: 0.75755\n",
      "\u001b[32m[1112 12:41:16 @base.py:257]\u001b[0m Start Epoch 52 ...\n"
     ]
    },
    {
     "name": "stderr",
     "output_type": "stream",
     "text": [
      "\n",
      "100%|##########|23/23[00:01<00:00,16.01it/s]"
     ]
    },
    {
     "name": "stdout",
     "output_type": "stream",
     "text": [
      "\u001b[32m[1112 12:41:18 @base.py:267]\u001b[0m Epoch 52 (global_step 1196) finished, time:1.44 sec.\n"
     ]
    },
    {
     "name": "stderr",
     "output_type": "stream",
     "text": [
      "\n",
      "100%|##########|5/5[00:00<00:00, 9.54it/s]"
     ]
    },
    {
     "name": "stdout",
     "output_type": "stream",
     "text": [
      "\u001b[32m[1112 12:41:18 @saver.py:90]\u001b[0m Model saved to train_log/sift-512-hidden-gls-r5/model-1196.\n",
      "\u001b[32m[1112 12:41:18 @monitor.py:362]\u001b[0m DataParallelInferenceRunner/QueueInput/queue_size: 49.868\n",
      "\u001b[32m[1112 12:41:18 @monitor.py:362]\u001b[0m QueueInput/queue_size: 49.837\n",
      "\u001b[32m[1112 12:41:18 @monitor.py:362]\u001b[0m coverage: 2.1836\n",
      "\u001b[32m[1112 12:41:18 @monitor.py:362]\u001b[0m doubly_stochastic_loss: 0.29857\n",
      "\u001b[32m[1112 12:41:18 @monitor.py:362]\u001b[0m learning_rate: 0.0001\n",
      "\u001b[32m[1112 12:41:18 @monitor.py:362]\u001b[0m loss/value: 8.3998\n",
      "\u001b[32m[1112 12:41:18 @monitor.py:362]\u001b[0m macro_auc: 0.84839\n",
      "\u001b[32m[1112 12:41:18 @monitor.py:362]\u001b[0m macro_f1: 0.52654\n",
      "\u001b[32m[1112 12:41:18 @monitor.py:362]\u001b[0m mean_average_precision: 0.55246\n",
      "\u001b[32m[1112 12:41:18 @monitor.py:362]\u001b[0m micro_auc: 0.85254\n",
      "\u001b[32m[1112 12:41:18 @monitor.py:362]\u001b[0m micro_f1: 0.54929\n",
      "\u001b[32m[1112 12:41:18 @monitor.py:362]\u001b[0m one_error: 0.4385\n",
      "\u001b[32m[1112 12:41:18 @monitor.py:362]\u001b[0m ranking_loss: 0.14957\n",
      "\u001b[32m[1112 12:41:18 @monitor.py:362]\u001b[0m ranking_mean_average_precision: 0.69864\n",
      "\u001b[32m[1112 12:41:18 @monitor.py:362]\u001b[0m training_ap: 0.41572\n",
      "\u001b[32m[1112 12:41:18 @monitor.py:362]\u001b[0m training_auc: 0.7596\n",
      "\u001b[32m[1112 12:41:18 @base.py:257]\u001b[0m Start Epoch 53 ...\n"
     ]
    },
    {
     "name": "stderr",
     "output_type": "stream",
     "text": [
      "\n",
      "100%|##########|23/23[00:01<00:00,14.95it/s]"
     ]
    },
    {
     "name": "stdout",
     "output_type": "stream",
     "text": [
      "\u001b[32m[1112 12:41:20 @base.py:267]\u001b[0m Epoch 53 (global_step 1219) finished, time:1.54 sec.\n"
     ]
    },
    {
     "name": "stderr",
     "output_type": "stream",
     "text": [
      "\n",
      "100%|##########|5/5[00:00<00:00,10.12it/s]"
     ]
    },
    {
     "name": "stdout",
     "output_type": "stream",
     "text": [
      "\u001b[32m[1112 12:41:21 @saver.py:90]\u001b[0m Model saved to train_log/sift-512-hidden-gls-r5/model-1219.\n",
      "\u001b[32m[1112 12:41:21 @monitor.py:362]\u001b[0m DataParallelInferenceRunner/QueueInput/queue_size: 49.862\n",
      "\u001b[32m[1112 12:41:21 @monitor.py:362]\u001b[0m QueueInput/queue_size: 49.75\n",
      "\u001b[32m[1112 12:41:21 @monitor.py:362]\u001b[0m coverage: 2.2531\n",
      "\u001b[32m[1112 12:41:21 @monitor.py:362]\u001b[0m doubly_stochastic_loss: 1.6868\n",
      "\u001b[32m[1112 12:41:21 @monitor.py:362]\u001b[0m learning_rate: 0.0001\n",
      "\u001b[32m[1112 12:41:21 @monitor.py:362]\u001b[0m loss/value: 8.3997\n",
      "\u001b[32m[1112 12:41:21 @monitor.py:362]\u001b[0m macro_auc: 0.83401\n",
      "\u001b[32m[1112 12:41:21 @monitor.py:362]\u001b[0m macro_f1: 0.51299\n",
      "\u001b[32m[1112 12:41:21 @monitor.py:362]\u001b[0m mean_average_precision: 0.53393\n",
      "\u001b[32m[1112 12:41:21 @monitor.py:362]\u001b[0m micro_auc: 0.84612\n",
      "\u001b[32m[1112 12:41:21 @monitor.py:362]\u001b[0m micro_f1: 0.53876\n",
      "\u001b[32m[1112 12:41:21 @monitor.py:362]\u001b[0m one_error: 0.45633\n",
      "\u001b[32m[1112 12:41:21 @monitor.py:362]\u001b[0m ranking_loss: 0.15881\n",
      "\u001b[32m[1112 12:41:21 @monitor.py:362]\u001b[0m ranking_mean_average_precision: 0.6906\n",
      "\u001b[32m[1112 12:41:21 @monitor.py:362]\u001b[0m training_ap: 0.4188\n",
      "\u001b[32m[1112 12:41:21 @monitor.py:362]\u001b[0m training_auc: 0.76154\n",
      "\u001b[32m[1112 12:41:21 @base.py:257]\u001b[0m Start Epoch 54 ...\n"
     ]
    },
    {
     "name": "stderr",
     "output_type": "stream",
     "text": [
      "\n",
      "100%|##########|23/23[00:01<00:00,15.05it/s]"
     ]
    },
    {
     "name": "stdout",
     "output_type": "stream",
     "text": [
      "\u001b[32m[1112 12:41:22 @base.py:267]\u001b[0m Epoch 54 (global_step 1242) finished, time:1.54 sec.\n"
     ]
    },
    {
     "name": "stderr",
     "output_type": "stream",
     "text": [
      "\n",
      "100%|##########|5/5[00:00<00:00, 9.38it/s]"
     ]
    },
    {
     "name": "stdout",
     "output_type": "stream",
     "text": [
      "\u001b[32m[1112 12:41:23 @saver.py:90]\u001b[0m Model saved to train_log/sift-512-hidden-gls-r5/model-1242.\n",
      "\u001b[32m[1112 12:41:23 @monitor.py:362]\u001b[0m DataParallelInferenceRunner/QueueInput/queue_size: 49.858\n",
      "\u001b[32m[1112 12:41:23 @monitor.py:362]\u001b[0m QueueInput/queue_size: 49.831\n",
      "\u001b[32m[1112 12:41:23 @monitor.py:362]\u001b[0m coverage: 2.2299\n",
      "\u001b[32m[1112 12:41:23 @monitor.py:362]\u001b[0m doubly_stochastic_loss: 0.53033\n",
      "\u001b[32m[1112 12:41:23 @monitor.py:362]\u001b[0m learning_rate: 0.0001\n",
      "\u001b[32m[1112 12:41:23 @monitor.py:362]\u001b[0m loss/value: 8.2905\n",
      "\u001b[32m[1112 12:41:23 @monitor.py:362]\u001b[0m macro_auc: 0.8398\n",
      "\u001b[32m[1112 12:41:23 @monitor.py:362]\u001b[0m macro_f1: 0.53351\n",
      "\u001b[32m[1112 12:41:23 @monitor.py:362]\u001b[0m mean_average_precision: 0.55515\n",
      "\u001b[32m[1112 12:41:23 @monitor.py:362]\u001b[0m micro_auc: 0.84813\n",
      "\u001b[32m[1112 12:41:23 @monitor.py:362]\u001b[0m micro_f1: 0.55441\n",
      "\u001b[32m[1112 12:41:23 @monitor.py:362]\u001b[0m one_error: 0.42959\n",
      "\u001b[32m[1112 12:41:23 @monitor.py:362]\u001b[0m ranking_loss: 0.15449\n",
      "\u001b[32m[1112 12:41:23 @monitor.py:362]\u001b[0m ranking_mean_average_precision: 0.69872\n",
      "\u001b[32m[1112 12:41:23 @monitor.py:362]\u001b[0m training_ap: 0.42191\n",
      "\u001b[32m[1112 12:41:23 @monitor.py:362]\u001b[0m training_auc: 0.76356\n",
      "\u001b[32m[1112 12:41:23 @base.py:257]\u001b[0m Start Epoch 55 ...\n"
     ]
    },
    {
     "name": "stderr",
     "output_type": "stream",
     "text": [
      "\n",
      "100%|##########|23/23[00:01<00:00,14.40it/s]"
     ]
    },
    {
     "name": "stdout",
     "output_type": "stream",
     "text": [
      "\u001b[32m[1112 12:41:24 @base.py:267]\u001b[0m Epoch 55 (global_step 1265) finished, time:1.60 sec.\n"
     ]
    },
    {
     "name": "stderr",
     "output_type": "stream",
     "text": [
      "\n",
      "100%|##########|5/5[00:00<00:00,11.41it/s]"
     ]
    },
    {
     "name": "stdout",
     "output_type": "stream",
     "text": [
      "\u001b[32m[1112 12:41:25 @saver.py:90]\u001b[0m Model saved to train_log/sift-512-hidden-gls-r5/model-1265.\n",
      "\u001b[32m[1112 12:41:25 @monitor.py:362]\u001b[0m DataParallelInferenceRunner/QueueInput/queue_size: 49.896\n",
      "\u001b[32m[1112 12:41:25 @monitor.py:362]\u001b[0m QueueInput/queue_size: 49.873\n",
      "\u001b[32m[1112 12:41:25 @monitor.py:362]\u001b[0m coverage: 2.2389\n",
      "\u001b[32m[1112 12:41:25 @monitor.py:362]\u001b[0m doubly_stochastic_loss: 0.37596\n",
      "\u001b[32m[1112 12:41:25 @monitor.py:362]\u001b[0m learning_rate: 0.0001\n",
      "\u001b[32m[1112 12:41:25 @monitor.py:362]\u001b[0m loss/value: 8.3294\n",
      "\u001b[32m[1112 12:41:25 @monitor.py:362]\u001b[0m macro_auc: 0.84128\n",
      "\u001b[32m[1112 12:41:25 @monitor.py:362]\u001b[0m macro_f1: 0.51383\n",
      "\u001b[32m[1112 12:41:25 @monitor.py:362]\u001b[0m mean_average_precision: 0.54215\n",
      "\u001b[32m[1112 12:41:25 @monitor.py:362]\u001b[0m micro_auc: 0.84981\n",
      "\u001b[32m[1112 12:41:25 @monitor.py:362]\u001b[0m micro_f1: 0.5461\n",
      "\u001b[32m[1112 12:41:25 @monitor.py:362]\u001b[0m one_error: 0.44563\n",
      "\u001b[32m[1112 12:41:25 @monitor.py:362]\u001b[0m ranking_loss: 0.15616\n",
      "\u001b[32m[1112 12:41:25 @monitor.py:362]\u001b[0m ranking_mean_average_precision: 0.69421\n",
      "\u001b[32m[1112 12:41:25 @monitor.py:362]\u001b[0m training_ap: 0.42495\n",
      "\u001b[32m[1112 12:41:25 @monitor.py:362]\u001b[0m training_auc: 0.76552\n",
      "\u001b[32m[1112 12:41:25 @base.py:257]\u001b[0m Start Epoch 56 ...\n"
     ]
    },
    {
     "name": "stderr",
     "output_type": "stream",
     "text": [
      "\n",
      "100%|##########|23/23[00:01<00:00,14.97it/s]"
     ]
    },
    {
     "name": "stdout",
     "output_type": "stream",
     "text": [
      "\u001b[32m[1112 12:41:26 @base.py:267]\u001b[0m Epoch 56 (global_step 1288) finished, time:1.54 sec.\n"
     ]
    },
    {
     "name": "stderr",
     "output_type": "stream",
     "text": [
      "\n",
      "100%|##########|5/5[00:00<00:00, 9.88it/s]"
     ]
    },
    {
     "name": "stdout",
     "output_type": "stream",
     "text": [
      "\u001b[32m[1112 12:41:27 @saver.py:90]\u001b[0m Model saved to train_log/sift-512-hidden-gls-r5/model-1288.\n",
      "\u001b[32m[1112 12:41:27 @monitor.py:362]\u001b[0m DataParallelInferenceRunner/QueueInput/queue_size: 49.883\n",
      "\u001b[32m[1112 12:41:27 @monitor.py:362]\u001b[0m QueueInput/queue_size: 49.892\n",
      "\u001b[32m[1112 12:41:27 @monitor.py:362]\u001b[0m coverage: 2.2513\n",
      "\u001b[32m[1112 12:41:27 @monitor.py:362]\u001b[0m doubly_stochastic_loss: 0.425\n",
      "\u001b[32m[1112 12:41:27 @monitor.py:362]\u001b[0m learning_rate: 0.0001\n",
      "\u001b[32m[1112 12:41:27 @monitor.py:362]\u001b[0m loss/value: 8.4837\n",
      "\u001b[32m[1112 12:41:27 @monitor.py:362]\u001b[0m macro_auc: 0.84751\n",
      "\u001b[32m[1112 12:41:27 @monitor.py:362]\u001b[0m macro_f1: 0.53024\n",
      "\u001b[32m[1112 12:41:27 @monitor.py:362]\u001b[0m mean_average_precision: 0.54589\n",
      "\u001b[32m[1112 12:41:27 @monitor.py:362]\u001b[0m micro_auc: 0.85134\n",
      "\u001b[32m[1112 12:41:27 @monitor.py:362]\u001b[0m micro_f1: 0.547\n",
      "\u001b[32m[1112 12:41:27 @monitor.py:362]\u001b[0m one_error: 0.44742\n",
      "\u001b[32m[1112 12:41:27 @monitor.py:362]\u001b[0m ranking_loss: 0.15851\n",
      "\u001b[32m[1112 12:41:27 @monitor.py:362]\u001b[0m ranking_mean_average_precision: 0.69105\n",
      "\u001b[32m[1112 12:41:27 @monitor.py:362]\u001b[0m training_ap: 0.42755\n",
      "\u001b[32m[1112 12:41:27 @monitor.py:362]\u001b[0m training_auc: 0.76716\n",
      "\u001b[32m[1112 12:41:27 @base.py:257]\u001b[0m Start Epoch 57 ...\n"
     ]
    },
    {
     "name": "stderr",
     "output_type": "stream",
     "text": [
      "\n",
      "100%|##########|23/23[00:01<00:00,13.78it/s]"
     ]
    },
    {
     "name": "stdout",
     "output_type": "stream",
     "text": [
      "\u001b[32m[1112 12:41:29 @base.py:267]\u001b[0m Epoch 57 (global_step 1311) finished, time:1.67 sec.\n"
     ]
    },
    {
     "name": "stderr",
     "output_type": "stream",
     "text": [
      "\n",
      "100%|##########|5/5[00:00<00:00, 9.73it/s]"
     ]
    },
    {
     "name": "stdout",
     "output_type": "stream",
     "text": [
      "\u001b[32m[1112 12:41:29 @saver.py:90]\u001b[0m Model saved to train_log/sift-512-hidden-gls-r5/model-1311.\n",
      "\u001b[32m[1112 12:41:29 @monitor.py:362]\u001b[0m DataParallelInferenceRunner/QueueInput/queue_size: 49.914\n",
      "\u001b[32m[1112 12:41:29 @monitor.py:362]\u001b[0m QueueInput/queue_size: 49.778\n",
      "\u001b[32m[1112 12:41:29 @monitor.py:362]\u001b[0m coverage: 2.2389\n",
      "\u001b[32m[1112 12:41:29 @monitor.py:362]\u001b[0m doubly_stochastic_loss: 0.55776\n",
      "\u001b[32m[1112 12:41:29 @monitor.py:362]\u001b[0m learning_rate: 0.0001\n",
      "\u001b[32m[1112 12:41:29 @monitor.py:362]\u001b[0m loss/value: 8.3878\n",
      "\u001b[32m[1112 12:41:29 @monitor.py:362]\u001b[0m macro_auc: 0.84373\n",
      "\u001b[32m[1112 12:41:29 @monitor.py:362]\u001b[0m macro_f1: 0.51871\n",
      "\u001b[32m[1112 12:41:29 @monitor.py:362]\u001b[0m mean_average_precision: 0.55775\n",
      "\u001b[32m[1112 12:41:29 @monitor.py:362]\u001b[0m micro_auc: 0.85073\n",
      "\u001b[32m[1112 12:41:29 @monitor.py:362]\u001b[0m micro_f1: 0.54309\n",
      "\u001b[32m[1112 12:41:29 @monitor.py:362]\u001b[0m one_error: 0.45098\n",
      "\u001b[32m[1112 12:41:29 @monitor.py:362]\u001b[0m ranking_loss: 0.15539\n",
      "\u001b[32m[1112 12:41:29 @monitor.py:362]\u001b[0m ranking_mean_average_precision: 0.69089\n",
      "\u001b[32m[1112 12:41:29 @monitor.py:362]\u001b[0m training_ap: 0.43023\n",
      "\u001b[32m[1112 12:41:29 @monitor.py:362]\u001b[0m training_auc: 0.76881\n",
      "\u001b[32m[1112 12:41:29 @base.py:257]\u001b[0m Start Epoch 58 ...\n"
     ]
    },
    {
     "name": "stderr",
     "output_type": "stream",
     "text": [
      "\n",
      "100%|##########|23/23[00:01<00:00,15.30it/s]"
     ]
    },
    {
     "name": "stdout",
     "output_type": "stream",
     "text": [
      "\u001b[32m[1112 12:41:31 @base.py:267]\u001b[0m Epoch 58 (global_step 1334) finished, time:1.51 sec.\n"
     ]
    },
    {
     "name": "stderr",
     "output_type": "stream",
     "text": [
      "\n",
      "100%|##########|5/5[00:00<00:00,10.04it/s]"
     ]
    },
    {
     "name": "stdout",
     "output_type": "stream",
     "text": [
      "\u001b[32m[1112 12:41:31 @saver.py:90]\u001b[0m Model saved to train_log/sift-512-hidden-gls-r5/model-1334.\n",
      "\u001b[32m[1112 12:41:31 @monitor.py:362]\u001b[0m DataParallelInferenceRunner/QueueInput/queue_size: 49.891\n",
      "\u001b[32m[1112 12:41:31 @monitor.py:362]\u001b[0m QueueInput/queue_size: 49.833\n",
      "\u001b[32m[1112 12:41:31 @monitor.py:362]\u001b[0m coverage: 2.1444\n",
      "\u001b[32m[1112 12:41:31 @monitor.py:362]\u001b[0m doubly_stochastic_loss: 0.34312\n",
      "\u001b[32m[1112 12:41:31 @monitor.py:362]\u001b[0m learning_rate: 0.0001\n",
      "\u001b[32m[1112 12:41:31 @monitor.py:362]\u001b[0m loss/value: 8.2457\n",
      "\u001b[32m[1112 12:41:31 @monitor.py:362]\u001b[0m macro_auc: 0.84867\n",
      "\u001b[32m[1112 12:41:31 @monitor.py:362]\u001b[0m macro_f1: 0.53221\n",
      "\u001b[32m[1112 12:41:31 @monitor.py:362]\u001b[0m mean_average_precision: 0.55705\n",
      "\u001b[32m[1112 12:41:31 @monitor.py:362]\u001b[0m micro_auc: 0.85612\n",
      "\u001b[32m[1112 12:41:31 @monitor.py:362]\u001b[0m micro_f1: 0.55688\n",
      "\u001b[32m[1112 12:41:31 @monitor.py:362]\u001b[0m one_error: 0.44563\n",
      "\u001b[32m[1112 12:41:31 @monitor.py:362]\u001b[0m ranking_loss: 0.14833\n",
      "\u001b[32m[1112 12:41:31 @monitor.py:362]\u001b[0m ranking_mean_average_precision: 0.7011\n",
      "\u001b[32m[1112 12:41:31 @monitor.py:362]\u001b[0m training_ap: 0.43304\n",
      "\u001b[32m[1112 12:41:31 @monitor.py:362]\u001b[0m training_auc: 0.77053\n",
      "\u001b[32m[1112 12:41:31 @base.py:257]\u001b[0m Start Epoch 59 ...\n"
     ]
    },
    {
     "name": "stderr",
     "output_type": "stream",
     "text": [
      "\n",
      "100%|##########|23/23[00:01<00:00,15.73it/s]"
     ]
    },
    {
     "name": "stdout",
     "output_type": "stream",
     "text": [
      "\u001b[32m[1112 12:41:33 @base.py:267]\u001b[0m Epoch 59 (global_step 1357) finished, time:1.47 sec.\n"
     ]
    },
    {
     "name": "stderr",
     "output_type": "stream",
     "text": [
      "\n",
      "100%|##########|5/5[00:00<00:00,10.46it/s]"
     ]
    },
    {
     "name": "stdout",
     "output_type": "stream",
     "text": [
      "\u001b[32m[1112 12:41:33 @saver.py:90]\u001b[0m Model saved to train_log/sift-512-hidden-gls-r5/model-1357.\n",
      "\u001b[32m[1112 12:41:33 @monitor.py:362]\u001b[0m DataParallelInferenceRunner/QueueInput/queue_size: 49.92\n",
      "\u001b[32m[1112 12:41:33 @monitor.py:362]\u001b[0m QueueInput/queue_size: 49.865\n",
      "\u001b[32m[1112 12:41:33 @monitor.py:362]\u001b[0m coverage: 2.164\n",
      "\u001b[32m[1112 12:41:33 @monitor.py:362]\u001b[0m doubly_stochastic_loss: 0.45042\n",
      "\u001b[32m[1112 12:41:33 @monitor.py:362]\u001b[0m learning_rate: 0.0001\n",
      "\u001b[32m[1112 12:41:33 @monitor.py:362]\u001b[0m loss/value: 8.2462\n",
      "\u001b[32m[1112 12:41:33 @monitor.py:362]\u001b[0m macro_auc: 0.85564\n",
      "\u001b[32m[1112 12:41:33 @monitor.py:362]\u001b[0m macro_f1: 0.53368\n",
      "\u001b[32m[1112 12:41:33 @monitor.py:362]\u001b[0m mean_average_precision: 0.5681\n",
      "\u001b[32m[1112 12:41:33 @monitor.py:362]\u001b[0m micro_auc: 0.85821\n",
      "\u001b[32m[1112 12:41:33 @monitor.py:362]\u001b[0m micro_f1: 0.55565\n",
      "\u001b[32m[1112 12:41:33 @monitor.py:362]\u001b[0m one_error: 0.4082\n",
      "\u001b[32m[1112 12:41:33 @monitor.py:362]\u001b[0m ranking_loss: 0.14765\n",
      "\u001b[32m[1112 12:41:33 @monitor.py:362]\u001b[0m ranking_mean_average_precision: 0.71597\n",
      "\u001b[32m[1112 12:41:33 @monitor.py:362]\u001b[0m training_ap: 0.43559\n",
      "\u001b[32m[1112 12:41:33 @monitor.py:362]\u001b[0m training_auc: 0.77213\n",
      "\u001b[32m[1112 12:41:33 @base.py:257]\u001b[0m Start Epoch 60 ...\n"
     ]
    },
    {
     "name": "stderr",
     "output_type": "stream",
     "text": [
      "\n",
      "100%|##########|23/23[00:01<00:00,14.39it/s]"
     ]
    },
    {
     "name": "stdout",
     "output_type": "stream",
     "text": [
      "\u001b[32m[1112 12:41:35 @base.py:267]\u001b[0m Epoch 60 (global_step 1380) finished, time:1.60 sec.\n"
     ]
    },
    {
     "name": "stderr",
     "output_type": "stream",
     "text": [
      "\n",
      "100%|##########|5/5[00:00<00:00, 9.68it/s]"
     ]
    },
    {
     "name": "stdout",
     "output_type": "stream",
     "text": [
      "\u001b[32m[1112 12:41:35 @saver.py:90]\u001b[0m Model saved to train_log/sift-512-hidden-gls-r5/model-1380.\n",
      "\u001b[32m[1112 12:41:35 @monitor.py:362]\u001b[0m DataParallelInferenceRunner/QueueInput/queue_size: 49.941\n",
      "\u001b[32m[1112 12:41:35 @monitor.py:362]\u001b[0m QueueInput/queue_size: 49.883\n",
      "\u001b[32m[1112 12:41:35 @monitor.py:362]\u001b[0m coverage: 2.205\n",
      "\u001b[32m[1112 12:41:35 @monitor.py:362]\u001b[0m doubly_stochastic_loss: 1.4539\n",
      "\u001b[32m[1112 12:41:35 @monitor.py:362]\u001b[0m learning_rate: 0.0001\n",
      "\u001b[32m[1112 12:41:35 @monitor.py:362]\u001b[0m loss/value: 8.2273\n",
      "\u001b[32m[1112 12:41:35 @monitor.py:362]\u001b[0m macro_auc: 0.8517\n",
      "\u001b[32m[1112 12:41:35 @monitor.py:362]\u001b[0m macro_f1: 0.5349\n",
      "\u001b[32m[1112 12:41:35 @monitor.py:362]\u001b[0m mean_average_precision: 0.56489\n",
      "\u001b[32m[1112 12:41:35 @monitor.py:362]\u001b[0m micro_auc: 0.85484\n",
      "\u001b[32m[1112 12:41:35 @monitor.py:362]\u001b[0m micro_f1: 0.55381\n",
      "\u001b[32m[1112 12:41:35 @monitor.py:362]\u001b[0m one_error: 0.41176\n",
      "\u001b[32m[1112 12:41:35 @monitor.py:362]\u001b[0m ranking_loss: 0.15053\n",
      "\u001b[32m[1112 12:41:35 @monitor.py:362]\u001b[0m ranking_mean_average_precision: 0.71156\n",
      "\u001b[32m[1112 12:41:35 @monitor.py:362]\u001b[0m training_ap: 0.43818\n",
      "\u001b[32m[1112 12:41:35 @monitor.py:362]\u001b[0m training_auc: 0.77379\n",
      "\u001b[32m[1112 12:41:35 @base.py:257]\u001b[0m Start Epoch 61 ...\n"
     ]
    },
    {
     "name": "stderr",
     "output_type": "stream",
     "text": [
      "\n",
      "100%|##########|23/23[00:01<00:00,14.79it/s]"
     ]
    },
    {
     "name": "stdout",
     "output_type": "stream",
     "text": [
      "\u001b[32m[1112 12:41:37 @base.py:267]\u001b[0m Epoch 61 (global_step 1403) finished, time:1.56 sec.\n"
     ]
    },
    {
     "name": "stderr",
     "output_type": "stream",
     "text": [
      "\n",
      "100%|##########|5/5[00:00<00:00,10.21it/s]"
     ]
    },
    {
     "name": "stdout",
     "output_type": "stream",
     "text": [
      "\u001b[32m[1112 12:41:38 @saver.py:90]\u001b[0m Model saved to train_log/sift-512-hidden-gls-r5/model-1403.\n",
      "\u001b[32m[1112 12:41:38 @monitor.py:362]\u001b[0m DataParallelInferenceRunner/QueueInput/queue_size: 49.957\n",
      "\u001b[32m[1112 12:41:38 @monitor.py:362]\u001b[0m QueueInput/queue_size: 49.83\n",
      "\u001b[32m[1112 12:41:38 @monitor.py:362]\u001b[0m coverage: 2.1551\n",
      "\u001b[32m[1112 12:41:38 @monitor.py:362]\u001b[0m doubly_stochastic_loss: 0.36527\n",
      "\u001b[32m[1112 12:41:38 @monitor.py:362]\u001b[0m learning_rate: 0.0001\n",
      "\u001b[32m[1112 12:41:38 @monitor.py:362]\u001b[0m loss/value: 8.2835\n",
      "\u001b[32m[1112 12:41:38 @monitor.py:362]\u001b[0m macro_auc: 0.85274\n",
      "\u001b[32m[1112 12:41:38 @monitor.py:362]\u001b[0m macro_f1: 0.53136\n",
      "\u001b[32m[1112 12:41:38 @monitor.py:362]\u001b[0m mean_average_precision: 0.56067\n",
      "\u001b[32m[1112 12:41:38 @monitor.py:362]\u001b[0m micro_auc: 0.85442\n",
      "\u001b[32m[1112 12:41:38 @monitor.py:362]\u001b[0m micro_f1: 0.55234\n",
      "\u001b[32m[1112 12:41:38 @monitor.py:362]\u001b[0m one_error: 0.43316\n",
      "\u001b[32m[1112 12:41:38 @monitor.py:362]\u001b[0m ranking_loss: 0.14631\n",
      "\u001b[32m[1112 12:41:38 @monitor.py:362]\u001b[0m ranking_mean_average_precision: 0.70329\n",
      "\u001b[32m[1112 12:41:38 @monitor.py:362]\u001b[0m training_ap: 0.44042\n",
      "\u001b[32m[1112 12:41:38 @monitor.py:362]\u001b[0m training_auc: 0.77525\n",
      "\u001b[32m[1112 12:41:38 @base.py:257]\u001b[0m Start Epoch 62 ...\n"
     ]
    },
    {
     "name": "stderr",
     "output_type": "stream",
     "text": [
      "\n",
      "100%|##########|23/23[00:01<00:00,14.27it/s]"
     ]
    },
    {
     "name": "stdout",
     "output_type": "stream",
     "text": [
      "\u001b[32m[1112 12:41:39 @base.py:267]\u001b[0m Epoch 62 (global_step 1426) finished, time:1.62 sec.\n"
     ]
    },
    {
     "name": "stderr",
     "output_type": "stream",
     "text": [
      "\n",
      "100%|##########|5/5[00:00<00:00,11.01it/s]"
     ]
    },
    {
     "name": "stdout",
     "output_type": "stream",
     "text": [
      "\u001b[32m[1112 12:41:40 @saver.py:90]\u001b[0m Model saved to train_log/sift-512-hidden-gls-r5/model-1426.\n",
      "\u001b[32m[1112 12:41:40 @monitor.py:362]\u001b[0m DataParallelInferenceRunner/QueueInput/queue_size: 49.928\n",
      "\u001b[32m[1112 12:41:40 @monitor.py:362]\u001b[0m QueueInput/queue_size: 49.948\n",
      "\u001b[32m[1112 12:41:40 @monitor.py:362]\u001b[0m coverage: 2.2086\n",
      "\u001b[32m[1112 12:41:40 @monitor.py:362]\u001b[0m doubly_stochastic_loss: 0.45272\n",
      "\u001b[32m[1112 12:41:40 @monitor.py:362]\u001b[0m learning_rate: 0.0001\n",
      "\u001b[32m[1112 12:41:40 @monitor.py:362]\u001b[0m loss/value: 8.2729\n",
      "\u001b[32m[1112 12:41:40 @monitor.py:362]\u001b[0m macro_auc: 0.84286\n",
      "\u001b[32m[1112 12:41:40 @monitor.py:362]\u001b[0m macro_f1: 0.52911\n",
      "\u001b[32m[1112 12:41:40 @monitor.py:362]\u001b[0m mean_average_precision: 0.56451\n",
      "\u001b[32m[1112 12:41:40 @monitor.py:362]\u001b[0m micro_auc: 0.85251\n",
      "\u001b[32m[1112 12:41:40 @monitor.py:362]\u001b[0m micro_f1: 0.55188\n",
      "\u001b[32m[1112 12:41:40 @monitor.py:362]\u001b[0m one_error: 0.43137\n",
      "\u001b[32m[1112 12:41:40 @monitor.py:362]\u001b[0m ranking_loss: 0.15598\n",
      "\u001b[32m[1112 12:41:40 @monitor.py:362]\u001b[0m ranking_mean_average_precision: 0.7006\n",
      "\u001b[32m[1112 12:41:40 @monitor.py:362]\u001b[0m training_ap: 0.4427\n",
      "\u001b[32m[1112 12:41:40 @monitor.py:362]\u001b[0m training_auc: 0.77669\n",
      "\u001b[32m[1112 12:41:40 @base.py:257]\u001b[0m Start Epoch 63 ...\n"
     ]
    },
    {
     "name": "stderr",
     "output_type": "stream",
     "text": [
      "\n",
      "100%|##########|23/23[00:01<00:00,15.68it/s]"
     ]
    },
    {
     "name": "stdout",
     "output_type": "stream",
     "text": [
      "\u001b[32m[1112 12:41:41 @base.py:267]\u001b[0m Epoch 63 (global_step 1449) finished, time:1.47 sec.\n"
     ]
    },
    {
     "name": "stderr",
     "output_type": "stream",
     "text": [
      "\n",
      "100%|##########|5/5[00:00<00:00, 9.44it/s]"
     ]
    },
    {
     "name": "stdout",
     "output_type": "stream",
     "text": [
      "\u001b[32m[1112 12:41:42 @saver.py:90]\u001b[0m Model saved to train_log/sift-512-hidden-gls-r5/model-1449.\n",
      "\u001b[32m[1112 12:41:42 @monitor.py:362]\u001b[0m DataParallelInferenceRunner/QueueInput/queue_size: 49.906\n",
      "\u001b[32m[1112 12:41:42 @monitor.py:362]\u001b[0m QueueInput/queue_size: 49.786\n",
      "\u001b[32m[1112 12:41:42 @monitor.py:362]\u001b[0m coverage: 2.2175\n",
      "\u001b[32m[1112 12:41:42 @monitor.py:362]\u001b[0m doubly_stochastic_loss: 0.71417\n",
      "\u001b[32m[1112 12:41:42 @monitor.py:362]\u001b[0m learning_rate: 0.0001\n",
      "\u001b[32m[1112 12:41:42 @monitor.py:362]\u001b[0m loss/value: 8.3593\n",
      "\u001b[32m[1112 12:41:42 @monitor.py:362]\u001b[0m macro_auc: 0.8465\n",
      "\u001b[32m[1112 12:41:42 @monitor.py:362]\u001b[0m macro_f1: 0.52748\n",
      "\u001b[32m[1112 12:41:42 @monitor.py:362]\u001b[0m mean_average_precision: 0.55176\n",
      "\u001b[32m[1112 12:41:42 @monitor.py:362]\u001b[0m micro_auc: 0.85369\n",
      "\u001b[32m[1112 12:41:42 @monitor.py:362]\u001b[0m micro_f1: 0.55298\n",
      "\u001b[32m[1112 12:41:42 @monitor.py:362]\u001b[0m one_error: 0.44385\n",
      "\u001b[32m[1112 12:41:42 @monitor.py:362]\u001b[0m ranking_loss: 0.15396\n",
      "\u001b[32m[1112 12:41:42 @monitor.py:362]\u001b[0m ranking_mean_average_precision: 0.69591\n",
      "\u001b[32m[1112 12:41:42 @monitor.py:362]\u001b[0m training_ap: 0.44498\n",
      "\u001b[32m[1112 12:41:42 @monitor.py:362]\u001b[0m training_auc: 0.778\n",
      "\u001b[32m[1112 12:41:42 @base.py:257]\u001b[0m Start Epoch 64 ...\n"
     ]
    },
    {
     "name": "stderr",
     "output_type": "stream",
     "text": [
      "\n",
      "100%|##########|23/23[00:01<00:00,14.30it/s]"
     ]
    },
    {
     "name": "stdout",
     "output_type": "stream",
     "text": [
      "\u001b[32m[1112 12:41:43 @base.py:267]\u001b[0m Epoch 64 (global_step 1472) finished, time:1.61 sec.\n"
     ]
    },
    {
     "name": "stderr",
     "output_type": "stream",
     "text": [
      "\n",
      "100%|##########|5/5[00:00<00:00,12.10it/s]"
     ]
    },
    {
     "name": "stdout",
     "output_type": "stream",
     "text": [
      "\u001b[32m[1112 12:41:44 @saver.py:90]\u001b[0m Model saved to train_log/sift-512-hidden-gls-r5/model-1472.\n",
      "\u001b[32m[1112 12:41:44 @monitor.py:362]\u001b[0m DataParallelInferenceRunner/QueueInput/queue_size: 49.931\n",
      "\u001b[32m[1112 12:41:44 @monitor.py:362]\u001b[0m QueueInput/queue_size: 49.901\n",
      "\u001b[32m[1112 12:41:44 @monitor.py:362]\u001b[0m coverage: 2.1176\n",
      "\u001b[32m[1112 12:41:44 @monitor.py:362]\u001b[0m doubly_stochastic_loss: 0.28736\n",
      "\u001b[32m[1112 12:41:44 @monitor.py:362]\u001b[0m learning_rate: 0.0001\n",
      "\u001b[32m[1112 12:41:44 @monitor.py:362]\u001b[0m loss/value: 8.3128\n",
      "\u001b[32m[1112 12:41:44 @monitor.py:362]\u001b[0m macro_auc: 0.85004\n",
      "\u001b[32m[1112 12:41:44 @monitor.py:362]\u001b[0m macro_f1: 0.53184\n",
      "\u001b[32m[1112 12:41:44 @monitor.py:362]\u001b[0m mean_average_precision: 0.5591\n",
      "\u001b[32m[1112 12:41:44 @monitor.py:362]\u001b[0m micro_auc: 0.85558\n",
      "\u001b[32m[1112 12:41:44 @monitor.py:362]\u001b[0m micro_f1: 0.55441\n",
      "\u001b[32m[1112 12:41:44 @monitor.py:362]\u001b[0m one_error: 0.42246\n",
      "\u001b[32m[1112 12:41:44 @monitor.py:362]\u001b[0m ranking_loss: 0.14592\n",
      "\u001b[32m[1112 12:41:44 @monitor.py:362]\u001b[0m ranking_mean_average_precision: 0.71172\n",
      "\u001b[32m[1112 12:41:44 @monitor.py:362]\u001b[0m training_ap: 0.44716\n",
      "\u001b[32m[1112 12:41:44 @monitor.py:362]\u001b[0m training_auc: 0.77936\n",
      "\u001b[32m[1112 12:41:44 @base.py:257]\u001b[0m Start Epoch 65 ...\n"
     ]
    },
    {
     "name": "stderr",
     "output_type": "stream",
     "text": [
      "\n",
      "100%|##########|23/23[00:01<00:00,14.53it/s]"
     ]
    },
    {
     "name": "stdout",
     "output_type": "stream",
     "text": [
      "\u001b[32m[1112 12:41:45 @base.py:267]\u001b[0m Epoch 65 (global_step 1495) finished, time:1.59 sec.\n"
     ]
    },
    {
     "name": "stderr",
     "output_type": "stream",
     "text": [
      "\n",
      "100%|##########|5/5[00:00<00:00,10.39it/s]"
     ]
    },
    {
     "name": "stdout",
     "output_type": "stream",
     "text": [
      "\u001b[32m[1112 12:41:46 @saver.py:90]\u001b[0m Model saved to train_log/sift-512-hidden-gls-r5/model-1495.\n",
      "\u001b[32m[1112 12:41:46 @monitor.py:362]\u001b[0m DataParallelInferenceRunner/QueueInput/queue_size: 49.949\n",
      "\u001b[32m[1112 12:41:46 @monitor.py:362]\u001b[0m QueueInput/queue_size: 49.854\n",
      "\u001b[32m[1112 12:41:46 @monitor.py:362]\u001b[0m coverage: 2.2068\n",
      "\u001b[32m[1112 12:41:46 @monitor.py:362]\u001b[0m doubly_stochastic_loss: 0.64674\n",
      "\u001b[32m[1112 12:41:46 @monitor.py:362]\u001b[0m learning_rate: 0.0001\n",
      "\u001b[32m[1112 12:41:46 @monitor.py:362]\u001b[0m loss/value: 8.3355\n",
      "\u001b[32m[1112 12:41:46 @monitor.py:362]\u001b[0m macro_auc: 0.84256\n",
      "\u001b[32m[1112 12:41:46 @monitor.py:362]\u001b[0m macro_f1: 0.52185\n",
      "\u001b[32m[1112 12:41:46 @monitor.py:362]\u001b[0m mean_average_precision: 0.56309\n",
      "\u001b[32m[1112 12:41:46 @monitor.py:362]\u001b[0m micro_auc: 0.85357\n",
      "\u001b[32m[1112 12:41:46 @monitor.py:362]\u001b[0m micro_f1: 0.54911\n",
      "\u001b[32m[1112 12:41:46 @monitor.py:362]\u001b[0m one_error: 0.43316\n",
      "\u001b[32m[1112 12:41:46 @monitor.py:362]\u001b[0m ranking_loss: 0.15296\n",
      "\u001b[32m[1112 12:41:46 @monitor.py:362]\u001b[0m ranking_mean_average_precision: 0.70271\n",
      "\u001b[32m[1112 12:41:46 @monitor.py:362]\u001b[0m training_ap: 0.44936\n",
      "\u001b[32m[1112 12:41:46 @monitor.py:362]\u001b[0m training_auc: 0.78066\n",
      "\u001b[32m[1112 12:41:46 @base.py:257]\u001b[0m Start Epoch 66 ...\n"
     ]
    },
    {
     "name": "stderr",
     "output_type": "stream",
     "text": [
      "\n",
      "100%|##########|23/23[00:01<00:00,14.78it/s]"
     ]
    },
    {
     "name": "stdout",
     "output_type": "stream",
     "text": [
      "\u001b[32m[1112 12:41:48 @base.py:267]\u001b[0m Epoch 66 (global_step 1518) finished, time:1.57 sec.\n"
     ]
    },
    {
     "name": "stderr",
     "output_type": "stream",
     "text": [
      "\n",
      "100%|##########|5/5[00:00<00:00, 9.36it/s]"
     ]
    },
    {
     "name": "stdout",
     "output_type": "stream",
     "text": [
      "\u001b[32m[1112 12:41:48 @saver.py:90]\u001b[0m Model saved to train_log/sift-512-hidden-gls-r5/model-1518.\n",
      "\u001b[32m[1112 12:41:48 @monitor.py:362]\u001b[0m DataParallelInferenceRunner/QueueInput/queue_size: 49.963\n",
      "\u001b[32m[1112 12:41:48 @monitor.py:362]\u001b[0m QueueInput/queue_size: 49.862\n",
      "\u001b[32m[1112 12:41:48 @monitor.py:362]\u001b[0m coverage: 2.2852\n",
      "\u001b[32m[1112 12:41:48 @monitor.py:362]\u001b[0m doubly_stochastic_loss: 1.0606\n",
      "\u001b[32m[1112 12:41:48 @monitor.py:362]\u001b[0m learning_rate: 0.0001\n",
      "\u001b[32m[1112 12:41:48 @monitor.py:362]\u001b[0m loss/value: 8.218\n",
      "\u001b[32m[1112 12:41:48 @monitor.py:362]\u001b[0m macro_auc: 0.84399\n",
      "\u001b[32m[1112 12:41:48 @monitor.py:362]\u001b[0m macro_f1: 0.53035\n",
      "\u001b[32m[1112 12:41:48 @monitor.py:362]\u001b[0m mean_average_precision: 0.55318\n",
      "\u001b[32m[1112 12:41:48 @monitor.py:362]\u001b[0m micro_auc: 0.85037\n",
      "\u001b[32m[1112 12:41:48 @monitor.py:362]\u001b[0m micro_f1: 0.55163\n",
      "\u001b[32m[1112 12:41:48 @monitor.py:362]\u001b[0m one_error: 0.44563\n",
      "\u001b[32m[1112 12:41:48 @monitor.py:362]\u001b[0m ranking_loss: 0.16008\n",
      "\u001b[32m[1112 12:41:48 @monitor.py:362]\u001b[0m ranking_mean_average_precision: 0.69175\n",
      "\u001b[32m[1112 12:41:48 @monitor.py:362]\u001b[0m training_ap: 0.4518\n",
      "\u001b[32m[1112 12:41:48 @monitor.py:362]\u001b[0m training_auc: 0.78209\n",
      "\u001b[32m[1112 12:41:48 @base.py:257]\u001b[0m Start Epoch 67 ...\n"
     ]
    },
    {
     "name": "stderr",
     "output_type": "stream",
     "text": [
      "\n",
      "100%|##########|23/23[00:01<00:00,14.86it/s]"
     ]
    },
    {
     "name": "stdout",
     "output_type": "stream",
     "text": [
      "\u001b[32m[1112 12:41:50 @base.py:267]\u001b[0m Epoch 67 (global_step 1541) finished, time:1.55 sec.\n"
     ]
    },
    {
     "name": "stderr",
     "output_type": "stream",
     "text": [
      "\n",
      "100%|##########|5/5[00:00<00:00,10.08it/s]"
     ]
    },
    {
     "name": "stdout",
     "output_type": "stream",
     "text": [
      "\u001b[32m[1112 12:41:50 @saver.py:90]\u001b[0m Model saved to train_log/sift-512-hidden-gls-r5/model-1541.\n",
      "\u001b[32m[1112 12:41:50 @monitor.py:362]\u001b[0m DataParallelInferenceRunner/QueueInput/queue_size: 49.973\n",
      "\u001b[32m[1112 12:41:50 @monitor.py:362]\u001b[0m QueueInput/queue_size: 49.862\n",
      "\u001b[32m[1112 12:41:50 @monitor.py:362]\u001b[0m coverage: 2.2139\n",
      "\u001b[32m[1112 12:41:50 @monitor.py:362]\u001b[0m doubly_stochastic_loss: 0.80403\n",
      "\u001b[32m[1112 12:41:50 @monitor.py:362]\u001b[0m learning_rate: 0.0001\n",
      "\u001b[32m[1112 12:41:50 @monitor.py:362]\u001b[0m loss/value: 8.2498\n",
      "\u001b[32m[1112 12:41:50 @monitor.py:362]\u001b[0m macro_auc: 0.84725\n",
      "\u001b[32m[1112 12:41:50 @monitor.py:362]\u001b[0m macro_f1: 0.52777\n",
      "\u001b[32m[1112 12:41:50 @monitor.py:362]\u001b[0m mean_average_precision: 0.55699\n",
      "\u001b[32m[1112 12:41:50 @monitor.py:362]\u001b[0m micro_auc: 0.85698\n",
      "\u001b[32m[1112 12:41:50 @monitor.py:362]\u001b[0m micro_f1: 0.5526\n",
      "\u001b[32m[1112 12:41:50 @monitor.py:362]\u001b[0m one_error: 0.43672\n",
      "\u001b[32m[1112 12:41:50 @monitor.py:362]\u001b[0m ranking_loss: 0.15118\n",
      "\u001b[32m[1112 12:41:50 @monitor.py:362]\u001b[0m ranking_mean_average_precision: 0.69837\n",
      "\u001b[32m[1112 12:41:50 @monitor.py:362]\u001b[0m training_ap: 0.45369\n",
      "\u001b[32m[1112 12:41:50 @monitor.py:362]\u001b[0m training_auc: 0.78325\n",
      "\u001b[32m[1112 12:41:50 @base.py:257]\u001b[0m Start Epoch 68 ...\n"
     ]
    },
    {
     "name": "stderr",
     "output_type": "stream",
     "text": [
      "\n",
      "100%|##########|23/23[00:01<00:00,14.66it/s]"
     ]
    },
    {
     "name": "stdout",
     "output_type": "stream",
     "text": [
      "\u001b[32m[1112 12:41:52 @base.py:267]\u001b[0m Epoch 68 (global_step 1564) finished, time:1.57 sec.\n"
     ]
    },
    {
     "name": "stderr",
     "output_type": "stream",
     "text": [
      "\n",
      "100%|##########|5/5[00:00<00:00,10.56it/s]"
     ]
    },
    {
     "name": "stdout",
     "output_type": "stream",
     "text": [
      "\u001b[32m[1112 12:41:52 @saver.py:90]\u001b[0m Model saved to train_log/sift-512-hidden-gls-r5/model-1564.\n",
      "\u001b[32m[1112 12:41:52 @monitor.py:362]\u001b[0m DataParallelInferenceRunner/QueueInput/queue_size: 49.939\n",
      "\u001b[32m[1112 12:41:52 @monitor.py:362]\u001b[0m QueueInput/queue_size: 49.936\n",
      "\u001b[32m[1112 12:41:52 @monitor.py:362]\u001b[0m coverage: 2.2282\n",
      "\u001b[32m[1112 12:41:52 @monitor.py:362]\u001b[0m doubly_stochastic_loss: 0.77913\n",
      "\u001b[32m[1112 12:41:52 @monitor.py:362]\u001b[0m learning_rate: 0.0001\n",
      "\u001b[32m[1112 12:41:52 @monitor.py:362]\u001b[0m loss/value: 8.1285\n",
      "\u001b[32m[1112 12:41:52 @monitor.py:362]\u001b[0m macro_auc: 0.8383\n",
      "\u001b[32m[1112 12:41:52 @monitor.py:362]\u001b[0m macro_f1: 0.52036\n",
      "\u001b[32m[1112 12:41:52 @monitor.py:362]\u001b[0m mean_average_precision: 0.54817\n",
      "\u001b[32m[1112 12:41:52 @monitor.py:362]\u001b[0m micro_auc: 0.84712\n",
      "\u001b[32m[1112 12:41:52 @monitor.py:362]\u001b[0m micro_f1: 0.54631\n",
      "\u001b[32m[1112 12:41:52 @monitor.py:362]\u001b[0m one_error: 0.42959\n",
      "\u001b[32m[1112 12:41:52 @monitor.py:362]\u001b[0m ranking_loss: 0.15249\n",
      "\u001b[32m[1112 12:41:52 @monitor.py:362]\u001b[0m ranking_mean_average_precision: 0.70362\n",
      "\u001b[32m[1112 12:41:52 @monitor.py:362]\u001b[0m training_ap: 0.45584\n",
      "\u001b[32m[1112 12:41:52 @monitor.py:362]\u001b[0m training_auc: 0.78457\n",
      "\u001b[32m[1112 12:41:52 @base.py:257]\u001b[0m Start Epoch 69 ...\n"
     ]
    },
    {
     "name": "stderr",
     "output_type": "stream",
     "text": [
      "\n",
      "100%|##########|23/23[00:01<00:00,14.96it/s]"
     ]
    },
    {
     "name": "stdout",
     "output_type": "stream",
     "text": [
      "\u001b[32m[1112 12:41:54 @base.py:267]\u001b[0m Epoch 69 (global_step 1587) finished, time:1.54 sec.\n"
     ]
    },
    {
     "name": "stderr",
     "output_type": "stream",
     "text": [
      "\n",
      "100%|##########|5/5[00:00<00:00, 9.60it/s]"
     ]
    },
    {
     "name": "stdout",
     "output_type": "stream",
     "text": [
      "\u001b[32m[1112 12:41:54 @saver.py:90]\u001b[0m Model saved to train_log/sift-512-hidden-gls-r5/model-1587.\n",
      "\u001b[32m[1112 12:41:54 @monitor.py:362]\u001b[0m DataParallelInferenceRunner/QueueInput/queue_size: 49.955\n",
      "\u001b[32m[1112 12:41:54 @monitor.py:362]\u001b[0m QueueInput/queue_size: 49.893\n",
      "\u001b[32m[1112 12:41:54 @monitor.py:362]\u001b[0m coverage: 2.2175\n",
      "\u001b[32m[1112 12:41:54 @monitor.py:362]\u001b[0m doubly_stochastic_loss: 0.62126\n",
      "\u001b[32m[1112 12:41:54 @monitor.py:362]\u001b[0m learning_rate: 0.0001\n",
      "\u001b[32m[1112 12:41:54 @monitor.py:362]\u001b[0m loss/value: 8.1605\n",
      "\u001b[32m[1112 12:41:54 @monitor.py:362]\u001b[0m macro_auc: 0.84818\n",
      "\u001b[32m[1112 12:41:54 @monitor.py:362]\u001b[0m macro_f1: 0.52776\n",
      "\u001b[32m[1112 12:41:54 @monitor.py:362]\u001b[0m mean_average_precision: 0.56175\n",
      "\u001b[32m[1112 12:41:54 @monitor.py:362]\u001b[0m micro_auc: 0.85764\n",
      "\u001b[32m[1112 12:41:54 @monitor.py:362]\u001b[0m micro_f1: 0.55227\n",
      "\u001b[32m[1112 12:41:54 @monitor.py:362]\u001b[0m one_error: 0.44029\n",
      "\u001b[32m[1112 12:41:54 @monitor.py:362]\u001b[0m ranking_loss: 0.15421\n",
      "\u001b[32m[1112 12:41:54 @monitor.py:362]\u001b[0m ranking_mean_average_precision: 0.69642\n",
      "\u001b[32m[1112 12:41:54 @monitor.py:362]\u001b[0m training_ap: 0.4577\n",
      "\u001b[32m[1112 12:41:54 @monitor.py:362]\u001b[0m training_auc: 0.78573\n",
      "\u001b[32m[1112 12:41:54 @base.py:257]\u001b[0m Start Epoch 70 ...\n"
     ]
    },
    {
     "name": "stderr",
     "output_type": "stream",
     "text": [
      "\n",
      "100%|##########|23/23[00:01<00:00,14.87it/s]"
     ]
    },
    {
     "name": "stdout",
     "output_type": "stream",
     "text": [
      "\u001b[32m[1112 12:41:56 @base.py:267]\u001b[0m Epoch 70 (global_step 1610) finished, time:1.56 sec.\n"
     ]
    },
    {
     "name": "stderr",
     "output_type": "stream",
     "text": [
      "\n",
      "100%|##########|5/5[00:00<00:00, 8.97it/s]"
     ]
    },
    {
     "name": "stdout",
     "output_type": "stream",
     "text": [
      "\u001b[32m[1112 12:41:57 @saver.py:90]\u001b[0m Model saved to train_log/sift-512-hidden-gls-r5/model-1610.\n",
      "\u001b[32m[1112 12:41:57 @monitor.py:362]\u001b[0m DataParallelInferenceRunner/QueueInput/queue_size: 49.926\n",
      "\u001b[32m[1112 12:41:57 @monitor.py:362]\u001b[0m QueueInput/queue_size: 49.797\n",
      "\u001b[32m[1112 12:41:57 @monitor.py:362]\u001b[0m coverage: 2.18\n",
      "\u001b[32m[1112 12:41:57 @monitor.py:362]\u001b[0m doubly_stochastic_loss: 0.61199\n",
      "\u001b[32m[1112 12:41:57 @monitor.py:362]\u001b[0m learning_rate: 0.0001\n",
      "\u001b[32m[1112 12:41:57 @monitor.py:362]\u001b[0m loss/value: 8.2983\n",
      "\u001b[32m[1112 12:41:57 @monitor.py:362]\u001b[0m macro_auc: 0.84844\n",
      "\u001b[32m[1112 12:41:57 @monitor.py:362]\u001b[0m macro_f1: 0.52577\n",
      "\u001b[32m[1112 12:41:57 @monitor.py:362]\u001b[0m mean_average_precision: 0.55576\n",
      "\u001b[32m[1112 12:41:57 @monitor.py:362]\u001b[0m micro_auc: 0.85514\n",
      "\u001b[32m[1112 12:41:57 @monitor.py:362]\u001b[0m micro_f1: 0.54584\n",
      "\u001b[32m[1112 12:41:57 @monitor.py:362]\u001b[0m one_error: 0.44563\n",
      "\u001b[32m[1112 12:41:57 @monitor.py:362]\u001b[0m ranking_loss: 0.15176\n",
      "\u001b[32m[1112 12:41:57 @monitor.py:362]\u001b[0m ranking_mean_average_precision: 0.69704\n",
      "\u001b[32m[1112 12:41:57 @monitor.py:362]\u001b[0m training_ap: 0.45951\n",
      "\u001b[32m[1112 12:41:57 @monitor.py:362]\u001b[0m training_auc: 0.78686\n",
      "\u001b[32m[1112 12:41:57 @base.py:257]\u001b[0m Start Epoch 71 ...\n"
     ]
    },
    {
     "name": "stderr",
     "output_type": "stream",
     "text": [
      "\n",
      "100%|##########|23/23[00:01<00:00,15.86it/s]"
     ]
    },
    {
     "name": "stdout",
     "output_type": "stream",
     "text": [
      "\u001b[32m[1112 12:41:58 @base.py:267]\u001b[0m Epoch 71 (global_step 1633) finished, time:1.45 sec.\n"
     ]
    },
    {
     "name": "stderr",
     "output_type": "stream",
     "text": [
      "\n",
      "100%|##########|5/5[00:00<00:00, 9.05it/s]"
     ]
    },
    {
     "name": "stdout",
     "output_type": "stream",
     "text": [
      "\u001b[32m[1112 12:41:59 @saver.py:90]\u001b[0m Model saved to train_log/sift-512-hidden-gls-r5/model-1633.\n",
      "\u001b[32m[1112 12:41:59 @monitor.py:362]\u001b[0m DataParallelInferenceRunner/QueueInput/queue_size: 49.905\n",
      "\u001b[32m[1112 12:41:59 @monitor.py:362]\u001b[0m QueueInput/queue_size: 49.85\n",
      "\u001b[32m[1112 12:41:59 @monitor.py:362]\u001b[0m coverage: 2.221\n",
      "\u001b[32m[1112 12:41:59 @monitor.py:362]\u001b[0m doubly_stochastic_loss: 0.37\n",
      "\u001b[32m[1112 12:41:59 @monitor.py:362]\u001b[0m learning_rate: 0.0001\n",
      "\u001b[32m[1112 12:41:59 @monitor.py:362]\u001b[0m loss/value: 8.1667\n",
      "\u001b[32m[1112 12:41:59 @monitor.py:362]\u001b[0m macro_auc: 0.84774\n",
      "\u001b[32m[1112 12:41:59 @monitor.py:362]\u001b[0m macro_f1: 0.53257\n",
      "\u001b[32m[1112 12:41:59 @monitor.py:362]\u001b[0m mean_average_precision: 0.5441\n",
      "\u001b[32m[1112 12:41:59 @monitor.py:362]\u001b[0m micro_auc: 0.85244\n",
      "\u001b[32m[1112 12:41:59 @monitor.py:362]\u001b[0m micro_f1: 0.55003\n",
      "\u001b[32m[1112 12:41:59 @monitor.py:362]\u001b[0m one_error: 0.44207\n",
      "\u001b[32m[1112 12:41:59 @monitor.py:362]\u001b[0m ranking_loss: 0.1529\n",
      "\u001b[32m[1112 12:41:59 @monitor.py:362]\u001b[0m ranking_mean_average_precision: 0.69469\n",
      "\u001b[32m[1112 12:41:59 @monitor.py:362]\u001b[0m training_ap: 0.46135\n",
      "\u001b[32m[1112 12:41:59 @monitor.py:362]\u001b[0m training_auc: 0.78795\n",
      "\u001b[32m[1112 12:41:59 @base.py:257]\u001b[0m Start Epoch 72 ...\n"
     ]
    },
    {
     "name": "stderr",
     "output_type": "stream",
     "text": [
      "\n",
      "100%|##########|23/23[00:01<00:00,14.83it/s]"
     ]
    },
    {
     "name": "stdout",
     "output_type": "stream",
     "text": [
      "\u001b[32m[1112 12:42:00 @base.py:267]\u001b[0m Epoch 72 (global_step 1656) finished, time:1.56 sec.\n"
     ]
    },
    {
     "name": "stderr",
     "output_type": "stream",
     "text": [
      "\n",
      "100%|##########|5/5[00:00<00:00,10.80it/s]"
     ]
    },
    {
     "name": "stdout",
     "output_type": "stream",
     "text": [
      "\u001b[32m[1112 12:42:01 @saver.py:90]\u001b[0m Model saved to train_log/sift-512-hidden-gls-r5/model-1656.\n",
      "\u001b[32m[1112 12:42:01 @monitor.py:362]\u001b[0m DataParallelInferenceRunner/QueueInput/queue_size: 49.93\n",
      "\u001b[32m[1112 12:42:01 @monitor.py:362]\u001b[0m QueueInput/queue_size: 49.851\n",
      "\u001b[32m[1112 12:42:01 @monitor.py:362]\u001b[0m coverage: 2.205\n",
      "\u001b[32m[1112 12:42:01 @monitor.py:362]\u001b[0m doubly_stochastic_loss: 0.79247\n",
      "\u001b[32m[1112 12:42:01 @monitor.py:362]\u001b[0m learning_rate: 0.0001\n",
      "\u001b[32m[1112 12:42:01 @monitor.py:362]\u001b[0m loss/value: 8.1981\n",
      "\u001b[32m[1112 12:42:01 @monitor.py:362]\u001b[0m macro_auc: 0.84966\n",
      "\u001b[32m[1112 12:42:01 @monitor.py:362]\u001b[0m macro_f1: 0.53744\n",
      "\u001b[32m[1112 12:42:01 @monitor.py:362]\u001b[0m mean_average_precision: 0.55671\n",
      "\u001b[32m[1112 12:42:01 @monitor.py:362]\u001b[0m micro_auc: 0.85632\n",
      "\u001b[32m[1112 12:42:01 @monitor.py:362]\u001b[0m micro_f1: 0.5557\n",
      "\u001b[32m[1112 12:42:01 @monitor.py:362]\u001b[0m one_error: 0.44385\n",
      "\u001b[32m[1112 12:42:01 @monitor.py:362]\u001b[0m ranking_loss: 0.153\n",
      "\u001b[32m[1112 12:42:01 @monitor.py:362]\u001b[0m ranking_mean_average_precision: 0.69509\n",
      "\u001b[32m[1112 12:42:01 @monitor.py:362]\u001b[0m training_ap: 0.46324\n",
      "\u001b[32m[1112 12:42:01 @monitor.py:362]\u001b[0m training_auc: 0.78901\n",
      "\u001b[32m[1112 12:42:01 @base.py:257]\u001b[0m Start Epoch 73 ...\n"
     ]
    },
    {
     "name": "stderr",
     "output_type": "stream",
     "text": [
      "\n",
      "100%|##########|23/23[00:01<00:00,15.88it/s]"
     ]
    },
    {
     "name": "stdout",
     "output_type": "stream",
     "text": [
      "\u001b[32m[1112 12:42:02 @base.py:267]\u001b[0m Epoch 73 (global_step 1679) finished, time:1.45 sec.\n"
     ]
    },
    {
     "name": "stderr",
     "output_type": "stream",
     "text": [
      "\n",
      "100%|##########|5/5[00:00<00:00,11.45it/s]"
     ]
    },
    {
     "name": "stdout",
     "output_type": "stream",
     "text": [
      "\u001b[32m[1112 12:42:03 @saver.py:90]\u001b[0m Model saved to train_log/sift-512-hidden-gls-r5/model-1679.\n",
      "\u001b[32m[1112 12:42:03 @monitor.py:362]\u001b[0m DataParallelInferenceRunner/QueueInput/queue_size: 49.949\n",
      "\u001b[32m[1112 12:42:03 @monitor.py:362]\u001b[0m QueueInput/queue_size: 49.912\n",
      "\u001b[32m[1112 12:42:03 @monitor.py:362]\u001b[0m coverage: 2.1783\n",
      "\u001b[32m[1112 12:42:03 @monitor.py:362]\u001b[0m doubly_stochastic_loss: 0.36163\n",
      "\u001b[32m[1112 12:42:03 @monitor.py:362]\u001b[0m learning_rate: 0.0001\n",
      "\u001b[32m[1112 12:42:03 @monitor.py:362]\u001b[0m loss/value: 8.2119\n",
      "\u001b[32m[1112 12:42:03 @monitor.py:362]\u001b[0m macro_auc: 0.84844\n",
      "\u001b[32m[1112 12:42:03 @monitor.py:362]\u001b[0m macro_f1: 0.52218\n",
      "\u001b[32m[1112 12:42:03 @monitor.py:362]\u001b[0m mean_average_precision: 0.55532\n",
      "\u001b[32m[1112 12:42:03 @monitor.py:362]\u001b[0m micro_auc: 0.85797\n",
      "\u001b[32m[1112 12:42:03 @monitor.py:362]\u001b[0m micro_f1: 0.55079\n",
      "\u001b[32m[1112 12:42:03 @monitor.py:362]\u001b[0m one_error: 0.43316\n",
      "\u001b[32m[1112 12:42:03 @monitor.py:362]\u001b[0m ranking_loss: 0.14996\n",
      "\u001b[32m[1112 12:42:03 @monitor.py:362]\u001b[0m ranking_mean_average_precision: 0.70309\n",
      "\u001b[32m[1112 12:42:03 @monitor.py:362]\u001b[0m training_ap: 0.46503\n",
      "\u001b[32m[1112 12:42:03 @monitor.py:362]\u001b[0m training_auc: 0.79005\n",
      "\u001b[32m[1112 12:42:03 @base.py:257]\u001b[0m Start Epoch 74 ...\n"
     ]
    },
    {
     "name": "stderr",
     "output_type": "stream",
     "text": [
      "\n",
      "100%|##########|23/23[00:01<00:00,14.42it/s]"
     ]
    },
    {
     "name": "stdout",
     "output_type": "stream",
     "text": [
      "\u001b[32m[1112 12:42:04 @base.py:267]\u001b[0m Epoch 74 (global_step 1702) finished, time:1.56 sec.\n"
     ]
    },
    {
     "name": "stderr",
     "output_type": "stream",
     "text": [
      "\n",
      "100%|##########|5/5[00:00<00:00,10.75it/s]"
     ]
    },
    {
     "name": "stdout",
     "output_type": "stream",
     "text": [
      "\u001b[32m[1112 12:42:05 @saver.py:90]\u001b[0m Model saved to train_log/sift-512-hidden-gls-r5/model-1702.\n",
      "\u001b[32m[1112 12:42:05 @monitor.py:362]\u001b[0m DataParallelInferenceRunner/QueueInput/queue_size: 49.962\n",
      "\u001b[32m[1112 12:42:05 @monitor.py:362]\u001b[0m QueueInput/queue_size: 49.84\n",
      "\u001b[32m[1112 12:42:05 @monitor.py:362]\u001b[0m coverage: 2.1551\n",
      "\u001b[32m[1112 12:42:05 @monitor.py:362]\u001b[0m doubly_stochastic_loss: 0.57947\n",
      "\u001b[32m[1112 12:42:05 @monitor.py:362]\u001b[0m learning_rate: 0.0001\n",
      "\u001b[32m[1112 12:42:05 @monitor.py:362]\u001b[0m loss/value: 8.1153\n",
      "\u001b[32m[1112 12:42:05 @monitor.py:362]\u001b[0m macro_auc: 0.85216\n",
      "\u001b[32m[1112 12:42:05 @monitor.py:362]\u001b[0m macro_f1: 0.53995\n",
      "\u001b[32m[1112 12:42:05 @monitor.py:362]\u001b[0m mean_average_precision: 0.54802\n",
      "\u001b[32m[1112 12:42:05 @monitor.py:362]\u001b[0m micro_auc: 0.85819\n",
      "\u001b[32m[1112 12:42:05 @monitor.py:362]\u001b[0m micro_f1: 0.5578\n",
      "\u001b[32m[1112 12:42:05 @monitor.py:362]\u001b[0m one_error: 0.44029\n",
      "\u001b[32m[1112 12:42:05 @monitor.py:362]\u001b[0m ranking_loss: 0.14968\n",
      "\u001b[32m[1112 12:42:05 @monitor.py:362]\u001b[0m ranking_mean_average_precision: 0.69822\n",
      "\u001b[32m[1112 12:42:05 @monitor.py:362]\u001b[0m training_ap: 0.467\n",
      "\u001b[32m[1112 12:42:05 @monitor.py:362]\u001b[0m training_auc: 0.79115\n",
      "\u001b[32m[1112 12:42:05 @base.py:257]\u001b[0m Start Epoch 75 ...\n"
     ]
    },
    {
     "name": "stderr",
     "output_type": "stream",
     "text": [
      "\n",
      "100%|##########|23/23[00:01<00:00,14.42it/s]"
     ]
    },
    {
     "name": "stdout",
     "output_type": "stream",
     "text": [
      "\u001b[32m[1112 12:42:06 @base.py:267]\u001b[0m Epoch 75 (global_step 1725) finished, time:1.60 sec.\n"
     ]
    },
    {
     "name": "stderr",
     "output_type": "stream",
     "text": [
      "\n",
      "100%|##########|5/5[00:00<00:00,10.24it/s]"
     ]
    },
    {
     "name": "stdout",
     "output_type": "stream",
     "text": [
      "\u001b[32m[1112 12:42:07 @saver.py:90]\u001b[0m Model saved to train_log/sift-512-hidden-gls-r5/model-1725.\n",
      "\u001b[32m[1112 12:42:07 @monitor.py:362]\u001b[0m DataParallelInferenceRunner/QueueInput/queue_size: 49.972\n",
      "\u001b[32m[1112 12:42:07 @monitor.py:362]\u001b[0m QueueInput/queue_size: 49.815\n",
      "\u001b[32m[1112 12:42:07 @monitor.py:362]\u001b[0m coverage: 2.1907\n",
      "\u001b[32m[1112 12:42:07 @monitor.py:362]\u001b[0m doubly_stochastic_loss: 1.1544\n",
      "\u001b[32m[1112 12:42:07 @monitor.py:362]\u001b[0m learning_rate: 0.0001\n",
      "\u001b[32m[1112 12:42:07 @monitor.py:362]\u001b[0m loss/value: 8.1544\n",
      "\u001b[32m[1112 12:42:07 @monitor.py:362]\u001b[0m macro_auc: 0.84489\n",
      "\u001b[32m[1112 12:42:07 @monitor.py:362]\u001b[0m macro_f1: 0.52722\n",
      "\u001b[32m[1112 12:42:07 @monitor.py:362]\u001b[0m mean_average_precision: 0.54724\n",
      "\u001b[32m[1112 12:42:07 @monitor.py:362]\u001b[0m micro_auc: 0.85469\n",
      "\u001b[32m[1112 12:42:07 @monitor.py:362]\u001b[0m micro_f1: 0.55356\n",
      "\u001b[32m[1112 12:42:07 @monitor.py:362]\u001b[0m one_error: 0.43494\n",
      "\u001b[32m[1112 12:42:07 @monitor.py:362]\u001b[0m ranking_loss: 0.14903\n",
      "\u001b[32m[1112 12:42:07 @monitor.py:362]\u001b[0m ranking_mean_average_precision: 0.69994\n",
      "\u001b[32m[1112 12:42:07 @monitor.py:362]\u001b[0m training_ap: 0.46865\n",
      "\u001b[32m[1112 12:42:07 @monitor.py:362]\u001b[0m training_auc: 0.7921\n",
      "\u001b[32m[1112 12:42:07 @base.py:257]\u001b[0m Start Epoch 76 ...\n"
     ]
    },
    {
     "name": "stderr",
     "output_type": "stream",
     "text": [
      "\n",
      "100%|##########|23/23[00:01<00:00,14.67it/s]"
     ]
    },
    {
     "name": "stdout",
     "output_type": "stream",
     "text": [
      "\u001b[32m[1112 12:42:09 @base.py:267]\u001b[0m Epoch 76 (global_step 1748) finished, time:1.58 sec.\n"
     ]
    },
    {
     "name": "stderr",
     "output_type": "stream",
     "text": [
      "\n",
      "100%|##########|5/5[00:00<00:00,10.44it/s]"
     ]
    },
    {
     "name": "stdout",
     "output_type": "stream",
     "text": [
      "\u001b[32m[1112 12:42:09 @saver.py:90]\u001b[0m Model saved to train_log/sift-512-hidden-gls-r5/model-1748.\n",
      "\u001b[32m[1112 12:42:09 @monitor.py:362]\u001b[0m DataParallelInferenceRunner/QueueInput/queue_size: 49.98\n",
      "\u001b[32m[1112 12:42:09 @monitor.py:362]\u001b[0m QueueInput/queue_size: 49.894\n",
      "\u001b[32m[1112 12:42:09 @monitor.py:362]\u001b[0m coverage: 2.2103\n",
      "\u001b[32m[1112 12:42:09 @monitor.py:362]\u001b[0m doubly_stochastic_loss: 0.56191\n",
      "\u001b[32m[1112 12:42:09 @monitor.py:362]\u001b[0m learning_rate: 0.0001\n",
      "\u001b[32m[1112 12:42:09 @monitor.py:362]\u001b[0m loss/value: 8.1719\n",
      "\u001b[32m[1112 12:42:09 @monitor.py:362]\u001b[0m macro_auc: 0.83791\n",
      "\u001b[32m[1112 12:42:09 @monitor.py:362]\u001b[0m macro_f1: 0.52991\n",
      "\u001b[32m[1112 12:42:09 @monitor.py:362]\u001b[0m mean_average_precision: 0.55517\n",
      "\u001b[32m[1112 12:42:09 @monitor.py:362]\u001b[0m micro_auc: 0.85195\n",
      "\u001b[32m[1112 12:42:09 @monitor.py:362]\u001b[0m micro_f1: 0.55253\n",
      "\u001b[32m[1112 12:42:09 @monitor.py:362]\u001b[0m one_error: 0.42068\n",
      "\u001b[32m[1112 12:42:09 @monitor.py:362]\u001b[0m ranking_loss: 0.15312\n",
      "\u001b[32m[1112 12:42:09 @monitor.py:362]\u001b[0m ranking_mean_average_precision: 0.70452\n",
      "\u001b[32m[1112 12:42:09 @monitor.py:362]\u001b[0m training_ap: 0.47042\n",
      "\u001b[32m[1112 12:42:09 @monitor.py:362]\u001b[0m training_auc: 0.79314\n",
      "\u001b[32m[1112 12:42:09 @base.py:257]\u001b[0m Start Epoch 77 ...\n"
     ]
    },
    {
     "name": "stderr",
     "output_type": "stream",
     "text": [
      "\n",
      "100%|##########|23/23[00:01<00:00,14.31it/s]"
     ]
    },
    {
     "name": "stdout",
     "output_type": "stream",
     "text": [
      "\u001b[32m[1112 12:42:11 @base.py:267]\u001b[0m Epoch 77 (global_step 1771) finished, time:1.61 sec.\n"
     ]
    },
    {
     "name": "stderr",
     "output_type": "stream",
     "text": [
      "\n",
      "100%|##########|5/5[00:00<00:00, 8.76it/s]"
     ]
    },
    {
     "name": "stdout",
     "output_type": "stream",
     "text": [
      "\u001b[32m[1112 12:42:11 @saver.py:90]\u001b[0m Model saved to train_log/sift-512-hidden-gls-r5/model-1771.\n",
      "\u001b[32m[1112 12:42:11 @saver.py:159]\u001b[0m Model with maximum 'micro_f1' saved.\n",
      "\u001b[32m[1112 12:42:11 @monitor.py:362]\u001b[0m DataParallelInferenceRunner/QueueInput/queue_size: 49.944\n",
      "\u001b[32m[1112 12:42:11 @monitor.py:362]\u001b[0m QueueInput/queue_size: 49.913\n",
      "\u001b[32m[1112 12:42:11 @monitor.py:362]\u001b[0m coverage: 2.1497\n",
      "\u001b[32m[1112 12:42:11 @monitor.py:362]\u001b[0m doubly_stochastic_loss: 0.42853\n",
      "\u001b[32m[1112 12:42:11 @monitor.py:362]\u001b[0m learning_rate: 0.0001\n",
      "\u001b[32m[1112 12:42:11 @monitor.py:362]\u001b[0m loss/value: 8.0366\n",
      "\u001b[32m[1112 12:42:11 @monitor.py:362]\u001b[0m macro_auc: 0.85773\n",
      "\u001b[32m[1112 12:42:11 @monitor.py:362]\u001b[0m macro_f1: 0.54181\n",
      "\u001b[32m[1112 12:42:11 @monitor.py:362]\u001b[0m mean_average_precision: 0.5665\n",
      "\u001b[32m[1112 12:42:11 @monitor.py:362]\u001b[0m micro_auc: 0.86032\n",
      "\u001b[32m[1112 12:42:11 @monitor.py:362]\u001b[0m micro_f1: 0.56351\n",
      "\u001b[32m[1112 12:42:11 @monitor.py:362]\u001b[0m one_error: 0.41176\n",
      "\u001b[32m[1112 12:42:11 @monitor.py:362]\u001b[0m ranking_loss: 0.14712\n",
      "\u001b[32m[1112 12:42:11 @monitor.py:362]\u001b[0m ranking_mean_average_precision: 0.71219\n",
      "\u001b[32m[1112 12:42:11 @monitor.py:362]\u001b[0m training_ap: 0.47221\n",
      "\u001b[32m[1112 12:42:11 @monitor.py:362]\u001b[0m training_auc: 0.79423\n",
      "\u001b[32m[1112 12:42:11 @base.py:257]\u001b[0m Start Epoch 78 ...\n"
     ]
    },
    {
     "name": "stderr",
     "output_type": "stream",
     "text": [
      "\n",
      "100%|##########|23/23[00:01<00:00,14.43it/s]"
     ]
    },
    {
     "name": "stdout",
     "output_type": "stream",
     "text": [
      "\u001b[32m[1112 12:42:13 @base.py:267]\u001b[0m Epoch 78 (global_step 1794) finished, time:1.60 sec.\n"
     ]
    },
    {
     "name": "stderr",
     "output_type": "stream",
     "text": [
      "\n",
      "100%|##########|5/5[00:00<00:00,10.01it/s]"
     ]
    },
    {
     "name": "stdout",
     "output_type": "stream",
     "text": [
      "\u001b[32m[1112 12:42:14 @saver.py:90]\u001b[0m Model saved to train_log/sift-512-hidden-gls-r5/model-1794.\n",
      "\u001b[32m[1112 12:42:14 @monitor.py:362]\u001b[0m DataParallelInferenceRunner/QueueInput/queue_size: 49.918\n",
      "\u001b[32m[1112 12:42:14 @monitor.py:362]\u001b[0m QueueInput/queue_size: 49.936\n",
      "\u001b[32m[1112 12:42:14 @monitor.py:362]\u001b[0m coverage: 2.1729\n",
      "\u001b[32m[1112 12:42:14 @monitor.py:362]\u001b[0m doubly_stochastic_loss: 0.43416\n",
      "\u001b[32m[1112 12:42:14 @monitor.py:362]\u001b[0m learning_rate: 0.0001\n",
      "\u001b[32m[1112 12:42:14 @monitor.py:362]\u001b[0m loss/value: 8.1232\n",
      "\u001b[32m[1112 12:42:14 @monitor.py:362]\u001b[0m macro_auc: 0.85304\n",
      "\u001b[32m[1112 12:42:14 @monitor.py:362]\u001b[0m macro_f1: 0.53969\n",
      "\u001b[32m[1112 12:42:14 @monitor.py:362]\u001b[0m mean_average_precision: 0.55936\n",
      "\u001b[32m[1112 12:42:14 @monitor.py:362]\u001b[0m micro_auc: 0.86094\n",
      "\u001b[32m[1112 12:42:14 @monitor.py:362]\u001b[0m micro_f1: 0.55962\n",
      "\u001b[32m[1112 12:42:14 @monitor.py:362]\u001b[0m one_error: 0.44742\n",
      "\u001b[32m[1112 12:42:14 @monitor.py:362]\u001b[0m ranking_loss: 0.15067\n",
      "\u001b[32m[1112 12:42:14 @monitor.py:362]\u001b[0m ranking_mean_average_precision: 0.69567\n",
      "\u001b[32m[1112 12:42:14 @monitor.py:362]\u001b[0m training_ap: 0.47388\n",
      "\u001b[32m[1112 12:42:14 @monitor.py:362]\u001b[0m training_auc: 0.79518\n",
      "\u001b[32m[1112 12:42:14 @base.py:257]\u001b[0m Start Epoch 79 ...\n"
     ]
    },
    {
     "name": "stderr",
     "output_type": "stream",
     "text": [
      "\n",
      "100%|##########|23/23[00:01<00:00,14.92it/s]"
     ]
    },
    {
     "name": "stdout",
     "output_type": "stream",
     "text": [
      "\u001b[32m[1112 12:42:15 @base.py:267]\u001b[0m Epoch 79 (global_step 1817) finished, time:1.54 sec.\n"
     ]
    },
    {
     "name": "stderr",
     "output_type": "stream",
     "text": [
      "\n",
      "100%|##########|5/5[00:00<00:00, 9.14it/s]"
     ]
    },
    {
     "name": "stdout",
     "output_type": "stream",
     "text": [
      "\u001b[32m[1112 12:42:16 @saver.py:90]\u001b[0m Model saved to train_log/sift-512-hidden-gls-r5/model-1817.\n",
      "\u001b[32m[1112 12:42:16 @monitor.py:362]\u001b[0m DataParallelInferenceRunner/QueueInput/queue_size: 49.899\n",
      "\u001b[32m[1112 12:42:16 @monitor.py:362]\u001b[0m QueueInput/queue_size: 49.888\n",
      "\u001b[32m[1112 12:42:16 @monitor.py:362]\u001b[0m coverage: 2.1141\n",
      "\u001b[32m[1112 12:42:16 @monitor.py:362]\u001b[0m doubly_stochastic_loss: 0.92078\n",
      "\u001b[32m[1112 12:42:16 @monitor.py:362]\u001b[0m learning_rate: 0.0001\n",
      "\u001b[32m[1112 12:42:16 @monitor.py:362]\u001b[0m loss/value: 8.0443\n",
      "\u001b[32m[1112 12:42:16 @monitor.py:362]\u001b[0m macro_auc: 0.8476\n",
      "\u001b[32m[1112 12:42:16 @monitor.py:362]\u001b[0m macro_f1: 0.53792\n",
      "\u001b[32m[1112 12:42:16 @monitor.py:362]\u001b[0m mean_average_precision: 0.5582\n",
      "\u001b[32m[1112 12:42:16 @monitor.py:362]\u001b[0m micro_auc: 0.85645\n",
      "\u001b[32m[1112 12:42:16 @monitor.py:362]\u001b[0m micro_f1: 0.55756\n",
      "\u001b[32m[1112 12:42:16 @monitor.py:362]\u001b[0m one_error: 0.42246\n",
      "\u001b[32m[1112 12:42:16 @monitor.py:362]\u001b[0m ranking_loss: 0.14112\n",
      "\u001b[32m[1112 12:42:16 @monitor.py:362]\u001b[0m ranking_mean_average_precision: 0.71288\n",
      "\u001b[32m[1112 12:42:16 @monitor.py:362]\u001b[0m training_ap: 0.47558\n",
      "\u001b[32m[1112 12:42:16 @monitor.py:362]\u001b[0m training_auc: 0.79616\n",
      "\u001b[32m[1112 12:42:16 @base.py:257]\u001b[0m Start Epoch 80 ...\n"
     ]
    },
    {
     "name": "stderr",
     "output_type": "stream",
     "text": [
      "\n",
      "100%|##########|23/23[00:01<00:00,13.85it/s]"
     ]
    },
    {
     "name": "stdout",
     "output_type": "stream",
     "text": [
      "\u001b[32m[1112 12:42:17 @base.py:267]\u001b[0m Epoch 80 (global_step 1840) finished, time:1.67 sec.\n"
     ]
    },
    {
     "name": "stderr",
     "output_type": "stream",
     "text": [
      "\n",
      "100%|##########|5/5[00:00<00:00,10.28it/s]"
     ]
    },
    {
     "name": "stdout",
     "output_type": "stream",
     "text": [
      "\u001b[32m[1112 12:42:18 @saver.py:90]\u001b[0m Model saved to train_log/sift-512-hidden-gls-r5/model-1840.\n",
      "\u001b[32m[1112 12:42:18 @monitor.py:362]\u001b[0m DataParallelInferenceRunner/QueueInput/queue_size: 49.926\n",
      "\u001b[32m[1112 12:42:18 @monitor.py:362]\u001b[0m QueueInput/queue_size: 49.915\n",
      "\u001b[32m[1112 12:42:18 @monitor.py:362]\u001b[0m coverage: 2.1676\n",
      "\u001b[32m[1112 12:42:18 @monitor.py:362]\u001b[0m doubly_stochastic_loss: 1.2612\n",
      "\u001b[32m[1112 12:42:18 @monitor.py:362]\u001b[0m learning_rate: 0.0001\n",
      "\u001b[32m[1112 12:42:18 @monitor.py:362]\u001b[0m loss/value: 8.2499\n",
      "\u001b[32m[1112 12:42:18 @monitor.py:362]\u001b[0m macro_auc: 0.84988\n",
      "\u001b[32m[1112 12:42:18 @monitor.py:362]\u001b[0m macro_f1: 0.53307\n",
      "\u001b[32m[1112 12:42:18 @monitor.py:362]\u001b[0m mean_average_precision: 0.55924\n",
      "\u001b[32m[1112 12:42:18 @monitor.py:362]\u001b[0m micro_auc: 0.85564\n",
      "\u001b[32m[1112 12:42:18 @monitor.py:362]\u001b[0m micro_f1: 0.55492\n",
      "\u001b[32m[1112 12:42:18 @monitor.py:362]\u001b[0m one_error: 0.43494\n",
      "\u001b[32m[1112 12:42:18 @monitor.py:362]\u001b[0m ranking_loss: 0.14742\n",
      "\u001b[32m[1112 12:42:18 @monitor.py:362]\u001b[0m ranking_mean_average_precision: 0.70185\n",
      "\u001b[32m[1112 12:42:18 @monitor.py:362]\u001b[0m training_ap: 0.47711\n",
      "\u001b[32m[1112 12:42:18 @monitor.py:362]\u001b[0m training_auc: 0.79705\n",
      "\u001b[32m[1112 12:42:18 @base.py:257]\u001b[0m Start Epoch 81 ...\n"
     ]
    },
    {
     "name": "stderr",
     "output_type": "stream",
     "text": [
      "\n",
      "100%|##########|23/23[00:01<00:00,15.21it/s]"
     ]
    },
    {
     "name": "stdout",
     "output_type": "stream",
     "text": [
      "\u001b[32m[1112 12:42:19 @base.py:267]\u001b[0m Epoch 81 (global_step 1863) finished, time:1.51 sec.\n"
     ]
    },
    {
     "name": "stderr",
     "output_type": "stream",
     "text": [
      "\n",
      "100%|##########|5/5[00:00<00:00, 9.77it/s]"
     ]
    },
    {
     "name": "stdout",
     "output_type": "stream",
     "text": [
      "\u001b[32m[1112 12:42:20 @saver.py:90]\u001b[0m Model saved to train_log/sift-512-hidden-gls-r5/model-1863.\n",
      "\u001b[32m[1112 12:42:20 @monitor.py:362]\u001b[0m DataParallelInferenceRunner/QueueInput/queue_size: 49.905\n",
      "\u001b[32m[1112 12:42:20 @monitor.py:362]\u001b[0m QueueInput/queue_size: 49.957\n",
      "\u001b[32m[1112 12:42:20 @monitor.py:362]\u001b[0m coverage: 2.1622\n",
      "\u001b[32m[1112 12:42:20 @monitor.py:362]\u001b[0m doubly_stochastic_loss: 1.2222\n",
      "\u001b[32m[1112 12:42:20 @monitor.py:362]\u001b[0m learning_rate: 0.0001\n",
      "\u001b[32m[1112 12:42:20 @monitor.py:362]\u001b[0m loss/value: 8.1452\n",
      "\u001b[32m[1112 12:42:20 @monitor.py:362]\u001b[0m macro_auc: 0.85547\n",
      "\u001b[32m[1112 12:42:20 @monitor.py:362]\u001b[0m macro_f1: 0.53318\n",
      "\u001b[32m[1112 12:42:20 @monitor.py:362]\u001b[0m mean_average_precision: 0.56029\n",
      "\u001b[32m[1112 12:42:20 @monitor.py:362]\u001b[0m micro_auc: 0.86109\n",
      "\u001b[32m[1112 12:42:20 @monitor.py:362]\u001b[0m micro_f1: 0.55548\n",
      "\u001b[32m[1112 12:42:20 @monitor.py:362]\u001b[0m one_error: 0.42959\n",
      "\u001b[32m[1112 12:42:20 @monitor.py:362]\u001b[0m ranking_loss: 0.14709\n",
      "\u001b[32m[1112 12:42:20 @monitor.py:362]\u001b[0m ranking_mean_average_precision: 0.70618\n",
      "\u001b[32m[1112 12:42:20 @monitor.py:362]\u001b[0m training_ap: 0.47851\n",
      "\u001b[32m[1112 12:42:20 @monitor.py:362]\u001b[0m training_auc: 0.79792\n",
      "\u001b[32m[1112 12:42:20 @base.py:257]\u001b[0m Start Epoch 82 ...\n"
     ]
    },
    {
     "name": "stderr",
     "output_type": "stream",
     "text": [
      "\n",
      "100%|##########|23/23[00:01<00:00,14.89it/s]"
     ]
    },
    {
     "name": "stdout",
     "output_type": "stream",
     "text": [
      "\u001b[32m[1112 12:42:22 @base.py:267]\u001b[0m Epoch 82 (global_step 1886) finished, time:1.55 sec.\n"
     ]
    },
    {
     "name": "stderr",
     "output_type": "stream",
     "text": [
      "\n",
      "100%|##########|5/5[00:00<00:00, 9.21it/s]"
     ]
    },
    {
     "name": "stdout",
     "output_type": "stream",
     "text": [
      "\u001b[32m[1112 12:42:22 @saver.py:90]\u001b[0m Model saved to train_log/sift-512-hidden-gls-r5/model-1886.\n",
      "\u001b[32m[1112 12:42:22 @monitor.py:362]\u001b[0m DataParallelInferenceRunner/QueueInput/queue_size: 49.93\n",
      "\u001b[32m[1112 12:42:22 @monitor.py:362]\u001b[0m QueueInput/queue_size: 49.824\n",
      "\u001b[32m[1112 12:42:22 @monitor.py:362]\u001b[0m coverage: 2.1586\n",
      "\u001b[32m[1112 12:42:22 @monitor.py:362]\u001b[0m doubly_stochastic_loss: 0.22454\n",
      "\u001b[32m[1112 12:42:22 @monitor.py:362]\u001b[0m learning_rate: 0.0001\n",
      "\u001b[32m[1112 12:42:22 @monitor.py:362]\u001b[0m loss/value: 8.0308\n",
      "\u001b[32m[1112 12:42:22 @monitor.py:362]\u001b[0m macro_auc: 0.84699\n",
      "\u001b[32m[1112 12:42:22 @monitor.py:362]\u001b[0m macro_f1: 0.53533\n",
      "\u001b[32m[1112 12:42:22 @monitor.py:362]\u001b[0m mean_average_precision: 0.54364\n",
      "\u001b[32m[1112 12:42:22 @monitor.py:362]\u001b[0m micro_auc: 0.8541\n",
      "\u001b[32m[1112 12:42:22 @monitor.py:362]\u001b[0m micro_f1: 0.55551\n",
      "\u001b[32m[1112 12:42:22 @monitor.py:362]\u001b[0m one_error: 0.41711\n",
      "\u001b[32m[1112 12:42:22 @monitor.py:362]\u001b[0m ranking_loss: 0.14502\n",
      "\u001b[32m[1112 12:42:22 @monitor.py:362]\u001b[0m ranking_mean_average_precision: 0.70914\n",
      "\u001b[32m[1112 12:42:22 @monitor.py:362]\u001b[0m training_ap: 0.48008\n",
      "\u001b[32m[1112 12:42:22 @monitor.py:362]\u001b[0m training_auc: 0.79885\n",
      "\u001b[32m[1112 12:42:22 @base.py:257]\u001b[0m Start Epoch 83 ...\n"
     ]
    },
    {
     "name": "stderr",
     "output_type": "stream",
     "text": [
      "\n",
      "100%|##########|23/23[00:01<00:00,15.51it/s]"
     ]
    },
    {
     "name": "stdout",
     "output_type": "stream",
     "text": [
      "\u001b[32m[1112 12:42:24 @base.py:267]\u001b[0m Epoch 83 (global_step 1909) finished, time:1.49 sec.\n"
     ]
    },
    {
     "name": "stderr",
     "output_type": "stream",
     "text": [
      "\n",
      "100%|##########|5/5[00:00<00:00,10.02it/s]"
     ]
    },
    {
     "name": "stdout",
     "output_type": "stream",
     "text": [
      "\u001b[32m[1112 12:42:24 @saver.py:90]\u001b[0m Model saved to train_log/sift-512-hidden-gls-r5/model-1909.\n",
      "\u001b[32m[1112 12:42:24 @monitor.py:362]\u001b[0m DataParallelInferenceRunner/QueueInput/queue_size: 49.908\n",
      "\u001b[32m[1112 12:42:24 @monitor.py:362]\u001b[0m QueueInput/queue_size: 49.669\n",
      "\u001b[32m[1112 12:42:24 @monitor.py:362]\u001b[0m coverage: 2.2513\n",
      "\u001b[32m[1112 12:42:24 @monitor.py:362]\u001b[0m doubly_stochastic_loss: 0.57261\n",
      "\u001b[32m[1112 12:42:24 @monitor.py:362]\u001b[0m learning_rate: 0.0001\n",
      "\u001b[32m[1112 12:42:24 @monitor.py:362]\u001b[0m loss/value: 7.9771\n",
      "\u001b[32m[1112 12:42:24 @monitor.py:362]\u001b[0m macro_auc: 0.84274\n",
      "\u001b[32m[1112 12:42:24 @monitor.py:362]\u001b[0m macro_f1: 0.51914\n",
      "\u001b[32m[1112 12:42:24 @monitor.py:362]\u001b[0m mean_average_precision: 0.55881\n",
      "\u001b[32m[1112 12:42:24 @monitor.py:362]\u001b[0m micro_auc: 0.85083\n",
      "\u001b[32m[1112 12:42:24 @monitor.py:362]\u001b[0m micro_f1: 0.54163\n",
      "\u001b[32m[1112 12:42:24 @monitor.py:362]\u001b[0m one_error: 0.45633\n",
      "\u001b[32m[1112 12:42:24 @monitor.py:362]\u001b[0m ranking_loss: 0.15932\n",
      "\u001b[32m[1112 12:42:24 @monitor.py:362]\u001b[0m ranking_mean_average_precision: 0.68557\n",
      "\u001b[32m[1112 12:42:24 @monitor.py:362]\u001b[0m training_ap: 0.4817\n",
      "\u001b[32m[1112 12:42:24 @monitor.py:362]\u001b[0m training_auc: 0.79975\n",
      "\u001b[32m[1112 12:42:24 @base.py:257]\u001b[0m Start Epoch 84 ...\n"
     ]
    },
    {
     "name": "stderr",
     "output_type": "stream",
     "text": [
      "\n",
      "100%|##########|23/23[00:01<00:00,14.60it/s]"
     ]
    },
    {
     "name": "stdout",
     "output_type": "stream",
     "text": [
      "\u001b[32m[1112 12:42:26 @base.py:267]\u001b[0m Epoch 84 (global_step 1932) finished, time:1.58 sec.\n"
     ]
    },
    {
     "name": "stderr",
     "output_type": "stream",
     "text": [
      "\n",
      "100%|##########|5/5[00:00<00:00, 9.95it/s]"
     ]
    },
    {
     "name": "stdout",
     "output_type": "stream",
     "text": [
      "\u001b[32m[1112 12:42:26 @saver.py:90]\u001b[0m Model saved to train_log/sift-512-hidden-gls-r5/model-1932.\n",
      "\u001b[32m[1112 12:42:26 @monitor.py:362]\u001b[0m DataParallelInferenceRunner/QueueInput/queue_size: 49.932\n",
      "\u001b[32m[1112 12:42:26 @monitor.py:362]\u001b[0m QueueInput/queue_size: 49.818\n",
      "\u001b[32m[1112 12:42:26 @monitor.py:362]\u001b[0m coverage: 2.1854\n",
      "\u001b[32m[1112 12:42:26 @monitor.py:362]\u001b[0m doubly_stochastic_loss: 0.5277\n",
      "\u001b[32m[1112 12:42:26 @monitor.py:362]\u001b[0m learning_rate: 0.0001\n",
      "\u001b[32m[1112 12:42:26 @monitor.py:362]\u001b[0m loss/value: 8.0052\n",
      "\u001b[32m[1112 12:42:26 @monitor.py:362]\u001b[0m macro_auc: 0.84951\n",
      "\u001b[32m[1112 12:42:26 @monitor.py:362]\u001b[0m macro_f1: 0.53579\n",
      "\u001b[32m[1112 12:42:26 @monitor.py:362]\u001b[0m mean_average_precision: 0.54165\n",
      "\u001b[32m[1112 12:42:26 @monitor.py:362]\u001b[0m micro_auc: 0.8567\n",
      "\u001b[32m[1112 12:42:26 @monitor.py:362]\u001b[0m micro_f1: 0.56124\n",
      "\u001b[32m[1112 12:42:26 @monitor.py:362]\u001b[0m one_error: 0.43672\n",
      "\u001b[32m[1112 12:42:26 @monitor.py:362]\u001b[0m ranking_loss: 0.15171\n",
      "\u001b[32m[1112 12:42:26 @monitor.py:362]\u001b[0m ranking_mean_average_precision: 0.7015\n",
      "\u001b[32m[1112 12:42:26 @monitor.py:362]\u001b[0m training_ap: 0.48325\n",
      "\u001b[32m[1112 12:42:26 @monitor.py:362]\u001b[0m training_auc: 0.80061\n",
      "\u001b[32m[1112 12:42:26 @base.py:257]\u001b[0m Start Epoch 85 ...\n"
     ]
    },
    {
     "name": "stderr",
     "output_type": "stream",
     "text": [
      "\n",
      "100%|##########|23/23[00:01<00:00,14.16it/s]"
     ]
    },
    {
     "name": "stdout",
     "output_type": "stream",
     "text": [
      "\u001b[32m[1112 12:42:28 @base.py:267]\u001b[0m Epoch 85 (global_step 1955) finished, time:1.63 sec.\n"
     ]
    },
    {
     "name": "stderr",
     "output_type": "stream",
     "text": [
      "\n",
      "100%|##########|5/5[00:00<00:00,10.96it/s]"
     ]
    },
    {
     "name": "stdout",
     "output_type": "stream",
     "text": [
      "\u001b[32m[1112 12:42:29 @saver.py:90]\u001b[0m Model saved to train_log/sift-512-hidden-gls-r5/model-1955.\n",
      "\u001b[32m[1112 12:42:29 @monitor.py:362]\u001b[0m DataParallelInferenceRunner/QueueInput/queue_size: 49.95\n",
      "\u001b[32m[1112 12:42:29 @monitor.py:362]\u001b[0m QueueInput/queue_size: 49.875\n",
      "\u001b[32m[1112 12:42:29 @monitor.py:362]\u001b[0m coverage: 2.1355\n",
      "\u001b[32m[1112 12:42:29 @monitor.py:362]\u001b[0m doubly_stochastic_loss: 0.31007\n",
      "\u001b[32m[1112 12:42:29 @monitor.py:362]\u001b[0m learning_rate: 0.0001\n",
      "\u001b[32m[1112 12:42:29 @monitor.py:362]\u001b[0m loss/value: 7.9019\n",
      "\u001b[32m[1112 12:42:29 @monitor.py:362]\u001b[0m macro_auc: 0.85385\n",
      "\u001b[32m[1112 12:42:29 @monitor.py:362]\u001b[0m macro_f1: 0.54167\n",
      "\u001b[32m[1112 12:42:29 @monitor.py:362]\u001b[0m mean_average_precision: 0.56866\n",
      "\u001b[32m[1112 12:42:29 @monitor.py:362]\u001b[0m micro_auc: 0.85853\n",
      "\u001b[32m[1112 12:42:29 @monitor.py:362]\u001b[0m micro_f1: 0.56207\n",
      "\u001b[32m[1112 12:42:29 @monitor.py:362]\u001b[0m one_error: 0.42068\n",
      "\u001b[32m[1112 12:42:29 @monitor.py:362]\u001b[0m ranking_loss: 0.1463\n",
      "\u001b[32m[1112 12:42:29 @monitor.py:362]\u001b[0m ranking_mean_average_precision: 0.7105\n",
      "\u001b[32m[1112 12:42:29 @monitor.py:362]\u001b[0m training_ap: 0.48474\n",
      "\u001b[32m[1112 12:42:29 @monitor.py:362]\u001b[0m training_auc: 0.80148\n",
      "\u001b[32m[1112 12:42:29 @base.py:257]\u001b[0m Start Epoch 86 ...\n"
     ]
    },
    {
     "name": "stderr",
     "output_type": "stream",
     "text": [
      "\n",
      "100%|##########|23/23[00:01<00:00,15.91it/s]"
     ]
    },
    {
     "name": "stdout",
     "output_type": "stream",
     "text": [
      "\u001b[32m[1112 12:42:30 @base.py:267]\u001b[0m Epoch 86 (global_step 1978) finished, time:1.45 sec.\n"
     ]
    },
    {
     "name": "stderr",
     "output_type": "stream",
     "text": [
      "\n",
      "100%|##########|5/5[00:00<00:00, 9.27it/s]\n"
     ]
    },
    {
     "name": "stdout",
     "output_type": "stream",
     "text": [
      "\u001b[32m[1112 12:42:31 @saver.py:90]\u001b[0m Model saved to train_log/sift-512-hidden-gls-r5/model-1978.\n",
      "\u001b[32m[1112 12:42:31 @monitor.py:362]\u001b[0m DataParallelInferenceRunner/QueueInput/queue_size: 49.963\n",
      "\u001b[32m[1112 12:42:31 @monitor.py:362]\u001b[0m QueueInput/queue_size: 49.895\n",
      "\u001b[32m[1112 12:42:31 @monitor.py:362]\u001b[0m coverage: 2.1604\n",
      "\u001b[32m[1112 12:42:31 @monitor.py:362]\u001b[0m doubly_stochastic_loss: 1.392\n",
      "\u001b[32m[1112 12:42:31 @monitor.py:362]\u001b[0m learning_rate: 0.0001\n",
      "\u001b[32m[1112 12:42:31 @monitor.py:362]\u001b[0m loss/value: 7.9869\n",
      "\u001b[32m[1112 12:42:31 @monitor.py:362]\u001b[0m macro_auc: 0.85639\n",
      "\u001b[32m[1112 12:42:31 @monitor.py:362]\u001b[0m macro_f1: 0.54259\n",
      "\u001b[32m[1112 12:42:31 @monitor.py:362]\u001b[0m mean_average_precision: 0.56198\n",
      "\u001b[32m[1112 12:42:31 @monitor.py:362]\u001b[0m micro_auc: 0.85843\n",
      "\u001b[32m[1112 12:42:31 @monitor.py:362]\u001b[0m micro_f1: 0.55798\n",
      "\u001b[32m[1112 12:42:31 @monitor.py:362]\u001b[0m one_error: 0.42781\n",
      "\u001b[32m[1112 12:42:31 @monitor.py:362]\u001b[0m ranking_loss: 0.148\n",
      "\u001b[32m[1112 12:42:31 @monitor.py:362]\u001b[0m ranking_mean_average_precision: 0.70565\n",
      "\u001b[32m[1112 12:42:31 @monitor.py:362]\u001b[0m training_ap: 0.48627\n",
      "\u001b[32m[1112 12:42:31 @monitor.py:362]\u001b[0m training_auc: 0.80237\n",
      "\u001b[32m[1112 12:42:31 @base.py:257]\u001b[0m Start Epoch 87 ...\n"
     ]
    },
    {
     "name": "stderr",
     "output_type": "stream",
     "text": [
      "100%|##########|23/23[00:01<00:00,14.53it/s]"
     ]
    },
    {
     "name": "stdout",
     "output_type": "stream",
     "text": [
      "\u001b[32m[1112 12:42:33 @base.py:267]\u001b[0m Epoch 87 (global_step 2001) finished, time:1.61 sec.\n"
     ]
    },
    {
     "name": "stderr",
     "output_type": "stream",
     "text": [
      "\n",
      "100%|##########|5/5[00:00<00:00, 9.62it/s]"
     ]
    },
    {
     "name": "stdout",
     "output_type": "stream",
     "text": [
      "\u001b[32m[1112 12:42:33 @saver.py:90]\u001b[0m Model saved to train_log/sift-512-hidden-gls-r5/model-2001.\n",
      "\u001b[32m[1112 12:42:33 @monitor.py:362]\u001b[0m DataParallelInferenceRunner/QueueInput/queue_size: 49.973\n",
      "\u001b[32m[1112 12:42:33 @monitor.py:362]\u001b[0m QueueInput/queue_size: 49.951\n",
      "\u001b[32m[1112 12:42:33 @monitor.py:362]\u001b[0m coverage: 2.2086\n",
      "\u001b[32m[1112 12:42:33 @monitor.py:362]\u001b[0m doubly_stochastic_loss: 0.8024\n",
      "\u001b[32m[1112 12:42:33 @monitor.py:362]\u001b[0m learning_rate: 0.0001\n",
      "\u001b[32m[1112 12:42:33 @monitor.py:362]\u001b[0m loss/value: 7.965\n",
      "\u001b[32m[1112 12:42:33 @monitor.py:362]\u001b[0m macro_auc: 0.84344\n",
      "\u001b[32m[1112 12:42:33 @monitor.py:362]\u001b[0m macro_f1: 0.52523\n",
      "\u001b[32m[1112 12:42:33 @monitor.py:362]\u001b[0m mean_average_precision: 0.54047\n",
      "\u001b[32m[1112 12:42:33 @monitor.py:362]\u001b[0m micro_auc: 0.85371\n",
      "\u001b[32m[1112 12:42:33 @monitor.py:362]\u001b[0m micro_f1: 0.55311\n",
      "\u001b[32m[1112 12:42:33 @monitor.py:362]\u001b[0m one_error: 0.44029\n",
      "\u001b[32m[1112 12:42:33 @monitor.py:362]\u001b[0m ranking_loss: 0.15345\n",
      "\u001b[32m[1112 12:42:33 @monitor.py:362]\u001b[0m ranking_mean_average_precision: 0.69478\n",
      "\u001b[32m[1112 12:42:33 @monitor.py:362]\u001b[0m training_ap: 0.48783\n",
      "\u001b[32m[1112 12:42:33 @monitor.py:362]\u001b[0m training_auc: 0.8032\n",
      "\u001b[32m[1112 12:42:33 @base.py:257]\u001b[0m Start Epoch 88 ...\n"
     ]
    },
    {
     "name": "stderr",
     "output_type": "stream",
     "text": [
      "\n",
      "100%|##########|23/23[00:01<00:00,15.36it/s]"
     ]
    },
    {
     "name": "stdout",
     "output_type": "stream",
     "text": [
      "\u001b[32m[1112 12:42:35 @base.py:267]\u001b[0m Epoch 88 (global_step 2024) finished, time:1.50 sec.\n"
     ]
    },
    {
     "name": "stderr",
     "output_type": "stream",
     "text": [
      "\n",
      "100%|##########|5/5[00:00<00:00, 9.89it/s]"
     ]
    },
    {
     "name": "stdout",
     "output_type": "stream",
     "text": [
      "\u001b[32m[1112 12:42:35 @saver.py:90]\u001b[0m Model saved to train_log/sift-512-hidden-gls-r5/model-2024.\n",
      "\u001b[32m[1112 12:42:35 @monitor.py:362]\u001b[0m DataParallelInferenceRunner/QueueInput/queue_size: 49.98\n",
      "\u001b[32m[1112 12:42:35 @monitor.py:362]\u001b[0m QueueInput/queue_size: 49.877\n",
      "\u001b[32m[1112 12:42:35 @monitor.py:362]\u001b[0m coverage: 2.1586\n",
      "\u001b[32m[1112 12:42:35 @monitor.py:362]\u001b[0m doubly_stochastic_loss: 0.26808\n",
      "\u001b[32m[1112 12:42:35 @monitor.py:362]\u001b[0m learning_rate: 0.0001\n",
      "\u001b[32m[1112 12:42:35 @monitor.py:362]\u001b[0m loss/value: 7.9798\n",
      "\u001b[32m[1112 12:42:35 @monitor.py:362]\u001b[0m macro_auc: 0.8401\n",
      "\u001b[32m[1112 12:42:35 @monitor.py:362]\u001b[0m macro_f1: 0.53329\n",
      "\u001b[32m[1112 12:42:35 @monitor.py:362]\u001b[0m mean_average_precision: 0.55131\n",
      "\u001b[32m[1112 12:42:35 @monitor.py:362]\u001b[0m micro_auc: 0.85365\n",
      "\u001b[32m[1112 12:42:35 @monitor.py:362]\u001b[0m micro_f1: 0.55549\n",
      "\u001b[32m[1112 12:42:35 @monitor.py:362]\u001b[0m one_error: 0.42246\n",
      "\u001b[32m[1112 12:42:35 @monitor.py:362]\u001b[0m ranking_loss: 0.14525\n",
      "\u001b[32m[1112 12:42:35 @monitor.py:362]\u001b[0m ranking_mean_average_precision: 0.70893\n",
      "\u001b[32m[1112 12:42:35 @monitor.py:362]\u001b[0m training_ap: 0.48928\n",
      "\u001b[32m[1112 12:42:35 @monitor.py:362]\u001b[0m training_auc: 0.80404\n",
      "\u001b[32m[1112 12:42:35 @base.py:257]\u001b[0m Start Epoch 89 ...\n"
     ]
    },
    {
     "name": "stderr",
     "output_type": "stream",
     "text": [
      "\n",
      "100%|##########|23/23[00:01<00:00,14.96it/s]"
     ]
    },
    {
     "name": "stdout",
     "output_type": "stream",
     "text": [
      "\u001b[32m[1112 12:42:37 @base.py:267]\u001b[0m Epoch 89 (global_step 2047) finished, time:1.54 sec.\n"
     ]
    },
    {
     "name": "stderr",
     "output_type": "stream",
     "text": [
      "\n",
      "100%|##########|5/5[00:00<00:00,10.30it/s]"
     ]
    },
    {
     "name": "stdout",
     "output_type": "stream",
     "text": [
      "\u001b[32m[1112 12:42:37 @saver.py:90]\u001b[0m Model saved to train_log/sift-512-hidden-gls-r5/model-2047.\n",
      "\u001b[32m[1112 12:42:37 @monitor.py:362]\u001b[0m DataParallelInferenceRunner/QueueInput/queue_size: 49.985\n",
      "\u001b[32m[1112 12:42:37 @monitor.py:362]\u001b[0m QueueInput/queue_size: 49.811\n",
      "\u001b[32m[1112 12:42:37 @monitor.py:362]\u001b[0m coverage: 2.2032\n",
      "\u001b[32m[1112 12:42:37 @monitor.py:362]\u001b[0m doubly_stochastic_loss: 0.65001\n",
      "\u001b[32m[1112 12:42:37 @monitor.py:362]\u001b[0m learning_rate: 0.0001\n",
      "\u001b[32m[1112 12:42:37 @monitor.py:362]\u001b[0m loss/value: 7.9155\n",
      "\u001b[32m[1112 12:42:37 @monitor.py:362]\u001b[0m macro_auc: 0.8469\n",
      "\u001b[32m[1112 12:42:37 @monitor.py:362]\u001b[0m macro_f1: 0.52449\n",
      "\u001b[32m[1112 12:42:37 @monitor.py:362]\u001b[0m mean_average_precision: 0.54581\n",
      "\u001b[32m[1112 12:42:37 @monitor.py:362]\u001b[0m micro_auc: 0.85413\n",
      "\u001b[32m[1112 12:42:37 @monitor.py:362]\u001b[0m micro_f1: 0.54847\n",
      "\u001b[32m[1112 12:42:37 @monitor.py:362]\u001b[0m one_error: 0.41533\n",
      "\u001b[32m[1112 12:42:37 @monitor.py:362]\u001b[0m ranking_loss: 0.15336\n",
      "\u001b[32m[1112 12:42:37 @monitor.py:362]\u001b[0m ranking_mean_average_precision: 0.70507\n",
      "\u001b[32m[1112 12:42:37 @monitor.py:362]\u001b[0m training_ap: 0.49071\n",
      "\u001b[32m[1112 12:42:37 @monitor.py:362]\u001b[0m training_auc: 0.80484\n",
      "\u001b[32m[1112 12:42:37 @base.py:257]\u001b[0m Start Epoch 90 ...\n"
     ]
    },
    {
     "name": "stderr",
     "output_type": "stream",
     "text": [
      "\n",
      "100%|##########|23/23[00:01<00:00,14.85it/s]"
     ]
    },
    {
     "name": "stdout",
     "output_type": "stream",
     "text": [
      "\u001b[32m[1112 12:42:39 @base.py:267]\u001b[0m Epoch 90 (global_step 2070) finished, time:1.55 sec.\n"
     ]
    },
    {
     "name": "stderr",
     "output_type": "stream",
     "text": [
      "\n",
      "100%|##########|5/5[00:00<00:00,11.09it/s]"
     ]
    },
    {
     "name": "stdout",
     "output_type": "stream",
     "text": [
      "\u001b[32m[1112 12:42:39 @saver.py:90]\u001b[0m Model saved to train_log/sift-512-hidden-gls-r5/model-2070.\n",
      "\u001b[32m[1112 12:42:39 @monitor.py:362]\u001b[0m DataParallelInferenceRunner/QueueInput/queue_size: 49.989\n",
      "\u001b[32m[1112 12:42:39 @monitor.py:362]\u001b[0m QueueInput/queue_size: 49.847\n",
      "\u001b[32m[1112 12:42:39 @monitor.py:362]\u001b[0m coverage: 2.1996\n",
      "\u001b[32m[1112 12:42:39 @monitor.py:362]\u001b[0m doubly_stochastic_loss: 0.42821\n",
      "\u001b[32m[1112 12:42:39 @monitor.py:362]\u001b[0m learning_rate: 0.0001\n",
      "\u001b[32m[1112 12:42:39 @monitor.py:362]\u001b[0m loss/value: 7.9908\n",
      "\u001b[32m[1112 12:42:39 @monitor.py:362]\u001b[0m macro_auc: 0.84425\n",
      "\u001b[32m[1112 12:42:39 @monitor.py:362]\u001b[0m macro_f1: 0.52611\n",
      "\u001b[32m[1112 12:42:39 @monitor.py:362]\u001b[0m mean_average_precision: 0.54409\n",
      "\u001b[32m[1112 12:42:39 @monitor.py:362]\u001b[0m micro_auc: 0.85348\n",
      "\u001b[32m[1112 12:42:39 @monitor.py:362]\u001b[0m micro_f1: 0.54866\n",
      "\u001b[32m[1112 12:42:39 @monitor.py:362]\u001b[0m one_error: 0.41533\n",
      "\u001b[32m[1112 12:42:39 @monitor.py:362]\u001b[0m ranking_loss: 0.15145\n",
      "\u001b[32m[1112 12:42:39 @monitor.py:362]\u001b[0m ranking_mean_average_precision: 0.70915\n",
      "\u001b[32m[1112 12:42:39 @monitor.py:362]\u001b[0m training_ap: 0.49208\n",
      "\u001b[32m[1112 12:42:39 @monitor.py:362]\u001b[0m training_auc: 0.80562\n",
      "\u001b[32m[1112 12:42:39 @base.py:257]\u001b[0m Start Epoch 91 ...\n"
     ]
    },
    {
     "name": "stderr",
     "output_type": "stream",
     "text": [
      "\n",
      "100%|##########|23/23[00:01<00:00,14.81it/s]"
     ]
    },
    {
     "name": "stdout",
     "output_type": "stream",
     "text": [
      "\u001b[32m[1112 12:42:41 @base.py:267]\u001b[0m Epoch 91 (global_step 2093) finished, time:1.56 sec.\n"
     ]
    },
    {
     "name": "stderr",
     "output_type": "stream",
     "text": [
      "\n",
      "100%|##########|5/5[00:00<00:00, 9.27it/s]"
     ]
    },
    {
     "name": "stdout",
     "output_type": "stream",
     "text": [
      "\u001b[32m[1112 12:42:42 @saver.py:90]\u001b[0m Model saved to train_log/sift-512-hidden-gls-r5/model-2093.\n",
      "\u001b[32m[1112 12:42:42 @monitor.py:362]\u001b[0m DataParallelInferenceRunner/QueueInput/queue_size: 49.992\n",
      "\u001b[32m[1112 12:42:42 @monitor.py:362]\u001b[0m QueueInput/queue_size: 49.8\n",
      "\u001b[32m[1112 12:42:42 @monitor.py:362]\u001b[0m coverage: 2.1658\n",
      "\u001b[32m[1112 12:42:42 @monitor.py:362]\u001b[0m doubly_stochastic_loss: 0.28659\n",
      "\u001b[32m[1112 12:42:42 @monitor.py:362]\u001b[0m learning_rate: 0.0001\n",
      "\u001b[32m[1112 12:42:42 @monitor.py:362]\u001b[0m loss/value: 7.882\n",
      "\u001b[32m[1112 12:42:42 @monitor.py:362]\u001b[0m macro_auc: 0.84887\n",
      "\u001b[32m[1112 12:42:42 @monitor.py:362]\u001b[0m macro_f1: 0.53195\n",
      "\u001b[32m[1112 12:42:42 @monitor.py:362]\u001b[0m mean_average_precision: 0.56043\n",
      "\u001b[32m[1112 12:42:42 @monitor.py:362]\u001b[0m micro_auc: 0.85622\n",
      "\u001b[32m[1112 12:42:42 @monitor.py:362]\u001b[0m micro_f1: 0.55307\n",
      "\u001b[32m[1112 12:42:42 @monitor.py:362]\u001b[0m one_error: 0.43137\n",
      "\u001b[32m[1112 12:42:42 @monitor.py:362]\u001b[0m ranking_loss: 0.14727\n",
      "\u001b[32m[1112 12:42:42 @monitor.py:362]\u001b[0m ranking_mean_average_precision: 0.70337\n",
      "\u001b[32m[1112 12:42:42 @monitor.py:362]\u001b[0m training_ap: 0.49344\n",
      "\u001b[32m[1112 12:42:42 @monitor.py:362]\u001b[0m training_auc: 0.80638\n",
      "\u001b[32m[1112 12:42:42 @base.py:257]\u001b[0m Start Epoch 92 ...\n"
     ]
    },
    {
     "name": "stderr",
     "output_type": "stream",
     "text": [
      "\n",
      "100%|##########|23/23[00:01<00:00,14.03it/s]"
     ]
    },
    {
     "name": "stdout",
     "output_type": "stream",
     "text": [
      "\u001b[32m[1112 12:42:43 @base.py:267]\u001b[0m Epoch 92 (global_step 2116) finished, time:1.64 sec.\n"
     ]
    },
    {
     "name": "stderr",
     "output_type": "stream",
     "text": [
      "\n",
      "100%|##########|5/5[00:00<00:00, 8.38it/s]"
     ]
    },
    {
     "name": "stdout",
     "output_type": "stream",
     "text": [
      "\u001b[32m[1112 12:42:44 @saver.py:90]\u001b[0m Model saved to train_log/sift-512-hidden-gls-r5/model-2116.\n",
      "\u001b[32m[1112 12:42:44 @monitor.py:362]\u001b[0m DataParallelInferenceRunner/QueueInput/queue_size: 49.994\n",
      "\u001b[32m[1112 12:42:44 @monitor.py:362]\u001b[0m QueueInput/queue_size: 49.873\n",
      "\u001b[32m[1112 12:42:44 @monitor.py:362]\u001b[0m coverage: 2.1105\n",
      "\u001b[32m[1112 12:42:44 @monitor.py:362]\u001b[0m doubly_stochastic_loss: 0.77823\n",
      "\u001b[32m[1112 12:42:44 @monitor.py:362]\u001b[0m learning_rate: 0.0001\n",
      "\u001b[32m[1112 12:42:44 @monitor.py:362]\u001b[0m loss/value: 7.8986\n",
      "\u001b[32m[1112 12:42:44 @monitor.py:362]\u001b[0m macro_auc: 0.86349\n",
      "\u001b[32m[1112 12:42:44 @monitor.py:362]\u001b[0m macro_f1: 0.54231\n",
      "\u001b[32m[1112 12:42:44 @monitor.py:362]\u001b[0m mean_average_precision: 0.55378\n",
      "\u001b[32m[1112 12:42:44 @monitor.py:362]\u001b[0m micro_auc: 0.8662\n",
      "\u001b[32m[1112 12:42:44 @monitor.py:362]\u001b[0m micro_f1: 0.5634\n",
      "\u001b[32m[1112 12:42:44 @monitor.py:362]\u001b[0m one_error: 0.42781\n",
      "\u001b[32m[1112 12:42:44 @monitor.py:362]\u001b[0m ranking_loss: 0.14057\n",
      "\u001b[32m[1112 12:42:44 @monitor.py:362]\u001b[0m ranking_mean_average_precision: 0.70867\n",
      "\u001b[32m[1112 12:42:44 @monitor.py:362]\u001b[0m training_ap: 0.49473\n",
      "\u001b[32m[1112 12:42:44 @monitor.py:362]\u001b[0m training_auc: 0.80717\n",
      "\u001b[32m[1112 12:42:44 @base.py:257]\u001b[0m Start Epoch 93 ...\n"
     ]
    },
    {
     "name": "stderr",
     "output_type": "stream",
     "text": [
      "\n",
      "100%|##########|23/23[00:01<00:00,14.40it/s]"
     ]
    },
    {
     "name": "stdout",
     "output_type": "stream",
     "text": [
      "\u001b[32m[1112 12:42:45 @base.py:267]\u001b[0m Epoch 93 (global_step 2139) finished, time:1.60 sec.\n"
     ]
    },
    {
     "name": "stderr",
     "output_type": "stream",
     "text": [
      "\n",
      "100%|##########|5/5[00:00<00:00,10.72it/s]"
     ]
    },
    {
     "name": "stdout",
     "output_type": "stream",
     "text": [
      "\u001b[32m[1112 12:42:46 @saver.py:90]\u001b[0m Model saved to train_log/sift-512-hidden-gls-r5/model-2139.\n",
      "\u001b[32m[1112 12:42:46 @monitor.py:362]\u001b[0m DataParallelInferenceRunner/QueueInput/queue_size: 49.996\n",
      "\u001b[32m[1112 12:42:46 @monitor.py:362]\u001b[0m QueueInput/queue_size: 49.911\n",
      "\u001b[32m[1112 12:42:46 @monitor.py:362]\u001b[0m coverage: 2.1961\n",
      "\u001b[32m[1112 12:42:46 @monitor.py:362]\u001b[0m doubly_stochastic_loss: 1.5195\n",
      "\u001b[32m[1112 12:42:46 @monitor.py:362]\u001b[0m learning_rate: 0.0001\n",
      "\u001b[32m[1112 12:42:46 @monitor.py:362]\u001b[0m loss/value: 7.975\n",
      "\u001b[32m[1112 12:42:46 @monitor.py:362]\u001b[0m macro_auc: 0.84155\n",
      "\u001b[32m[1112 12:42:46 @monitor.py:362]\u001b[0m macro_f1: 0.53267\n",
      "\u001b[32m[1112 12:42:46 @monitor.py:362]\u001b[0m mean_average_precision: 0.54129\n",
      "\u001b[32m[1112 12:42:46 @monitor.py:362]\u001b[0m micro_auc: 0.85472\n",
      "\u001b[32m[1112 12:42:46 @monitor.py:362]\u001b[0m micro_f1: 0.55506\n",
      "\u001b[32m[1112 12:42:46 @monitor.py:362]\u001b[0m one_error: 0.42781\n",
      "\u001b[32m[1112 12:42:46 @monitor.py:362]\u001b[0m ranking_loss: 0.15213\n",
      "\u001b[32m[1112 12:42:46 @monitor.py:362]\u001b[0m ranking_mean_average_precision: 0.70125\n",
      "\u001b[32m[1112 12:42:46 @monitor.py:362]\u001b[0m training_ap: 0.49595\n",
      "\u001b[32m[1112 12:42:46 @monitor.py:362]\u001b[0m training_auc: 0.80786\n",
      "\u001b[32m[1112 12:42:46 @base.py:257]\u001b[0m Start Epoch 94 ...\n"
     ]
    },
    {
     "name": "stderr",
     "output_type": "stream",
     "text": [
      "\n",
      "100%|##########|23/23[00:01<00:00,14.98it/s]"
     ]
    },
    {
     "name": "stdout",
     "output_type": "stream",
     "text": [
      "\u001b[32m[1112 12:42:48 @base.py:267]\u001b[0m Epoch 94 (global_step 2162) finished, time:1.54 sec.\n"
     ]
    },
    {
     "name": "stderr",
     "output_type": "stream",
     "text": [
      "\n",
      "100%|##########|5/5[00:00<00:00, 9.25it/s]"
     ]
    },
    {
     "name": "stdout",
     "output_type": "stream",
     "text": [
      "\u001b[32m[1112 12:42:48 @saver.py:90]\u001b[0m Model saved to train_log/sift-512-hidden-gls-r5/model-2162.\n",
      "\u001b[32m[1112 12:42:48 @monitor.py:362]\u001b[0m DataParallelInferenceRunner/QueueInput/queue_size: 49.997\n",
      "\u001b[32m[1112 12:42:48 @monitor.py:362]\u001b[0m QueueInput/queue_size: 49.956\n",
      "\u001b[32m[1112 12:42:48 @monitor.py:362]\u001b[0m coverage: 2.1854\n",
      "\u001b[32m[1112 12:42:48 @monitor.py:362]\u001b[0m doubly_stochastic_loss: 0.41686\n",
      "\u001b[32m[1112 12:42:48 @monitor.py:362]\u001b[0m learning_rate: 0.0001\n",
      "\u001b[32m[1112 12:42:48 @monitor.py:362]\u001b[0m loss/value: 8.0082\n",
      "\u001b[32m[1112 12:42:48 @monitor.py:362]\u001b[0m macro_auc: 0.84694\n",
      "\u001b[32m[1112 12:42:48 @monitor.py:362]\u001b[0m macro_f1: 0.53408\n",
      "\u001b[32m[1112 12:42:48 @monitor.py:362]\u001b[0m mean_average_precision: 0.57091\n",
      "\u001b[32m[1112 12:42:48 @monitor.py:362]\u001b[0m micro_auc: 0.85241\n",
      "\u001b[32m[1112 12:42:48 @monitor.py:362]\u001b[0m micro_f1: 0.55538\n",
      "\u001b[32m[1112 12:42:48 @monitor.py:362]\u001b[0m one_error: 0.41355\n",
      "\u001b[32m[1112 12:42:48 @monitor.py:362]\u001b[0m ranking_loss: 0.15012\n",
      "\u001b[32m[1112 12:42:48 @monitor.py:362]\u001b[0m ranking_mean_average_precision: 0.71098\n",
      "\u001b[32m[1112 12:42:48 @monitor.py:362]\u001b[0m training_ap: 0.49712\n",
      "\u001b[32m[1112 12:42:48 @monitor.py:362]\u001b[0m training_auc: 0.80852\n",
      "\u001b[32m[1112 12:42:48 @base.py:257]\u001b[0m Start Epoch 95 ...\n"
     ]
    },
    {
     "name": "stderr",
     "output_type": "stream",
     "text": [
      "\n",
      "100%|##########|23/23[00:01<00:00,14.95it/s]"
     ]
    },
    {
     "name": "stdout",
     "output_type": "stream",
     "text": [
      "\u001b[32m[1112 12:42:50 @base.py:267]\u001b[0m Epoch 95 (global_step 2185) finished, time:1.54 sec.\n"
     ]
    },
    {
     "name": "stderr",
     "output_type": "stream",
     "text": [
      "\n",
      "100%|##########|5/5[00:00<00:00,12.13it/s]"
     ]
    },
    {
     "name": "stdout",
     "output_type": "stream",
     "text": [
      "\u001b[32m[1112 12:42:50 @saver.py:90]\u001b[0m Model saved to train_log/sift-512-hidden-gls-r5/model-2185.\n",
      "\u001b[32m[1112 12:42:50 @saver.py:159]\u001b[0m Model with maximum 'micro_f1' saved.\n",
      "\u001b[32m[1112 12:42:50 @monitor.py:362]\u001b[0m DataParallelInferenceRunner/QueueInput/queue_size: 49.957\n",
      "\u001b[32m[1112 12:42:50 @monitor.py:362]\u001b[0m QueueInput/queue_size: 49.986\n",
      "\u001b[32m[1112 12:42:50 @monitor.py:362]\u001b[0m coverage: 2.0713\n",
      "\u001b[32m[1112 12:42:50 @monitor.py:362]\u001b[0m doubly_stochastic_loss: 0.95621\n",
      "\u001b[32m[1112 12:42:50 @monitor.py:362]\u001b[0m learning_rate: 0.0001\n",
      "\u001b[32m[1112 12:42:50 @monitor.py:362]\u001b[0m loss/value: 7.941\n",
      "\u001b[32m[1112 12:42:50 @monitor.py:362]\u001b[0m macro_auc: 0.86579\n",
      "\u001b[32m[1112 12:42:50 @monitor.py:362]\u001b[0m macro_f1: 0.55863\n",
      "\u001b[32m[1112 12:42:50 @monitor.py:362]\u001b[0m mean_average_precision: 0.56987\n",
      "\u001b[32m[1112 12:42:50 @monitor.py:362]\u001b[0m micro_auc: 0.87028\n",
      "\u001b[32m[1112 12:42:50 @monitor.py:362]\u001b[0m micro_f1: 0.57931\n",
      "\u001b[32m[1112 12:42:50 @monitor.py:362]\u001b[0m one_error: 0.40998\n",
      "\u001b[32m[1112 12:42:50 @monitor.py:362]\u001b[0m ranking_loss: 0.13766\n",
      "\u001b[32m[1112 12:42:50 @monitor.py:362]\u001b[0m ranking_mean_average_precision: 0.71783\n",
      "\u001b[32m[1112 12:42:50 @monitor.py:362]\u001b[0m training_ap: 0.49836\n",
      "\u001b[32m[1112 12:42:50 @monitor.py:362]\u001b[0m training_auc: 0.80921\n",
      "\u001b[32m[1112 12:42:50 @base.py:257]\u001b[0m Start Epoch 96 ...\n"
     ]
    },
    {
     "name": "stderr",
     "output_type": "stream",
     "text": [
      "\n",
      "100%|##########|23/23[00:01<00:00,15.06it/s]"
     ]
    },
    {
     "name": "stdout",
     "output_type": "stream",
     "text": [
      "\u001b[32m[1112 12:42:52 @base.py:267]\u001b[0m Epoch 96 (global_step 2208) finished, time:1.53 sec.\n"
     ]
    },
    {
     "name": "stderr",
     "output_type": "stream",
     "text": [
      "\n",
      "100%|##########|5/5[00:00<00:00,10.28it/s]"
     ]
    },
    {
     "name": "stdout",
     "output_type": "stream",
     "text": [
      "\u001b[32m[1112 12:42:52 @saver.py:90]\u001b[0m Model saved to train_log/sift-512-hidden-gls-r5/model-2208.\n",
      "\u001b[32m[1112 12:42:52 @monitor.py:362]\u001b[0m DataParallelInferenceRunner/QueueInput/queue_size: 49.968\n",
      "\u001b[32m[1112 12:42:52 @monitor.py:362]\u001b[0m QueueInput/queue_size: 49.91\n",
      "\u001b[32m[1112 12:42:52 @monitor.py:362]\u001b[0m coverage: 2.1943\n",
      "\u001b[32m[1112 12:42:52 @monitor.py:362]\u001b[0m doubly_stochastic_loss: 0.83751\n",
      "\u001b[32m[1112 12:42:52 @monitor.py:362]\u001b[0m learning_rate: 0.0001\n",
      "\u001b[32m[1112 12:42:52 @monitor.py:362]\u001b[0m loss/value: 7.8875\n",
      "\u001b[32m[1112 12:42:52 @monitor.py:362]\u001b[0m macro_auc: 0.8452\n",
      "\u001b[32m[1112 12:42:52 @monitor.py:362]\u001b[0m macro_f1: 0.53319\n",
      "\u001b[32m[1112 12:42:52 @monitor.py:362]\u001b[0m mean_average_precision: 0.53923\n",
      "\u001b[32m[1112 12:42:52 @monitor.py:362]\u001b[0m micro_auc: 0.85504\n",
      "\u001b[32m[1112 12:42:52 @monitor.py:362]\u001b[0m micro_f1: 0.55212\n",
      "\u001b[32m[1112 12:42:52 @monitor.py:362]\u001b[0m one_error: 0.43494\n",
      "\u001b[32m[1112 12:42:52 @monitor.py:362]\u001b[0m ranking_loss: 0.15249\n",
      "\u001b[32m[1112 12:42:52 @monitor.py:362]\u001b[0m ranking_mean_average_precision: 0.70092\n",
      "\u001b[32m[1112 12:42:52 @monitor.py:362]\u001b[0m training_ap: 0.49959\n",
      "\u001b[32m[1112 12:42:52 @monitor.py:362]\u001b[0m training_auc: 0.80992\n",
      "\u001b[32m[1112 12:42:52 @base.py:257]\u001b[0m Start Epoch 97 ...\n"
     ]
    },
    {
     "name": "stderr",
     "output_type": "stream",
     "text": [
      "\n",
      "100%|##########|23/23[00:01<00:00,15.19it/s]"
     ]
    },
    {
     "name": "stdout",
     "output_type": "stream",
     "text": [
      "\u001b[32m[1112 12:42:54 @base.py:267]\u001b[0m Epoch 97 (global_step 2231) finished, time:1.52 sec.\n"
     ]
    },
    {
     "name": "stderr",
     "output_type": "stream",
     "text": [
      "\n",
      "100%|##########|5/5[00:00<00:00, 8.94it/s]"
     ]
    },
    {
     "name": "stdout",
     "output_type": "stream",
     "text": [
      "\u001b[32m[1112 12:42:55 @saver.py:90]\u001b[0m Model saved to train_log/sift-512-hidden-gls-r5/model-2231.\n",
      "\u001b[32m[1112 12:42:55 @monitor.py:362]\u001b[0m DataParallelInferenceRunner/QueueInput/queue_size: 49.936\n",
      "\u001b[32m[1112 12:42:55 @monitor.py:362]\u001b[0m QueueInput/queue_size: 49.868\n",
      "\u001b[32m[1112 12:42:55 @monitor.py:362]\u001b[0m coverage: 2.0963\n",
      "\u001b[32m[1112 12:42:55 @monitor.py:362]\u001b[0m doubly_stochastic_loss: 0.509\n",
      "\u001b[32m[1112 12:42:55 @monitor.py:362]\u001b[0m learning_rate: 0.0001\n",
      "\u001b[32m[1112 12:42:55 @monitor.py:362]\u001b[0m loss/value: 8.0241\n",
      "\u001b[32m[1112 12:42:55 @monitor.py:362]\u001b[0m macro_auc: 0.85579\n",
      "\u001b[32m[1112 12:42:55 @monitor.py:362]\u001b[0m macro_f1: 0.53588\n",
      "\u001b[32m[1112 12:42:55 @monitor.py:362]\u001b[0m mean_average_precision: 0.55422\n",
      "\u001b[32m[1112 12:42:55 @monitor.py:362]\u001b[0m micro_auc: 0.86094\n",
      "\u001b[32m[1112 12:42:55 @monitor.py:362]\u001b[0m micro_f1: 0.55651\n",
      "\u001b[32m[1112 12:42:55 @monitor.py:362]\u001b[0m one_error: 0.42246\n",
      "\u001b[32m[1112 12:42:55 @monitor.py:362]\u001b[0m ranking_loss: 0.14136\n",
      "\u001b[32m[1112 12:42:55 @monitor.py:362]\u001b[0m ranking_mean_average_precision: 0.70884\n",
      "\u001b[32m[1112 12:42:55 @monitor.py:362]\u001b[0m training_ap: 0.50081\n",
      "\u001b[32m[1112 12:42:55 @monitor.py:362]\u001b[0m training_auc: 0.81062\n",
      "\u001b[32m[1112 12:42:55 @base.py:257]\u001b[0m Start Epoch 98 ...\n"
     ]
    },
    {
     "name": "stderr",
     "output_type": "stream",
     "text": [
      "\n",
      "100%|##########|23/23[00:01<00:00,14.94it/s]"
     ]
    },
    {
     "name": "stdout",
     "output_type": "stream",
     "text": [
      "\u001b[32m[1112 12:42:56 @base.py:267]\u001b[0m Epoch 98 (global_step 2254) finished, time:1.55 sec.\n"
     ]
    },
    {
     "name": "stderr",
     "output_type": "stream",
     "text": [
      "\n",
      "100%|##########|5/5[00:00<00:00,11.10it/s]"
     ]
    },
    {
     "name": "stdout",
     "output_type": "stream",
     "text": [
      "\u001b[32m[1112 12:42:57 @saver.py:90]\u001b[0m Model saved to train_log/sift-512-hidden-gls-r5/model-2254.\n",
      "\u001b[32m[1112 12:42:57 @monitor.py:362]\u001b[0m DataParallelInferenceRunner/QueueInput/queue_size: 49.869\n",
      "\u001b[32m[1112 12:42:57 @monitor.py:362]\u001b[0m QueueInput/queue_size: 49.959\n",
      "\u001b[32m[1112 12:42:57 @monitor.py:362]\u001b[0m coverage: 2.2086\n",
      "\u001b[32m[1112 12:42:57 @monitor.py:362]\u001b[0m doubly_stochastic_loss: 0.19983\n",
      "\u001b[32m[1112 12:42:57 @monitor.py:362]\u001b[0m learning_rate: 0.0001\n",
      "\u001b[32m[1112 12:42:57 @monitor.py:362]\u001b[0m loss/value: 7.8298\n",
      "\u001b[32m[1112 12:42:57 @monitor.py:362]\u001b[0m macro_auc: 0.84964\n",
      "\u001b[32m[1112 12:42:57 @monitor.py:362]\u001b[0m macro_f1: 0.53415\n",
      "\u001b[32m[1112 12:42:57 @monitor.py:362]\u001b[0m mean_average_precision: 0.54776\n",
      "\u001b[32m[1112 12:42:57 @monitor.py:362]\u001b[0m micro_auc: 0.85635\n",
      "\u001b[32m[1112 12:42:57 @monitor.py:362]\u001b[0m micro_f1: 0.55146\n",
      "\u001b[32m[1112 12:42:57 @monitor.py:362]\u001b[0m one_error: 0.44563\n",
      "\u001b[32m[1112 12:42:57 @monitor.py:362]\u001b[0m ranking_loss: 0.15243\n",
      "\u001b[32m[1112 12:42:57 @monitor.py:362]\u001b[0m ranking_mean_average_precision: 0.69279\n",
      "\u001b[32m[1112 12:42:57 @monitor.py:362]\u001b[0m training_ap: 0.50203\n",
      "\u001b[32m[1112 12:42:57 @monitor.py:362]\u001b[0m training_auc: 0.81128\n",
      "\u001b[32m[1112 12:42:57 @base.py:257]\u001b[0m Start Epoch 99 ...\n"
     ]
    },
    {
     "name": "stderr",
     "output_type": "stream",
     "text": [
      "\n",
      "100%|##########|23/23[00:01<00:00,14.10it/s]"
     ]
    },
    {
     "name": "stdout",
     "output_type": "stream",
     "text": [
      "\u001b[32m[1112 12:42:58 @base.py:267]\u001b[0m Epoch 99 (global_step 2277) finished, time:1.63 sec.\n"
     ]
    },
    {
     "name": "stderr",
     "output_type": "stream",
     "text": [
      "\n",
      "100%|##########|5/5[00:00<00:00, 9.23it/s]"
     ]
    },
    {
     "name": "stdout",
     "output_type": "stream",
     "text": [
      "\u001b[32m[1112 12:42:59 @saver.py:90]\u001b[0m Model saved to train_log/sift-512-hidden-gls-r5/model-2277.\n",
      "\u001b[32m[1112 12:42:59 @monitor.py:362]\u001b[0m DataParallelInferenceRunner/QueueInput/queue_size: 49.863\n",
      "\u001b[32m[1112 12:42:59 @monitor.py:362]\u001b[0m QueueInput/queue_size: 49.958\n",
      "\u001b[32m[1112 12:42:59 @monitor.py:362]\u001b[0m coverage: 2.1836\n",
      "\u001b[32m[1112 12:42:59 @monitor.py:362]\u001b[0m doubly_stochastic_loss: 0.782\n",
      "\u001b[32m[1112 12:42:59 @monitor.py:362]\u001b[0m learning_rate: 0.0001\n",
      "\u001b[32m[1112 12:42:59 @monitor.py:362]\u001b[0m loss/value: 7.8031\n",
      "\u001b[32m[1112 12:42:59 @monitor.py:362]\u001b[0m macro_auc: 0.84702\n",
      "\u001b[32m[1112 12:42:59 @monitor.py:362]\u001b[0m macro_f1: 0.52638\n",
      "\u001b[32m[1112 12:42:59 @monitor.py:362]\u001b[0m mean_average_precision: 0.55086\n",
      "\u001b[32m[1112 12:42:59 @monitor.py:362]\u001b[0m micro_auc: 0.85974\n",
      "\u001b[32m[1112 12:42:59 @monitor.py:362]\u001b[0m micro_f1: 0.5508\n",
      "\u001b[32m[1112 12:42:59 @monitor.py:362]\u001b[0m one_error: 0.43672\n",
      "\u001b[32m[1112 12:42:59 @monitor.py:362]\u001b[0m ranking_loss: 0.14971\n",
      "\u001b[32m[1112 12:42:59 @monitor.py:362]\u001b[0m ranking_mean_average_precision: 0.69893\n",
      "\u001b[32m[1112 12:42:59 @monitor.py:362]\u001b[0m training_ap: 0.50342\n",
      "\u001b[32m[1112 12:42:59 @monitor.py:362]\u001b[0m training_auc: 0.81199\n",
      "\u001b[32m[1112 12:42:59 @base.py:257]\u001b[0m Start Epoch 100 ...\n"
     ]
    },
    {
     "name": "stderr",
     "output_type": "stream",
     "text": [
      "\n",
      "100%|##########|23/23[00:01<00:00,14.14it/s]"
     ]
    },
    {
     "name": "stdout",
     "output_type": "stream",
     "text": [
      "\u001b[32m[1112 12:43:00 @base.py:267]\u001b[0m Epoch 100 (global_step 2300) finished, time:1.63 sec.\n"
     ]
    },
    {
     "name": "stderr",
     "output_type": "stream",
     "text": [
      "\n",
      "100%|##########|5/5[00:00<00:00,10.63it/s]"
     ]
    },
    {
     "name": "stdout",
     "output_type": "stream",
     "text": [
      "\u001b[32m[1112 12:43:01 @saver.py:90]\u001b[0m Model saved to train_log/sift-512-hidden-gls-r5/model-2300.\n",
      "\u001b[32m[1112 12:43:01 @monitor.py:362]\u001b[0m DataParallelInferenceRunner/QueueInput/queue_size: 49.899\n",
      "\u001b[32m[1112 12:43:01 @monitor.py:362]\u001b[0m QueueInput/queue_size: 49.851\n",
      "\u001b[32m[1112 12:43:01 @monitor.py:362]\u001b[0m coverage: 2.1943\n",
      "\u001b[32m[1112 12:43:01 @monitor.py:362]\u001b[0m doubly_stochastic_loss: 0.48665\n",
      "\u001b[32m[1112 12:43:01 @monitor.py:362]\u001b[0m learning_rate: 0.0001\n",
      "\u001b[32m[1112 12:43:01 @monitor.py:362]\u001b[0m loss/value: 7.7983\n",
      "\u001b[32m[1112 12:43:01 @monitor.py:362]\u001b[0m macro_auc: 0.84554\n",
      "\u001b[32m[1112 12:43:01 @monitor.py:362]\u001b[0m macro_f1: 0.53417\n",
      "\u001b[32m[1112 12:43:01 @monitor.py:362]\u001b[0m mean_average_precision: 0.55174\n",
      "\u001b[32m[1112 12:43:01 @monitor.py:362]\u001b[0m micro_auc: 0.85217\n",
      "\u001b[32m[1112 12:43:01 @monitor.py:362]\u001b[0m micro_f1: 0.5555\n",
      "\u001b[32m[1112 12:43:01 @monitor.py:362]\u001b[0m one_error: 0.41889\n",
      "\u001b[32m[1112 12:43:01 @monitor.py:362]\u001b[0m ranking_loss: 0.15117\n",
      "\u001b[32m[1112 12:43:01 @monitor.py:362]\u001b[0m ranking_mean_average_precision: 0.70441\n",
      "\u001b[32m[1112 12:43:01 @monitor.py:362]\u001b[0m training_ap: 0.50459\n",
      "\u001b[32m[1112 12:43:01 @monitor.py:362]\u001b[0m training_auc: 0.81267\n",
      "\u001b[32m[1112 12:43:01 @base.py:257]\u001b[0m Start Epoch 101 ...\n"
     ]
    },
    {
     "name": "stderr",
     "output_type": "stream",
     "text": [
      "\n",
      "100%|##########|23/23[00:01<00:00,14.08it/s]"
     ]
    },
    {
     "name": "stdout",
     "output_type": "stream",
     "text": [
      "\u001b[32m[1112 12:43:03 @base.py:267]\u001b[0m Epoch 101 (global_step 2323) finished, time:1.64 sec.\n"
     ]
    },
    {
     "name": "stderr",
     "output_type": "stream",
     "text": [
      "\n",
      "100%|##########|5/5[00:00<00:00,11.28it/s]"
     ]
    },
    {
     "name": "stdout",
     "output_type": "stream",
     "text": [
      "\u001b[32m[1112 12:43:03 @saver.py:90]\u001b[0m Model saved to train_log/sift-512-hidden-gls-r5/model-2323.\n",
      "\u001b[32m[1112 12:43:03 @monitor.py:362]\u001b[0m DataParallelInferenceRunner/QueueInput/queue_size: 49.926\n",
      "\u001b[32m[1112 12:43:03 @monitor.py:362]\u001b[0m QueueInput/queue_size: 49.9\n",
      "\u001b[32m[1112 12:43:03 @monitor.py:362]\u001b[0m coverage: 2.2068\n",
      "\u001b[32m[1112 12:43:03 @monitor.py:362]\u001b[0m doubly_stochastic_loss: 1.0932\n",
      "\u001b[32m[1112 12:43:03 @monitor.py:362]\u001b[0m learning_rate: 0.0001\n",
      "\u001b[32m[1112 12:43:03 @monitor.py:362]\u001b[0m loss/value: 7.8322\n",
      "\u001b[32m[1112 12:43:03 @monitor.py:362]\u001b[0m macro_auc: 0.8507\n",
      "\u001b[32m[1112 12:43:03 @monitor.py:362]\u001b[0m macro_f1: 0.52775\n",
      "\u001b[32m[1112 12:43:03 @monitor.py:362]\u001b[0m mean_average_precision: 0.55837\n",
      "\u001b[32m[1112 12:43:03 @monitor.py:362]\u001b[0m micro_auc: 0.85443\n",
      "\u001b[32m[1112 12:43:03 @monitor.py:362]\u001b[0m micro_f1: 0.5456\n",
      "\u001b[32m[1112 12:43:03 @monitor.py:362]\u001b[0m one_error: 0.43672\n",
      "\u001b[32m[1112 12:43:03 @monitor.py:362]\u001b[0m ranking_loss: 0.15202\n",
      "\u001b[32m[1112 12:43:03 @monitor.py:362]\u001b[0m ranking_mean_average_precision: 0.69612\n",
      "\u001b[32m[1112 12:43:03 @monitor.py:362]\u001b[0m training_ap: 0.5058\n",
      "\u001b[32m[1112 12:43:03 @monitor.py:362]\u001b[0m training_auc: 0.81337\n",
      "\u001b[32m[1112 12:43:03 @base.py:257]\u001b[0m Start Epoch 102 ...\n"
     ]
    },
    {
     "name": "stderr",
     "output_type": "stream",
     "text": [
      "\n",
      "100%|##########|23/23[00:01<00:00,14.45it/s]"
     ]
    },
    {
     "name": "stdout",
     "output_type": "stream",
     "text": [
      "\u001b[32m[1112 12:43:05 @base.py:267]\u001b[0m Epoch 102 (global_step 2346) finished, time:1.59 sec.\n"
     ]
    },
    {
     "name": "stderr",
     "output_type": "stream",
     "text": [
      "\n",
      "100%|##########|5/5[00:00<00:00,11.25it/s]"
     ]
    },
    {
     "name": "stdout",
     "output_type": "stream",
     "text": [
      "\u001b[32m[1112 12:43:05 @saver.py:90]\u001b[0m Model saved to train_log/sift-512-hidden-gls-r5/model-2346.\n",
      "\u001b[32m[1112 12:43:05 @monitor.py:362]\u001b[0m DataParallelInferenceRunner/QueueInput/queue_size: 49.905\n",
      "\u001b[32m[1112 12:43:05 @monitor.py:362]\u001b[0m QueueInput/queue_size: 49.801\n",
      "\u001b[32m[1112 12:43:05 @monitor.py:362]\u001b[0m coverage: 2.1693\n",
      "\u001b[32m[1112 12:43:05 @monitor.py:362]\u001b[0m doubly_stochastic_loss: 0.9162\n",
      "\u001b[32m[1112 12:43:05 @monitor.py:362]\u001b[0m learning_rate: 0.0001\n",
      "\u001b[32m[1112 12:43:05 @monitor.py:362]\u001b[0m loss/value: 7.8881\n",
      "\u001b[32m[1112 12:43:05 @monitor.py:362]\u001b[0m macro_auc: 0.84828\n",
      "\u001b[32m[1112 12:43:05 @monitor.py:362]\u001b[0m macro_f1: 0.52925\n",
      "\u001b[32m[1112 12:43:05 @monitor.py:362]\u001b[0m mean_average_precision: 0.53892\n",
      "\u001b[32m[1112 12:43:05 @monitor.py:362]\u001b[0m micro_auc: 0.85752\n",
      "\u001b[32m[1112 12:43:05 @monitor.py:362]\u001b[0m micro_f1: 0.55263\n",
      "\u001b[32m[1112 12:43:05 @monitor.py:362]\u001b[0m one_error: 0.42602\n",
      "\u001b[32m[1112 12:43:05 @monitor.py:362]\u001b[0m ranking_loss: 0.14799\n",
      "\u001b[32m[1112 12:43:05 @monitor.py:362]\u001b[0m ranking_mean_average_precision: 0.70488\n",
      "\u001b[32m[1112 12:43:05 @monitor.py:362]\u001b[0m training_ap: 0.50702\n",
      "\u001b[32m[1112 12:43:05 @monitor.py:362]\u001b[0m training_auc: 0.81405\n",
      "\u001b[32m[1112 12:43:05 @base.py:257]\u001b[0m Start Epoch 103 ...\n"
     ]
    },
    {
     "name": "stderr",
     "output_type": "stream",
     "text": [
      "\n",
      "100%|##########|23/23[00:01<00:00,15.13it/s]"
     ]
    },
    {
     "name": "stdout",
     "output_type": "stream",
     "text": [
      "\u001b[32m[1112 12:43:07 @base.py:267]\u001b[0m Epoch 103 (global_step 2369) finished, time:1.52 sec.\n"
     ]
    },
    {
     "name": "stderr",
     "output_type": "stream",
     "text": [
      "\n",
      "100%|##########|5/5[00:00<00:00,10.62it/s]"
     ]
    },
    {
     "name": "stdout",
     "output_type": "stream",
     "text": [
      "\u001b[32m[1112 12:43:07 @saver.py:90]\u001b[0m Model saved to train_log/sift-512-hidden-gls-r5/model-2369.\n",
      "\u001b[32m[1112 12:43:07 @monitor.py:362]\u001b[0m DataParallelInferenceRunner/QueueInput/queue_size: 49.93\n",
      "\u001b[32m[1112 12:43:07 @monitor.py:362]\u001b[0m QueueInput/queue_size: 49.816\n",
      "\u001b[32m[1112 12:43:07 @monitor.py:362]\u001b[0m coverage: 2.1818\n",
      "\u001b[32m[1112 12:43:07 @monitor.py:362]\u001b[0m doubly_stochastic_loss: 0.34935\n",
      "\u001b[32m[1112 12:43:07 @monitor.py:362]\u001b[0m learning_rate: 0.0001\n",
      "\u001b[32m[1112 12:43:07 @monitor.py:362]\u001b[0m loss/value: 7.7821\n",
      "\u001b[32m[1112 12:43:07 @monitor.py:362]\u001b[0m macro_auc: 0.84689\n",
      "\u001b[32m[1112 12:43:07 @monitor.py:362]\u001b[0m macro_f1: 0.53412\n",
      "\u001b[32m[1112 12:43:07 @monitor.py:362]\u001b[0m mean_average_precision: 0.55668\n",
      "\u001b[32m[1112 12:43:07 @monitor.py:362]\u001b[0m micro_auc: 0.8569\n",
      "\u001b[32m[1112 12:43:07 @monitor.py:362]\u001b[0m micro_f1: 0.55442\n",
      "\u001b[32m[1112 12:43:07 @monitor.py:362]\u001b[0m one_error: 0.42068\n",
      "\u001b[32m[1112 12:43:07 @monitor.py:362]\u001b[0m ranking_loss: 0.14808\n",
      "\u001b[32m[1112 12:43:07 @monitor.py:362]\u001b[0m ranking_mean_average_precision: 0.70966\n",
      "\u001b[32m[1112 12:43:07 @monitor.py:362]\u001b[0m training_ap: 0.50825\n",
      "\u001b[32m[1112 12:43:07 @monitor.py:362]\u001b[0m training_auc: 0.81471\n",
      "\u001b[32m[1112 12:43:07 @base.py:257]\u001b[0m Start Epoch 104 ...\n"
     ]
    },
    {
     "name": "stderr",
     "output_type": "stream",
     "text": [
      "\n",
      "100%|##########|23/23[00:01<00:00,15.07it/s]"
     ]
    },
    {
     "name": "stdout",
     "output_type": "stream",
     "text": [
      "\u001b[32m[1112 12:43:09 @base.py:267]\u001b[0m Epoch 104 (global_step 2392) finished, time:1.53 sec.\n"
     ]
    },
    {
     "name": "stderr",
     "output_type": "stream",
     "text": [
      "\n",
      "100%|##########|5/5[00:00<00:00,11.78it/s]"
     ]
    },
    {
     "name": "stdout",
     "output_type": "stream",
     "text": [
      "\u001b[32m[1112 12:43:09 @saver.py:90]\u001b[0m Model saved to train_log/sift-512-hidden-gls-r5/model-2392.\n",
      "\u001b[32m[1112 12:43:09 @monitor.py:362]\u001b[0m DataParallelInferenceRunner/QueueInput/queue_size: 49.908\n",
      "\u001b[32m[1112 12:43:09 @monitor.py:362]\u001b[0m QueueInput/queue_size: 49.943\n",
      "\u001b[32m[1112 12:43:09 @monitor.py:362]\u001b[0m coverage: 2.164\n",
      "\u001b[32m[1112 12:43:09 @monitor.py:362]\u001b[0m doubly_stochastic_loss: 0.31086\n",
      "\u001b[32m[1112 12:43:09 @monitor.py:362]\u001b[0m learning_rate: 0.0001\n",
      "\u001b[32m[1112 12:43:09 @monitor.py:362]\u001b[0m loss/value: 7.8364\n",
      "\u001b[32m[1112 12:43:09 @monitor.py:362]\u001b[0m macro_auc: 0.84845\n",
      "\u001b[32m[1112 12:43:09 @monitor.py:362]\u001b[0m macro_f1: 0.53332\n",
      "\u001b[32m[1112 12:43:09 @monitor.py:362]\u001b[0m mean_average_precision: 0.56209\n",
      "\u001b[32m[1112 12:43:09 @monitor.py:362]\u001b[0m micro_auc: 0.85814\n",
      "\u001b[32m[1112 12:43:09 @monitor.py:362]\u001b[0m micro_f1: 0.55787\n",
      "\u001b[32m[1112 12:43:09 @monitor.py:362]\u001b[0m one_error: 0.43494\n",
      "\u001b[32m[1112 12:43:09 @monitor.py:362]\u001b[0m ranking_loss: 0.15039\n",
      "\u001b[32m[1112 12:43:09 @monitor.py:362]\u001b[0m ranking_mean_average_precision: 0.69951\n",
      "\u001b[32m[1112 12:43:09 @monitor.py:362]\u001b[0m training_ap: 0.50933\n",
      "\u001b[32m[1112 12:43:09 @monitor.py:362]\u001b[0m training_auc: 0.81534\n",
      "\u001b[32m[1112 12:43:09 @base.py:257]\u001b[0m Start Epoch 105 ...\n"
     ]
    },
    {
     "name": "stderr",
     "output_type": "stream",
     "text": [
      "\n",
      "100%|##########|23/23[00:01<00:00,14.66it/s]"
     ]
    },
    {
     "name": "stdout",
     "output_type": "stream",
     "text": [
      "\u001b[32m[1112 12:43:11 @base.py:267]\u001b[0m Epoch 105 (global_step 2415) finished, time:1.57 sec.\n"
     ]
    },
    {
     "name": "stderr",
     "output_type": "stream",
     "text": [
      "\n",
      "100%|##########|5/5[00:00<00:00, 9.61it/s]"
     ]
    },
    {
     "name": "stdout",
     "output_type": "stream",
     "text": [
      "\u001b[32m[1112 12:43:11 @saver.py:90]\u001b[0m Model saved to train_log/sift-512-hidden-gls-r5/model-2415.\n",
      "\u001b[32m[1112 12:43:11 @monitor.py:362]\u001b[0m DataParallelInferenceRunner/QueueInput/queue_size: 49.932\n",
      "\u001b[32m[1112 12:43:11 @monitor.py:362]\u001b[0m QueueInput/queue_size: 49.906\n",
      "\u001b[32m[1112 12:43:11 @monitor.py:362]\u001b[0m coverage: 2.1622\n",
      "\u001b[32m[1112 12:43:11 @monitor.py:362]\u001b[0m doubly_stochastic_loss: 0.91812\n",
      "\u001b[32m[1112 12:43:11 @monitor.py:362]\u001b[0m learning_rate: 0.0001\n",
      "\u001b[32m[1112 12:43:11 @monitor.py:362]\u001b[0m loss/value: 7.8518\n",
      "\u001b[32m[1112 12:43:11 @monitor.py:362]\u001b[0m macro_auc: 0.85737\n",
      "\u001b[32m[1112 12:43:11 @monitor.py:362]\u001b[0m macro_f1: 0.53611\n",
      "\u001b[32m[1112 12:43:11 @monitor.py:362]\u001b[0m mean_average_precision: 0.55801\n",
      "\u001b[32m[1112 12:43:11 @monitor.py:362]\u001b[0m micro_auc: 0.86266\n",
      "\u001b[32m[1112 12:43:11 @monitor.py:362]\u001b[0m micro_f1: 0.55731\n",
      "\u001b[32m[1112 12:43:11 @monitor.py:362]\u001b[0m one_error: 0.41889\n",
      "\u001b[32m[1112 12:43:11 @monitor.py:362]\u001b[0m ranking_loss: 0.14599\n",
      "\u001b[32m[1112 12:43:11 @monitor.py:362]\u001b[0m ranking_mean_average_precision: 0.71139\n",
      "\u001b[32m[1112 12:43:11 @monitor.py:362]\u001b[0m training_ap: 0.5104\n",
      "\u001b[32m[1112 12:43:11 @monitor.py:362]\u001b[0m training_auc: 0.81595\n",
      "\u001b[32m[1112 12:43:11 @base.py:257]\u001b[0m Start Epoch 106 ...\n"
     ]
    },
    {
     "name": "stderr",
     "output_type": "stream",
     "text": [
      "\n",
      "100%|##########|23/23[00:01<00:00,14.39it/s]"
     ]
    },
    {
     "name": "stdout",
     "output_type": "stream",
     "text": [
      "\u001b[32m[1112 12:43:13 @base.py:267]\u001b[0m Epoch 106 (global_step 2438) finished, time:1.62 sec.\n"
     ]
    },
    {
     "name": "stderr",
     "output_type": "stream",
     "text": [
      "\n",
      "100%|##########|5/5[00:00<00:00, 9.50it/s]"
     ]
    },
    {
     "name": "stdout",
     "output_type": "stream",
     "text": [
      "\u001b[32m[1112 12:43:14 @saver.py:90]\u001b[0m Model saved to train_log/sift-512-hidden-gls-r5/model-2438.\n",
      "\u001b[32m[1112 12:43:14 @monitor.py:362]\u001b[0m DataParallelInferenceRunner/QueueInput/queue_size: 49.91\n",
      "\u001b[32m[1112 12:43:14 @monitor.py:362]\u001b[0m QueueInput/queue_size: 49.917\n",
      "\u001b[32m[1112 12:43:14 @monitor.py:362]\u001b[0m coverage: 2.2299\n",
      "\u001b[32m[1112 12:43:14 @monitor.py:362]\u001b[0m doubly_stochastic_loss: 1.2377\n",
      "\u001b[32m[1112 12:43:14 @monitor.py:362]\u001b[0m learning_rate: 0.0001\n",
      "\u001b[32m[1112 12:43:14 @monitor.py:362]\u001b[0m loss/value: 7.8456\n",
      "\u001b[32m[1112 12:43:14 @monitor.py:362]\u001b[0m macro_auc: 0.84816\n",
      "\u001b[32m[1112 12:43:14 @monitor.py:362]\u001b[0m macro_f1: 0.53609\n",
      "\u001b[32m[1112 12:43:14 @monitor.py:362]\u001b[0m mean_average_precision: 0.553\n",
      "\u001b[32m[1112 12:43:14 @monitor.py:362]\u001b[0m micro_auc: 0.85426\n",
      "\u001b[32m[1112 12:43:14 @monitor.py:362]\u001b[0m micro_f1: 0.55939\n",
      "\u001b[32m[1112 12:43:14 @monitor.py:362]\u001b[0m one_error: 0.42246\n",
      "\u001b[32m[1112 12:43:14 @monitor.py:362]\u001b[0m ranking_loss: 0.15437\n",
      "\u001b[32m[1112 12:43:14 @monitor.py:362]\u001b[0m ranking_mean_average_precision: 0.70231\n",
      "\u001b[32m[1112 12:43:14 @monitor.py:362]\u001b[0m training_ap: 0.51148\n",
      "\u001b[32m[1112 12:43:14 @monitor.py:362]\u001b[0m training_auc: 0.81652\n",
      "\u001b[32m[1112 12:43:14 @base.py:257]\u001b[0m Start Epoch 107 ...\n"
     ]
    },
    {
     "name": "stderr",
     "output_type": "stream",
     "text": [
      "\n",
      "100%|##########|23/23[00:01<00:00,15.22it/s]"
     ]
    },
    {
     "name": "stdout",
     "output_type": "stream",
     "text": [
      "\u001b[32m[1112 12:43:15 @base.py:267]\u001b[0m Epoch 107 (global_step 2461) finished, time:1.53 sec.\n"
     ]
    },
    {
     "name": "stderr",
     "output_type": "stream",
     "text": [
      "\n",
      "100%|##########|5/5[00:00<00:00, 9.18it/s]"
     ]
    },
    {
     "name": "stdout",
     "output_type": "stream",
     "text": [
      "\u001b[32m[1112 12:43:16 @saver.py:90]\u001b[0m Model saved to train_log/sift-512-hidden-gls-r5/model-2461.\n",
      "\u001b[32m[1112 12:43:16 @monitor.py:362]\u001b[0m DataParallelInferenceRunner/QueueInput/queue_size: 49.893\n",
      "\u001b[32m[1112 12:43:16 @monitor.py:362]\u001b[0m QueueInput/queue_size: 49.936\n",
      "\u001b[32m[1112 12:43:16 @monitor.py:362]\u001b[0m coverage: 2.1248\n",
      "\u001b[32m[1112 12:43:16 @monitor.py:362]\u001b[0m doubly_stochastic_loss: 1.2947\n",
      "\u001b[32m[1112 12:43:16 @monitor.py:362]\u001b[0m learning_rate: 0.0001\n",
      "\u001b[32m[1112 12:43:16 @monitor.py:362]\u001b[0m loss/value: 7.8798\n",
      "\u001b[32m[1112 12:43:16 @monitor.py:362]\u001b[0m macro_auc: 0.85184\n",
      "\u001b[32m[1112 12:43:16 @monitor.py:362]\u001b[0m macro_f1: 0.53979\n",
      "\u001b[32m[1112 12:43:16 @monitor.py:362]\u001b[0m mean_average_precision: 0.56534\n",
      "\u001b[32m[1112 12:43:16 @monitor.py:362]\u001b[0m micro_auc: 0.85831\n",
      "\u001b[32m[1112 12:43:16 @monitor.py:362]\u001b[0m micro_f1: 0.56369\n",
      "\u001b[32m[1112 12:43:16 @monitor.py:362]\u001b[0m one_error: 0.41711\n",
      "\u001b[32m[1112 12:43:16 @monitor.py:362]\u001b[0m ranking_loss: 0.14211\n",
      "\u001b[32m[1112 12:43:16 @monitor.py:362]\u001b[0m ranking_mean_average_precision: 0.71373\n",
      "\u001b[32m[1112 12:43:16 @monitor.py:362]\u001b[0m training_ap: 0.51249\n",
      "\u001b[32m[1112 12:43:16 @monitor.py:362]\u001b[0m training_auc: 0.81708\n",
      "\u001b[32m[1112 12:43:16 @base.py:257]\u001b[0m Start Epoch 108 ...\n"
     ]
    },
    {
     "name": "stderr",
     "output_type": "stream",
     "text": [
      "\n",
      "100%|##########|23/23[00:01<00:00,15.54it/s]"
     ]
    },
    {
     "name": "stdout",
     "output_type": "stream",
     "text": [
      "\u001b[32m[1112 12:43:17 @base.py:267]\u001b[0m Epoch 108 (global_step 2484) finished, time:1.48 sec.\n"
     ]
    },
    {
     "name": "stderr",
     "output_type": "stream",
     "text": [
      "\n",
      "100%|##########|5/5[00:00<00:00,10.71it/s]"
     ]
    },
    {
     "name": "stdout",
     "output_type": "stream",
     "text": [
      "\u001b[32m[1112 12:43:18 @saver.py:90]\u001b[0m Model saved to train_log/sift-512-hidden-gls-r5/model-2484.\n",
      "\u001b[32m[1112 12:43:18 @monitor.py:362]\u001b[0m DataParallelInferenceRunner/QueueInput/queue_size: 49.921\n",
      "\u001b[32m[1112 12:43:18 @monitor.py:362]\u001b[0m QueueInput/queue_size: 49.933\n",
      "\u001b[32m[1112 12:43:18 @monitor.py:362]\u001b[0m coverage: 2.0945\n",
      "\u001b[32m[1112 12:43:18 @monitor.py:362]\u001b[0m doubly_stochastic_loss: 0.76916\n",
      "\u001b[32m[1112 12:43:18 @monitor.py:362]\u001b[0m learning_rate: 0.0001\n",
      "\u001b[32m[1112 12:43:18 @monitor.py:362]\u001b[0m loss/value: 7.8567\n",
      "\u001b[32m[1112 12:43:18 @monitor.py:362]\u001b[0m macro_auc: 0.84848\n",
      "\u001b[32m[1112 12:43:18 @monitor.py:362]\u001b[0m macro_f1: 0.54145\n",
      "\u001b[32m[1112 12:43:18 @monitor.py:362]\u001b[0m mean_average_precision: 0.56035\n",
      "\u001b[32m[1112 12:43:18 @monitor.py:362]\u001b[0m micro_auc: 0.85961\n",
      "\u001b[32m[1112 12:43:18 @monitor.py:362]\u001b[0m micro_f1: 0.56445\n",
      "\u001b[32m[1112 12:43:18 @monitor.py:362]\u001b[0m one_error: 0.42246\n",
      "\u001b[32m[1112 12:43:18 @monitor.py:362]\u001b[0m ranking_loss: 0.14135\n",
      "\u001b[32m[1112 12:43:18 @monitor.py:362]\u001b[0m ranking_mean_average_precision: 0.71321\n",
      "\u001b[32m[1112 12:43:18 @monitor.py:362]\u001b[0m training_ap: 0.51347\n",
      "\u001b[32m[1112 12:43:18 @monitor.py:362]\u001b[0m training_auc: 0.81763\n",
      "\u001b[32m[1112 12:43:18 @base.py:257]\u001b[0m Start Epoch 109 ...\n"
     ]
    },
    {
     "name": "stderr",
     "output_type": "stream",
     "text": [
      "\n",
      "100%|##########|23/23[00:01<00:00,14.58it/s]"
     ]
    },
    {
     "name": "stdout",
     "output_type": "stream",
     "text": [
      "\u001b[32m[1112 12:43:19 @base.py:267]\u001b[0m Epoch 109 (global_step 2507) finished, time:1.59 sec.\n"
     ]
    },
    {
     "name": "stderr",
     "output_type": "stream",
     "text": [
      "\n",
      "100%|##########|5/5[00:00<00:00,12.02it/s]"
     ]
    },
    {
     "name": "stdout",
     "output_type": "stream",
     "text": [
      "\u001b[32m[1112 12:43:20 @saver.py:90]\u001b[0m Model saved to train_log/sift-512-hidden-gls-r5/model-2507.\n",
      "\u001b[32m[1112 12:43:20 @monitor.py:362]\u001b[0m DataParallelInferenceRunner/QueueInput/queue_size: 49.901\n",
      "\u001b[32m[1112 12:43:20 @monitor.py:362]\u001b[0m QueueInput/queue_size: 49.909\n",
      "\u001b[32m[1112 12:43:20 @monitor.py:362]\u001b[0m coverage: 2.1836\n",
      "\u001b[32m[1112 12:43:20 @monitor.py:362]\u001b[0m doubly_stochastic_loss: 0.36963\n",
      "\u001b[32m[1112 12:43:20 @monitor.py:362]\u001b[0m learning_rate: 0.0001\n",
      "\u001b[32m[1112 12:43:20 @monitor.py:362]\u001b[0m loss/value: 7.8126\n",
      "\u001b[32m[1112 12:43:20 @monitor.py:362]\u001b[0m macro_auc: 0.84916\n",
      "\u001b[32m[1112 12:43:20 @monitor.py:362]\u001b[0m macro_f1: 0.53536\n",
      "\u001b[32m[1112 12:43:20 @monitor.py:362]\u001b[0m mean_average_precision: 0.55935\n",
      "\u001b[32m[1112 12:43:20 @monitor.py:362]\u001b[0m micro_auc: 0.85627\n",
      "\u001b[32m[1112 12:43:20 @monitor.py:362]\u001b[0m micro_f1: 0.55683\n",
      "\u001b[32m[1112 12:43:20 @monitor.py:362]\u001b[0m one_error: 0.4385\n",
      "\u001b[32m[1112 12:43:20 @monitor.py:362]\u001b[0m ranking_loss: 0.15053\n",
      "\u001b[32m[1112 12:43:20 @monitor.py:362]\u001b[0m ranking_mean_average_precision: 0.70292\n",
      "\u001b[32m[1112 12:43:20 @monitor.py:362]\u001b[0m training_ap: 0.51453\n",
      "\u001b[32m[1112 12:43:20 @monitor.py:362]\u001b[0m training_auc: 0.81821\n",
      "\u001b[32m[1112 12:43:20 @base.py:257]\u001b[0m Start Epoch 110 ...\n"
     ]
    },
    {
     "name": "stderr",
     "output_type": "stream",
     "text": [
      "\n",
      "100%|##########|23/23[00:01<00:00,15.30it/s]"
     ]
    },
    {
     "name": "stdout",
     "output_type": "stream",
     "text": [
      "\u001b[32m[1112 12:43:21 @base.py:267]\u001b[0m Epoch 110 (global_step 2530) finished, time:1.51 sec.\n"
     ]
    },
    {
     "name": "stderr",
     "output_type": "stream",
     "text": [
      "\n",
      "100%|##########|5/5[00:00<00:00, 9.36it/s]"
     ]
    },
    {
     "name": "stdout",
     "output_type": "stream",
     "text": [
      "\u001b[32m[1112 12:43:22 @saver.py:90]\u001b[0m Model saved to train_log/sift-512-hidden-gls-r5/model-2530.\n",
      "\u001b[32m[1112 12:43:22 @monitor.py:362]\u001b[0m DataParallelInferenceRunner/QueueInput/queue_size: 49.927\n",
      "\u001b[32m[1112 12:43:22 @monitor.py:362]\u001b[0m QueueInput/queue_size: 49.892\n",
      "\u001b[32m[1112 12:43:22 @monitor.py:362]\u001b[0m coverage: 2.1747\n",
      "\u001b[32m[1112 12:43:22 @monitor.py:362]\u001b[0m doubly_stochastic_loss: 0.4367\n",
      "\u001b[32m[1112 12:43:22 @monitor.py:362]\u001b[0m learning_rate: 0.0001\n",
      "\u001b[32m[1112 12:43:22 @monitor.py:362]\u001b[0m loss/value: 7.9991\n",
      "\u001b[32m[1112 12:43:22 @monitor.py:362]\u001b[0m macro_auc: 0.85411\n",
      "\u001b[32m[1112 12:43:22 @monitor.py:362]\u001b[0m macro_f1: 0.53417\n",
      "\u001b[32m[1112 12:43:22 @monitor.py:362]\u001b[0m mean_average_precision: 0.56089\n",
      "\u001b[32m[1112 12:43:22 @monitor.py:362]\u001b[0m micro_auc: 0.86013\n",
      "\u001b[32m[1112 12:43:22 @monitor.py:362]\u001b[0m micro_f1: 0.55516\n",
      "\u001b[32m[1112 12:43:22 @monitor.py:362]\u001b[0m one_error: 0.42959\n",
      "\u001b[32m[1112 12:43:22 @monitor.py:362]\u001b[0m ranking_loss: 0.1501\n",
      "\u001b[32m[1112 12:43:22 @monitor.py:362]\u001b[0m ranking_mean_average_precision: 0.70541\n",
      "\u001b[32m[1112 12:43:22 @monitor.py:362]\u001b[0m training_ap: 0.51544\n",
      "\u001b[32m[1112 12:43:22 @monitor.py:362]\u001b[0m training_auc: 0.81874\n",
      "\u001b[32m[1112 12:43:22 @base.py:257]\u001b[0m Start Epoch 111 ...\n"
     ]
    },
    {
     "name": "stderr",
     "output_type": "stream",
     "text": [
      "\n",
      "100%|##########|23/23[00:01<00:00,15.06it/s]"
     ]
    },
    {
     "name": "stdout",
     "output_type": "stream",
     "text": [
      "\u001b[32m[1112 12:43:24 @base.py:267]\u001b[0m Epoch 111 (global_step 2553) finished, time:1.53 sec.\n"
     ]
    },
    {
     "name": "stderr",
     "output_type": "stream",
     "text": [
      "\n",
      "100%|##########|5/5[00:00<00:00, 9.86it/s]"
     ]
    },
    {
     "name": "stdout",
     "output_type": "stream",
     "text": [
      "\u001b[32m[1112 12:43:24 @saver.py:90]\u001b[0m Model saved to train_log/sift-512-hidden-gls-r5/model-2553.\n",
      "\u001b[32m[1112 12:43:24 @monitor.py:362]\u001b[0m DataParallelInferenceRunner/QueueInput/queue_size: 49.906\n",
      "\u001b[32m[1112 12:43:24 @monitor.py:362]\u001b[0m QueueInput/queue_size: 49.84\n",
      "\u001b[32m[1112 12:43:24 @monitor.py:362]\u001b[0m coverage: 2.2032\n",
      "\u001b[32m[1112 12:43:24 @monitor.py:362]\u001b[0m doubly_stochastic_loss: 0.48643\n",
      "\u001b[32m[1112 12:43:24 @monitor.py:362]\u001b[0m learning_rate: 0.0001\n",
      "\u001b[32m[1112 12:43:24 @monitor.py:362]\u001b[0m loss/value: 7.8711\n",
      "\u001b[32m[1112 12:43:24 @monitor.py:362]\u001b[0m macro_auc: 0.8442\n",
      "\u001b[32m[1112 12:43:24 @monitor.py:362]\u001b[0m macro_f1: 0.53031\n",
      "\u001b[32m[1112 12:43:24 @monitor.py:362]\u001b[0m mean_average_precision: 0.53925\n",
      "\u001b[32m[1112 12:43:24 @monitor.py:362]\u001b[0m micro_auc: 0.85361\n",
      "\u001b[32m[1112 12:43:24 @monitor.py:362]\u001b[0m micro_f1: 0.55903\n",
      "\u001b[32m[1112 12:43:24 @monitor.py:362]\u001b[0m one_error: 0.42781\n",
      "\u001b[32m[1112 12:43:24 @monitor.py:362]\u001b[0m ranking_loss: 0.15395\n",
      "\u001b[32m[1112 12:43:24 @monitor.py:362]\u001b[0m ranking_mean_average_precision: 0.70203\n",
      "\u001b[32m[1112 12:43:24 @monitor.py:362]\u001b[0m training_ap: 0.5165\n",
      "\u001b[32m[1112 12:43:24 @monitor.py:362]\u001b[0m training_auc: 0.81929\n",
      "\u001b[32m[1112 12:43:24 @base.py:257]\u001b[0m Start Epoch 112 ...\n"
     ]
    },
    {
     "name": "stderr",
     "output_type": "stream",
     "text": [
      "\n",
      "100%|##########|23/23[00:01<00:00,14.49it/s]"
     ]
    },
    {
     "name": "stdout",
     "output_type": "stream",
     "text": [
      "\u001b[32m[1112 12:43:26 @base.py:267]\u001b[0m Epoch 112 (global_step 2576) finished, time:1.59 sec.\n"
     ]
    },
    {
     "name": "stderr",
     "output_type": "stream",
     "text": [
      "\n",
      "100%|##########|5/5[00:00<00:00,10.13it/s]"
     ]
    },
    {
     "name": "stdout",
     "output_type": "stream",
     "text": [
      "\u001b[32m[1112 12:43:26 @saver.py:90]\u001b[0m Model saved to train_log/sift-512-hidden-gls-r5/model-2576.\n",
      "\u001b[32m[1112 12:43:26 @monitor.py:362]\u001b[0m DataParallelInferenceRunner/QueueInput/queue_size: 49.931\n",
      "\u001b[32m[1112 12:43:26 @monitor.py:362]\u001b[0m QueueInput/queue_size: 49.838\n",
      "\u001b[32m[1112 12:43:26 @monitor.py:362]\u001b[0m coverage: 2.1836\n",
      "\u001b[32m[1112 12:43:26 @monitor.py:362]\u001b[0m doubly_stochastic_loss: 1.3922\n",
      "\u001b[32m[1112 12:43:26 @monitor.py:362]\u001b[0m learning_rate: 0.0001\n",
      "\u001b[32m[1112 12:43:26 @monitor.py:362]\u001b[0m loss/value: 7.8243\n",
      "\u001b[32m[1112 12:43:26 @monitor.py:362]\u001b[0m macro_auc: 0.84755\n",
      "\u001b[32m[1112 12:43:26 @monitor.py:362]\u001b[0m macro_f1: 0.53335\n",
      "\u001b[32m[1112 12:43:26 @monitor.py:362]\u001b[0m mean_average_precision: 0.54577\n",
      "\u001b[32m[1112 12:43:26 @monitor.py:362]\u001b[0m micro_auc: 0.85506\n",
      "\u001b[32m[1112 12:43:26 @monitor.py:362]\u001b[0m micro_f1: 0.5531\n",
      "\u001b[32m[1112 12:43:26 @monitor.py:362]\u001b[0m one_error: 0.43672\n",
      "\u001b[32m[1112 12:43:26 @monitor.py:362]\u001b[0m ranking_loss: 0.15119\n",
      "\u001b[32m[1112 12:43:26 @monitor.py:362]\u001b[0m ranking_mean_average_precision: 0.70136\n",
      "\u001b[32m[1112 12:43:26 @monitor.py:362]\u001b[0m training_ap: 0.51745\n",
      "\u001b[32m[1112 12:43:26 @monitor.py:362]\u001b[0m training_auc: 0.81982\n",
      "\u001b[32m[1112 12:43:26 @base.py:257]\u001b[0m Start Epoch 113 ...\n"
     ]
    },
    {
     "name": "stderr",
     "output_type": "stream",
     "text": [
      "\n",
      "100%|##########|23/23[00:01<00:00,14.51it/s]"
     ]
    },
    {
     "name": "stdout",
     "output_type": "stream",
     "text": [
      "\u001b[32m[1112 12:43:28 @base.py:267]\u001b[0m Epoch 113 (global_step 2599) finished, time:1.59 sec.\n"
     ]
    },
    {
     "name": "stderr",
     "output_type": "stream",
     "text": [
      "\n",
      "100%|##########|5/5[00:00<00:00, 9.75it/s]"
     ]
    },
    {
     "name": "stdout",
     "output_type": "stream",
     "text": [
      "\u001b[32m[1112 12:43:28 @saver.py:90]\u001b[0m Model saved to train_log/sift-512-hidden-gls-r5/model-2599.\n",
      "\u001b[32m[1112 12:43:28 @monitor.py:362]\u001b[0m DataParallelInferenceRunner/QueueInput/queue_size: 49.908\n",
      "\u001b[32m[1112 12:43:28 @monitor.py:362]\u001b[0m QueueInput/queue_size: 49.896\n",
      "\u001b[32m[1112 12:43:28 @monitor.py:362]\u001b[0m coverage: 2.1408\n",
      "\u001b[32m[1112 12:43:28 @monitor.py:362]\u001b[0m doubly_stochastic_loss: 0.46887\n",
      "\u001b[32m[1112 12:43:28 @monitor.py:362]\u001b[0m learning_rate: 0.0001\n",
      "\u001b[32m[1112 12:43:28 @monitor.py:362]\u001b[0m loss/value: 7.7992\n",
      "\u001b[32m[1112 12:43:28 @monitor.py:362]\u001b[0m macro_auc: 0.85408\n",
      "\u001b[32m[1112 12:43:28 @monitor.py:362]\u001b[0m macro_f1: 0.55684\n",
      "\u001b[32m[1112 12:43:28 @monitor.py:362]\u001b[0m mean_average_precision: 0.56193\n",
      "\u001b[32m[1112 12:43:28 @monitor.py:362]\u001b[0m micro_auc: 0.86136\n",
      "\u001b[32m[1112 12:43:28 @monitor.py:362]\u001b[0m micro_f1: 0.57046\n",
      "\u001b[32m[1112 12:43:28 @monitor.py:362]\u001b[0m one_error: 0.4385\n",
      "\u001b[32m[1112 12:43:28 @monitor.py:362]\u001b[0m ranking_loss: 0.14555\n",
      "\u001b[32m[1112 12:43:28 @monitor.py:362]\u001b[0m ranking_mean_average_precision: 0.7046\n",
      "\u001b[32m[1112 12:43:28 @monitor.py:362]\u001b[0m training_ap: 0.51843\n",
      "\u001b[32m[1112 12:43:28 @monitor.py:362]\u001b[0m training_auc: 0.82036\n",
      "\u001b[32m[1112 12:43:28 @base.py:257]\u001b[0m Start Epoch 114 ...\n"
     ]
    },
    {
     "name": "stderr",
     "output_type": "stream",
     "text": [
      "\n",
      "100%|##########|23/23[00:01<00:00,14.92it/s]"
     ]
    },
    {
     "name": "stdout",
     "output_type": "stream",
     "text": [
      "\u001b[32m[1112 12:43:30 @base.py:267]\u001b[0m Epoch 114 (global_step 2622) finished, time:1.57 sec.\n"
     ]
    },
    {
     "name": "stderr",
     "output_type": "stream",
     "text": [
      "\n",
      "100%|##########|5/5[00:00<00:00,10.23it/s]"
     ]
    },
    {
     "name": "stdout",
     "output_type": "stream",
     "text": [
      "\u001b[32m[1112 12:43:31 @saver.py:90]\u001b[0m Model saved to train_log/sift-512-hidden-gls-r5/model-2622.\n",
      "\u001b[32m[1112 12:43:31 @monitor.py:362]\u001b[0m DataParallelInferenceRunner/QueueInput/queue_size: 49.892\n",
      "\u001b[32m[1112 12:43:31 @monitor.py:362]\u001b[0m QueueInput/queue_size: 49.852\n",
      "\u001b[32m[1112 12:43:31 @monitor.py:362]\u001b[0m coverage: 2.1159\n",
      "\u001b[32m[1112 12:43:31 @monitor.py:362]\u001b[0m doubly_stochastic_loss: 0.47238\n",
      "\u001b[32m[1112 12:43:31 @monitor.py:362]\u001b[0m learning_rate: 0.0001\n",
      "\u001b[32m[1112 12:43:31 @monitor.py:362]\u001b[0m loss/value: 7.7325\n",
      "\u001b[32m[1112 12:43:31 @monitor.py:362]\u001b[0m macro_auc: 0.85247\n",
      "\u001b[32m[1112 12:43:31 @monitor.py:362]\u001b[0m macro_f1: 0.5359\n",
      "\u001b[32m[1112 12:43:31 @monitor.py:362]\u001b[0m mean_average_precision: 0.56224\n",
      "\u001b[32m[1112 12:43:31 @monitor.py:362]\u001b[0m micro_auc: 0.85947\n",
      "\u001b[32m[1112 12:43:31 @monitor.py:362]\u001b[0m micro_f1: 0.55879\n",
      "\u001b[32m[1112 12:43:31 @monitor.py:362]\u001b[0m one_error: 0.42424\n",
      "\u001b[32m[1112 12:43:31 @monitor.py:362]\u001b[0m ranking_loss: 0.14411\n",
      "\u001b[32m[1112 12:43:31 @monitor.py:362]\u001b[0m ranking_mean_average_precision: 0.7085\n",
      "\u001b[32m[1112 12:43:31 @monitor.py:362]\u001b[0m training_ap: 0.51951\n",
      "\u001b[32m[1112 12:43:31 @monitor.py:362]\u001b[0m training_auc: 0.82092\n",
      "\u001b[32m[1112 12:43:31 @base.py:257]\u001b[0m Start Epoch 115 ...\n"
     ]
    },
    {
     "name": "stderr",
     "output_type": "stream",
     "text": [
      "\n",
      "100%|##########|23/23[00:01<00:00,14.45it/s]"
     ]
    },
    {
     "name": "stdout",
     "output_type": "stream",
     "text": [
      "\u001b[32m[1112 12:43:32 @base.py:267]\u001b[0m Epoch 115 (global_step 2645) finished, time:1.60 sec.\n"
     ]
    },
    {
     "name": "stderr",
     "output_type": "stream",
     "text": [
      "\n",
      "100%|##########|5/5[00:00<00:00, 9.74it/s]"
     ]
    },
    {
     "name": "stdout",
     "output_type": "stream",
     "text": [
      "\u001b[32m[1112 12:43:33 @saver.py:90]\u001b[0m Model saved to train_log/sift-512-hidden-gls-r5/model-2645.\n",
      "\u001b[32m[1112 12:43:33 @monitor.py:362]\u001b[0m DataParallelInferenceRunner/QueueInput/queue_size: 49.88\n",
      "\u001b[32m[1112 12:43:33 @monitor.py:362]\u001b[0m QueueInput/queue_size: 49.874\n",
      "\u001b[32m[1112 12:43:33 @monitor.py:362]\u001b[0m coverage: 2.148\n",
      "\u001b[32m[1112 12:43:33 @monitor.py:362]\u001b[0m doubly_stochastic_loss: 1.3196\n",
      "\u001b[32m[1112 12:43:33 @monitor.py:362]\u001b[0m learning_rate: 0.0001\n",
      "\u001b[32m[1112 12:43:33 @monitor.py:362]\u001b[0m loss/value: 7.6863\n",
      "\u001b[32m[1112 12:43:33 @monitor.py:362]\u001b[0m macro_auc: 0.84936\n",
      "\u001b[32m[1112 12:43:33 @monitor.py:362]\u001b[0m macro_f1: 0.53554\n",
      "\u001b[32m[1112 12:43:33 @monitor.py:362]\u001b[0m mean_average_precision: 0.55546\n",
      "\u001b[32m[1112 12:43:33 @monitor.py:362]\u001b[0m micro_auc: 0.85974\n",
      "\u001b[32m[1112 12:43:33 @monitor.py:362]\u001b[0m micro_f1: 0.55938\n",
      "\u001b[32m[1112 12:43:33 @monitor.py:362]\u001b[0m one_error: 0.41533\n",
      "\u001b[32m[1112 12:43:33 @monitor.py:362]\u001b[0m ranking_loss: 0.14558\n",
      "\u001b[32m[1112 12:43:33 @monitor.py:362]\u001b[0m ranking_mean_average_precision: 0.71311\n",
      "\u001b[32m[1112 12:43:33 @monitor.py:362]\u001b[0m training_ap: 0.52057\n",
      "\u001b[32m[1112 12:43:33 @monitor.py:362]\u001b[0m training_auc: 0.82148\n",
      "\u001b[32m[1112 12:43:33 @base.py:257]\u001b[0m Start Epoch 116 ...\n"
     ]
    },
    {
     "name": "stderr",
     "output_type": "stream",
     "text": [
      "\n",
      "100%|##########|23/23[00:01<00:00,15.00it/s]"
     ]
    },
    {
     "name": "stdout",
     "output_type": "stream",
     "text": [
      "\u001b[32m[1112 12:43:34 @base.py:267]\u001b[0m Epoch 116 (global_step 2668) finished, time:1.54 sec.\n"
     ]
    },
    {
     "name": "stderr",
     "output_type": "stream",
     "text": [
      "\n",
      "100%|##########|5/5[00:00<00:00,10.04it/s]"
     ]
    },
    {
     "name": "stdout",
     "output_type": "stream",
     "text": [
      "\u001b[32m[1112 12:43:35 @saver.py:90]\u001b[0m Model saved to train_log/sift-512-hidden-gls-r5/model-2668.\n",
      "\u001b[32m[1112 12:43:35 @monitor.py:362]\u001b[0m DataParallelInferenceRunner/QueueInput/queue_size: 49.912\n",
      "\u001b[32m[1112 12:43:35 @monitor.py:362]\u001b[0m QueueInput/queue_size: 49.836\n",
      "\u001b[32m[1112 12:43:35 @monitor.py:362]\u001b[0m coverage: 2.1551\n",
      "\u001b[32m[1112 12:43:35 @monitor.py:362]\u001b[0m doubly_stochastic_loss: 0.33693\n",
      "\u001b[32m[1112 12:43:35 @monitor.py:362]\u001b[0m learning_rate: 0.0001\n",
      "\u001b[32m[1112 12:43:35 @monitor.py:362]\u001b[0m loss/value: 7.7898\n",
      "\u001b[32m[1112 12:43:35 @monitor.py:362]\u001b[0m macro_auc: 0.84569\n",
      "\u001b[32m[1112 12:43:35 @monitor.py:362]\u001b[0m macro_f1: 0.54043\n",
      "\u001b[32m[1112 12:43:35 @monitor.py:362]\u001b[0m mean_average_precision: 0.55727\n",
      "\u001b[32m[1112 12:43:35 @monitor.py:362]\u001b[0m micro_auc: 0.8592\n",
      "\u001b[32m[1112 12:43:35 @monitor.py:362]\u001b[0m micro_f1: 0.56704\n",
      "\u001b[32m[1112 12:43:35 @monitor.py:362]\u001b[0m one_error: 0.42959\n",
      "\u001b[32m[1112 12:43:35 @monitor.py:362]\u001b[0m ranking_loss: 0.14946\n",
      "\u001b[32m[1112 12:43:35 @monitor.py:362]\u001b[0m ranking_mean_average_precision: 0.70347\n",
      "\u001b[32m[1112 12:43:35 @monitor.py:362]\u001b[0m training_ap: 0.52151\n",
      "\u001b[32m[1112 12:43:35 @monitor.py:362]\u001b[0m training_auc: 0.82197\n",
      "\u001b[32m[1112 12:43:35 @base.py:257]\u001b[0m Start Epoch 117 ...\n"
     ]
    },
    {
     "name": "stderr",
     "output_type": "stream",
     "text": [
      "\n",
      "100%|##########|23/23[00:01<00:00,15.76it/s]"
     ]
    },
    {
     "name": "stdout",
     "output_type": "stream",
     "text": [
      "\u001b[32m[1112 12:43:36 @base.py:267]\u001b[0m Epoch 117 (global_step 2691) finished, time:1.46 sec.\n"
     ]
    },
    {
     "name": "stderr",
     "output_type": "stream",
     "text": [
      "\n",
      "100%|##########|5/5[00:00<00:00,10.29it/s]"
     ]
    },
    {
     "name": "stdout",
     "output_type": "stream",
     "text": [
      "\u001b[32m[1112 12:43:37 @saver.py:90]\u001b[0m Model saved to train_log/sift-512-hidden-gls-r5/model-2691.\n",
      "\u001b[32m[1112 12:43:37 @monitor.py:362]\u001b[0m DataParallelInferenceRunner/QueueInput/queue_size: 49.935\n",
      "\u001b[32m[1112 12:43:37 @monitor.py:362]\u001b[0m QueueInput/queue_size: 49.835\n",
      "\u001b[32m[1112 12:43:37 @monitor.py:362]\u001b[0m coverage: 2.0713\n",
      "\u001b[32m[1112 12:43:37 @monitor.py:362]\u001b[0m doubly_stochastic_loss: 0.36702\n",
      "\u001b[32m[1112 12:43:37 @monitor.py:362]\u001b[0m learning_rate: 0.0001\n",
      "\u001b[32m[1112 12:43:37 @monitor.py:362]\u001b[0m loss/value: 7.7562\n",
      "\u001b[32m[1112 12:43:37 @monitor.py:362]\u001b[0m macro_auc: 0.85559\n",
      "\u001b[32m[1112 12:43:37 @monitor.py:362]\u001b[0m macro_f1: 0.53625\n",
      "\u001b[32m[1112 12:43:37 @monitor.py:362]\u001b[0m mean_average_precision: 0.55952\n",
      "\u001b[32m[1112 12:43:37 @monitor.py:362]\u001b[0m micro_auc: 0.86157\n",
      "\u001b[32m[1112 12:43:37 @monitor.py:362]\u001b[0m micro_f1: 0.55707\n",
      "\u001b[32m[1112 12:43:37 @monitor.py:362]\u001b[0m one_error: 0.40285\n",
      "\u001b[32m[1112 12:43:37 @monitor.py:362]\u001b[0m ranking_loss: 0.14039\n",
      "\u001b[32m[1112 12:43:37 @monitor.py:362]\u001b[0m ranking_mean_average_precision: 0.72295\n",
      "\u001b[32m[1112 12:43:37 @monitor.py:362]\u001b[0m training_ap: 0.52242\n",
      "\u001b[32m[1112 12:43:37 @monitor.py:362]\u001b[0m training_auc: 0.82246\n",
      "\u001b[32m[1112 12:43:37 @base.py:257]\u001b[0m Start Epoch 118 ...\n"
     ]
    },
    {
     "name": "stderr",
     "output_type": "stream",
     "text": [
      "\n",
      "100%|##########|23/23[00:01<00:00,14.58it/s]"
     ]
    },
    {
     "name": "stdout",
     "output_type": "stream",
     "text": [
      "\u001b[32m[1112 12:43:38 @base.py:267]\u001b[0m Epoch 118 (global_step 2714) finished, time:1.58 sec.\n"
     ]
    },
    {
     "name": "stderr",
     "output_type": "stream",
     "text": [
      "\n",
      "100%|##########|5/5[00:00<00:00,10.59it/s]"
     ]
    },
    {
     "name": "stdout",
     "output_type": "stream",
     "text": [
      "\u001b[32m[1112 12:43:39 @saver.py:90]\u001b[0m Model saved to train_log/sift-512-hidden-gls-r5/model-2714.\n",
      "\u001b[32m[1112 12:43:39 @monitor.py:362]\u001b[0m DataParallelInferenceRunner/QueueInput/queue_size: 49.952\n",
      "\u001b[32m[1112 12:43:39 @monitor.py:362]\u001b[0m QueueInput/queue_size: 49.901\n",
      "\u001b[32m[1112 12:43:39 @monitor.py:362]\u001b[0m coverage: 2.1676\n",
      "\u001b[32m[1112 12:43:39 @monitor.py:362]\u001b[0m doubly_stochastic_loss: 0.91403\n",
      "\u001b[32m[1112 12:43:39 @monitor.py:362]\u001b[0m learning_rate: 0.0001\n",
      "\u001b[32m[1112 12:43:39 @monitor.py:362]\u001b[0m loss/value: 7.6649\n",
      "\u001b[32m[1112 12:43:39 @monitor.py:362]\u001b[0m macro_auc: 0.85078\n",
      "\u001b[32m[1112 12:43:39 @monitor.py:362]\u001b[0m macro_f1: 0.54566\n",
      "\u001b[32m[1112 12:43:39 @monitor.py:362]\u001b[0m mean_average_precision: 0.55217\n",
      "\u001b[32m[1112 12:43:39 @monitor.py:362]\u001b[0m micro_auc: 0.86072\n",
      "\u001b[32m[1112 12:43:39 @monitor.py:362]\u001b[0m micro_f1: 0.56745\n",
      "\u001b[32m[1112 12:43:39 @monitor.py:362]\u001b[0m one_error: 0.44029\n",
      "\u001b[32m[1112 12:43:39 @monitor.py:362]\u001b[0m ranking_loss: 0.14843\n",
      "\u001b[32m[1112 12:43:39 @monitor.py:362]\u001b[0m ranking_mean_average_precision: 0.69847\n",
      "\u001b[32m[1112 12:43:39 @monitor.py:362]\u001b[0m training_ap: 0.52341\n",
      "\u001b[32m[1112 12:43:39 @monitor.py:362]\u001b[0m training_auc: 0.82301\n",
      "\u001b[32m[1112 12:43:39 @base.py:257]\u001b[0m Start Epoch 119 ...\n"
     ]
    },
    {
     "name": "stderr",
     "output_type": "stream",
     "text": [
      "\n",
      "100%|##########|23/23[00:01<00:00,15.25it/s]"
     ]
    },
    {
     "name": "stdout",
     "output_type": "stream",
     "text": [
      "\u001b[32m[1112 12:43:41 @base.py:267]\u001b[0m Epoch 119 (global_step 2737) finished, time:1.51 sec.\n"
     ]
    },
    {
     "name": "stderr",
     "output_type": "stream",
     "text": [
      "\n",
      "100%|##########|5/5[00:00<00:00,11.25it/s]"
     ]
    },
    {
     "name": "stdout",
     "output_type": "stream",
     "text": [
      "\u001b[32m[1112 12:43:41 @saver.py:90]\u001b[0m Model saved to train_log/sift-512-hidden-gls-r5/model-2737.\n",
      "\u001b[32m[1112 12:43:41 @monitor.py:362]\u001b[0m DataParallelInferenceRunner/QueueInput/queue_size: 49.965\n",
      "\u001b[32m[1112 12:43:41 @monitor.py:362]\u001b[0m QueueInput/queue_size: 49.922\n",
      "\u001b[32m[1112 12:43:41 @monitor.py:362]\u001b[0m coverage: 2.18\n",
      "\u001b[32m[1112 12:43:41 @monitor.py:362]\u001b[0m doubly_stochastic_loss: 0.69752\n",
      "\u001b[32m[1112 12:43:41 @monitor.py:362]\u001b[0m learning_rate: 0.0001\n",
      "\u001b[32m[1112 12:43:41 @monitor.py:362]\u001b[0m loss/value: 7.78\n",
      "\u001b[32m[1112 12:43:41 @monitor.py:362]\u001b[0m macro_auc: 0.85504\n",
      "\u001b[32m[1112 12:43:41 @monitor.py:362]\u001b[0m macro_f1: 0.52599\n",
      "\u001b[32m[1112 12:43:41 @monitor.py:362]\u001b[0m mean_average_precision: 0.56257\n",
      "\u001b[32m[1112 12:43:41 @monitor.py:362]\u001b[0m micro_auc: 0.85903\n",
      "\u001b[32m[1112 12:43:41 @monitor.py:362]\u001b[0m micro_f1: 0.54768\n",
      "\u001b[32m[1112 12:43:41 @monitor.py:362]\u001b[0m one_error: 0.43316\n",
      "\u001b[32m[1112 12:43:41 @monitor.py:362]\u001b[0m ranking_loss: 0.15185\n",
      "\u001b[32m[1112 12:43:41 @monitor.py:362]\u001b[0m ranking_mean_average_precision: 0.69982\n",
      "\u001b[32m[1112 12:43:41 @monitor.py:362]\u001b[0m training_ap: 0.52432\n",
      "\u001b[32m[1112 12:43:41 @monitor.py:362]\u001b[0m training_auc: 0.82352\n",
      "\u001b[32m[1112 12:43:41 @base.py:257]\u001b[0m Start Epoch 120 ...\n"
     ]
    },
    {
     "name": "stderr",
     "output_type": "stream",
     "text": [
      "\n",
      "100%|##########|23/23[00:01<00:00,15.12it/s]"
     ]
    },
    {
     "name": "stdout",
     "output_type": "stream",
     "text": [
      "\u001b[32m[1112 12:43:43 @base.py:267]\u001b[0m Epoch 120 (global_step 2760) finished, time:1.52 sec.\n"
     ]
    },
    {
     "name": "stderr",
     "output_type": "stream",
     "text": [
      "\n",
      "100%|##########|5/5[00:00<00:00,10.15it/s]"
     ]
    },
    {
     "name": "stdout",
     "output_type": "stream",
     "text": [
      "\u001b[32m[1112 12:43:43 @saver.py:90]\u001b[0m Model saved to train_log/sift-512-hidden-gls-r5/model-2760.\n",
      "\u001b[32m[1112 12:43:43 @monitor.py:362]\u001b[0m DataParallelInferenceRunner/QueueInput/queue_size: 49.974\n",
      "\u001b[32m[1112 12:43:43 @monitor.py:362]\u001b[0m QueueInput/queue_size: 49.793\n",
      "\u001b[32m[1112 12:43:43 @monitor.py:362]\u001b[0m coverage: 2.1266\n",
      "\u001b[32m[1112 12:43:43 @monitor.py:362]\u001b[0m doubly_stochastic_loss: 0.27828\n",
      "\u001b[32m[1112 12:43:43 @monitor.py:362]\u001b[0m learning_rate: 0.0001\n",
      "\u001b[32m[1112 12:43:43 @monitor.py:362]\u001b[0m loss/value: 7.6688\n",
      "\u001b[32m[1112 12:43:43 @monitor.py:362]\u001b[0m macro_auc: 0.85129\n",
      "\u001b[32m[1112 12:43:43 @monitor.py:362]\u001b[0m macro_f1: 0.53956\n",
      "\u001b[32m[1112 12:43:43 @monitor.py:362]\u001b[0m mean_average_precision: 0.55953\n",
      "\u001b[32m[1112 12:43:43 @monitor.py:362]\u001b[0m micro_auc: 0.85742\n",
      "\u001b[32m[1112 12:43:43 @monitor.py:362]\u001b[0m micro_f1: 0.56519\n",
      "\u001b[32m[1112 12:43:43 @monitor.py:362]\u001b[0m one_error: 0.43316\n",
      "\u001b[32m[1112 12:43:43 @monitor.py:362]\u001b[0m ranking_loss: 0.14657\n",
      "\u001b[32m[1112 12:43:43 @monitor.py:362]\u001b[0m ranking_mean_average_precision: 0.70557\n",
      "\u001b[32m[1112 12:43:43 @monitor.py:362]\u001b[0m training_ap: 0.52526\n",
      "\u001b[32m[1112 12:43:43 @monitor.py:362]\u001b[0m training_auc: 0.82401\n",
      "\u001b[32m[1112 12:43:43 @base.py:257]\u001b[0m Start Epoch 121 ...\n"
     ]
    },
    {
     "name": "stderr",
     "output_type": "stream",
     "text": [
      "\n",
      "100%|##########|23/23[00:01<00:00,14.15it/s]"
     ]
    },
    {
     "name": "stdout",
     "output_type": "stream",
     "text": [
      "\u001b[32m[1112 12:43:45 @base.py:267]\u001b[0m Epoch 121 (global_step 2783) finished, time:1.61 sec.\n"
     ]
    },
    {
     "name": "stderr",
     "output_type": "stream",
     "text": [
      "\n",
      "100%|##########|5/5[00:00<00:00,10.56it/s]"
     ]
    },
    {
     "name": "stdout",
     "output_type": "stream",
     "text": [
      "\u001b[32m[1112 12:43:45 @saver.py:90]\u001b[0m Model saved to train_log/sift-512-hidden-gls-r5/model-2783.\n",
      "\u001b[32m[1112 12:43:45 @monitor.py:362]\u001b[0m DataParallelInferenceRunner/QueueInput/queue_size: 49.981\n",
      "\u001b[32m[1112 12:43:45 @monitor.py:362]\u001b[0m QueueInput/queue_size: 49.752\n",
      "\u001b[32m[1112 12:43:45 @monitor.py:362]\u001b[0m coverage: 2.1212\n",
      "\u001b[32m[1112 12:43:45 @monitor.py:362]\u001b[0m doubly_stochastic_loss: 0.99483\n",
      "\u001b[32m[1112 12:43:45 @monitor.py:362]\u001b[0m learning_rate: 0.0001\n",
      "\u001b[32m[1112 12:43:45 @monitor.py:362]\u001b[0m loss/value: 7.7663\n",
      "\u001b[32m[1112 12:43:45 @monitor.py:362]\u001b[0m macro_auc: 0.85474\n",
      "\u001b[32m[1112 12:43:45 @monitor.py:362]\u001b[0m macro_f1: 0.53347\n",
      "\u001b[32m[1112 12:43:45 @monitor.py:362]\u001b[0m mean_average_precision: 0.55241\n",
      "\u001b[32m[1112 12:43:45 @monitor.py:362]\u001b[0m micro_auc: 0.8608\n",
      "\u001b[32m[1112 12:43:45 @monitor.py:362]\u001b[0m micro_f1: 0.5599\n",
      "\u001b[32m[1112 12:43:45 @monitor.py:362]\u001b[0m one_error: 0.43316\n",
      "\u001b[32m[1112 12:43:45 @monitor.py:362]\u001b[0m ranking_loss: 0.14359\n",
      "\u001b[32m[1112 12:43:45 @monitor.py:362]\u001b[0m ranking_mean_average_precision: 0.70613\n",
      "\u001b[32m[1112 12:43:45 @monitor.py:362]\u001b[0m training_ap: 0.5261\n",
      "\u001b[32m[1112 12:43:45 @monitor.py:362]\u001b[0m training_auc: 0.82445\n",
      "\u001b[32m[1112 12:43:45 @base.py:257]\u001b[0m Start Epoch 122 ...\n"
     ]
    },
    {
     "name": "stderr",
     "output_type": "stream",
     "text": [
      "\n",
      "100%|##########|23/23[00:01<00:00,15.22it/s]"
     ]
    },
    {
     "name": "stdout",
     "output_type": "stream",
     "text": [
      "\u001b[32m[1112 12:43:47 @base.py:267]\u001b[0m Epoch 122 (global_step 2806) finished, time:1.53 sec.\n"
     ]
    },
    {
     "name": "stderr",
     "output_type": "stream",
     "text": [
      "\n",
      "100%|##########|5/5[00:00<00:00,11.20it/s]"
     ]
    },
    {
     "name": "stdout",
     "output_type": "stream",
     "text": [
      "\u001b[32m[1112 12:43:47 @saver.py:90]\u001b[0m Model saved to train_log/sift-512-hidden-gls-r5/model-2806.\n",
      "\u001b[32m[1112 12:43:47 @monitor.py:362]\u001b[0m DataParallelInferenceRunner/QueueInput/queue_size: 49.986\n",
      "\u001b[32m[1112 12:43:47 @monitor.py:362]\u001b[0m QueueInput/queue_size: 49.777\n",
      "\u001b[32m[1112 12:43:47 @monitor.py:362]\u001b[0m coverage: 2.1676\n",
      "\u001b[32m[1112 12:43:47 @monitor.py:362]\u001b[0m doubly_stochastic_loss: 0.58184\n",
      "\u001b[32m[1112 12:43:47 @monitor.py:362]\u001b[0m learning_rate: 0.0001\n",
      "\u001b[32m[1112 12:43:47 @monitor.py:362]\u001b[0m loss/value: 7.64\n",
      "\u001b[32m[1112 12:43:47 @monitor.py:362]\u001b[0m macro_auc: 0.85495\n",
      "\u001b[32m[1112 12:43:47 @monitor.py:362]\u001b[0m macro_f1: 0.53278\n",
      "\u001b[32m[1112 12:43:47 @monitor.py:362]\u001b[0m mean_average_precision: 0.56067\n",
      "\u001b[32m[1112 12:43:47 @monitor.py:362]\u001b[0m micro_auc: 0.86066\n",
      "\u001b[32m[1112 12:43:47 @monitor.py:362]\u001b[0m micro_f1: 0.55542\n",
      "\u001b[32m[1112 12:43:47 @monitor.py:362]\u001b[0m one_error: 0.42424\n",
      "\u001b[32m[1112 12:43:47 @monitor.py:362]\u001b[0m ranking_loss: 0.14943\n",
      "\u001b[32m[1112 12:43:47 @monitor.py:362]\u001b[0m ranking_mean_average_precision: 0.7034\n",
      "\u001b[32m[1112 12:43:47 @monitor.py:362]\u001b[0m training_ap: 0.52712\n",
      "\u001b[32m[1112 12:43:47 @monitor.py:362]\u001b[0m training_auc: 0.82494\n",
      "\u001b[32m[1112 12:43:47 @base.py:257]\u001b[0m Start Epoch 123 ...\n"
     ]
    },
    {
     "name": "stderr",
     "output_type": "stream",
     "text": [
      "\n",
      "100%|##########|23/23[00:01<00:00,14.15it/s]"
     ]
    },
    {
     "name": "stdout",
     "output_type": "stream",
     "text": [
      "\u001b[32m[1112 12:43:49 @base.py:267]\u001b[0m Epoch 123 (global_step 2829) finished, time:1.63 sec.\n"
     ]
    },
    {
     "name": "stderr",
     "output_type": "stream",
     "text": [
      "\n",
      "100%|##########|5/5[00:00<00:00, 9.52it/s]"
     ]
    },
    {
     "name": "stdout",
     "output_type": "stream",
     "text": [
      "\u001b[32m[1112 12:43:50 @saver.py:90]\u001b[0m Model saved to train_log/sift-512-hidden-gls-r5/model-2829.\n",
      "\u001b[32m[1112 12:43:50 @monitor.py:362]\u001b[0m DataParallelInferenceRunner/QueueInput/queue_size: 49.99\n",
      "\u001b[32m[1112 12:43:50 @monitor.py:362]\u001b[0m QueueInput/queue_size: 49.863\n",
      "\u001b[32m[1112 12:43:50 @monitor.py:362]\u001b[0m coverage: 2.2371\n",
      "\u001b[32m[1112 12:43:50 @monitor.py:362]\u001b[0m doubly_stochastic_loss: 0.74555\n",
      "\u001b[32m[1112 12:43:50 @monitor.py:362]\u001b[0m learning_rate: 0.0001\n",
      "\u001b[32m[1112 12:43:50 @monitor.py:362]\u001b[0m loss/value: 7.5989\n",
      "\u001b[32m[1112 12:43:50 @monitor.py:362]\u001b[0m macro_auc: 0.844\n",
      "\u001b[32m[1112 12:43:50 @monitor.py:362]\u001b[0m macro_f1: 0.52209\n",
      "\u001b[32m[1112 12:43:50 @monitor.py:362]\u001b[0m mean_average_precision: 0.55965\n",
      "\u001b[32m[1112 12:43:50 @monitor.py:362]\u001b[0m micro_auc: 0.85233\n",
      "\u001b[32m[1112 12:43:50 @monitor.py:362]\u001b[0m micro_f1: 0.54346\n",
      "\u001b[32m[1112 12:43:50 @monitor.py:362]\u001b[0m one_error: 0.44742\n",
      "\u001b[32m[1112 12:43:50 @monitor.py:362]\u001b[0m ranking_loss: 0.15717\n",
      "\u001b[32m[1112 12:43:50 @monitor.py:362]\u001b[0m ranking_mean_average_precision: 0.69245\n",
      "\u001b[32m[1112 12:43:50 @monitor.py:362]\u001b[0m training_ap: 0.52812\n",
      "\u001b[32m[1112 12:43:50 @monitor.py:362]\u001b[0m training_auc: 0.82547\n",
      "\u001b[32m[1112 12:43:50 @base.py:257]\u001b[0m Start Epoch 124 ...\n"
     ]
    },
    {
     "name": "stderr",
     "output_type": "stream",
     "text": [
      "\n",
      "100%|##########|23/23[00:01<00:00,15.92it/s]"
     ]
    },
    {
     "name": "stdout",
     "output_type": "stream",
     "text": [
      "\u001b[32m[1112 12:43:51 @base.py:267]\u001b[0m Epoch 124 (global_step 2852) finished, time:1.45 sec.\n"
     ]
    },
    {
     "name": "stderr",
     "output_type": "stream",
     "text": [
      "\n",
      "100%|##########|5/5[00:00<00:00,10.23it/s]"
     ]
    },
    {
     "name": "stdout",
     "output_type": "stream",
     "text": [
      "\u001b[32m[1112 12:43:52 @saver.py:90]\u001b[0m Model saved to train_log/sift-512-hidden-gls-r5/model-2852.\n",
      "\u001b[32m[1112 12:43:52 @monitor.py:362]\u001b[0m DataParallelInferenceRunner/QueueInput/queue_size: 49.992\n",
      "\u001b[32m[1112 12:43:52 @monitor.py:362]\u001b[0m QueueInput/queue_size: 49.94\n",
      "\u001b[32m[1112 12:43:52 @monitor.py:362]\u001b[0m coverage: 2.1141\n",
      "\u001b[32m[1112 12:43:52 @monitor.py:362]\u001b[0m doubly_stochastic_loss: 0.91223\n",
      "\u001b[32m[1112 12:43:52 @monitor.py:362]\u001b[0m learning_rate: 0.0001\n",
      "\u001b[32m[1112 12:43:52 @monitor.py:362]\u001b[0m loss/value: 7.6564\n",
      "\u001b[32m[1112 12:43:52 @monitor.py:362]\u001b[0m macro_auc: 0.85197\n",
      "\u001b[32m[1112 12:43:52 @monitor.py:362]\u001b[0m macro_f1: 0.5436\n",
      "\u001b[32m[1112 12:43:52 @monitor.py:362]\u001b[0m mean_average_precision: 0.55915\n",
      "\u001b[32m[1112 12:43:52 @monitor.py:362]\u001b[0m micro_auc: 0.86121\n",
      "\u001b[32m[1112 12:43:52 @monitor.py:362]\u001b[0m micro_f1: 0.56726\n",
      "\u001b[32m[1112 12:43:52 @monitor.py:362]\u001b[0m one_error: 0.41889\n",
      "\u001b[32m[1112 12:43:52 @monitor.py:362]\u001b[0m ranking_loss: 0.14321\n",
      "\u001b[32m[1112 12:43:52 @monitor.py:362]\u001b[0m ranking_mean_average_precision: 0.71369\n",
      "\u001b[32m[1112 12:43:52 @monitor.py:362]\u001b[0m training_ap: 0.529\n",
      "\u001b[32m[1112 12:43:52 @monitor.py:362]\u001b[0m training_auc: 0.82593\n",
      "\u001b[32m[1112 12:43:52 @base.py:257]\u001b[0m Start Epoch 125 ...\n"
     ]
    },
    {
     "name": "stderr",
     "output_type": "stream",
     "text": [
      "\n",
      "100%|##########|23/23[00:01<00:00,14.79it/s]"
     ]
    },
    {
     "name": "stdout",
     "output_type": "stream",
     "text": [
      "\u001b[32m[1112 12:43:53 @base.py:267]\u001b[0m Epoch 125 (global_step 2875) finished, time:1.56 sec.\n"
     ]
    },
    {
     "name": "stderr",
     "output_type": "stream",
     "text": [
      "\n",
      "100%|##########|5/5[00:00<00:00, 8.68it/s]"
     ]
    },
    {
     "name": "stdout",
     "output_type": "stream",
     "text": [
      "\u001b[32m[1112 12:43:54 @saver.py:90]\u001b[0m Model saved to train_log/sift-512-hidden-gls-r5/model-2875.\n",
      "\u001b[32m[1112 12:43:54 @monitor.py:362]\u001b[0m DataParallelInferenceRunner/QueueInput/queue_size: 49.994\n",
      "\u001b[32m[1112 12:43:54 @monitor.py:362]\u001b[0m QueueInput/queue_size: 49.869\n",
      "\u001b[32m[1112 12:43:54 @monitor.py:362]\u001b[0m coverage: 2.1426\n",
      "\u001b[32m[1112 12:43:54 @monitor.py:362]\u001b[0m doubly_stochastic_loss: 0.39597\n",
      "\u001b[32m[1112 12:43:54 @monitor.py:362]\u001b[0m learning_rate: 0.0001\n",
      "\u001b[32m[1112 12:43:54 @monitor.py:362]\u001b[0m loss/value: 7.6965\n",
      "\u001b[32m[1112 12:43:54 @monitor.py:362]\u001b[0m macro_auc: 0.85794\n",
      "\u001b[32m[1112 12:43:54 @monitor.py:362]\u001b[0m macro_f1: 0.54629\n",
      "\u001b[32m[1112 12:43:54 @monitor.py:362]\u001b[0m mean_average_precision: 0.56864\n",
      "\u001b[32m[1112 12:43:54 @monitor.py:362]\u001b[0m micro_auc: 0.86193\n",
      "\u001b[32m[1112 12:43:54 @monitor.py:362]\u001b[0m micro_f1: 0.56529\n",
      "\u001b[32m[1112 12:43:54 @monitor.py:362]\u001b[0m one_error: 0.42068\n",
      "\u001b[32m[1112 12:43:54 @monitor.py:362]\u001b[0m ranking_loss: 0.14602\n",
      "\u001b[32m[1112 12:43:54 @monitor.py:362]\u001b[0m ranking_mean_average_precision: 0.70777\n",
      "\u001b[32m[1112 12:43:54 @monitor.py:362]\u001b[0m training_ap: 0.52991\n",
      "\u001b[32m[1112 12:43:54 @monitor.py:362]\u001b[0m training_auc: 0.8264\n",
      "\u001b[32m[1112 12:43:54 @base.py:257]\u001b[0m Start Epoch 126 ...\n"
     ]
    },
    {
     "name": "stderr",
     "output_type": "stream",
     "text": [
      "\n",
      "100%|##########|23/23[00:01<00:00,14.55it/s]"
     ]
    },
    {
     "name": "stdout",
     "output_type": "stream",
     "text": [
      "\u001b[32m[1112 12:43:55 @base.py:267]\u001b[0m Epoch 126 (global_step 2898) finished, time:1.60 sec.\n"
     ]
    },
    {
     "name": "stderr",
     "output_type": "stream",
     "text": [
      "\n",
      "100%|##########|5/5[00:00<00:00, 9.77it/s]"
     ]
    },
    {
     "name": "stdout",
     "output_type": "stream",
     "text": [
      "\u001b[32m[1112 12:43:56 @saver.py:90]\u001b[0m Model saved to train_log/sift-512-hidden-gls-r5/model-2898.\n",
      "\u001b[32m[1112 12:43:56 @monitor.py:362]\u001b[0m DataParallelInferenceRunner/QueueInput/queue_size: 49.912\n",
      "\u001b[32m[1112 12:43:56 @monitor.py:362]\u001b[0m QueueInput/queue_size: 49.85\n",
      "\u001b[32m[1112 12:43:56 @monitor.py:362]\u001b[0m coverage: 2.139\n",
      "\u001b[32m[1112 12:43:56 @monitor.py:362]\u001b[0m doubly_stochastic_loss: 0.50229\n",
      "\u001b[32m[1112 12:43:56 @monitor.py:362]\u001b[0m learning_rate: 0.0001\n",
      "\u001b[32m[1112 12:43:56 @monitor.py:362]\u001b[0m loss/value: 7.4552\n",
      "\u001b[32m[1112 12:43:56 @monitor.py:362]\u001b[0m macro_auc: 0.85679\n",
      "\u001b[32m[1112 12:43:56 @monitor.py:362]\u001b[0m macro_f1: 0.53783\n",
      "\u001b[32m[1112 12:43:56 @monitor.py:362]\u001b[0m mean_average_precision: 0.55982\n",
      "\u001b[32m[1112 12:43:56 @monitor.py:362]\u001b[0m micro_auc: 0.86379\n",
      "\u001b[32m[1112 12:43:56 @monitor.py:362]\u001b[0m micro_f1: 0.56092\n",
      "\u001b[32m[1112 12:43:56 @monitor.py:362]\u001b[0m one_error: 0.42602\n",
      "\u001b[32m[1112 12:43:56 @monitor.py:362]\u001b[0m ranking_loss: 0.14582\n",
      "\u001b[32m[1112 12:43:56 @monitor.py:362]\u001b[0m ranking_mean_average_precision: 0.70821\n",
      "\u001b[32m[1112 12:43:56 @monitor.py:362]\u001b[0m training_ap: 0.53086\n",
      "\u001b[32m[1112 12:43:56 @monitor.py:362]\u001b[0m training_auc: 0.82691\n",
      "\u001b[32m[1112 12:43:56 @base.py:257]\u001b[0m Start Epoch 127 ...\n"
     ]
    },
    {
     "name": "stderr",
     "output_type": "stream",
     "text": [
      "\n",
      "100%|##########|23/23[00:01<00:00,14.36it/s]"
     ]
    },
    {
     "name": "stdout",
     "output_type": "stream",
     "text": [
      "\u001b[32m[1112 12:43:58 @base.py:267]\u001b[0m Epoch 127 (global_step 2921) finished, time:1.61 sec.\n"
     ]
    },
    {
     "name": "stderr",
     "output_type": "stream",
     "text": [
      "\n",
      "100%|##########|5/5[00:00<00:00, 8.78it/s]"
     ]
    },
    {
     "name": "stdout",
     "output_type": "stream",
     "text": [
      "\u001b[32m[1112 12:43:58 @saver.py:90]\u001b[0m Model saved to train_log/sift-512-hidden-gls-r5/model-2921.\n",
      "\u001b[32m[1112 12:43:58 @monitor.py:362]\u001b[0m DataParallelInferenceRunner/QueueInput/queue_size: 49.895\n",
      "\u001b[32m[1112 12:43:58 @monitor.py:362]\u001b[0m QueueInput/queue_size: 49.887\n",
      "\u001b[32m[1112 12:43:58 @monitor.py:362]\u001b[0m coverage: 2.1444\n",
      "\u001b[32m[1112 12:43:58 @monitor.py:362]\u001b[0m doubly_stochastic_loss: 0.32504\n",
      "\u001b[32m[1112 12:43:58 @monitor.py:362]\u001b[0m learning_rate: 0.0001\n",
      "\u001b[32m[1112 12:43:58 @monitor.py:362]\u001b[0m loss/value: 7.4609\n",
      "\u001b[32m[1112 12:43:58 @monitor.py:362]\u001b[0m macro_auc: 0.84955\n",
      "\u001b[32m[1112 12:43:58 @monitor.py:362]\u001b[0m macro_f1: 0.53632\n",
      "\u001b[32m[1112 12:43:58 @monitor.py:362]\u001b[0m mean_average_precision: 0.56486\n",
      "\u001b[32m[1112 12:43:58 @monitor.py:362]\u001b[0m micro_auc: 0.86049\n",
      "\u001b[32m[1112 12:43:58 @monitor.py:362]\u001b[0m micro_f1: 0.5597\n",
      "\u001b[32m[1112 12:43:58 @monitor.py:362]\u001b[0m one_error: 0.4385\n",
      "\u001b[32m[1112 12:43:58 @monitor.py:362]\u001b[0m ranking_loss: 0.14614\n",
      "\u001b[32m[1112 12:43:58 @monitor.py:362]\u001b[0m ranking_mean_average_precision: 0.703\n",
      "\u001b[32m[1112 12:43:58 @monitor.py:362]\u001b[0m training_ap: 0.53181\n",
      "\u001b[32m[1112 12:43:58 @monitor.py:362]\u001b[0m training_auc: 0.8274\n",
      "\u001b[32m[1112 12:43:58 @base.py:257]\u001b[0m Start Epoch 128 ...\n"
     ]
    },
    {
     "name": "stderr",
     "output_type": "stream",
     "text": [
      "\n",
      "100%|##########|23/23[00:01<00:00,14.54it/s]"
     ]
    },
    {
     "name": "stdout",
     "output_type": "stream",
     "text": [
      "\u001b[32m[1112 12:44:00 @base.py:267]\u001b[0m Epoch 128 (global_step 2944) finished, time:1.58 sec.\n"
     ]
    },
    {
     "name": "stderr",
     "output_type": "stream",
     "text": [
      "\n",
      "100%|##########|5/5[00:00<00:00,10.55it/s]"
     ]
    },
    {
     "name": "stdout",
     "output_type": "stream",
     "text": [
      "\u001b[32m[1112 12:44:00 @saver.py:90]\u001b[0m Model saved to train_log/sift-512-hidden-gls-r5/model-2944.\n",
      "\u001b[32m[1112 12:44:00 @monitor.py:362]\u001b[0m DataParallelInferenceRunner/QueueInput/queue_size: 49.923\n",
      "\u001b[32m[1112 12:44:00 @monitor.py:362]\u001b[0m QueueInput/queue_size: 49.947\n",
      "\u001b[32m[1112 12:44:00 @monitor.py:362]\u001b[0m coverage: 2.1765\n",
      "\u001b[32m[1112 12:44:00 @monitor.py:362]\u001b[0m doubly_stochastic_loss: 0.8982\n",
      "\u001b[32m[1112 12:44:00 @monitor.py:362]\u001b[0m learning_rate: 0.0001\n",
      "\u001b[32m[1112 12:44:00 @monitor.py:362]\u001b[0m loss/value: 7.6011\n",
      "\u001b[32m[1112 12:44:00 @monitor.py:362]\u001b[0m macro_auc: 0.84709\n",
      "\u001b[32m[1112 12:44:00 @monitor.py:362]\u001b[0m macro_f1: 0.54\n",
      "\u001b[32m[1112 12:44:00 @monitor.py:362]\u001b[0m mean_average_precision: 0.54996\n",
      "\u001b[32m[1112 12:44:00 @monitor.py:362]\u001b[0m micro_auc: 0.8561\n",
      "\u001b[32m[1112 12:44:00 @monitor.py:362]\u001b[0m micro_f1: 0.56182\n",
      "\u001b[32m[1112 12:44:00 @monitor.py:362]\u001b[0m one_error: 0.4385\n",
      "\u001b[32m[1112 12:44:00 @monitor.py:362]\u001b[0m ranking_loss: 0.15154\n",
      "\u001b[32m[1112 12:44:00 @monitor.py:362]\u001b[0m ranking_mean_average_precision: 0.70032\n",
      "\u001b[32m[1112 12:44:00 @monitor.py:362]\u001b[0m training_ap: 0.5327\n",
      "\u001b[32m[1112 12:44:00 @monitor.py:362]\u001b[0m training_auc: 0.82785\n",
      "\u001b[32m[1112 12:44:00 @base.py:257]\u001b[0m Start Epoch 129 ...\n"
     ]
    },
    {
     "name": "stderr",
     "output_type": "stream",
     "text": [
      "\n",
      "100%|##########|23/23[00:01<00:00,15.28it/s]"
     ]
    },
    {
     "name": "stdout",
     "output_type": "stream",
     "text": [
      "\u001b[32m[1112 12:44:02 @base.py:267]\u001b[0m Epoch 129 (global_step 2967) finished, time:1.51 sec.\n"
     ]
    },
    {
     "name": "stderr",
     "output_type": "stream",
     "text": [
      "\n",
      "100%|##########|5/5[00:00<00:00, 9.10it/s]"
     ]
    },
    {
     "name": "stdout",
     "output_type": "stream",
     "text": [
      "\u001b[32m[1112 12:44:02 @saver.py:90]\u001b[0m Model saved to train_log/sift-512-hidden-gls-r5/model-2967.\n",
      "\u001b[32m[1112 12:44:02 @monitor.py:362]\u001b[0m DataParallelInferenceRunner/QueueInput/queue_size: 49.943\n",
      "\u001b[32m[1112 12:44:02 @monitor.py:362]\u001b[0m QueueInput/queue_size: 49.941\n",
      "\u001b[32m[1112 12:44:02 @monitor.py:362]\u001b[0m coverage: 2.1248\n",
      "\u001b[32m[1112 12:44:02 @monitor.py:362]\u001b[0m doubly_stochastic_loss: 0.72171\n",
      "\u001b[32m[1112 12:44:02 @monitor.py:362]\u001b[0m learning_rate: 0.0001\n",
      "\u001b[32m[1112 12:44:02 @monitor.py:362]\u001b[0m loss/value: 7.6563\n",
      "\u001b[32m[1112 12:44:02 @monitor.py:362]\u001b[0m macro_auc: 0.84994\n",
      "\u001b[32m[1112 12:44:02 @monitor.py:362]\u001b[0m macro_f1: 0.54204\n",
      "\u001b[32m[1112 12:44:02 @monitor.py:362]\u001b[0m mean_average_precision: 0.56669\n",
      "\u001b[32m[1112 12:44:02 @monitor.py:362]\u001b[0m micro_auc: 0.86026\n",
      "\u001b[32m[1112 12:44:02 @monitor.py:362]\u001b[0m micro_f1: 0.56358\n",
      "\u001b[32m[1112 12:44:02 @monitor.py:362]\u001b[0m one_error: 0.42424\n",
      "\u001b[32m[1112 12:44:02 @monitor.py:362]\u001b[0m ranking_loss: 0.14467\n",
      "\u001b[32m[1112 12:44:02 @monitor.py:362]\u001b[0m ranking_mean_average_precision: 0.70869\n",
      "\u001b[32m[1112 12:44:02 @monitor.py:362]\u001b[0m training_ap: 0.53358\n",
      "\u001b[32m[1112 12:44:02 @monitor.py:362]\u001b[0m training_auc: 0.8283\n",
      "\u001b[32m[1112 12:44:02 @base.py:257]\u001b[0m Start Epoch 130 ...\n"
     ]
    },
    {
     "name": "stderr",
     "output_type": "stream",
     "text": [
      "\n",
      "100%|##########|23/23[00:01<00:00,14.15it/s]"
     ]
    },
    {
     "name": "stdout",
     "output_type": "stream",
     "text": [
      "\u001b[32m[1112 12:44:04 @base.py:267]\u001b[0m Epoch 130 (global_step 2990) finished, time:1.61 sec.\n"
     ]
    },
    {
     "name": "stderr",
     "output_type": "stream",
     "text": [
      "\n",
      "100%|##########|5/5[00:00<00:00,11.19it/s]"
     ]
    },
    {
     "name": "stdout",
     "output_type": "stream",
     "text": [
      "\u001b[32m[1112 12:44:05 @saver.py:90]\u001b[0m Model saved to train_log/sift-512-hidden-gls-r5/model-2990.\n",
      "\u001b[32m[1112 12:44:05 @monitor.py:362]\u001b[0m DataParallelInferenceRunner/QueueInput/queue_size: 49.958\n",
      "\u001b[32m[1112 12:44:05 @monitor.py:362]\u001b[0m QueueInput/queue_size: 49.881\n",
      "\u001b[32m[1112 12:44:05 @monitor.py:362]\u001b[0m coverage: 2.1711\n",
      "\u001b[32m[1112 12:44:05 @monitor.py:362]\u001b[0m doubly_stochastic_loss: 0.91497\n",
      "\u001b[32m[1112 12:44:05 @monitor.py:362]\u001b[0m learning_rate: 0.0001\n",
      "\u001b[32m[1112 12:44:05 @monitor.py:362]\u001b[0m loss/value: 7.5916\n",
      "\u001b[32m[1112 12:44:05 @monitor.py:362]\u001b[0m macro_auc: 0.84593\n",
      "\u001b[32m[1112 12:44:05 @monitor.py:362]\u001b[0m macro_f1: 0.53222\n",
      "\u001b[32m[1112 12:44:05 @monitor.py:362]\u001b[0m mean_average_precision: 0.54683\n",
      "\u001b[32m[1112 12:44:05 @monitor.py:362]\u001b[0m micro_auc: 0.85712\n",
      "\u001b[32m[1112 12:44:05 @monitor.py:362]\u001b[0m micro_f1: 0.55829\n",
      "\u001b[32m[1112 12:44:05 @monitor.py:362]\u001b[0m one_error: 0.4385\n",
      "\u001b[32m[1112 12:44:05 @monitor.py:362]\u001b[0m ranking_loss: 0.15099\n",
      "\u001b[32m[1112 12:44:05 @monitor.py:362]\u001b[0m ranking_mean_average_precision: 0.70287\n",
      "\u001b[32m[1112 12:44:05 @monitor.py:362]\u001b[0m training_ap: 0.53444\n",
      "\u001b[32m[1112 12:44:05 @monitor.py:362]\u001b[0m training_auc: 0.82876\n",
      "\u001b[32m[1112 12:44:05 @base.py:257]\u001b[0m Start Epoch 131 ...\n"
     ]
    },
    {
     "name": "stderr",
     "output_type": "stream",
     "text": [
      "\n",
      "100%|##########|23/23[00:01<00:00,14.56it/s]"
     ]
    },
    {
     "name": "stdout",
     "output_type": "stream",
     "text": [
      "\u001b[32m[1112 12:44:06 @base.py:267]\u001b[0m Epoch 131 (global_step 3013) finished, time:1.60 sec.\n"
     ]
    },
    {
     "name": "stderr",
     "output_type": "stream",
     "text": [
      "\n",
      "100%|##########|5/5[00:00<00:00,10.98it/s]"
     ]
    },
    {
     "name": "stdout",
     "output_type": "stream",
     "text": [
      "\u001b[32m[1112 12:44:07 @saver.py:90]\u001b[0m Model saved to train_log/sift-512-hidden-gls-r5/model-3013.\n",
      "\u001b[32m[1112 12:44:07 @monitor.py:362]\u001b[0m DataParallelInferenceRunner/QueueInput/queue_size: 49.929\n",
      "\u001b[32m[1112 12:44:07 @monitor.py:362]\u001b[0m QueueInput/queue_size: 49.908\n",
      "\u001b[32m[1112 12:44:07 @monitor.py:362]\u001b[0m coverage: 2.18\n",
      "\u001b[32m[1112 12:44:07 @monitor.py:362]\u001b[0m doubly_stochastic_loss: 0.76413\n",
      "\u001b[32m[1112 12:44:07 @monitor.py:362]\u001b[0m learning_rate: 0.0001\n",
      "\u001b[32m[1112 12:44:07 @monitor.py:362]\u001b[0m loss/value: 7.5759\n",
      "\u001b[32m[1112 12:44:07 @monitor.py:362]\u001b[0m macro_auc: 0.84214\n",
      "\u001b[32m[1112 12:44:07 @monitor.py:362]\u001b[0m macro_f1: 0.52612\n",
      "\u001b[32m[1112 12:44:07 @monitor.py:362]\u001b[0m mean_average_precision: 0.56202\n",
      "\u001b[32m[1112 12:44:07 @monitor.py:362]\u001b[0m micro_auc: 0.85478\n",
      "\u001b[32m[1112 12:44:07 @monitor.py:362]\u001b[0m micro_f1: 0.55068\n",
      "\u001b[32m[1112 12:44:07 @monitor.py:362]\u001b[0m one_error: 0.42424\n",
      "\u001b[32m[1112 12:44:07 @monitor.py:362]\u001b[0m ranking_loss: 0.14974\n",
      "\u001b[32m[1112 12:44:07 @monitor.py:362]\u001b[0m ranking_mean_average_precision: 0.70574\n",
      "\u001b[32m[1112 12:44:07 @monitor.py:362]\u001b[0m training_ap: 0.5353\n",
      "\u001b[32m[1112 12:44:07 @monitor.py:362]\u001b[0m training_auc: 0.82922\n",
      "\u001b[32m[1112 12:44:07 @base.py:257]\u001b[0m Start Epoch 132 ...\n"
     ]
    },
    {
     "name": "stderr",
     "output_type": "stream",
     "text": [
      "\n",
      "100%|##########|23/23[00:01<00:00,15.13it/s]"
     ]
    },
    {
     "name": "stdout",
     "output_type": "stream",
     "text": [
      "\u001b[32m[1112 12:44:08 @base.py:267]\u001b[0m Epoch 132 (global_step 3036) finished, time:1.52 sec.\n"
     ]
    },
    {
     "name": "stderr",
     "output_type": "stream",
     "text": [
      "\n",
      "100%|##########|5/5[00:00<00:00,10.19it/s]"
     ]
    },
    {
     "name": "stdout",
     "output_type": "stream",
     "text": [
      "\u001b[32m[1112 12:44:09 @saver.py:90]\u001b[0m Model saved to train_log/sift-512-hidden-gls-r5/model-3036.\n",
      "\u001b[32m[1112 12:44:09 @monitor.py:362]\u001b[0m DataParallelInferenceRunner/QueueInput/queue_size: 49.947\n",
      "\u001b[32m[1112 12:44:09 @monitor.py:362]\u001b[0m QueueInput/queue_size: 49.943\n",
      "\u001b[32m[1112 12:44:09 @monitor.py:362]\u001b[0m coverage: 2.1765\n",
      "\u001b[32m[1112 12:44:09 @monitor.py:362]\u001b[0m doubly_stochastic_loss: 0.63087\n",
      "\u001b[32m[1112 12:44:09 @monitor.py:362]\u001b[0m learning_rate: 0.0001\n",
      "\u001b[32m[1112 12:44:09 @monitor.py:362]\u001b[0m loss/value: 7.5501\n",
      "\u001b[32m[1112 12:44:09 @monitor.py:362]\u001b[0m macro_auc: 0.84967\n",
      "\u001b[32m[1112 12:44:09 @monitor.py:362]\u001b[0m macro_f1: 0.5319\n",
      "\u001b[32m[1112 12:44:09 @monitor.py:362]\u001b[0m mean_average_precision: 0.54855\n",
      "\u001b[32m[1112 12:44:09 @monitor.py:362]\u001b[0m micro_auc: 0.85799\n",
      "\u001b[32m[1112 12:44:09 @monitor.py:362]\u001b[0m micro_f1: 0.55767\n",
      "\u001b[32m[1112 12:44:09 @monitor.py:362]\u001b[0m one_error: 0.42424\n",
      "\u001b[32m[1112 12:44:09 @monitor.py:362]\u001b[0m ranking_loss: 0.14933\n",
      "\u001b[32m[1112 12:44:09 @monitor.py:362]\u001b[0m ranking_mean_average_precision: 0.70596\n",
      "\u001b[32m[1112 12:44:09 @monitor.py:362]\u001b[0m training_ap: 0.53612\n",
      "\u001b[32m[1112 12:44:09 @monitor.py:362]\u001b[0m training_auc: 0.82969\n",
      "\u001b[32m[1112 12:44:09 @base.py:257]\u001b[0m Start Epoch 133 ...\n"
     ]
    },
    {
     "name": "stderr",
     "output_type": "stream",
     "text": [
      "\n",
      "100%|##########|23/23[00:01<00:00,14.99it/s]"
     ]
    },
    {
     "name": "stdout",
     "output_type": "stream",
     "text": [
      "\u001b[32m[1112 12:44:10 @base.py:267]\u001b[0m Epoch 133 (global_step 3059) finished, time:1.54 sec.\n"
     ]
    },
    {
     "name": "stderr",
     "output_type": "stream",
     "text": [
      "\n",
      "100%|##########|5/5[00:00<00:00,10.44it/s]"
     ]
    },
    {
     "name": "stdout",
     "output_type": "stream",
     "text": [
      "\u001b[32m[1112 12:44:11 @saver.py:90]\u001b[0m Model saved to train_log/sift-512-hidden-gls-r5/model-3059.\n",
      "\u001b[32m[1112 12:44:11 @monitor.py:362]\u001b[0m DataParallelInferenceRunner/QueueInput/queue_size: 49.921\n",
      "\u001b[32m[1112 12:44:11 @monitor.py:362]\u001b[0m QueueInput/queue_size: 49.916\n",
      "\u001b[32m[1112 12:44:11 @monitor.py:362]\u001b[0m coverage: 2.1301\n",
      "\u001b[32m[1112 12:44:11 @monitor.py:362]\u001b[0m doubly_stochastic_loss: 0.28212\n",
      "\u001b[32m[1112 12:44:11 @monitor.py:362]\u001b[0m learning_rate: 0.0001\n",
      "\u001b[32m[1112 12:44:11 @monitor.py:362]\u001b[0m loss/value: 7.4913\n",
      "\u001b[32m[1112 12:44:11 @monitor.py:362]\u001b[0m macro_auc: 0.85024\n",
      "\u001b[32m[1112 12:44:11 @monitor.py:362]\u001b[0m macro_f1: 0.53768\n",
      "\u001b[32m[1112 12:44:11 @monitor.py:362]\u001b[0m mean_average_precision: 0.55627\n",
      "\u001b[32m[1112 12:44:11 @monitor.py:362]\u001b[0m micro_auc: 0.86223\n",
      "\u001b[32m[1112 12:44:11 @monitor.py:362]\u001b[0m micro_f1: 0.56264\n",
      "\u001b[32m[1112 12:44:11 @monitor.py:362]\u001b[0m one_error: 0.42424\n",
      "\u001b[32m[1112 12:44:11 @monitor.py:362]\u001b[0m ranking_loss: 0.14589\n",
      "\u001b[32m[1112 12:44:11 @monitor.py:362]\u001b[0m ranking_mean_average_precision: 0.70962\n",
      "\u001b[32m[1112 12:44:11 @monitor.py:362]\u001b[0m training_ap: 0.53696\n",
      "\u001b[32m[1112 12:44:11 @monitor.py:362]\u001b[0m training_auc: 0.83013\n",
      "\u001b[32m[1112 12:44:11 @base.py:257]\u001b[0m Start Epoch 134 ...\n"
     ]
    },
    {
     "name": "stderr",
     "output_type": "stream",
     "text": [
      "\n",
      "100%|##########|23/23[00:01<00:00,14.81it/s]"
     ]
    },
    {
     "name": "stdout",
     "output_type": "stream",
     "text": [
      "\u001b[32m[1112 12:44:12 @base.py:267]\u001b[0m Epoch 134 (global_step 3082) finished, time:1.58 sec.\n"
     ]
    },
    {
     "name": "stderr",
     "output_type": "stream",
     "text": [
      "\n",
      "100%|##########|5/5[00:00<00:00,11.61it/s]"
     ]
    },
    {
     "name": "stdout",
     "output_type": "stream",
     "text": [
      "\u001b[32m[1112 12:44:13 @saver.py:90]\u001b[0m Model saved to train_log/sift-512-hidden-gls-r5/model-3082.\n",
      "\u001b[32m[1112 12:44:13 @monitor.py:362]\u001b[0m DataParallelInferenceRunner/QueueInput/queue_size: 49.901\n",
      "\u001b[32m[1112 12:44:13 @monitor.py:362]\u001b[0m QueueInput/queue_size: 49.845\n",
      "\u001b[32m[1112 12:44:13 @monitor.py:362]\u001b[0m coverage: 2.1462\n",
      "\u001b[32m[1112 12:44:13 @monitor.py:362]\u001b[0m doubly_stochastic_loss: 1.4233\n",
      "\u001b[32m[1112 12:44:13 @monitor.py:362]\u001b[0m learning_rate: 0.0001\n",
      "\u001b[32m[1112 12:44:13 @monitor.py:362]\u001b[0m loss/value: 7.574\n",
      "\u001b[32m[1112 12:44:13 @monitor.py:362]\u001b[0m macro_auc: 0.84126\n",
      "\u001b[32m[1112 12:44:13 @monitor.py:362]\u001b[0m macro_f1: 0.52586\n",
      "\u001b[32m[1112 12:44:13 @monitor.py:362]\u001b[0m mean_average_precision: 0.54016\n",
      "\u001b[32m[1112 12:44:13 @monitor.py:362]\u001b[0m micro_auc: 0.85552\n",
      "\u001b[32m[1112 12:44:13 @monitor.py:362]\u001b[0m micro_f1: 0.554\n",
      "\u001b[32m[1112 12:44:13 @monitor.py:362]\u001b[0m one_error: 0.43137\n",
      "\u001b[32m[1112 12:44:13 @monitor.py:362]\u001b[0m ranking_loss: 0.14813\n",
      "\u001b[32m[1112 12:44:13 @monitor.py:362]\u001b[0m ranking_mean_average_precision: 0.70343\n",
      "\u001b[32m[1112 12:44:13 @monitor.py:362]\u001b[0m training_ap: 0.53779\n",
      "\u001b[32m[1112 12:44:13 @monitor.py:362]\u001b[0m training_auc: 0.83056\n",
      "\u001b[32m[1112 12:44:13 @base.py:257]\u001b[0m Start Epoch 135 ...\n"
     ]
    },
    {
     "name": "stderr",
     "output_type": "stream",
     "text": [
      "\n",
      "100%|##########|23/23[00:01<00:00,14.99it/s]"
     ]
    },
    {
     "name": "stdout",
     "output_type": "stream",
     "text": [
      "\u001b[32m[1112 12:44:14 @base.py:267]\u001b[0m Epoch 135 (global_step 3105) finished, time:1.54 sec.\n"
     ]
    },
    {
     "name": "stderr",
     "output_type": "stream",
     "text": [
      "\n",
      "100%|##########|5/5[00:00<00:00, 9.21it/s]"
     ]
    },
    {
     "name": "stdout",
     "output_type": "stream",
     "text": [
      "\u001b[32m[1112 12:44:15 @saver.py:90]\u001b[0m Model saved to train_log/sift-512-hidden-gls-r5/model-3105.\n",
      "\u001b[32m[1112 12:44:15 @monitor.py:362]\u001b[0m DataParallelInferenceRunner/QueueInput/queue_size: 49.886\n",
      "\u001b[32m[1112 12:44:15 @monitor.py:362]\u001b[0m QueueInput/queue_size: 49.912\n",
      "\u001b[32m[1112 12:44:15 @monitor.py:362]\u001b[0m coverage: 2.1854\n",
      "\u001b[32m[1112 12:44:15 @monitor.py:362]\u001b[0m doubly_stochastic_loss: 0.35682\n",
      "\u001b[32m[1112 12:44:15 @monitor.py:362]\u001b[0m learning_rate: 0.0001\n",
      "\u001b[32m[1112 12:44:15 @monitor.py:362]\u001b[0m loss/value: 7.5532\n",
      "\u001b[32m[1112 12:44:15 @monitor.py:362]\u001b[0m macro_auc: 0.84347\n",
      "\u001b[32m[1112 12:44:15 @monitor.py:362]\u001b[0m macro_f1: 0.52996\n",
      "\u001b[32m[1112 12:44:15 @monitor.py:362]\u001b[0m mean_average_precision: 0.54812\n",
      "\u001b[32m[1112 12:44:15 @monitor.py:362]\u001b[0m micro_auc: 0.8578\n",
      "\u001b[32m[1112 12:44:15 @monitor.py:362]\u001b[0m micro_f1: 0.55354\n",
      "\u001b[32m[1112 12:44:15 @monitor.py:362]\u001b[0m one_error: 0.44207\n",
      "\u001b[32m[1112 12:44:15 @monitor.py:362]\u001b[0m ranking_loss: 0.15038\n",
      "\u001b[32m[1112 12:44:15 @monitor.py:362]\u001b[0m ranking_mean_average_precision: 0.69577\n",
      "\u001b[32m[1112 12:44:15 @monitor.py:362]\u001b[0m training_ap: 0.53866\n",
      "\u001b[32m[1112 12:44:15 @monitor.py:362]\u001b[0m training_auc: 0.83102\n",
      "\u001b[32m[1112 12:44:15 @base.py:257]\u001b[0m Start Epoch 136 ...\n"
     ]
    },
    {
     "name": "stderr",
     "output_type": "stream",
     "text": [
      "\n",
      "100%|##########|23/23[00:01<00:00,14.68it/s]"
     ]
    },
    {
     "name": "stdout",
     "output_type": "stream",
     "text": [
      "\u001b[32m[1112 12:44:17 @base.py:267]\u001b[0m Epoch 136 (global_step 3128) finished, time:1.58 sec.\n"
     ]
    },
    {
     "name": "stderr",
     "output_type": "stream",
     "text": [
      "\n",
      "100%|##########|5/5[00:00<00:00,10.45it/s]"
     ]
    },
    {
     "name": "stdout",
     "output_type": "stream",
     "text": [
      "\u001b[32m[1112 12:44:17 @saver.py:90]\u001b[0m Model saved to train_log/sift-512-hidden-gls-r5/model-3128.\n",
      "\u001b[32m[1112 12:44:17 @monitor.py:362]\u001b[0m DataParallelInferenceRunner/QueueInput/queue_size: 49.876\n",
      "\u001b[32m[1112 12:44:17 @monitor.py:362]\u001b[0m QueueInput/queue_size: 49.921\n",
      "\u001b[32m[1112 12:44:17 @monitor.py:362]\u001b[0m coverage: 2.0481\n",
      "\u001b[32m[1112 12:44:17 @monitor.py:362]\u001b[0m doubly_stochastic_loss: 0.94028\n",
      "\u001b[32m[1112 12:44:17 @monitor.py:362]\u001b[0m learning_rate: 0.0001\n",
      "\u001b[32m[1112 12:44:17 @monitor.py:362]\u001b[0m loss/value: 7.5125\n",
      "\u001b[32m[1112 12:44:17 @monitor.py:362]\u001b[0m macro_auc: 0.85834\n",
      "\u001b[32m[1112 12:44:17 @monitor.py:362]\u001b[0m macro_f1: 0.56073\n",
      "\u001b[32m[1112 12:44:17 @monitor.py:362]\u001b[0m mean_average_precision: 0.57547\n",
      "\u001b[32m[1112 12:44:17 @monitor.py:362]\u001b[0m micro_auc: 0.86716\n",
      "\u001b[32m[1112 12:44:17 @monitor.py:362]\u001b[0m micro_f1: 0.57695\n",
      "\u001b[32m[1112 12:44:17 @monitor.py:362]\u001b[0m one_error: 0.40642\n",
      "\u001b[32m[1112 12:44:17 @monitor.py:362]\u001b[0m ranking_loss: 0.13737\n",
      "\u001b[32m[1112 12:44:17 @monitor.py:362]\u001b[0m ranking_mean_average_precision: 0.71998\n",
      "\u001b[32m[1112 12:44:17 @monitor.py:362]\u001b[0m training_ap: 0.53942\n",
      "\u001b[32m[1112 12:44:17 @monitor.py:362]\u001b[0m training_auc: 0.83142\n",
      "\u001b[32m[1112 12:44:17 @base.py:257]\u001b[0m Start Epoch 137 ...\n"
     ]
    },
    {
     "name": "stderr",
     "output_type": "stream",
     "text": [
      "\n",
      "100%|##########|23/23[00:01<00:00,15.24it/s]"
     ]
    },
    {
     "name": "stdout",
     "output_type": "stream",
     "text": [
      "\u001b[32m[1112 12:44:19 @base.py:267]\u001b[0m Epoch 137 (global_step 3151) finished, time:1.51 sec.\n"
     ]
    },
    {
     "name": "stderr",
     "output_type": "stream",
     "text": [
      "\n",
      "100%|##########|5/5[00:00<00:00,10.66it/s]"
     ]
    },
    {
     "name": "stdout",
     "output_type": "stream",
     "text": [
      "\u001b[32m[1112 12:44:19 @saver.py:90]\u001b[0m Model saved to train_log/sift-512-hidden-gls-r5/model-3151.\n",
      "\u001b[32m[1112 12:44:19 @monitor.py:362]\u001b[0m DataParallelInferenceRunner/QueueInput/queue_size: 49.909\n",
      "\u001b[32m[1112 12:44:19 @monitor.py:362]\u001b[0m QueueInput/queue_size: 49.899\n",
      "\u001b[32m[1112 12:44:19 @monitor.py:362]\u001b[0m coverage: 2.0873\n",
      "\u001b[32m[1112 12:44:19 @monitor.py:362]\u001b[0m doubly_stochastic_loss: 0.42346\n",
      "\u001b[32m[1112 12:44:19 @monitor.py:362]\u001b[0m learning_rate: 0.0001\n",
      "\u001b[32m[1112 12:44:19 @monitor.py:362]\u001b[0m loss/value: 7.5158\n",
      "\u001b[32m[1112 12:44:19 @monitor.py:362]\u001b[0m macro_auc: 0.85915\n",
      "\u001b[32m[1112 12:44:19 @monitor.py:362]\u001b[0m macro_f1: 0.5516\n",
      "\u001b[32m[1112 12:44:19 @monitor.py:362]\u001b[0m mean_average_precision: 0.5834\n",
      "\u001b[32m[1112 12:44:19 @monitor.py:362]\u001b[0m micro_auc: 0.86744\n",
      "\u001b[32m[1112 12:44:19 @monitor.py:362]\u001b[0m micro_f1: 0.57134\n",
      "\u001b[32m[1112 12:44:19 @monitor.py:362]\u001b[0m one_error: 0.41889\n",
      "\u001b[32m[1112 12:44:19 @monitor.py:362]\u001b[0m ranking_loss: 0.13995\n",
      "\u001b[32m[1112 12:44:19 @monitor.py:362]\u001b[0m ranking_mean_average_precision: 0.71257\n",
      "\u001b[32m[1112 12:44:19 @monitor.py:362]\u001b[0m training_ap: 0.54025\n",
      "\u001b[32m[1112 12:44:19 @monitor.py:362]\u001b[0m training_auc: 0.83183\n",
      "\u001b[32m[1112 12:44:19 @base.py:257]\u001b[0m Start Epoch 138 ...\n"
     ]
    },
    {
     "name": "stderr",
     "output_type": "stream",
     "text": [
      "\n",
      "100%|##########|23/23[00:01<00:00,14.43it/s]"
     ]
    },
    {
     "name": "stdout",
     "output_type": "stream",
     "text": [
      "\u001b[32m[1112 12:44:21 @base.py:267]\u001b[0m Epoch 138 (global_step 3174) finished, time:1.60 sec.\n"
     ]
    },
    {
     "name": "stderr",
     "output_type": "stream",
     "text": [
      "\n",
      "100%|##########|5/5[00:00<00:00,10.56it/s]"
     ]
    },
    {
     "name": "stdout",
     "output_type": "stream",
     "text": [
      "\u001b[32m[1112 12:44:21 @saver.py:90]\u001b[0m Model saved to train_log/sift-512-hidden-gls-r5/model-3174.\n",
      "\u001b[32m[1112 12:44:21 @monitor.py:362]\u001b[0m DataParallelInferenceRunner/QueueInput/queue_size: 49.933\n",
      "\u001b[32m[1112 12:44:21 @monitor.py:362]\u001b[0m QueueInput/queue_size: 49.858\n",
      "\u001b[32m[1112 12:44:21 @monitor.py:362]\u001b[0m coverage: 2.0481\n",
      "\u001b[32m[1112 12:44:21 @monitor.py:362]\u001b[0m doubly_stochastic_loss: 0.34542\n",
      "\u001b[32m[1112 12:44:21 @monitor.py:362]\u001b[0m learning_rate: 0.0001\n",
      "\u001b[32m[1112 12:44:21 @monitor.py:362]\u001b[0m loss/value: 7.5019\n",
      "\u001b[32m[1112 12:44:21 @monitor.py:362]\u001b[0m macro_auc: 0.85026\n",
      "\u001b[32m[1112 12:44:21 @monitor.py:362]\u001b[0m macro_f1: 0.5518\n",
      "\u001b[32m[1112 12:44:21 @monitor.py:362]\u001b[0m mean_average_precision: 0.56991\n",
      "\u001b[32m[1112 12:44:21 @monitor.py:362]\u001b[0m micro_auc: 0.86316\n",
      "\u001b[32m[1112 12:44:21 @monitor.py:362]\u001b[0m micro_f1: 0.57093\n",
      "\u001b[32m[1112 12:44:21 @monitor.py:362]\u001b[0m one_error: 0.40998\n",
      "\u001b[32m[1112 12:44:21 @monitor.py:362]\u001b[0m ranking_loss: 0.13638\n",
      "\u001b[32m[1112 12:44:21 @monitor.py:362]\u001b[0m ranking_mean_average_precision: 0.71832\n",
      "\u001b[32m[1112 12:44:21 @monitor.py:362]\u001b[0m training_ap: 0.54103\n",
      "\u001b[32m[1112 12:44:21 @monitor.py:362]\u001b[0m training_auc: 0.83225\n",
      "\u001b[32m[1112 12:44:21 @base.py:257]\u001b[0m Start Epoch 139 ...\n"
     ]
    },
    {
     "name": "stderr",
     "output_type": "stream",
     "text": [
      "\n",
      "100%|##########|23/23[00:01<00:00,14.90it/s]"
     ]
    },
    {
     "name": "stdout",
     "output_type": "stream",
     "text": [
      "\u001b[32m[1112 12:44:23 @base.py:267]\u001b[0m Epoch 139 (global_step 3197) finished, time:1.55 sec.\n"
     ]
    },
    {
     "name": "stderr",
     "output_type": "stream",
     "text": [
      "\n",
      "100%|##########|5/5[00:00<00:00, 9.91it/s]"
     ]
    },
    {
     "name": "stdout",
     "output_type": "stream",
     "text": [
      "\u001b[32m[1112 12:44:23 @saver.py:90]\u001b[0m Model saved to train_log/sift-512-hidden-gls-r5/model-3197.\n",
      "\u001b[32m[1112 12:44:23 @monitor.py:362]\u001b[0m DataParallelInferenceRunner/QueueInput/queue_size: 49.951\n",
      "\u001b[32m[1112 12:44:23 @monitor.py:362]\u001b[0m QueueInput/queue_size: 49.885\n",
      "\u001b[32m[1112 12:44:23 @monitor.py:362]\u001b[0m coverage: 2.1604\n",
      "\u001b[32m[1112 12:44:23 @monitor.py:362]\u001b[0m doubly_stochastic_loss: 0.47848\n",
      "\u001b[32m[1112 12:44:23 @monitor.py:362]\u001b[0m learning_rate: 0.0001\n",
      "\u001b[32m[1112 12:44:23 @monitor.py:362]\u001b[0m loss/value: 7.4348\n",
      "\u001b[32m[1112 12:44:23 @monitor.py:362]\u001b[0m macro_auc: 0.85462\n",
      "\u001b[32m[1112 12:44:23 @monitor.py:362]\u001b[0m macro_f1: 0.54472\n",
      "\u001b[32m[1112 12:44:23 @monitor.py:362]\u001b[0m mean_average_precision: 0.54991\n",
      "\u001b[32m[1112 12:44:23 @monitor.py:362]\u001b[0m micro_auc: 0.86295\n",
      "\u001b[32m[1112 12:44:23 @monitor.py:362]\u001b[0m micro_f1: 0.56991\n",
      "\u001b[32m[1112 12:44:24 @monitor.py:362]\u001b[0m one_error: 0.41889\n",
      "\u001b[32m[1112 12:44:24 @monitor.py:362]\u001b[0m ranking_loss: 0.14753\n",
      "\u001b[32m[1112 12:44:24 @monitor.py:362]\u001b[0m ranking_mean_average_precision: 0.70814\n",
      "\u001b[32m[1112 12:44:24 @monitor.py:362]\u001b[0m training_ap: 0.54188\n",
      "\u001b[32m[1112 12:44:24 @monitor.py:362]\u001b[0m training_auc: 0.83268\n",
      "\u001b[32m[1112 12:44:24 @base.py:257]\u001b[0m Start Epoch 140 ...\n"
     ]
    },
    {
     "name": "stderr",
     "output_type": "stream",
     "text": [
      "\n",
      "100%|##########|23/23[00:01<00:00,14.68it/s]"
     ]
    },
    {
     "name": "stdout",
     "output_type": "stream",
     "text": [
      "\u001b[32m[1112 12:44:25 @base.py:267]\u001b[0m Epoch 140 (global_step 3220) finished, time:1.57 sec.\n"
     ]
    },
    {
     "name": "stderr",
     "output_type": "stream",
     "text": [
      "\n",
      "100%|##########|5/5[00:00<00:00,11.57it/s]"
     ]
    },
    {
     "name": "stdout",
     "output_type": "stream",
     "text": [
      "\u001b[32m[1112 12:44:26 @saver.py:90]\u001b[0m Model saved to train_log/sift-512-hidden-gls-r5/model-3220.\n",
      "\u001b[32m[1112 12:44:26 @monitor.py:362]\u001b[0m DataParallelInferenceRunner/QueueInput/queue_size: 49.964\n",
      "\u001b[32m[1112 12:44:26 @monitor.py:362]\u001b[0m QueueInput/queue_size: 49.827\n",
      "\u001b[32m[1112 12:44:26 @monitor.py:362]\u001b[0m coverage: 2.1533\n",
      "\u001b[32m[1112 12:44:26 @monitor.py:362]\u001b[0m doubly_stochastic_loss: 0.50774\n",
      "\u001b[32m[1112 12:44:26 @monitor.py:362]\u001b[0m learning_rate: 0.0001\n",
      "\u001b[32m[1112 12:44:26 @monitor.py:362]\u001b[0m loss/value: 7.4394\n",
      "\u001b[32m[1112 12:44:26 @monitor.py:362]\u001b[0m macro_auc: 0.85747\n",
      "\u001b[32m[1112 12:44:26 @monitor.py:362]\u001b[0m macro_f1: 0.54849\n",
      "\u001b[32m[1112 12:44:26 @monitor.py:362]\u001b[0m mean_average_precision: 0.56269\n",
      "\u001b[32m[1112 12:44:26 @monitor.py:362]\u001b[0m micro_auc: 0.86679\n",
      "\u001b[32m[1112 12:44:26 @monitor.py:362]\u001b[0m micro_f1: 0.56919\n",
      "\u001b[32m[1112 12:44:26 @monitor.py:362]\u001b[0m one_error: 0.42424\n",
      "\u001b[32m[1112 12:44:26 @monitor.py:362]\u001b[0m ranking_loss: 0.14569\n",
      "\u001b[32m[1112 12:44:26 @monitor.py:362]\u001b[0m ranking_mean_average_precision: 0.70982\n",
      "\u001b[32m[1112 12:44:26 @monitor.py:362]\u001b[0m training_ap: 0.54271\n",
      "\u001b[32m[1112 12:44:26 @monitor.py:362]\u001b[0m training_auc: 0.83308\n",
      "\u001b[32m[1112 12:44:26 @base.py:257]\u001b[0m Start Epoch 141 ...\n"
     ]
    },
    {
     "name": "stderr",
     "output_type": "stream",
     "text": [
      "\n",
      "100%|##########|23/23[00:01<00:00,15.19it/s]"
     ]
    },
    {
     "name": "stdout",
     "output_type": "stream",
     "text": [
      "\u001b[32m[1112 12:44:27 @base.py:267]\u001b[0m Epoch 141 (global_step 3243) finished, time:1.52 sec.\n"
     ]
    },
    {
     "name": "stderr",
     "output_type": "stream",
     "text": [
      "\n",
      "100%|##########|5/5[00:00<00:00,10.27it/s]"
     ]
    },
    {
     "name": "stdout",
     "output_type": "stream",
     "text": [
      "\u001b[32m[1112 12:44:28 @saver.py:90]\u001b[0m Model saved to train_log/sift-512-hidden-gls-r5/model-3243.\n",
      "\u001b[32m[1112 12:44:28 @monitor.py:362]\u001b[0m DataParallelInferenceRunner/QueueInput/queue_size: 49.973\n",
      "\u001b[32m[1112 12:44:28 @monitor.py:362]\u001b[0m QueueInput/queue_size: 49.699\n",
      "\u001b[32m[1112 12:44:28 @monitor.py:362]\u001b[0m coverage: 2.1765\n",
      "\u001b[32m[1112 12:44:28 @monitor.py:362]\u001b[0m doubly_stochastic_loss: 1.5428\n",
      "\u001b[32m[1112 12:44:28 @monitor.py:362]\u001b[0m learning_rate: 0.0001\n",
      "\u001b[32m[1112 12:44:28 @monitor.py:362]\u001b[0m loss/value: 7.5163\n",
      "\u001b[32m[1112 12:44:28 @monitor.py:362]\u001b[0m macro_auc: 0.85237\n",
      "\u001b[32m[1112 12:44:28 @monitor.py:362]\u001b[0m macro_f1: 0.53103\n",
      "\u001b[32m[1112 12:44:28 @monitor.py:362]\u001b[0m mean_average_precision: 0.55096\n",
      "\u001b[32m[1112 12:44:28 @monitor.py:362]\u001b[0m micro_auc: 0.85947\n",
      "\u001b[32m[1112 12:44:28 @monitor.py:362]\u001b[0m micro_f1: 0.55673\n",
      "\u001b[32m[1112 12:44:28 @monitor.py:362]\u001b[0m one_error: 0.42602\n",
      "\u001b[32m[1112 12:44:28 @monitor.py:362]\u001b[0m ranking_loss: 0.14909\n",
      "\u001b[32m[1112 12:44:28 @monitor.py:362]\u001b[0m ranking_mean_average_precision: 0.70665\n",
      "\u001b[32m[1112 12:44:28 @monitor.py:362]\u001b[0m training_ap: 0.54347\n",
      "\u001b[32m[1112 12:44:28 @monitor.py:362]\u001b[0m training_auc: 0.83348\n",
      "\u001b[32m[1112 12:44:28 @base.py:257]\u001b[0m Start Epoch 142 ...\n"
     ]
    },
    {
     "name": "stderr",
     "output_type": "stream",
     "text": [
      "\n",
      "100%|##########|23/23[00:01<00:00,14.96it/s]"
     ]
    },
    {
     "name": "stdout",
     "output_type": "stream",
     "text": [
      "\u001b[32m[1112 12:44:29 @base.py:267]\u001b[0m Epoch 142 (global_step 3266) finished, time:1.54 sec.\n"
     ]
    },
    {
     "name": "stderr",
     "output_type": "stream",
     "text": [
      "\n",
      "100%|##########|5/5[00:00<00:00, 9.98it/s]"
     ]
    },
    {
     "name": "stdout",
     "output_type": "stream",
     "text": [
      "\u001b[32m[1112 12:44:30 @saver.py:90]\u001b[0m Model saved to train_log/sift-512-hidden-gls-r5/model-3266.\n",
      "\u001b[32m[1112 12:44:30 @monitor.py:362]\u001b[0m DataParallelInferenceRunner/QueueInput/queue_size: 49.94\n",
      "\u001b[32m[1112 12:44:30 @monitor.py:362]\u001b[0m QueueInput/queue_size: 49.844\n",
      "\u001b[32m[1112 12:44:30 @monitor.py:362]\u001b[0m coverage: 2.148\n",
      "\u001b[32m[1112 12:44:30 @monitor.py:362]\u001b[0m doubly_stochastic_loss: 0.30211\n",
      "\u001b[32m[1112 12:44:30 @monitor.py:362]\u001b[0m learning_rate: 0.0001\n",
      "\u001b[32m[1112 12:44:30 @monitor.py:362]\u001b[0m loss/value: 7.4482\n",
      "\u001b[32m[1112 12:44:30 @monitor.py:362]\u001b[0m macro_auc: 0.8474\n",
      "\u001b[32m[1112 12:44:30 @monitor.py:362]\u001b[0m macro_f1: 0.53172\n",
      "\u001b[32m[1112 12:44:30 @monitor.py:362]\u001b[0m mean_average_precision: 0.54953\n",
      "\u001b[32m[1112 12:44:30 @monitor.py:362]\u001b[0m micro_auc: 0.85572\n",
      "\u001b[32m[1112 12:44:30 @monitor.py:362]\u001b[0m micro_f1: 0.55499\n",
      "\u001b[32m[1112 12:44:30 @monitor.py:362]\u001b[0m one_error: 0.43137\n",
      "\u001b[32m[1112 12:44:30 @monitor.py:362]\u001b[0m ranking_loss: 0.14899\n",
      "\u001b[32m[1112 12:44:30 @monitor.py:362]\u001b[0m ranking_mean_average_precision: 0.70337\n",
      "\u001b[32m[1112 12:44:30 @monitor.py:362]\u001b[0m training_ap: 0.54428\n",
      "\u001b[32m[1112 12:44:30 @monitor.py:362]\u001b[0m training_auc: 0.83387\n",
      "\u001b[32m[1112 12:44:30 @base.py:257]\u001b[0m Start Epoch 143 ...\n"
     ]
    },
    {
     "name": "stderr",
     "output_type": "stream",
     "text": [
      "\n",
      "100%|##########|23/23[00:01<00:00,14.23it/s]"
     ]
    },
    {
     "name": "stdout",
     "output_type": "stream",
     "text": [
      "\u001b[32m[1112 12:44:31 @base.py:267]\u001b[0m Epoch 143 (global_step 3289) finished, time:1.62 sec.\n"
     ]
    },
    {
     "name": "stderr",
     "output_type": "stream",
     "text": [
      "\n",
      "100%|##########|5/5[00:00<00:00,10.04it/s]"
     ]
    },
    {
     "name": "stdout",
     "output_type": "stream",
     "text": [
      "\u001b[32m[1112 12:44:32 @saver.py:90]\u001b[0m Model saved to train_log/sift-512-hidden-gls-r5/model-3289.\n",
      "\u001b[32m[1112 12:44:32 @monitor.py:362]\u001b[0m DataParallelInferenceRunner/QueueInput/queue_size: 49.956\n",
      "\u001b[32m[1112 12:44:32 @monitor.py:362]\u001b[0m QueueInput/queue_size: 49.907\n",
      "\u001b[32m[1112 12:44:32 @monitor.py:362]\u001b[0m coverage: 2.1444\n",
      "\u001b[32m[1112 12:44:32 @monitor.py:362]\u001b[0m doubly_stochastic_loss: 0.70318\n",
      "\u001b[32m[1112 12:44:32 @monitor.py:362]\u001b[0m learning_rate: 0.0001\n",
      "\u001b[32m[1112 12:44:32 @monitor.py:362]\u001b[0m loss/value: 7.4598\n",
      "\u001b[32m[1112 12:44:32 @monitor.py:362]\u001b[0m macro_auc: 0.84487\n",
      "\u001b[32m[1112 12:44:32 @monitor.py:362]\u001b[0m macro_f1: 0.53361\n",
      "\u001b[32m[1112 12:44:32 @monitor.py:362]\u001b[0m mean_average_precision: 0.55116\n",
      "\u001b[32m[1112 12:44:32 @monitor.py:362]\u001b[0m micro_auc: 0.85744\n",
      "\u001b[32m[1112 12:44:32 @monitor.py:362]\u001b[0m micro_f1: 0.55627\n",
      "\u001b[32m[1112 12:44:32 @monitor.py:362]\u001b[0m one_error: 0.41889\n",
      "\u001b[32m[1112 12:44:32 @monitor.py:362]\u001b[0m ranking_loss: 0.15029\n",
      "\u001b[32m[1112 12:44:32 @monitor.py:362]\u001b[0m ranking_mean_average_precision: 0.70759\n",
      "\u001b[32m[1112 12:44:32 @monitor.py:362]\u001b[0m training_ap: 0.54506\n",
      "\u001b[32m[1112 12:44:32 @monitor.py:362]\u001b[0m training_auc: 0.83426\n",
      "\u001b[32m[1112 12:44:32 @base.py:257]\u001b[0m Start Epoch 144 ...\n"
     ]
    },
    {
     "name": "stderr",
     "output_type": "stream",
     "text": [
      "\n",
      "100%|##########|23/23[00:01<00:00,15.03it/s]"
     ]
    },
    {
     "name": "stdout",
     "output_type": "stream",
     "text": [
      "\u001b[32m[1112 12:44:33 @base.py:267]\u001b[0m Epoch 144 (global_step 3312) finished, time:1.53 sec.\n"
     ]
    },
    {
     "name": "stderr",
     "output_type": "stream",
     "text": [
      "\n",
      "100%|##########|5/5[00:00<00:00,10.29it/s]"
     ]
    },
    {
     "name": "stdout",
     "output_type": "stream",
     "text": [
      "\u001b[32m[1112 12:44:34 @saver.py:90]\u001b[0m Model saved to train_log/sift-512-hidden-gls-r5/model-3312.\n",
      "\u001b[32m[1112 12:44:34 @monitor.py:362]\u001b[0m DataParallelInferenceRunner/QueueInput/queue_size: 49.967\n",
      "\u001b[32m[1112 12:44:34 @monitor.py:362]\u001b[0m QueueInput/queue_size: 49.91\n",
      "\u001b[32m[1112 12:44:34 @monitor.py:362]\u001b[0m coverage: 2.1693\n",
      "\u001b[32m[1112 12:44:34 @monitor.py:362]\u001b[0m doubly_stochastic_loss: 0.80147\n",
      "\u001b[32m[1112 12:44:34 @monitor.py:362]\u001b[0m learning_rate: 0.0001\n",
      "\u001b[32m[1112 12:44:34 @monitor.py:362]\u001b[0m loss/value: 7.534\n",
      "\u001b[32m[1112 12:44:34 @monitor.py:362]\u001b[0m macro_auc: 0.85206\n",
      "\u001b[32m[1112 12:44:34 @monitor.py:362]\u001b[0m macro_f1: 0.53421\n",
      "\u001b[32m[1112 12:44:34 @monitor.py:362]\u001b[0m mean_average_precision: 0.56821\n",
      "\u001b[32m[1112 12:44:34 @monitor.py:362]\u001b[0m micro_auc: 0.85995\n",
      "\u001b[32m[1112 12:44:34 @monitor.py:362]\u001b[0m micro_f1: 0.559\n",
      "\u001b[32m[1112 12:44:34 @monitor.py:362]\u001b[0m one_error: 0.44563\n",
      "\u001b[32m[1112 12:44:34 @monitor.py:362]\u001b[0m ranking_loss: 0.15118\n",
      "\u001b[32m[1112 12:44:34 @monitor.py:362]\u001b[0m ranking_mean_average_precision: 0.69863\n",
      "\u001b[32m[1112 12:44:34 @monitor.py:362]\u001b[0m training_ap: 0.5458\n",
      "\u001b[32m[1112 12:44:34 @monitor.py:362]\u001b[0m training_auc: 0.83464\n",
      "\u001b[32m[1112 12:44:34 @base.py:257]\u001b[0m Start Epoch 145 ...\n"
     ]
    },
    {
     "name": "stderr",
     "output_type": "stream",
     "text": [
      "\n",
      "100%|##########|23/23[00:01<00:00,14.71it/s]"
     ]
    },
    {
     "name": "stdout",
     "output_type": "stream",
     "text": [
      "\u001b[32m[1112 12:44:36 @base.py:267]\u001b[0m Epoch 145 (global_step 3335) finished, time:1.57 sec.\n"
     ]
    },
    {
     "name": "stderr",
     "output_type": "stream",
     "text": [
      "\n",
      "100%|##########|5/5[00:00<00:00,11.39it/s]"
     ]
    },
    {
     "name": "stdout",
     "output_type": "stream",
     "text": [
      "\u001b[32m[1112 12:44:36 @saver.py:90]\u001b[0m Model saved to train_log/sift-512-hidden-gls-r5/model-3335.\n",
      "\u001b[32m[1112 12:44:36 @monitor.py:362]\u001b[0m DataParallelInferenceRunner/QueueInput/queue_size: 49.935\n",
      "\u001b[32m[1112 12:44:36 @monitor.py:362]\u001b[0m QueueInput/queue_size: 49.918\n",
      "\u001b[32m[1112 12:44:36 @monitor.py:362]\u001b[0m coverage: 2.0713\n",
      "\u001b[32m[1112 12:44:36 @monitor.py:362]\u001b[0m doubly_stochastic_loss: 0.63062\n",
      "\u001b[32m[1112 12:44:36 @monitor.py:362]\u001b[0m learning_rate: 0.0001\n",
      "\u001b[32m[1112 12:44:36 @monitor.py:362]\u001b[0m loss/value: 7.4334\n",
      "\u001b[32m[1112 12:44:36 @monitor.py:362]\u001b[0m macro_auc: 0.86389\n",
      "\u001b[32m[1112 12:44:36 @monitor.py:362]\u001b[0m macro_f1: 0.54556\n",
      "\u001b[32m[1112 12:44:36 @monitor.py:362]\u001b[0m mean_average_precision: 0.57278\n",
      "\u001b[32m[1112 12:44:36 @monitor.py:362]\u001b[0m micro_auc: 0.86959\n",
      "\u001b[32m[1112 12:44:36 @monitor.py:362]\u001b[0m micro_f1: 0.56549\n",
      "\u001b[32m[1112 12:44:36 @monitor.py:362]\u001b[0m one_error: 0.4082\n",
      "\u001b[32m[1112 12:44:36 @monitor.py:362]\u001b[0m ranking_loss: 0.13929\n",
      "\u001b[32m[1112 12:44:36 @monitor.py:362]\u001b[0m ranking_mean_average_precision: 0.71869\n",
      "\u001b[32m[1112 12:44:36 @monitor.py:362]\u001b[0m training_ap: 0.54664\n",
      "\u001b[32m[1112 12:44:36 @monitor.py:362]\u001b[0m training_auc: 0.83506\n",
      "\u001b[32m[1112 12:44:36 @base.py:257]\u001b[0m Start Epoch 146 ...\n"
     ]
    },
    {
     "name": "stderr",
     "output_type": "stream",
     "text": [
      "\n",
      "100%|##########|23/23[00:01<00:00,15.24it/s]"
     ]
    },
    {
     "name": "stdout",
     "output_type": "stream",
     "text": [
      "\u001b[32m[1112 12:44:38 @base.py:267]\u001b[0m Epoch 146 (global_step 3358) finished, time:1.51 sec.\n"
     ]
    },
    {
     "name": "stderr",
     "output_type": "stream",
     "text": [
      "\n",
      "100%|##########|5/5[00:00<00:00,11.17it/s]"
     ]
    },
    {
     "name": "stdout",
     "output_type": "stream",
     "text": [
      "\u001b[32m[1112 12:44:38 @saver.py:90]\u001b[0m Model saved to train_log/sift-512-hidden-gls-r5/model-3358.\n",
      "\u001b[32m[1112 12:44:38 @monitor.py:362]\u001b[0m DataParallelInferenceRunner/QueueInput/queue_size: 49.952\n",
      "\u001b[32m[1112 12:44:38 @monitor.py:362]\u001b[0m QueueInput/queue_size: 49.935\n",
      "\u001b[32m[1112 12:44:38 @monitor.py:362]\u001b[0m coverage: 2.2068\n",
      "\u001b[32m[1112 12:44:38 @monitor.py:362]\u001b[0m doubly_stochastic_loss: 0.75874\n",
      "\u001b[32m[1112 12:44:38 @monitor.py:362]\u001b[0m learning_rate: 0.0001\n",
      "\u001b[32m[1112 12:44:38 @monitor.py:362]\u001b[0m loss/value: 7.3965\n",
      "\u001b[32m[1112 12:44:38 @monitor.py:362]\u001b[0m macro_auc: 0.8369\n",
      "\u001b[32m[1112 12:44:38 @monitor.py:362]\u001b[0m macro_f1: 0.5202\n",
      "\u001b[32m[1112 12:44:38 @monitor.py:362]\u001b[0m mean_average_precision: 0.53029\n",
      "\u001b[32m[1112 12:44:38 @monitor.py:362]\u001b[0m micro_auc: 0.85065\n",
      "\u001b[32m[1112 12:44:38 @monitor.py:362]\u001b[0m micro_f1: 0.54675\n",
      "\u001b[32m[1112 12:44:38 @monitor.py:362]\u001b[0m one_error: 0.42781\n",
      "\u001b[32m[1112 12:44:38 @monitor.py:362]\u001b[0m ranking_loss: 0.15319\n",
      "\u001b[32m[1112 12:44:38 @monitor.py:362]\u001b[0m ranking_mean_average_precision: 0.70263\n",
      "\u001b[32m[1112 12:44:38 @monitor.py:362]\u001b[0m training_ap: 0.54743\n",
      "\u001b[32m[1112 12:44:38 @monitor.py:362]\u001b[0m training_auc: 0.83544\n",
      "\u001b[32m[1112 12:44:38 @base.py:257]\u001b[0m Start Epoch 147 ...\n"
     ]
    },
    {
     "name": "stderr",
     "output_type": "stream",
     "text": [
      "\n",
      "100%|##########|23/23[00:01<00:00,13.94it/s]"
     ]
    },
    {
     "name": "stdout",
     "output_type": "stream",
     "text": [
      "\u001b[32m[1112 12:44:40 @base.py:267]\u001b[0m Epoch 147 (global_step 3381) finished, time:1.65 sec.\n"
     ]
    },
    {
     "name": "stderr",
     "output_type": "stream",
     "text": [
      "\n",
      "100%|##########|5/5[00:00<00:00,10.18it/s]"
     ]
    },
    {
     "name": "stdout",
     "output_type": "stream",
     "text": [
      "\u001b[32m[1112 12:44:40 @saver.py:90]\u001b[0m Model saved to train_log/sift-512-hidden-gls-r5/model-3381.\n",
      "\u001b[32m[1112 12:44:40 @monitor.py:362]\u001b[0m DataParallelInferenceRunner/QueueInput/queue_size: 49.965\n",
      "\u001b[32m[1112 12:44:40 @monitor.py:362]\u001b[0m QueueInput/queue_size: 49.889\n",
      "\u001b[32m[1112 12:44:40 @monitor.py:362]\u001b[0m coverage: 2.1408\n",
      "\u001b[32m[1112 12:44:40 @monitor.py:362]\u001b[0m doubly_stochastic_loss: 1.2829\n",
      "\u001b[32m[1112 12:44:40 @monitor.py:362]\u001b[0m learning_rate: 0.0001\n",
      "\u001b[32m[1112 12:44:40 @monitor.py:362]\u001b[0m loss/value: 7.4089\n",
      "\u001b[32m[1112 12:44:40 @monitor.py:362]\u001b[0m macro_auc: 0.85447\n",
      "\u001b[32m[1112 12:44:40 @monitor.py:362]\u001b[0m macro_f1: 0.54378\n",
      "\u001b[32m[1112 12:44:40 @monitor.py:362]\u001b[0m mean_average_precision: 0.55663\n",
      "\u001b[32m[1112 12:44:40 @monitor.py:362]\u001b[0m micro_auc: 0.8627\n",
      "\u001b[32m[1112 12:44:40 @monitor.py:362]\u001b[0m micro_f1: 0.56257\n",
      "\u001b[32m[1112 12:44:40 @monitor.py:362]\u001b[0m one_error: 0.42424\n",
      "\u001b[32m[1112 12:44:40 @monitor.py:362]\u001b[0m ranking_loss: 0.14475\n",
      "\u001b[32m[1112 12:44:40 @monitor.py:362]\u001b[0m ranking_mean_average_precision: 0.70898\n",
      "\u001b[32m[1112 12:44:40 @monitor.py:362]\u001b[0m training_ap: 0.54825\n",
      "\u001b[32m[1112 12:44:40 @monitor.py:362]\u001b[0m training_auc: 0.83585\n",
      "\u001b[32m[1112 12:44:40 @base.py:257]\u001b[0m Start Epoch 148 ...\n"
     ]
    },
    {
     "name": "stderr",
     "output_type": "stream",
     "text": [
      "\n",
      "100%|##########|23/23[00:01<00:00,15.07it/s]"
     ]
    },
    {
     "name": "stdout",
     "output_type": "stream",
     "text": [
      "\u001b[32m[1112 12:44:42 @base.py:267]\u001b[0m Epoch 148 (global_step 3404) finished, time:1.53 sec.\n"
     ]
    },
    {
     "name": "stderr",
     "output_type": "stream",
     "text": [
      "\n",
      "100%|##########|5/5[00:00<00:00,10.29it/s]"
     ]
    },
    {
     "name": "stdout",
     "output_type": "stream",
     "text": [
      "\u001b[32m[1112 12:44:42 @saver.py:90]\u001b[0m Model saved to train_log/sift-512-hidden-gls-r5/model-3404.\n",
      "\u001b[32m[1112 12:44:42 @monitor.py:362]\u001b[0m DataParallelInferenceRunner/QueueInput/queue_size: 49.974\n",
      "\u001b[32m[1112 12:44:42 @monitor.py:362]\u001b[0m QueueInput/queue_size: 49.906\n",
      "\u001b[32m[1112 12:44:42 @monitor.py:362]\u001b[0m coverage: 2.2478\n",
      "\u001b[32m[1112 12:44:42 @monitor.py:362]\u001b[0m doubly_stochastic_loss: 0.81928\n",
      "\u001b[32m[1112 12:44:42 @monitor.py:362]\u001b[0m learning_rate: 0.0001\n",
      "\u001b[32m[1112 12:44:42 @monitor.py:362]\u001b[0m loss/value: 7.3857\n",
      "\u001b[32m[1112 12:44:42 @monitor.py:362]\u001b[0m macro_auc: 0.84051\n",
      "\u001b[32m[1112 12:44:42 @monitor.py:362]\u001b[0m macro_f1: 0.51728\n",
      "\u001b[32m[1112 12:44:42 @monitor.py:362]\u001b[0m mean_average_precision: 0.55084\n",
      "\u001b[32m[1112 12:44:42 @monitor.py:362]\u001b[0m micro_auc: 0.85028\n",
      "\u001b[32m[1112 12:44:42 @monitor.py:362]\u001b[0m micro_f1: 0.54205\n",
      "\u001b[32m[1112 12:44:42 @monitor.py:362]\u001b[0m one_error: 0.45098\n",
      "\u001b[32m[1112 12:44:42 @monitor.py:362]\u001b[0m ranking_loss: 0.1566\n",
      "\u001b[32m[1112 12:44:42 @monitor.py:362]\u001b[0m ranking_mean_average_precision: 0.69052\n",
      "\u001b[32m[1112 12:44:42 @monitor.py:362]\u001b[0m training_ap: 0.54899\n",
      "\u001b[32m[1112 12:44:42 @monitor.py:362]\u001b[0m training_auc: 0.83624\n",
      "\u001b[32m[1112 12:44:42 @base.py:257]\u001b[0m Start Epoch 149 ...\n"
     ]
    },
    {
     "name": "stderr",
     "output_type": "stream",
     "text": [
      "\n",
      "100%|##########|23/23[00:01<00:00,15.60it/s]"
     ]
    },
    {
     "name": "stdout",
     "output_type": "stream",
     "text": [
      "\u001b[32m[1112 12:44:44 @base.py:267]\u001b[0m Epoch 149 (global_step 3427) finished, time:1.48 sec.\n"
     ]
    },
    {
     "name": "stderr",
     "output_type": "stream",
     "text": [
      "\n",
      "100%|##########|5/5[00:00<00:00, 8.88it/s]"
     ]
    },
    {
     "name": "stdout",
     "output_type": "stream",
     "text": [
      "\u001b[32m[1112 12:44:44 @saver.py:90]\u001b[0m Model saved to train_log/sift-512-hidden-gls-r5/model-3427.\n",
      "\u001b[32m[1112 12:44:44 @monitor.py:362]\u001b[0m DataParallelInferenceRunner/QueueInput/queue_size: 49.981\n",
      "\u001b[32m[1112 12:44:44 @monitor.py:362]\u001b[0m QueueInput/queue_size: 49.91\n",
      "\u001b[32m[1112 12:44:44 @monitor.py:362]\u001b[0m coverage: 2.1123\n",
      "\u001b[32m[1112 12:44:44 @monitor.py:362]\u001b[0m doubly_stochastic_loss: 0.69926\n",
      "\u001b[32m[1112 12:44:44 @monitor.py:362]\u001b[0m learning_rate: 0.0001\n",
      "\u001b[32m[1112 12:44:44 @monitor.py:362]\u001b[0m loss/value: 7.4097\n",
      "\u001b[32m[1112 12:44:44 @monitor.py:362]\u001b[0m macro_auc: 0.8528\n",
      "\u001b[32m[1112 12:44:44 @monitor.py:362]\u001b[0m macro_f1: 0.53721\n",
      "\u001b[32m[1112 12:44:44 @monitor.py:362]\u001b[0m mean_average_precision: 0.55234\n",
      "\u001b[32m[1112 12:44:44 @monitor.py:362]\u001b[0m micro_auc: 0.86216\n",
      "\u001b[32m[1112 12:44:44 @monitor.py:362]\u001b[0m micro_f1: 0.56415\n",
      "\u001b[32m[1112 12:44:44 @monitor.py:362]\u001b[0m one_error: 0.39394\n",
      "\u001b[32m[1112 12:44:44 @monitor.py:362]\u001b[0m ranking_loss: 0.14211\n",
      "\u001b[32m[1112 12:44:44 @monitor.py:362]\u001b[0m ranking_mean_average_precision: 0.71898\n",
      "\u001b[32m[1112 12:44:44 @monitor.py:362]\u001b[0m training_ap: 0.54977\n",
      "\u001b[32m[1112 12:44:44 @monitor.py:362]\u001b[0m training_auc: 0.83662\n",
      "\u001b[32m[1112 12:44:44 @base.py:257]\u001b[0m Start Epoch 150 ...\n"
     ]
    },
    {
     "name": "stderr",
     "output_type": "stream",
     "text": [
      "\n",
      "100%|##########|23/23[00:01<00:00,15.41it/s]"
     ]
    },
    {
     "name": "stdout",
     "output_type": "stream",
     "text": [
      "\u001b[32m[1112 12:44:46 @base.py:267]\u001b[0m Epoch 150 (global_step 3450) finished, time:1.50 sec.\n"
     ]
    },
    {
     "name": "stderr",
     "output_type": "stream",
     "text": [
      "\n",
      "100%|##########|5/5[00:00<00:00, 8.80it/s]"
     ]
    },
    {
     "name": "stdout",
     "output_type": "stream",
     "text": [
      "\u001b[32m[1112 12:44:47 @saver.py:90]\u001b[0m Model saved to train_log/sift-512-hidden-gls-r5/model-3450.\n",
      "\u001b[32m[1112 12:44:47 @monitor.py:362]\u001b[0m DataParallelInferenceRunner/QueueInput/queue_size: 49.986\n",
      "\u001b[32m[1112 12:44:47 @monitor.py:362]\u001b[0m QueueInput/queue_size: 49.851\n",
      "\u001b[32m[1112 12:44:47 @monitor.py:362]\u001b[0m coverage: 2.1052\n",
      "\u001b[32m[1112 12:44:47 @monitor.py:362]\u001b[0m doubly_stochastic_loss: 0.98721\n",
      "\u001b[32m[1112 12:44:47 @monitor.py:362]\u001b[0m learning_rate: 0.0001\n",
      "\u001b[32m[1112 12:44:47 @monitor.py:362]\u001b[0m loss/value: 7.436\n",
      "\u001b[32m[1112 12:44:47 @monitor.py:362]\u001b[0m macro_auc: 0.85245\n",
      "\u001b[32m[1112 12:44:47 @monitor.py:362]\u001b[0m macro_f1: 0.53933\n",
      "\u001b[32m[1112 12:44:47 @monitor.py:362]\u001b[0m mean_average_precision: 0.55605\n",
      "\u001b[32m[1112 12:44:47 @monitor.py:362]\u001b[0m micro_auc: 0.86155\n",
      "\u001b[32m[1112 12:44:47 @monitor.py:362]\u001b[0m micro_f1: 0.56334\n",
      "\u001b[32m[1112 12:44:47 @monitor.py:362]\u001b[0m one_error: 0.4082\n",
      "\u001b[32m[1112 12:44:47 @monitor.py:362]\u001b[0m ranking_loss: 0.14118\n",
      "\u001b[32m[1112 12:44:47 @monitor.py:362]\u001b[0m ranking_mean_average_precision: 0.71684\n",
      "\u001b[32m[1112 12:44:47 @monitor.py:362]\u001b[0m training_ap: 0.55048\n",
      "\u001b[32m[1112 12:44:47 @monitor.py:362]\u001b[0m training_auc: 0.837\n",
      "\u001b[32m[1112 12:44:47 @base.py:257]\u001b[0m Start Epoch 151 ...\n"
     ]
    },
    {
     "name": "stderr",
     "output_type": "stream",
     "text": [
      "\n",
      "100%|##########|23/23[00:01<00:00,15.08it/s]"
     ]
    },
    {
     "name": "stdout",
     "output_type": "stream",
     "text": [
      "\u001b[32m[1112 12:44:48 @base.py:267]\u001b[0m Epoch 151 (global_step 3473) finished, time:1.55 sec.\n"
     ]
    },
    {
     "name": "stderr",
     "output_type": "stream",
     "text": [
      "\n",
      "100%|##########|5/5[00:00<00:00, 9.45it/s]"
     ]
    },
    {
     "name": "stdout",
     "output_type": "stream",
     "text": [
      "\u001b[32m[1112 12:44:49 @saver.py:90]\u001b[0m Model saved to train_log/sift-512-hidden-gls-r5/model-3473.\n",
      "\u001b[32m[1112 12:44:49 @monitor.py:362]\u001b[0m DataParallelInferenceRunner/QueueInput/queue_size: 49.947\n",
      "\u001b[32m[1112 12:44:49 @monitor.py:362]\u001b[0m QueueInput/queue_size: 49.889\n",
      "\u001b[32m[1112 12:44:49 @monitor.py:362]\u001b[0m coverage: 2.1159\n",
      "\u001b[32m[1112 12:44:49 @monitor.py:362]\u001b[0m doubly_stochastic_loss: 0.81929\n",
      "\u001b[32m[1112 12:44:49 @monitor.py:362]\u001b[0m learning_rate: 0.0001\n",
      "\u001b[32m[1112 12:44:49 @monitor.py:362]\u001b[0m loss/value: 7.4367\n",
      "\u001b[32m[1112 12:44:49 @monitor.py:362]\u001b[0m macro_auc: 0.85344\n",
      "\u001b[32m[1112 12:44:49 @monitor.py:362]\u001b[0m macro_f1: 0.53999\n",
      "\u001b[32m[1112 12:44:49 @monitor.py:362]\u001b[0m mean_average_precision: 0.56489\n",
      "\u001b[32m[1112 12:44:49 @monitor.py:362]\u001b[0m micro_auc: 0.86189\n",
      "\u001b[32m[1112 12:44:49 @monitor.py:362]\u001b[0m micro_f1: 0.56056\n",
      "\u001b[32m[1112 12:44:49 @monitor.py:362]\u001b[0m one_error: 0.41355\n",
      "\u001b[32m[1112 12:44:49 @monitor.py:362]\u001b[0m ranking_loss: 0.14491\n",
      "\u001b[32m[1112 12:44:49 @monitor.py:362]\u001b[0m ranking_mean_average_precision: 0.71211\n",
      "\u001b[32m[1112 12:44:49 @monitor.py:362]\u001b[0m training_ap: 0.55115\n",
      "\u001b[32m[1112 12:44:49 @monitor.py:362]\u001b[0m training_auc: 0.83735\n",
      "\u001b[32m[1112 12:44:49 @base.py:257]\u001b[0m Start Epoch 152 ...\n"
     ]
    },
    {
     "name": "stderr",
     "output_type": "stream",
     "text": [
      "\n",
      "100%|##########|23/23[00:01<00:00,14.71it/s]"
     ]
    },
    {
     "name": "stdout",
     "output_type": "stream",
     "text": [
      "\u001b[32m[1112 12:44:50 @base.py:267]\u001b[0m Epoch 152 (global_step 3496) finished, time:1.57 sec.\n"
     ]
    },
    {
     "name": "stderr",
     "output_type": "stream",
     "text": [
      "\n",
      "100%|##########|5/5[00:00<00:00, 8.70it/s]"
     ]
    },
    {
     "name": "stdout",
     "output_type": "stream",
     "text": [
      "\u001b[32m[1112 12:44:51 @saver.py:90]\u001b[0m Model saved to train_log/sift-512-hidden-gls-r5/model-3496.\n",
      "\u001b[32m[1112 12:44:51 @monitor.py:362]\u001b[0m DataParallelInferenceRunner/QueueInput/queue_size: 49.92\n",
      "\u001b[32m[1112 12:44:51 @monitor.py:362]\u001b[0m QueueInput/queue_size: 49.874\n",
      "\u001b[32m[1112 12:44:51 @monitor.py:362]\u001b[0m coverage: 2.123\n",
      "\u001b[32m[1112 12:44:51 @monitor.py:362]\u001b[0m doubly_stochastic_loss: 0.5107\n",
      "\u001b[32m[1112 12:44:51 @monitor.py:362]\u001b[0m learning_rate: 0.0001\n",
      "\u001b[32m[1112 12:44:51 @monitor.py:362]\u001b[0m loss/value: 7.307\n",
      "\u001b[32m[1112 12:44:51 @monitor.py:362]\u001b[0m macro_auc: 0.84507\n",
      "\u001b[32m[1112 12:44:51 @monitor.py:362]\u001b[0m macro_f1: 0.53117\n",
      "\u001b[32m[1112 12:44:51 @monitor.py:362]\u001b[0m mean_average_precision: 0.54843\n",
      "\u001b[32m[1112 12:44:51 @monitor.py:362]\u001b[0m micro_auc: 0.85773\n",
      "\u001b[32m[1112 12:44:51 @monitor.py:362]\u001b[0m micro_f1: 0.55638\n",
      "\u001b[32m[1112 12:44:51 @monitor.py:362]\u001b[0m one_error: 0.43672\n",
      "\u001b[32m[1112 12:44:51 @monitor.py:362]\u001b[0m ranking_loss: 0.14454\n",
      "\u001b[32m[1112 12:44:51 @monitor.py:362]\u001b[0m ranking_mean_average_precision: 0.70886\n",
      "\u001b[32m[1112 12:44:51 @monitor.py:362]\u001b[0m training_ap: 0.55194\n",
      "\u001b[32m[1112 12:44:51 @monitor.py:362]\u001b[0m training_auc: 0.83773\n",
      "\u001b[32m[1112 12:44:51 @base.py:257]\u001b[0m Start Epoch 153 ...\n"
     ]
    },
    {
     "name": "stderr",
     "output_type": "stream",
     "text": [
      "\n",
      "100%|##########|23/23[00:01<00:00,14.39it/s]"
     ]
    },
    {
     "name": "stdout",
     "output_type": "stream",
     "text": [
      "\u001b[32m[1112 12:44:53 @base.py:267]\u001b[0m Epoch 153 (global_step 3519) finished, time:1.60 sec.\n"
     ]
    },
    {
     "name": "stderr",
     "output_type": "stream",
     "text": [
      "\n",
      "100%|##########|5/5[00:00<00:00, 8.73it/s]"
     ]
    },
    {
     "name": "stdout",
     "output_type": "stream",
     "text": [
      "\u001b[32m[1112 12:44:53 @saver.py:90]\u001b[0m Model saved to train_log/sift-512-hidden-gls-r5/model-3519.\n",
      "\u001b[32m[1112 12:44:53 @monitor.py:362]\u001b[0m DataParallelInferenceRunner/QueueInput/queue_size: 49.941\n",
      "\u001b[32m[1112 12:44:53 @monitor.py:362]\u001b[0m QueueInput/queue_size: 49.961\n",
      "\u001b[32m[1112 12:44:53 @monitor.py:362]\u001b[0m coverage: 2.0998\n",
      "\u001b[32m[1112 12:44:53 @monitor.py:362]\u001b[0m doubly_stochastic_loss: 0.93757\n",
      "\u001b[32m[1112 12:44:53 @monitor.py:362]\u001b[0m learning_rate: 0.0001\n",
      "\u001b[32m[1112 12:44:53 @monitor.py:362]\u001b[0m loss/value: 7.4038\n",
      "\u001b[32m[1112 12:44:53 @monitor.py:362]\u001b[0m macro_auc: 0.84928\n",
      "\u001b[32m[1112 12:44:53 @monitor.py:362]\u001b[0m macro_f1: 0.54703\n",
      "\u001b[32m[1112 12:44:53 @monitor.py:362]\u001b[0m mean_average_precision: 0.56947\n",
      "\u001b[32m[1112 12:44:53 @monitor.py:362]\u001b[0m micro_auc: 0.8599\n",
      "\u001b[32m[1112 12:44:53 @monitor.py:362]\u001b[0m micro_f1: 0.57103\n",
      "\u001b[32m[1112 12:44:53 @monitor.py:362]\u001b[0m one_error: 0.40463\n",
      "\u001b[32m[1112 12:44:53 @monitor.py:362]\u001b[0m ranking_loss: 0.14165\n",
      "\u001b[32m[1112 12:44:53 @monitor.py:362]\u001b[0m ranking_mean_average_precision: 0.71819\n",
      "\u001b[32m[1112 12:44:53 @monitor.py:362]\u001b[0m training_ap: 0.55269\n",
      "\u001b[32m[1112 12:44:53 @monitor.py:362]\u001b[0m training_auc: 0.8381\n",
      "\u001b[32m[1112 12:44:53 @base.py:257]\u001b[0m Start Epoch 154 ...\n"
     ]
    },
    {
     "name": "stderr",
     "output_type": "stream",
     "text": [
      "\n",
      "100%|##########|23/23[00:01<00:00,15.25it/s]"
     ]
    },
    {
     "name": "stdout",
     "output_type": "stream",
     "text": [
      "\u001b[32m[1112 12:44:55 @base.py:267]\u001b[0m Epoch 154 (global_step 3542) finished, time:1.53 sec.\n"
     ]
    },
    {
     "name": "stderr",
     "output_type": "stream",
     "text": [
      "\n",
      "100%|##########|5/5[00:00<00:00,10.90it/s]"
     ]
    },
    {
     "name": "stdout",
     "output_type": "stream",
     "text": [
      "\u001b[32m[1112 12:44:55 @saver.py:90]\u001b[0m Model saved to train_log/sift-512-hidden-gls-r5/model-3542.\n",
      "\u001b[32m[1112 12:44:55 @monitor.py:362]\u001b[0m DataParallelInferenceRunner/QueueInput/queue_size: 49.957\n",
      "\u001b[32m[1112 12:44:55 @monitor.py:362]\u001b[0m QueueInput/queue_size: 49.988\n",
      "\u001b[32m[1112 12:44:55 @monitor.py:362]\u001b[0m coverage: 2.1979\n",
      "\u001b[32m[1112 12:44:55 @monitor.py:362]\u001b[0m doubly_stochastic_loss: 2.606\n",
      "\u001b[32m[1112 12:44:55 @monitor.py:362]\u001b[0m learning_rate: 0.0001\n",
      "\u001b[32m[1112 12:44:55 @monitor.py:362]\u001b[0m loss/value: 7.4223\n",
      "\u001b[32m[1112 12:44:55 @monitor.py:362]\u001b[0m macro_auc: 0.85024\n",
      "\u001b[32m[1112 12:44:55 @monitor.py:362]\u001b[0m macro_f1: 0.54018\n",
      "\u001b[32m[1112 12:44:55 @monitor.py:362]\u001b[0m mean_average_precision: 0.5598\n",
      "\u001b[32m[1112 12:44:55 @monitor.py:362]\u001b[0m micro_auc: 0.86058\n",
      "\u001b[32m[1112 12:44:55 @monitor.py:362]\u001b[0m micro_f1: 0.55983\n",
      "\u001b[32m[1112 12:44:55 @monitor.py:362]\u001b[0m one_error: 0.4385\n",
      "\u001b[32m[1112 12:44:55 @monitor.py:362]\u001b[0m ranking_loss: 0.15169\n",
      "\u001b[32m[1112 12:44:55 @monitor.py:362]\u001b[0m ranking_mean_average_precision: 0.69948\n",
      "\u001b[32m[1112 12:44:55 @monitor.py:362]\u001b[0m training_ap: 0.55337\n",
      "\u001b[32m[1112 12:44:55 @monitor.py:362]\u001b[0m training_auc: 0.83845\n",
      "\u001b[32m[1112 12:44:55 @base.py:257]\u001b[0m Start Epoch 155 ...\n"
     ]
    },
    {
     "name": "stderr",
     "output_type": "stream",
     "text": [
      "\n",
      "100%|##########|23/23[00:01<00:00,15.88it/s]"
     ]
    },
    {
     "name": "stdout",
     "output_type": "stream",
     "text": [
      "\u001b[32m[1112 12:44:57 @base.py:267]\u001b[0m Epoch 155 (global_step 3565) finished, time:1.45 sec.\n"
     ]
    },
    {
     "name": "stderr",
     "output_type": "stream",
     "text": [
      "\n",
      "100%|##########|5/5[00:00<00:00,10.14it/s]"
     ]
    },
    {
     "name": "stdout",
     "output_type": "stream",
     "text": [
      "\u001b[32m[1112 12:44:57 @saver.py:90]\u001b[0m Model saved to train_log/sift-512-hidden-gls-r5/model-3565.\n",
      "\u001b[32m[1112 12:44:57 @monitor.py:362]\u001b[0m DataParallelInferenceRunner/QueueInput/queue_size: 49.968\n",
      "\u001b[32m[1112 12:44:57 @monitor.py:362]\u001b[0m QueueInput/queue_size: 49.929\n",
      "\u001b[32m[1112 12:44:57 @monitor.py:362]\u001b[0m coverage: 2.1283\n",
      "\u001b[32m[1112 12:44:57 @monitor.py:362]\u001b[0m doubly_stochastic_loss: 1.3172\n",
      "\u001b[32m[1112 12:44:57 @monitor.py:362]\u001b[0m learning_rate: 0.0001\n",
      "\u001b[32m[1112 12:44:57 @monitor.py:362]\u001b[0m loss/value: 7.3184\n",
      "\u001b[32m[1112 12:44:57 @monitor.py:362]\u001b[0m macro_auc: 0.86377\n",
      "\u001b[32m[1112 12:44:57 @monitor.py:362]\u001b[0m macro_f1: 0.55107\n",
      "\u001b[32m[1112 12:44:57 @monitor.py:362]\u001b[0m mean_average_precision: 0.56597\n",
      "\u001b[32m[1112 12:44:57 @monitor.py:362]\u001b[0m micro_auc: 0.86782\n",
      "\u001b[32m[1112 12:44:57 @monitor.py:362]\u001b[0m micro_f1: 0.57256\n",
      "\u001b[32m[1112 12:44:57 @monitor.py:362]\u001b[0m one_error: 0.41711\n",
      "\u001b[32m[1112 12:44:57 @monitor.py:362]\u001b[0m ranking_loss: 0.14538\n",
      "\u001b[32m[1112 12:44:57 @monitor.py:362]\u001b[0m ranking_mean_average_precision: 0.71217\n",
      "\u001b[32m[1112 12:44:57 @monitor.py:362]\u001b[0m training_ap: 0.55413\n",
      "\u001b[32m[1112 12:44:57 @monitor.py:362]\u001b[0m training_auc: 0.83882\n",
      "\u001b[32m[1112 12:44:57 @base.py:257]\u001b[0m Start Epoch 156 ...\n"
     ]
    },
    {
     "name": "stderr",
     "output_type": "stream",
     "text": [
      "\n",
      "100%|##########|23/23[00:01<00:00,15.19it/s]"
     ]
    },
    {
     "name": "stdout",
     "output_type": "stream",
     "text": [
      "\u001b[32m[1112 12:44:59 @base.py:267]\u001b[0m Epoch 156 (global_step 3588) finished, time:1.52 sec.\n"
     ]
    },
    {
     "name": "stderr",
     "output_type": "stream",
     "text": [
      "\n",
      "100%|##########|5/5[00:00<00:00,12.44it/s]"
     ]
    },
    {
     "name": "stdout",
     "output_type": "stream",
     "text": [
      "\u001b[32m[1112 12:44:59 @saver.py:90]\u001b[0m Model saved to train_log/sift-512-hidden-gls-r5/model-3588.\n",
      "\u001b[32m[1112 12:44:59 @monitor.py:362]\u001b[0m DataParallelInferenceRunner/QueueInput/queue_size: 49.977\n",
      "\u001b[32m[1112 12:44:59 @monitor.py:362]\u001b[0m QueueInput/queue_size: 49.925\n",
      "\u001b[32m[1112 12:44:59 @monitor.py:362]\u001b[0m coverage: 2.1373\n",
      "\u001b[32m[1112 12:44:59 @monitor.py:362]\u001b[0m doubly_stochastic_loss: 0.526\n",
      "\u001b[32m[1112 12:44:59 @monitor.py:362]\u001b[0m learning_rate: 0.0001\n",
      "\u001b[32m[1112 12:44:59 @monitor.py:362]\u001b[0m loss/value: 7.311\n",
      "\u001b[32m[1112 12:44:59 @monitor.py:362]\u001b[0m macro_auc: 0.84962\n",
      "\u001b[32m[1112 12:44:59 @monitor.py:362]\u001b[0m macro_f1: 0.54252\n",
      "\u001b[32m[1112 12:44:59 @monitor.py:362]\u001b[0m mean_average_precision: 0.56193\n",
      "\u001b[32m[1112 12:44:59 @monitor.py:362]\u001b[0m micro_auc: 0.86162\n",
      "\u001b[32m[1112 12:44:59 @monitor.py:362]\u001b[0m micro_f1: 0.5641\n",
      "\u001b[32m[1112 12:44:59 @monitor.py:362]\u001b[0m one_error: 0.41711\n",
      "\u001b[32m[1112 12:44:59 @monitor.py:362]\u001b[0m ranking_loss: 0.14626\n",
      "\u001b[32m[1112 12:44:59 @monitor.py:362]\u001b[0m ranking_mean_average_precision: 0.71036\n",
      "\u001b[32m[1112 12:44:59 @monitor.py:362]\u001b[0m training_ap: 0.55482\n",
      "\u001b[32m[1112 12:44:59 @monitor.py:362]\u001b[0m training_auc: 0.83919\n",
      "\u001b[32m[1112 12:44:59 @base.py:257]\u001b[0m Start Epoch 157 ...\n"
     ]
    },
    {
     "name": "stderr",
     "output_type": "stream",
     "text": [
      "\n",
      "100%|##########|23/23[00:01<00:00,14.16it/s]"
     ]
    },
    {
     "name": "stdout",
     "output_type": "stream",
     "text": [
      "\u001b[32m[1112 12:45:01 @base.py:267]\u001b[0m Epoch 157 (global_step 3611) finished, time:1.63 sec.\n"
     ]
    },
    {
     "name": "stderr",
     "output_type": "stream",
     "text": [
      "\n",
      "100%|##########|5/5[00:00<00:00,11.08it/s]"
     ]
    },
    {
     "name": "stdout",
     "output_type": "stream",
     "text": [
      "\u001b[32m[1112 12:45:01 @saver.py:90]\u001b[0m Model saved to train_log/sift-512-hidden-gls-r5/model-3611.\n",
      "\u001b[32m[1112 12:45:01 @monitor.py:362]\u001b[0m DataParallelInferenceRunner/QueueInput/queue_size: 49.983\n",
      "\u001b[32m[1112 12:45:01 @monitor.py:362]\u001b[0m QueueInput/queue_size: 49.977\n",
      "\u001b[32m[1112 12:45:01 @monitor.py:362]\u001b[0m coverage: 2.0624\n",
      "\u001b[32m[1112 12:45:01 @monitor.py:362]\u001b[0m doubly_stochastic_loss: 1.1285\n",
      "\u001b[32m[1112 12:45:01 @monitor.py:362]\u001b[0m learning_rate: 0.0001\n",
      "\u001b[32m[1112 12:45:01 @monitor.py:362]\u001b[0m loss/value: 7.4006\n",
      "\u001b[32m[1112 12:45:01 @monitor.py:362]\u001b[0m macro_auc: 0.8601\n",
      "\u001b[32m[1112 12:45:01 @monitor.py:362]\u001b[0m macro_f1: 0.54346\n",
      "\u001b[32m[1112 12:45:01 @monitor.py:362]\u001b[0m mean_average_precision: 0.56935\n",
      "\u001b[32m[1112 12:45:01 @monitor.py:362]\u001b[0m micro_auc: 0.86632\n",
      "\u001b[32m[1112 12:45:01 @monitor.py:362]\u001b[0m micro_f1: 0.56459\n",
      "\u001b[32m[1112 12:45:01 @monitor.py:362]\u001b[0m one_error: 0.3975\n",
      "\u001b[32m[1112 12:45:01 @monitor.py:362]\u001b[0m ranking_loss: 0.13821\n",
      "\u001b[32m[1112 12:45:01 @monitor.py:362]\u001b[0m ranking_mean_average_precision: 0.72148\n",
      "\u001b[32m[1112 12:45:02 @monitor.py:362]\u001b[0m training_ap: 0.55547\n",
      "\u001b[32m[1112 12:45:02 @monitor.py:362]\u001b[0m training_auc: 0.83954\n",
      "\u001b[32m[1112 12:45:02 @base.py:257]\u001b[0m Start Epoch 158 ...\n"
     ]
    },
    {
     "name": "stderr",
     "output_type": "stream",
     "text": [
      "\n",
      "100%|##########|23/23[00:01<00:00,15.16it/s]"
     ]
    },
    {
     "name": "stdout",
     "output_type": "stream",
     "text": [
      "\u001b[32m[1112 12:45:03 @base.py:267]\u001b[0m Epoch 158 (global_step 3634) finished, time:1.52 sec.\n"
     ]
    },
    {
     "name": "stderr",
     "output_type": "stream",
     "text": [
      "\n",
      "100%|##########|5/5[00:00<00:00, 9.95it/s]"
     ]
    },
    {
     "name": "stdout",
     "output_type": "stream",
     "text": [
      "\u001b[32m[1112 12:45:04 @saver.py:90]\u001b[0m Model saved to train_log/sift-512-hidden-gls-r5/model-3634.\n",
      "\u001b[32m[1112 12:45:04 @monitor.py:362]\u001b[0m DataParallelInferenceRunner/QueueInput/queue_size: 49.987\n",
      "\u001b[32m[1112 12:45:04 @monitor.py:362]\u001b[0m QueueInput/queue_size: 49.914\n",
      "\u001b[32m[1112 12:45:04 @monitor.py:362]\u001b[0m coverage: 2.0891\n",
      "\u001b[32m[1112 12:45:04 @monitor.py:362]\u001b[0m doubly_stochastic_loss: 0.39837\n",
      "\u001b[32m[1112 12:45:04 @monitor.py:362]\u001b[0m learning_rate: 0.0001\n",
      "\u001b[32m[1112 12:45:04 @monitor.py:362]\u001b[0m loss/value: 7.2865\n",
      "\u001b[32m[1112 12:45:04 @monitor.py:362]\u001b[0m macro_auc: 0.85442\n",
      "\u001b[32m[1112 12:45:04 @monitor.py:362]\u001b[0m macro_f1: 0.54871\n",
      "\u001b[32m[1112 12:45:04 @monitor.py:362]\u001b[0m mean_average_precision: 0.56334\n",
      "\u001b[32m[1112 12:45:04 @monitor.py:362]\u001b[0m micro_auc: 0.86349\n",
      "\u001b[32m[1112 12:45:04 @monitor.py:362]\u001b[0m micro_f1: 0.56742\n",
      "\u001b[32m[1112 12:45:04 @monitor.py:362]\u001b[0m one_error: 0.41533\n",
      "\u001b[32m[1112 12:45:04 @monitor.py:362]\u001b[0m ranking_loss: 0.14247\n",
      "\u001b[32m[1112 12:45:04 @monitor.py:362]\u001b[0m ranking_mean_average_precision: 0.71289\n",
      "\u001b[32m[1112 12:45:04 @monitor.py:362]\u001b[0m training_ap: 0.55616\n",
      "\u001b[32m[1112 12:45:04 @monitor.py:362]\u001b[0m training_auc: 0.83991\n",
      "\u001b[32m[1112 12:45:04 @base.py:257]\u001b[0m Start Epoch 159 ...\n"
     ]
    },
    {
     "name": "stderr",
     "output_type": "stream",
     "text": [
      "\n",
      "100%|##########|23/23[00:01<00:00,14.20it/s]"
     ]
    },
    {
     "name": "stdout",
     "output_type": "stream",
     "text": [
      "\u001b[32m[1112 12:45:05 @base.py:267]\u001b[0m Epoch 159 (global_step 3657) finished, time:1.62 sec.\n"
     ]
    },
    {
     "name": "stderr",
     "output_type": "stream",
     "text": [
      "\n",
      "100%|##########|5/5[00:00<00:00,10.79it/s]"
     ]
    },
    {
     "name": "stdout",
     "output_type": "stream",
     "text": [
      "\u001b[32m[1112 12:45:06 @saver.py:90]\u001b[0m Model saved to train_log/sift-512-hidden-gls-r5/model-3657.\n",
      "\u001b[32m[1112 12:45:06 @monitor.py:362]\u001b[0m DataParallelInferenceRunner/QueueInput/queue_size: 49.991\n",
      "\u001b[32m[1112 12:45:06 @monitor.py:362]\u001b[0m QueueInput/queue_size: 49.894\n",
      "\u001b[32m[1112 12:45:06 @monitor.py:362]\u001b[0m coverage: 2.1355\n",
      "\u001b[32m[1112 12:45:06 @monitor.py:362]\u001b[0m doubly_stochastic_loss: 0.624\n",
      "\u001b[32m[1112 12:45:06 @monitor.py:362]\u001b[0m learning_rate: 0.0001\n",
      "\u001b[32m[1112 12:45:06 @monitor.py:362]\u001b[0m loss/value: 7.2996\n",
      "\u001b[32m[1112 12:45:06 @monitor.py:362]\u001b[0m macro_auc: 0.85927\n",
      "\u001b[32m[1112 12:45:06 @monitor.py:362]\u001b[0m macro_f1: 0.54949\n",
      "\u001b[32m[1112 12:45:06 @monitor.py:362]\u001b[0m mean_average_precision: 0.5748\n",
      "\u001b[32m[1112 12:45:06 @monitor.py:362]\u001b[0m micro_auc: 0.86685\n",
      "\u001b[32m[1112 12:45:06 @monitor.py:362]\u001b[0m micro_f1: 0.57009\n",
      "\u001b[32m[1112 12:45:06 @monitor.py:362]\u001b[0m one_error: 0.41355\n",
      "\u001b[32m[1112 12:45:06 @monitor.py:362]\u001b[0m ranking_loss: 0.14531\n",
      "\u001b[32m[1112 12:45:06 @monitor.py:362]\u001b[0m ranking_mean_average_precision: 0.71384\n",
      "\u001b[32m[1112 12:45:06 @monitor.py:362]\u001b[0m training_ap: 0.55682\n",
      "\u001b[32m[1112 12:45:06 @monitor.py:362]\u001b[0m training_auc: 0.84024\n",
      "\u001b[32m[1112 12:45:06 @base.py:257]\u001b[0m Start Epoch 160 ...\n"
     ]
    },
    {
     "name": "stderr",
     "output_type": "stream",
     "text": [
      "\n",
      "100%|##########|23/23[00:01<00:00,15.44it/s]"
     ]
    },
    {
     "name": "stdout",
     "output_type": "stream",
     "text": [
      "\u001b[32m[1112 12:45:07 @base.py:267]\u001b[0m Epoch 160 (global_step 3680) finished, time:1.49 sec.\n"
     ]
    },
    {
     "name": "stderr",
     "output_type": "stream",
     "text": [
      "\n",
      "100%|##########|5/5[00:00<00:00,10.21it/s]"
     ]
    },
    {
     "name": "stdout",
     "output_type": "stream",
     "text": [
      "\u001b[32m[1112 12:45:08 @saver.py:90]\u001b[0m Model saved to train_log/sift-512-hidden-gls-r5/model-3680.\n",
      "\u001b[32m[1112 12:45:08 @monitor.py:362]\u001b[0m DataParallelInferenceRunner/QueueInput/queue_size: 49.993\n",
      "\u001b[32m[1112 12:45:08 @monitor.py:362]\u001b[0m QueueInput/queue_size: 49.753\n",
      "\u001b[32m[1112 12:45:08 @monitor.py:362]\u001b[0m coverage: 2.041\n",
      "\u001b[32m[1112 12:45:08 @monitor.py:362]\u001b[0m doubly_stochastic_loss: 0.836\n",
      "\u001b[32m[1112 12:45:08 @monitor.py:362]\u001b[0m learning_rate: 0.0001\n",
      "\u001b[32m[1112 12:45:08 @monitor.py:362]\u001b[0m loss/value: 7.361\n",
      "\u001b[32m[1112 12:45:08 @monitor.py:362]\u001b[0m macro_auc: 0.85668\n",
      "\u001b[32m[1112 12:45:08 @monitor.py:362]\u001b[0m macro_f1: 0.54256\n",
      "\u001b[32m[1112 12:45:08 @monitor.py:362]\u001b[0m mean_average_precision: 0.55737\n",
      "\u001b[32m[1112 12:45:08 @monitor.py:362]\u001b[0m micro_auc: 0.86638\n",
      "\u001b[32m[1112 12:45:08 @monitor.py:362]\u001b[0m micro_f1: 0.56218\n",
      "\u001b[32m[1112 12:45:08 @monitor.py:362]\u001b[0m one_error: 0.40642\n",
      "\u001b[32m[1112 12:45:08 @monitor.py:362]\u001b[0m ranking_loss: 0.13591\n",
      "\u001b[32m[1112 12:45:08 @monitor.py:362]\u001b[0m ranking_mean_average_precision: 0.72018\n",
      "\u001b[32m[1112 12:45:08 @monitor.py:362]\u001b[0m training_ap: 0.5575\n",
      "\u001b[32m[1112 12:45:08 @monitor.py:362]\u001b[0m training_auc: 0.84056\n",
      "\u001b[32m[1112 12:45:08 @base.py:257]\u001b[0m Start Epoch 161 ...\n"
     ]
    },
    {
     "name": "stderr",
     "output_type": "stream",
     "text": [
      "\n",
      "100%|##########|23/23[00:01<00:00,15.37it/s]"
     ]
    },
    {
     "name": "stdout",
     "output_type": "stream",
     "text": [
      "\u001b[32m[1112 12:45:09 @base.py:267]\u001b[0m Epoch 161 (global_step 3703) finished, time:1.50 sec.\n"
     ]
    },
    {
     "name": "stderr",
     "output_type": "stream",
     "text": [
      "\n",
      "100%|##########|5/5[00:00<00:00, 9.92it/s]"
     ]
    },
    {
     "name": "stdout",
     "output_type": "stream",
     "text": [
      "\u001b[32m[1112 12:45:10 @saver.py:90]\u001b[0m Model saved to train_log/sift-512-hidden-gls-r5/model-3703.\n",
      "\u001b[32m[1112 12:45:10 @monitor.py:362]\u001b[0m DataParallelInferenceRunner/QueueInput/queue_size: 49.995\n",
      "\u001b[32m[1112 12:45:10 @monitor.py:362]\u001b[0m QueueInput/queue_size: 49.834\n",
      "\u001b[32m[1112 12:45:10 @monitor.py:362]\u001b[0m coverage: 2.1408\n",
      "\u001b[32m[1112 12:45:10 @monitor.py:362]\u001b[0m doubly_stochastic_loss: 0.94651\n",
      "\u001b[32m[1112 12:45:10 @monitor.py:362]\u001b[0m learning_rate: 0.0001\n",
      "\u001b[32m[1112 12:45:10 @monitor.py:362]\u001b[0m loss/value: 7.3517\n",
      "\u001b[32m[1112 12:45:10 @monitor.py:362]\u001b[0m macro_auc: 0.84641\n",
      "\u001b[32m[1112 12:45:10 @monitor.py:362]\u001b[0m macro_f1: 0.5395\n",
      "\u001b[32m[1112 12:45:10 @monitor.py:362]\u001b[0m mean_average_precision: 0.5506\n",
      "\u001b[32m[1112 12:45:10 @monitor.py:362]\u001b[0m micro_auc: 0.85835\n",
      "\u001b[32m[1112 12:45:10 @monitor.py:362]\u001b[0m micro_f1: 0.56411\n",
      "\u001b[32m[1112 12:45:10 @monitor.py:362]\u001b[0m one_error: 0.42068\n",
      "\u001b[32m[1112 12:45:10 @monitor.py:362]\u001b[0m ranking_loss: 0.14854\n",
      "\u001b[32m[1112 12:45:10 @monitor.py:362]\u001b[0m ranking_mean_average_precision: 0.70561\n",
      "\u001b[32m[1112 12:45:10 @monitor.py:362]\u001b[0m training_ap: 0.55819\n",
      "\u001b[32m[1112 12:45:10 @monitor.py:362]\u001b[0m training_auc: 0.84091\n",
      "\u001b[32m[1112 12:45:10 @base.py:257]\u001b[0m Start Epoch 162 ...\n"
     ]
    },
    {
     "name": "stderr",
     "output_type": "stream",
     "text": [
      "\n",
      "100%|##########|23/23[00:01<00:00,14.20it/s]"
     ]
    },
    {
     "name": "stdout",
     "output_type": "stream",
     "text": [
      "\u001b[32m[1112 12:45:12 @base.py:267]\u001b[0m Epoch 162 (global_step 3726) finished, time:1.62 sec.\n"
     ]
    },
    {
     "name": "stderr",
     "output_type": "stream",
     "text": [
      "\n",
      "100%|##########|5/5[00:00<00:00, 9.40it/s]"
     ]
    },
    {
     "name": "stdout",
     "output_type": "stream",
     "text": [
      "\u001b[32m[1112 12:45:12 @saver.py:90]\u001b[0m Model saved to train_log/sift-512-hidden-gls-r5/model-3726.\n",
      "\u001b[32m[1112 12:45:12 @monitor.py:362]\u001b[0m DataParallelInferenceRunner/QueueInput/queue_size: 49.956\n",
      "\u001b[32m[1112 12:45:12 @monitor.py:362]\u001b[0m QueueInput/queue_size: 49.912\n",
      "\u001b[32m[1112 12:45:12 @monitor.py:362]\u001b[0m coverage: 2.0963\n",
      "\u001b[32m[1112 12:45:12 @monitor.py:362]\u001b[0m doubly_stochastic_loss: 0.85455\n",
      "\u001b[32m[1112 12:45:12 @monitor.py:362]\u001b[0m learning_rate: 0.0001\n",
      "\u001b[32m[1112 12:45:12 @monitor.py:362]\u001b[0m loss/value: 7.416\n",
      "\u001b[32m[1112 12:45:12 @monitor.py:362]\u001b[0m macro_auc: 0.83685\n",
      "\u001b[32m[1112 12:45:12 @monitor.py:362]\u001b[0m macro_f1: 0.52826\n",
      "\u001b[32m[1112 12:45:12 @monitor.py:362]\u001b[0m mean_average_precision: 0.53724\n",
      "\u001b[32m[1112 12:45:12 @monitor.py:362]\u001b[0m micro_auc: 0.85342\n",
      "\u001b[32m[1112 12:45:12 @monitor.py:362]\u001b[0m micro_f1: 0.55279\n",
      "\u001b[32m[1112 12:45:12 @monitor.py:362]\u001b[0m one_error: 0.43316\n",
      "\u001b[32m[1112 12:45:12 @monitor.py:362]\u001b[0m ranking_loss: 0.14335\n",
      "\u001b[32m[1112 12:45:12 @monitor.py:362]\u001b[0m ranking_mean_average_precision: 0.70784\n",
      "\u001b[32m[1112 12:45:12 @monitor.py:362]\u001b[0m training_ap: 0.55881\n",
      "\u001b[32m[1112 12:45:12 @monitor.py:362]\u001b[0m training_auc: 0.8412\n",
      "\u001b[32m[1112 12:45:12 @base.py:257]\u001b[0m Start Epoch 163 ...\n"
     ]
    },
    {
     "name": "stderr",
     "output_type": "stream",
     "text": [
      "\n",
      "100%|##########|23/23[00:01<00:00,14.44it/s]"
     ]
    },
    {
     "name": "stdout",
     "output_type": "stream",
     "text": [
      "\u001b[32m[1112 12:45:14 @base.py:267]\u001b[0m Epoch 163 (global_step 3749) finished, time:1.61 sec.\n"
     ]
    },
    {
     "name": "stderr",
     "output_type": "stream",
     "text": [
      "\n",
      "100%|##########|5/5[00:00<00:00,11.33it/s]"
     ]
    },
    {
     "name": "stdout",
     "output_type": "stream",
     "text": [
      "\u001b[32m[1112 12:45:14 @saver.py:90]\u001b[0m Model saved to train_log/sift-512-hidden-gls-r5/model-3749.\n",
      "\u001b[32m[1112 12:45:14 @monitor.py:362]\u001b[0m DataParallelInferenceRunner/QueueInput/queue_size: 49.967\n",
      "\u001b[32m[1112 12:45:14 @monitor.py:362]\u001b[0m QueueInput/queue_size: 49.934\n",
      "\u001b[32m[1112 12:45:14 @monitor.py:362]\u001b[0m coverage: 2.1515\n",
      "\u001b[32m[1112 12:45:14 @monitor.py:362]\u001b[0m doubly_stochastic_loss: 0.8705\n",
      "\u001b[32m[1112 12:45:14 @monitor.py:362]\u001b[0m learning_rate: 0.0001\n",
      "\u001b[32m[1112 12:45:14 @monitor.py:362]\u001b[0m loss/value: 7.2435\n",
      "\u001b[32m[1112 12:45:14 @monitor.py:362]\u001b[0m macro_auc: 0.85225\n",
      "\u001b[32m[1112 12:45:14 @monitor.py:362]\u001b[0m macro_f1: 0.53571\n",
      "\u001b[32m[1112 12:45:14 @monitor.py:362]\u001b[0m mean_average_precision: 0.56593\n",
      "\u001b[32m[1112 12:45:14 @monitor.py:362]\u001b[0m micro_auc: 0.86296\n",
      "\u001b[32m[1112 12:45:14 @monitor.py:362]\u001b[0m micro_f1: 0.56016\n",
      "\u001b[32m[1112 12:45:14 @monitor.py:362]\u001b[0m one_error: 0.42246\n",
      "\u001b[32m[1112 12:45:14 @monitor.py:362]\u001b[0m ranking_loss: 0.14713\n",
      "\u001b[32m[1112 12:45:14 @monitor.py:362]\u001b[0m ranking_mean_average_precision: 0.70972\n",
      "\u001b[32m[1112 12:45:14 @monitor.py:362]\u001b[0m training_ap: 0.55952\n",
      "\u001b[32m[1112 12:45:14 @monitor.py:362]\u001b[0m training_auc: 0.84154\n",
      "\u001b[32m[1112 12:45:14 @base.py:257]\u001b[0m Start Epoch 164 ...\n"
     ]
    },
    {
     "name": "stderr",
     "output_type": "stream",
     "text": [
      "\n",
      "100%|##########|23/23[00:01<00:00,14.19it/s]"
     ]
    },
    {
     "name": "stdout",
     "output_type": "stream",
     "text": [
      "\u001b[32m[1112 12:45:16 @base.py:267]\u001b[0m Epoch 164 (global_step 3772) finished, time:1.62 sec.\n"
     ]
    },
    {
     "name": "stderr",
     "output_type": "stream",
     "text": [
      "\n",
      "100%|##########|5/5[00:00<00:00,10.21it/s]"
     ]
    },
    {
     "name": "stdout",
     "output_type": "stream",
     "text": [
      "\u001b[32m[1112 12:45:17 @saver.py:90]\u001b[0m Model saved to train_log/sift-512-hidden-gls-r5/model-3772.\n",
      "\u001b[32m[1112 12:45:17 @monitor.py:362]\u001b[0m DataParallelInferenceRunner/QueueInput/queue_size: 49.976\n",
      "\u001b[32m[1112 12:45:17 @monitor.py:362]\u001b[0m QueueInput/queue_size: 49.87\n",
      "\u001b[32m[1112 12:45:17 @monitor.py:362]\u001b[0m coverage: 2.0945\n",
      "\u001b[32m[1112 12:45:17 @monitor.py:362]\u001b[0m doubly_stochastic_loss: 1.6595\n",
      "\u001b[32m[1112 12:45:17 @monitor.py:362]\u001b[0m learning_rate: 0.0001\n",
      "\u001b[32m[1112 12:45:17 @monitor.py:362]\u001b[0m loss/value: 7.4221\n",
      "\u001b[32m[1112 12:45:17 @monitor.py:362]\u001b[0m macro_auc: 0.85042\n",
      "\u001b[32m[1112 12:45:17 @monitor.py:362]\u001b[0m macro_f1: 0.53789\n",
      "\u001b[32m[1112 12:45:17 @monitor.py:362]\u001b[0m mean_average_precision: 0.55369\n",
      "\u001b[32m[1112 12:45:17 @monitor.py:362]\u001b[0m micro_auc: 0.86137\n",
      "\u001b[32m[1112 12:45:17 @monitor.py:362]\u001b[0m micro_f1: 0.55865\n",
      "\u001b[32m[1112 12:45:17 @monitor.py:362]\u001b[0m one_error: 0.40642\n",
      "\u001b[32m[1112 12:45:17 @monitor.py:362]\u001b[0m ranking_loss: 0.14382\n",
      "\u001b[32m[1112 12:45:17 @monitor.py:362]\u001b[0m ranking_mean_average_precision: 0.71519\n",
      "\u001b[32m[1112 12:45:17 @monitor.py:362]\u001b[0m training_ap: 0.56017\n",
      "\u001b[32m[1112 12:45:17 @monitor.py:362]\u001b[0m training_auc: 0.84187\n",
      "\u001b[32m[1112 12:45:17 @base.py:257]\u001b[0m Start Epoch 165 ...\n"
     ]
    },
    {
     "name": "stderr",
     "output_type": "stream",
     "text": [
      "\n",
      "100%|##########|23/23[00:01<00:00,15.42it/s]"
     ]
    },
    {
     "name": "stdout",
     "output_type": "stream",
     "text": [
      "\u001b[32m[1112 12:45:18 @base.py:267]\u001b[0m Epoch 165 (global_step 3795) finished, time:1.50 sec.\n"
     ]
    },
    {
     "name": "stderr",
     "output_type": "stream",
     "text": [
      "\n",
      "100%|##########|5/5[00:00<00:00,10.08it/s]"
     ]
    },
    {
     "name": "stdout",
     "output_type": "stream",
     "text": [
      "\u001b[32m[1112 12:45:19 @saver.py:90]\u001b[0m Model saved to train_log/sift-512-hidden-gls-r5/model-3795.\n",
      "\u001b[32m[1112 12:45:19 @monitor.py:362]\u001b[0m DataParallelInferenceRunner/QueueInput/queue_size: 49.942\n",
      "\u001b[32m[1112 12:45:19 @monitor.py:362]\u001b[0m QueueInput/queue_size: 49.773\n",
      "\u001b[32m[1112 12:45:19 @monitor.py:362]\u001b[0m coverage: 2.0339\n",
      "\u001b[32m[1112 12:45:19 @monitor.py:362]\u001b[0m doubly_stochastic_loss: 0.48164\n",
      "\u001b[32m[1112 12:45:19 @monitor.py:362]\u001b[0m learning_rate: 0.0001\n",
      "\u001b[32m[1112 12:45:19 @monitor.py:362]\u001b[0m loss/value: 7.3082\n",
      "\u001b[32m[1112 12:45:19 @monitor.py:362]\u001b[0m macro_auc: 0.85988\n",
      "\u001b[32m[1112 12:45:19 @monitor.py:362]\u001b[0m macro_f1: 0.55023\n",
      "\u001b[32m[1112 12:45:19 @monitor.py:362]\u001b[0m mean_average_precision: 0.56733\n",
      "\u001b[32m[1112 12:45:19 @monitor.py:362]\u001b[0m micro_auc: 0.86719\n",
      "\u001b[32m[1112 12:45:19 @monitor.py:362]\u001b[0m micro_f1: 0.56874\n",
      "\u001b[32m[1112 12:45:19 @monitor.py:362]\u001b[0m one_error: 0.40642\n",
      "\u001b[32m[1112 12:45:19 @monitor.py:362]\u001b[0m ranking_loss: 0.13343\n",
      "\u001b[32m[1112 12:45:19 @monitor.py:362]\u001b[0m ranking_mean_average_precision: 0.72266\n",
      "\u001b[32m[1112 12:45:19 @monitor.py:362]\u001b[0m training_ap: 0.56086\n",
      "\u001b[32m[1112 12:45:19 @monitor.py:362]\u001b[0m training_auc: 0.84222\n",
      "\u001b[32m[1112 12:45:19 @base.py:257]\u001b[0m Start Epoch 166 ...\n"
     ]
    },
    {
     "name": "stderr",
     "output_type": "stream",
     "text": [
      "\n",
      "100%|##########|23/23[00:01<00:00,15.14it/s]"
     ]
    },
    {
     "name": "stdout",
     "output_type": "stream",
     "text": [
      "\u001b[32m[1112 12:45:20 @base.py:267]\u001b[0m Epoch 166 (global_step 3818) finished, time:1.52 sec.\n"
     ]
    },
    {
     "name": "stderr",
     "output_type": "stream",
     "text": [
      "\n",
      "100%|##########|5/5[00:00<00:00,10.74it/s]"
     ]
    },
    {
     "name": "stdout",
     "output_type": "stream",
     "text": [
      "\u001b[32m[1112 12:45:21 @saver.py:90]\u001b[0m Model saved to train_log/sift-512-hidden-gls-r5/model-3818.\n",
      "\u001b[32m[1112 12:45:21 @monitor.py:362]\u001b[0m DataParallelInferenceRunner/QueueInput/queue_size: 49.957\n",
      "\u001b[32m[1112 12:45:21 @monitor.py:362]\u001b[0m QueueInput/queue_size: 49.754\n",
      "\u001b[32m[1112 12:45:21 @monitor.py:362]\u001b[0m coverage: 2.1016\n",
      "\u001b[32m[1112 12:45:21 @monitor.py:362]\u001b[0m doubly_stochastic_loss: 0.61922\n",
      "\u001b[32m[1112 12:45:21 @monitor.py:362]\u001b[0m learning_rate: 0.0001\n",
      "\u001b[32m[1112 12:45:21 @monitor.py:362]\u001b[0m loss/value: 7.3023\n",
      "\u001b[32m[1112 12:45:21 @monitor.py:362]\u001b[0m macro_auc: 0.85302\n",
      "\u001b[32m[1112 12:45:21 @monitor.py:362]\u001b[0m macro_f1: 0.54372\n",
      "\u001b[32m[1112 12:45:21 @monitor.py:362]\u001b[0m mean_average_precision: 0.55552\n",
      "\u001b[32m[1112 12:45:21 @monitor.py:362]\u001b[0m micro_auc: 0.86212\n",
      "\u001b[32m[1112 12:45:21 @monitor.py:362]\u001b[0m micro_f1: 0.56139\n",
      "\u001b[32m[1112 12:45:21 @monitor.py:362]\u001b[0m one_error: 0.41889\n",
      "\u001b[32m[1112 12:45:21 @monitor.py:362]\u001b[0m ranking_loss: 0.14226\n",
      "\u001b[32m[1112 12:45:21 @monitor.py:362]\u001b[0m ranking_mean_average_precision: 0.71185\n",
      "\u001b[32m[1112 12:45:21 @monitor.py:362]\u001b[0m training_ap: 0.56157\n",
      "\u001b[32m[1112 12:45:21 @monitor.py:362]\u001b[0m training_auc: 0.84257\n",
      "\u001b[32m[1112 12:45:21 @base.py:257]\u001b[0m Start Epoch 167 ...\n"
     ]
    },
    {
     "name": "stderr",
     "output_type": "stream",
     "text": [
      "\n",
      "100%|##########|23/23[00:01<00:00,14.74it/s]"
     ]
    },
    {
     "name": "stdout",
     "output_type": "stream",
     "text": [
      "\u001b[32m[1112 12:45:22 @base.py:267]\u001b[0m Epoch 167 (global_step 3841) finished, time:1.56 sec.\n"
     ]
    },
    {
     "name": "stderr",
     "output_type": "stream",
     "text": [
      "\n",
      "100%|##########|5/5[00:00<00:00, 9.05it/s]"
     ]
    },
    {
     "name": "stdout",
     "output_type": "stream",
     "text": [
      "\u001b[32m[1112 12:45:23 @saver.py:90]\u001b[0m Model saved to train_log/sift-512-hidden-gls-r5/model-3841.\n",
      "\u001b[32m[1112 12:45:23 @monitor.py:362]\u001b[0m DataParallelInferenceRunner/QueueInput/queue_size: 49.928\n",
      "\u001b[32m[1112 12:45:23 @monitor.py:362]\u001b[0m QueueInput/queue_size: 49.886\n",
      "\u001b[32m[1112 12:45:23 @monitor.py:362]\u001b[0m coverage: 2.0766\n",
      "\u001b[32m[1112 12:45:23 @monitor.py:362]\u001b[0m doubly_stochastic_loss: 0.5753\n",
      "\u001b[32m[1112 12:45:23 @monitor.py:362]\u001b[0m learning_rate: 0.0001\n",
      "\u001b[32m[1112 12:45:23 @monitor.py:362]\u001b[0m loss/value: 7.3042\n",
      "\u001b[32m[1112 12:45:23 @monitor.py:362]\u001b[0m macro_auc: 0.85736\n",
      "\u001b[32m[1112 12:45:23 @monitor.py:362]\u001b[0m macro_f1: 0.54416\n",
      "\u001b[32m[1112 12:45:23 @monitor.py:362]\u001b[0m mean_average_precision: 0.56199\n",
      "\u001b[32m[1112 12:45:23 @monitor.py:362]\u001b[0m micro_auc: 0.8657\n",
      "\u001b[32m[1112 12:45:23 @monitor.py:362]\u001b[0m micro_f1: 0.56737\n",
      "\u001b[32m[1112 12:45:23 @monitor.py:362]\u001b[0m one_error: 0.41176\n",
      "\u001b[32m[1112 12:45:23 @monitor.py:362]\u001b[0m ranking_loss: 0.1411\n",
      "\u001b[32m[1112 12:45:23 @monitor.py:362]\u001b[0m ranking_mean_average_precision: 0.71688\n",
      "\u001b[32m[1112 12:45:23 @monitor.py:362]\u001b[0m training_ap: 0.56218\n",
      "\u001b[32m[1112 12:45:23 @monitor.py:362]\u001b[0m training_auc: 0.84287\n",
      "\u001b[32m[1112 12:45:23 @base.py:257]\u001b[0m Start Epoch 168 ...\n"
     ]
    },
    {
     "name": "stderr",
     "output_type": "stream",
     "text": [
      "\n",
      "100%|##########|23/23[00:01<00:00,15.05it/s]"
     ]
    },
    {
     "name": "stdout",
     "output_type": "stream",
     "text": [
      "\u001b[32m[1112 12:45:25 @base.py:267]\u001b[0m Epoch 168 (global_step 3864) finished, time:1.53 sec.\n"
     ]
    },
    {
     "name": "stderr",
     "output_type": "stream",
     "text": [
      "\n",
      "100%|##########|5/5[00:00<00:00, 9.47it/s]"
     ]
    },
    {
     "name": "stdout",
     "output_type": "stream",
     "text": [
      "\u001b[32m[1112 12:45:25 @saver.py:90]\u001b[0m Model saved to train_log/sift-512-hidden-gls-r5/model-3864.\n",
      "\u001b[32m[1112 12:45:25 @monitor.py:362]\u001b[0m DataParallelInferenceRunner/QueueInput/queue_size: 49.863\n",
      "\u001b[32m[1112 12:45:25 @monitor.py:362]\u001b[0m QueueInput/queue_size: 49.926\n",
      "\u001b[32m[1112 12:45:25 @monitor.py:362]\u001b[0m coverage: 2.0642\n",
      "\u001b[32m[1112 12:45:25 @monitor.py:362]\u001b[0m doubly_stochastic_loss: 0.51123\n",
      "\u001b[32m[1112 12:45:25 @monitor.py:362]\u001b[0m learning_rate: 0.0001\n",
      "\u001b[32m[1112 12:45:25 @monitor.py:362]\u001b[0m loss/value: 7.2702\n",
      "\u001b[32m[1112 12:45:25 @monitor.py:362]\u001b[0m macro_auc: 0.85826\n",
      "\u001b[32m[1112 12:45:25 @monitor.py:362]\u001b[0m macro_f1: 0.55123\n",
      "\u001b[32m[1112 12:45:25 @monitor.py:362]\u001b[0m mean_average_precision: 0.5716\n",
      "\u001b[32m[1112 12:45:25 @monitor.py:362]\u001b[0m micro_auc: 0.86633\n",
      "\u001b[32m[1112 12:45:25 @monitor.py:362]\u001b[0m micro_f1: 0.56879\n",
      "\u001b[32m[1112 12:45:25 @monitor.py:362]\u001b[0m one_error: 0.41711\n",
      "\u001b[32m[1112 12:45:25 @monitor.py:362]\u001b[0m ranking_loss: 0.14132\n",
      "\u001b[32m[1112 12:45:25 @monitor.py:362]\u001b[0m ranking_mean_average_precision: 0.7131\n",
      "\u001b[32m[1112 12:45:25 @monitor.py:362]\u001b[0m training_ap: 0.56285\n",
      "\u001b[32m[1112 12:45:25 @monitor.py:362]\u001b[0m training_auc: 0.8432\n",
      "\u001b[32m[1112 12:45:25 @base.py:257]\u001b[0m Start Epoch 169 ...\n"
     ]
    },
    {
     "name": "stderr",
     "output_type": "stream",
     "text": [
      "\n",
      "100%|##########|23/23[00:01<00:00,14.68it/s]"
     ]
    },
    {
     "name": "stdout",
     "output_type": "stream",
     "text": [
      "\u001b[32m[1112 12:45:27 @base.py:267]\u001b[0m Epoch 169 (global_step 3887) finished, time:1.57 sec.\n"
     ]
    },
    {
     "name": "stderr",
     "output_type": "stream",
     "text": [
      "\n",
      "100%|##########|5/5[00:00<00:00, 9.07it/s]"
     ]
    },
    {
     "name": "stdout",
     "output_type": "stream",
     "text": [
      "\u001b[32m[1112 12:45:27 @saver.py:90]\u001b[0m Model saved to train_log/sift-512-hidden-gls-r5/model-3887.\n",
      "\u001b[32m[1112 12:45:27 @monitor.py:362]\u001b[0m DataParallelInferenceRunner/QueueInput/queue_size: 49.859\n",
      "\u001b[32m[1112 12:45:27 @monitor.py:362]\u001b[0m QueueInput/queue_size: 49.892\n",
      "\u001b[32m[1112 12:45:27 @monitor.py:362]\u001b[0m coverage: 2.1355\n",
      "\u001b[32m[1112 12:45:27 @monitor.py:362]\u001b[0m doubly_stochastic_loss: 1.0174\n",
      "\u001b[32m[1112 12:45:27 @monitor.py:362]\u001b[0m learning_rate: 0.0001\n",
      "\u001b[32m[1112 12:45:27 @monitor.py:362]\u001b[0m loss/value: 7.1895\n",
      "\u001b[32m[1112 12:45:27 @monitor.py:362]\u001b[0m macro_auc: 0.85867\n",
      "\u001b[32m[1112 12:45:27 @monitor.py:362]\u001b[0m macro_f1: 0.54148\n",
      "\u001b[32m[1112 12:45:27 @monitor.py:362]\u001b[0m mean_average_precision: 0.58489\n",
      "\u001b[32m[1112 12:45:27 @monitor.py:362]\u001b[0m micro_auc: 0.86636\n",
      "\u001b[32m[1112 12:45:27 @monitor.py:362]\u001b[0m micro_f1: 0.5587\n",
      "\u001b[32m[1112 12:45:27 @monitor.py:362]\u001b[0m one_error: 0.42781\n",
      "\u001b[32m[1112 12:45:27 @monitor.py:362]\u001b[0m ranking_loss: 0.14727\n",
      "\u001b[32m[1112 12:45:27 @monitor.py:362]\u001b[0m ranking_mean_average_precision: 0.70475\n",
      "\u001b[32m[1112 12:45:27 @monitor.py:362]\u001b[0m training_ap: 0.56346\n",
      "\u001b[32m[1112 12:45:27 @monitor.py:362]\u001b[0m training_auc: 0.84352\n",
      "\u001b[32m[1112 12:45:27 @base.py:257]\u001b[0m Start Epoch 170 ...\n"
     ]
    },
    {
     "name": "stderr",
     "output_type": "stream",
     "text": [
      "\n",
      "100%|##########|23/23[00:01<00:00,14.95it/s]"
     ]
    },
    {
     "name": "stdout",
     "output_type": "stream",
     "text": [
      "\u001b[32m[1112 12:45:29 @base.py:267]\u001b[0m Epoch 170 (global_step 3910) finished, time:1.54 sec.\n"
     ]
    },
    {
     "name": "stderr",
     "output_type": "stream",
     "text": [
      "\n",
      "100%|##########|5/5[00:00<00:00, 9.37it/s]"
     ]
    },
    {
     "name": "stdout",
     "output_type": "stream",
     "text": [
      "\u001b[32m[1112 12:45:30 @saver.py:90]\u001b[0m Model saved to train_log/sift-512-hidden-gls-r5/model-3910.\n",
      "\u001b[32m[1112 12:45:30 @monitor.py:362]\u001b[0m DataParallelInferenceRunner/QueueInput/queue_size: 49.855\n",
      "\u001b[32m[1112 12:45:30 @monitor.py:362]\u001b[0m QueueInput/queue_size: 49.891\n",
      "\u001b[32m[1112 12:45:30 @monitor.py:362]\u001b[0m coverage: 2.0677\n",
      "\u001b[32m[1112 12:45:30 @monitor.py:362]\u001b[0m doubly_stochastic_loss: 0.45213\n",
      "\u001b[32m[1112 12:45:30 @monitor.py:362]\u001b[0m learning_rate: 0.0001\n",
      "\u001b[32m[1112 12:45:30 @monitor.py:362]\u001b[0m loss/value: 7.2397\n",
      "\u001b[32m[1112 12:45:30 @monitor.py:362]\u001b[0m macro_auc: 0.86115\n",
      "\u001b[32m[1112 12:45:30 @monitor.py:362]\u001b[0m macro_f1: 0.55385\n",
      "\u001b[32m[1112 12:45:30 @monitor.py:362]\u001b[0m mean_average_precision: 0.57527\n",
      "\u001b[32m[1112 12:45:30 @monitor.py:362]\u001b[0m micro_auc: 0.8694\n",
      "\u001b[32m[1112 12:45:30 @monitor.py:362]\u001b[0m micro_f1: 0.57445\n",
      "\u001b[32m[1112 12:45:30 @monitor.py:362]\u001b[0m one_error: 0.41176\n",
      "\u001b[32m[1112 12:45:30 @monitor.py:362]\u001b[0m ranking_loss: 0.13989\n",
      "\u001b[32m[1112 12:45:30 @monitor.py:362]\u001b[0m ranking_mean_average_precision: 0.7163\n",
      "\u001b[32m[1112 12:45:30 @monitor.py:362]\u001b[0m training_ap: 0.5641\n",
      "\u001b[32m[1112 12:45:30 @monitor.py:362]\u001b[0m training_auc: 0.84384\n",
      "\u001b[32m[1112 12:45:30 @base.py:257]\u001b[0m Start Epoch 171 ...\n"
     ]
    },
    {
     "name": "stderr",
     "output_type": "stream",
     "text": [
      "\n",
      "100%|##########|23/23[00:01<00:00,14.82it/s]"
     ]
    },
    {
     "name": "stdout",
     "output_type": "stream",
     "text": [
      "\u001b[32m[1112 12:45:31 @base.py:267]\u001b[0m Epoch 171 (global_step 3933) finished, time:1.57 sec.\n"
     ]
    },
    {
     "name": "stderr",
     "output_type": "stream",
     "text": [
      "\n",
      "100%|##########|5/5[00:00<00:00, 7.02it/s]\n"
     ]
    },
    {
     "name": "stdout",
     "output_type": "stream",
     "text": [
      "\u001b[32m[1112 12:45:32 @saver.py:90]\u001b[0m Model saved to train_log/sift-512-hidden-gls-r5/model-3933.\n",
      "\u001b[32m[1112 12:45:32 @monitor.py:362]\u001b[0m DataParallelInferenceRunner/QueueInput/queue_size: 49.853\n",
      "\u001b[32m[1112 12:45:32 @monitor.py:362]\u001b[0m QueueInput/queue_size: 49.903\n",
      "\u001b[32m[1112 12:45:32 @monitor.py:362]\u001b[0m coverage: 2.0463\n",
      "\u001b[32m[1112 12:45:32 @monitor.py:362]\u001b[0m doubly_stochastic_loss: 0.48792\n",
      "\u001b[32m[1112 12:45:32 @monitor.py:362]\u001b[0m learning_rate: 0.0001\n",
      "\u001b[32m[1112 12:45:32 @monitor.py:362]\u001b[0m loss/value: 7.2066\n",
      "\u001b[32m[1112 12:45:32 @monitor.py:362]\u001b[0m macro_auc: 0.85228\n",
      "\u001b[32m[1112 12:45:32 @monitor.py:362]\u001b[0m macro_f1: 0.55302\n",
      "\u001b[32m[1112 12:45:32 @monitor.py:362]\u001b[0m mean_average_precision: 0.56501\n",
      "\u001b[32m[1112 12:45:32 @monitor.py:362]\u001b[0m micro_auc: 0.86709\n",
      "\u001b[32m[1112 12:45:32 @monitor.py:362]\u001b[0m micro_f1: 0.57425\n",
      "\u001b[32m[1112 12:45:32 @monitor.py:362]\u001b[0m one_error: 0.40642\n",
      "\u001b[32m[1112 12:45:32 @monitor.py:362]\u001b[0m ranking_loss: 0.13702\n",
      "\u001b[32m[1112 12:45:32 @monitor.py:362]\u001b[0m ranking_mean_average_precision: 0.72197\n",
      "\u001b[32m[1112 12:45:32 @monitor.py:362]\u001b[0m training_ap: 0.56475\n",
      "\u001b[32m[1112 12:45:32 @monitor.py:362]\u001b[0m training_auc: 0.84417\n",
      "\u001b[32m[1112 12:45:32 @base.py:257]\u001b[0m Start Epoch 172 ...\n"
     ]
    },
    {
     "name": "stderr",
     "output_type": "stream",
     "text": [
      "100%|##########|23/23[00:01<00:00,15.41it/s]"
     ]
    },
    {
     "name": "stdout",
     "output_type": "stream",
     "text": [
      "\u001b[32m[1112 12:45:33 @base.py:267]\u001b[0m Epoch 172 (global_step 3956) finished, time:1.49 sec.\n"
     ]
    },
    {
     "name": "stderr",
     "output_type": "stream",
     "text": [
      "\n",
      "100%|##########|5/5[00:00<00:00, 9.15it/s]"
     ]
    },
    {
     "name": "stdout",
     "output_type": "stream",
     "text": [
      "\u001b[32m[1112 12:45:34 @saver.py:90]\u001b[0m Model saved to train_log/sift-512-hidden-gls-r5/model-3956.\n",
      "\u001b[32m[1112 12:45:34 @monitor.py:362]\u001b[0m DataParallelInferenceRunner/QueueInput/queue_size: 49.851\n",
      "\u001b[32m[1112 12:45:34 @monitor.py:362]\u001b[0m QueueInput/queue_size: 49.902\n",
      "\u001b[32m[1112 12:45:34 @monitor.py:362]\u001b[0m coverage: 2.098\n",
      "\u001b[32m[1112 12:45:34 @monitor.py:362]\u001b[0m doubly_stochastic_loss: 0.67618\n",
      "\u001b[32m[1112 12:45:34 @monitor.py:362]\u001b[0m learning_rate: 0.0001\n",
      "\u001b[32m[1112 12:45:34 @monitor.py:362]\u001b[0m loss/value: 7.2116\n",
      "\u001b[32m[1112 12:45:34 @monitor.py:362]\u001b[0m macro_auc: 0.85675\n",
      "\u001b[32m[1112 12:45:34 @monitor.py:362]\u001b[0m macro_f1: 0.54408\n",
      "\u001b[32m[1112 12:45:34 @monitor.py:362]\u001b[0m mean_average_precision: 0.56323\n",
      "\u001b[32m[1112 12:45:34 @monitor.py:362]\u001b[0m micro_auc: 0.86789\n",
      "\u001b[32m[1112 12:45:34 @monitor.py:362]\u001b[0m micro_f1: 0.5702\n",
      "\u001b[32m[1112 12:45:34 @monitor.py:362]\u001b[0m one_error: 0.40463\n",
      "\u001b[32m[1112 12:45:34 @monitor.py:362]\u001b[0m ranking_loss: 0.14067\n",
      "\u001b[32m[1112 12:45:34 @monitor.py:362]\u001b[0m ranking_mean_average_precision: 0.71828\n",
      "\u001b[32m[1112 12:45:34 @monitor.py:362]\u001b[0m training_ap: 0.56539\n",
      "\u001b[32m[1112 12:45:34 @monitor.py:362]\u001b[0m training_auc: 0.84448\n",
      "\u001b[32m[1112 12:45:34 @base.py:257]\u001b[0m Start Epoch 173 ...\n"
     ]
    },
    {
     "name": "stderr",
     "output_type": "stream",
     "text": [
      "\n",
      "100%|##########|23/23[00:01<00:00,15.39it/s]"
     ]
    },
    {
     "name": "stdout",
     "output_type": "stream",
     "text": [
      "\u001b[32m[1112 12:45:36 @base.py:267]\u001b[0m Epoch 173 (global_step 3979) finished, time:1.50 sec.\n"
     ]
    },
    {
     "name": "stderr",
     "output_type": "stream",
     "text": [
      "\n",
      "100%|##########|5/5[00:00<00:00, 9.36it/s]"
     ]
    },
    {
     "name": "stdout",
     "output_type": "stream",
     "text": [
      "\u001b[32m[1112 12:45:36 @saver.py:90]\u001b[0m Model saved to train_log/sift-512-hidden-gls-r5/model-3979.\n",
      "\u001b[32m[1112 12:45:36 @monitor.py:362]\u001b[0m DataParallelInferenceRunner/QueueInput/queue_size: 49.891\n",
      "\u001b[32m[1112 12:45:36 @monitor.py:362]\u001b[0m QueueInput/queue_size: 49.891\n",
      "\u001b[32m[1112 12:45:36 @monitor.py:362]\u001b[0m coverage: 2.1337\n",
      "\u001b[32m[1112 12:45:36 @monitor.py:362]\u001b[0m doubly_stochastic_loss: 1.7518\n",
      "\u001b[32m[1112 12:45:36 @monitor.py:362]\u001b[0m learning_rate: 0.0001\n",
      "\u001b[32m[1112 12:45:36 @monitor.py:362]\u001b[0m loss/value: 7.2575\n",
      "\u001b[32m[1112 12:45:36 @monitor.py:362]\u001b[0m macro_auc: 0.84464\n",
      "\u001b[32m[1112 12:45:36 @monitor.py:362]\u001b[0m macro_f1: 0.53906\n",
      "\u001b[32m[1112 12:45:36 @monitor.py:362]\u001b[0m mean_average_precision: 0.54666\n",
      "\u001b[32m[1112 12:45:36 @monitor.py:362]\u001b[0m micro_auc: 0.85663\n",
      "\u001b[32m[1112 12:45:36 @monitor.py:362]\u001b[0m micro_f1: 0.56239\n",
      "\u001b[32m[1112 12:45:36 @monitor.py:362]\u001b[0m one_error: 0.41533\n",
      "\u001b[32m[1112 12:45:36 @monitor.py:362]\u001b[0m ranking_loss: 0.14428\n",
      "\u001b[32m[1112 12:45:36 @monitor.py:362]\u001b[0m ranking_mean_average_precision: 0.71127\n",
      "\u001b[32m[1112 12:45:36 @monitor.py:362]\u001b[0m training_ap: 0.56602\n",
      "\u001b[32m[1112 12:45:36 @monitor.py:362]\u001b[0m training_auc: 0.84478\n",
      "\u001b[32m[1112 12:45:36 @base.py:257]\u001b[0m Start Epoch 174 ...\n"
     ]
    },
    {
     "name": "stderr",
     "output_type": "stream",
     "text": [
      "\n",
      "100%|##########|23/23[00:01<00:00,15.24it/s]"
     ]
    },
    {
     "name": "stdout",
     "output_type": "stream",
     "text": [
      "\u001b[32m[1112 12:45:38 @base.py:267]\u001b[0m Epoch 174 (global_step 4002) finished, time:1.51 sec.\n"
     ]
    },
    {
     "name": "stderr",
     "output_type": "stream",
     "text": [
      "\n",
      "100%|##########|5/5[00:00<00:00, 8.85it/s]"
     ]
    },
    {
     "name": "stdout",
     "output_type": "stream",
     "text": [
      "\u001b[32m[1112 12:45:38 @saver.py:90]\u001b[0m Model saved to train_log/sift-512-hidden-gls-r5/model-4002.\n",
      "\u001b[32m[1112 12:45:38 @monitor.py:362]\u001b[0m DataParallelInferenceRunner/QueueInput/queue_size: 49.879\n",
      "\u001b[32m[1112 12:45:38 @monitor.py:362]\u001b[0m QueueInput/queue_size: 49.823\n",
      "\u001b[32m[1112 12:45:38 @monitor.py:362]\u001b[0m coverage: 2.0214\n",
      "\u001b[32m[1112 12:45:38 @monitor.py:362]\u001b[0m doubly_stochastic_loss: 0.45182\n",
      "\u001b[32m[1112 12:45:38 @monitor.py:362]\u001b[0m learning_rate: 0.0001\n",
      "\u001b[32m[1112 12:45:38 @monitor.py:362]\u001b[0m loss/value: 7.2462\n",
      "\u001b[32m[1112 12:45:38 @monitor.py:362]\u001b[0m macro_auc: 0.86207\n",
      "\u001b[32m[1112 12:45:38 @monitor.py:362]\u001b[0m macro_f1: 0.55168\n",
      "\u001b[32m[1112 12:45:38 @monitor.py:362]\u001b[0m mean_average_precision: 0.5554\n",
      "\u001b[32m[1112 12:45:38 @monitor.py:362]\u001b[0m micro_auc: 0.86902\n",
      "\u001b[32m[1112 12:45:38 @monitor.py:362]\u001b[0m micro_f1: 0.57644\n",
      "\u001b[32m[1112 12:45:38 @monitor.py:362]\u001b[0m one_error: 0.40285\n",
      "\u001b[32m[1112 12:45:38 @monitor.py:362]\u001b[0m ranking_loss: 0.13582\n",
      "\u001b[32m[1112 12:45:38 @monitor.py:362]\u001b[0m ranking_mean_average_precision: 0.72314\n",
      "\u001b[32m[1112 12:45:38 @monitor.py:362]\u001b[0m training_ap: 0.56665\n",
      "\u001b[32m[1112 12:45:38 @monitor.py:362]\u001b[0m training_auc: 0.84509\n",
      "\u001b[32m[1112 12:45:38 @base.py:257]\u001b[0m Start Epoch 175 ...\n"
     ]
    },
    {
     "name": "stderr",
     "output_type": "stream",
     "text": [
      "\n",
      "100%|##########|23/23[00:01<00:00,13.66it/s]"
     ]
    },
    {
     "name": "stdout",
     "output_type": "stream",
     "text": [
      "\u001b[32m[1112 12:45:40 @base.py:267]\u001b[0m Epoch 175 (global_step 4025) finished, time:1.69 sec.\n"
     ]
    },
    {
     "name": "stderr",
     "output_type": "stream",
     "text": [
      "\n",
      "100%|##########|5/5[00:00<00:00, 9.15it/s]"
     ]
    },
    {
     "name": "stdout",
     "output_type": "stream",
     "text": [
      "\u001b[32m[1112 12:45:41 @saver.py:90]\u001b[0m Model saved to train_log/sift-512-hidden-gls-r5/model-4025.\n",
      "\u001b[32m[1112 12:45:41 @monitor.py:362]\u001b[0m DataParallelInferenceRunner/QueueInput/queue_size: 49.87\n",
      "\u001b[32m[1112 12:45:41 @monitor.py:362]\u001b[0m QueueInput/queue_size: 49.883\n",
      "\u001b[32m[1112 12:45:41 @monitor.py:362]\u001b[0m coverage: 2.1301\n",
      "\u001b[32m[1112 12:45:41 @monitor.py:362]\u001b[0m doubly_stochastic_loss: 0.31457\n",
      "\u001b[32m[1112 12:45:41 @monitor.py:362]\u001b[0m learning_rate: 0.0001\n",
      "\u001b[32m[1112 12:45:41 @monitor.py:362]\u001b[0m loss/value: 7.1678\n",
      "\u001b[32m[1112 12:45:41 @monitor.py:362]\u001b[0m macro_auc: 0.85187\n",
      "\u001b[32m[1112 12:45:41 @monitor.py:362]\u001b[0m macro_f1: 0.54614\n",
      "\u001b[32m[1112 12:45:41 @monitor.py:362]\u001b[0m mean_average_precision: 0.55765\n",
      "\u001b[32m[1112 12:45:41 @monitor.py:362]\u001b[0m micro_auc: 0.86293\n",
      "\u001b[32m[1112 12:45:41 @monitor.py:362]\u001b[0m micro_f1: 0.57007\n",
      "\u001b[32m[1112 12:45:41 @monitor.py:362]\u001b[0m one_error: 0.41889\n",
      "\u001b[32m[1112 12:45:41 @monitor.py:362]\u001b[0m ranking_loss: 0.14551\n",
      "\u001b[32m[1112 12:45:41 @monitor.py:362]\u001b[0m ranking_mean_average_precision: 0.70747\n",
      "\u001b[32m[1112 12:45:41 @monitor.py:362]\u001b[0m training_ap: 0.56727\n",
      "\u001b[32m[1112 12:45:41 @monitor.py:362]\u001b[0m training_auc: 0.84541\n",
      "\u001b[32m[1112 12:45:41 @base.py:257]\u001b[0m Start Epoch 176 ...\n"
     ]
    },
    {
     "name": "stderr",
     "output_type": "stream",
     "text": [
      "\n",
      "100%|##########|23/23[00:01<00:00,14.91it/s]"
     ]
    },
    {
     "name": "stdout",
     "output_type": "stream",
     "text": [
      "\u001b[32m[1112 12:45:42 @base.py:267]\u001b[0m Epoch 176 (global_step 4048) finished, time:1.56 sec.\n"
     ]
    },
    {
     "name": "stderr",
     "output_type": "stream",
     "text": [
      "\n",
      "100%|##########|5/5[00:00<00:00, 9.80it/s]"
     ]
    },
    {
     "name": "stdout",
     "output_type": "stream",
     "text": [
      "\u001b[32m[1112 12:45:43 @saver.py:90]\u001b[0m Model saved to train_log/sift-512-hidden-gls-r5/model-4048.\n",
      "\u001b[32m[1112 12:45:43 @monitor.py:362]\u001b[0m DataParallelInferenceRunner/QueueInput/queue_size: 49.862\n",
      "\u001b[32m[1112 12:45:43 @monitor.py:362]\u001b[0m QueueInput/queue_size: 49.947\n",
      "\u001b[32m[1112 12:45:43 @monitor.py:362]\u001b[0m coverage: 2.2246\n",
      "\u001b[32m[1112 12:45:43 @monitor.py:362]\u001b[0m doubly_stochastic_loss: 0.19647\n",
      "\u001b[32m[1112 12:45:43 @monitor.py:362]\u001b[0m learning_rate: 0.0001\n",
      "\u001b[32m[1112 12:45:43 @monitor.py:362]\u001b[0m loss/value: 7.1629\n",
      "\u001b[32m[1112 12:45:43 @monitor.py:362]\u001b[0m macro_auc: 0.84301\n",
      "\u001b[32m[1112 12:45:43 @monitor.py:362]\u001b[0m macro_f1: 0.53498\n",
      "\u001b[32m[1112 12:45:43 @monitor.py:362]\u001b[0m mean_average_precision: 0.54101\n",
      "\u001b[32m[1112 12:45:43 @monitor.py:362]\u001b[0m micro_auc: 0.85657\n",
      "\u001b[32m[1112 12:45:43 @monitor.py:362]\u001b[0m micro_f1: 0.55947\n",
      "\u001b[32m[1112 12:45:43 @monitor.py:362]\u001b[0m one_error: 0.43494\n",
      "\u001b[32m[1112 12:45:43 @monitor.py:362]\u001b[0m ranking_loss: 0.15669\n",
      "\u001b[32m[1112 12:45:43 @monitor.py:362]\u001b[0m ranking_mean_average_precision: 0.69642\n",
      "\u001b[32m[1112 12:45:43 @monitor.py:362]\u001b[0m training_ap: 0.56793\n",
      "\u001b[32m[1112 12:45:43 @monitor.py:362]\u001b[0m training_auc: 0.84572\n",
      "\u001b[32m[1112 12:45:43 @base.py:257]\u001b[0m Start Epoch 177 ...\n"
     ]
    },
    {
     "name": "stderr",
     "output_type": "stream",
     "text": [
      "\n",
      "100%|##########|23/23[00:01<00:00,15.43it/s]"
     ]
    },
    {
     "name": "stdout",
     "output_type": "stream",
     "text": [
      "\u001b[32m[1112 12:45:44 @base.py:267]\u001b[0m Epoch 177 (global_step 4071) finished, time:1.49 sec.\n"
     ]
    },
    {
     "name": "stderr",
     "output_type": "stream",
     "text": [
      "\n",
      "100%|##########|5/5[00:00<00:00, 9.57it/s]"
     ]
    },
    {
     "name": "stdout",
     "output_type": "stream",
     "text": [
      "\u001b[32m[1112 12:45:45 @saver.py:90]\u001b[0m Model saved to train_log/sift-512-hidden-gls-r5/model-4071.\n",
      "\u001b[32m[1112 12:45:45 @monitor.py:362]\u001b[0m DataParallelInferenceRunner/QueueInput/queue_size: 49.858\n",
      "\u001b[32m[1112 12:45:45 @monitor.py:362]\u001b[0m QueueInput/queue_size: 49.921\n",
      "\u001b[32m[1112 12:45:45 @monitor.py:362]\u001b[0m coverage: 2.0891\n",
      "\u001b[32m[1112 12:45:45 @monitor.py:362]\u001b[0m doubly_stochastic_loss: 1.2165\n",
      "\u001b[32m[1112 12:45:45 @monitor.py:362]\u001b[0m learning_rate: 0.0001\n",
      "\u001b[32m[1112 12:45:45 @monitor.py:362]\u001b[0m loss/value: 7.175\n",
      "\u001b[32m[1112 12:45:45 @monitor.py:362]\u001b[0m macro_auc: 0.85325\n",
      "\u001b[32m[1112 12:45:45 @monitor.py:362]\u001b[0m macro_f1: 0.54038\n",
      "\u001b[32m[1112 12:45:45 @monitor.py:362]\u001b[0m mean_average_precision: 0.56536\n",
      "\u001b[32m[1112 12:45:45 @monitor.py:362]\u001b[0m micro_auc: 0.86453\n",
      "\u001b[32m[1112 12:45:45 @monitor.py:362]\u001b[0m micro_f1: 0.56164\n",
      "\u001b[32m[1112 12:45:45 @monitor.py:362]\u001b[0m one_error: 0.42602\n",
      "\u001b[32m[1112 12:45:45 @monitor.py:362]\u001b[0m ranking_loss: 0.14309\n",
      "\u001b[32m[1112 12:45:45 @monitor.py:362]\u001b[0m ranking_mean_average_precision: 0.71065\n",
      "\u001b[32m[1112 12:45:45 @monitor.py:362]\u001b[0m training_ap: 0.56856\n",
      "\u001b[32m[1112 12:45:45 @monitor.py:362]\u001b[0m training_auc: 0.84602\n",
      "\u001b[32m[1112 12:45:45 @base.py:257]\u001b[0m Start Epoch 178 ...\n"
     ]
    },
    {
     "name": "stderr",
     "output_type": "stream",
     "text": [
      "\n",
      "100%|##########|23/23[00:01<00:00,15.50it/s]"
     ]
    },
    {
     "name": "stdout",
     "output_type": "stream",
     "text": [
      "\u001b[32m[1112 12:45:46 @base.py:267]\u001b[0m Epoch 178 (global_step 4094) finished, time:1.49 sec.\n"
     ]
    },
    {
     "name": "stderr",
     "output_type": "stream",
     "text": [
      "\n",
      "100%|##########|5/5[00:00<00:00, 9.64it/s]"
     ]
    },
    {
     "name": "stdout",
     "output_type": "stream",
     "text": [
      "\u001b[32m[1112 12:45:47 @saver.py:90]\u001b[0m Model saved to train_log/sift-512-hidden-gls-r5/model-4094.\n",
      "\u001b[32m[1112 12:45:47 @monitor.py:362]\u001b[0m DataParallelInferenceRunner/QueueInput/queue_size: 49.895\n",
      "\u001b[32m[1112 12:45:47 @monitor.py:362]\u001b[0m QueueInput/queue_size: 49.892\n",
      "\u001b[32m[1112 12:45:47 @monitor.py:362]\u001b[0m coverage: 2.0749\n",
      "\u001b[32m[1112 12:45:47 @monitor.py:362]\u001b[0m doubly_stochastic_loss: 0.28637\n",
      "\u001b[32m[1112 12:45:47 @monitor.py:362]\u001b[0m learning_rate: 0.0001\n",
      "\u001b[32m[1112 12:45:47 @monitor.py:362]\u001b[0m loss/value: 7.1457\n",
      "\u001b[32m[1112 12:45:47 @monitor.py:362]\u001b[0m macro_auc: 0.85207\n",
      "\u001b[32m[1112 12:45:47 @monitor.py:362]\u001b[0m macro_f1: 0.5425\n",
      "\u001b[32m[1112 12:45:47 @monitor.py:362]\u001b[0m mean_average_precision: 0.54401\n",
      "\u001b[32m[1112 12:45:47 @monitor.py:362]\u001b[0m micro_auc: 0.86118\n",
      "\u001b[32m[1112 12:45:47 @monitor.py:362]\u001b[0m micro_f1: 0.56571\n",
      "\u001b[32m[1112 12:45:47 @monitor.py:362]\u001b[0m one_error: 0.43494\n",
      "\u001b[32m[1112 12:45:47 @monitor.py:362]\u001b[0m ranking_loss: 0.14079\n",
      "\u001b[32m[1112 12:45:47 @monitor.py:362]\u001b[0m ranking_mean_average_precision: 0.70982\n",
      "\u001b[32m[1112 12:45:47 @monitor.py:362]\u001b[0m training_ap: 0.56919\n",
      "\u001b[32m[1112 12:45:47 @monitor.py:362]\u001b[0m training_auc: 0.84633\n",
      "\u001b[32m[1112 12:45:47 @base.py:257]\u001b[0m Start Epoch 179 ...\n"
     ]
    },
    {
     "name": "stderr",
     "output_type": "stream",
     "text": [
      "\n",
      "100%|##########|23/23[00:01<00:00,14.64it/s]"
     ]
    },
    {
     "name": "stdout",
     "output_type": "stream",
     "text": [
      "\u001b[32m[1112 12:45:49 @base.py:267]\u001b[0m Epoch 179 (global_step 4117) finished, time:1.59 sec.\n"
     ]
    },
    {
     "name": "stderr",
     "output_type": "stream",
     "text": [
      "\n",
      "100%|##########|5/5[00:00<00:00, 9.19it/s]"
     ]
    },
    {
     "name": "stdout",
     "output_type": "stream",
     "text": [
      "\u001b[32m[1112 12:45:49 @saver.py:90]\u001b[0m Model saved to train_log/sift-512-hidden-gls-r5/model-4117.\n",
      "\u001b[32m[1112 12:45:49 @monitor.py:362]\u001b[0m DataParallelInferenceRunner/QueueInput/queue_size: 49.882\n",
      "\u001b[32m[1112 12:45:49 @monitor.py:362]\u001b[0m QueueInput/queue_size: 49.876\n",
      "\u001b[32m[1112 12:45:49 @monitor.py:362]\u001b[0m coverage: 2.1016\n",
      "\u001b[32m[1112 12:45:49 @monitor.py:362]\u001b[0m doubly_stochastic_loss: 0.53406\n",
      "\u001b[32m[1112 12:45:49 @monitor.py:362]\u001b[0m learning_rate: 0.0001\n",
      "\u001b[32m[1112 12:45:49 @monitor.py:362]\u001b[0m loss/value: 7.0668\n",
      "\u001b[32m[1112 12:45:49 @monitor.py:362]\u001b[0m macro_auc: 0.84846\n",
      "\u001b[32m[1112 12:45:49 @monitor.py:362]\u001b[0m macro_f1: 0.55732\n",
      "\u001b[32m[1112 12:45:49 @monitor.py:362]\u001b[0m mean_average_precision: 0.55437\n",
      "\u001b[32m[1112 12:45:49 @monitor.py:362]\u001b[0m micro_auc: 0.86212\n",
      "\u001b[32m[1112 12:45:49 @monitor.py:362]\u001b[0m micro_f1: 0.57274\n",
      "\u001b[32m[1112 12:45:49 @monitor.py:362]\u001b[0m one_error: 0.41176\n",
      "\u001b[32m[1112 12:45:49 @monitor.py:362]\u001b[0m ranking_loss: 0.14241\n",
      "\u001b[32m[1112 12:45:49 @monitor.py:362]\u001b[0m ranking_mean_average_precision: 0.71442\n",
      "\u001b[32m[1112 12:45:49 @monitor.py:362]\u001b[0m training_ap: 0.56979\n",
      "\u001b[32m[1112 12:45:49 @monitor.py:362]\u001b[0m training_auc: 0.84663\n",
      "\u001b[32m[1112 12:45:49 @base.py:257]\u001b[0m Start Epoch 180 ...\n"
     ]
    },
    {
     "name": "stderr",
     "output_type": "stream",
     "text": [
      "\n",
      "100%|##########|23/23[00:01<00:00,15.31it/s]"
     ]
    },
    {
     "name": "stdout",
     "output_type": "stream",
     "text": [
      "\u001b[32m[1112 12:45:51 @base.py:267]\u001b[0m Epoch 180 (global_step 4140) finished, time:1.51 sec.\n"
     ]
    },
    {
     "name": "stderr",
     "output_type": "stream",
     "text": [
      "\n",
      "100%|##########|5/5[00:00<00:00,11.29it/s]"
     ]
    },
    {
     "name": "stdout",
     "output_type": "stream",
     "text": [
      "\u001b[32m[1112 12:45:51 @saver.py:90]\u001b[0m Model saved to train_log/sift-512-hidden-gls-r5/model-4140.\n",
      "\u001b[32m[1112 12:45:51 @monitor.py:362]\u001b[0m DataParallelInferenceRunner/QueueInput/queue_size: 49.873\n",
      "\u001b[32m[1112 12:45:51 @monitor.py:362]\u001b[0m QueueInput/queue_size: 49.862\n",
      "\u001b[32m[1112 12:45:51 @monitor.py:362]\u001b[0m coverage: 2.0606\n",
      "\u001b[32m[1112 12:45:51 @monitor.py:362]\u001b[0m doubly_stochastic_loss: 0.43222\n",
      "\u001b[32m[1112 12:45:51 @monitor.py:362]\u001b[0m learning_rate: 0.0001\n",
      "\u001b[32m[1112 12:45:51 @monitor.py:362]\u001b[0m loss/value: 7.0328\n",
      "\u001b[32m[1112 12:45:51 @monitor.py:362]\u001b[0m macro_auc: 0.85389\n",
      "\u001b[32m[1112 12:45:51 @monitor.py:362]\u001b[0m macro_f1: 0.54244\n",
      "\u001b[32m[1112 12:45:51 @monitor.py:362]\u001b[0m mean_average_precision: 0.55586\n",
      "\u001b[32m[1112 12:45:51 @monitor.py:362]\u001b[0m micro_auc: 0.86485\n",
      "\u001b[32m[1112 12:45:51 @monitor.py:362]\u001b[0m micro_f1: 0.56612\n",
      "\u001b[32m[1112 12:45:51 @monitor.py:362]\u001b[0m one_error: 0.40998\n",
      "\u001b[32m[1112 12:45:51 @monitor.py:362]\u001b[0m ranking_loss: 0.13969\n",
      "\u001b[32m[1112 12:45:51 @monitor.py:362]\u001b[0m ranking_mean_average_precision: 0.71764\n",
      "\u001b[32m[1112 12:45:51 @monitor.py:362]\u001b[0m training_ap: 0.5704\n",
      "\u001b[32m[1112 12:45:51 @monitor.py:362]\u001b[0m training_auc: 0.84695\n",
      "\u001b[32m[1112 12:45:51 @base.py:257]\u001b[0m Start Epoch 181 ...\n"
     ]
    },
    {
     "name": "stderr",
     "output_type": "stream",
     "text": [
      "\n",
      "100%|##########|23/23[00:01<00:00,15.92it/s]"
     ]
    },
    {
     "name": "stdout",
     "output_type": "stream",
     "text": [
      "\u001b[32m[1112 12:45:53 @base.py:267]\u001b[0m Epoch 181 (global_step 4163) finished, time:1.45 sec.\n"
     ]
    },
    {
     "name": "stderr",
     "output_type": "stream",
     "text": [
      "\n",
      "100%|##########|5/5[00:00<00:00, 9.56it/s]"
     ]
    },
    {
     "name": "stdout",
     "output_type": "stream",
     "text": [
      "\u001b[32m[1112 12:45:53 @saver.py:90]\u001b[0m Model saved to train_log/sift-512-hidden-gls-r5/model-4163.\n",
      "\u001b[32m[1112 12:45:53 @monitor.py:362]\u001b[0m DataParallelInferenceRunner/QueueInput/queue_size: 49.906\n",
      "\u001b[32m[1112 12:45:53 @monitor.py:362]\u001b[0m QueueInput/queue_size: 49.84\n",
      "\u001b[32m[1112 12:45:53 @monitor.py:362]\u001b[0m coverage: 2.0642\n",
      "\u001b[32m[1112 12:45:53 @monitor.py:362]\u001b[0m doubly_stochastic_loss: 0.51363\n",
      "\u001b[32m[1112 12:45:53 @monitor.py:362]\u001b[0m learning_rate: 0.0001\n",
      "\u001b[32m[1112 12:45:53 @monitor.py:362]\u001b[0m loss/value: 7.025\n",
      "\u001b[32m[1112 12:45:53 @monitor.py:362]\u001b[0m macro_auc: 0.85599\n",
      "\u001b[32m[1112 12:45:53 @monitor.py:362]\u001b[0m macro_f1: 0.55079\n",
      "\u001b[32m[1112 12:45:53 @monitor.py:362]\u001b[0m mean_average_precision: 0.55588\n",
      "\u001b[32m[1112 12:45:53 @monitor.py:362]\u001b[0m micro_auc: 0.86737\n",
      "\u001b[32m[1112 12:45:53 @monitor.py:362]\u001b[0m micro_f1: 0.57002\n",
      "\u001b[32m[1112 12:45:53 @monitor.py:362]\u001b[0m one_error: 0.41711\n",
      "\u001b[32m[1112 12:45:53 @monitor.py:362]\u001b[0m ranking_loss: 0.13968\n",
      "\u001b[32m[1112 12:45:53 @monitor.py:362]\u001b[0m ranking_mean_average_precision: 0.71387\n",
      "\u001b[32m[1112 12:45:53 @monitor.py:362]\u001b[0m training_ap: 0.57106\n",
      "\u001b[32m[1112 12:45:53 @monitor.py:362]\u001b[0m training_auc: 0.84728\n",
      "\u001b[32m[1112 12:45:53 @base.py:257]\u001b[0m Start Epoch 182 ...\n"
     ]
    },
    {
     "name": "stderr",
     "output_type": "stream",
     "text": [
      "\n",
      "100%|##########|23/23[00:01<00:00,15.42it/s]"
     ]
    },
    {
     "name": "stdout",
     "output_type": "stream",
     "text": [
      "\u001b[32m[1112 12:45:55 @base.py:267]\u001b[0m Epoch 182 (global_step 4186) finished, time:1.50 sec.\n"
     ]
    },
    {
     "name": "stderr",
     "output_type": "stream",
     "text": [
      "\n",
      "100%|##########|5/5[00:00<00:00,10.73it/s]"
     ]
    },
    {
     "name": "stdout",
     "output_type": "stream",
     "text": [
      "\u001b[32m[1112 12:45:55 @saver.py:90]\u001b[0m Model saved to train_log/sift-512-hidden-gls-r5/model-4186.\n",
      "\u001b[32m[1112 12:45:55 @monitor.py:362]\u001b[0m DataParallelInferenceRunner/QueueInput/queue_size: 49.931\n",
      "\u001b[32m[1112 12:45:55 @monitor.py:362]\u001b[0m QueueInput/queue_size: 49.861\n",
      "\u001b[32m[1112 12:45:55 @monitor.py:362]\u001b[0m coverage: 2.1016\n",
      "\u001b[32m[1112 12:45:55 @monitor.py:362]\u001b[0m doubly_stochastic_loss: 0.68877\n",
      "\u001b[32m[1112 12:45:55 @monitor.py:362]\u001b[0m learning_rate: 0.0001\n",
      "\u001b[32m[1112 12:45:55 @monitor.py:362]\u001b[0m loss/value: 7.0462\n",
      "\u001b[32m[1112 12:45:55 @monitor.py:362]\u001b[0m macro_auc: 0.8505\n",
      "\u001b[32m[1112 12:45:55 @monitor.py:362]\u001b[0m macro_f1: 0.54275\n",
      "\u001b[32m[1112 12:45:55 @monitor.py:362]\u001b[0m mean_average_precision: 0.56626\n",
      "\u001b[32m[1112 12:45:55 @monitor.py:362]\u001b[0m micro_auc: 0.86074\n",
      "\u001b[32m[1112 12:45:55 @monitor.py:362]\u001b[0m micro_f1: 0.5667\n",
      "\u001b[32m[1112 12:45:55 @monitor.py:362]\u001b[0m one_error: 0.39929\n",
      "\u001b[32m[1112 12:45:55 @monitor.py:362]\u001b[0m ranking_loss: 0.14051\n",
      "\u001b[32m[1112 12:45:55 @monitor.py:362]\u001b[0m ranking_mean_average_precision: 0.71904\n",
      "\u001b[32m[1112 12:45:55 @monitor.py:362]\u001b[0m training_ap: 0.57172\n",
      "\u001b[32m[1112 12:45:55 @monitor.py:362]\u001b[0m training_auc: 0.84759\n",
      "\u001b[32m[1112 12:45:55 @base.py:257]\u001b[0m Start Epoch 183 ...\n"
     ]
    },
    {
     "name": "stderr",
     "output_type": "stream",
     "text": [
      "\n",
      "100%|##########|23/23[00:01<00:00,15.17it/s]"
     ]
    },
    {
     "name": "stdout",
     "output_type": "stream",
     "text": [
      "\u001b[32m[1112 12:45:57 @base.py:267]\u001b[0m Epoch 183 (global_step 4209) finished, time:1.52 sec.\n"
     ]
    },
    {
     "name": "stderr",
     "output_type": "stream",
     "text": [
      "\n",
      "100%|##########|5/5[00:00<00:00,10.02it/s]"
     ]
    },
    {
     "name": "stdout",
     "output_type": "stream",
     "text": [
      "\u001b[32m[1112 12:45:57 @saver.py:90]\u001b[0m Model saved to train_log/sift-512-hidden-gls-r5/model-4209.\n",
      "\u001b[32m[1112 12:45:57 @monitor.py:362]\u001b[0m DataParallelInferenceRunner/QueueInput/queue_size: 49.949\n",
      "\u001b[32m[1112 12:45:57 @monitor.py:362]\u001b[0m QueueInput/queue_size: 49.918\n",
      "\u001b[32m[1112 12:45:57 @monitor.py:362]\u001b[0m coverage: 2.0891\n",
      "\u001b[32m[1112 12:45:57 @monitor.py:362]\u001b[0m doubly_stochastic_loss: 0.62497\n",
      "\u001b[32m[1112 12:45:57 @monitor.py:362]\u001b[0m learning_rate: 0.0001\n",
      "\u001b[32m[1112 12:45:57 @monitor.py:362]\u001b[0m loss/value: 7.0333\n",
      "\u001b[32m[1112 12:45:57 @monitor.py:362]\u001b[0m macro_auc: 0.85882\n",
      "\u001b[32m[1112 12:45:57 @monitor.py:362]\u001b[0m macro_f1: 0.54807\n",
      "\u001b[32m[1112 12:45:57 @monitor.py:362]\u001b[0m mean_average_precision: 0.55661\n",
      "\u001b[32m[1112 12:45:57 @monitor.py:362]\u001b[0m micro_auc: 0.86664\n",
      "\u001b[32m[1112 12:45:57 @monitor.py:362]\u001b[0m micro_f1: 0.56744\n",
      "\u001b[32m[1112 12:45:57 @monitor.py:362]\u001b[0m one_error: 0.41889\n",
      "\u001b[32m[1112 12:45:57 @monitor.py:362]\u001b[0m ranking_loss: 0.13979\n",
      "\u001b[32m[1112 12:45:57 @monitor.py:362]\u001b[0m ranking_mean_average_precision: 0.71247\n",
      "\u001b[32m[1112 12:45:57 @monitor.py:362]\u001b[0m training_ap: 0.57231\n",
      "\u001b[32m[1112 12:45:57 @monitor.py:362]\u001b[0m training_auc: 0.84788\n",
      "\u001b[32m[1112 12:45:57 @base.py:257]\u001b[0m Start Epoch 184 ...\n"
     ]
    },
    {
     "name": "stderr",
     "output_type": "stream",
     "text": [
      "\n",
      "100%|##########|23/23[00:01<00:00,14.80it/s]"
     ]
    },
    {
     "name": "stdout",
     "output_type": "stream",
     "text": [
      "\u001b[32m[1112 12:45:59 @base.py:267]\u001b[0m Epoch 184 (global_step 4232) finished, time:1.56 sec.\n"
     ]
    },
    {
     "name": "stderr",
     "output_type": "stream",
     "text": [
      "\n",
      "100%|##########|5/5[00:00<00:00,10.24it/s]"
     ]
    },
    {
     "name": "stdout",
     "output_type": "stream",
     "text": [
      "\u001b[32m[1112 12:45:59 @saver.py:90]\u001b[0m Model saved to train_log/sift-512-hidden-gls-r5/model-4232.\n",
      "\u001b[32m[1112 12:45:59 @monitor.py:362]\u001b[0m DataParallelInferenceRunner/QueueInput/queue_size: 49.963\n",
      "\u001b[32m[1112 12:45:59 @monitor.py:362]\u001b[0m QueueInput/queue_size: 49.864\n",
      "\u001b[32m[1112 12:45:59 @monitor.py:362]\u001b[0m coverage: 2.0374\n",
      "\u001b[32m[1112 12:45:59 @monitor.py:362]\u001b[0m doubly_stochastic_loss: 0.61921\n",
      "\u001b[32m[1112 12:45:59 @monitor.py:362]\u001b[0m learning_rate: 0.0001\n",
      "\u001b[32m[1112 12:45:59 @monitor.py:362]\u001b[0m loss/value: 7.0348\n",
      "\u001b[32m[1112 12:45:59 @monitor.py:362]\u001b[0m macro_auc: 0.86788\n",
      "\u001b[32m[1112 12:45:59 @monitor.py:362]\u001b[0m macro_f1: 0.56289\n",
      "\u001b[32m[1112 12:45:59 @monitor.py:362]\u001b[0m mean_average_precision: 0.58559\n",
      "\u001b[32m[1112 12:45:59 @monitor.py:362]\u001b[0m micro_auc: 0.87459\n",
      "\u001b[32m[1112 12:45:59 @monitor.py:362]\u001b[0m micro_f1: 0.57897\n",
      "\u001b[32m[1112 12:45:59 @monitor.py:362]\u001b[0m one_error: 0.40463\n",
      "\u001b[32m[1112 12:45:59 @monitor.py:362]\u001b[0m ranking_loss: 0.13667\n",
      "\u001b[32m[1112 12:45:59 @monitor.py:362]\u001b[0m ranking_mean_average_precision: 0.72344\n",
      "\u001b[32m[1112 12:45:59 @monitor.py:362]\u001b[0m training_ap: 0.57294\n",
      "\u001b[32m[1112 12:45:59 @monitor.py:362]\u001b[0m training_auc: 0.84819\n",
      "\u001b[32m[1112 12:45:59 @base.py:257]\u001b[0m Start Epoch 185 ...\n"
     ]
    },
    {
     "name": "stderr",
     "output_type": "stream",
     "text": [
      "\n",
      "100%|##########|23/23[00:01<00:00,15.69it/s]"
     ]
    },
    {
     "name": "stdout",
     "output_type": "stream",
     "text": [
      "\u001b[32m[1112 12:46:01 @base.py:267]\u001b[0m Epoch 185 (global_step 4255) finished, time:1.47 sec.\n"
     ]
    },
    {
     "name": "stderr",
     "output_type": "stream",
     "text": [
      "\n",
      "100%|##########|5/5[00:00<00:00, 8.92it/s]"
     ]
    },
    {
     "name": "stdout",
     "output_type": "stream",
     "text": [
      "\u001b[32m[1112 12:46:02 @saver.py:90]\u001b[0m Model saved to train_log/sift-512-hidden-gls-r5/model-4255.\n",
      "\u001b[32m[1112 12:46:02 @monitor.py:362]\u001b[0m DataParallelInferenceRunner/QueueInput/queue_size: 49.973\n",
      "\u001b[32m[1112 12:46:02 @monitor.py:362]\u001b[0m QueueInput/queue_size: 49.895\n",
      "\u001b[32m[1112 12:46:02 @monitor.py:362]\u001b[0m coverage: 2.0998\n",
      "\u001b[32m[1112 12:46:02 @monitor.py:362]\u001b[0m doubly_stochastic_loss: 0.23268\n",
      "\u001b[32m[1112 12:46:02 @monitor.py:362]\u001b[0m learning_rate: 0.0001\n",
      "\u001b[32m[1112 12:46:02 @monitor.py:362]\u001b[0m loss/value: 7.1553\n",
      "\u001b[32m[1112 12:46:02 @monitor.py:362]\u001b[0m macro_auc: 0.85798\n",
      "\u001b[32m[1112 12:46:02 @monitor.py:362]\u001b[0m macro_f1: 0.54827\n",
      "\u001b[32m[1112 12:46:02 @monitor.py:362]\u001b[0m mean_average_precision: 0.57016\n",
      "\u001b[32m[1112 12:46:02 @monitor.py:362]\u001b[0m micro_auc: 0.86747\n",
      "\u001b[32m[1112 12:46:02 @monitor.py:362]\u001b[0m micro_f1: 0.56444\n",
      "\u001b[32m[1112 12:46:02 @monitor.py:362]\u001b[0m one_error: 0.41711\n",
      "\u001b[32m[1112 12:46:02 @monitor.py:362]\u001b[0m ranking_loss: 0.14245\n",
      "\u001b[32m[1112 12:46:02 @monitor.py:362]\u001b[0m ranking_mean_average_precision: 0.71189\n",
      "\u001b[32m[1112 12:46:02 @monitor.py:362]\u001b[0m training_ap: 0.5735\n",
      "\u001b[32m[1112 12:46:02 @monitor.py:362]\u001b[0m training_auc: 0.84845\n",
      "\u001b[32m[1112 12:46:02 @base.py:257]\u001b[0m Start Epoch 186 ...\n"
     ]
    },
    {
     "name": "stderr",
     "output_type": "stream",
     "text": [
      "\n",
      "100%|##########|23/23[00:01<00:00,15.59it/s]"
     ]
    },
    {
     "name": "stdout",
     "output_type": "stream",
     "text": [
      "\u001b[32m[1112 12:46:03 @base.py:267]\u001b[0m Epoch 186 (global_step 4278) finished, time:1.48 sec.\n"
     ]
    },
    {
     "name": "stderr",
     "output_type": "stream",
     "text": [
      "\n",
      "100%|##########|5/5[00:00<00:00,11.08it/s]"
     ]
    },
    {
     "name": "stdout",
     "output_type": "stream",
     "text": [
      "\u001b[32m[1112 12:46:04 @saver.py:90]\u001b[0m Model saved to train_log/sift-512-hidden-gls-r5/model-4278.\n",
      "\u001b[32m[1112 12:46:04 @monitor.py:362]\u001b[0m DataParallelInferenceRunner/QueueInput/queue_size: 49.98\n",
      "\u001b[32m[1112 12:46:04 @monitor.py:362]\u001b[0m QueueInput/queue_size: 49.968\n",
      "\u001b[32m[1112 12:46:04 @monitor.py:362]\u001b[0m coverage: 2.0749\n",
      "\u001b[32m[1112 12:46:04 @monitor.py:362]\u001b[0m doubly_stochastic_loss: 1.1025\n",
      "\u001b[32m[1112 12:46:04 @monitor.py:362]\u001b[0m learning_rate: 0.0001\n",
      "\u001b[32m[1112 12:46:04 @monitor.py:362]\u001b[0m loss/value: 7.0459\n",
      "\u001b[32m[1112 12:46:04 @monitor.py:362]\u001b[0m macro_auc: 0.85587\n",
      "\u001b[32m[1112 12:46:04 @monitor.py:362]\u001b[0m macro_f1: 0.55086\n",
      "\u001b[32m[1112 12:46:04 @monitor.py:362]\u001b[0m mean_average_precision: 0.56309\n",
      "\u001b[32m[1112 12:46:04 @monitor.py:362]\u001b[0m micro_auc: 0.86761\n",
      "\u001b[32m[1112 12:46:04 @monitor.py:362]\u001b[0m micro_f1: 0.57266\n",
      "\u001b[32m[1112 12:46:04 @monitor.py:362]\u001b[0m one_error: 0.4082\n",
      "\u001b[32m[1112 12:46:04 @monitor.py:362]\u001b[0m ranking_loss: 0.13916\n",
      "\u001b[32m[1112 12:46:04 @monitor.py:362]\u001b[0m ranking_mean_average_precision: 0.71731\n",
      "\u001b[32m[1112 12:46:04 @monitor.py:362]\u001b[0m training_ap: 0.57412\n",
      "\u001b[32m[1112 12:46:04 @monitor.py:362]\u001b[0m training_auc: 0.84876\n",
      "\u001b[32m[1112 12:46:04 @base.py:257]\u001b[0m Start Epoch 187 ...\n"
     ]
    },
    {
     "name": "stderr",
     "output_type": "stream",
     "text": [
      "\n",
      "100%|##########|23/23[00:01<00:00,14.84it/s]"
     ]
    },
    {
     "name": "stdout",
     "output_type": "stream",
     "text": [
      "\u001b[32m[1112 12:46:05 @base.py:267]\u001b[0m Epoch 187 (global_step 4301) finished, time:1.55 sec.\n"
     ]
    },
    {
     "name": "stderr",
     "output_type": "stream",
     "text": [
      "\n",
      "100%|##########|5/5[00:00<00:00, 9.60it/s]"
     ]
    },
    {
     "name": "stdout",
     "output_type": "stream",
     "text": [
      "\u001b[32m[1112 12:46:06 @saver.py:90]\u001b[0m Model saved to train_log/sift-512-hidden-gls-r5/model-4301.\n",
      "\u001b[32m[1112 12:46:06 @monitor.py:362]\u001b[0m DataParallelInferenceRunner/QueueInput/queue_size: 49.945\n",
      "\u001b[32m[1112 12:46:06 @monitor.py:362]\u001b[0m QueueInput/queue_size: 49.905\n",
      "\u001b[32m[1112 12:46:06 @monitor.py:362]\u001b[0m coverage: 2.0802\n",
      "\u001b[32m[1112 12:46:06 @monitor.py:362]\u001b[0m doubly_stochastic_loss: 1.4063\n",
      "\u001b[32m[1112 12:46:06 @monitor.py:362]\u001b[0m learning_rate: 0.0001\n",
      "\u001b[32m[1112 12:46:06 @monitor.py:362]\u001b[0m loss/value: 7.2541\n",
      "\u001b[32m[1112 12:46:06 @monitor.py:362]\u001b[0m macro_auc: 0.8539\n",
      "\u001b[32m[1112 12:46:06 @monitor.py:362]\u001b[0m macro_f1: 0.54376\n",
      "\u001b[32m[1112 12:46:06 @monitor.py:362]\u001b[0m mean_average_precision: 0.56498\n",
      "\u001b[32m[1112 12:46:06 @monitor.py:362]\u001b[0m micro_auc: 0.86681\n",
      "\u001b[32m[1112 12:46:06 @monitor.py:362]\u001b[0m micro_f1: 0.56857\n",
      "\u001b[32m[1112 12:46:06 @monitor.py:362]\u001b[0m one_error: 0.40642\n",
      "\u001b[32m[1112 12:46:06 @monitor.py:362]\u001b[0m ranking_loss: 0.13994\n",
      "\u001b[32m[1112 12:46:06 @monitor.py:362]\u001b[0m ranking_mean_average_precision: 0.72225\n",
      "\u001b[32m[1112 12:46:06 @monitor.py:362]\u001b[0m training_ap: 0.57472\n",
      "\u001b[32m[1112 12:46:06 @monitor.py:362]\u001b[0m training_auc: 0.84904\n",
      "\u001b[32m[1112 12:46:06 @base.py:257]\u001b[0m Start Epoch 188 ...\n"
     ]
    },
    {
     "name": "stderr",
     "output_type": "stream",
     "text": [
      "\n",
      "100%|##########|23/23[00:01<00:00,15.21it/s]"
     ]
    },
    {
     "name": "stdout",
     "output_type": "stream",
     "text": [
      "\u001b[32m[1112 12:46:07 @base.py:267]\u001b[0m Epoch 188 (global_step 4324) finished, time:1.52 sec.\n"
     ]
    },
    {
     "name": "stderr",
     "output_type": "stream",
     "text": [
      "\n",
      "100%|##########|5/5[00:00<00:00, 9.22it/s]"
     ]
    },
    {
     "name": "stdout",
     "output_type": "stream",
     "text": [
      "\u001b[32m[1112 12:46:08 @saver.py:90]\u001b[0m Model saved to train_log/sift-512-hidden-gls-r5/model-4324.\n",
      "\u001b[32m[1112 12:46:08 @monitor.py:362]\u001b[0m DataParallelInferenceRunner/QueueInput/queue_size: 49.959\n",
      "\u001b[32m[1112 12:46:08 @monitor.py:362]\u001b[0m QueueInput/queue_size: 49.915\n",
      "\u001b[32m[1112 12:46:08 @monitor.py:362]\u001b[0m coverage: 2.0232\n",
      "\u001b[32m[1112 12:46:08 @monitor.py:362]\u001b[0m doubly_stochastic_loss: 0.55215\n",
      "\u001b[32m[1112 12:46:08 @monitor.py:362]\u001b[0m learning_rate: 0.0001\n",
      "\u001b[32m[1112 12:46:08 @monitor.py:362]\u001b[0m loss/value: 7.2319\n",
      "\u001b[32m[1112 12:46:08 @monitor.py:362]\u001b[0m macro_auc: 0.86525\n",
      "\u001b[32m[1112 12:46:08 @monitor.py:362]\u001b[0m macro_f1: 0.54004\n",
      "\u001b[32m[1112 12:46:08 @monitor.py:362]\u001b[0m mean_average_precision: 0.57981\n",
      "\u001b[32m[1112 12:46:08 @monitor.py:362]\u001b[0m micro_auc: 0.87232\n",
      "\u001b[32m[1112 12:46:08 @monitor.py:362]\u001b[0m micro_f1: 0.56554\n",
      "\u001b[32m[1112 12:46:08 @monitor.py:362]\u001b[0m one_error: 0.3975\n",
      "\u001b[32m[1112 12:46:08 @monitor.py:362]\u001b[0m ranking_loss: 0.13337\n",
      "\u001b[32m[1112 12:46:08 @monitor.py:362]\u001b[0m ranking_mean_average_precision: 0.72675\n",
      "\u001b[32m[1112 12:46:08 @monitor.py:362]\u001b[0m training_ap: 0.5753\n",
      "\u001b[32m[1112 12:46:08 @monitor.py:362]\u001b[0m training_auc: 0.84931\n",
      "\u001b[32m[1112 12:46:08 @base.py:257]\u001b[0m Start Epoch 189 ...\n"
     ]
    },
    {
     "name": "stderr",
     "output_type": "stream",
     "text": [
      "\n",
      "100%|##########|23/23[00:01<00:00,16.02it/s]"
     ]
    },
    {
     "name": "stdout",
     "output_type": "stream",
     "text": [
      "\u001b[32m[1112 12:46:09 @base.py:267]\u001b[0m Epoch 189 (global_step 4347) finished, time:1.44 sec.\n"
     ]
    },
    {
     "name": "stderr",
     "output_type": "stream",
     "text": [
      "\n",
      "100%|##########|5/5[00:00<00:00,10.20it/s]"
     ]
    },
    {
     "name": "stdout",
     "output_type": "stream",
     "text": [
      "\u001b[32m[1112 12:46:10 @saver.py:90]\u001b[0m Model saved to train_log/sift-512-hidden-gls-r5/model-4347.\n",
      "\u001b[32m[1112 12:46:10 @monitor.py:362]\u001b[0m DataParallelInferenceRunner/QueueInput/queue_size: 49.929\n",
      "\u001b[32m[1112 12:46:10 @monitor.py:362]\u001b[0m QueueInput/queue_size: 49.861\n",
      "\u001b[32m[1112 12:46:10 @monitor.py:362]\u001b[0m coverage: 2.0624\n",
      "\u001b[32m[1112 12:46:10 @monitor.py:362]\u001b[0m doubly_stochastic_loss: 0.73812\n",
      "\u001b[32m[1112 12:46:10 @monitor.py:362]\u001b[0m learning_rate: 0.0001\n",
      "\u001b[32m[1112 12:46:10 @monitor.py:362]\u001b[0m loss/value: 7.062\n",
      "\u001b[32m[1112 12:46:10 @monitor.py:362]\u001b[0m macro_auc: 0.85895\n",
      "\u001b[32m[1112 12:46:10 @monitor.py:362]\u001b[0m macro_f1: 0.54733\n",
      "\u001b[32m[1112 12:46:10 @monitor.py:362]\u001b[0m mean_average_precision: 0.56397\n",
      "\u001b[32m[1112 12:46:10 @monitor.py:362]\u001b[0m micro_auc: 0.86737\n",
      "\u001b[32m[1112 12:46:10 @monitor.py:362]\u001b[0m micro_f1: 0.56943\n",
      "\u001b[32m[1112 12:46:10 @monitor.py:362]\u001b[0m one_error: 0.41355\n",
      "\u001b[32m[1112 12:46:10 @monitor.py:362]\u001b[0m ranking_loss: 0.13981\n",
      "\u001b[32m[1112 12:46:10 @monitor.py:362]\u001b[0m ranking_mean_average_precision: 0.71639\n",
      "\u001b[32m[1112 12:46:10 @monitor.py:362]\u001b[0m training_ap: 0.57596\n",
      "\u001b[32m[1112 12:46:10 @monitor.py:362]\u001b[0m training_auc: 0.84962\n",
      "\u001b[32m[1112 12:46:10 @base.py:257]\u001b[0m Start Epoch 190 ...\n"
     ]
    },
    {
     "name": "stderr",
     "output_type": "stream",
     "text": [
      "\n",
      "100%|##########|23/23[00:01<00:00,15.06it/s]"
     ]
    },
    {
     "name": "stdout",
     "output_type": "stream",
     "text": [
      "\u001b[32m[1112 12:46:11 @base.py:267]\u001b[0m Epoch 190 (global_step 4370) finished, time:1.53 sec.\n"
     ]
    },
    {
     "name": "stderr",
     "output_type": "stream",
     "text": [
      "\n",
      "100%|##########|5/5[00:00<00:00, 9.11it/s]"
     ]
    },
    {
     "name": "stdout",
     "output_type": "stream",
     "text": [
      "\u001b[32m[1112 12:46:12 @saver.py:90]\u001b[0m Model saved to train_log/sift-512-hidden-gls-r5/model-4370.\n",
      "\u001b[32m[1112 12:46:12 @monitor.py:362]\u001b[0m DataParallelInferenceRunner/QueueInput/queue_size: 49.907\n",
      "\u001b[32m[1112 12:46:12 @monitor.py:362]\u001b[0m QueueInput/queue_size: 49.919\n",
      "\u001b[32m[1112 12:46:12 @monitor.py:362]\u001b[0m coverage: 2.0963\n",
      "\u001b[32m[1112 12:46:12 @monitor.py:362]\u001b[0m doubly_stochastic_loss: 0.28796\n",
      "\u001b[32m[1112 12:46:12 @monitor.py:362]\u001b[0m learning_rate: 0.0001\n",
      "\u001b[32m[1112 12:46:12 @monitor.py:362]\u001b[0m loss/value: 7.0056\n",
      "\u001b[32m[1112 12:46:12 @monitor.py:362]\u001b[0m macro_auc: 0.85451\n",
      "\u001b[32m[1112 12:46:12 @monitor.py:362]\u001b[0m macro_f1: 0.54587\n",
      "\u001b[32m[1112 12:46:12 @monitor.py:362]\u001b[0m mean_average_precision: 0.55514\n",
      "\u001b[32m[1112 12:46:12 @monitor.py:362]\u001b[0m micro_auc: 0.86494\n",
      "\u001b[32m[1112 12:46:12 @monitor.py:362]\u001b[0m micro_f1: 0.5709\n",
      "\u001b[32m[1112 12:46:12 @monitor.py:362]\u001b[0m one_error: 0.42246\n",
      "\u001b[32m[1112 12:46:12 @monitor.py:362]\u001b[0m ranking_loss: 0.14423\n",
      "\u001b[32m[1112 12:46:12 @monitor.py:362]\u001b[0m ranking_mean_average_precision: 0.711\n",
      "\u001b[32m[1112 12:46:12 @monitor.py:362]\u001b[0m training_ap: 0.57652\n",
      "\u001b[32m[1112 12:46:12 @monitor.py:362]\u001b[0m training_auc: 0.8499\n",
      "\u001b[32m[1112 12:46:12 @base.py:257]\u001b[0m Start Epoch 191 ...\n"
     ]
    },
    {
     "name": "stderr",
     "output_type": "stream",
     "text": [
      "\n",
      "100%|##########|23/23[00:01<00:00,15.28it/s]"
     ]
    },
    {
     "name": "stdout",
     "output_type": "stream",
     "text": [
      "\u001b[32m[1112 12:46:14 @base.py:267]\u001b[0m Epoch 191 (global_step 4393) finished, time:1.51 sec.\n"
     ]
    },
    {
     "name": "stderr",
     "output_type": "stream",
     "text": [
      "\n",
      "100%|##########|5/5[00:00<00:00, 9.56it/s]"
     ]
    },
    {
     "name": "stdout",
     "output_type": "stream",
     "text": [
      "\u001b[32m[1112 12:46:14 @saver.py:90]\u001b[0m Model saved to train_log/sift-512-hidden-gls-r5/model-4393.\n",
      "\u001b[32m[1112 12:46:14 @monitor.py:362]\u001b[0m DataParallelInferenceRunner/QueueInput/queue_size: 49.891\n",
      "\u001b[32m[1112 12:46:14 @monitor.py:362]\u001b[0m QueueInput/queue_size: 49.873\n",
      "\u001b[32m[1112 12:46:14 @monitor.py:362]\u001b[0m coverage: 2.1497\n",
      "\u001b[32m[1112 12:46:14 @monitor.py:362]\u001b[0m doubly_stochastic_loss: 0.30858\n",
      "\u001b[32m[1112 12:46:14 @monitor.py:362]\u001b[0m learning_rate: 0.0001\n",
      "\u001b[32m[1112 12:46:14 @monitor.py:362]\u001b[0m loss/value: 7.0119\n",
      "\u001b[32m[1112 12:46:14 @monitor.py:362]\u001b[0m macro_auc: 0.84677\n",
      "\u001b[32m[1112 12:46:14 @monitor.py:362]\u001b[0m macro_f1: 0.54964\n",
      "\u001b[32m[1112 12:46:14 @monitor.py:362]\u001b[0m mean_average_precision: 0.56939\n",
      "\u001b[32m[1112 12:46:14 @monitor.py:362]\u001b[0m micro_auc: 0.86052\n",
      "\u001b[32m[1112 12:46:14 @monitor.py:362]\u001b[0m micro_f1: 0.57023\n",
      "\u001b[32m[1112 12:46:14 @monitor.py:362]\u001b[0m one_error: 0.41355\n",
      "\u001b[32m[1112 12:46:14 @monitor.py:362]\u001b[0m ranking_loss: 0.1477\n",
      "\u001b[32m[1112 12:46:14 @monitor.py:362]\u001b[0m ranking_mean_average_precision: 0.71139\n",
      "\u001b[32m[1112 12:46:14 @monitor.py:362]\u001b[0m training_ap: 0.5771\n",
      "\u001b[32m[1112 12:46:14 @monitor.py:362]\u001b[0m training_auc: 0.85021\n",
      "\u001b[32m[1112 12:46:14 @base.py:257]\u001b[0m Start Epoch 192 ...\n"
     ]
    },
    {
     "name": "stderr",
     "output_type": "stream",
     "text": [
      "\n",
      "100%|##########|23/23[00:01<00:00,14.64it/s]"
     ]
    },
    {
     "name": "stdout",
     "output_type": "stream",
     "text": [
      "\u001b[32m[1112 12:46:16 @base.py:267]\u001b[0m Epoch 192 (global_step 4416) finished, time:1.58 sec.\n"
     ]
    },
    {
     "name": "stderr",
     "output_type": "stream",
     "text": [
      "\n",
      "100%|##########|5/5[00:00<00:00, 9.78it/s]"
     ]
    },
    {
     "name": "stdout",
     "output_type": "stream",
     "text": [
      "\u001b[32m[1112 12:46:16 @saver.py:90]\u001b[0m Model saved to train_log/sift-512-hidden-gls-r5/model-4416.\n",
      "\u001b[32m[1112 12:46:16 @monitor.py:362]\u001b[0m DataParallelInferenceRunner/QueueInput/queue_size: 49.92\n",
      "\u001b[32m[1112 12:46:16 @monitor.py:362]\u001b[0m QueueInput/queue_size: 49.778\n",
      "\u001b[32m[1112 12:46:16 @monitor.py:362]\u001b[0m coverage: 2.1194\n",
      "\u001b[32m[1112 12:46:16 @monitor.py:362]\u001b[0m doubly_stochastic_loss: 0.74279\n",
      "\u001b[32m[1112 12:46:16 @monitor.py:362]\u001b[0m learning_rate: 0.0001\n",
      "\u001b[32m[1112 12:46:16 @monitor.py:362]\u001b[0m loss/value: 7.0088\n",
      "\u001b[32m[1112 12:46:16 @monitor.py:362]\u001b[0m macro_auc: 0.84589\n",
      "\u001b[32m[1112 12:46:16 @monitor.py:362]\u001b[0m macro_f1: 0.53888\n",
      "\u001b[32m[1112 12:46:16 @monitor.py:362]\u001b[0m mean_average_precision: 0.54218\n",
      "\u001b[32m[1112 12:46:16 @monitor.py:362]\u001b[0m micro_auc: 0.86093\n",
      "\u001b[32m[1112 12:46:16 @monitor.py:362]\u001b[0m micro_f1: 0.56166\n",
      "\u001b[32m[1112 12:46:16 @monitor.py:362]\u001b[0m one_error: 0.41533\n",
      "\u001b[32m[1112 12:46:16 @monitor.py:362]\u001b[0m ranking_loss: 0.14469\n",
      "\u001b[32m[1112 12:46:16 @monitor.py:362]\u001b[0m ranking_mean_average_precision: 0.71151\n",
      "\u001b[32m[1112 12:46:16 @monitor.py:362]\u001b[0m training_ap: 0.57769\n",
      "\u001b[32m[1112 12:46:16 @monitor.py:362]\u001b[0m training_auc: 0.8505\n",
      "\u001b[32m[1112 12:46:16 @base.py:257]\u001b[0m Start Epoch 193 ...\n"
     ]
    },
    {
     "name": "stderr",
     "output_type": "stream",
     "text": [
      "\n",
      "100%|##########|23/23[00:01<00:00,14.87it/s]"
     ]
    },
    {
     "name": "stdout",
     "output_type": "stream",
     "text": [
      "\u001b[32m[1112 12:46:18 @base.py:267]\u001b[0m Epoch 193 (global_step 4439) finished, time:1.55 sec.\n"
     ]
    },
    {
     "name": "stderr",
     "output_type": "stream",
     "text": [
      "\n",
      "100%|##########|5/5[00:00<00:00,10.96it/s]"
     ]
    },
    {
     "name": "stdout",
     "output_type": "stream",
     "text": [
      "\u001b[32m[1112 12:46:18 @saver.py:90]\u001b[0m Model saved to train_log/sift-512-hidden-gls-r5/model-4439.\n",
      "\u001b[32m[1112 12:46:18 @monitor.py:362]\u001b[0m DataParallelInferenceRunner/QueueInput/queue_size: 49.9\n",
      "\u001b[32m[1112 12:46:18 @monitor.py:362]\u001b[0m QueueInput/queue_size: 49.888\n",
      "\u001b[32m[1112 12:46:18 @monitor.py:362]\u001b[0m coverage: 2.1034\n",
      "\u001b[32m[1112 12:46:18 @monitor.py:362]\u001b[0m doubly_stochastic_loss: 1.1658\n",
      "\u001b[32m[1112 12:46:18 @monitor.py:362]\u001b[0m learning_rate: 0.0001\n",
      "\u001b[32m[1112 12:46:18 @monitor.py:362]\u001b[0m loss/value: 6.9396\n",
      "\u001b[32m[1112 12:46:18 @monitor.py:362]\u001b[0m macro_auc: 0.85472\n",
      "\u001b[32m[1112 12:46:18 @monitor.py:362]\u001b[0m macro_f1: 0.54408\n",
      "\u001b[32m[1112 12:46:18 @monitor.py:362]\u001b[0m mean_average_precision: 0.56014\n",
      "\u001b[32m[1112 12:46:18 @monitor.py:362]\u001b[0m micro_auc: 0.86637\n",
      "\u001b[32m[1112 12:46:18 @monitor.py:362]\u001b[0m micro_f1: 0.56695\n",
      "\u001b[32m[1112 12:46:18 @monitor.py:362]\u001b[0m one_error: 0.42602\n",
      "\u001b[32m[1112 12:46:18 @monitor.py:362]\u001b[0m ranking_loss: 0.14405\n",
      "\u001b[32m[1112 12:46:18 @monitor.py:362]\u001b[0m ranking_mean_average_precision: 0.71047\n",
      "\u001b[32m[1112 12:46:18 @monitor.py:362]\u001b[0m training_ap: 0.5783\n",
      "\u001b[32m[1112 12:46:18 @monitor.py:362]\u001b[0m training_auc: 0.85079\n",
      "\u001b[32m[1112 12:46:18 @base.py:257]\u001b[0m Start Epoch 194 ...\n"
     ]
    },
    {
     "name": "stderr",
     "output_type": "stream",
     "text": [
      "\n",
      "100%|##########|23/23[00:01<00:00,15.35it/s]"
     ]
    },
    {
     "name": "stdout",
     "output_type": "stream",
     "text": [
      "\u001b[32m[1112 12:46:20 @base.py:267]\u001b[0m Epoch 194 (global_step 4462) finished, time:1.50 sec.\n"
     ]
    },
    {
     "name": "stderr",
     "output_type": "stream",
     "text": [
      "\n",
      "100%|##########|5/5[00:00<00:00,10.45it/s]"
     ]
    },
    {
     "name": "stdout",
     "output_type": "stream",
     "text": [
      "\u001b[32m[1112 12:46:20 @saver.py:90]\u001b[0m Model saved to train_log/sift-512-hidden-gls-r5/model-4462.\n",
      "\u001b[32m[1112 12:46:20 @monitor.py:362]\u001b[0m DataParallelInferenceRunner/QueueInput/queue_size: 49.927\n",
      "\u001b[32m[1112 12:46:20 @monitor.py:362]\u001b[0m QueueInput/queue_size: 49.908\n",
      "\u001b[32m[1112 12:46:20 @monitor.py:362]\u001b[0m coverage: 2.1515\n",
      "\u001b[32m[1112 12:46:20 @monitor.py:362]\u001b[0m doubly_stochastic_loss: 0.7304\n",
      "\u001b[32m[1112 12:46:20 @monitor.py:362]\u001b[0m learning_rate: 0.0001\n",
      "\u001b[32m[1112 12:46:20 @monitor.py:362]\u001b[0m loss/value: 7.1257\n",
      "\u001b[32m[1112 12:46:20 @monitor.py:362]\u001b[0m macro_auc: 0.8525\n",
      "\u001b[32m[1112 12:46:20 @monitor.py:362]\u001b[0m macro_f1: 0.54853\n",
      "\u001b[32m[1112 12:46:20 @monitor.py:362]\u001b[0m mean_average_precision: 0.56778\n",
      "\u001b[32m[1112 12:46:20 @monitor.py:362]\u001b[0m micro_auc: 0.86375\n",
      "\u001b[32m[1112 12:46:20 @monitor.py:362]\u001b[0m micro_f1: 0.5669\n",
      "\u001b[32m[1112 12:46:20 @monitor.py:362]\u001b[0m one_error: 0.43316\n",
      "\u001b[32m[1112 12:46:20 @monitor.py:362]\u001b[0m ranking_loss: 0.14788\n",
      "\u001b[32m[1112 12:46:20 @monitor.py:362]\u001b[0m ranking_mean_average_precision: 0.70196\n",
      "\u001b[32m[1112 12:46:20 @monitor.py:362]\u001b[0m training_ap: 0.57883\n",
      "\u001b[32m[1112 12:46:20 @monitor.py:362]\u001b[0m training_auc: 0.85105\n",
      "\u001b[32m[1112 12:46:20 @base.py:257]\u001b[0m Start Epoch 195 ...\n"
     ]
    },
    {
     "name": "stderr",
     "output_type": "stream",
     "text": [
      "\n",
      "100%|##########|23/23[00:01<00:00,14.72it/s]"
     ]
    },
    {
     "name": "stdout",
     "output_type": "stream",
     "text": [
      "\u001b[32m[1112 12:46:22 @base.py:267]\u001b[0m Epoch 195 (global_step 4485) finished, time:1.59 sec.\n"
     ]
    },
    {
     "name": "stderr",
     "output_type": "stream",
     "text": [
      "\n",
      "100%|##########|5/5[00:00<00:00, 8.98it/s]"
     ]
    },
    {
     "name": "stdout",
     "output_type": "stream",
     "text": [
      "\u001b[32m[1112 12:46:23 @saver.py:90]\u001b[0m Model saved to train_log/sift-512-hidden-gls-r5/model-4485.\n",
      "\u001b[32m[1112 12:46:23 @monitor.py:362]\u001b[0m DataParallelInferenceRunner/QueueInput/queue_size: 49.946\n",
      "\u001b[32m[1112 12:46:23 @monitor.py:362]\u001b[0m QueueInput/queue_size: 49.896\n",
      "\u001b[32m[1112 12:46:23 @monitor.py:362]\u001b[0m coverage: 2.0606\n",
      "\u001b[32m[1112 12:46:23 @monitor.py:362]\u001b[0m doubly_stochastic_loss: 0.91617\n",
      "\u001b[32m[1112 12:46:23 @monitor.py:362]\u001b[0m learning_rate: 0.0001\n",
      "\u001b[32m[1112 12:46:23 @monitor.py:362]\u001b[0m loss/value: 7.0951\n",
      "\u001b[32m[1112 12:46:23 @monitor.py:362]\u001b[0m macro_auc: 0.84941\n",
      "\u001b[32m[1112 12:46:23 @monitor.py:362]\u001b[0m macro_f1: 0.55327\n",
      "\u001b[32m[1112 12:46:23 @monitor.py:362]\u001b[0m mean_average_precision: 0.57455\n",
      "\u001b[32m[1112 12:46:23 @monitor.py:362]\u001b[0m micro_auc: 0.86518\n",
      "\u001b[32m[1112 12:46:23 @monitor.py:362]\u001b[0m micro_f1: 0.57775\n",
      "\u001b[32m[1112 12:46:23 @monitor.py:362]\u001b[0m one_error: 0.42068\n",
      "\u001b[32m[1112 12:46:23 @monitor.py:362]\u001b[0m ranking_loss: 0.14156\n",
      "\u001b[32m[1112 12:46:23 @monitor.py:362]\u001b[0m ranking_mean_average_precision: 0.71355\n",
      "\u001b[32m[1112 12:46:23 @monitor.py:362]\u001b[0m training_ap: 0.57939\n",
      "\u001b[32m[1112 12:46:23 @monitor.py:362]\u001b[0m training_auc: 0.85132\n",
      "\u001b[32m[1112 12:46:23 @base.py:257]\u001b[0m Start Epoch 196 ...\n"
     ]
    },
    {
     "name": "stderr",
     "output_type": "stream",
     "text": [
      "\n",
      "100%|##########|23/23[00:01<00:00,15.13it/s]"
     ]
    },
    {
     "name": "stdout",
     "output_type": "stream",
     "text": [
      "\u001b[32m[1112 12:46:24 @base.py:267]\u001b[0m Epoch 196 (global_step 4508) finished, time:1.52 sec.\n"
     ]
    },
    {
     "name": "stderr",
     "output_type": "stream",
     "text": [
      "\n",
      "100%|##########|5/5[00:00<00:00,10.67it/s]"
     ]
    },
    {
     "name": "stdout",
     "output_type": "stream",
     "text": [
      "\u001b[32m[1112 12:46:25 @saver.py:90]\u001b[0m Model saved to train_log/sift-512-hidden-gls-r5/model-4508.\n",
      "\u001b[32m[1112 12:46:25 @monitor.py:362]\u001b[0m DataParallelInferenceRunner/QueueInput/queue_size: 49.92\n",
      "\u001b[32m[1112 12:46:25 @monitor.py:362]\u001b[0m QueueInput/queue_size: 49.867\n",
      "\u001b[32m[1112 12:46:25 @monitor.py:362]\u001b[0m coverage: 2.1586\n",
      "\u001b[32m[1112 12:46:25 @monitor.py:362]\u001b[0m doubly_stochastic_loss: 0.30716\n",
      "\u001b[32m[1112 12:46:25 @monitor.py:362]\u001b[0m learning_rate: 0.0001\n",
      "\u001b[32m[1112 12:46:25 @monitor.py:362]\u001b[0m loss/value: 6.9998\n",
      "\u001b[32m[1112 12:46:25 @monitor.py:362]\u001b[0m macro_auc: 0.84727\n",
      "\u001b[32m[1112 12:46:25 @monitor.py:362]\u001b[0m macro_f1: 0.54038\n",
      "\u001b[32m[1112 12:46:25 @monitor.py:362]\u001b[0m mean_average_precision: 0.54343\n",
      "\u001b[32m[1112 12:46:25 @monitor.py:362]\u001b[0m micro_auc: 0.85955\n",
      "\u001b[32m[1112 12:46:25 @monitor.py:362]\u001b[0m micro_f1: 0.56411\n",
      "\u001b[32m[1112 12:46:25 @monitor.py:362]\u001b[0m one_error: 0.42781\n",
      "\u001b[32m[1112 12:46:25 @monitor.py:362]\u001b[0m ranking_loss: 0.15125\n",
      "\u001b[32m[1112 12:46:25 @monitor.py:362]\u001b[0m ranking_mean_average_precision: 0.70353\n",
      "\u001b[32m[1112 12:46:25 @monitor.py:362]\u001b[0m training_ap: 0.57997\n",
      "\u001b[32m[1112 12:46:25 @monitor.py:362]\u001b[0m training_auc: 0.85159\n",
      "\u001b[32m[1112 12:46:25 @base.py:257]\u001b[0m Start Epoch 197 ...\n"
     ]
    },
    {
     "name": "stderr",
     "output_type": "stream",
     "text": [
      "\n",
      "100%|##########|23/23[00:01<00:00,13.42it/s]"
     ]
    },
    {
     "name": "stdout",
     "output_type": "stream",
     "text": [
      "\u001b[32m[1112 12:46:26 @base.py:267]\u001b[0m Epoch 197 (global_step 4531) finished, time:1.72 sec.\n"
     ]
    },
    {
     "name": "stderr",
     "output_type": "stream",
     "text": [
      "\n",
      "100%|##########|5/5[00:00<00:00,10.72it/s]"
     ]
    },
    {
     "name": "stdout",
     "output_type": "stream",
     "text": [
      "\u001b[32m[1112 12:46:27 @saver.py:90]\u001b[0m Model saved to train_log/sift-512-hidden-gls-r5/model-4531.\n",
      "\u001b[32m[1112 12:46:27 @monitor.py:362]\u001b[0m DataParallelInferenceRunner/QueueInput/queue_size: 49.941\n",
      "\u001b[32m[1112 12:46:27 @monitor.py:362]\u001b[0m QueueInput/queue_size: 49.959\n",
      "\u001b[32m[1112 12:46:27 @monitor.py:362]\u001b[0m coverage: 2.0642\n",
      "\u001b[32m[1112 12:46:27 @monitor.py:362]\u001b[0m doubly_stochastic_loss: 0.94695\n",
      "\u001b[32m[1112 12:46:27 @monitor.py:362]\u001b[0m learning_rate: 0.0001\n",
      "\u001b[32m[1112 12:46:27 @monitor.py:362]\u001b[0m loss/value: 7.0275\n",
      "\u001b[32m[1112 12:46:27 @monitor.py:362]\u001b[0m macro_auc: 0.8533\n",
      "\u001b[32m[1112 12:46:27 @monitor.py:362]\u001b[0m macro_f1: 0.54858\n",
      "\u001b[32m[1112 12:46:27 @monitor.py:362]\u001b[0m mean_average_precision: 0.55757\n",
      "\u001b[32m[1112 12:46:27 @monitor.py:362]\u001b[0m micro_auc: 0.86605\n",
      "\u001b[32m[1112 12:46:27 @monitor.py:362]\u001b[0m micro_f1: 0.57155\n",
      "\u001b[32m[1112 12:46:27 @monitor.py:362]\u001b[0m one_error: 0.4082\n",
      "\u001b[32m[1112 12:46:27 @monitor.py:362]\u001b[0m ranking_loss: 0.1383\n",
      "\u001b[32m[1112 12:46:27 @monitor.py:362]\u001b[0m ranking_mean_average_precision: 0.72169\n",
      "\u001b[32m[1112 12:46:27 @monitor.py:362]\u001b[0m training_ap: 0.58054\n",
      "\u001b[32m[1112 12:46:27 @monitor.py:362]\u001b[0m training_auc: 0.85188\n",
      "\u001b[32m[1112 12:46:27 @base.py:257]\u001b[0m Start Epoch 198 ...\n"
     ]
    },
    {
     "name": "stderr",
     "output_type": "stream",
     "text": [
      "\n",
      "100%|##########|23/23[00:01<00:00,15.06it/s]"
     ]
    },
    {
     "name": "stdout",
     "output_type": "stream",
     "text": [
      "\u001b[32m[1112 12:46:29 @base.py:267]\u001b[0m Epoch 198 (global_step 4554) finished, time:1.53 sec.\n"
     ]
    },
    {
     "name": "stderr",
     "output_type": "stream",
     "text": [
      "\n",
      "100%|##########|5/5[00:00<00:00,11.09it/s]"
     ]
    },
    {
     "name": "stdout",
     "output_type": "stream",
     "text": [
      "\u001b[32m[1112 12:46:29 @saver.py:90]\u001b[0m Model saved to train_log/sift-512-hidden-gls-r5/model-4554.\n",
      "\u001b[32m[1112 12:46:29 @monitor.py:362]\u001b[0m DataParallelInferenceRunner/QueueInput/queue_size: 49.957\n",
      "\u001b[32m[1112 12:46:29 @monitor.py:362]\u001b[0m QueueInput/queue_size: 49.931\n",
      "\u001b[32m[1112 12:46:29 @monitor.py:362]\u001b[0m coverage: 2.0963\n",
      "\u001b[32m[1112 12:46:29 @monitor.py:362]\u001b[0m doubly_stochastic_loss: 1.8028\n",
      "\u001b[32m[1112 12:46:29 @monitor.py:362]\u001b[0m learning_rate: 0.0001\n",
      "\u001b[32m[1112 12:46:29 @monitor.py:362]\u001b[0m loss/value: 6.9792\n",
      "\u001b[32m[1112 12:46:29 @monitor.py:362]\u001b[0m macro_auc: 0.85109\n",
      "\u001b[32m[1112 12:46:29 @monitor.py:362]\u001b[0m macro_f1: 0.54698\n",
      "\u001b[32m[1112 12:46:29 @monitor.py:362]\u001b[0m mean_average_precision: 0.55834\n",
      "\u001b[32m[1112 12:46:29 @monitor.py:362]\u001b[0m micro_auc: 0.86346\n",
      "\u001b[32m[1112 12:46:29 @monitor.py:362]\u001b[0m micro_f1: 0.566\n",
      "\u001b[32m[1112 12:46:29 @monitor.py:362]\u001b[0m one_error: 0.43137\n",
      "\u001b[32m[1112 12:46:29 @monitor.py:362]\u001b[0m ranking_loss: 0.13987\n",
      "\u001b[32m[1112 12:46:29 @monitor.py:362]\u001b[0m ranking_mean_average_precision: 0.70671\n",
      "\u001b[32m[1112 12:46:29 @monitor.py:362]\u001b[0m training_ap: 0.58114\n",
      "\u001b[32m[1112 12:46:29 @monitor.py:362]\u001b[0m training_auc: 0.85217\n",
      "\u001b[32m[1112 12:46:29 @base.py:257]\u001b[0m Start Epoch 199 ...\n"
     ]
    },
    {
     "name": "stderr",
     "output_type": "stream",
     "text": [
      "\n",
      "100%|##########|23/23[00:01<00:00,14.89it/s]"
     ]
    },
    {
     "name": "stdout",
     "output_type": "stream",
     "text": [
      "\u001b[32m[1112 12:46:31 @base.py:267]\u001b[0m Epoch 199 (global_step 4577) finished, time:1.55 sec.\n"
     ]
    },
    {
     "name": "stderr",
     "output_type": "stream",
     "text": [
      "\n",
      "100%|##########|5/5[00:00<00:00, 9.52it/s]"
     ]
    },
    {
     "name": "stdout",
     "output_type": "stream",
     "text": [
      "\u001b[32m[1112 12:46:31 @saver.py:90]\u001b[0m Model saved to train_log/sift-512-hidden-gls-r5/model-4577.\n",
      "\u001b[32m[1112 12:46:31 @monitor.py:362]\u001b[0m DataParallelInferenceRunner/QueueInput/queue_size: 49.968\n",
      "\u001b[32m[1112 12:46:31 @monitor.py:362]\u001b[0m QueueInput/queue_size: 49.911\n",
      "\u001b[32m[1112 12:46:31 @monitor.py:362]\u001b[0m coverage: 2.0606\n",
      "\u001b[32m[1112 12:46:31 @monitor.py:362]\u001b[0m doubly_stochastic_loss: 0.39563\n",
      "\u001b[32m[1112 12:46:31 @monitor.py:362]\u001b[0m learning_rate: 0.0001\n",
      "\u001b[32m[1112 12:46:31 @monitor.py:362]\u001b[0m loss/value: 6.981\n",
      "\u001b[32m[1112 12:46:31 @monitor.py:362]\u001b[0m macro_auc: 0.86304\n",
      "\u001b[32m[1112 12:46:31 @monitor.py:362]\u001b[0m macro_f1: 0.55828\n",
      "\u001b[32m[1112 12:46:31 @monitor.py:362]\u001b[0m mean_average_precision: 0.57579\n",
      "\u001b[32m[1112 12:46:31 @monitor.py:362]\u001b[0m micro_auc: 0.86784\n",
      "\u001b[32m[1112 12:46:31 @monitor.py:362]\u001b[0m micro_f1: 0.57418\n",
      "\u001b[32m[1112 12:46:31 @monitor.py:362]\u001b[0m one_error: 0.41355\n",
      "\u001b[32m[1112 12:46:31 @monitor.py:362]\u001b[0m ranking_loss: 0.13817\n",
      "\u001b[32m[1112 12:46:31 @monitor.py:362]\u001b[0m ranking_mean_average_precision: 0.71661\n",
      "\u001b[32m[1112 12:46:31 @monitor.py:362]\u001b[0m training_ap: 0.58169\n",
      "\u001b[32m[1112 12:46:31 @monitor.py:362]\u001b[0m training_auc: 0.85243\n",
      "\u001b[32m[1112 12:46:31 @base.py:257]\u001b[0m Start Epoch 200 ...\n"
     ]
    },
    {
     "name": "stderr",
     "output_type": "stream",
     "text": [
      "\n",
      "100%|##########|23/23[00:01<00:00,15.33it/s]"
     ]
    },
    {
     "name": "stdout",
     "output_type": "stream",
     "text": [
      "\u001b[32m[1112 12:46:33 @base.py:267]\u001b[0m Epoch 200 (global_step 4600) finished, time:1.50 sec.\n"
     ]
    },
    {
     "name": "stderr",
     "output_type": "stream",
     "text": [
      "\n",
      "100%|##########|5/5[00:00<00:00,10.03it/s]"
     ]
    },
    {
     "name": "stdout",
     "output_type": "stream",
     "text": [
      "\u001b[32m[1112 12:46:33 @saver.py:90]\u001b[0m Model saved to train_log/sift-512-hidden-gls-r5/model-4600.\n",
      "\u001b[32m[1112 12:46:33 @monitor.py:362]\u001b[0m DataParallelInferenceRunner/QueueInput/queue_size: 49.936\n",
      "\u001b[32m[1112 12:46:33 @monitor.py:362]\u001b[0m QueueInput/queue_size: 49.924\n",
      "\u001b[32m[1112 12:46:33 @monitor.py:362]\u001b[0m coverage: 2.1105\n",
      "\u001b[32m[1112 12:46:33 @monitor.py:362]\u001b[0m doubly_stochastic_loss: 0.25796\n",
      "\u001b[32m[1112 12:46:33 @monitor.py:362]\u001b[0m learning_rate: 0.0001\n",
      "\u001b[32m[1112 12:46:33 @monitor.py:362]\u001b[0m loss/value: 7.0162\n",
      "\u001b[32m[1112 12:46:33 @monitor.py:362]\u001b[0m macro_auc: 0.85095\n",
      "\u001b[32m[1112 12:46:33 @monitor.py:362]\u001b[0m macro_f1: 0.54945\n",
      "\u001b[32m[1112 12:46:33 @monitor.py:362]\u001b[0m mean_average_precision: 0.55784\n",
      "\u001b[32m[1112 12:46:33 @monitor.py:362]\u001b[0m micro_auc: 0.86347\n",
      "\u001b[32m[1112 12:46:33 @monitor.py:362]\u001b[0m micro_f1: 0.57351\n",
      "\u001b[32m[1112 12:46:33 @monitor.py:362]\u001b[0m one_error: 0.41711\n",
      "\u001b[32m[1112 12:46:33 @monitor.py:362]\u001b[0m ranking_loss: 0.14412\n",
      "\u001b[32m[1112 12:46:33 @monitor.py:362]\u001b[0m ranking_mean_average_precision: 0.70821\n",
      "\u001b[32m[1112 12:46:33 @monitor.py:362]\u001b[0m training_ap: 0.5822\n",
      "\u001b[32m[1112 12:46:33 @monitor.py:362]\u001b[0m training_auc: 0.85269\n",
      "\u001b[32m[1112 12:46:33 @base.py:271]\u001b[0m Training has finished!\n",
      "\u001b[32m[1112 12:46:33 @input_source.py:148]\u001b[0m EnqueueThread DataParallelInferenceRunner/QueueInput/input_queue Exited.\n"
     ]
    },
    {
     "name": "stderr",
     "output_type": "stream",
     "text": [
      "\n"
     ]
    },
    {
     "name": "stdout",
     "output_type": "stream",
     "text": [
      "\u001b[32m[1112 12:46:33 @input_source.py:148]\u001b[0m EnqueueThread QueueInput/input_queue Exited.\n"
     ]
    }
   ],
   "source": [
    "tf.reset_default_graph()\n",
    "train_config = TrainConfig(model=model, dataflow=train_data,\n",
    "                           callbacks=[\n",
    "                               ScheduledHyperParamSetter('learning_rate', [(0, 1e-3), (40, 1e-4)]),\n",
    "                               InfRunner(val_data, [AggregateMetric(config.validation_metrics, threshold)],\n",
    "                                         [1]),\n",
    "                               ModelSaver(),\n",
    "                               MaxSaver('micro_f1', save_name),\n",
    "                           ],\n",
    "                           #session_init=SaverRestore(\n",
    "                           #    model_path=resnet_loc, ignore=ignore_restore),\n",
    "                           max_epoch=200, tower=[1])\n",
    "Trainer(train_config).train()"
   ]
  },
  {
   "cell_type": "code",
   "execution_count": 41,
   "metadata": {
    "scrolled": true
   },
   "outputs": [
    {
     "name": "stdout",
     "output_type": "stream",
     "text": [
      "INFO:tensorflow:Scale of 0 disables regularizer.\n",
      "INFO:tensorflow:Scale of 0 disables regularizer.\n",
      "INFO:tensorflow:Scale of 0 disables regularizer.\n",
      "INFO:tensorflow:Scale of 0 disables regularizer.\n",
      "INFO:tensorflow:Scale of 0 disables regularizer.\n",
      "INFO:tensorflow:Scale of 0 disables regularizer.\n",
      "INFO:tensorflow:Scale of 0 disables regularizer.\n",
      "INFO:tensorflow:Scale of 0 disables regularizer.\n",
      "INFO:tensorflow:Scale of 0 disables regularizer.\n",
      "INFO:tensorflow:Scale of 0 disables regularizer.\n",
      "INFO:tensorflow:Scale of 0 disables regularizer.\n",
      "INFO:tensorflow:Scale of 0 disables regularizer.\n",
      "INFO:tensorflow:Scale of 0 disables regularizer.\n",
      "INFO:tensorflow:Scale of 0 disables regularizer.\n",
      "INFO:tensorflow:Scale of 0 disables regularizer.\n",
      "INFO:tensorflow:Scale of 0 disables regularizer.\n",
      "INFO:tensorflow:Scale of 0 disables regularizer.\n",
      "\u001b[32m[1112 12:54:39 @collection.py:133]\u001b[0m New collections created in : tf.GraphKeys.MODEL_VARIABLES\n",
      "\u001b[32m[1112 12:54:39 @collection.py:152]\u001b[0m These collections were modified but restored in : (tf.GraphKeys.SUMMARIES: 0->3), (tf.GraphKeys.UPDATE_OPS: 0->2)\n",
      "\u001b[32m[1112 12:54:39 @sessinit.py:89]\u001b[0m \u001b[5m\u001b[31mWRN\u001b[0m The following variables are in the checkpoint, but not found in the graph: beta1_power:0, beta2_power:0, global_step:0, learning_rate:0\n",
      "\u001b[32m[1112 12:54:39 @sessinit.py:116]\u001b[0m Restoring checkpoint from train_log/sift-512-hidden-gls-r5/max-micro_f1.tfmodel ...\n",
      "INFO:tensorflow:Restoring parameters from train_log/sift-512-hidden-gls-r5/max-micro_f1.tfmodel\n"
     ]
    },
    {
     "name": "stderr",
     "output_type": "stream",
     "text": [
      "100%|##########|27/27[00:03<00:00, 7.15it/s]"
     ]
    },
    {
     "name": "stdout",
     "output_type": "stream",
     "text": [
      "{'mean_average_precision': 0.58345858737950296, 'macro_auc': 0.86372708322749281, 'micro_auc': 0.87064159832769239, 'macro_f1': 0.56485263927373663, 'micro_f1': 0.5855830030940874, 'ranking_mean_average_precision': 0.72564077194774257, 'coverage': 2.1718796544533809, 'ranking_loss': 0.13832106330765842, 'one_error': 0.39142091152815012}\n"
     ]
    },
    {
     "name": "stderr",
     "output_type": "stream",
     "text": [
      "\n"
     ]
    }
   ],
   "source": [
    "#np.set_printoptions(formatter={'float_kind': lambda x: '%.3f' % x})\n",
    "tf.reset_default_graph()\n",
    "pred_config = PredictConfig(model=model,\n",
    "                            session_init=SaverRestore(\n",
    "                                model_path=log_dir + save_name),\n",
    "                            output_names=['logits_export', 'label'],\n",
    "                            )\n",
    "# pred = Predictor(pred_config, test_data, nr_proc=2, ordered=False)\n",
    "pred = SimpleDatasetPredictor(pred_config, test_data)\n",
    "\n",
    "accumulator = seq(pred.get_result()) \\\n",
    "    .smap(lambda a, b: (a.shape[0], calcu_metrics(a, b, config.validation_metrics, threshold))) \\\n",
    "    .aggregate(Accumulator(*config.validation_metrics), lambda accu, args: accu.feed(args[0], *args[1]))\n",
    "metrics = accumulator.retrive()\n",
    "print(metrics)"
   ]
  },
  {
   "cell_type": "code",
   "execution_count": 13,
   "metadata": {},
   "outputs": [
    {
     "data": {
      "text/plain": [
       "{'coverage': 1.484361036639857,\n",
       " 'macro_auc': 0.93432849392906958,\n",
       " 'macro_f1': 0.67689911330644059,\n",
       " 'mean_average_precision': 0.77945948576496482,\n",
       " 'micro_auc': 0.94224849099895258,\n",
       " 'micro_f1': 0.69087716105781305,\n",
       " 'one_error': 0.25350014894250822,\n",
       " 'ranking_loss': 0.067377654368270937,\n",
       " 'ranking_mean_average_precision': 0.83210500683244182}"
      ]
     },
     "execution_count": 13,
     "metadata": {},
     "output_type": "execute_result"
    }
   ],
   "source": [
    "metrics"
   ]
  },
  {
   "cell_type": "code",
   "execution_count": 7,
   "metadata": {},
   "outputs": [
    {
     "data": {
      "text/plain": [
       "{'coverage': 3.1480654761904763,\n",
       " 'macro_auc': 0.9269738270190967,\n",
       " 'macro_f1': 0.58264172937949921,\n",
       " 'mean_average_precision': 0.70567296989950623,\n",
       " 'micro_auc': 0.93068400367147741,\n",
       " 'micro_f1': 0.64035019016619532,\n",
       " 'one_error': 0.27752976190476192,\n",
       " 'ranking_loss': 0.065381924694430743,\n",
       " 'ranking_mean_average_precision': 0.78210932154875579}"
      ]
     },
     "execution_count": 7,
     "metadata": {},
     "output_type": "execute_result"
    }
   ],
   "source": [
    "metrics"
   ]
  },
  {
   "cell_type": "code",
   "execution_count": 7,
   "metadata": {
    "collapsed": true
   },
   "outputs": [],
   "source": [
    "import matplotlib.pyplot as plt\n",
    "%matplotlib inline"
   ]
  },
  {
   "cell_type": "code",
   "execution_count": 8,
   "metadata": {},
   "outputs": [
    {
     "data": {
      "text/plain": [
       "<matplotlib.image.AxesImage at 0x7fc0dc01d0b8>"
      ]
     },
     "execution_count": 8,
     "metadata": {},
     "output_type": "execute_result"
    },
    {
     "data": {
      "image/png": "[encoded data removed]",
      "text/plain": [
       "<matplotlib.figure.Figure at 0x7fc17c3d0588>"
      ]
     },
     "metadata": {},
     "output_type": "display_data"
    }
   ],
   "source": [
    "train_data.reset_state()\n",
    "batch = next(train_data.get_data())\n",
    "plt.imshow(batch[0][0][0])"
   ]
  },
  {
   "cell_type": "code",
   "execution_count": 7,
   "metadata": {},
   "outputs": [
    {
     "data": {
      "text/plain": [
       "dtype('uint8')"
      ]
     },
     "execution_count": 7,
     "metadata": {},
     "output_type": "execute_result"
    }
   ],
   "source": [
    "img = batch[0][0][0]\n",
    "img.dtype"
   ]
  },
  {
   "cell_type": "code",
   "execution_count": 11,
   "metadata": {},
   "outputs": [
    {
     "data": {
      "text/plain": [
       "[<tf.Tensor 'tower0/custom_cnn/conv1/kernel/Regularizer/l2_regularizer:0' shape=() dtype=float32>,\n",
       " <tf.Tensor 'tower0/rnn/process/fc_read/kernel/Regularizer/l2_regularizer:0' shape=() dtype=float32>,\n",
       " <tf.Tensor 'tower0/rnn/process/fc_fg/kernel/Regularizer/l2_regularizer:0' shape=() dtype=float32>,\n",
       " <tf.Tensor 'tower0/rnn/process/fc_ig/kernel/Regularizer/l2_regularizer:0' shape=() dtype=float32>,\n",
       " <tf.Tensor 'tower0/logits/kernel/Regularizer/l2_regularizer:0' shape=() dtype=float32>]"
      ]
     },
     "execution_count": 11,
     "metadata": {},
     "output_type": "execute_result"
    }
   ],
   "source": [
    "tf.get_collection(tf.GraphKeys.REGULARIZATION_LOSSES)"
   ]
  },
  {
   "cell_type": "code",
   "execution_count": null,
   "metadata": {
    "collapsed": true
   },
   "outputs": [],
   "source": []
  }
 ],
 "metadata": {
  "kernelspec": {
   "display_name": "Python 3",
   "language": "python",
   "name": "python3"
  },
  "language_info": {
   "codemirror_mode": {
    "name": "ipython",
    "version": 3
   },
   "file_extension": ".py",
   "mimetype": "text/x-python",
   "name": "python",
   "nbconvert_exporter": "python",
   "pygments_lexer": "ipython3",
   "version": "3.6.2"
  }
 },
 "nbformat": 4,
 "nbformat_minor": 2
}
