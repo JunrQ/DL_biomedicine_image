{
 "cells": [
  {
   "cell_type": "code",
   "execution_count": 1,
   "metadata": {},
   "outputs": [
    {
     "name": "stderr",
     "output_type": "stream",
     "text": [
      "/home/zhoumingyu/bin/anaconda3/envs/tensorflow/lib/python3.6/importlib/_bootstrap.py:219: RuntimeWarning: compiletime version 3.5 of module 'tensorflow.python.framework.fast_tensor_util' does not match runtime version 3.6\n",
      "  return f(*args, **kwds)\n",
      "/home/zhoumingyu/bin/anaconda3/envs/tensorflow/lib/python3.6/site-packages/h5py/__init__.py:36: FutureWarning: Conversion of the second argument of issubdtype from `float` to `np.floating` is deprecated. In future, it will be treated as `np.float64 == np.dtype(float).type`.\n",
      "  from ._conv import register_converters as _register_converters\n"
     ]
    },
    {
     "name": "stdout",
     "output_type": "stream",
     "text": [
      "\u001b[32m[1103 20:40:27 @logger.py:74]\u001b[0m Argv: /home/zhoumingyu/bin/anaconda3/envs/tensorflow/lib/python3.6/site-packages/ipykernel_launcher.py -f /run/user/1017/jupyter/kernel-edecef4c-c133-4c0e-b4cc-4b488903a73c.json\n"
     ]
    }
   ],
   "source": [
    "%load_ext autoreload\n",
    "%autoreload 2\n",
    "\n",
    "from config.rnn import default\n",
    "from models import RNN\n",
    "import numpy as np\n",
    "from functional import seq\n",
    "import tensorflow as tf\n",
    "from tensorpack import (TrainConfig, SyncMultiGPUTrainerParameterServer as Trainer, \n",
    "                        PredictConfig, MultiProcessDatasetPredictor as Predictor,\n",
    "                        SaverRestore, logger)\n",
    "from tensorpack.callbacks import (ScheduledHyperParamSetter, MaxSaver, ModelSaver,\n",
    "                                  DataParallelInferenceRunner as InfRunner)\n",
    "from tensorpack.predict import SimpleDatasetPredictor\n",
    "from tensorpack.tfutils.common import get_default_sess_config\n",
    "from utils import DataManager, select_label\n",
    "from utils.validation import (Accumulator, AggregateMetric, calcu_metrics)\n",
    "\n",
    "resnet_loc = \"./data/resnet_v2_101/resnet_v2_101.ckpt\"\n",
    "model_loc = \"./train_log/separate/read3-noglps-lmd-0/all-stages-max-micro-auc.tfmodel\"\n",
    "log_dir = './train_log/separate/D1-read3-mtd/'\n",
    "logger.set_logger_dir(log_dir)"
   ]
  },
  {
   "cell_type": "code",
   "execution_count": 2,
   "metadata": {
    "collapsed": true
   },
   "outputs": [],
   "source": [
    "config = default\n",
    "ignore_restore = ['learning_rate', 'global_step']\n",
    "save_name = \"max-macro_f1.tfmodel\""
   ]
  },
  {
   "cell_type": "code",
   "execution_count": 3,
   "metadata": {
    "collapsed": true,
    "scrolled": true
   },
   "outputs": [],
   "source": [
    "config.stages = [2, 3, 4, 5, 6]\n",
    "config.proportion = {'train': 0.55, 'val': 0.0, 'test': 0.45}\n",
    "config.annotation_number = None\n",
    "dm = DataManager.from_config(config)\n",
    "train_set = dm.get_train_set()\n",
    "test_set = dm.get_test_set()"
   ]
  },
  {
   "cell_type": "code",
   "execution_count": 4,
   "metadata": {},
   "outputs": [
    {
     "data": {
      "text/plain": [
       "{'test': (762, 3237), 'train': (692, 3016), 'val': (156, 572)}"
      ]
     },
     "execution_count": 4,
     "metadata": {},
     "output_type": "execute_result"
    }
   ],
   "source": [
    "config.proportion = {'train': 0.8, 'val':0.2, 'test': 0.0}\n",
    "config.stages = [2]\n",
    "config.annotation_number = 10\n",
    "dm = DataManager.from_dataset(train_set, test_set, config)\n",
    "dm.get_num_info()"
   ]
  },
  {
   "cell_type": "code",
   "execution_count": 5,
   "metadata": {},
   "outputs": [
    {
     "data": {
      "text/html": [
       "<div>\n",
       "<style scoped>\n",
       "    .dataframe tbody tr th:only-of-type {\n",
       "        vertical-align: middle;\n",
       "    }\n",
       "\n",
       "    .dataframe tbody tr th {\n",
       "        vertical-align: top;\n",
       "    }\n",
       "\n",
       "    .dataframe thead th {\n",
       "        text-align: right;\n",
       "    }\n",
       "</style>\n",
       "<table border=\"1\" class=\"dataframe\">\n",
       "  <thead>\n",
       "    <tr style=\"text-align: right;\">\n",
       "      <th></th>\n",
       "      <th>train</th>\n",
       "      <th>val</th>\n",
       "      <th>test</th>\n",
       "    </tr>\n",
       "  </thead>\n",
       "  <tbody>\n",
       "    <tr>\n",
       "      <th>anlage in statu nascendi</th>\n",
       "      <td>7.439024</td>\n",
       "      <td>7.666667</td>\n",
       "      <td>7.758621</td>\n",
       "    </tr>\n",
       "    <tr>\n",
       "      <th>cellular blastoderm</th>\n",
       "      <td>1.005797</td>\n",
       "      <td>1.025974</td>\n",
       "      <td>1.005263</td>\n",
       "    </tr>\n",
       "    <tr>\n",
       "      <th>dorsal ectoderm anlage in statu nascendi</th>\n",
       "      <td>6.440860</td>\n",
       "      <td>6.090909</td>\n",
       "      <td>6.398058</td>\n",
       "    </tr>\n",
       "    <tr>\n",
       "      <th>faint ubiquitous</th>\n",
       "      <td>5.653846</td>\n",
       "      <td>5.782609</td>\n",
       "      <td>4.953125</td>\n",
       "    </tr>\n",
       "    <tr>\n",
       "      <th>maternal</th>\n",
       "      <td>3.907801</td>\n",
       "      <td>4.379310</td>\n",
       "      <td>4.013158</td>\n",
       "    </tr>\n",
       "    <tr>\n",
       "      <th>posterior endoderm anlage in statu nascendi</th>\n",
       "      <td>15.878049</td>\n",
       "      <td>14.600000</td>\n",
       "      <td>15.565217</td>\n",
       "    </tr>\n",
       "    <tr>\n",
       "      <th>procephalic ectoderm anlage in statu nascendi</th>\n",
       "      <td>7.650000</td>\n",
       "      <td>7.666667</td>\n",
       "      <td>7.758621</td>\n",
       "    </tr>\n",
       "    <tr>\n",
       "      <th>subset</th>\n",
       "      <td>3.552632</td>\n",
       "      <td>3.457143</td>\n",
       "      <td>3.590361</td>\n",
       "    </tr>\n",
       "    <tr>\n",
       "      <th>ubiquitous</th>\n",
       "      <td>0.870270</td>\n",
       "      <td>0.714286</td>\n",
       "      <td>0.809976</td>\n",
       "    </tr>\n",
       "    <tr>\n",
       "      <th>ventral ectoderm anlage in statu nascendi</th>\n",
       "      <td>7.650000</td>\n",
       "      <td>6.800000</td>\n",
       "      <td>7.282609</td>\n",
       "    </tr>\n",
       "  </tbody>\n",
       "</table>\n",
       "</div>"
      ],
      "text/plain": [
       "                                                   train        val       test\n",
       "anlage in statu nascendi                        7.439024   7.666667   7.758621\n",
       "cellular blastoderm                             1.005797   1.025974   1.005263\n",
       "dorsal ectoderm anlage in statu nascendi        6.440860   6.090909   6.398058\n",
       "faint ubiquitous                                5.653846   5.782609   4.953125\n",
       "maternal                                        3.907801   4.379310   4.013158\n",
       "posterior endoderm anlage in statu nascendi    15.878049  14.600000  15.565217\n",
       "procephalic ectoderm anlage in statu nascendi   7.650000   7.666667   7.758621\n",
       "subset                                          3.552632   3.457143   3.590361\n",
       "ubiquitous                                      0.870270   0.714286   0.809976\n",
       "ventral ectoderm anlage in statu nascendi       7.650000   6.800000   7.282609"
      ]
     },
     "execution_count": 5,
     "metadata": {},
     "output_type": "execute_result"
    }
   ],
   "source": [
    "dm.get_imbalance_ratio()"
   ]
  },
  {
   "cell_type": "code",
   "execution_count": null,
   "metadata": {
    "collapsed": true
   },
   "outputs": [],
   "source": [
    "config.weight_decay = 0.0\n",
    "config.dropout_keep_prob = 0.4\n",
    "config.gamma = 2\n",
    "config.use_glimpse = False\n",
    "config.use_hidden_dense = False\n",
    "config.read_time = 3\n",
    "config.batch_size = 64\n",
    "\n",
    "threshold = 0.4\n",
    "train_data = dm.get_train_stream()\n",
    "val_data = dm.get_validation_stream()\n",
    "#val_data = dm.get_test_stream()"
   ]
  },
  {
   "cell_type": "code",
   "execution_count": null,
   "metadata": {},
   "outputs": [],
   "source": [
    "np.set_printoptions(formatter={'float_kind': lambda x: '%.2f' % x})\n",
    "model = RNN(config, is_finetuning=False, label_weights=dm.get_imbalance_ratio().train.values)\n",
    "tf.reset_default_graph()\n",
    "train_config = TrainConfig(model=model, dataflow=train_data,\n",
    "                           callbacks=[\n",
    "                               ScheduledHyperParamSetter('learning_rate', [(0, 1e-4),  \n",
    "                                                                           (40, 1e-5)]),\n",
    "                               InfRunner(val_data, [AggregateMetric(config.validation_metrics, threshold)],\n",
    "                                         [1]),\n",
    "                               ModelSaver(var_collections='model_variables'),\n",
    "                               MaxSaver('micro_auc', save_name),\n",
    "                           ],\n",
    "                           session_init=SaverRestore(\n",
    "                               model_path=resnet_loc, \n",
    "                               ignore=ignore_restore),\n",
    "                           max_epoch=1, tower=[0])\n",
    "Trainer(train_config).train()"
   ]
  },
  {
   "cell_type": "code",
   "execution_count": null,
   "metadata": {},
   "outputs": [],
   "source": [
    "tf.get_collection(tf.GraphKeys.MODEL_VARIABLES)"
   ]
  },
  {
   "cell_type": "code",
   "execution_count": null,
   "metadata": {},
   "outputs": [],
   "source": [
    "model = RNN(config, is_finetuning=False)\n",
    "tf.reset_default_graph()\n",
    "pred_config = PredictConfig(model=model,\n",
    "                            session_init=SaverRestore(\n",
    "                                model_path=log_dir + save_name),\n",
    "                            output_names=['logits_export', 'label'],\n",
    "                            )\n",
    "# pred = Predictor(pred_config, test_data, nr_proc=2, ordered=False)\n",
    "pred = SimpleDatasetPredictor(pred_config, test_data)\n",
    "\n",
    "accumulator = seq(pred.get_result()) \\\n",
    "    .smap(lambda a, b: (a.shape[0], calcu_metrics(a, b, config.validation_metrics, threshold))) \\\n",
    "    .aggregate(Accumulator(*config.validation_metrics), lambda accu, args: accu.feed(args[0], *args[1]))\n",
    "metrics = accumulator.retrive()\n",
    "print(metrics)"
   ]
  }
 ],
 "metadata": {
  "kernelspec": {
   "display_name": "Python 3",
   "language": "python",
   "name": "python3"
  },
  "language_info": {
   "codemirror_mode": {
    "name": "ipython",
    "version": 3
   },
   "file_extension": ".py",
   "mimetype": "text/x-python",
   "name": "python",
   "nbconvert_exporter": "python",
   "pygments_lexer": "ipython3",
   "version": "3.6.4"
  }
 },
 "nbformat": 4,
 "nbformat_minor": 2
}
