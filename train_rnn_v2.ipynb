{
 "cells": [
  {
   "cell_type": "code",
   "execution_count": 5,
   "metadata": {},
   "outputs": [
    {
     "name": "stdout",
     "output_type": "stream",
     "text": [
      "The autoreload extension is already loaded. To reload it, use:\n",
      "  %reload_ext autoreload\n",
      "\u001b[32m[1102 09:49:26 @logger.py:74]\u001b[0m Argv: /home/yangyang/Applications/anaconda3/lib/python3.6/site-packages/ipykernel_launcher.py -f /run/user/1007/jupyter/kernel-f2d6d34e-e919-4aed-acf1-f7d068e9f2ab.json\n"
     ]
    }
   ],
   "source": [
    "%load_ext autoreload\n",
    "%autoreload 2\n",
    "\n",
    "from config.rnn import default\n",
    "from models import RNNV2, RNN, RNNV12\n",
    "import numpy as np\n",
    "from functional import seq\n",
    "import tensorflow as tf\n",
    "from tensorpack import (TrainConfig, SyncMultiGPUTrainerParameterServer as Trainer, \n",
    "                        PredictConfig, MultiProcessDatasetPredictor as Predictor,\n",
    "                        SaverRestore, logger)\n",
    "from tensorpack.callbacks import (ScheduledHyperParamSetter, MaxSaver, ModelSaver,\n",
    "                                  DataParallelInferenceRunner as InfRunner)\n",
    "from tensorpack.predict import SimpleDatasetPredictor\n",
    "from tensorpack.tfutils.common import get_default_sess_config\n",
    "from utils import DataManager\n",
    "from utils.validation import (Accumulator, AggregateMetric, calcu_metrics)\n",
    "\n",
    "resnet_loc = \"./data/resnet_v2_101/resnet_v2_101.ckpt\"\n",
    "log_dir = './train_log/rnn_v2/1conv-0aconv/'\n",
    "logger.set_logger_dir(log_dir, action='d')"
   ]
  },
  {
   "cell_type": "code",
   "execution_count": 6,
   "metadata": {
    "collapsed": true
   },
   "outputs": [],
   "source": [
    "config = default\n",
    "ignore_restore = ['learning_rate', 'global_step']\n",
    "save_name = \"all-stages-max-micro-auc.tfmodel\""
   ]
  },
  {
   "cell_type": "code",
   "execution_count": 7,
   "metadata": {
    "collapsed": true,
    "scrolled": true
   },
   "outputs": [],
   "source": [
    "config.stages = [2, 3, 4, 5, 6]\n",
    "config.proportion = {'train': 0.55, 'val': 0.0, 'test': 0.45}\n",
    "config.annotation_number = None\n",
    "dm = DataManager.from_config(config)\n",
    "train_set = dm.get_train_set()\n",
    "test_set = dm.get_test_set()"
   ]
  },
  {
   "cell_type": "code",
   "execution_count": 8,
   "metadata": {},
   "outputs": [
    {
     "data": {
      "text/plain": [
       "{'test': (1178, 6583), 'train': (1057, 6116), 'val': (234, 1328)}"
      ]
     },
     "execution_count": 8,
     "metadata": {},
     "output_type": "execute_result"
    }
   ],
   "source": [
    "config.proportion = {'train': 0.8, 'val':0.2, 'test': 0.0}\n",
    "config.stages = [6]\n",
    "config.annotation_number = 10\n",
    "dm = DataManager.from_dataset(train_set, test_set, config)\n",
    "dm.get_num_info()"
   ]
  },
  {
   "cell_type": "code",
   "execution_count": 9,
   "metadata": {},
   "outputs": [
    {
     "data": {
      "text/html": [
       "<div>\n",
       "<style>\n",
       "    .dataframe thead tr:only-child th {\n",
       "        text-align: right;\n",
       "    }\n",
       "\n",
       "    .dataframe thead th {\n",
       "        text-align: left;\n",
       "    }\n",
       "\n",
       "    .dataframe tbody tr th {\n",
       "        vertical-align: top;\n",
       "    }\n",
       "</style>\n",
       "<table border=\"1\" class=\"dataframe\">\n",
       "  <thead>\n",
       "    <tr style=\"text-align: right;\">\n",
       "      <th></th>\n",
       "      <th>train</th>\n",
       "      <th>val</th>\n",
       "      <th>test</th>\n",
       "    </tr>\n",
       "  </thead>\n",
       "  <tbody>\n",
       "    <tr>\n",
       "      <th>dorsal prothoracic pharyngeal muscle</th>\n",
       "      <td>5.074713</td>\n",
       "      <td>4.571429</td>\n",
       "      <td>5.299465</td>\n",
       "    </tr>\n",
       "    <tr>\n",
       "      <th>embryonic brain</th>\n",
       "      <td>1.936111</td>\n",
       "      <td>1.752941</td>\n",
       "      <td>1.923077</td>\n",
       "    </tr>\n",
       "    <tr>\n",
       "      <th>embryonic central nervous system</th>\n",
       "      <td>3.194444</td>\n",
       "      <td>2.836066</td>\n",
       "      <td>3.513410</td>\n",
       "    </tr>\n",
       "    <tr>\n",
       "      <th>embryonic dorsal epidermis</th>\n",
       "      <td>2.815884</td>\n",
       "      <td>2.774194</td>\n",
       "      <td>2.993220</td>\n",
       "    </tr>\n",
       "    <tr>\n",
       "      <th>embryonic head epidermis</th>\n",
       "      <td>4.622340</td>\n",
       "      <td>4.571429</td>\n",
       "      <td>4.890000</td>\n",
       "    </tr>\n",
       "    <tr>\n",
       "      <th>embryonic midgut</th>\n",
       "      <td>1.076621</td>\n",
       "      <td>0.983051</td>\n",
       "      <td>1.073944</td>\n",
       "    </tr>\n",
       "    <tr>\n",
       "      <th>embryonic ventral epidermis</th>\n",
       "      <td>3.244980</td>\n",
       "      <td>3.333333</td>\n",
       "      <td>3.530769</td>\n",
       "    </tr>\n",
       "    <tr>\n",
       "      <th>embryonic/larval muscle system</th>\n",
       "      <td>3.034351</td>\n",
       "      <td>3.105263</td>\n",
       "      <td>3.104530</td>\n",
       "    </tr>\n",
       "    <tr>\n",
       "      <th>ubiquitous</th>\n",
       "      <td>5.181287</td>\n",
       "      <td>5.000000</td>\n",
       "      <td>5.333333</td>\n",
       "    </tr>\n",
       "    <tr>\n",
       "      <th>ventral nerve cord</th>\n",
       "      <td>1.849057</td>\n",
       "      <td>1.629213</td>\n",
       "      <td>1.852300</td>\n",
       "    </tr>\n",
       "  </tbody>\n",
       "</table>\n",
       "</div>"
      ],
      "text/plain": [
       "                                         train       val      test\n",
       "dorsal prothoracic pharyngeal muscle  5.074713  4.571429  5.299465\n",
       "embryonic brain                       1.936111  1.752941  1.923077\n",
       "embryonic central nervous system      3.194444  2.836066  3.513410\n",
       "embryonic dorsal epidermis            2.815884  2.774194  2.993220\n",
       "embryonic head epidermis              4.622340  4.571429  4.890000\n",
       "embryonic midgut                      1.076621  0.983051  1.073944\n",
       "embryonic ventral epidermis           3.244980  3.333333  3.530769\n",
       "embryonic/larval muscle system        3.034351  3.105263  3.104530\n",
       "ubiquitous                            5.181287  5.000000  5.333333\n",
       "ventral nerve cord                    1.849057  1.629213  1.852300"
      ]
     },
     "execution_count": 9,
     "metadata": {},
     "output_type": "execute_result"
    }
   ],
   "source": [
    "dm.get_imbalance_ratio()"
   ]
  },
  {
   "cell_type": "code",
   "execution_count": 10,
   "metadata": {
    "collapsed": true
   },
   "outputs": [],
   "source": [
    "config.weight_decay = 0.0\n",
    "config.dropout_keep_prob = 0.7\n",
    "config.gamma = 2\n",
    "config.use_glimpse = False\n",
    "config.doubly_stochastic_lambda = 0\n",
    "config.read_time = 5\n",
    "config.batch_size = 64\n",
    "\n",
    "threshold = 0.4\n",
    "train_data = dm.get_train_stream()\n",
    "val_data = dm.get_train_stream()"
   ]
  },
  {
   "cell_type": "code",
   "execution_count": 14,
   "metadata": {},
   "outputs": [
    {
     "name": "stdout",
     "output_type": "stream",
     "text": [
      "\u001b[32m[1102 09:55:09 @inference_runner.py:83]\u001b[0m InferenceRunner will eval on an InputSource of size 16\n",
      "\u001b[32m[1102 09:55:10 @input_source.py:178]\u001b[0m Setting up the queue 'QueueInput/input_queue' for CPU prefetching ...\n",
      "\u001b[32m[1102 09:55:10 @training.py:92]\u001b[0m Building graph for training tower 0 on device LeastLoadedDeviceSetter-/gpu:1...\n",
      "INFO:tensorflow:Scale of 0 disables regularizer.\n",
      "INFO:tensorflow:Scale of 0 disables regularizer.\n",
      "INFO:tensorflow:Scale of 0 disables regularizer.\n",
      "INFO:tensorflow:Scale of 0 disables regularizer.\n",
      "INFO:tensorflow:Scale of 0 disables regularizer.\n",
      "INFO:tensorflow:Scale of 0 disables regularizer.\n",
      "INFO:tensorflow:Scale of 0 disables regularizer.\n",
      "INFO:tensorflow:Scale of 0 disables regularizer.\n",
      "INFO:tensorflow:Scale of 0 disables regularizer.\n",
      "INFO:tensorflow:Scale of 0 disables regularizer.\n",
      "INFO:tensorflow:Scale of 0 disables regularizer.\n",
      "INFO:tensorflow:Scale of 0 disables regularizer.\n",
      "\u001b[32m[1102 09:55:14 @model_utils.py:47]\u001b[0m \u001b[36mModel Parameters: \n",
      "\u001b[0mname                               shape                  dim\n",
      "---------------------------------  -----------------  -------\n",
      "custom_cnn/conv1/weights:0         [3, 3, 1024, 512]  4718592\n",
      "custom_cnn/conv1/biases:0          [512]                  512\n",
      "custom_cnn/batch_norm1/beta:0      [512]                  512\n",
      "custom_cnn/batch_norm1/gamma:0     [512]                  512\n",
      "rnn/process/read_logits/weights:0  [1024, 1]             1024\n",
      "rnn/process/read_logits/biases:0   [1]                      1\n",
      "rnn/process/fc_fg/weights:0        [1024, 512]         524288\n",
      "rnn/process/fc_fg/biases:0         [512]                  512\n",
      "rnn/process/fc_ig/weights:0        [1024, 512]         524288\n",
      "rnn/process/fc_ig/biases:0         [512]                  512\n",
      "logits/weights:0                   [512, 10]             5120\n",
      "logits/biases:0                    [10]                    10\u001b[36m\n",
      "Total #vars=12, #param=5775883 (22.03 MB assuming all float32)\u001b[0m\n",
      "\u001b[32m[1102 09:55:14 @base.py:207]\u001b[0m Setup callbacks graph ...\n",
      "\u001b[32m[1102 09:55:14 @input_source.py:178]\u001b[0m Setting up the queue 'DataParallelInferenceRunner/QueueInput/input_queue' for CPU prefetching ...\n",
      "\u001b[32m[1102 09:55:14 @predictor_factory.py:54]\u001b[0m Building predictor tower 'InferenceTower0' on device /gpu:1 ...\n",
      "INFO:tensorflow:Scale of 0 disables regularizer.\n",
      "INFO:tensorflow:Scale of 0 disables regularizer.\n",
      "INFO:tensorflow:Scale of 0 disables regularizer.\n",
      "INFO:tensorflow:Scale of 0 disables regularizer.\n",
      "INFO:tensorflow:Scale of 0 disables regularizer.\n",
      "INFO:tensorflow:Scale of 0 disables regularizer.\n",
      "INFO:tensorflow:Scale of 0 disables regularizer.\n",
      "INFO:tensorflow:Scale of 0 disables regularizer.\n",
      "INFO:tensorflow:Scale of 0 disables regularizer.\n",
      "INFO:tensorflow:Scale of 0 disables regularizer.\n",
      "INFO:tensorflow:Scale of 0 disables regularizer.\n",
      "INFO:tensorflow:Scale of 0 disables regularizer.\n",
      "\u001b[32m[1102 09:55:16 @summary.py:34]\u001b[0m Maintain moving average summary of 1 tensors.\n",
      "\u001b[32m[1102 09:55:16 @graph.py:91]\u001b[0m Applying collection UPDATE_OPS of 204 ops.\n",
      "\u001b[32m[1102 09:55:18 @sessinit.py:136]\u001b[0m Variable global_step:0 in the graph will be not loaded from the checkpoint!\n",
      "\u001b[32m[1102 09:55:18 @sessinit.py:89]\u001b[0m \u001b[5m\u001b[31mWRN\u001b[0m The following variables are in the graph, but not found in the checkpoint: custom_cnn/conv1/weights, custom_cnn/conv1/biases, custom_cnn/batch_norm1/beta, custom_cnn/batch_norm1/gamma, custom_cnn/batch_norm1/moving_mean, custom_cnn/batch_norm1/moving_variance, rnn/process/read_logits/weights, rnn/process/read_logits/biases, rnn/process/fc_fg/weights, rnn/process/fc_fg/biases, rnn/process/fc_ig/weights, rnn/process/fc_ig/biases, logits/weights, logits/biases, learning_rate, beta1_power, beta2_power\n",
      "\u001b[32m[1102 09:55:18 @sessinit.py:89]\u001b[0m \u001b[5m\u001b[31mWRN\u001b[0m The following variables are in the checkpoint, but not found in the graph: global_step:0, resnet_v2_101/block1/unit_1/bottleneck_v2/conv1/BatchNorm/beta/ExponentialMovingAverage:0, resnet_v2_101/block1/unit_1/bottleneck_v2/conv1/BatchNorm/gamma/ExponentialMovingAverage:0, resnet_v2_101/block1/unit_1/bottleneck_v2/conv1/BatchNorm/moving_mean/ExponentialMovingAverage:0, resnet_v2_101/block1/unit_1/bottleneck_v2/conv1/BatchNorm/moving_variance/ExponentialMovingAverage:0, resnet_v2_101/block1/unit_1/bottleneck_v2/conv1/weights/ExponentialMovingAverage:0, resnet_v2_101/block1/unit_1/bottleneck_v2/conv2/BatchNorm/beta/ExponentialMovingAverage:0, resnet_v2_101/block1/unit_1/bottleneck_v2/conv2/BatchNorm/gamma/ExponentialMovingAverage:0, resnet_v2_101/block1/unit_1/bottleneck_v2/conv2/BatchNorm/moving_mean/ExponentialMovingAverage:0, resnet_v2_101/block1/unit_1/bottleneck_v2/conv2/BatchNorm/moving_variance/ExponentialMovingAverage:0, resnet_v2_101/block1/unit_1/bottleneck_v2/conv2/weights/ExponentialMovingAverage:0, resnet_v2_101/block1/unit_1/bottleneck_v2/conv3/biases/ExponentialMovingAverage:0, resnet_v2_101/block1/unit_1/bottleneck_v2/conv3/weights/ExponentialMovingAverage:0, resnet_v2_101/block1/unit_1/bottleneck_v2/preact/beta/ExponentialMovingAverage:0, resnet_v2_101/block1/unit_1/bottleneck_v2/preact/gamma/ExponentialMovingAverage:0, resnet_v2_101/block1/unit_1/bottleneck_v2/preact/moving_mean/ExponentialMovingAverage:0, resnet_v2_101/block1/unit_1/bottleneck_v2/preact/moving_variance/ExponentialMovingAverage:0, resnet_v2_101/block1/unit_1/bottleneck_v2/shortcut/biases/ExponentialMovingAverage:0, resnet_v2_101/block1/unit_1/bottleneck_v2/shortcut/weights/ExponentialMovingAverage:0, resnet_v2_101/block1/unit_2/bottleneck_v2/conv1/BatchNorm/beta/ExponentialMovingAverage:0, resnet_v2_101/block1/unit_2/bottleneck_v2/conv1/BatchNorm/gamma/ExponentialMovingAverage:0, resnet_v2_101/block1/unit_2/bottleneck_v2/conv1/BatchNorm/moving_mean/ExponentialMovingAverage:0, resnet_v2_101/block1/unit_2/bottleneck_v2/conv1/BatchNorm/moving_variance/ExponentialMovingAverage:0, resnet_v2_101/block1/unit_2/bottleneck_v2/conv1/weights/ExponentialMovingAverage:0, resnet_v2_101/block1/unit_2/bottleneck_v2/conv2/BatchNorm/beta/ExponentialMovingAverage:0, resnet_v2_101/block1/unit_2/bottleneck_v2/conv2/BatchNorm/gamma/ExponentialMovingAverage:0, resnet_v2_101/block1/unit_2/bottleneck_v2/conv2/BatchNorm/moving_mean/ExponentialMovingAverage:0, resnet_v2_101/block1/unit_2/bottleneck_v2/conv2/BatchNorm/moving_variance/ExponentialMovingAverage:0, resnet_v2_101/block1/unit_2/bottleneck_v2/conv2/weights/ExponentialMovingAverage:0, resnet_v2_101/block1/unit_2/bottleneck_v2/conv3/biases/ExponentialMovingAverage:0, resnet_v2_101/block1/unit_2/bottleneck_v2/conv3/weights/ExponentialMovingAverage:0, resnet_v2_101/block1/unit_2/bottleneck_v2/preact/beta/ExponentialMovingAverage:0, resnet_v2_101/block1/unit_2/bottleneck_v2/preact/gamma/ExponentialMovingAverage:0, resnet_v2_101/block1/unit_2/bottleneck_v2/preact/moving_mean/ExponentialMovingAverage:0, resnet_v2_101/block1/unit_2/bottleneck_v2/preact/moving_variance/ExponentialMovingAverage:0, resnet_v2_101/block1/unit_3/bottleneck_v2/conv1/BatchNorm/beta/ExponentialMovingAverage:0, resnet_v2_101/block1/unit_3/bottleneck_v2/conv1/BatchNorm/gamma/ExponentialMovingAverage:0, resnet_v2_101/block1/unit_3/bottleneck_v2/conv1/BatchNorm/moving_mean/ExponentialMovingAverage:0, resnet_v2_101/block1/unit_3/bottleneck_v2/conv1/BatchNorm/moving_variance/ExponentialMovingAverage:0, resnet_v2_101/block1/unit_3/bottleneck_v2/conv1/weights/ExponentialMovingAverage:0, resnet_v2_101/block1/unit_3/bottleneck_v2/conv2/BatchNorm/beta/ExponentialMovingAverage:0, resnet_v2_101/block1/unit_3/bottleneck_v2/conv2/BatchNorm/gamma/ExponentialMovingAverage:0, resnet_v2_101/block1/unit_3/bottleneck_v2/conv2/BatchNorm/moving_mean/ExponentialMovingAverage:0, resnet_v2_101/block1/unit_3/bottleneck_v2/conv2/BatchNorm/moving_variance/ExponentialMovingAverage:0, resnet_v2_101/block1/unit_3/bottleneck_v2/conv2/weights/ExponentialMovingAverage:0, resnet_v2_101/block1/unit_3/bottleneck_v2/conv3/biases/ExponentialMovingAverage:0, resnet_v2_101/block1/unit_3/bottleneck_v2/conv3/weights/ExponentialMovingAverage:0, resnet_v2_101/block1/unit_3/bottleneck_v2/preact/beta/ExponentialMovingAverage:0, resnet_v2_101/block1/unit_3/bottleneck_v2/preact/gamma/ExponentialMovingAverage:0, resnet_v2_101/block1/unit_3/bottleneck_v2/preact/moving_mean/ExponentialMovingAverage:0, resnet_v2_101/block1/unit_3/bottleneck_v2/preact/moving_variance/ExponentialMovingAverage:0, resnet_v2_101/block2/unit_1/bottleneck_v2/conv1/BatchNorm/beta/ExponentialMovingAverage:0, resnet_v2_101/block2/unit_1/bottleneck_v2/conv1/BatchNorm/gamma/ExponentialMovingAverage:0, resnet_v2_101/block2/unit_1/bottleneck_v2/conv1/BatchNorm/moving_mean/ExponentialMovingAverage:0, resnet_v2_101/block2/unit_1/bottleneck_v2/conv1/BatchNorm/moving_variance/ExponentialMovingAverage:0, resnet_v2_101/block2/unit_1/bottleneck_v2/conv1/weights/ExponentialMovingAverage:0, resnet_v2_101/block2/unit_1/bottleneck_v2/conv2/BatchNorm/beta/ExponentialMovingAverage:0, resnet_v2_101/block2/unit_1/bottleneck_v2/conv2/BatchNorm/gamma/ExponentialMovingAverage:0, resnet_v2_101/block2/unit_1/bottleneck_v2/conv2/BatchNorm/moving_mean/ExponentialMovingAverage:0, resnet_v2_101/block2/unit_1/bottleneck_v2/conv2/BatchNorm/moving_variance/ExponentialMovingAverage:0, resnet_v2_101/block2/unit_1/bottleneck_v2/conv2/weights/ExponentialMovingAverage:0, resnet_v2_101/block2/unit_1/bottleneck_v2/conv3/biases/ExponentialMovingAverage:0, resnet_v2_101/block2/unit_1/bottleneck_v2/conv3/weights/ExponentialMovingAverage:0, resnet_v2_101/block2/unit_1/bottleneck_v2/preact/beta/ExponentialMovingAverage:0, resnet_v2_101/block2/unit_1/bottleneck_v2/preact/gamma/ExponentialMovingAverage:0, resnet_v2_101/block2/unit_1/bottleneck_v2/preact/moving_mean/ExponentialMovingAverage:0, resnet_v2_101/block2/unit_1/bottleneck_v2/preact/moving_variance/ExponentialMovingAverage:0, resnet_v2_101/block2/unit_1/bottleneck_v2/shortcut/biases/ExponentialMovingAverage:0, resnet_v2_101/block2/unit_1/bottleneck_v2/shortcut/weights/ExponentialMovingAverage:0, resnet_v2_101/block2/unit_2/bottleneck_v2/conv1/BatchNorm/beta/ExponentialMovingAverage:0, resnet_v2_101/block2/unit_2/bottleneck_v2/conv1/BatchNorm/gamma/ExponentialMovingAverage:0, resnet_v2_101/block2/unit_2/bottleneck_v2/conv1/BatchNorm/moving_mean/ExponentialMovingAverage:0, resnet_v2_101/block2/unit_2/bottleneck_v2/conv1/BatchNorm/moving_variance/ExponentialMovingAverage:0, resnet_v2_101/block2/unit_2/bottleneck_v2/conv1/weights/ExponentialMovingAverage:0, resnet_v2_101/block2/unit_2/bottleneck_v2/conv2/BatchNorm/beta/ExponentialMovingAverage:0, resnet_v2_101/block2/unit_2/bottleneck_v2/conv2/BatchNorm/gamma/ExponentialMovingAverage:0, resnet_v2_101/block2/unit_2/bottleneck_v2/conv2/BatchNorm/moving_mean/ExponentialMovingAverage:0, resnet_v2_101/block2/unit_2/bottleneck_v2/conv2/BatchNorm/moving_variance/ExponentialMovingAverage:0, resnet_v2_101/block2/unit_2/bottleneck_v2/conv2/weights/ExponentialMovingAverage:0, resnet_v2_101/block2/unit_2/bottleneck_v2/conv3/biases/ExponentialMovingAverage:0, resnet_v2_101/block2/unit_2/bottleneck_v2/conv3/weights/ExponentialMovingAverage:0, resnet_v2_101/block2/unit_2/bottleneck_v2/preact/beta/ExponentialMovingAverage:0, resnet_v2_101/block2/unit_2/bottleneck_v2/preact/gamma/ExponentialMovingAverage:0, resnet_v2_101/block2/unit_2/bottleneck_v2/preact/moving_mean/ExponentialMovingAverage:0, resnet_v2_101/block2/unit_2/bottleneck_v2/preact/moving_variance/ExponentialMovingAverage:0, resnet_v2_101/block2/unit_3/bottleneck_v2/conv1/BatchNorm/beta/ExponentialMovingAverage:0, resnet_v2_101/block2/unit_3/bottleneck_v2/conv1/BatchNorm/gamma/ExponentialMovingAverage:0, resnet_v2_101/block2/unit_3/bottleneck_v2/conv1/BatchNorm/moving_mean/ExponentialMovingAverage:0, resnet_v2_101/block2/unit_3/bottleneck_v2/conv1/BatchNorm/moving_variance/ExponentialMovingAverage:0, resnet_v2_101/block2/unit_3/bottleneck_v2/conv1/weights/ExponentialMovingAverage:0, resnet_v2_101/block2/unit_3/bottleneck_v2/conv2/BatchNorm/beta/ExponentialMovingAverage:0, resnet_v2_101/block2/unit_3/bottleneck_v2/conv2/BatchNorm/gamma/ExponentialMovingAverage:0, resnet_v2_101/block2/unit_3/bottleneck_v2/conv2/BatchNorm/moving_mean/ExponentialMovingAverage:0, resnet_v2_101/block2/unit_3/bottleneck_v2/conv2/BatchNorm/moving_variance/ExponentialMovingAverage:0, resnet_v2_101/block2/unit_3/bottleneck_v2/conv2/weights/ExponentialMovingAverage:0, resnet_v2_101/block2/unit_3/bottleneck_v2/conv3/biases/ExponentialMovingAverage:0, resnet_v2_101/block2/unit_3/bottleneck_v2/conv3/weights/ExponentialMovingAverage:0, resnet_v2_101/block2/unit_3/bottleneck_v2/preact/beta/ExponentialMovingAverage:0, resnet_v2_101/block2/unit_3/bottleneck_v2/preact/gamma/ExponentialMovingAverage:0, resnet_v2_101/block2/unit_3/bottleneck_v2/preact/moving_mean/ExponentialMovingAverage:0, resnet_v2_101/block2/unit_3/bottleneck_v2/preact/moving_variance/ExponentialMovingAverage:0, resnet_v2_101/block2/unit_4/bottleneck_v2/conv1/BatchNorm/beta/ExponentialMovingAverage:0, resnet_v2_101/block2/unit_4/bottleneck_v2/conv1/BatchNorm/gamma/ExponentialMovingAverage:0, resnet_v2_101/block2/unit_4/bottleneck_v2/conv1/BatchNorm/moving_mean/ExponentialMovingAverage:0, resnet_v2_101/block2/unit_4/bottleneck_v2/conv1/BatchNorm/moving_variance/ExponentialMovingAverage:0, resnet_v2_101/block2/unit_4/bottleneck_v2/conv1/weights/ExponentialMovingAverage:0, resnet_v2_101/block2/unit_4/bottleneck_v2/conv2/BatchNorm/beta/ExponentialMovingAverage:0, resnet_v2_101/block2/unit_4/bottleneck_v2/conv2/BatchNorm/gamma/ExponentialMovingAverage:0, resnet_v2_101/block2/unit_4/bottleneck_v2/conv2/BatchNorm/moving_mean/ExponentialMovingAverage:0, resnet_v2_101/block2/unit_4/bottleneck_v2/conv2/BatchNorm/moving_variance/ExponentialMovingAverage:0, resnet_v2_101/block2/unit_4/bottleneck_v2/conv2/weights/ExponentialMovingAverage:0, resnet_v2_101/block2/unit_4/bottleneck_v2/conv3/biases/ExponentialMovingAverage:0, resnet_v2_101/block2/unit_4/bottleneck_v2/conv3/weights/ExponentialMovingAverage:0, resnet_v2_101/block2/unit_4/bottleneck_v2/preact/beta/ExponentialMovingAverage:0, resnet_v2_101/block2/unit_4/bottleneck_v2/preact/gamma/ExponentialMovingAverage:0, resnet_v2_101/block2/unit_4/bottleneck_v2/preact/moving_mean/ExponentialMovingAverage:0, resnet_v2_101/block2/unit_4/bottleneck_v2/preact/moving_variance/ExponentialMovingAverage:0, resnet_v2_101/block3/unit_1/bottleneck_v2/conv1/BatchNorm/beta/ExponentialMovingAverage:0, resnet_v2_101/block3/unit_1/bottleneck_v2/conv1/BatchNorm/gamma/ExponentialMovingAverage:0, resnet_v2_101/block3/unit_1/bottleneck_v2/conv1/BatchNorm/moving_mean/ExponentialMovingAverage:0, resnet_v2_101/block3/unit_1/bottleneck_v2/conv1/BatchNorm/moving_variance/ExponentialMovingAverage:0, resnet_v2_101/block3/unit_1/bottleneck_v2/conv1/weights/ExponentialMovingAverage:0, resnet_v2_101/block3/unit_1/bottleneck_v2/conv2/BatchNorm/beta/ExponentialMovingAverage:0, resnet_v2_101/block3/unit_1/bottleneck_v2/conv2/BatchNorm/gamma/ExponentialMovingAverage:0, resnet_v2_101/block3/unit_1/bottleneck_v2/conv2/BatchNorm/moving_mean/ExponentialMovingAverage:0, resnet_v2_101/block3/unit_1/bottleneck_v2/conv2/BatchNorm/moving_variance/ExponentialMovingAverage:0, resnet_v2_101/block3/unit_1/bottleneck_v2/conv2/weights/ExponentialMovingAverage:0, resnet_v2_101/block3/unit_1/bottleneck_v2/conv3/biases/ExponentialMovingAverage:0, resnet_v2_101/block3/unit_1/bottleneck_v2/conv3/weights/ExponentialMovingAverage:0, resnet_v2_101/block3/unit_1/bottleneck_v2/preact/beta/ExponentialMovingAverage:0, resnet_v2_101/block3/unit_1/bottleneck_v2/preact/gamma/ExponentialMovingAverage:0, resnet_v2_101/block3/unit_1/bottleneck_v2/preact/moving_mean/ExponentialMovingAverage:0, resnet_v2_101/block3/unit_1/bottleneck_v2/preact/moving_variance/ExponentialMovingAverage:0, resnet_v2_101/block3/unit_1/bottleneck_v2/shortcut/biases/ExponentialMovingAverage:0, resnet_v2_101/block3/unit_1/bottleneck_v2/shortcut/weights/ExponentialMovingAverage:0, resnet_v2_101/block3/unit_10/bottleneck_v2/conv1/BatchNorm/beta/ExponentialMovingAverage:0, resnet_v2_101/block3/unit_10/bottleneck_v2/conv1/BatchNorm/gamma/ExponentialMovingAverage:0, resnet_v2_101/block3/unit_10/bottleneck_v2/conv1/BatchNorm/moving_mean/ExponentialMovingAverage:0, resnet_v2_101/block3/unit_10/bottleneck_v2/conv1/BatchNorm/moving_variance/ExponentialMovingAverage:0, resnet_v2_101/block3/unit_10/bottleneck_v2/conv1/weights/ExponentialMovingAverage:0, resnet_v2_101/block3/unit_10/bottleneck_v2/conv2/BatchNorm/beta/ExponentialMovingAverage:0, resnet_v2_101/block3/unit_10/bottleneck_v2/conv2/BatchNorm/gamma/ExponentialMovingAverage:0, resnet_v2_101/block3/unit_10/bottleneck_v2/conv2/BatchNorm/moving_mean/ExponentialMovingAverage:0, resnet_v2_101/block3/unit_10/bottleneck_v2/conv2/BatchNorm/moving_variance/ExponentialMovingAverage:0, resnet_v2_101/block3/unit_10/bottleneck_v2/conv2/weights/ExponentialMovingAverage:0, resnet_v2_101/block3/unit_10/bottleneck_v2/conv3/biases/ExponentialMovingAverage:0, resnet_v2_101/block3/unit_10/bottleneck_v2/conv3/weights/ExponentialMovingAverage:0, resnet_v2_101/block3/unit_10/bottleneck_v2/preact/beta/ExponentialMovingAverage:0, resnet_v2_101/block3/unit_10/bottleneck_v2/preact/gamma/ExponentialMovingAverage:0, resnet_v2_101/block3/unit_10/bottleneck_v2/preact/moving_mean/ExponentialMovingAverage:0, resnet_v2_101/block3/unit_10/bottleneck_v2/preact/moving_variance/ExponentialMovingAverage:0, resnet_v2_101/block3/unit_11/bottleneck_v2/conv1/BatchNorm/beta/ExponentialMovingAverage:0, resnet_v2_101/block3/unit_11/bottleneck_v2/conv1/BatchNorm/gamma/ExponentialMovingAverage:0, resnet_v2_101/block3/unit_11/bottleneck_v2/conv1/BatchNorm/moving_mean/ExponentialMovingAverage:0, resnet_v2_101/block3/unit_11/bottleneck_v2/conv1/BatchNorm/moving_variance/ExponentialMovingAverage:0, resnet_v2_101/block3/unit_11/bottleneck_v2/conv1/weights/ExponentialMovingAverage:0, resnet_v2_101/block3/unit_11/bottleneck_v2/conv2/BatchNorm/beta/ExponentialMovingAverage:0, resnet_v2_101/block3/unit_11/bottleneck_v2/conv2/BatchNorm/gamma/ExponentialMovingAverage:0, resnet_v2_101/block3/unit_11/bottleneck_v2/conv2/BatchNorm/moving_mean/ExponentialMovingAverage:0, resnet_v2_101/block3/unit_11/bottleneck_v2/conv2/BatchNorm/moving_variance/ExponentialMovingAverage:0, resnet_v2_101/block3/unit_11/bottleneck_v2/conv2/weights/ExponentialMovingAverage:0, resnet_v2_101/block3/unit_11/bottleneck_v2/conv3/biases/ExponentialMovingAverage:0, resnet_v2_101/block3/unit_11/bottleneck_v2/conv3/weights/ExponentialMovingAverage:0, resnet_v2_101/block3/unit_11/bottleneck_v2/preact/beta/ExponentialMovingAverage:0, resnet_v2_101/block3/unit_11/bottleneck_v2/preact/gamma/ExponentialMovingAverage:0, resnet_v2_101/block3/unit_11/bottleneck_v2/preact/moving_mean/ExponentialMovingAverage:0, resnet_v2_101/block3/unit_11/bottleneck_v2/preact/moving_variance/ExponentialMovingAverage:0, resnet_v2_101/block3/unit_12/bottleneck_v2/conv1/BatchNorm/beta/ExponentialMovingAverage:0, resnet_v2_101/block3/unit_12/bottleneck_v2/conv1/BatchNorm/gamma/ExponentialMovingAverage:0, resnet_v2_101/block3/unit_12/bottleneck_v2/conv1/BatchNorm/moving_mean/ExponentialMovingAverage:0, resnet_v2_101/block3/unit_12/bottleneck_v2/conv1/BatchNorm/moving_variance/ExponentialMovingAverage:0, resnet_v2_101/block3/unit_12/bottleneck_v2/conv1/weights/ExponentialMovingAverage:0, resnet_v2_101/block3/unit_12/bottleneck_v2/conv2/BatchNorm/beta/ExponentialMovingAverage:0, resnet_v2_101/block3/unit_12/bottleneck_v2/conv2/BatchNorm/gamma/ExponentialMovingAverage:0, resnet_v2_101/block3/unit_12/bottleneck_v2/conv2/BatchNorm/moving_mean/ExponentialMovingAverage:0, resnet_v2_101/block3/unit_12/bottleneck_v2/conv2/BatchNorm/moving_variance/ExponentialMovingAverage:0, resnet_v2_101/block3/unit_12/bottleneck_v2/conv2/weights/ExponentialMovingAverage:0, resnet_v2_101/block3/unit_12/bottleneck_v2/conv3/biases/ExponentialMovingAverage:0, resnet_v2_101/block3/unit_12/bottleneck_v2/conv3/weights/ExponentialMovingAverage:0, resnet_v2_101/block3/unit_12/bottleneck_v2/preact/beta/ExponentialMovingAverage:0, resnet_v2_101/block3/unit_12/bottleneck_v2/preact/gamma/ExponentialMovingAverage:0, resnet_v2_101/block3/unit_12/bottleneck_v2/preact/moving_mean/ExponentialMovingAverage:0, resnet_v2_101/block3/unit_12/bottleneck_v2/preact/moving_variance/ExponentialMovingAverage:0, resnet_v2_101/block3/unit_13/bottleneck_v2/conv1/BatchNorm/beta/ExponentialMovingAverage:0, resnet_v2_101/block3/unit_13/bottleneck_v2/conv1/BatchNorm/gamma/ExponentialMovingAverage:0, resnet_v2_101/block3/unit_13/bottleneck_v2/conv1/BatchNorm/moving_mean/ExponentialMovingAverage:0, resnet_v2_101/block3/unit_13/bottleneck_v2/conv1/BatchNorm/moving_variance/ExponentialMovingAverage:0, resnet_v2_101/block3/unit_13/bottleneck_v2/conv1/weights/ExponentialMovingAverage:0, resnet_v2_101/block3/unit_13/bottleneck_v2/conv2/BatchNorm/beta/ExponentialMovingAverage:0, resnet_v2_101/block3/unit_13/bottleneck_v2/conv2/BatchNorm/gamma/ExponentialMovingAverage:0, resnet_v2_101/block3/unit_13/bottleneck_v2/conv2/BatchNorm/moving_mean/ExponentialMovingAverage:0, resnet_v2_101/block3/unit_13/bottleneck_v2/conv2/BatchNorm/moving_variance/ExponentialMovingAverage:0, resnet_v2_101/block3/unit_13/bottleneck_v2/conv2/weights/ExponentialMovingAverage:0, resnet_v2_101/block3/unit_13/bottleneck_v2/conv3/biases/ExponentialMovingAverage:0, resnet_v2_101/block3/unit_13/bottleneck_v2/conv3/weights/ExponentialMovingAverage:0, resnet_v2_101/block3/unit_13/bottleneck_v2/preact/beta/ExponentialMovingAverage:0, resnet_v2_101/block3/unit_13/bottleneck_v2/preact/gamma/ExponentialMovingAverage:0, resnet_v2_101/block3/unit_13/bottleneck_v2/preact/moving_mean/ExponentialMovingAverage:0, resnet_v2_101/block3/unit_13/bottleneck_v2/preact/moving_variance/ExponentialMovingAverage:0, resnet_v2_101/block3/unit_14/bottleneck_v2/conv1/BatchNorm/beta/ExponentialMovingAverage:0, resnet_v2_101/block3/unit_14/bottleneck_v2/conv1/BatchNorm/gamma/ExponentialMovingAverage:0, resnet_v2_101/block3/unit_14/bottleneck_v2/conv1/BatchNorm/moving_mean/ExponentialMovingAverage:0, resnet_v2_101/block3/unit_14/bottleneck_v2/conv1/BatchNorm/moving_variance/ExponentialMovingAverage:0, resnet_v2_101/block3/unit_14/bottleneck_v2/conv1/weights/ExponentialMovingAverage:0, resnet_v2_101/block3/unit_14/bottleneck_v2/conv2/BatchNorm/beta/ExponentialMovingAverage:0, resnet_v2_101/block3/unit_14/bottleneck_v2/conv2/BatchNorm/gamma/ExponentialMovingAverage:0, resnet_v2_101/block3/unit_14/bottleneck_v2/conv2/BatchNorm/moving_mean/ExponentialMovingAverage:0, resnet_v2_101/block3/unit_14/bottleneck_v2/conv2/BatchNorm/moving_variance/ExponentialMovingAverage:0, resnet_v2_101/block3/unit_14/bottleneck_v2/conv2/weights/ExponentialMovingAverage:0, resnet_v2_101/block3/unit_14/bottleneck_v2/conv3/biases/ExponentialMovingAverage:0, resnet_v2_101/block3/unit_14/bottleneck_v2/conv3/weights/ExponentialMovingAverage:0, resnet_v2_101/block3/unit_14/bottleneck_v2/preact/beta/ExponentialMovingAverage:0, resnet_v2_101/block3/unit_14/bottleneck_v2/preact/gamma/ExponentialMovingAverage:0, resnet_v2_101/block3/unit_14/bottleneck_v2/preact/moving_mean/ExponentialMovingAverage:0, resnet_v2_101/block3/unit_14/bottleneck_v2/preact/moving_variance/ExponentialMovingAverage:0, resnet_v2_101/block3/unit_15/bottleneck_v2/conv1/BatchNorm/beta/ExponentialMovingAverage:0, resnet_v2_101/block3/unit_15/bottleneck_v2/conv1/BatchNorm/gamma/ExponentialMovingAverage:0, resnet_v2_101/block3/unit_15/bottleneck_v2/conv1/BatchNorm/moving_mean/ExponentialMovingAverage:0, resnet_v2_101/block3/unit_15/bottleneck_v2/conv1/BatchNorm/moving_variance/ExponentialMovingAverage:0, resnet_v2_101/block3/unit_15/bottleneck_v2/conv1/weights/ExponentialMovingAverage:0, resnet_v2_101/block3/unit_15/bottleneck_v2/conv2/BatchNorm/beta/ExponentialMovingAverage:0, resnet_v2_101/block3/unit_15/bottleneck_v2/conv2/BatchNorm/gamma/ExponentialMovingAverage:0, resnet_v2_101/block3/unit_15/bottleneck_v2/conv2/BatchNorm/moving_mean/ExponentialMovingAverage:0, resnet_v2_101/block3/unit_15/bottleneck_v2/conv2/BatchNorm/moving_variance/ExponentialMovingAverage:0, resnet_v2_101/block3/unit_15/bottleneck_v2/conv2/weights/ExponentialMovingAverage:0, resnet_v2_101/block3/unit_15/bottleneck_v2/conv3/biases/ExponentialMovingAverage:0, resnet_v2_101/block3/unit_15/bottleneck_v2/conv3/weights/ExponentialMovingAverage:0, resnet_v2_101/block3/unit_15/bottleneck_v2/preact/beta/ExponentialMovingAverage:0, resnet_v2_101/block3/unit_15/bottleneck_v2/preact/gamma/ExponentialMovingAverage:0, resnet_v2_101/block3/unit_15/bottleneck_v2/preact/moving_mean/ExponentialMovingAverage:0, resnet_v2_101/block3/unit_15/bottleneck_v2/preact/moving_variance/ExponentialMovingAverage:0, resnet_v2_101/block3/unit_16/bottleneck_v2/conv1/BatchNorm/beta/ExponentialMovingAverage:0, resnet_v2_101/block3/unit_16/bottleneck_v2/conv1/BatchNorm/gamma/ExponentialMovingAverage:0, resnet_v2_101/block3/unit_16/bottleneck_v2/conv1/BatchNorm/moving_mean/ExponentialMovingAverage:0, resnet_v2_101/block3/unit_16/bottleneck_v2/conv1/BatchNorm/moving_variance/ExponentialMovingAverage:0, resnet_v2_101/block3/unit_16/bottleneck_v2/conv1/weights/ExponentialMovingAverage:0, resnet_v2_101/block3/unit_16/bottleneck_v2/conv2/BatchNorm/beta/ExponentialMovingAverage:0, resnet_v2_101/block3/unit_16/bottleneck_v2/conv2/BatchNorm/gamma/ExponentialMovingAverage:0, resnet_v2_101/block3/unit_16/bottleneck_v2/conv2/BatchNorm/moving_mean/ExponentialMovingAverage:0, resnet_v2_101/block3/unit_16/bottleneck_v2/conv2/BatchNorm/moving_variance/ExponentialMovingAverage:0, resnet_v2_101/block3/unit_16/bottleneck_v2/conv2/weights/ExponentialMovingAverage:0, resnet_v2_101/block3/unit_16/bottleneck_v2/conv3/biases/ExponentialMovingAverage:0, resnet_v2_101/block3/unit_16/bottleneck_v2/conv3/weights/ExponentialMovingAverage:0, resnet_v2_101/block3/unit_16/bottleneck_v2/preact/beta/ExponentialMovingAverage:0, resnet_v2_101/block3/unit_16/bottleneck_v2/preact/gamma/ExponentialMovingAverage:0, resnet_v2_101/block3/unit_16/bottleneck_v2/preact/moving_mean/ExponentialMovingAverage:0, resnet_v2_101/block3/unit_16/bottleneck_v2/preact/moving_variance/ExponentialMovingAverage:0, resnet_v2_101/block3/unit_17/bottleneck_v2/conv1/BatchNorm/beta/ExponentialMovingAverage:0, resnet_v2_101/block3/unit_17/bottleneck_v2/conv1/BatchNorm/gamma/ExponentialMovingAverage:0, resnet_v2_101/block3/unit_17/bottleneck_v2/conv1/BatchNorm/moving_mean/ExponentialMovingAverage:0, resnet_v2_101/block3/unit_17/bottleneck_v2/conv1/BatchNorm/moving_variance/ExponentialMovingAverage:0, resnet_v2_101/block3/unit_17/bottleneck_v2/conv1/weights/ExponentialMovingAverage:0, resnet_v2_101/block3/unit_17/bottleneck_v2/conv2/BatchNorm/beta/ExponentialMovingAverage:0, resnet_v2_101/block3/unit_17/bottleneck_v2/conv2/BatchNorm/gamma/ExponentialMovingAverage:0, resnet_v2_101/block3/unit_17/bottleneck_v2/conv2/BatchNorm/moving_mean/ExponentialMovingAverage:0, resnet_v2_101/block3/unit_17/bottleneck_v2/conv2/BatchNorm/moving_variance/ExponentialMovingAverage:0, resnet_v2_101/block3/unit_17/bottleneck_v2/conv2/weights/ExponentialMovingAverage:0, resnet_v2_101/block3/unit_17/bottleneck_v2/conv3/biases/ExponentialMovingAverage:0, resnet_v2_101/block3/unit_17/bottleneck_v2/conv3/weights/ExponentialMovingAverage:0, resnet_v2_101/block3/unit_17/bottleneck_v2/preact/beta/ExponentialMovingAverage:0, resnet_v2_101/block3/unit_17/bottleneck_v2/preact/gamma/ExponentialMovingAverage:0, resnet_v2_101/block3/unit_17/bottleneck_v2/preact/moving_mean/ExponentialMovingAverage:0, resnet_v2_101/block3/unit_17/bottleneck_v2/preact/moving_variance/ExponentialMovingAverage:0, resnet_v2_101/block3/unit_18/bottleneck_v2/conv1/BatchNorm/beta/ExponentialMovingAverage:0, resnet_v2_101/block3/unit_18/bottleneck_v2/conv1/BatchNorm/gamma/ExponentialMovingAverage:0, resnet_v2_101/block3/unit_18/bottleneck_v2/conv1/BatchNorm/moving_mean/ExponentialMovingAverage:0, resnet_v2_101/block3/unit_18/bottleneck_v2/conv1/BatchNorm/moving_variance/ExponentialMovingAverage:0, resnet_v2_101/block3/unit_18/bottleneck_v2/conv1/weights/ExponentialMovingAverage:0, resnet_v2_101/block3/unit_18/bottleneck_v2/conv2/BatchNorm/beta/ExponentialMovingAverage:0, resnet_v2_101/block3/unit_18/bottleneck_v2/conv2/BatchNorm/gamma/ExponentialMovingAverage:0, resnet_v2_101/block3/unit_18/bottleneck_v2/conv2/BatchNorm/moving_mean/ExponentialMovingAverage:0, resnet_v2_101/block3/unit_18/bottleneck_v2/conv2/BatchNorm/moving_variance/ExponentialMovingAverage:0, resnet_v2_101/block3/unit_18/bottleneck_v2/conv2/weights/ExponentialMovingAverage:0, resnet_v2_101/block3/unit_18/bottleneck_v2/conv3/biases/ExponentialMovingAverage:0, resnet_v2_101/block3/unit_18/bottleneck_v2/conv3/weights/ExponentialMovingAverage:0, resnet_v2_101/block3/unit_18/bottleneck_v2/preact/beta/ExponentialMovingAverage:0, resnet_v2_101/block3/unit_18/bottleneck_v2/preact/gamma/ExponentialMovingAverage:0, resnet_v2_101/block3/unit_18/bottleneck_v2/preact/moving_mean/ExponentialMovingAverage:0, resnet_v2_101/block3/unit_18/bottleneck_v2/preact/moving_variance/ExponentialMovingAverage:0, resnet_v2_101/block3/unit_19/bottleneck_v2/conv1/BatchNorm/beta/ExponentialMovingAverage:0, resnet_v2_101/block3/unit_19/bottleneck_v2/conv1/BatchNorm/gamma/ExponentialMovingAverage:0, resnet_v2_101/block3/unit_19/bottleneck_v2/conv1/BatchNorm/moving_mean/ExponentialMovingAverage:0, resnet_v2_101/block3/unit_19/bottleneck_v2/conv1/BatchNorm/moving_variance/ExponentialMovingAverage:0, resnet_v2_101/block3/unit_19/bottleneck_v2/conv1/weights/ExponentialMovingAverage:0, resnet_v2_101/block3/unit_19/bottleneck_v2/conv2/BatchNorm/beta/ExponentialMovingAverage:0, resnet_v2_101/block3/unit_19/bottleneck_v2/conv2/BatchNorm/gamma/ExponentialMovingAverage:0, resnet_v2_101/block3/unit_19/bottleneck_v2/conv2/BatchNorm/moving_mean/ExponentialMovingAverage:0, resnet_v2_101/block3/unit_19/bottleneck_v2/conv2/BatchNorm/moving_variance/ExponentialMovingAverage:0, resnet_v2_101/block3/unit_19/bottleneck_v2/conv2/weights/ExponentialMovingAverage:0, resnet_v2_101/block3/unit_19/bottleneck_v2/conv3/biases/ExponentialMovingAverage:0, resnet_v2_101/block3/unit_19/bottleneck_v2/conv3/weights/ExponentialMovingAverage:0, resnet_v2_101/block3/unit_19/bottleneck_v2/preact/beta/ExponentialMovingAverage:0, resnet_v2_101/block3/unit_19/bottleneck_v2/preact/gamma/ExponentialMovingAverage:0, resnet_v2_101/block3/unit_19/bottleneck_v2/preact/moving_mean/ExponentialMovingAverage:0, resnet_v2_101/block3/unit_19/bottleneck_v2/preact/moving_variance/ExponentialMovingAverage:0, resnet_v2_101/block3/unit_2/bottleneck_v2/conv1/BatchNorm/beta/ExponentialMovingAverage:0, resnet_v2_101/block3/unit_2/bottleneck_v2/conv1/BatchNorm/gamma/ExponentialMovingAverage:0, resnet_v2_101/block3/unit_2/bottleneck_v2/conv1/BatchNorm/moving_mean/ExponentialMovingAverage:0, resnet_v2_101/block3/unit_2/bottleneck_v2/conv1/BatchNorm/moving_variance/ExponentialMovingAverage:0, resnet_v2_101/block3/unit_2/bottleneck_v2/conv1/weights/ExponentialMovingAverage:0, resnet_v2_101/block3/unit_2/bottleneck_v2/conv2/BatchNorm/beta/ExponentialMovingAverage:0, resnet_v2_101/block3/unit_2/bottleneck_v2/conv2/BatchNorm/gamma/ExponentialMovingAverage:0, resnet_v2_101/block3/unit_2/bottleneck_v2/conv2/BatchNorm/moving_mean/ExponentialMovingAverage:0, resnet_v2_101/block3/unit_2/bottleneck_v2/conv2/BatchNorm/moving_variance/ExponentialMovingAverage:0, resnet_v2_101/block3/unit_2/bottleneck_v2/conv2/weights/ExponentialMovingAverage:0, resnet_v2_101/block3/unit_2/bottleneck_v2/conv3/biases/ExponentialMovingAverage:0, resnet_v2_101/block3/unit_2/bottleneck_v2/conv3/weights/ExponentialMovingAverage:0, resnet_v2_101/block3/unit_2/bottleneck_v2/preact/beta/ExponentialMovingAverage:0, resnet_v2_101/block3/unit_2/bottleneck_v2/preact/gamma/ExponentialMovingAverage:0, resnet_v2_101/block3/unit_2/bottleneck_v2/preact/moving_mean/ExponentialMovingAverage:0, resnet_v2_101/block3/unit_2/bottleneck_v2/preact/moving_variance/ExponentialMovingAverage:0, resnet_v2_101/block3/unit_20/bottleneck_v2/conv1/BatchNorm/beta/ExponentialMovingAverage:0, resnet_v2_101/block3/unit_20/bottleneck_v2/conv1/BatchNorm/gamma/ExponentialMovingAverage:0, resnet_v2_101/block3/unit_20/bottleneck_v2/conv1/BatchNorm/moving_mean/ExponentialMovingAverage:0, resnet_v2_101/block3/unit_20/bottleneck_v2/conv1/BatchNorm/moving_variance/ExponentialMovingAverage:0, resnet_v2_101/block3/unit_20/bottleneck_v2/conv1/weights/ExponentialMovingAverage:0, resnet_v2_101/block3/unit_20/bottleneck_v2/conv2/BatchNorm/beta/ExponentialMovingAverage:0, resnet_v2_101/block3/unit_20/bottleneck_v2/conv2/BatchNorm/gamma/ExponentialMovingAverage:0, resnet_v2_101/block3/unit_20/bottleneck_v2/conv2/BatchNorm/moving_mean/ExponentialMovingAverage:0, resnet_v2_101/block3/unit_20/bottleneck_v2/conv2/BatchNorm/moving_variance/ExponentialMovingAverage:0, resnet_v2_101/block3/unit_20/bottleneck_v2/conv2/weights/ExponentialMovingAverage:0, resnet_v2_101/block3/unit_20/bottleneck_v2/conv3/biases/ExponentialMovingAverage:0, resnet_v2_101/block3/unit_20/bottleneck_v2/conv3/weights/ExponentialMovingAverage:0, resnet_v2_101/block3/unit_20/bottleneck_v2/preact/beta/ExponentialMovingAverage:0, resnet_v2_101/block3/unit_20/bottleneck_v2/preact/gamma/ExponentialMovingAverage:0, resnet_v2_101/block3/unit_20/bottleneck_v2/preact/moving_mean/ExponentialMovingAverage:0, resnet_v2_101/block3/unit_20/bottleneck_v2/preact/moving_variance/ExponentialMovingAverage:0, resnet_v2_101/block3/unit_21/bottleneck_v2/conv1/BatchNorm/beta/ExponentialMovingAverage:0, resnet_v2_101/block3/unit_21/bottleneck_v2/conv1/BatchNorm/gamma/ExponentialMovingAverage:0, resnet_v2_101/block3/unit_21/bottleneck_v2/conv1/BatchNorm/moving_mean/ExponentialMovingAverage:0, resnet_v2_101/block3/unit_21/bottleneck_v2/conv1/BatchNorm/moving_variance/ExponentialMovingAverage:0, resnet_v2_101/block3/unit_21/bottleneck_v2/conv1/weights/ExponentialMovingAverage:0, resnet_v2_101/block3/unit_21/bottleneck_v2/conv2/BatchNorm/beta/ExponentialMovingAverage:0, resnet_v2_101/block3/unit_21/bottleneck_v2/conv2/BatchNorm/gamma/ExponentialMovingAverage:0, resnet_v2_101/block3/unit_21/bottleneck_v2/conv2/BatchNorm/moving_mean/ExponentialMovingAverage:0, resnet_v2_101/block3/unit_21/bottleneck_v2/conv2/BatchNorm/moving_variance/ExponentialMovingAverage:0, resnet_v2_101/block3/unit_21/bottleneck_v2/conv2/weights/ExponentialMovingAverage:0, resnet_v2_101/block3/unit_21/bottleneck_v2/conv3/biases/ExponentialMovingAverage:0, resnet_v2_101/block3/unit_21/bottleneck_v2/conv3/weights/ExponentialMovingAverage:0, resnet_v2_101/block3/unit_21/bottleneck_v2/preact/beta/ExponentialMovingAverage:0, resnet_v2_101/block3/unit_21/bottleneck_v2/preact/gamma/ExponentialMovingAverage:0, resnet_v2_101/block3/unit_21/bottleneck_v2/preact/moving_mean/ExponentialMovingAverage:0, resnet_v2_101/block3/unit_21/bottleneck_v2/preact/moving_variance/ExponentialMovingAverage:0, resnet_v2_101/block3/unit_22/bottleneck_v2/conv1/BatchNorm/beta/ExponentialMovingAverage:0, resnet_v2_101/block3/unit_22/bottleneck_v2/conv1/BatchNorm/gamma/ExponentialMovingAverage:0, resnet_v2_101/block3/unit_22/bottleneck_v2/conv1/BatchNorm/moving_mean/ExponentialMovingAverage:0, resnet_v2_101/block3/unit_22/bottleneck_v2/conv1/BatchNorm/moving_variance/ExponentialMovingAverage:0, resnet_v2_101/block3/unit_22/bottleneck_v2/conv1/weights/ExponentialMovingAverage:0, resnet_v2_101/block3/unit_22/bottleneck_v2/conv2/BatchNorm/beta/ExponentialMovingAverage:0, resnet_v2_101/block3/unit_22/bottleneck_v2/conv2/BatchNorm/gamma/ExponentialMovingAverage:0, resnet_v2_101/block3/unit_22/bottleneck_v2/conv2/BatchNorm/moving_mean/ExponentialMovingAverage:0, resnet_v2_101/block3/unit_22/bottleneck_v2/conv2/BatchNorm/moving_variance/ExponentialMovingAverage:0, resnet_v2_101/block3/unit_22/bottleneck_v2/conv2/weights/ExponentialMovingAverage:0, resnet_v2_101/block3/unit_22/bottleneck_v2/conv3/biases/ExponentialMovingAverage:0, resnet_v2_101/block3/unit_22/bottleneck_v2/conv3/weights/ExponentialMovingAverage:0, resnet_v2_101/block3/unit_22/bottleneck_v2/preact/beta/ExponentialMovingAverage:0, resnet_v2_101/block3/unit_22/bottleneck_v2/preact/gamma/ExponentialMovingAverage:0, resnet_v2_101/block3/unit_22/bottleneck_v2/preact/moving_mean/ExponentialMovingAverage:0, resnet_v2_101/block3/unit_22/bottleneck_v2/preact/moving_variance/ExponentialMovingAverage:0, resnet_v2_101/block3/unit_23/bottleneck_v2/conv1/BatchNorm/beta/ExponentialMovingAverage:0, resnet_v2_101/block3/unit_23/bottleneck_v2/conv1/BatchNorm/gamma/ExponentialMovingAverage:0, resnet_v2_101/block3/unit_23/bottleneck_v2/conv1/BatchNorm/moving_mean/ExponentialMovingAverage:0, resnet_v2_101/block3/unit_23/bottleneck_v2/conv1/BatchNorm/moving_variance/ExponentialMovingAverage:0, resnet_v2_101/block3/unit_23/bottleneck_v2/conv1/weights/ExponentialMovingAverage:0, resnet_v2_101/block3/unit_23/bottleneck_v2/conv2/BatchNorm/beta/ExponentialMovingAverage:0, resnet_v2_101/block3/unit_23/bottleneck_v2/conv2/BatchNorm/gamma/ExponentialMovingAverage:0, resnet_v2_101/block3/unit_23/bottleneck_v2/conv2/BatchNorm/moving_mean/ExponentialMovingAverage:0, resnet_v2_101/block3/unit_23/bottleneck_v2/conv2/BatchNorm/moving_variance/ExponentialMovingAverage:0, resnet_v2_101/block3/unit_23/bottleneck_v2/conv2/weights/ExponentialMovingAverage:0, resnet_v2_101/block3/unit_23/bottleneck_v2/conv3/biases/ExponentialMovingAverage:0, resnet_v2_101/block3/unit_23/bottleneck_v2/conv3/weights/ExponentialMovingAverage:0, resnet_v2_101/block3/unit_23/bottleneck_v2/preact/beta/ExponentialMovingAverage:0, resnet_v2_101/block3/unit_23/bottleneck_v2/preact/gamma/ExponentialMovingAverage:0, resnet_v2_101/block3/unit_23/bottleneck_v2/preact/moving_mean/ExponentialMovingAverage:0, resnet_v2_101/block3/unit_23/bottleneck_v2/preact/moving_variance/ExponentialMovingAverage:0, resnet_v2_101/block3/unit_3/bottleneck_v2/conv1/BatchNorm/beta/ExponentialMovingAverage:0, resnet_v2_101/block3/unit_3/bottleneck_v2/conv1/BatchNorm/gamma/ExponentialMovingAverage:0, resnet_v2_101/block3/unit_3/bottleneck_v2/conv1/BatchNorm/moving_mean/ExponentialMovingAverage:0, resnet_v2_101/block3/unit_3/bottleneck_v2/conv1/BatchNorm/moving_variance/ExponentialMovingAverage:0, resnet_v2_101/block3/unit_3/bottleneck_v2/conv1/weights/ExponentialMovingAverage:0, resnet_v2_101/block3/unit_3/bottleneck_v2/conv2/BatchNorm/beta/ExponentialMovingAverage:0, resnet_v2_101/block3/unit_3/bottleneck_v2/conv2/BatchNorm/gamma/ExponentialMovingAverage:0, resnet_v2_101/block3/unit_3/bottleneck_v2/conv2/BatchNorm/moving_mean/ExponentialMovingAverage:0, resnet_v2_101/block3/unit_3/bottleneck_v2/conv2/BatchNorm/moving_variance/ExponentialMovingAverage:0, resnet_v2_101/block3/unit_3/bottleneck_v2/conv2/weights/ExponentialMovingAverage:0, resnet_v2_101/block3/unit_3/bottleneck_v2/conv3/biases/ExponentialMovingAverage:0, resnet_v2_101/block3/unit_3/bottleneck_v2/conv3/weights/ExponentialMovingAverage:0, resnet_v2_101/block3/unit_3/bottleneck_v2/preact/beta/ExponentialMovingAverage:0, resnet_v2_101/block3/unit_3/bottleneck_v2/preact/gamma/ExponentialMovingAverage:0, resnet_v2_101/block3/unit_3/bottleneck_v2/preact/moving_mean/ExponentialMovingAverage:0, resnet_v2_101/block3/unit_3/bottleneck_v2/preact/moving_variance/ExponentialMovingAverage:0, resnet_v2_101/block3/unit_4/bottleneck_v2/conv1/BatchNorm/beta/ExponentialMovingAverage:0, resnet_v2_101/block3/unit_4/bottleneck_v2/conv1/BatchNorm/gamma/ExponentialMovingAverage:0, resnet_v2_101/block3/unit_4/bottleneck_v2/conv1/BatchNorm/moving_mean/ExponentialMovingAverage:0, resnet_v2_101/block3/unit_4/bottleneck_v2/conv1/BatchNorm/moving_variance/ExponentialMovingAverage:0, resnet_v2_101/block3/unit_4/bottleneck_v2/conv1/weights/ExponentialMovingAverage:0, resnet_v2_101/block3/unit_4/bottleneck_v2/conv2/BatchNorm/beta/ExponentialMovingAverage:0, resnet_v2_101/block3/unit_4/bottleneck_v2/conv2/BatchNorm/gamma/ExponentialMovingAverage:0, resnet_v2_101/block3/unit_4/bottleneck_v2/conv2/BatchNorm/moving_mean/ExponentialMovingAverage:0, resnet_v2_101/block3/unit_4/bottleneck_v2/conv2/BatchNorm/moving_variance/ExponentialMovingAverage:0, resnet_v2_101/block3/unit_4/bottleneck_v2/conv2/weights/ExponentialMovingAverage:0, resnet_v2_101/block3/unit_4/bottleneck_v2/conv3/biases/ExponentialMovingAverage:0, resnet_v2_101/block3/unit_4/bottleneck_v2/conv3/weights/ExponentialMovingAverage:0, resnet_v2_101/block3/unit_4/bottleneck_v2/preact/beta/ExponentialMovingAverage:0, resnet_v2_101/block3/unit_4/bottleneck_v2/preact/gamma/ExponentialMovingAverage:0, resnet_v2_101/block3/unit_4/bottleneck_v2/preact/moving_mean/ExponentialMovingAverage:0, resnet_v2_101/block3/unit_4/bottleneck_v2/preact/moving_variance/ExponentialMovingAverage:0, resnet_v2_101/block3/unit_5/bottleneck_v2/conv1/BatchNorm/beta/ExponentialMovingAverage:0, resnet_v2_101/block3/unit_5/bottleneck_v2/conv1/BatchNorm/gamma/ExponentialMovingAverage:0, resnet_v2_101/block3/unit_5/bottleneck_v2/conv1/BatchNorm/moving_mean/ExponentialMovingAverage:0, resnet_v2_101/block3/unit_5/bottleneck_v2/conv1/BatchNorm/moving_variance/ExponentialMovingAverage:0, resnet_v2_101/block3/unit_5/bottleneck_v2/conv1/weights/ExponentialMovingAverage:0, resnet_v2_101/block3/unit_5/bottleneck_v2/conv2/BatchNorm/beta/ExponentialMovingAverage:0, resnet_v2_101/block3/unit_5/bottleneck_v2/conv2/BatchNorm/gamma/ExponentialMovingAverage:0, resnet_v2_101/block3/unit_5/bottleneck_v2/conv2/BatchNorm/moving_mean/ExponentialMovingAverage:0, resnet_v2_101/block3/unit_5/bottleneck_v2/conv2/BatchNorm/moving_variance/ExponentialMovingAverage:0, resnet_v2_101/block3/unit_5/bottleneck_v2/conv2/weights/ExponentialMovingAverage:0, resnet_v2_101/block3/unit_5/bottleneck_v2/conv3/biases/ExponentialMovingAverage:0, resnet_v2_101/block3/unit_5/bottleneck_v2/conv3/weights/ExponentialMovingAverage:0, resnet_v2_101/block3/unit_5/bottleneck_v2/preact/beta/ExponentialMovingAverage:0, resnet_v2_101/block3/unit_5/bottleneck_v2/preact/gamma/ExponentialMovingAverage:0, resnet_v2_101/block3/unit_5/bottleneck_v2/preact/moving_mean/ExponentialMovingAverage:0, resnet_v2_101/block3/unit_5/bottleneck_v2/preact/moving_variance/ExponentialMovingAverage:0, resnet_v2_101/block3/unit_6/bottleneck_v2/conv1/BatchNorm/beta/ExponentialMovingAverage:0, resnet_v2_101/block3/unit_6/bottleneck_v2/conv1/BatchNorm/gamma/ExponentialMovingAverage:0, resnet_v2_101/block3/unit_6/bottleneck_v2/conv1/BatchNorm/moving_mean/ExponentialMovingAverage:0, resnet_v2_101/block3/unit_6/bottleneck_v2/conv1/BatchNorm/moving_variance/ExponentialMovingAverage:0, resnet_v2_101/block3/unit_6/bottleneck_v2/conv1/weights/ExponentialMovingAverage:0, resnet_v2_101/block3/unit_6/bottleneck_v2/conv2/BatchNorm/beta/ExponentialMovingAverage:0, resnet_v2_101/block3/unit_6/bottleneck_v2/conv2/BatchNorm/gamma/ExponentialMovingAverage:0, resnet_v2_101/block3/unit_6/bottleneck_v2/conv2/BatchNorm/moving_mean/ExponentialMovingAverage:0, resnet_v2_101/block3/unit_6/bottleneck_v2/conv2/BatchNorm/moving_variance/ExponentialMovingAverage:0, resnet_v2_101/block3/unit_6/bottleneck_v2/conv2/weights/ExponentialMovingAverage:0, resnet_v2_101/block3/unit_6/bottleneck_v2/conv3/biases/ExponentialMovingAverage:0, resnet_v2_101/block3/unit_6/bottleneck_v2/conv3/weights/ExponentialMovingAverage:0, resnet_v2_101/block3/unit_6/bottleneck_v2/preact/beta/ExponentialMovingAverage:0, resnet_v2_101/block3/unit_6/bottleneck_v2/preact/gamma/ExponentialMovingAverage:0, resnet_v2_101/block3/unit_6/bottleneck_v2/preact/moving_mean/ExponentialMovingAverage:0, resnet_v2_101/block3/unit_6/bottleneck_v2/preact/moving_variance/ExponentialMovingAverage:0, resnet_v2_101/block3/unit_7/bottleneck_v2/conv1/BatchNorm/beta/ExponentialMovingAverage:0, resnet_v2_101/block3/unit_7/bottleneck_v2/conv1/BatchNorm/gamma/ExponentialMovingAverage:0, resnet_v2_101/block3/unit_7/bottleneck_v2/conv1/BatchNorm/moving_mean/ExponentialMovingAverage:0, resnet_v2_101/block3/unit_7/bottleneck_v2/conv1/BatchNorm/moving_variance/ExponentialMovingAverage:0, resnet_v2_101/block3/unit_7/bottleneck_v2/conv1/weights/ExponentialMovingAverage:0, resnet_v2_101/block3/unit_7/bottleneck_v2/conv2/BatchNorm/beta/ExponentialMovingAverage:0, resnet_v2_101/block3/unit_7/bottleneck_v2/conv2/BatchNorm/gamma/ExponentialMovingAverage:0, resnet_v2_101/block3/unit_7/bottleneck_v2/conv2/BatchNorm/moving_mean/ExponentialMovingAverage:0, resnet_v2_101/block3/unit_7/bottleneck_v2/conv2/BatchNorm/moving_variance/ExponentialMovingAverage:0, resnet_v2_101/block3/unit_7/bottleneck_v2/conv2/weights/ExponentialMovingAverage:0, resnet_v2_101/block3/unit_7/bottleneck_v2/conv3/biases/ExponentialMovingAverage:0, resnet_v2_101/block3/unit_7/bottleneck_v2/conv3/weights/ExponentialMovingAverage:0, resnet_v2_101/block3/unit_7/bottleneck_v2/preact/beta/ExponentialMovingAverage:0, resnet_v2_101/block3/unit_7/bottleneck_v2/preact/gamma/ExponentialMovingAverage:0, resnet_v2_101/block3/unit_7/bottleneck_v2/preact/moving_mean/ExponentialMovingAverage:0, resnet_v2_101/block3/unit_7/bottleneck_v2/preact/moving_variance/ExponentialMovingAverage:0, resnet_v2_101/block3/unit_8/bottleneck_v2/conv1/BatchNorm/beta/ExponentialMovingAverage:0, resnet_v2_101/block3/unit_8/bottleneck_v2/conv1/BatchNorm/gamma/ExponentialMovingAverage:0, resnet_v2_101/block3/unit_8/bottleneck_v2/conv1/BatchNorm/moving_mean/ExponentialMovingAverage:0, resnet_v2_101/block3/unit_8/bottleneck_v2/conv1/BatchNorm/moving_variance/ExponentialMovingAverage:0, resnet_v2_101/block3/unit_8/bottleneck_v2/conv1/weights/ExponentialMovingAverage:0, resnet_v2_101/block3/unit_8/bottleneck_v2/conv2/BatchNorm/beta/ExponentialMovingAverage:0, resnet_v2_101/block3/unit_8/bottleneck_v2/conv2/BatchNorm/gamma/ExponentialMovingAverage:0, resnet_v2_101/block3/unit_8/bottleneck_v2/conv2/BatchNorm/moving_mean/ExponentialMovingAverage:0, resnet_v2_101/block3/unit_8/bottleneck_v2/conv2/BatchNorm/moving_variance/ExponentialMovingAverage:0, resnet_v2_101/block3/unit_8/bottleneck_v2/conv2/weights/ExponentialMovingAverage:0, resnet_v2_101/block3/unit_8/bottleneck_v2/conv3/biases/ExponentialMovingAverage:0, resnet_v2_101/block3/unit_8/bottleneck_v2/conv3/weights/ExponentialMovingAverage:0, resnet_v2_101/block3/unit_8/bottleneck_v2/preact/beta/ExponentialMovingAverage:0, resnet_v2_101/block3/unit_8/bottleneck_v2/preact/gamma/ExponentialMovingAverage:0, resnet_v2_101/block3/unit_8/bottleneck_v2/preact/moving_mean/ExponentialMovingAverage:0, resnet_v2_101/block3/unit_8/bottleneck_v2/preact/moving_variance/ExponentialMovingAverage:0, resnet_v2_101/block3/unit_9/bottleneck_v2/conv1/BatchNorm/beta/ExponentialMovingAverage:0, resnet_v2_101/block3/unit_9/bottleneck_v2/conv1/BatchNorm/gamma/ExponentialMovingAverage:0, resnet_v2_101/block3/unit_9/bottleneck_v2/conv1/BatchNorm/moving_mean/ExponentialMovingAverage:0, resnet_v2_101/block3/unit_9/bottleneck_v2/conv1/BatchNorm/moving_variance/ExponentialMovingAverage:0, resnet_v2_101/block3/unit_9/bottleneck_v2/conv1/weights/ExponentialMovingAverage:0, resnet_v2_101/block3/unit_9/bottleneck_v2/conv2/BatchNorm/beta/ExponentialMovingAverage:0, resnet_v2_101/block3/unit_9/bottleneck_v2/conv2/BatchNorm/gamma/ExponentialMovingAverage:0, resnet_v2_101/block3/unit_9/bottleneck_v2/conv2/BatchNorm/moving_mean/ExponentialMovingAverage:0, resnet_v2_101/block3/unit_9/bottleneck_v2/conv2/BatchNorm/moving_variance/ExponentialMovingAverage:0, resnet_v2_101/block3/unit_9/bottleneck_v2/conv2/weights/ExponentialMovingAverage:0, resnet_v2_101/block3/unit_9/bottleneck_v2/conv3/biases/ExponentialMovingAverage:0, resnet_v2_101/block3/unit_9/bottleneck_v2/conv3/weights/ExponentialMovingAverage:0, resnet_v2_101/block3/unit_9/bottleneck_v2/preact/beta/ExponentialMovingAverage:0, resnet_v2_101/block3/unit_9/bottleneck_v2/preact/gamma/ExponentialMovingAverage:0, resnet_v2_101/block3/unit_9/bottleneck_v2/preact/moving_mean/ExponentialMovingAverage:0, resnet_v2_101/block3/unit_9/bottleneck_v2/preact/moving_variance/ExponentialMovingAverage:0, resnet_v2_101/block4/unit_1/bottleneck_v2/conv1/BatchNorm/beta/ExponentialMovingAverage:0, resnet_v2_101/block4/unit_1/bottleneck_v2/conv1/BatchNorm/gamma/ExponentialMovingAverage:0, resnet_v2_101/block4/unit_1/bottleneck_v2/conv1/BatchNorm/moving_mean/ExponentialMovingAverage:0, resnet_v2_101/block4/unit_1/bottleneck_v2/conv1/BatchNorm/moving_variance/ExponentialMovingAverage:0, resnet_v2_101/block4/unit_1/bottleneck_v2/conv1/weights/ExponentialMovingAverage:0, resnet_v2_101/block4/unit_1/bottleneck_v2/conv2/BatchNorm/beta/ExponentialMovingAverage:0, resnet_v2_101/block4/unit_1/bottleneck_v2/conv2/BatchNorm/gamma/ExponentialMovingAverage:0, resnet_v2_101/block4/unit_1/bottleneck_v2/conv2/BatchNorm/moving_mean/ExponentialMovingAverage:0, resnet_v2_101/block4/unit_1/bottleneck_v2/conv2/BatchNorm/moving_variance/ExponentialMovingAverage:0, resnet_v2_101/block4/unit_1/bottleneck_v2/conv2/weights/ExponentialMovingAverage:0, resnet_v2_101/block4/unit_1/bottleneck_v2/conv3/biases/ExponentialMovingAverage:0, resnet_v2_101/block4/unit_1/bottleneck_v2/conv3/weights/ExponentialMovingAverage:0, resnet_v2_101/block4/unit_1/bottleneck_v2/preact/beta/ExponentialMovingAverage:0, resnet_v2_101/block4/unit_1/bottleneck_v2/preact/gamma/ExponentialMovingAverage:0, resnet_v2_101/block4/unit_1/bottleneck_v2/preact/moving_mean/ExponentialMovingAverage:0, resnet_v2_101/block4/unit_1/bottleneck_v2/preact/moving_variance/ExponentialMovingAverage:0, resnet_v2_101/block4/unit_1/bottleneck_v2/shortcut/biases/ExponentialMovingAverage:0, resnet_v2_101/block4/unit_1/bottleneck_v2/shortcut/weights/ExponentialMovingAverage:0, resnet_v2_101/block4/unit_2/bottleneck_v2/conv1/BatchNorm/beta/ExponentialMovingAverage:0, resnet_v2_101/block4/unit_2/bottleneck_v2/conv1/BatchNorm/gamma/ExponentialMovingAverage:0, resnet_v2_101/block4/unit_2/bottleneck_v2/conv1/BatchNorm/moving_mean/ExponentialMovingAverage:0, resnet_v2_101/block4/unit_2/bottleneck_v2/conv1/BatchNorm/moving_variance/ExponentialMovingAverage:0, resnet_v2_101/block4/unit_2/bottleneck_v2/conv1/weights/ExponentialMovingAverage:0, resnet_v2_101/block4/unit_2/bottleneck_v2/conv2/BatchNorm/beta/ExponentialMovingAverage:0, resnet_v2_101/block4/unit_2/bottleneck_v2/conv2/BatchNorm/gamma/ExponentialMovingAverage:0, resnet_v2_101/block4/unit_2/bottleneck_v2/conv2/BatchNorm/moving_mean/ExponentialMovingAverage:0, resnet_v2_101/block4/unit_2/bottleneck_v2/conv2/BatchNorm/moving_variance/ExponentialMovingAverage:0, resnet_v2_101/block4/unit_2/bottleneck_v2/conv2/weights/ExponentialMovingAverage:0, resnet_v2_101/block4/unit_2/bottleneck_v2/conv3/biases/ExponentialMovingAverage:0, resnet_v2_101/block4/unit_2/bottleneck_v2/conv3/weights/ExponentialMovingAverage:0, resnet_v2_101/block4/unit_2/bottleneck_v2/preact/beta/ExponentialMovingAverage:0, resnet_v2_101/block4/unit_2/bottleneck_v2/preact/gamma/ExponentialMovingAverage:0, resnet_v2_101/block4/unit_2/bottleneck_v2/preact/moving_mean/ExponentialMovingAverage:0, resnet_v2_101/block4/unit_2/bottleneck_v2/preact/moving_variance/ExponentialMovingAverage:0, resnet_v2_101/block4/unit_3/bottleneck_v2/conv1/BatchNorm/beta/ExponentialMovingAverage:0, resnet_v2_101/block4/unit_3/bottleneck_v2/conv1/BatchNorm/gamma/ExponentialMovingAverage:0, resnet_v2_101/block4/unit_3/bottleneck_v2/conv1/BatchNorm/moving_mean/ExponentialMovingAverage:0, resnet_v2_101/block4/unit_3/bottleneck_v2/conv1/BatchNorm/moving_variance/ExponentialMovingAverage:0, resnet_v2_101/block4/unit_3/bottleneck_v2/conv1/weights/ExponentialMovingAverage:0, resnet_v2_101/block4/unit_3/bottleneck_v2/conv2/BatchNorm/beta/ExponentialMovingAverage:0, resnet_v2_101/block4/unit_3/bottleneck_v2/conv2/BatchNorm/gamma/ExponentialMovingAverage:0, resnet_v2_101/block4/unit_3/bottleneck_v2/conv2/BatchNorm/moving_mean/ExponentialMovingAverage:0, resnet_v2_101/block4/unit_3/bottleneck_v2/conv2/BatchNorm/moving_variance/ExponentialMovingAverage:0, resnet_v2_101/block4/unit_3/bottleneck_v2/conv2/weights/ExponentialMovingAverage:0, resnet_v2_101/block4/unit_3/bottleneck_v2/conv3/biases/ExponentialMovingAverage:0, resnet_v2_101/block4/unit_3/bottleneck_v2/conv3/weights/ExponentialMovingAverage:0, resnet_v2_101/block4/unit_3/bottleneck_v2/preact/beta/ExponentialMovingAverage:0, resnet_v2_101/block4/unit_3/bottleneck_v2/preact/gamma/ExponentialMovingAverage:0, resnet_v2_101/block4/unit_3/bottleneck_v2/preact/moving_mean/ExponentialMovingAverage:0, resnet_v2_101/block4/unit_3/bottleneck_v2/preact/moving_variance/ExponentialMovingAverage:0, resnet_v2_101/conv1/biases/ExponentialMovingAverage:0, resnet_v2_101/conv1/weights/ExponentialMovingAverage:0, resnet_v2_101/logits/biases/ExponentialMovingAverage:0, resnet_v2_101/logits/biases:0, resnet_v2_101/logits/weights/ExponentialMovingAverage:0, resnet_v2_101/logits/weights:0, resnet_v2_101/postnorm/beta/ExponentialMovingAverage:0, resnet_v2_101/postnorm/gamma/ExponentialMovingAverage:0, resnet_v2_101/postnorm/moving_mean/ExponentialMovingAverage:0, resnet_v2_101/postnorm/moving_variance/ExponentialMovingAverage:0, total_loss/ExponentialMovingAverage:0\n"
     ]
    },
    {
     "name": "stdout",
     "output_type": "stream",
     "text": [
      "\u001b[32m[1102 09:55:19 @base.py:212]\u001b[0m Creating the session ...\n",
      "\u001b[32m[1102 09:55:21 @base.py:216]\u001b[0m Initializing the session ...\n",
      "\u001b[32m[1102 09:55:21 @sessinit.py:116]\u001b[0m Restoring checkpoint from ./data/resnet_v2_101/resnet_v2_101.ckpt ...\n",
      "INFO:tensorflow:Restoring parameters from ./data/resnet_v2_101/resnet_v2_101.ckpt\n",
      "\u001b[32m[1102 09:55:23 @base.py:223]\u001b[0m Graph Finalized.\n",
      "\u001b[32m[1102 09:55:23 @param.py:144]\u001b[0m After epoch 0, learning_rate will change to 0.00010000\n",
      "\u001b[32m[1102 09:55:23 @concurrency.py:36]\u001b[0m Starting EnqueueThread DataParallelInferenceRunner/QueueInput/input_queue ...\n",
      "\u001b[32m[1102 09:55:24 @concurrency.py:36]\u001b[0m Starting EnqueueThread QueueInput/input_queue ...\n",
      "\u001b[32m[1102 09:55:24 @base.py:257]\u001b[0m Start Epoch 1 ...\n"
     ]
    },
    {
     "name": "stderr",
     "output_type": "stream",
     "text": [
      "100%|##########|16/16[00:40<00:00, 0.50it/s]"
     ]
    },
    {
     "name": "stdout",
     "output_type": "stream",
     "text": [
      "\u001b[32m[1102 09:56:05 @base.py:267]\u001b[0m Epoch 1 (global_step 16) finished, time:40.06 sec.\n"
     ]
    },
    {
     "name": "stderr",
     "output_type": "stream",
     "text": [
      "\n",
      "  0%|          |0/16[00:00<?,?it/s]/home/yangyang/Applications/anaconda3/lib/python3.6/site-packages/sklearn/metrics/classification.py:1135: UndefinedMetricWarning: F-score is ill-defined and being set to 0.0 in labels with no predicted samples.\n",
      "  'precision', 'predicted', average, warn_for)\n",
      "100%|##########|16/16[00:23<00:00, 0.65it/s]\n"
     ]
    },
    {
     "name": "stdout",
     "output_type": "stream",
     "text": [
      "\u001b[32m[1102 09:56:29 @saver.py:89]\u001b[0m Model saved to ./train_log/rnn_v2/1conv-0aconv/model-16.\n",
      "\u001b[32m[1102 09:56:30 @saver.py:158]\u001b[0m Model with maximum 'micro_auc' saved.\n",
      "\u001b[32m[1102 09:56:30 @monitor.py:361]\u001b[0m DataParallelInferenceRunner/QueueInput/queue_size_1: 24\n",
      "\u001b[32m[1102 09:56:30 @monitor.py:361]\u001b[0m QueueInput/queue_size_1: 8.3006\n",
      "\u001b[32m[1102 09:56:30 @monitor.py:361]\u001b[0m coverage: 6.5615\n",
      "\u001b[32m[1102 09:56:30 @monitor.py:361]\u001b[0m learning_rate: 0.0001\n",
      "\u001b[32m[1102 09:56:30 @monitor.py:361]\u001b[0m loss/value: 0.17339\n",
      "\u001b[32m[1102 09:56:30 @monitor.py:361]\u001b[0m macro_auc: 0.74763\n",
      "\u001b[32m[1102 09:56:30 @monitor.py:361]\u001b[0m macro_f1: 0.22897\n",
      "\u001b[32m[1102 09:56:30 @monitor.py:361]\u001b[0m mean_average_precision: 0.54096\n",
      "\u001b[32m[1102 09:56:30 @monitor.py:361]\u001b[0m micro_auc: 0.52735\n",
      "\u001b[32m[1102 09:56:30 @monitor.py:361]\u001b[0m micro_f1: 0.30673\n",
      "\u001b[32m[1102 09:56:30 @monitor.py:361]\u001b[0m one_error: 0.78027\n",
      "\u001b[32m[1102 09:56:30 @monitor.py:361]\u001b[0m ranking_loss: 0.49629\n",
      "\u001b[32m[1102 09:56:30 @monitor.py:361]\u001b[0m ranking_mean_average_precision: 0.41197\n",
      "\u001b[32m[1102 09:56:30 @monitor.py:361]\u001b[0m training_ap: 0.38839\n",
      "\u001b[32m[1102 09:56:30 @monitor.py:361]\u001b[0m training_auc: 0.64702\n",
      "\u001b[32m[1102 09:56:30 @group.py:42]\u001b[0m Callbacks took 25.651 sec in total. DataParallelInferenceRunner: 23.934sec\n",
      "\u001b[32m[1102 09:56:30 @base.py:257]\u001b[0m Start Epoch 2 ...\n"
     ]
    },
    {
     "name": "stderr",
     "output_type": "stream",
     "text": [
      "100%|##########|16/16[00:28<00:00, 0.58it/s]"
     ]
    },
    {
     "name": "stdout",
     "output_type": "stream",
     "text": [
      "\u001b[32m[1102 09:56:59 @base.py:267]\u001b[0m Epoch 2 (global_step 32) finished, time:28.80 sec.\n"
     ]
    },
    {
     "name": "stderr",
     "output_type": "stream",
     "text": [
      "\n",
      "100%|##########|16/16[00:24<00:00, 0.69it/s]\n"
     ]
    },
    {
     "name": "stdout",
     "output_type": "stream",
     "text": [
      "\u001b[32m[1102 09:57:24 @saver.py:89]\u001b[0m Model saved to ./train_log/rnn_v2/1conv-0aconv/model-32.\n",
      "\u001b[32m[1102 09:57:26 @saver.py:158]\u001b[0m Model with maximum 'micro_auc' saved.\n",
      "\u001b[32m[1102 09:57:26 @monitor.py:361]\u001b[0m DataParallelInferenceRunner/QueueInput/queue_size_1: 25.093\n",
      "\u001b[32m[1102 09:57:26 @monitor.py:361]\u001b[0m QueueInput/queue_size_1: 20.374\n",
      "\u001b[32m[1102 09:57:26 @monitor.py:361]\u001b[0m coverage: 6.375\n",
      "\u001b[32m[1102 09:57:26 @monitor.py:361]\u001b[0m learning_rate: 0.0001\n",
      "\u001b[32m[1102 09:57:26 @monitor.py:361]\u001b[0m loss/value: 0.13929\n",
      "\u001b[32m[1102 09:57:26 @monitor.py:361]\u001b[0m macro_auc: 0.79843\n",
      "\u001b[32m[1102 09:57:26 @monitor.py:361]\u001b[0m macro_f1: 0.29775\n",
      "\u001b[32m[1102 09:57:26 @monitor.py:361]\u001b[0m mean_average_precision: 0.61317\n",
      "\u001b[32m[1102 09:57:26 @monitor.py:361]\u001b[0m micro_auc: 0.57833\n",
      "\u001b[32m[1102 09:57:26 @monitor.py:361]\u001b[0m micro_f1: 0.36954\n",
      "\u001b[32m[1102 09:57:26 @monitor.py:361]\u001b[0m one_error: 0.79688\n",
      "\u001b[32m[1102 09:57:26 @monitor.py:361]\u001b[0m ranking_loss: 0.45362\n",
      "\u001b[32m[1102 09:57:26 @monitor.py:361]\u001b[0m ranking_mean_average_precision: 0.4443\n",
      "\u001b[32m[1102 09:57:26 @monitor.py:361]\u001b[0m training_ap: 0.47538\n",
      "\u001b[32m[1102 09:57:26 @monitor.py:361]\u001b[0m training_auc: 0.72047\n",
      "\u001b[32m[1102 09:57:26 @group.py:42]\u001b[0m Callbacks took 26.837 sec in total. DataParallelInferenceRunner: 24.566sec\n",
      "\u001b[32m[1102 09:57:26 @base.py:257]\u001b[0m Start Epoch 3 ...\n"
     ]
    },
    {
     "name": "stderr",
     "output_type": "stream",
     "text": [
      "100%|##########|16/16[00:29<00:00, 0.55it/s]"
     ]
    },
    {
     "name": "stdout",
     "output_type": "stream",
     "text": [
      "\u001b[32m[1102 09:57:55 @base.py:267]\u001b[0m Epoch 3 (global_step 48) finished, time:29.18 sec.\n"
     ]
    },
    {
     "name": "stderr",
     "output_type": "stream",
     "text": [
      "\n",
      "100%|##########|16/16[00:25<00:00, 0.70it/s]\n"
     ]
    },
    {
     "name": "stdout",
     "output_type": "stream",
     "text": [
      "\u001b[32m[1102 09:58:21 @saver.py:89]\u001b[0m Model saved to ./train_log/rnn_v2/1conv-0aconv/model-48.\n",
      "\u001b[32m[1102 09:58:22 @saver.py:158]\u001b[0m Model with maximum 'micro_auc' saved.\n",
      "\u001b[32m[1102 09:58:22 @monitor.py:361]\u001b[0m DataParallelInferenceRunner/QueueInput/queue_size_1: 35.314\n",
      "\u001b[32m[1102 09:58:22 @monitor.py:361]\u001b[0m QueueInput/queue_size_1: 32.813\n",
      "\u001b[32m[1102 09:58:22 @monitor.py:361]\u001b[0m coverage: 5.9414\n",
      "\u001b[32m[1102 09:58:22 @monitor.py:361]\u001b[0m learning_rate: 0.0001\n",
      "\u001b[32m[1102 09:58:22 @monitor.py:361]\u001b[0m loss/value: 0.12239\n",
      "\u001b[32m[1102 09:58:22 @monitor.py:361]\u001b[0m macro_auc: 0.82081\n",
      "\u001b[32m[1102 09:58:22 @monitor.py:361]\u001b[0m macro_f1: 0.32952\n",
      "\u001b[32m[1102 09:58:22 @monitor.py:361]\u001b[0m mean_average_precision: 0.65012\n",
      "\u001b[32m[1102 09:58:22 @monitor.py:361]\u001b[0m micro_auc: 0.62262\n",
      "\u001b[32m[1102 09:58:22 @monitor.py:361]\u001b[0m micro_f1: 0.39816\n",
      "\u001b[32m[1102 09:58:22 @monitor.py:361]\u001b[0m one_error: 0.70508\n",
      "\u001b[32m[1102 09:58:22 @monitor.py:361]\u001b[0m ranking_loss: 0.40931\n",
      "\u001b[32m[1102 09:58:22 @monitor.py:361]\u001b[0m ranking_mean_average_precision: 0.48316\n",
      "\u001b[32m[1102 09:58:22 @monitor.py:361]\u001b[0m training_ap: 0.53617\n",
      "\u001b[32m[1102 09:58:22 @monitor.py:361]\u001b[0m training_auc: 0.75876\n",
      "\u001b[32m[1102 09:58:22 @group.py:42]\u001b[0m Callbacks took 27.375 sec in total. DataParallelInferenceRunner: 25.424sec\n",
      "\u001b[32m[1102 09:58:22 @base.py:257]\u001b[0m Start Epoch 4 ...\n"
     ]
    },
    {
     "name": "stderr",
     "output_type": "stream",
     "text": [
      "100%|##########|16/16[00:30<00:00, 0.55it/s]"
     ]
    },
    {
     "name": "stdout",
     "output_type": "stream",
     "text": [
      "\u001b[32m[1102 09:58:53 @base.py:267]\u001b[0m Epoch 4 (global_step 64) finished, time:30.20 sec.\n"
     ]
    },
    {
     "name": "stderr",
     "output_type": "stream",
     "text": [
      "\n",
      "100%|##########|16/16[00:23<00:00, 0.71it/s]\n"
     ]
    },
    {
     "name": "stdout",
     "output_type": "stream",
     "text": [
      "\u001b[32m[1102 09:59:16 @saver.py:89]\u001b[0m Model saved to ./train_log/rnn_v2/1conv-0aconv/model-64.\n",
      "\u001b[32m[1102 09:59:17 @saver.py:158]\u001b[0m Model with maximum 'micro_auc' saved.\n",
      "\u001b[32m[1102 09:59:17 @monitor.py:361]\u001b[0m DataParallelInferenceRunner/QueueInput/queue_size_1: 43.169\n",
      "\u001b[32m[1102 09:59:17 @monitor.py:361]\u001b[0m QueueInput/queue_size_1: 42.759\n",
      "\u001b[32m[1102 09:59:17 @monitor.py:361]\u001b[0m coverage: 5.5674\n",
      "\u001b[32m[1102 09:59:17 @monitor.py:361]\u001b[0m learning_rate: 0.0001\n",
      "\u001b[32m[1102 09:59:17 @monitor.py:361]\u001b[0m loss/value: 0.1093\n",
      "\u001b[32m[1102 09:59:17 @monitor.py:361]\u001b[0m macro_auc: 0.83807\n",
      "\u001b[32m[1102 09:59:17 @monitor.py:361]\u001b[0m macro_f1: 0.3049\n",
      "\u001b[32m[1102 09:59:17 @monitor.py:361]\u001b[0m mean_average_precision: 0.67355\n",
      "\u001b[32m[1102 09:59:17 @monitor.py:361]\u001b[0m micro_auc: 0.64326\n",
      "\u001b[32m[1102 09:59:17 @monitor.py:361]\u001b[0m micro_f1: 0.37797\n",
      "\u001b[32m[1102 09:59:17 @monitor.py:361]\u001b[0m one_error: 0.67969\n",
      "\u001b[32m[1102 09:59:17 @monitor.py:361]\u001b[0m ranking_loss: 0.38298\n",
      "\u001b[32m[1102 09:59:17 @monitor.py:361]\u001b[0m ranking_mean_average_precision: 0.4935\n",
      "\u001b[32m[1102 09:59:17 @monitor.py:361]\u001b[0m training_ap: 0.58372\n",
      "\u001b[32m[1102 09:59:17 @monitor.py:361]\u001b[0m training_auc: 0.78664\n",
      "\u001b[32m[1102 09:59:17 @group.py:42]\u001b[0m Callbacks took 24.786 sec in total. DataParallelInferenceRunner: 23.294sec\n",
      "\u001b[32m[1102 09:59:17 @base.py:257]\u001b[0m Start Epoch 5 ...\n"
     ]
    },
    {
     "name": "stderr",
     "output_type": "stream",
     "text": [
      "100%|##########|16/16[00:29<00:00, 0.56it/s]"
     ]
    },
    {
     "name": "stdout",
     "output_type": "stream",
     "text": [
      "\u001b[32m[1102 09:59:47 @base.py:267]\u001b[0m Epoch 5 (global_step 80) finished, time:29.43 sec.\n"
     ]
    },
    {
     "name": "stderr",
     "output_type": "stream",
     "text": [
      "\n",
      "100%|##########|16/16[00:22<00:00, 0.71it/s]\n"
     ]
    },
    {
     "name": "stdout",
     "output_type": "stream",
     "text": [
      "\u001b[32m[1102 10:00:10 @saver.py:89]\u001b[0m Model saved to ./train_log/rnn_v2/1conv-0aconv/model-80.\n",
      "\u001b[32m[1102 10:00:12 @saver.py:158]\u001b[0m Model with maximum 'micro_auc' saved.\n",
      "\u001b[32m[1102 10:00:12 @monitor.py:361]\u001b[0m DataParallelInferenceRunner/QueueInput/queue_size_1: 47.007\n",
      "\u001b[32m[1102 10:00:12 @monitor.py:361]\u001b[0m QueueInput/queue_size_1: 46.825\n",
      "\u001b[32m[1102 10:00:12 @monitor.py:361]\u001b[0m coverage: 5.207\n",
      "\u001b[32m[1102 10:00:12 @monitor.py:361]\u001b[0m learning_rate: 0.0001\n",
      "\u001b[32m[1102 10:00:12 @monitor.py:361]\u001b[0m loss/value: 0.10096\n",
      "\u001b[32m[1102 10:00:12 @monitor.py:361]\u001b[0m macro_auc: 0.85625\n",
      "\u001b[32m[1102 10:00:12 @monitor.py:361]\u001b[0m macro_f1: 0.34033\n",
      "\u001b[32m[1102 10:00:12 @monitor.py:361]\u001b[0m mean_average_precision: 0.70117\n",
      "\u001b[32m[1102 10:00:12 @monitor.py:361]\u001b[0m micro_auc: 0.67417\n",
      "\u001b[32m[1102 10:00:12 @monitor.py:361]\u001b[0m micro_f1: 0.40766\n",
      "\u001b[32m[1102 10:00:12 @monitor.py:361]\u001b[0m one_error: 0.64844\n",
      "\u001b[32m[1102 10:00:12 @monitor.py:361]\u001b[0m ranking_loss: 0.34805\n",
      "\u001b[32m[1102 10:00:12 @monitor.py:361]\u001b[0m ranking_mean_average_precision: 0.5184\n",
      "\u001b[32m[1102 10:00:12 @monitor.py:361]\u001b[0m training_ap: 0.62103\n",
      "\u001b[32m[1102 10:00:12 @monitor.py:361]\u001b[0m training_auc: 0.8081\n",
      "\u001b[32m[1102 10:00:12 @group.py:42]\u001b[0m Callbacks took 24.697 sec in total. DataParallelInferenceRunner: 22.731sec\n",
      "\u001b[32m[1102 10:00:12 @base.py:257]\u001b[0m Start Epoch 6 ...\n"
     ]
    },
    {
     "name": "stderr",
     "output_type": "stream",
     "text": [
      "100%|##########|16/16[00:29<00:00, 0.54it/s]"
     ]
    },
    {
     "name": "stdout",
     "output_type": "stream",
     "text": [
      "\u001b[32m[1102 10:00:41 @base.py:267]\u001b[0m Epoch 6 (global_step 96) finished, time:29.91 sec.\n"
     ]
    },
    {
     "name": "stderr",
     "output_type": "stream",
     "text": [
      "\n",
      "100%|##########|16/16[00:22<00:00, 0.69it/s]\n"
     ]
    },
    {
     "name": "stdout",
     "output_type": "stream",
     "text": [
      "\u001b[32m[1102 10:01:04 @saver.py:89]\u001b[0m Model saved to ./train_log/rnn_v2/1conv-0aconv/model-96.\n",
      "\u001b[32m[1102 10:01:06 @saver.py:158]\u001b[0m Model with maximum 'micro_auc' saved.\n",
      "\u001b[32m[1102 10:01:06 @monitor.py:361]\u001b[0m DataParallelInferenceRunner/QueueInput/queue_size_1: 48.407\n",
      "\u001b[32m[1102 10:01:06 @monitor.py:361]\u001b[0m QueueInput/queue_size_1: 48.547\n",
      "\u001b[32m[1102 10:01:06 @monitor.py:361]\u001b[0m coverage: 5.0928\n",
      "\u001b[32m[1102 10:01:06 @monitor.py:361]\u001b[0m learning_rate: 0.0001\n",
      "\u001b[32m[1102 10:01:06 @monitor.py:361]\u001b[0m loss/value: 0.094641\n",
      "\u001b[32m[1102 10:01:06 @monitor.py:361]\u001b[0m macro_auc: 0.86784\n",
      "\u001b[32m[1102 10:01:06 @monitor.py:361]\u001b[0m macro_f1: 0.44258\n",
      "\u001b[32m[1102 10:01:06 @monitor.py:361]\u001b[0m mean_average_precision: 0.72359\n",
      "\u001b[32m[1102 10:01:06 @monitor.py:361]\u001b[0m micro_auc: 0.69792\n",
      "\u001b[32m[1102 10:01:06 @monitor.py:361]\u001b[0m micro_f1: 0.47235\n",
      "\u001b[32m[1102 10:01:06 @monitor.py:361]\u001b[0m one_error: 0.62109\n",
      "\u001b[32m[1102 10:01:06 @monitor.py:361]\u001b[0m ranking_loss: 0.33166\n",
      "\u001b[32m[1102 10:01:06 @monitor.py:361]\u001b[0m ranking_mean_average_precision: 0.54376\n",
      "\u001b[32m[1102 10:01:06 @monitor.py:361]\u001b[0m training_ap: 0.6512\n",
      "\u001b[32m[1102 10:01:06 @monitor.py:361]\u001b[0m training_auc: 0.8245\n",
      "\u001b[32m[1102 10:01:06 @group.py:42]\u001b[0m Callbacks took 24.758 sec in total. DataParallelInferenceRunner: 22.745sec\n",
      "\u001b[32m[1102 10:01:06 @base.py:257]\u001b[0m Start Epoch 7 ...\n"
     ]
    },
    {
     "name": "stderr",
     "output_type": "stream",
     "text": [
      "100%|##########|16/16[00:29<00:00, 0.54it/s]"
     ]
    },
    {
     "name": "stdout",
     "output_type": "stream",
     "text": [
      "\u001b[32m[1102 10:01:36 @base.py:267]\u001b[0m Epoch 7 (global_step 112) finished, time:29.28 sec.\n"
     ]
    },
    {
     "name": "stderr",
     "output_type": "stream",
     "text": [
      "\n",
      "100%|##########|16/16[00:22<00:00, 0.70it/s]\n"
     ]
    },
    {
     "name": "stdout",
     "output_type": "stream",
     "text": [
      "\u001b[32m[1102 10:01:59 @saver.py:89]\u001b[0m Model saved to ./train_log/rnn_v2/1conv-0aconv/model-112.\n",
      "\u001b[32m[1102 10:01:59 @monitor.py:361]\u001b[0m DataParallelInferenceRunner/QueueInput/queue_size_1: 49.02\n",
      "\u001b[32m[1102 10:01:59 @monitor.py:361]\u001b[0m QueueInput/queue_size_1: 49.335\n",
      "\u001b[32m[1102 10:01:59 @monitor.py:361]\u001b[0m coverage: 5.1006\n",
      "\u001b[32m[1102 10:01:59 @monitor.py:361]\u001b[0m learning_rate: 0.0001\n",
      "\u001b[32m[1102 10:01:59 @monitor.py:361]\u001b[0m loss/value: 0.089014\n",
      "\u001b[32m[1102 10:01:59 @monitor.py:361]\u001b[0m macro_auc: 0.87484\n",
      "\u001b[32m[1102 10:01:59 @monitor.py:361]\u001b[0m macro_f1: 0.40412\n",
      "\u001b[32m[1102 10:01:59 @monitor.py:361]\u001b[0m mean_average_precision: 0.74073\n",
      "\u001b[32m[1102 10:01:59 @monitor.py:361]\u001b[0m micro_auc: 0.68726\n",
      "\u001b[32m[1102 10:01:59 @monitor.py:361]\u001b[0m micro_f1: 0.44568\n",
      "\u001b[32m[1102 10:01:59 @monitor.py:361]\u001b[0m one_error: 0.61914\n",
      "\u001b[32m[1102 10:01:59 @monitor.py:361]\u001b[0m ranking_loss: 0.3378\n",
      "\u001b[32m[1102 10:01:59 @monitor.py:361]\u001b[0m ranking_mean_average_precision: 0.5322\n",
      "\u001b[32m[1102 10:01:59 @monitor.py:361]\u001b[0m training_ap: 0.67622\n",
      "\u001b[32m[1102 10:01:59 @monitor.py:361]\u001b[0m training_auc: 0.83829\n",
      "\u001b[32m[1102 10:01:59 @group.py:42]\u001b[0m Callbacks took 23.026 sec in total. DataParallelInferenceRunner: 22.789sec\n",
      "\u001b[32m[1102 10:01:59 @base.py:257]\u001b[0m Start Epoch 8 ...\n"
     ]
    },
    {
     "name": "stderr",
     "output_type": "stream",
     "text": [
      "100%|##########|16/16[00:29<00:00, 0.54it/s]"
     ]
    },
    {
     "name": "stdout",
     "output_type": "stream",
     "text": [
      "\u001b[32m[1102 10:02:28 @base.py:267]\u001b[0m Epoch 8 (global_step 128) finished, time:29.40 sec.\n"
     ]
    },
    {
     "name": "stderr",
     "output_type": "stream",
     "text": [
      "\n",
      "100%|##########|16/16[00:22<00:00, 0.70it/s]\n"
     ]
    },
    {
     "name": "stdout",
     "output_type": "stream",
     "text": [
      "\u001b[32m[1102 10:02:51 @saver.py:89]\u001b[0m Model saved to ./train_log/rnn_v2/1conv-0aconv/model-128.\n",
      "\u001b[32m[1102 10:02:53 @saver.py:158]\u001b[0m Model with maximum 'micro_auc' saved.\n",
      "\u001b[32m[1102 10:02:53 @monitor.py:361]\u001b[0m DataParallelInferenceRunner/QueueInput/queue_size_1: 49.357\n",
      "\u001b[32m[1102 10:02:53 @monitor.py:361]\u001b[0m QueueInput/queue_size_1: 49.708\n",
      "\u001b[32m[1102 10:02:53 @monitor.py:361]\u001b[0m coverage: 4.8789\n",
      "\u001b[32m[1102 10:02:53 @monitor.py:361]\u001b[0m learning_rate: 0.0001\n",
      "\u001b[32m[1102 10:02:53 @monitor.py:361]\u001b[0m loss/value: 0.083679\n",
      "\u001b[32m[1102 10:02:53 @monitor.py:361]\u001b[0m macro_auc: 0.88593\n",
      "\u001b[32m[1102 10:02:53 @monitor.py:361]\u001b[0m macro_f1: 0.47573\n",
      "\u001b[32m[1102 10:02:53 @monitor.py:361]\u001b[0m mean_average_precision: 0.7652\n",
      "\u001b[32m[1102 10:02:53 @monitor.py:361]\u001b[0m micro_auc: 0.71606\n",
      "\u001b[32m[1102 10:02:53 @monitor.py:361]\u001b[0m micro_f1: 0.50644\n",
      "\u001b[32m[1102 10:02:53 @monitor.py:361]\u001b[0m one_error: 0.59082\n",
      "\u001b[32m[1102 10:02:53 @monitor.py:361]\u001b[0m ranking_loss: 0.30204\n",
      "\u001b[32m[1102 10:02:53 @monitor.py:361]\u001b[0m ranking_mean_average_precision: 0.56411\n",
      "\u001b[32m[1102 10:02:53 @monitor.py:361]\u001b[0m training_ap: 0.6986\n",
      "\u001b[32m[1102 10:02:53 @monitor.py:361]\u001b[0m training_auc: 0.84977\n",
      "\u001b[32m[1102 10:02:53 @group.py:42]\u001b[0m Callbacks took 24.659 sec in total. DataParallelInferenceRunner: 22.707sec\n",
      "\u001b[32m[1102 10:02:53 @base.py:257]\u001b[0m Start Epoch 9 ...\n"
     ]
    },
    {
     "name": "stderr",
     "output_type": "stream",
     "text": [
      "100%|##########|16/16[00:29<00:00, 0.55it/s]"
     ]
    },
    {
     "name": "stdout",
     "output_type": "stream",
     "text": [
      "\u001b[32m[1102 10:03:22 @base.py:267]\u001b[0m Epoch 9 (global_step 144) finished, time:29.39 sec.\n"
     ]
    },
    {
     "name": "stderr",
     "output_type": "stream",
     "text": [
      "\n",
      "100%|##########|16/16[00:22<00:00, 0.71it/s]\n"
     ]
    },
    {
     "name": "stdout",
     "output_type": "stream",
     "text": [
      "\u001b[32m[1102 10:03:45 @saver.py:89]\u001b[0m Model saved to ./train_log/rnn_v2/1conv-0aconv/model-144.\n",
      "\u001b[32m[1102 10:03:47 @saver.py:158]\u001b[0m Model with maximum 'micro_auc' saved.\n",
      "\u001b[32m[1102 10:03:47 @monitor.py:361]\u001b[0m DataParallelInferenceRunner/QueueInput/queue_size_1: 49.558\n",
      "\u001b[32m[1102 10:03:47 @monitor.py:361]\u001b[0m QueueInput/queue_size_1: 49.824\n",
      "\u001b[32m[1102 10:03:47 @monitor.py:361]\u001b[0m coverage: 4.5264\n",
      "\u001b[32m[1102 10:03:47 @monitor.py:361]\u001b[0m learning_rate: 0.0001\n",
      "\u001b[32m[1102 10:03:47 @monitor.py:361]\u001b[0m loss/value: 0.079322\n",
      "\u001b[32m[1102 10:03:47 @monitor.py:361]\u001b[0m macro_auc: 0.89361\n",
      "\u001b[32m[1102 10:03:47 @monitor.py:361]\u001b[0m macro_f1: 0.53997\n",
      "\u001b[32m[1102 10:03:47 @monitor.py:361]\u001b[0m mean_average_precision: 0.77509\n",
      "\u001b[32m[1102 10:03:47 @monitor.py:361]\u001b[0m micro_auc: 0.76354\n",
      "\u001b[32m[1102 10:03:47 @monitor.py:361]\u001b[0m micro_f1: 0.56392\n",
      "\u001b[32m[1102 10:03:47 @monitor.py:361]\u001b[0m one_error: 0.49023\n",
      "\u001b[32m[1102 10:03:47 @monitor.py:361]\u001b[0m ranking_loss: 0.25706\n",
      "\u001b[32m[1102 10:03:47 @monitor.py:361]\u001b[0m ranking_mean_average_precision: 0.63127\n",
      "\u001b[32m[1102 10:03:47 @monitor.py:361]\u001b[0m training_ap: 0.71837\n",
      "\u001b[32m[1102 10:03:47 @monitor.py:361]\u001b[0m training_auc: 0.85993\n",
      "\u001b[32m[1102 10:03:47 @group.py:42]\u001b[0m Callbacks took 24.572 sec in total. DataParallelInferenceRunner: 22.683sec\n",
      "\u001b[32m[1102 10:03:47 @base.py:257]\u001b[0m Start Epoch 10 ...\n"
     ]
    },
    {
     "name": "stderr",
     "output_type": "stream",
     "text": [
      "100%|##########|16/16[00:29<00:00, 0.57it/s]"
     ]
    },
    {
     "name": "stdout",
     "output_type": "stream",
     "text": [
      "\u001b[32m[1102 10:04:16 @base.py:267]\u001b[0m Epoch 10 (global_step 160) finished, time:29.09 sec.\n"
     ]
    },
    {
     "name": "stderr",
     "output_type": "stream",
     "text": [
      "\n",
      "100%|##########|16/16[00:22<00:00, 0.71it/s]\n"
     ]
    },
    {
     "name": "stdout",
     "output_type": "stream",
     "text": [
      "\u001b[32m[1102 10:04:39 @saver.py:89]\u001b[0m Model saved to ./train_log/rnn_v2/1conv-0aconv/model-160.\n",
      "\u001b[32m[1102 10:04:40 @saver.py:158]\u001b[0m Model with maximum 'micro_auc' saved.\n",
      "\u001b[32m[1102 10:04:40 @monitor.py:361]\u001b[0m DataParallelInferenceRunner/QueueInput/queue_size_1: 49.566\n",
      "\u001b[32m[1102 10:04:40 @monitor.py:361]\u001b[0m QueueInput/queue_size_1: 49.854\n",
      "\u001b[32m[1102 10:04:40 @monitor.py:361]\u001b[0m coverage: 4.2373\n",
      "\u001b[32m[1102 10:04:40 @monitor.py:361]\u001b[0m learning_rate: 0.0001\n",
      "\u001b[32m[1102 10:04:40 @monitor.py:361]\u001b[0m loss/value: 0.074488\n",
      "\u001b[32m[1102 10:04:40 @monitor.py:361]\u001b[0m macro_auc: 0.90041\n",
      "\u001b[32m[1102 10:04:40 @monitor.py:361]\u001b[0m macro_f1: 0.55376\n",
      "\u001b[32m[1102 10:04:40 @monitor.py:361]\u001b[0m mean_average_precision: 0.78495\n",
      "\u001b[32m[1102 10:04:40 @monitor.py:361]\u001b[0m micro_auc: 0.79875\n",
      "\u001b[32m[1102 10:04:40 @monitor.py:361]\u001b[0m micro_f1: 0.58622\n",
      "\u001b[32m[1102 10:04:40 @monitor.py:361]\u001b[0m one_error: 0.38379\n",
      "\u001b[32m[1102 10:04:40 @monitor.py:361]\u001b[0m ranking_loss: 0.22252\n",
      "\u001b[32m[1102 10:04:40 @monitor.py:361]\u001b[0m ranking_mean_average_precision: 0.68161\n",
      "\u001b[32m[1102 10:04:40 @monitor.py:361]\u001b[0m training_ap: 0.73646\n",
      "\u001b[32m[1102 10:04:40 @monitor.py:361]\u001b[0m training_auc: 0.86939\n",
      "\u001b[32m[1102 10:04:40 @group.py:42]\u001b[0m Callbacks took 24.793 sec in total. DataParallelInferenceRunner: 22.848sec\n",
      "\u001b[32m[1102 10:04:40 @base.py:257]\u001b[0m Start Epoch 11 ...\n"
     ]
    },
    {
     "name": "stderr",
     "output_type": "stream",
     "text": [
      "100%|##########|16/16[00:29<00:00, 0.55it/s]"
     ]
    },
    {
     "name": "stdout",
     "output_type": "stream",
     "text": [
      "\u001b[32m[1102 10:05:10 @base.py:267]\u001b[0m Epoch 11 (global_step 176) finished, time:29.07 sec.\n"
     ]
    },
    {
     "name": "stderr",
     "output_type": "stream",
     "text": [
      "\n",
      "100%|##########|16/16[00:22<00:00, 0.70it/s]\n"
     ]
    },
    {
     "name": "stdout",
     "output_type": "stream",
     "text": [
      "\u001b[32m[1102 10:05:33 @saver.py:89]\u001b[0m Model saved to ./train_log/rnn_v2/1conv-0aconv/model-176.\n",
      "\u001b[32m[1102 10:05:33 @monitor.py:361]\u001b[0m DataParallelInferenceRunner/QueueInput/queue_size_1: 49.604\n",
      "\u001b[32m[1102 10:05:33 @monitor.py:361]\u001b[0m QueueInput/queue_size_1: 49.936\n",
      "\u001b[32m[1102 10:05:33 @monitor.py:361]\u001b[0m coverage: 4.3457\n",
      "\u001b[32m[1102 10:05:33 @monitor.py:361]\u001b[0m learning_rate: 0.0001\n",
      "\u001b[32m[1102 10:05:33 @monitor.py:361]\u001b[0m loss/value: 0.07031\n",
      "\u001b[32m[1102 10:05:33 @monitor.py:361]\u001b[0m macro_auc: 0.91067\n",
      "\u001b[32m[1102 10:05:33 @monitor.py:361]\u001b[0m macro_f1: 0.56313\n",
      "\u001b[32m[1102 10:05:33 @monitor.py:361]\u001b[0m mean_average_precision: 0.80717\n",
      "\u001b[32m[1102 10:05:33 @monitor.py:361]\u001b[0m micro_auc: 0.77555\n",
      "\u001b[32m[1102 10:05:33 @monitor.py:361]\u001b[0m micro_f1: 0.56056\n",
      "\u001b[32m[1102 10:05:33 @monitor.py:361]\u001b[0m one_error: 0.47461\n",
      "\u001b[32m[1102 10:05:33 @monitor.py:361]\u001b[0m ranking_loss: 0.24728\n",
      "\u001b[32m[1102 10:05:33 @monitor.py:361]\u001b[0m ranking_mean_average_precision: 0.6325\n",
      "\u001b[32m[1102 10:05:33 @monitor.py:361]\u001b[0m training_ap: 0.7527\n",
      "\u001b[32m[1102 10:05:33 @monitor.py:361]\u001b[0m training_auc: 0.87781\n",
      "\u001b[32m[1102 10:05:33 @group.py:42]\u001b[0m Callbacks took 23.314 sec in total. DataParallelInferenceRunner: 23.005sec\n",
      "\u001b[32m[1102 10:05:33 @base.py:257]\u001b[0m Start Epoch 12 ...\n"
     ]
    },
    {
     "name": "stderr",
     "output_type": "stream",
     "text": [
      "100%|##########|16/16[00:29<00:00, 0.54it/s]"
     ]
    },
    {
     "name": "stdout",
     "output_type": "stream",
     "text": [
      "\u001b[32m[1102 10:06:02 @base.py:267]\u001b[0m Epoch 12 (global_step 192) finished, time:29.17 sec.\n"
     ]
    },
    {
     "name": "stderr",
     "output_type": "stream",
     "text": [
      "\n",
      "100%|##########|16/16[00:22<00:00, 0.70it/s]\n"
     ]
    },
    {
     "name": "stdout",
     "output_type": "stream",
     "text": [
      "\u001b[32m[1102 10:06:25 @saver.py:89]\u001b[0m Model saved to ./train_log/rnn_v2/1conv-0aconv/model-192.\n",
      "\u001b[32m[1102 10:06:25 @monitor.py:361]\u001b[0m DataParallelInferenceRunner/QueueInput/queue_size_1: 49.689\n",
      "\u001b[32m[1102 10:06:25 @monitor.py:361]\u001b[0m QueueInput/queue_size_1: 49.972\n",
      "\u001b[32m[1102 10:06:25 @monitor.py:361]\u001b[0m coverage: 4.2168\n",
      "\u001b[32m[1102 10:06:25 @monitor.py:361]\u001b[0m learning_rate: 0.0001\n",
      "\u001b[32m[1102 10:06:25 @monitor.py:361]\u001b[0m loss/value: 0.06706\n",
      "\u001b[32m[1102 10:06:25 @monitor.py:361]\u001b[0m macro_auc: 0.91793\n",
      "\u001b[32m[1102 10:06:25 @monitor.py:361]\u001b[0m macro_f1: 0.58132\n",
      "\u001b[32m[1102 10:06:25 @monitor.py:361]\u001b[0m mean_average_precision: 0.81416\n",
      "\u001b[32m[1102 10:06:25 @monitor.py:361]\u001b[0m micro_auc: 0.79297\n",
      "\u001b[32m[1102 10:06:25 @monitor.py:361]\u001b[0m micro_f1: 0.57727\n",
      "\u001b[32m[1102 10:06:25 @monitor.py:361]\u001b[0m one_error: 0.50293\n",
      "\u001b[32m[1102 10:06:25 @monitor.py:361]\u001b[0m ranking_loss: 0.23664\n",
      "\u001b[32m[1102 10:06:25 @monitor.py:361]\u001b[0m ranking_mean_average_precision: 0.63937\n",
      "\u001b[32m[1102 10:06:25 @monitor.py:361]\u001b[0m training_ap: 0.76647\n",
      "\u001b[32m[1102 10:06:25 @monitor.py:361]\u001b[0m training_auc: 0.88508\n",
      "\u001b[32m[1102 10:06:25 @group.py:42]\u001b[0m Callbacks took 23.215 sec in total. DataParallelInferenceRunner: 22.723sec\n",
      "\u001b[32m[1102 10:06:25 @base.py:257]\u001b[0m Start Epoch 13 ...\n"
     ]
    },
    {
     "name": "stderr",
     "output_type": "stream",
     "text": [
      "100%|##########|16/16[00:29<00:00, 0.56it/s]"
     ]
    },
    {
     "name": "stdout",
     "output_type": "stream",
     "text": [
      "\u001b[32m[1102 10:06:55 @base.py:267]\u001b[0m Epoch 13 (global_step 208) finished, time:29.54 sec.\n"
     ]
    },
    {
     "name": "stderr",
     "output_type": "stream",
     "text": [
      "\n",
      "100%|##########|16/16[00:22<00:00, 0.72it/s]\n"
     ]
    },
    {
     "name": "stdout",
     "output_type": "stream",
     "text": [
      "\u001b[32m[1102 10:07:17 @saver.py:89]\u001b[0m Model saved to ./train_log/rnn_v2/1conv-0aconv/model-208.\n",
      "\u001b[32m[1102 10:07:19 @saver.py:158]\u001b[0m Model with maximum 'micro_auc' saved.\n",
      "\u001b[32m[1102 10:07:20 @monitor.py:361]\u001b[0m DataParallelInferenceRunner/QueueInput/queue_size_1: 49.428\n",
      "\u001b[32m[1102 10:07:20 @monitor.py:361]\u001b[0m QueueInput/queue_size_1: 49.988\n",
      "\u001b[32m[1102 10:07:20 @monitor.py:361]\u001b[0m coverage: 4.2578\n",
      "\u001b[32m[1102 10:07:20 @monitor.py:361]\u001b[0m learning_rate: 0.0001\n",
      "\u001b[32m[1102 10:07:20 @monitor.py:361]\u001b[0m loss/value: 0.06456\n",
      "\u001b[32m[1102 10:07:20 @monitor.py:361]\u001b[0m macro_auc: 0.92195\n",
      "\u001b[32m[1102 10:07:20 @monitor.py:361]\u001b[0m macro_f1: 0.56037\n",
      "\u001b[32m[1102 10:07:20 @monitor.py:361]\u001b[0m mean_average_precision: 0.82567\n",
      "\u001b[32m[1102 10:07:20 @monitor.py:361]\u001b[0m micro_auc: 0.81659\n",
      "\u001b[32m[1102 10:07:20 @monitor.py:361]\u001b[0m micro_f1: 0.59246\n",
      "\u001b[32m[1102 10:07:20 @monitor.py:361]\u001b[0m one_error: 0.30664\n",
      "\u001b[32m[1102 10:07:20 @monitor.py:361]\u001b[0m ranking_loss: 0.21416\n",
      "\u001b[32m[1102 10:07:20 @monitor.py:361]\u001b[0m ranking_mean_average_precision: 0.70795\n",
      "\u001b[32m[1102 10:07:20 @monitor.py:361]\u001b[0m training_ap: 0.77959\n",
      "\u001b[32m[1102 10:07:20 @monitor.py:361]\u001b[0m training_auc: 0.89152\n",
      "\u001b[32m[1102 10:07:20 @group.py:42]\u001b[0m Callbacks took 25.089 sec in total. DataParallelInferenceRunner: 22.397sec\n",
      "\u001b[32m[1102 10:07:20 @base.py:257]\u001b[0m Start Epoch 14 ...\n"
     ]
    },
    {
     "name": "stderr",
     "output_type": "stream",
     "text": [
      "100%|##########|16/16[00:29<00:00, 0.54it/s]"
     ]
    },
    {
     "name": "stdout",
     "output_type": "stream",
     "text": [
      "\u001b[32m[1102 10:07:49 @base.py:267]\u001b[0m Epoch 14 (global_step 224) finished, time:29.24 sec.\n"
     ]
    },
    {
     "name": "stderr",
     "output_type": "stream",
     "text": [
      "\n",
      "100%|##########|16/16[00:22<00:00, 0.69it/s]\n"
     ]
    },
    {
     "name": "stdout",
     "output_type": "stream",
     "text": [
      "\u001b[32m[1102 10:08:12 @saver.py:89]\u001b[0m Model saved to ./train_log/rnn_v2/1conv-0aconv/model-224.\n",
      "\u001b[32m[1102 10:08:12 @monitor.py:361]\u001b[0m DataParallelInferenceRunner/QueueInput/queue_size_1: 49.397\n",
      "\u001b[32m[1102 10:08:12 @monitor.py:361]\u001b[0m QueueInput/queue_size_1: 49.995\n",
      "\u001b[32m[1102 10:08:12 @monitor.py:361]\u001b[0m coverage: 4.5117\n",
      "\u001b[32m[1102 10:08:12 @monitor.py:361]\u001b[0m learning_rate: 0.0001\n",
      "\u001b[32m[1102 10:08:12 @monitor.py:361]\u001b[0m loss/value: 0.059566\n",
      "\u001b[32m[1102 10:08:12 @monitor.py:361]\u001b[0m macro_auc: 0.9195\n",
      "\u001b[32m[1102 10:08:12 @monitor.py:361]\u001b[0m macro_f1: 0.52453\n",
      "\u001b[32m[1102 10:08:12 @monitor.py:361]\u001b[0m mean_average_precision: 0.83046\n",
      "\u001b[32m[1102 10:08:12 @monitor.py:361]\u001b[0m micro_auc: 0.79575\n",
      "\u001b[32m[1102 10:08:12 @monitor.py:361]\u001b[0m micro_f1: 0.55336\n",
      "\u001b[32m[1102 10:08:12 @monitor.py:361]\u001b[0m one_error: 0.34473\n",
      "\u001b[32m[1102 10:08:12 @monitor.py:361]\u001b[0m ranking_loss: 0.23826\n",
      "\u001b[32m[1102 10:08:12 @monitor.py:361]\u001b[0m ranking_mean_average_precision: 0.67736\n",
      "\u001b[32m[1102 10:08:12 @monitor.py:361]\u001b[0m training_ap: 0.7921\n",
      "\u001b[32m[1102 10:08:12 @monitor.py:361]\u001b[0m training_auc: 0.89787\n",
      "\u001b[32m[1102 10:08:12 @group.py:42]\u001b[0m Callbacks took 23.265 sec in total. DataParallelInferenceRunner: 22.983sec\n",
      "\u001b[32m[1102 10:08:12 @base.py:257]\u001b[0m Start Epoch 15 ...\n"
     ]
    },
    {
     "name": "stderr",
     "output_type": "stream",
     "text": [
      "100%|##########|16/16[00:29<00:00, 0.56it/s]"
     ]
    },
    {
     "name": "stdout",
     "output_type": "stream",
     "text": [
      "\u001b[32m[1102 10:08:41 @base.py:267]\u001b[0m Epoch 15 (global_step 240) finished, time:29.10 sec.\n",
      "\u001b[32m[1102 10:08:41 @param.py:144]\u001b[0m After epoch 15, learning_rate will change to 0.00001000\n"
     ]
    },
    {
     "name": "stderr",
     "output_type": "stream",
     "text": [
      "\n",
      "100%|##########|16/16[00:22<00:00, 0.71it/s]\n"
     ]
    },
    {
     "name": "stdout",
     "output_type": "stream",
     "text": [
      "\u001b[32m[1102 10:09:05 @saver.py:89]\u001b[0m Model saved to ./train_log/rnn_v2/1conv-0aconv/model-240.\n",
      "\u001b[32m[1102 10:09:05 @monitor.py:361]\u001b[0m DataParallelInferenceRunner/QueueInput/queue_size_1: 49.705\n",
      "\u001b[32m[1102 10:09:05 @monitor.py:361]\u001b[0m QueueInput/queue_size_1: 49.998\n",
      "\u001b[32m[1102 10:09:05 @monitor.py:361]\u001b[0m coverage: 4.791\n",
      "\u001b[32m[1102 10:09:05 @monitor.py:361]\u001b[0m learning_rate: 0.0001\n",
      "\u001b[32m[1102 10:09:05 @monitor.py:361]\u001b[0m loss/value: 0.056864\n",
      "\u001b[32m[1102 10:09:05 @monitor.py:361]\u001b[0m macro_auc: 0.92721\n",
      "\u001b[32m[1102 10:09:05 @monitor.py:361]\u001b[0m macro_f1: 0.51558\n",
      "\u001b[32m[1102 10:09:05 @monitor.py:361]\u001b[0m mean_average_precision: 0.83651\n",
      "\u001b[32m[1102 10:09:05 @monitor.py:361]\u001b[0m micro_auc: 0.77371\n",
      "\u001b[32m[1102 10:09:05 @monitor.py:361]\u001b[0m micro_f1: 0.50316\n",
      "\u001b[32m[1102 10:09:05 @monitor.py:361]\u001b[0m one_error: 0.32031\n",
      "\u001b[32m[1102 10:09:05 @monitor.py:361]\u001b[0m ranking_loss: 0.2607\n",
      "\u001b[32m[1102 10:09:05 @monitor.py:361]\u001b[0m ranking_mean_average_precision: 0.66815\n",
      "\u001b[32m[1102 10:09:05 @monitor.py:361]\u001b[0m training_ap: 0.80285\n",
      "\u001b[32m[1102 10:09:05 @monitor.py:361]\u001b[0m training_auc: 0.9035\n",
      "\u001b[32m[1102 10:09:05 @group.py:42]\u001b[0m Callbacks took 23.225 sec in total. DataParallelInferenceRunner: 22.730sec\n",
      "\u001b[32m[1102 10:09:05 @base.py:257]\u001b[0m Start Epoch 16 ...\n"
     ]
    },
    {
     "name": "stderr",
     "output_type": "stream",
     "text": [
      "100%|##########|16/16[00:29<00:00, 0.55it/s]"
     ]
    },
    {
     "name": "stdout",
     "output_type": "stream",
     "text": [
      "\u001b[32m[1102 10:09:34 @base.py:267]\u001b[0m Epoch 16 (global_step 256) finished, time:29.45 sec.\n"
     ]
    },
    {
     "name": "stderr",
     "output_type": "stream",
     "text": [
      "\n",
      "100%|##########|16/16[00:22<00:00, 0.71it/s]\n"
     ]
    },
    {
     "name": "stdout",
     "output_type": "stream",
     "text": [
      "\u001b[32m[1102 10:09:57 @saver.py:89]\u001b[0m Model saved to ./train_log/rnn_v2/1conv-0aconv/model-256.\n",
      "\u001b[32m[1102 10:09:59 @saver.py:158]\u001b[0m Model with maximum 'micro_auc' saved.\n",
      "\u001b[32m[1102 10:09:59 @monitor.py:361]\u001b[0m DataParallelInferenceRunner/QueueInput/queue_size_1: 49.732\n",
      "\u001b[32m[1102 10:09:59 @monitor.py:361]\u001b[0m QueueInput/queue_size_1: 49.999\n",
      "\u001b[32m[1102 10:09:59 @monitor.py:361]\u001b[0m coverage: 4.2832\n",
      "\u001b[32m[1102 10:09:59 @monitor.py:361]\u001b[0m learning_rate: 1e-05\n",
      "\u001b[32m[1102 10:09:59 @monitor.py:361]\u001b[0m loss/value: 0.052588\n",
      "\u001b[32m[1102 10:09:59 @monitor.py:361]\u001b[0m macro_auc: 0.93523\n",
      "\u001b[32m[1102 10:09:59 @monitor.py:361]\u001b[0m macro_f1: 0.56023\n",
      "\u001b[32m[1102 10:09:59 @monitor.py:361]\u001b[0m mean_average_precision: 0.85124\n",
      "\u001b[32m[1102 10:09:59 @monitor.py:361]\u001b[0m micro_auc: 0.81851\n",
      "\u001b[32m[1102 10:09:59 @monitor.py:361]\u001b[0m micro_f1: 0.56017\n",
      "\u001b[32m[1102 10:09:59 @monitor.py:361]\u001b[0m one_error: 0.27148\n",
      "\u001b[32m[1102 10:09:59 @monitor.py:361]\u001b[0m ranking_loss: 0.21432\n",
      "\u001b[32m[1102 10:09:59 @monitor.py:361]\u001b[0m ranking_mean_average_precision: 0.71623\n",
      "\u001b[32m[1102 10:09:59 @monitor.py:361]\u001b[0m training_ap: 0.81415\n",
      "\u001b[32m[1102 10:09:59 @monitor.py:361]\u001b[0m training_auc: 0.90907\n",
      "\u001b[32m[1102 10:09:59 @group.py:42]\u001b[0m Callbacks took 24.481 sec in total. DataParallelInferenceRunner: 22.666sec\n",
      "\u001b[32m[1102 10:09:59 @base.py:257]\u001b[0m Start Epoch 17 ...\n"
     ]
    },
    {
     "name": "stderr",
     "output_type": "stream",
     "text": [
      "100%|##########|16/16[00:29<00:00, 0.54it/s]"
     ]
    },
    {
     "name": "stdout",
     "output_type": "stream",
     "text": [
      "\u001b[32m[1102 10:10:28 @base.py:267]\u001b[0m Epoch 17 (global_step 272) finished, time:29.11 sec.\n"
     ]
    },
    {
     "name": "stderr",
     "output_type": "stream",
     "text": [
      "\n",
      "100%|##########|16/16[00:22<00:00, 0.71it/s]\n"
     ]
    },
    {
     "name": "stdout",
     "output_type": "stream",
     "text": [
      "\u001b[32m[1102 10:10:51 @saver.py:89]\u001b[0m Model saved to ./train_log/rnn_v2/1conv-0aconv/model-272.\n",
      "\u001b[32m[1102 10:10:52 @saver.py:158]\u001b[0m Model with maximum 'micro_auc' saved.\n",
      "\u001b[32m[1102 10:10:52 @monitor.py:361]\u001b[0m DataParallelInferenceRunner/QueueInput/queue_size_1: 49.526\n",
      "\u001b[32m[1102 10:10:52 @monitor.py:361]\u001b[0m QueueInput/queue_size_1: 49.87\n",
      "\u001b[32m[1102 10:10:52 @monitor.py:361]\u001b[0m coverage: 4.0371\n",
      "\u001b[32m[1102 10:10:52 @monitor.py:361]\u001b[0m learning_rate: 1e-05\n",
      "\u001b[32m[1102 10:10:52 @monitor.py:361]\u001b[0m loss/value: 0.050051\n",
      "\u001b[32m[1102 10:10:52 @monitor.py:361]\u001b[0m macro_auc: 0.93334\n",
      "\u001b[32m[1102 10:10:52 @monitor.py:361]\u001b[0m macro_f1: 0.58547\n",
      "\u001b[32m[1102 10:10:52 @monitor.py:361]\u001b[0m mean_average_precision: 0.84963\n",
      "\u001b[32m[1102 10:10:52 @monitor.py:361]\u001b[0m micro_auc: 0.83775\n",
      "\u001b[32m[1102 10:10:52 @monitor.py:361]\u001b[0m micro_f1: 0.59149\n",
      "\u001b[32m[1102 10:10:52 @monitor.py:361]\u001b[0m one_error: 0.25781\n",
      "\u001b[32m[1102 10:10:52 @monitor.py:361]\u001b[0m ranking_loss: 0.19455\n",
      "\u001b[32m[1102 10:10:52 @monitor.py:361]\u001b[0m ranking_mean_average_precision: 0.73767\n",
      "\u001b[32m[1102 10:10:52 @monitor.py:361]\u001b[0m training_ap: 0.82385\n",
      "\u001b[32m[1102 10:10:52 @monitor.py:361]\u001b[0m training_auc: 0.91404\n",
      "\u001b[32m[1102 10:10:52 @group.py:42]\u001b[0m Callbacks took 24.647 sec in total. DataParallelInferenceRunner: 22.829sec\n",
      "\u001b[32m[1102 10:10:52 @base.py:257]\u001b[0m Start Epoch 18 ...\n"
     ]
    },
    {
     "name": "stderr",
     "output_type": "stream",
     "text": [
      "100%|##########|16/16[00:29<00:00, 0.54it/s]"
     ]
    },
    {
     "name": "stdout",
     "output_type": "stream",
     "text": [
      "\u001b[32m[1102 10:11:22 @base.py:267]\u001b[0m Epoch 18 (global_step 288) finished, time:29.47 sec.\n"
     ]
    },
    {
     "name": "stderr",
     "output_type": "stream",
     "text": [
      "\n",
      "100%|##########|16/16[00:22<00:00, 0.68it/s]\n"
     ]
    },
    {
     "name": "stdout",
     "output_type": "stream",
     "text": [
      "\u001b[32m[1102 10:11:45 @saver.py:89]\u001b[0m Model saved to ./train_log/rnn_v2/1conv-0aconv/model-288.\n",
      "\u001b[32m[1102 10:11:47 @saver.py:158]\u001b[0m Model with maximum 'micro_auc' saved.\n",
      "\u001b[32m[1102 10:11:47 @monitor.py:361]\u001b[0m DataParallelInferenceRunner/QueueInput/queue_size_1: 49.502\n",
      "\u001b[32m[1102 10:11:47 @monitor.py:361]\u001b[0m QueueInput/queue_size_1: 49.943\n",
      "\u001b[32m[1102 10:11:47 @monitor.py:361]\u001b[0m coverage: 3.958\n",
      "\u001b[32m[1102 10:11:47 @monitor.py:361]\u001b[0m learning_rate: 1e-05\n",
      "\u001b[32m[1102 10:11:47 @monitor.py:361]\u001b[0m loss/value: 0.047822\n",
      "\u001b[32m[1102 10:11:47 @monitor.py:361]\u001b[0m macro_auc: 0.93072\n",
      "\u001b[32m[1102 10:11:47 @monitor.py:361]\u001b[0m macro_f1: 0.57523\n",
      "\u001b[32m[1102 10:11:47 @monitor.py:361]\u001b[0m mean_average_precision: 0.844\n",
      "\u001b[32m[1102 10:11:47 @monitor.py:361]\u001b[0m micro_auc: 0.84311\n",
      "\u001b[32m[1102 10:11:47 @monitor.py:361]\u001b[0m micro_f1: 0.5879\n",
      "\u001b[32m[1102 10:11:47 @monitor.py:361]\u001b[0m one_error: 0.24219\n",
      "\u001b[32m[1102 10:11:47 @monitor.py:361]\u001b[0m ranking_loss: 0.18658\n",
      "\u001b[32m[1102 10:11:47 @monitor.py:361]\u001b[0m ranking_mean_average_precision: 0.74393\n",
      "\u001b[32m[1102 10:11:47 @monitor.py:361]\u001b[0m training_ap: 0.83275\n",
      "\u001b[32m[1102 10:11:47 @monitor.py:361]\u001b[0m training_auc: 0.91855\n",
      "\u001b[32m[1102 10:11:47 @group.py:42]\u001b[0m Callbacks took 24.723 sec in total. DataParallelInferenceRunner: 22.941sec\n",
      "\u001b[32m[1102 10:11:47 @base.py:257]\u001b[0m Start Epoch 19 ...\n"
     ]
    },
    {
     "name": "stderr",
     "output_type": "stream",
     "text": [
      "100%|##########|16/16[00:29<00:00, 0.54it/s]"
     ]
    },
    {
     "name": "stdout",
     "output_type": "stream",
     "text": [
      "\u001b[32m[1102 10:12:16 @base.py:267]\u001b[0m Epoch 19 (global_step 304) finished, time:29.11 sec.\n"
     ]
    },
    {
     "name": "stderr",
     "output_type": "stream",
     "text": [
      "\n",
      "100%|##########|16/16[00:22<00:00, 0.71it/s]\n"
     ]
    },
    {
     "name": "stdout",
     "output_type": "stream",
     "text": [
      "\u001b[32m[1102 10:12:39 @saver.py:89]\u001b[0m Model saved to ./train_log/rnn_v2/1conv-0aconv/model-304.\n",
      "\u001b[32m[1102 10:12:40 @saver.py:158]\u001b[0m Model with maximum 'micro_auc' saved.\n",
      "\u001b[32m[1102 10:12:40 @monitor.py:361]\u001b[0m DataParallelInferenceRunner/QueueInput/queue_size_1: 49.665\n",
      "\u001b[32m[1102 10:12:40 @monitor.py:361]\u001b[0m QueueInput/queue_size_1: 49.932\n",
      "\u001b[32m[1102 10:12:40 @monitor.py:361]\u001b[0m coverage: 3.8301\n",
      "\u001b[32m[1102 10:12:40 @monitor.py:361]\u001b[0m learning_rate: 1e-05\n",
      "\u001b[32m[1102 10:12:40 @monitor.py:361]\u001b[0m loss/value: 0.046396\n",
      "\u001b[32m[1102 10:12:40 @monitor.py:361]\u001b[0m macro_auc: 0.9345\n",
      "\u001b[32m[1102 10:12:40 @monitor.py:361]\u001b[0m macro_f1: 0.59859\n",
      "\u001b[32m[1102 10:12:40 @monitor.py:361]\u001b[0m mean_average_precision: 0.85324\n",
      "\u001b[32m[1102 10:12:40 @monitor.py:361]\u001b[0m micro_auc: 0.85144\n",
      "\u001b[32m[1102 10:12:40 @monitor.py:361]\u001b[0m micro_f1: 0.60039\n",
      "\u001b[32m[1102 10:12:40 @monitor.py:361]\u001b[0m one_error: 0.24414\n",
      "\u001b[32m[1102 10:12:40 @monitor.py:361]\u001b[0m ranking_loss: 0.17556\n",
      "\u001b[32m[1102 10:12:40 @monitor.py:361]\u001b[0m ranking_mean_average_precision: 0.75285\n",
      "\u001b[32m[1102 10:12:40 @monitor.py:361]\u001b[0m training_ap: 0.84064\n",
      "\u001b[32m[1102 10:12:40 @monitor.py:361]\u001b[0m training_auc: 0.92262\n",
      "\u001b[32m[1102 10:12:40 @group.py:42]\u001b[0m Callbacks took 24.727 sec in total. DataParallelInferenceRunner: 22.660sec\n",
      "\u001b[32m[1102 10:12:40 @base.py:257]\u001b[0m Start Epoch 20 ...\n"
     ]
    },
    {
     "name": "stderr",
     "output_type": "stream",
     "text": [
      "100%|##########|16/16[00:29<00:00, 0.56it/s]"
     ]
    },
    {
     "name": "stdout",
     "output_type": "stream",
     "text": [
      "\u001b[32m[1102 10:13:10 @base.py:267]\u001b[0m Epoch 20 (global_step 320) finished, time:29.29 sec.\n"
     ]
    },
    {
     "name": "stderr",
     "output_type": "stream",
     "text": [
      "\n",
      "100%|##########|16/16[00:22<00:00, 0.69it/s]\n"
     ]
    },
    {
     "name": "stdout",
     "output_type": "stream",
     "text": [
      "\u001b[32m[1102 10:13:33 @saver.py:89]\u001b[0m Model saved to ./train_log/rnn_v2/1conv-0aconv/model-320.\n",
      "\u001b[32m[1102 10:13:34 @saver.py:158]\u001b[0m Model with maximum 'micro_auc' saved.\n",
      "\u001b[32m[1102 10:13:34 @monitor.py:361]\u001b[0m DataParallelInferenceRunner/QueueInput/queue_size_1: 49.453\n",
      "\u001b[32m[1102 10:13:34 @monitor.py:361]\u001b[0m QueueInput/queue_size_1: 49.523\n",
      "\u001b[32m[1102 10:13:34 @monitor.py:361]\u001b[0m coverage: 3.5859\n",
      "\u001b[32m[1102 10:13:34 @monitor.py:361]\u001b[0m learning_rate: 1e-05\n",
      "\u001b[32m[1102 10:13:34 @monitor.py:361]\u001b[0m loss/value: 0.045761\n",
      "\u001b[32m[1102 10:13:34 @monitor.py:361]\u001b[0m macro_auc: 0.93903\n",
      "\u001b[32m[1102 10:13:34 @monitor.py:361]\u001b[0m macro_f1: 0.62433\n",
      "\u001b[32m[1102 10:13:34 @monitor.py:361]\u001b[0m mean_average_precision: 0.86014\n",
      "\u001b[32m[1102 10:13:34 @monitor.py:361]\u001b[0m micro_auc: 0.87231\n",
      "\u001b[32m[1102 10:13:34 @monitor.py:361]\u001b[0m micro_f1: 0.62473\n",
      "\u001b[32m[1102 10:13:34 @monitor.py:361]\u001b[0m one_error: 0.22559\n",
      "\u001b[32m[1102 10:13:34 @monitor.py:361]\u001b[0m ranking_loss: 0.15499\n",
      "\u001b[32m[1102 10:13:34 @monitor.py:361]\u001b[0m ranking_mean_average_precision: 0.77851\n",
      "\u001b[32m[1102 10:13:34 @monitor.py:361]\u001b[0m training_ap: 0.84759\n",
      "\u001b[32m[1102 10:13:34 @monitor.py:361]\u001b[0m training_auc: 0.92613\n",
      "\u001b[32m[1102 10:13:34 @group.py:42]\u001b[0m Callbacks took 24.498 sec in total. DataParallelInferenceRunner: 22.783sec\n",
      "\u001b[32m[1102 10:13:34 @base.py:271]\u001b[0m Training has finished!\n",
      "\u001b[32m[1102 10:13:34 @input_source.py:146]\u001b[0m EnqueueThread DataParallelInferenceRunner/QueueInput/input_queue Exited.\n",
      "\u001b[32m[1102 10:13:34 @input_source.py:146]\u001b[0m EnqueueThread QueueInput/input_queue Exited.\n"
     ]
    }
   ],
   "source": [
    "np.set_printoptions(formatter={'float_kind': lambda x: '%.2f' % x})\n",
    "model = RNN(config, is_finetuning=False, \n",
    "              label_scale=dm.get_imbalance_ratio().train.values)\n",
    "tf.reset_default_graph()\n",
    "train_config = TrainConfig(model=model, dataflow=train_data,\n",
    "                           callbacks=[\n",
    "                               ScheduledHyperParamSetter('learning_rate', [(0, 1e-4), (15, 1e-5)]),\n",
    "                               InfRunner(val_data, [AggregateMetric(config.validation_metrics, threshold)],\n",
    "                                         [1]),\n",
    "                               ModelSaver(var_collections='model_variables'),\n",
    "                               MaxSaver('micro_auc', save_name),\n",
    "                           ],\n",
    "                           session_init=SaverRestore(\n",
    "                               model_path=resnet_loc, ignore=ignore_restore),\n",
    "                           max_epoch=20, tower=[1])\n",
    "Trainer(train_config).train()"
   ]
  },
  {
   "cell_type": "code",
   "execution_count": 14,
   "metadata": {},
   "outputs": [
    {
     "data": {
      "text/plain": [
       "[<tf.Variable 'EMA/QueueInput/queue_size:0' shape=() dtype=float32_ref>,\n",
       " <tf.Variable 'EMA/QueueInput/queue_size/biased:0' shape=() dtype=float32_ref>,\n",
       " <tf.Variable 'EMA/QueueInput/queue_size/local_step:0' shape=() dtype=float32_ref>,\n",
       " <tf.Variable 'resnet_v2_101/conv1/weights:0' shape=(7, 7, 3, 64) dtype=float32_ref>,\n",
       " <tf.Variable 'resnet_v2_101/conv1/biases:0' shape=(64,) dtype=float32_ref>,\n",
       " <tf.Variable 'resnet_v2_101/block1/unit_1/bottleneck_v2/preact/beta:0' shape=(64,) dtype=float32_ref>,\n",
       " <tf.Variable 'resnet_v2_101/block1/unit_1/bottleneck_v2/preact/gamma:0' shape=(64,) dtype=float32_ref>,\n",
       " <tf.Variable 'resnet_v2_101/block1/unit_1/bottleneck_v2/preact/moving_mean:0' shape=(64,) dtype=float32_ref>,\n",
       " <tf.Variable 'resnet_v2_101/block1/unit_1/bottleneck_v2/preact/moving_variance:0' shape=(64,) dtype=float32_ref>,\n",
       " <tf.Variable 'resnet_v2_101/block1/unit_1/bottleneck_v2/shortcut/weights:0' shape=(1, 1, 64, 256) dtype=float32_ref>,\n",
       " <tf.Variable 'resnet_v2_101/block1/unit_1/bottleneck_v2/shortcut/biases:0' shape=(256,) dtype=float32_ref>,\n",
       " <tf.Variable 'resnet_v2_101/block1/unit_1/bottleneck_v2/conv1/weights:0' shape=(1, 1, 64, 64) dtype=float32_ref>,\n",
       " <tf.Variable 'resnet_v2_101/block1/unit_1/bottleneck_v2/conv1/BatchNorm/beta:0' shape=(64,) dtype=float32_ref>,\n",
       " <tf.Variable 'resnet_v2_101/block1/unit_1/bottleneck_v2/conv1/BatchNorm/gamma:0' shape=(64,) dtype=float32_ref>,\n",
       " <tf.Variable 'resnet_v2_101/block1/unit_1/bottleneck_v2/conv1/BatchNorm/moving_mean:0' shape=(64,) dtype=float32_ref>,\n",
       " <tf.Variable 'resnet_v2_101/block1/unit_1/bottleneck_v2/conv1/BatchNorm/moving_variance:0' shape=(64,) dtype=float32_ref>,\n",
       " <tf.Variable 'resnet_v2_101/block1/unit_1/bottleneck_v2/conv2/weights:0' shape=(3, 3, 64, 64) dtype=float32_ref>,\n",
       " <tf.Variable 'resnet_v2_101/block1/unit_1/bottleneck_v2/conv2/BatchNorm/beta:0' shape=(64,) dtype=float32_ref>,\n",
       " <tf.Variable 'resnet_v2_101/block1/unit_1/bottleneck_v2/conv2/BatchNorm/gamma:0' shape=(64,) dtype=float32_ref>,\n",
       " <tf.Variable 'resnet_v2_101/block1/unit_1/bottleneck_v2/conv2/BatchNorm/moving_mean:0' shape=(64,) dtype=float32_ref>,\n",
       " <tf.Variable 'resnet_v2_101/block1/unit_1/bottleneck_v2/conv2/BatchNorm/moving_variance:0' shape=(64,) dtype=float32_ref>,\n",
       " <tf.Variable 'resnet_v2_101/block1/unit_1/bottleneck_v2/conv3/weights:0' shape=(1, 1, 64, 256) dtype=float32_ref>,\n",
       " <tf.Variable 'resnet_v2_101/block1/unit_1/bottleneck_v2/conv3/biases:0' shape=(256,) dtype=float32_ref>,\n",
       " <tf.Variable 'resnet_v2_101/block1/unit_2/bottleneck_v2/preact/beta:0' shape=(256,) dtype=float32_ref>,\n",
       " <tf.Variable 'resnet_v2_101/block1/unit_2/bottleneck_v2/preact/gamma:0' shape=(256,) dtype=float32_ref>,\n",
       " <tf.Variable 'resnet_v2_101/block1/unit_2/bottleneck_v2/preact/moving_mean:0' shape=(256,) dtype=float32_ref>,\n",
       " <tf.Variable 'resnet_v2_101/block1/unit_2/bottleneck_v2/preact/moving_variance:0' shape=(256,) dtype=float32_ref>,\n",
       " <tf.Variable 'resnet_v2_101/block1/unit_2/bottleneck_v2/conv1/weights:0' shape=(1, 1, 256, 64) dtype=float32_ref>,\n",
       " <tf.Variable 'resnet_v2_101/block1/unit_2/bottleneck_v2/conv1/BatchNorm/beta:0' shape=(64,) dtype=float32_ref>,\n",
       " <tf.Variable 'resnet_v2_101/block1/unit_2/bottleneck_v2/conv1/BatchNorm/gamma:0' shape=(64,) dtype=float32_ref>,\n",
       " <tf.Variable 'resnet_v2_101/block1/unit_2/bottleneck_v2/conv1/BatchNorm/moving_mean:0' shape=(64,) dtype=float32_ref>,\n",
       " <tf.Variable 'resnet_v2_101/block1/unit_2/bottleneck_v2/conv1/BatchNorm/moving_variance:0' shape=(64,) dtype=float32_ref>,\n",
       " <tf.Variable 'resnet_v2_101/block1/unit_2/bottleneck_v2/conv2/weights:0' shape=(3, 3, 64, 64) dtype=float32_ref>,\n",
       " <tf.Variable 'resnet_v2_101/block1/unit_2/bottleneck_v2/conv2/BatchNorm/beta:0' shape=(64,) dtype=float32_ref>,\n",
       " <tf.Variable 'resnet_v2_101/block1/unit_2/bottleneck_v2/conv2/BatchNorm/gamma:0' shape=(64,) dtype=float32_ref>,\n",
       " <tf.Variable 'resnet_v2_101/block1/unit_2/bottleneck_v2/conv2/BatchNorm/moving_mean:0' shape=(64,) dtype=float32_ref>,\n",
       " <tf.Variable 'resnet_v2_101/block1/unit_2/bottleneck_v2/conv2/BatchNorm/moving_variance:0' shape=(64,) dtype=float32_ref>,\n",
       " <tf.Variable 'resnet_v2_101/block1/unit_2/bottleneck_v2/conv3/weights:0' shape=(1, 1, 64, 256) dtype=float32_ref>,\n",
       " <tf.Variable 'resnet_v2_101/block1/unit_2/bottleneck_v2/conv3/biases:0' shape=(256,) dtype=float32_ref>,\n",
       " <tf.Variable 'resnet_v2_101/block1/unit_3/bottleneck_v2/preact/beta:0' shape=(256,) dtype=float32_ref>,\n",
       " <tf.Variable 'resnet_v2_101/block1/unit_3/bottleneck_v2/preact/gamma:0' shape=(256,) dtype=float32_ref>,\n",
       " <tf.Variable 'resnet_v2_101/block1/unit_3/bottleneck_v2/preact/moving_mean:0' shape=(256,) dtype=float32_ref>,\n",
       " <tf.Variable 'resnet_v2_101/block1/unit_3/bottleneck_v2/preact/moving_variance:0' shape=(256,) dtype=float32_ref>,\n",
       " <tf.Variable 'resnet_v2_101/block1/unit_3/bottleneck_v2/conv1/weights:0' shape=(1, 1, 256, 64) dtype=float32_ref>,\n",
       " <tf.Variable 'resnet_v2_101/block1/unit_3/bottleneck_v2/conv1/BatchNorm/beta:0' shape=(64,) dtype=float32_ref>,\n",
       " <tf.Variable 'resnet_v2_101/block1/unit_3/bottleneck_v2/conv1/BatchNorm/gamma:0' shape=(64,) dtype=float32_ref>,\n",
       " <tf.Variable 'resnet_v2_101/block1/unit_3/bottleneck_v2/conv1/BatchNorm/moving_mean:0' shape=(64,) dtype=float32_ref>,\n",
       " <tf.Variable 'resnet_v2_101/block1/unit_3/bottleneck_v2/conv1/BatchNorm/moving_variance:0' shape=(64,) dtype=float32_ref>,\n",
       " <tf.Variable 'resnet_v2_101/block1/unit_3/bottleneck_v2/conv2/weights:0' shape=(3, 3, 64, 64) dtype=float32_ref>,\n",
       " <tf.Variable 'resnet_v2_101/block1/unit_3/bottleneck_v2/conv2/BatchNorm/beta:0' shape=(64,) dtype=float32_ref>,\n",
       " <tf.Variable 'resnet_v2_101/block1/unit_3/bottleneck_v2/conv2/BatchNorm/gamma:0' shape=(64,) dtype=float32_ref>,\n",
       " <tf.Variable 'resnet_v2_101/block1/unit_3/bottleneck_v2/conv2/BatchNorm/moving_mean:0' shape=(64,) dtype=float32_ref>,\n",
       " <tf.Variable 'resnet_v2_101/block1/unit_3/bottleneck_v2/conv2/BatchNorm/moving_variance:0' shape=(64,) dtype=float32_ref>,\n",
       " <tf.Variable 'resnet_v2_101/block1/unit_3/bottleneck_v2/conv3/weights:0' shape=(1, 1, 64, 256) dtype=float32_ref>,\n",
       " <tf.Variable 'resnet_v2_101/block1/unit_3/bottleneck_v2/conv3/biases:0' shape=(256,) dtype=float32_ref>,\n",
       " <tf.Variable 'resnet_v2_101/block2/unit_1/bottleneck_v2/preact/beta:0' shape=(256,) dtype=float32_ref>,\n",
       " <tf.Variable 'resnet_v2_101/block2/unit_1/bottleneck_v2/preact/gamma:0' shape=(256,) dtype=float32_ref>,\n",
       " <tf.Variable 'resnet_v2_101/block2/unit_1/bottleneck_v2/preact/moving_mean:0' shape=(256,) dtype=float32_ref>,\n",
       " <tf.Variable 'resnet_v2_101/block2/unit_1/bottleneck_v2/preact/moving_variance:0' shape=(256,) dtype=float32_ref>,\n",
       " <tf.Variable 'resnet_v2_101/block2/unit_1/bottleneck_v2/shortcut/weights:0' shape=(1, 1, 256, 512) dtype=float32_ref>,\n",
       " <tf.Variable 'resnet_v2_101/block2/unit_1/bottleneck_v2/shortcut/biases:0' shape=(512,) dtype=float32_ref>,\n",
       " <tf.Variable 'resnet_v2_101/block2/unit_1/bottleneck_v2/conv1/weights:0' shape=(1, 1, 256, 128) dtype=float32_ref>,\n",
       " <tf.Variable 'resnet_v2_101/block2/unit_1/bottleneck_v2/conv1/BatchNorm/beta:0' shape=(128,) dtype=float32_ref>,\n",
       " <tf.Variable 'resnet_v2_101/block2/unit_1/bottleneck_v2/conv1/BatchNorm/gamma:0' shape=(128,) dtype=float32_ref>,\n",
       " <tf.Variable 'resnet_v2_101/block2/unit_1/bottleneck_v2/conv1/BatchNorm/moving_mean:0' shape=(128,) dtype=float32_ref>,\n",
       " <tf.Variable 'resnet_v2_101/block2/unit_1/bottleneck_v2/conv1/BatchNorm/moving_variance:0' shape=(128,) dtype=float32_ref>,\n",
       " <tf.Variable 'resnet_v2_101/block2/unit_1/bottleneck_v2/conv2/weights:0' shape=(3, 3, 128, 128) dtype=float32_ref>,\n",
       " <tf.Variable 'resnet_v2_101/block2/unit_1/bottleneck_v2/conv2/BatchNorm/beta:0' shape=(128,) dtype=float32_ref>,\n",
       " <tf.Variable 'resnet_v2_101/block2/unit_1/bottleneck_v2/conv2/BatchNorm/gamma:0' shape=(128,) dtype=float32_ref>,\n",
       " <tf.Variable 'resnet_v2_101/block2/unit_1/bottleneck_v2/conv2/BatchNorm/moving_mean:0' shape=(128,) dtype=float32_ref>,\n",
       " <tf.Variable 'resnet_v2_101/block2/unit_1/bottleneck_v2/conv2/BatchNorm/moving_variance:0' shape=(128,) dtype=float32_ref>,\n",
       " <tf.Variable 'resnet_v2_101/block2/unit_1/bottleneck_v2/conv3/weights:0' shape=(1, 1, 128, 512) dtype=float32_ref>,\n",
       " <tf.Variable 'resnet_v2_101/block2/unit_1/bottleneck_v2/conv3/biases:0' shape=(512,) dtype=float32_ref>,\n",
       " <tf.Variable 'resnet_v2_101/block2/unit_2/bottleneck_v2/preact/beta:0' shape=(512,) dtype=float32_ref>,\n",
       " <tf.Variable 'resnet_v2_101/block2/unit_2/bottleneck_v2/preact/gamma:0' shape=(512,) dtype=float32_ref>,\n",
       " <tf.Variable 'resnet_v2_101/block2/unit_2/bottleneck_v2/preact/moving_mean:0' shape=(512,) dtype=float32_ref>,\n",
       " <tf.Variable 'resnet_v2_101/block2/unit_2/bottleneck_v2/preact/moving_variance:0' shape=(512,) dtype=float32_ref>,\n",
       " <tf.Variable 'resnet_v2_101/block2/unit_2/bottleneck_v2/conv1/weights:0' shape=(1, 1, 512, 128) dtype=float32_ref>,\n",
       " <tf.Variable 'resnet_v2_101/block2/unit_2/bottleneck_v2/conv1/BatchNorm/beta:0' shape=(128,) dtype=float32_ref>,\n",
       " <tf.Variable 'resnet_v2_101/block2/unit_2/bottleneck_v2/conv1/BatchNorm/gamma:0' shape=(128,) dtype=float32_ref>,\n",
       " <tf.Variable 'resnet_v2_101/block2/unit_2/bottleneck_v2/conv1/BatchNorm/moving_mean:0' shape=(128,) dtype=float32_ref>,\n",
       " <tf.Variable 'resnet_v2_101/block2/unit_2/bottleneck_v2/conv1/BatchNorm/moving_variance:0' shape=(128,) dtype=float32_ref>,\n",
       " <tf.Variable 'resnet_v2_101/block2/unit_2/bottleneck_v2/conv2/weights:0' shape=(3, 3, 128, 128) dtype=float32_ref>,\n",
       " <tf.Variable 'resnet_v2_101/block2/unit_2/bottleneck_v2/conv2/BatchNorm/beta:0' shape=(128,) dtype=float32_ref>,\n",
       " <tf.Variable 'resnet_v2_101/block2/unit_2/bottleneck_v2/conv2/BatchNorm/gamma:0' shape=(128,) dtype=float32_ref>,\n",
       " <tf.Variable 'resnet_v2_101/block2/unit_2/bottleneck_v2/conv2/BatchNorm/moving_mean:0' shape=(128,) dtype=float32_ref>,\n",
       " <tf.Variable 'resnet_v2_101/block2/unit_2/bottleneck_v2/conv2/BatchNorm/moving_variance:0' shape=(128,) dtype=float32_ref>,\n",
       " <tf.Variable 'resnet_v2_101/block2/unit_2/bottleneck_v2/conv3/weights:0' shape=(1, 1, 128, 512) dtype=float32_ref>,\n",
       " <tf.Variable 'resnet_v2_101/block2/unit_2/bottleneck_v2/conv3/biases:0' shape=(512,) dtype=float32_ref>,\n",
       " <tf.Variable 'resnet_v2_101/block2/unit_3/bottleneck_v2/preact/beta:0' shape=(512,) dtype=float32_ref>,\n",
       " <tf.Variable 'resnet_v2_101/block2/unit_3/bottleneck_v2/preact/gamma:0' shape=(512,) dtype=float32_ref>,\n",
       " <tf.Variable 'resnet_v2_101/block2/unit_3/bottleneck_v2/preact/moving_mean:0' shape=(512,) dtype=float32_ref>,\n",
       " <tf.Variable 'resnet_v2_101/block2/unit_3/bottleneck_v2/preact/moving_variance:0' shape=(512,) dtype=float32_ref>,\n",
       " <tf.Variable 'resnet_v2_101/block2/unit_3/bottleneck_v2/conv1/weights:0' shape=(1, 1, 512, 128) dtype=float32_ref>,\n",
       " <tf.Variable 'resnet_v2_101/block2/unit_3/bottleneck_v2/conv1/BatchNorm/beta:0' shape=(128,) dtype=float32_ref>,\n",
       " <tf.Variable 'resnet_v2_101/block2/unit_3/bottleneck_v2/conv1/BatchNorm/gamma:0' shape=(128,) dtype=float32_ref>,\n",
       " <tf.Variable 'resnet_v2_101/block2/unit_3/bottleneck_v2/conv1/BatchNorm/moving_mean:0' shape=(128,) dtype=float32_ref>,\n",
       " <tf.Variable 'resnet_v2_101/block2/unit_3/bottleneck_v2/conv1/BatchNorm/moving_variance:0' shape=(128,) dtype=float32_ref>,\n",
       " <tf.Variable 'resnet_v2_101/block2/unit_3/bottleneck_v2/conv2/weights:0' shape=(3, 3, 128, 128) dtype=float32_ref>,\n",
       " <tf.Variable 'resnet_v2_101/block2/unit_3/bottleneck_v2/conv2/BatchNorm/beta:0' shape=(128,) dtype=float32_ref>,\n",
       " <tf.Variable 'resnet_v2_101/block2/unit_3/bottleneck_v2/conv2/BatchNorm/gamma:0' shape=(128,) dtype=float32_ref>,\n",
       " <tf.Variable 'resnet_v2_101/block2/unit_3/bottleneck_v2/conv2/BatchNorm/moving_mean:0' shape=(128,) dtype=float32_ref>,\n",
       " <tf.Variable 'resnet_v2_101/block2/unit_3/bottleneck_v2/conv2/BatchNorm/moving_variance:0' shape=(128,) dtype=float32_ref>,\n",
       " <tf.Variable 'resnet_v2_101/block2/unit_3/bottleneck_v2/conv3/weights:0' shape=(1, 1, 128, 512) dtype=float32_ref>,\n",
       " <tf.Variable 'resnet_v2_101/block2/unit_3/bottleneck_v2/conv3/biases:0' shape=(512,) dtype=float32_ref>,\n",
       " <tf.Variable 'resnet_v2_101/block2/unit_4/bottleneck_v2/preact/beta:0' shape=(512,) dtype=float32_ref>,\n",
       " <tf.Variable 'resnet_v2_101/block2/unit_4/bottleneck_v2/preact/gamma:0' shape=(512,) dtype=float32_ref>,\n",
       " <tf.Variable 'resnet_v2_101/block2/unit_4/bottleneck_v2/preact/moving_mean:0' shape=(512,) dtype=float32_ref>,\n",
       " <tf.Variable 'resnet_v2_101/block2/unit_4/bottleneck_v2/preact/moving_variance:0' shape=(512,) dtype=float32_ref>,\n",
       " <tf.Variable 'resnet_v2_101/block2/unit_4/bottleneck_v2/conv1/weights:0' shape=(1, 1, 512, 128) dtype=float32_ref>,\n",
       " <tf.Variable 'resnet_v2_101/block2/unit_4/bottleneck_v2/conv1/BatchNorm/beta:0' shape=(128,) dtype=float32_ref>,\n",
       " <tf.Variable 'resnet_v2_101/block2/unit_4/bottleneck_v2/conv1/BatchNorm/gamma:0' shape=(128,) dtype=float32_ref>,\n",
       " <tf.Variable 'resnet_v2_101/block2/unit_4/bottleneck_v2/conv1/BatchNorm/moving_mean:0' shape=(128,) dtype=float32_ref>,\n",
       " <tf.Variable 'resnet_v2_101/block2/unit_4/bottleneck_v2/conv1/BatchNorm/moving_variance:0' shape=(128,) dtype=float32_ref>,\n",
       " <tf.Variable 'resnet_v2_101/block2/unit_4/bottleneck_v2/conv2/weights:0' shape=(3, 3, 128, 128) dtype=float32_ref>,\n",
       " <tf.Variable 'resnet_v2_101/block2/unit_4/bottleneck_v2/conv2/BatchNorm/beta:0' shape=(128,) dtype=float32_ref>,\n",
       " <tf.Variable 'resnet_v2_101/block2/unit_4/bottleneck_v2/conv2/BatchNorm/gamma:0' shape=(128,) dtype=float32_ref>,\n",
       " <tf.Variable 'resnet_v2_101/block2/unit_4/bottleneck_v2/conv2/BatchNorm/moving_mean:0' shape=(128,) dtype=float32_ref>,\n",
       " <tf.Variable 'resnet_v2_101/block2/unit_4/bottleneck_v2/conv2/BatchNorm/moving_variance:0' shape=(128,) dtype=float32_ref>,\n",
       " <tf.Variable 'resnet_v2_101/block2/unit_4/bottleneck_v2/conv3/weights:0' shape=(1, 1, 128, 512) dtype=float32_ref>,\n",
       " <tf.Variable 'resnet_v2_101/block2/unit_4/bottleneck_v2/conv3/biases:0' shape=(512,) dtype=float32_ref>,\n",
       " <tf.Variable 'resnet_v2_101/block3/unit_1/bottleneck_v2/preact/beta:0' shape=(512,) dtype=float32_ref>,\n",
       " <tf.Variable 'resnet_v2_101/block3/unit_1/bottleneck_v2/preact/gamma:0' shape=(512,) dtype=float32_ref>,\n",
       " <tf.Variable 'resnet_v2_101/block3/unit_1/bottleneck_v2/preact/moving_mean:0' shape=(512,) dtype=float32_ref>,\n",
       " <tf.Variable 'resnet_v2_101/block3/unit_1/bottleneck_v2/preact/moving_variance:0' shape=(512,) dtype=float32_ref>,\n",
       " <tf.Variable 'resnet_v2_101/block3/unit_1/bottleneck_v2/shortcut/weights:0' shape=(1, 1, 512, 1024) dtype=float32_ref>,\n",
       " <tf.Variable 'resnet_v2_101/block3/unit_1/bottleneck_v2/shortcut/biases:0' shape=(1024,) dtype=float32_ref>,\n",
       " <tf.Variable 'resnet_v2_101/block3/unit_1/bottleneck_v2/conv1/weights:0' shape=(1, 1, 512, 256) dtype=float32_ref>,\n",
       " <tf.Variable 'resnet_v2_101/block3/unit_1/bottleneck_v2/conv1/BatchNorm/beta:0' shape=(256,) dtype=float32_ref>,\n",
       " <tf.Variable 'resnet_v2_101/block3/unit_1/bottleneck_v2/conv1/BatchNorm/gamma:0' shape=(256,) dtype=float32_ref>,\n",
       " <tf.Variable 'resnet_v2_101/block3/unit_1/bottleneck_v2/conv1/BatchNorm/moving_mean:0' shape=(256,) dtype=float32_ref>,\n",
       " <tf.Variable 'resnet_v2_101/block3/unit_1/bottleneck_v2/conv1/BatchNorm/moving_variance:0' shape=(256,) dtype=float32_ref>,\n",
       " <tf.Variable 'resnet_v2_101/block3/unit_1/bottleneck_v2/conv2/weights:0' shape=(3, 3, 256, 256) dtype=float32_ref>,\n",
       " <tf.Variable 'resnet_v2_101/block3/unit_1/bottleneck_v2/conv2/BatchNorm/beta:0' shape=(256,) dtype=float32_ref>,\n",
       " <tf.Variable 'resnet_v2_101/block3/unit_1/bottleneck_v2/conv2/BatchNorm/gamma:0' shape=(256,) dtype=float32_ref>,\n",
       " <tf.Variable 'resnet_v2_101/block3/unit_1/bottleneck_v2/conv2/BatchNorm/moving_mean:0' shape=(256,) dtype=float32_ref>,\n",
       " <tf.Variable 'resnet_v2_101/block3/unit_1/bottleneck_v2/conv2/BatchNorm/moving_variance:0' shape=(256,) dtype=float32_ref>,\n",
       " <tf.Variable 'resnet_v2_101/block3/unit_1/bottleneck_v2/conv3/weights:0' shape=(1, 1, 256, 1024) dtype=float32_ref>,\n",
       " <tf.Variable 'resnet_v2_101/block3/unit_1/bottleneck_v2/conv3/biases:0' shape=(1024,) dtype=float32_ref>,\n",
       " <tf.Variable 'resnet_v2_101/block3/unit_2/bottleneck_v2/preact/beta:0' shape=(1024,) dtype=float32_ref>,\n",
       " <tf.Variable 'resnet_v2_101/block3/unit_2/bottleneck_v2/preact/gamma:0' shape=(1024,) dtype=float32_ref>,\n",
       " <tf.Variable 'resnet_v2_101/block3/unit_2/bottleneck_v2/preact/moving_mean:0' shape=(1024,) dtype=float32_ref>,\n",
       " <tf.Variable 'resnet_v2_101/block3/unit_2/bottleneck_v2/preact/moving_variance:0' shape=(1024,) dtype=float32_ref>,\n",
       " <tf.Variable 'resnet_v2_101/block3/unit_2/bottleneck_v2/conv1/weights:0' shape=(1, 1, 1024, 256) dtype=float32_ref>,\n",
       " <tf.Variable 'resnet_v2_101/block3/unit_2/bottleneck_v2/conv1/BatchNorm/beta:0' shape=(256,) dtype=float32_ref>,\n",
       " <tf.Variable 'resnet_v2_101/block3/unit_2/bottleneck_v2/conv1/BatchNorm/gamma:0' shape=(256,) dtype=float32_ref>,\n",
       " <tf.Variable 'resnet_v2_101/block3/unit_2/bottleneck_v2/conv1/BatchNorm/moving_mean:0' shape=(256,) dtype=float32_ref>,\n",
       " <tf.Variable 'resnet_v2_101/block3/unit_2/bottleneck_v2/conv1/BatchNorm/moving_variance:0' shape=(256,) dtype=float32_ref>,\n",
       " <tf.Variable 'resnet_v2_101/block3/unit_2/bottleneck_v2/conv2/weights:0' shape=(3, 3, 256, 256) dtype=float32_ref>,\n",
       " <tf.Variable 'resnet_v2_101/block3/unit_2/bottleneck_v2/conv2/BatchNorm/beta:0' shape=(256,) dtype=float32_ref>,\n",
       " <tf.Variable 'resnet_v2_101/block3/unit_2/bottleneck_v2/conv2/BatchNorm/gamma:0' shape=(256,) dtype=float32_ref>,\n",
       " <tf.Variable 'resnet_v2_101/block3/unit_2/bottleneck_v2/conv2/BatchNorm/moving_mean:0' shape=(256,) dtype=float32_ref>,\n",
       " <tf.Variable 'resnet_v2_101/block3/unit_2/bottleneck_v2/conv2/BatchNorm/moving_variance:0' shape=(256,) dtype=float32_ref>,\n",
       " <tf.Variable 'resnet_v2_101/block3/unit_2/bottleneck_v2/conv3/weights:0' shape=(1, 1, 256, 1024) dtype=float32_ref>,\n",
       " <tf.Variable 'resnet_v2_101/block3/unit_2/bottleneck_v2/conv3/biases:0' shape=(1024,) dtype=float32_ref>,\n",
       " <tf.Variable 'resnet_v2_101/block3/unit_3/bottleneck_v2/preact/beta:0' shape=(1024,) dtype=float32_ref>,\n",
       " <tf.Variable 'resnet_v2_101/block3/unit_3/bottleneck_v2/preact/gamma:0' shape=(1024,) dtype=float32_ref>,\n",
       " <tf.Variable 'resnet_v2_101/block3/unit_3/bottleneck_v2/preact/moving_mean:0' shape=(1024,) dtype=float32_ref>,\n",
       " <tf.Variable 'resnet_v2_101/block3/unit_3/bottleneck_v2/preact/moving_variance:0' shape=(1024,) dtype=float32_ref>,\n",
       " <tf.Variable 'resnet_v2_101/block3/unit_3/bottleneck_v2/conv1/weights:0' shape=(1, 1, 1024, 256) dtype=float32_ref>,\n",
       " <tf.Variable 'resnet_v2_101/block3/unit_3/bottleneck_v2/conv1/BatchNorm/beta:0' shape=(256,) dtype=float32_ref>,\n",
       " <tf.Variable 'resnet_v2_101/block3/unit_3/bottleneck_v2/conv1/BatchNorm/gamma:0' shape=(256,) dtype=float32_ref>,\n",
       " <tf.Variable 'resnet_v2_101/block3/unit_3/bottleneck_v2/conv1/BatchNorm/moving_mean:0' shape=(256,) dtype=float32_ref>,\n",
       " <tf.Variable 'resnet_v2_101/block3/unit_3/bottleneck_v2/conv1/BatchNorm/moving_variance:0' shape=(256,) dtype=float32_ref>,\n",
       " <tf.Variable 'resnet_v2_101/block3/unit_3/bottleneck_v2/conv2/weights:0' shape=(3, 3, 256, 256) dtype=float32_ref>,\n",
       " <tf.Variable 'resnet_v2_101/block3/unit_3/bottleneck_v2/conv2/BatchNorm/beta:0' shape=(256,) dtype=float32_ref>,\n",
       " <tf.Variable 'resnet_v2_101/block3/unit_3/bottleneck_v2/conv2/BatchNorm/gamma:0' shape=(256,) dtype=float32_ref>,\n",
       " <tf.Variable 'resnet_v2_101/block3/unit_3/bottleneck_v2/conv2/BatchNorm/moving_mean:0' shape=(256,) dtype=float32_ref>,\n",
       " <tf.Variable 'resnet_v2_101/block3/unit_3/bottleneck_v2/conv2/BatchNorm/moving_variance:0' shape=(256,) dtype=float32_ref>,\n",
       " <tf.Variable 'resnet_v2_101/block3/unit_3/bottleneck_v2/conv3/weights:0' shape=(1, 1, 256, 1024) dtype=float32_ref>,\n",
       " <tf.Variable 'resnet_v2_101/block3/unit_3/bottleneck_v2/conv3/biases:0' shape=(1024,) dtype=float32_ref>,\n",
       " <tf.Variable 'resnet_v2_101/block3/unit_4/bottleneck_v2/preact/beta:0' shape=(1024,) dtype=float32_ref>,\n",
       " <tf.Variable 'resnet_v2_101/block3/unit_4/bottleneck_v2/preact/gamma:0' shape=(1024,) dtype=float32_ref>,\n",
       " <tf.Variable 'resnet_v2_101/block3/unit_4/bottleneck_v2/preact/moving_mean:0' shape=(1024,) dtype=float32_ref>,\n",
       " <tf.Variable 'resnet_v2_101/block3/unit_4/bottleneck_v2/preact/moving_variance:0' shape=(1024,) dtype=float32_ref>,\n",
       " <tf.Variable 'resnet_v2_101/block3/unit_4/bottleneck_v2/conv1/weights:0' shape=(1, 1, 1024, 256) dtype=float32_ref>,\n",
       " <tf.Variable 'resnet_v2_101/block3/unit_4/bottleneck_v2/conv1/BatchNorm/beta:0' shape=(256,) dtype=float32_ref>,\n",
       " <tf.Variable 'resnet_v2_101/block3/unit_4/bottleneck_v2/conv1/BatchNorm/gamma:0' shape=(256,) dtype=float32_ref>,\n",
       " <tf.Variable 'resnet_v2_101/block3/unit_4/bottleneck_v2/conv1/BatchNorm/moving_mean:0' shape=(256,) dtype=float32_ref>,\n",
       " <tf.Variable 'resnet_v2_101/block3/unit_4/bottleneck_v2/conv1/BatchNorm/moving_variance:0' shape=(256,) dtype=float32_ref>,\n",
       " <tf.Variable 'resnet_v2_101/block3/unit_4/bottleneck_v2/conv2/weights:0' shape=(3, 3, 256, 256) dtype=float32_ref>,\n",
       " <tf.Variable 'resnet_v2_101/block3/unit_4/bottleneck_v2/conv2/BatchNorm/beta:0' shape=(256,) dtype=float32_ref>,\n",
       " <tf.Variable 'resnet_v2_101/block3/unit_4/bottleneck_v2/conv2/BatchNorm/gamma:0' shape=(256,) dtype=float32_ref>,\n",
       " <tf.Variable 'resnet_v2_101/block3/unit_4/bottleneck_v2/conv2/BatchNorm/moving_mean:0' shape=(256,) dtype=float32_ref>,\n",
       " <tf.Variable 'resnet_v2_101/block3/unit_4/bottleneck_v2/conv2/BatchNorm/moving_variance:0' shape=(256,) dtype=float32_ref>,\n",
       " <tf.Variable 'resnet_v2_101/block3/unit_4/bottleneck_v2/conv3/weights:0' shape=(1, 1, 256, 1024) dtype=float32_ref>,\n",
       " <tf.Variable 'resnet_v2_101/block3/unit_4/bottleneck_v2/conv3/biases:0' shape=(1024,) dtype=float32_ref>,\n",
       " <tf.Variable 'resnet_v2_101/block3/unit_5/bottleneck_v2/preact/beta:0' shape=(1024,) dtype=float32_ref>,\n",
       " <tf.Variable 'resnet_v2_101/block3/unit_5/bottleneck_v2/preact/gamma:0' shape=(1024,) dtype=float32_ref>,\n",
       " <tf.Variable 'resnet_v2_101/block3/unit_5/bottleneck_v2/preact/moving_mean:0' shape=(1024,) dtype=float32_ref>,\n",
       " <tf.Variable 'resnet_v2_101/block3/unit_5/bottleneck_v2/preact/moving_variance:0' shape=(1024,) dtype=float32_ref>,\n",
       " <tf.Variable 'resnet_v2_101/block3/unit_5/bottleneck_v2/conv1/weights:0' shape=(1, 1, 1024, 256) dtype=float32_ref>,\n",
       " <tf.Variable 'resnet_v2_101/block3/unit_5/bottleneck_v2/conv1/BatchNorm/beta:0' shape=(256,) dtype=float32_ref>,\n",
       " <tf.Variable 'resnet_v2_101/block3/unit_5/bottleneck_v2/conv1/BatchNorm/gamma:0' shape=(256,) dtype=float32_ref>,\n",
       " <tf.Variable 'resnet_v2_101/block3/unit_5/bottleneck_v2/conv1/BatchNorm/moving_mean:0' shape=(256,) dtype=float32_ref>,\n",
       " <tf.Variable 'resnet_v2_101/block3/unit_5/bottleneck_v2/conv1/BatchNorm/moving_variance:0' shape=(256,) dtype=float32_ref>,\n",
       " <tf.Variable 'resnet_v2_101/block3/unit_5/bottleneck_v2/conv2/weights:0' shape=(3, 3, 256, 256) dtype=float32_ref>,\n",
       " <tf.Variable 'resnet_v2_101/block3/unit_5/bottleneck_v2/conv2/BatchNorm/beta:0' shape=(256,) dtype=float32_ref>,\n",
       " <tf.Variable 'resnet_v2_101/block3/unit_5/bottleneck_v2/conv2/BatchNorm/gamma:0' shape=(256,) dtype=float32_ref>,\n",
       " <tf.Variable 'resnet_v2_101/block3/unit_5/bottleneck_v2/conv2/BatchNorm/moving_mean:0' shape=(256,) dtype=float32_ref>,\n",
       " <tf.Variable 'resnet_v2_101/block3/unit_5/bottleneck_v2/conv2/BatchNorm/moving_variance:0' shape=(256,) dtype=float32_ref>,\n",
       " <tf.Variable 'resnet_v2_101/block3/unit_5/bottleneck_v2/conv3/weights:0' shape=(1, 1, 256, 1024) dtype=float32_ref>,\n",
       " <tf.Variable 'resnet_v2_101/block3/unit_5/bottleneck_v2/conv3/biases:0' shape=(1024,) dtype=float32_ref>,\n",
       " <tf.Variable 'resnet_v2_101/block3/unit_6/bottleneck_v2/preact/beta:0' shape=(1024,) dtype=float32_ref>,\n",
       " <tf.Variable 'resnet_v2_101/block3/unit_6/bottleneck_v2/preact/gamma:0' shape=(1024,) dtype=float32_ref>,\n",
       " <tf.Variable 'resnet_v2_101/block3/unit_6/bottleneck_v2/preact/moving_mean:0' shape=(1024,) dtype=float32_ref>,\n",
       " <tf.Variable 'resnet_v2_101/block3/unit_6/bottleneck_v2/preact/moving_variance:0' shape=(1024,) dtype=float32_ref>,\n",
       " <tf.Variable 'resnet_v2_101/block3/unit_6/bottleneck_v2/conv1/weights:0' shape=(1, 1, 1024, 256) dtype=float32_ref>,\n",
       " <tf.Variable 'resnet_v2_101/block3/unit_6/bottleneck_v2/conv1/BatchNorm/beta:0' shape=(256,) dtype=float32_ref>,\n",
       " <tf.Variable 'resnet_v2_101/block3/unit_6/bottleneck_v2/conv1/BatchNorm/gamma:0' shape=(256,) dtype=float32_ref>,\n",
       " <tf.Variable 'resnet_v2_101/block3/unit_6/bottleneck_v2/conv1/BatchNorm/moving_mean:0' shape=(256,) dtype=float32_ref>,\n",
       " <tf.Variable 'resnet_v2_101/block3/unit_6/bottleneck_v2/conv1/BatchNorm/moving_variance:0' shape=(256,) dtype=float32_ref>,\n",
       " <tf.Variable 'resnet_v2_101/block3/unit_6/bottleneck_v2/conv2/weights:0' shape=(3, 3, 256, 256) dtype=float32_ref>,\n",
       " <tf.Variable 'resnet_v2_101/block3/unit_6/bottleneck_v2/conv2/BatchNorm/beta:0' shape=(256,) dtype=float32_ref>,\n",
       " <tf.Variable 'resnet_v2_101/block3/unit_6/bottleneck_v2/conv2/BatchNorm/gamma:0' shape=(256,) dtype=float32_ref>,\n",
       " <tf.Variable 'resnet_v2_101/block3/unit_6/bottleneck_v2/conv2/BatchNorm/moving_mean:0' shape=(256,) dtype=float32_ref>,\n",
       " <tf.Variable 'resnet_v2_101/block3/unit_6/bottleneck_v2/conv2/BatchNorm/moving_variance:0' shape=(256,) dtype=float32_ref>,\n",
       " <tf.Variable 'resnet_v2_101/block3/unit_6/bottleneck_v2/conv3/weights:0' shape=(1, 1, 256, 1024) dtype=float32_ref>,\n",
       " <tf.Variable 'resnet_v2_101/block3/unit_6/bottleneck_v2/conv3/biases:0' shape=(1024,) dtype=float32_ref>,\n",
       " <tf.Variable 'resnet_v2_101/block3/unit_7/bottleneck_v2/preact/beta:0' shape=(1024,) dtype=float32_ref>,\n",
       " <tf.Variable 'resnet_v2_101/block3/unit_7/bottleneck_v2/preact/gamma:0' shape=(1024,) dtype=float32_ref>,\n",
       " <tf.Variable 'resnet_v2_101/block3/unit_7/bottleneck_v2/preact/moving_mean:0' shape=(1024,) dtype=float32_ref>,\n",
       " <tf.Variable 'resnet_v2_101/block3/unit_7/bottleneck_v2/preact/moving_variance:0' shape=(1024,) dtype=float32_ref>,\n",
       " <tf.Variable 'resnet_v2_101/block3/unit_7/bottleneck_v2/conv1/weights:0' shape=(1, 1, 1024, 256) dtype=float32_ref>,\n",
       " <tf.Variable 'resnet_v2_101/block3/unit_7/bottleneck_v2/conv1/BatchNorm/beta:0' shape=(256,) dtype=float32_ref>,\n",
       " <tf.Variable 'resnet_v2_101/block3/unit_7/bottleneck_v2/conv1/BatchNorm/gamma:0' shape=(256,) dtype=float32_ref>,\n",
       " <tf.Variable 'resnet_v2_101/block3/unit_7/bottleneck_v2/conv1/BatchNorm/moving_mean:0' shape=(256,) dtype=float32_ref>,\n",
       " <tf.Variable 'resnet_v2_101/block3/unit_7/bottleneck_v2/conv1/BatchNorm/moving_variance:0' shape=(256,) dtype=float32_ref>,\n",
       " <tf.Variable 'resnet_v2_101/block3/unit_7/bottleneck_v2/conv2/weights:0' shape=(3, 3, 256, 256) dtype=float32_ref>,\n",
       " <tf.Variable 'resnet_v2_101/block3/unit_7/bottleneck_v2/conv2/BatchNorm/beta:0' shape=(256,) dtype=float32_ref>,\n",
       " <tf.Variable 'resnet_v2_101/block3/unit_7/bottleneck_v2/conv2/BatchNorm/gamma:0' shape=(256,) dtype=float32_ref>,\n",
       " <tf.Variable 'resnet_v2_101/block3/unit_7/bottleneck_v2/conv2/BatchNorm/moving_mean:0' shape=(256,) dtype=float32_ref>,\n",
       " <tf.Variable 'resnet_v2_101/block3/unit_7/bottleneck_v2/conv2/BatchNorm/moving_variance:0' shape=(256,) dtype=float32_ref>,\n",
       " <tf.Variable 'resnet_v2_101/block3/unit_7/bottleneck_v2/conv3/weights:0' shape=(1, 1, 256, 1024) dtype=float32_ref>,\n",
       " <tf.Variable 'resnet_v2_101/block3/unit_7/bottleneck_v2/conv3/biases:0' shape=(1024,) dtype=float32_ref>,\n",
       " <tf.Variable 'resnet_v2_101/block3/unit_8/bottleneck_v2/preact/beta:0' shape=(1024,) dtype=float32_ref>,\n",
       " <tf.Variable 'resnet_v2_101/block3/unit_8/bottleneck_v2/preact/gamma:0' shape=(1024,) dtype=float32_ref>,\n",
       " <tf.Variable 'resnet_v2_101/block3/unit_8/bottleneck_v2/preact/moving_mean:0' shape=(1024,) dtype=float32_ref>,\n",
       " <tf.Variable 'resnet_v2_101/block3/unit_8/bottleneck_v2/preact/moving_variance:0' shape=(1024,) dtype=float32_ref>,\n",
       " <tf.Variable 'resnet_v2_101/block3/unit_8/bottleneck_v2/conv1/weights:0' shape=(1, 1, 1024, 256) dtype=float32_ref>,\n",
       " <tf.Variable 'resnet_v2_101/block3/unit_8/bottleneck_v2/conv1/BatchNorm/beta:0' shape=(256,) dtype=float32_ref>,\n",
       " <tf.Variable 'resnet_v2_101/block3/unit_8/bottleneck_v2/conv1/BatchNorm/gamma:0' shape=(256,) dtype=float32_ref>,\n",
       " <tf.Variable 'resnet_v2_101/block3/unit_8/bottleneck_v2/conv1/BatchNorm/moving_mean:0' shape=(256,) dtype=float32_ref>,\n",
       " <tf.Variable 'resnet_v2_101/block3/unit_8/bottleneck_v2/conv1/BatchNorm/moving_variance:0' shape=(256,) dtype=float32_ref>,\n",
       " <tf.Variable 'resnet_v2_101/block3/unit_8/bottleneck_v2/conv2/weights:0' shape=(3, 3, 256, 256) dtype=float32_ref>,\n",
       " <tf.Variable 'resnet_v2_101/block3/unit_8/bottleneck_v2/conv2/BatchNorm/beta:0' shape=(256,) dtype=float32_ref>,\n",
       " <tf.Variable 'resnet_v2_101/block3/unit_8/bottleneck_v2/conv2/BatchNorm/gamma:0' shape=(256,) dtype=float32_ref>,\n",
       " <tf.Variable 'resnet_v2_101/block3/unit_8/bottleneck_v2/conv2/BatchNorm/moving_mean:0' shape=(256,) dtype=float32_ref>,\n",
       " <tf.Variable 'resnet_v2_101/block3/unit_8/bottleneck_v2/conv2/BatchNorm/moving_variance:0' shape=(256,) dtype=float32_ref>,\n",
       " <tf.Variable 'resnet_v2_101/block3/unit_8/bottleneck_v2/conv3/weights:0' shape=(1, 1, 256, 1024) dtype=float32_ref>,\n",
       " <tf.Variable 'resnet_v2_101/block3/unit_8/bottleneck_v2/conv3/biases:0' shape=(1024,) dtype=float32_ref>,\n",
       " <tf.Variable 'resnet_v2_101/block3/unit_9/bottleneck_v2/preact/beta:0' shape=(1024,) dtype=float32_ref>,\n",
       " <tf.Variable 'resnet_v2_101/block3/unit_9/bottleneck_v2/preact/gamma:0' shape=(1024,) dtype=float32_ref>,\n",
       " <tf.Variable 'resnet_v2_101/block3/unit_9/bottleneck_v2/preact/moving_mean:0' shape=(1024,) dtype=float32_ref>,\n",
       " <tf.Variable 'resnet_v2_101/block3/unit_9/bottleneck_v2/preact/moving_variance:0' shape=(1024,) dtype=float32_ref>,\n",
       " <tf.Variable 'resnet_v2_101/block3/unit_9/bottleneck_v2/conv1/weights:0' shape=(1, 1, 1024, 256) dtype=float32_ref>,\n",
       " <tf.Variable 'resnet_v2_101/block3/unit_9/bottleneck_v2/conv1/BatchNorm/beta:0' shape=(256,) dtype=float32_ref>,\n",
       " <tf.Variable 'resnet_v2_101/block3/unit_9/bottleneck_v2/conv1/BatchNorm/gamma:0' shape=(256,) dtype=float32_ref>,\n",
       " <tf.Variable 'resnet_v2_101/block3/unit_9/bottleneck_v2/conv1/BatchNorm/moving_mean:0' shape=(256,) dtype=float32_ref>,\n",
       " <tf.Variable 'resnet_v2_101/block3/unit_9/bottleneck_v2/conv1/BatchNorm/moving_variance:0' shape=(256,) dtype=float32_ref>,\n",
       " <tf.Variable 'resnet_v2_101/block3/unit_9/bottleneck_v2/conv2/weights:0' shape=(3, 3, 256, 256) dtype=float32_ref>,\n",
       " <tf.Variable 'resnet_v2_101/block3/unit_9/bottleneck_v2/conv2/BatchNorm/beta:0' shape=(256,) dtype=float32_ref>,\n",
       " <tf.Variable 'resnet_v2_101/block3/unit_9/bottleneck_v2/conv2/BatchNorm/gamma:0' shape=(256,) dtype=float32_ref>,\n",
       " <tf.Variable 'resnet_v2_101/block3/unit_9/bottleneck_v2/conv2/BatchNorm/moving_mean:0' shape=(256,) dtype=float32_ref>,\n",
       " <tf.Variable 'resnet_v2_101/block3/unit_9/bottleneck_v2/conv2/BatchNorm/moving_variance:0' shape=(256,) dtype=float32_ref>,\n",
       " <tf.Variable 'resnet_v2_101/block3/unit_9/bottleneck_v2/conv3/weights:0' shape=(1, 1, 256, 1024) dtype=float32_ref>,\n",
       " <tf.Variable 'resnet_v2_101/block3/unit_9/bottleneck_v2/conv3/biases:0' shape=(1024,) dtype=float32_ref>,\n",
       " <tf.Variable 'resnet_v2_101/block3/unit_10/bottleneck_v2/preact/beta:0' shape=(1024,) dtype=float32_ref>,\n",
       " <tf.Variable 'resnet_v2_101/block3/unit_10/bottleneck_v2/preact/gamma:0' shape=(1024,) dtype=float32_ref>,\n",
       " <tf.Variable 'resnet_v2_101/block3/unit_10/bottleneck_v2/preact/moving_mean:0' shape=(1024,) dtype=float32_ref>,\n",
       " <tf.Variable 'resnet_v2_101/block3/unit_10/bottleneck_v2/preact/moving_variance:0' shape=(1024,) dtype=float32_ref>,\n",
       " <tf.Variable 'resnet_v2_101/block3/unit_10/bottleneck_v2/conv1/weights:0' shape=(1, 1, 1024, 256) dtype=float32_ref>,\n",
       " <tf.Variable 'resnet_v2_101/block3/unit_10/bottleneck_v2/conv1/BatchNorm/beta:0' shape=(256,) dtype=float32_ref>,\n",
       " <tf.Variable 'resnet_v2_101/block3/unit_10/bottleneck_v2/conv1/BatchNorm/gamma:0' shape=(256,) dtype=float32_ref>,\n",
       " <tf.Variable 'resnet_v2_101/block3/unit_10/bottleneck_v2/conv1/BatchNorm/moving_mean:0' shape=(256,) dtype=float32_ref>,\n",
       " <tf.Variable 'resnet_v2_101/block3/unit_10/bottleneck_v2/conv1/BatchNorm/moving_variance:0' shape=(256,) dtype=float32_ref>,\n",
       " <tf.Variable 'resnet_v2_101/block3/unit_10/bottleneck_v2/conv2/weights:0' shape=(3, 3, 256, 256) dtype=float32_ref>,\n",
       " <tf.Variable 'resnet_v2_101/block3/unit_10/bottleneck_v2/conv2/BatchNorm/beta:0' shape=(256,) dtype=float32_ref>,\n",
       " <tf.Variable 'resnet_v2_101/block3/unit_10/bottleneck_v2/conv2/BatchNorm/gamma:0' shape=(256,) dtype=float32_ref>,\n",
       " <tf.Variable 'resnet_v2_101/block3/unit_10/bottleneck_v2/conv2/BatchNorm/moving_mean:0' shape=(256,) dtype=float32_ref>,\n",
       " <tf.Variable 'resnet_v2_101/block3/unit_10/bottleneck_v2/conv2/BatchNorm/moving_variance:0' shape=(256,) dtype=float32_ref>,\n",
       " <tf.Variable 'resnet_v2_101/block3/unit_10/bottleneck_v2/conv3/weights:0' shape=(1, 1, 256, 1024) dtype=float32_ref>,\n",
       " <tf.Variable 'resnet_v2_101/block3/unit_10/bottleneck_v2/conv3/biases:0' shape=(1024,) dtype=float32_ref>,\n",
       " <tf.Variable 'resnet_v2_101/block3/unit_11/bottleneck_v2/preact/beta:0' shape=(1024,) dtype=float32_ref>,\n",
       " <tf.Variable 'resnet_v2_101/block3/unit_11/bottleneck_v2/preact/gamma:0' shape=(1024,) dtype=float32_ref>,\n",
       " <tf.Variable 'resnet_v2_101/block3/unit_11/bottleneck_v2/preact/moving_mean:0' shape=(1024,) dtype=float32_ref>,\n",
       " <tf.Variable 'resnet_v2_101/block3/unit_11/bottleneck_v2/preact/moving_variance:0' shape=(1024,) dtype=float32_ref>,\n",
       " <tf.Variable 'resnet_v2_101/block3/unit_11/bottleneck_v2/conv1/weights:0' shape=(1, 1, 1024, 256) dtype=float32_ref>,\n",
       " <tf.Variable 'resnet_v2_101/block3/unit_11/bottleneck_v2/conv1/BatchNorm/beta:0' shape=(256,) dtype=float32_ref>,\n",
       " <tf.Variable 'resnet_v2_101/block3/unit_11/bottleneck_v2/conv1/BatchNorm/gamma:0' shape=(256,) dtype=float32_ref>,\n",
       " <tf.Variable 'resnet_v2_101/block3/unit_11/bottleneck_v2/conv1/BatchNorm/moving_mean:0' shape=(256,) dtype=float32_ref>,\n",
       " <tf.Variable 'resnet_v2_101/block3/unit_11/bottleneck_v2/conv1/BatchNorm/moving_variance:0' shape=(256,) dtype=float32_ref>,\n",
       " <tf.Variable 'resnet_v2_101/block3/unit_11/bottleneck_v2/conv2/weights:0' shape=(3, 3, 256, 256) dtype=float32_ref>,\n",
       " <tf.Variable 'resnet_v2_101/block3/unit_11/bottleneck_v2/conv2/BatchNorm/beta:0' shape=(256,) dtype=float32_ref>,\n",
       " <tf.Variable 'resnet_v2_101/block3/unit_11/bottleneck_v2/conv2/BatchNorm/gamma:0' shape=(256,) dtype=float32_ref>,\n",
       " <tf.Variable 'resnet_v2_101/block3/unit_11/bottleneck_v2/conv2/BatchNorm/moving_mean:0' shape=(256,) dtype=float32_ref>,\n",
       " <tf.Variable 'resnet_v2_101/block3/unit_11/bottleneck_v2/conv2/BatchNorm/moving_variance:0' shape=(256,) dtype=float32_ref>,\n",
       " <tf.Variable 'resnet_v2_101/block3/unit_11/bottleneck_v2/conv3/weights:0' shape=(1, 1, 256, 1024) dtype=float32_ref>,\n",
       " <tf.Variable 'resnet_v2_101/block3/unit_11/bottleneck_v2/conv3/biases:0' shape=(1024,) dtype=float32_ref>,\n",
       " <tf.Variable 'resnet_v2_101/block3/unit_12/bottleneck_v2/preact/beta:0' shape=(1024,) dtype=float32_ref>,\n",
       " <tf.Variable 'resnet_v2_101/block3/unit_12/bottleneck_v2/preact/gamma:0' shape=(1024,) dtype=float32_ref>,\n",
       " <tf.Variable 'resnet_v2_101/block3/unit_12/bottleneck_v2/preact/moving_mean:0' shape=(1024,) dtype=float32_ref>,\n",
       " <tf.Variable 'resnet_v2_101/block3/unit_12/bottleneck_v2/preact/moving_variance:0' shape=(1024,) dtype=float32_ref>,\n",
       " <tf.Variable 'resnet_v2_101/block3/unit_12/bottleneck_v2/conv1/weights:0' shape=(1, 1, 1024, 256) dtype=float32_ref>,\n",
       " <tf.Variable 'resnet_v2_101/block3/unit_12/bottleneck_v2/conv1/BatchNorm/beta:0' shape=(256,) dtype=float32_ref>,\n",
       " <tf.Variable 'resnet_v2_101/block3/unit_12/bottleneck_v2/conv1/BatchNorm/gamma:0' shape=(256,) dtype=float32_ref>,\n",
       " <tf.Variable 'resnet_v2_101/block3/unit_12/bottleneck_v2/conv1/BatchNorm/moving_mean:0' shape=(256,) dtype=float32_ref>,\n",
       " <tf.Variable 'resnet_v2_101/block3/unit_12/bottleneck_v2/conv1/BatchNorm/moving_variance:0' shape=(256,) dtype=float32_ref>,\n",
       " <tf.Variable 'resnet_v2_101/block3/unit_12/bottleneck_v2/conv2/weights:0' shape=(3, 3, 256, 256) dtype=float32_ref>,\n",
       " <tf.Variable 'resnet_v2_101/block3/unit_12/bottleneck_v2/conv2/BatchNorm/beta:0' shape=(256,) dtype=float32_ref>,\n",
       " <tf.Variable 'resnet_v2_101/block3/unit_12/bottleneck_v2/conv2/BatchNorm/gamma:0' shape=(256,) dtype=float32_ref>,\n",
       " <tf.Variable 'resnet_v2_101/block3/unit_12/bottleneck_v2/conv2/BatchNorm/moving_mean:0' shape=(256,) dtype=float32_ref>,\n",
       " <tf.Variable 'resnet_v2_101/block3/unit_12/bottleneck_v2/conv2/BatchNorm/moving_variance:0' shape=(256,) dtype=float32_ref>,\n",
       " <tf.Variable 'resnet_v2_101/block3/unit_12/bottleneck_v2/conv3/weights:0' shape=(1, 1, 256, 1024) dtype=float32_ref>,\n",
       " <tf.Variable 'resnet_v2_101/block3/unit_12/bottleneck_v2/conv3/biases:0' shape=(1024,) dtype=float32_ref>,\n",
       " <tf.Variable 'resnet_v2_101/block3/unit_13/bottleneck_v2/preact/beta:0' shape=(1024,) dtype=float32_ref>,\n",
       " <tf.Variable 'resnet_v2_101/block3/unit_13/bottleneck_v2/preact/gamma:0' shape=(1024,) dtype=float32_ref>,\n",
       " <tf.Variable 'resnet_v2_101/block3/unit_13/bottleneck_v2/preact/moving_mean:0' shape=(1024,) dtype=float32_ref>,\n",
       " <tf.Variable 'resnet_v2_101/block3/unit_13/bottleneck_v2/preact/moving_variance:0' shape=(1024,) dtype=float32_ref>,\n",
       " <tf.Variable 'resnet_v2_101/block3/unit_13/bottleneck_v2/conv1/weights:0' shape=(1, 1, 1024, 256) dtype=float32_ref>,\n",
       " <tf.Variable 'resnet_v2_101/block3/unit_13/bottleneck_v2/conv1/BatchNorm/beta:0' shape=(256,) dtype=float32_ref>,\n",
       " <tf.Variable 'resnet_v2_101/block3/unit_13/bottleneck_v2/conv1/BatchNorm/gamma:0' shape=(256,) dtype=float32_ref>,\n",
       " <tf.Variable 'resnet_v2_101/block3/unit_13/bottleneck_v2/conv1/BatchNorm/moving_mean:0' shape=(256,) dtype=float32_ref>,\n",
       " <tf.Variable 'resnet_v2_101/block3/unit_13/bottleneck_v2/conv1/BatchNorm/moving_variance:0' shape=(256,) dtype=float32_ref>,\n",
       " <tf.Variable 'resnet_v2_101/block3/unit_13/bottleneck_v2/conv2/weights:0' shape=(3, 3, 256, 256) dtype=float32_ref>,\n",
       " <tf.Variable 'resnet_v2_101/block3/unit_13/bottleneck_v2/conv2/BatchNorm/beta:0' shape=(256,) dtype=float32_ref>,\n",
       " <tf.Variable 'resnet_v2_101/block3/unit_13/bottleneck_v2/conv2/BatchNorm/gamma:0' shape=(256,) dtype=float32_ref>,\n",
       " <tf.Variable 'resnet_v2_101/block3/unit_13/bottleneck_v2/conv2/BatchNorm/moving_mean:0' shape=(256,) dtype=float32_ref>,\n",
       " <tf.Variable 'resnet_v2_101/block3/unit_13/bottleneck_v2/conv2/BatchNorm/moving_variance:0' shape=(256,) dtype=float32_ref>,\n",
       " <tf.Variable 'resnet_v2_101/block3/unit_13/bottleneck_v2/conv3/weights:0' shape=(1, 1, 256, 1024) dtype=float32_ref>,\n",
       " <tf.Variable 'resnet_v2_101/block3/unit_13/bottleneck_v2/conv3/biases:0' shape=(1024,) dtype=float32_ref>,\n",
       " <tf.Variable 'resnet_v2_101/block3/unit_14/bottleneck_v2/preact/beta:0' shape=(1024,) dtype=float32_ref>,\n",
       " <tf.Variable 'resnet_v2_101/block3/unit_14/bottleneck_v2/preact/gamma:0' shape=(1024,) dtype=float32_ref>,\n",
       " <tf.Variable 'resnet_v2_101/block3/unit_14/bottleneck_v2/preact/moving_mean:0' shape=(1024,) dtype=float32_ref>,\n",
       " <tf.Variable 'resnet_v2_101/block3/unit_14/bottleneck_v2/preact/moving_variance:0' shape=(1024,) dtype=float32_ref>,\n",
       " <tf.Variable 'resnet_v2_101/block3/unit_14/bottleneck_v2/conv1/weights:0' shape=(1, 1, 1024, 256) dtype=float32_ref>,\n",
       " <tf.Variable 'resnet_v2_101/block3/unit_14/bottleneck_v2/conv1/BatchNorm/beta:0' shape=(256,) dtype=float32_ref>,\n",
       " <tf.Variable 'resnet_v2_101/block3/unit_14/bottleneck_v2/conv1/BatchNorm/gamma:0' shape=(256,) dtype=float32_ref>,\n",
       " <tf.Variable 'resnet_v2_101/block3/unit_14/bottleneck_v2/conv1/BatchNorm/moving_mean:0' shape=(256,) dtype=float32_ref>,\n",
       " <tf.Variable 'resnet_v2_101/block3/unit_14/bottleneck_v2/conv1/BatchNorm/moving_variance:0' shape=(256,) dtype=float32_ref>,\n",
       " <tf.Variable 'resnet_v2_101/block3/unit_14/bottleneck_v2/conv2/weights:0' shape=(3, 3, 256, 256) dtype=float32_ref>,\n",
       " <tf.Variable 'resnet_v2_101/block3/unit_14/bottleneck_v2/conv2/BatchNorm/beta:0' shape=(256,) dtype=float32_ref>,\n",
       " <tf.Variable 'resnet_v2_101/block3/unit_14/bottleneck_v2/conv2/BatchNorm/gamma:0' shape=(256,) dtype=float32_ref>,\n",
       " <tf.Variable 'resnet_v2_101/block3/unit_14/bottleneck_v2/conv2/BatchNorm/moving_mean:0' shape=(256,) dtype=float32_ref>,\n",
       " <tf.Variable 'resnet_v2_101/block3/unit_14/bottleneck_v2/conv2/BatchNorm/moving_variance:0' shape=(256,) dtype=float32_ref>,\n",
       " <tf.Variable 'resnet_v2_101/block3/unit_14/bottleneck_v2/conv3/weights:0' shape=(1, 1, 256, 1024) dtype=float32_ref>,\n",
       " <tf.Variable 'resnet_v2_101/block3/unit_14/bottleneck_v2/conv3/biases:0' shape=(1024,) dtype=float32_ref>,\n",
       " <tf.Variable 'resnet_v2_101/block3/unit_15/bottleneck_v2/preact/beta:0' shape=(1024,) dtype=float32_ref>,\n",
       " <tf.Variable 'resnet_v2_101/block3/unit_15/bottleneck_v2/preact/gamma:0' shape=(1024,) dtype=float32_ref>,\n",
       " <tf.Variable 'resnet_v2_101/block3/unit_15/bottleneck_v2/preact/moving_mean:0' shape=(1024,) dtype=float32_ref>,\n",
       " <tf.Variable 'resnet_v2_101/block3/unit_15/bottleneck_v2/preact/moving_variance:0' shape=(1024,) dtype=float32_ref>,\n",
       " <tf.Variable 'resnet_v2_101/block3/unit_15/bottleneck_v2/conv1/weights:0' shape=(1, 1, 1024, 256) dtype=float32_ref>,\n",
       " <tf.Variable 'resnet_v2_101/block3/unit_15/bottleneck_v2/conv1/BatchNorm/beta:0' shape=(256,) dtype=float32_ref>,\n",
       " <tf.Variable 'resnet_v2_101/block3/unit_15/bottleneck_v2/conv1/BatchNorm/gamma:0' shape=(256,) dtype=float32_ref>,\n",
       " <tf.Variable 'resnet_v2_101/block3/unit_15/bottleneck_v2/conv1/BatchNorm/moving_mean:0' shape=(256,) dtype=float32_ref>,\n",
       " <tf.Variable 'resnet_v2_101/block3/unit_15/bottleneck_v2/conv1/BatchNorm/moving_variance:0' shape=(256,) dtype=float32_ref>,\n",
       " <tf.Variable 'resnet_v2_101/block3/unit_15/bottleneck_v2/conv2/weights:0' shape=(3, 3, 256, 256) dtype=float32_ref>,\n",
       " <tf.Variable 'resnet_v2_101/block3/unit_15/bottleneck_v2/conv2/BatchNorm/beta:0' shape=(256,) dtype=float32_ref>,\n",
       " <tf.Variable 'resnet_v2_101/block3/unit_15/bottleneck_v2/conv2/BatchNorm/gamma:0' shape=(256,) dtype=float32_ref>,\n",
       " <tf.Variable 'resnet_v2_101/block3/unit_15/bottleneck_v2/conv2/BatchNorm/moving_mean:0' shape=(256,) dtype=float32_ref>,\n",
       " <tf.Variable 'resnet_v2_101/block3/unit_15/bottleneck_v2/conv2/BatchNorm/moving_variance:0' shape=(256,) dtype=float32_ref>,\n",
       " <tf.Variable 'resnet_v2_101/block3/unit_15/bottleneck_v2/conv3/weights:0' shape=(1, 1, 256, 1024) dtype=float32_ref>,\n",
       " <tf.Variable 'resnet_v2_101/block3/unit_15/bottleneck_v2/conv3/biases:0' shape=(1024,) dtype=float32_ref>,\n",
       " <tf.Variable 'resnet_v2_101/block3/unit_16/bottleneck_v2/preact/beta:0' shape=(1024,) dtype=float32_ref>,\n",
       " <tf.Variable 'resnet_v2_101/block3/unit_16/bottleneck_v2/preact/gamma:0' shape=(1024,) dtype=float32_ref>,\n",
       " <tf.Variable 'resnet_v2_101/block3/unit_16/bottleneck_v2/preact/moving_mean:0' shape=(1024,) dtype=float32_ref>,\n",
       " <tf.Variable 'resnet_v2_101/block3/unit_16/bottleneck_v2/preact/moving_variance:0' shape=(1024,) dtype=float32_ref>,\n",
       " <tf.Variable 'resnet_v2_101/block3/unit_16/bottleneck_v2/conv1/weights:0' shape=(1, 1, 1024, 256) dtype=float32_ref>,\n",
       " <tf.Variable 'resnet_v2_101/block3/unit_16/bottleneck_v2/conv1/BatchNorm/beta:0' shape=(256,) dtype=float32_ref>,\n",
       " <tf.Variable 'resnet_v2_101/block3/unit_16/bottleneck_v2/conv1/BatchNorm/gamma:0' shape=(256,) dtype=float32_ref>,\n",
       " <tf.Variable 'resnet_v2_101/block3/unit_16/bottleneck_v2/conv1/BatchNorm/moving_mean:0' shape=(256,) dtype=float32_ref>,\n",
       " <tf.Variable 'resnet_v2_101/block3/unit_16/bottleneck_v2/conv1/BatchNorm/moving_variance:0' shape=(256,) dtype=float32_ref>,\n",
       " <tf.Variable 'resnet_v2_101/block3/unit_16/bottleneck_v2/conv2/weights:0' shape=(3, 3, 256, 256) dtype=float32_ref>,\n",
       " <tf.Variable 'resnet_v2_101/block3/unit_16/bottleneck_v2/conv2/BatchNorm/beta:0' shape=(256,) dtype=float32_ref>,\n",
       " <tf.Variable 'resnet_v2_101/block3/unit_16/bottleneck_v2/conv2/BatchNorm/gamma:0' shape=(256,) dtype=float32_ref>,\n",
       " <tf.Variable 'resnet_v2_101/block3/unit_16/bottleneck_v2/conv2/BatchNorm/moving_mean:0' shape=(256,) dtype=float32_ref>,\n",
       " <tf.Variable 'resnet_v2_101/block3/unit_16/bottleneck_v2/conv2/BatchNorm/moving_variance:0' shape=(256,) dtype=float32_ref>,\n",
       " <tf.Variable 'resnet_v2_101/block3/unit_16/bottleneck_v2/conv3/weights:0' shape=(1, 1, 256, 1024) dtype=float32_ref>,\n",
       " <tf.Variable 'resnet_v2_101/block3/unit_16/bottleneck_v2/conv3/biases:0' shape=(1024,) dtype=float32_ref>,\n",
       " <tf.Variable 'resnet_v2_101/block3/unit_17/bottleneck_v2/preact/beta:0' shape=(1024,) dtype=float32_ref>,\n",
       " <tf.Variable 'resnet_v2_101/block3/unit_17/bottleneck_v2/preact/gamma:0' shape=(1024,) dtype=float32_ref>,\n",
       " <tf.Variable 'resnet_v2_101/block3/unit_17/bottleneck_v2/preact/moving_mean:0' shape=(1024,) dtype=float32_ref>,\n",
       " <tf.Variable 'resnet_v2_101/block3/unit_17/bottleneck_v2/preact/moving_variance:0' shape=(1024,) dtype=float32_ref>,\n",
       " <tf.Variable 'resnet_v2_101/block3/unit_17/bottleneck_v2/conv1/weights:0' shape=(1, 1, 1024, 256) dtype=float32_ref>,\n",
       " <tf.Variable 'resnet_v2_101/block3/unit_17/bottleneck_v2/conv1/BatchNorm/beta:0' shape=(256,) dtype=float32_ref>,\n",
       " <tf.Variable 'resnet_v2_101/block3/unit_17/bottleneck_v2/conv1/BatchNorm/gamma:0' shape=(256,) dtype=float32_ref>,\n",
       " <tf.Variable 'resnet_v2_101/block3/unit_17/bottleneck_v2/conv1/BatchNorm/moving_mean:0' shape=(256,) dtype=float32_ref>,\n",
       " <tf.Variable 'resnet_v2_101/block3/unit_17/bottleneck_v2/conv1/BatchNorm/moving_variance:0' shape=(256,) dtype=float32_ref>,\n",
       " <tf.Variable 'resnet_v2_101/block3/unit_17/bottleneck_v2/conv2/weights:0' shape=(3, 3, 256, 256) dtype=float32_ref>,\n",
       " <tf.Variable 'resnet_v2_101/block3/unit_17/bottleneck_v2/conv2/BatchNorm/beta:0' shape=(256,) dtype=float32_ref>,\n",
       " <tf.Variable 'resnet_v2_101/block3/unit_17/bottleneck_v2/conv2/BatchNorm/gamma:0' shape=(256,) dtype=float32_ref>,\n",
       " <tf.Variable 'resnet_v2_101/block3/unit_17/bottleneck_v2/conv2/BatchNorm/moving_mean:0' shape=(256,) dtype=float32_ref>,\n",
       " <tf.Variable 'resnet_v2_101/block3/unit_17/bottleneck_v2/conv2/BatchNorm/moving_variance:0' shape=(256,) dtype=float32_ref>,\n",
       " <tf.Variable 'resnet_v2_101/block3/unit_17/bottleneck_v2/conv3/weights:0' shape=(1, 1, 256, 1024) dtype=float32_ref>,\n",
       " <tf.Variable 'resnet_v2_101/block3/unit_17/bottleneck_v2/conv3/biases:0' shape=(1024,) dtype=float32_ref>,\n",
       " <tf.Variable 'resnet_v2_101/block3/unit_18/bottleneck_v2/preact/beta:0' shape=(1024,) dtype=float32_ref>,\n",
       " <tf.Variable 'resnet_v2_101/block3/unit_18/bottleneck_v2/preact/gamma:0' shape=(1024,) dtype=float32_ref>,\n",
       " <tf.Variable 'resnet_v2_101/block3/unit_18/bottleneck_v2/preact/moving_mean:0' shape=(1024,) dtype=float32_ref>,\n",
       " <tf.Variable 'resnet_v2_101/block3/unit_18/bottleneck_v2/preact/moving_variance:0' shape=(1024,) dtype=float32_ref>,\n",
       " <tf.Variable 'resnet_v2_101/block3/unit_18/bottleneck_v2/conv1/weights:0' shape=(1, 1, 1024, 256) dtype=float32_ref>,\n",
       " <tf.Variable 'resnet_v2_101/block3/unit_18/bottleneck_v2/conv1/BatchNorm/beta:0' shape=(256,) dtype=float32_ref>,\n",
       " <tf.Variable 'resnet_v2_101/block3/unit_18/bottleneck_v2/conv1/BatchNorm/gamma:0' shape=(256,) dtype=float32_ref>,\n",
       " <tf.Variable 'resnet_v2_101/block3/unit_18/bottleneck_v2/conv1/BatchNorm/moving_mean:0' shape=(256,) dtype=float32_ref>,\n",
       " <tf.Variable 'resnet_v2_101/block3/unit_18/bottleneck_v2/conv1/BatchNorm/moving_variance:0' shape=(256,) dtype=float32_ref>,\n",
       " <tf.Variable 'resnet_v2_101/block3/unit_18/bottleneck_v2/conv2/weights:0' shape=(3, 3, 256, 256) dtype=float32_ref>,\n",
       " <tf.Variable 'resnet_v2_101/block3/unit_18/bottleneck_v2/conv2/BatchNorm/beta:0' shape=(256,) dtype=float32_ref>,\n",
       " <tf.Variable 'resnet_v2_101/block3/unit_18/bottleneck_v2/conv2/BatchNorm/gamma:0' shape=(256,) dtype=float32_ref>,\n",
       " <tf.Variable 'resnet_v2_101/block3/unit_18/bottleneck_v2/conv2/BatchNorm/moving_mean:0' shape=(256,) dtype=float32_ref>,\n",
       " <tf.Variable 'resnet_v2_101/block3/unit_18/bottleneck_v2/conv2/BatchNorm/moving_variance:0' shape=(256,) dtype=float32_ref>,\n",
       " <tf.Variable 'resnet_v2_101/block3/unit_18/bottleneck_v2/conv3/weights:0' shape=(1, 1, 256, 1024) dtype=float32_ref>,\n",
       " <tf.Variable 'resnet_v2_101/block3/unit_18/bottleneck_v2/conv3/biases:0' shape=(1024,) dtype=float32_ref>,\n",
       " <tf.Variable 'resnet_v2_101/block3/unit_19/bottleneck_v2/preact/beta:0' shape=(1024,) dtype=float32_ref>,\n",
       " <tf.Variable 'resnet_v2_101/block3/unit_19/bottleneck_v2/preact/gamma:0' shape=(1024,) dtype=float32_ref>,\n",
       " <tf.Variable 'resnet_v2_101/block3/unit_19/bottleneck_v2/preact/moving_mean:0' shape=(1024,) dtype=float32_ref>,\n",
       " <tf.Variable 'resnet_v2_101/block3/unit_19/bottleneck_v2/preact/moving_variance:0' shape=(1024,) dtype=float32_ref>,\n",
       " <tf.Variable 'resnet_v2_101/block3/unit_19/bottleneck_v2/conv1/weights:0' shape=(1, 1, 1024, 256) dtype=float32_ref>,\n",
       " <tf.Variable 'resnet_v2_101/block3/unit_19/bottleneck_v2/conv1/BatchNorm/beta:0' shape=(256,) dtype=float32_ref>,\n",
       " <tf.Variable 'resnet_v2_101/block3/unit_19/bottleneck_v2/conv1/BatchNorm/gamma:0' shape=(256,) dtype=float32_ref>,\n",
       " <tf.Variable 'resnet_v2_101/block3/unit_19/bottleneck_v2/conv1/BatchNorm/moving_mean:0' shape=(256,) dtype=float32_ref>,\n",
       " <tf.Variable 'resnet_v2_101/block3/unit_19/bottleneck_v2/conv1/BatchNorm/moving_variance:0' shape=(256,) dtype=float32_ref>,\n",
       " <tf.Variable 'resnet_v2_101/block3/unit_19/bottleneck_v2/conv2/weights:0' shape=(3, 3, 256, 256) dtype=float32_ref>,\n",
       " <tf.Variable 'resnet_v2_101/block3/unit_19/bottleneck_v2/conv2/BatchNorm/beta:0' shape=(256,) dtype=float32_ref>,\n",
       " <tf.Variable 'resnet_v2_101/block3/unit_19/bottleneck_v2/conv2/BatchNorm/gamma:0' shape=(256,) dtype=float32_ref>,\n",
       " <tf.Variable 'resnet_v2_101/block3/unit_19/bottleneck_v2/conv2/BatchNorm/moving_mean:0' shape=(256,) dtype=float32_ref>,\n",
       " <tf.Variable 'resnet_v2_101/block3/unit_19/bottleneck_v2/conv2/BatchNorm/moving_variance:0' shape=(256,) dtype=float32_ref>,\n",
       " <tf.Variable 'resnet_v2_101/block3/unit_19/bottleneck_v2/conv3/weights:0' shape=(1, 1, 256, 1024) dtype=float32_ref>,\n",
       " <tf.Variable 'resnet_v2_101/block3/unit_19/bottleneck_v2/conv3/biases:0' shape=(1024,) dtype=float32_ref>,\n",
       " <tf.Variable 'resnet_v2_101/block3/unit_20/bottleneck_v2/preact/beta:0' shape=(1024,) dtype=float32_ref>,\n",
       " <tf.Variable 'resnet_v2_101/block3/unit_20/bottleneck_v2/preact/gamma:0' shape=(1024,) dtype=float32_ref>,\n",
       " <tf.Variable 'resnet_v2_101/block3/unit_20/bottleneck_v2/preact/moving_mean:0' shape=(1024,) dtype=float32_ref>,\n",
       " <tf.Variable 'resnet_v2_101/block3/unit_20/bottleneck_v2/preact/moving_variance:0' shape=(1024,) dtype=float32_ref>,\n",
       " <tf.Variable 'resnet_v2_101/block3/unit_20/bottleneck_v2/conv1/weights:0' shape=(1, 1, 1024, 256) dtype=float32_ref>,\n",
       " <tf.Variable 'resnet_v2_101/block3/unit_20/bottleneck_v2/conv1/BatchNorm/beta:0' shape=(256,) dtype=float32_ref>,\n",
       " <tf.Variable 'resnet_v2_101/block3/unit_20/bottleneck_v2/conv1/BatchNorm/gamma:0' shape=(256,) dtype=float32_ref>,\n",
       " <tf.Variable 'resnet_v2_101/block3/unit_20/bottleneck_v2/conv1/BatchNorm/moving_mean:0' shape=(256,) dtype=float32_ref>,\n",
       " <tf.Variable 'resnet_v2_101/block3/unit_20/bottleneck_v2/conv1/BatchNorm/moving_variance:0' shape=(256,) dtype=float32_ref>,\n",
       " <tf.Variable 'resnet_v2_101/block3/unit_20/bottleneck_v2/conv2/weights:0' shape=(3, 3, 256, 256) dtype=float32_ref>,\n",
       " <tf.Variable 'resnet_v2_101/block3/unit_20/bottleneck_v2/conv2/BatchNorm/beta:0' shape=(256,) dtype=float32_ref>,\n",
       " <tf.Variable 'resnet_v2_101/block3/unit_20/bottleneck_v2/conv2/BatchNorm/gamma:0' shape=(256,) dtype=float32_ref>,\n",
       " <tf.Variable 'resnet_v2_101/block3/unit_20/bottleneck_v2/conv2/BatchNorm/moving_mean:0' shape=(256,) dtype=float32_ref>,\n",
       " <tf.Variable 'resnet_v2_101/block3/unit_20/bottleneck_v2/conv2/BatchNorm/moving_variance:0' shape=(256,) dtype=float32_ref>,\n",
       " <tf.Variable 'resnet_v2_101/block3/unit_20/bottleneck_v2/conv3/weights:0' shape=(1, 1, 256, 1024) dtype=float32_ref>,\n",
       " <tf.Variable 'resnet_v2_101/block3/unit_20/bottleneck_v2/conv3/biases:0' shape=(1024,) dtype=float32_ref>,\n",
       " <tf.Variable 'resnet_v2_101/block3/unit_21/bottleneck_v2/preact/beta:0' shape=(1024,) dtype=float32_ref>,\n",
       " <tf.Variable 'resnet_v2_101/block3/unit_21/bottleneck_v2/preact/gamma:0' shape=(1024,) dtype=float32_ref>,\n",
       " <tf.Variable 'resnet_v2_101/block3/unit_21/bottleneck_v2/preact/moving_mean:0' shape=(1024,) dtype=float32_ref>,\n",
       " <tf.Variable 'resnet_v2_101/block3/unit_21/bottleneck_v2/preact/moving_variance:0' shape=(1024,) dtype=float32_ref>,\n",
       " <tf.Variable 'resnet_v2_101/block3/unit_21/bottleneck_v2/conv1/weights:0' shape=(1, 1, 1024, 256) dtype=float32_ref>,\n",
       " <tf.Variable 'resnet_v2_101/block3/unit_21/bottleneck_v2/conv1/BatchNorm/beta:0' shape=(256,) dtype=float32_ref>,\n",
       " <tf.Variable 'resnet_v2_101/block3/unit_21/bottleneck_v2/conv1/BatchNorm/gamma:0' shape=(256,) dtype=float32_ref>,\n",
       " <tf.Variable 'resnet_v2_101/block3/unit_21/bottleneck_v2/conv1/BatchNorm/moving_mean:0' shape=(256,) dtype=float32_ref>,\n",
       " <tf.Variable 'resnet_v2_101/block3/unit_21/bottleneck_v2/conv1/BatchNorm/moving_variance:0' shape=(256,) dtype=float32_ref>,\n",
       " <tf.Variable 'resnet_v2_101/block3/unit_21/bottleneck_v2/conv2/weights:0' shape=(3, 3, 256, 256) dtype=float32_ref>,\n",
       " <tf.Variable 'resnet_v2_101/block3/unit_21/bottleneck_v2/conv2/BatchNorm/beta:0' shape=(256,) dtype=float32_ref>,\n",
       " <tf.Variable 'resnet_v2_101/block3/unit_21/bottleneck_v2/conv2/BatchNorm/gamma:0' shape=(256,) dtype=float32_ref>,\n",
       " <tf.Variable 'resnet_v2_101/block3/unit_21/bottleneck_v2/conv2/BatchNorm/moving_mean:0' shape=(256,) dtype=float32_ref>,\n",
       " <tf.Variable 'resnet_v2_101/block3/unit_21/bottleneck_v2/conv2/BatchNorm/moving_variance:0' shape=(256,) dtype=float32_ref>,\n",
       " <tf.Variable 'resnet_v2_101/block3/unit_21/bottleneck_v2/conv3/weights:0' shape=(1, 1, 256, 1024) dtype=float32_ref>,\n",
       " <tf.Variable 'resnet_v2_101/block3/unit_21/bottleneck_v2/conv3/biases:0' shape=(1024,) dtype=float32_ref>,\n",
       " <tf.Variable 'resnet_v2_101/block3/unit_22/bottleneck_v2/preact/beta:0' shape=(1024,) dtype=float32_ref>,\n",
       " <tf.Variable 'resnet_v2_101/block3/unit_22/bottleneck_v2/preact/gamma:0' shape=(1024,) dtype=float32_ref>,\n",
       " <tf.Variable 'resnet_v2_101/block3/unit_22/bottleneck_v2/preact/moving_mean:0' shape=(1024,) dtype=float32_ref>,\n",
       " <tf.Variable 'resnet_v2_101/block3/unit_22/bottleneck_v2/preact/moving_variance:0' shape=(1024,) dtype=float32_ref>,\n",
       " <tf.Variable 'resnet_v2_101/block3/unit_22/bottleneck_v2/conv1/weights:0' shape=(1, 1, 1024, 256) dtype=float32_ref>,\n",
       " <tf.Variable 'resnet_v2_101/block3/unit_22/bottleneck_v2/conv1/BatchNorm/beta:0' shape=(256,) dtype=float32_ref>,\n",
       " <tf.Variable 'resnet_v2_101/block3/unit_22/bottleneck_v2/conv1/BatchNorm/gamma:0' shape=(256,) dtype=float32_ref>,\n",
       " <tf.Variable 'resnet_v2_101/block3/unit_22/bottleneck_v2/conv1/BatchNorm/moving_mean:0' shape=(256,) dtype=float32_ref>,\n",
       " <tf.Variable 'resnet_v2_101/block3/unit_22/bottleneck_v2/conv1/BatchNorm/moving_variance:0' shape=(256,) dtype=float32_ref>,\n",
       " <tf.Variable 'resnet_v2_101/block3/unit_22/bottleneck_v2/conv2/weights:0' shape=(3, 3, 256, 256) dtype=float32_ref>,\n",
       " <tf.Variable 'resnet_v2_101/block3/unit_22/bottleneck_v2/conv2/BatchNorm/beta:0' shape=(256,) dtype=float32_ref>,\n",
       " <tf.Variable 'resnet_v2_101/block3/unit_22/bottleneck_v2/conv2/BatchNorm/gamma:0' shape=(256,) dtype=float32_ref>,\n",
       " <tf.Variable 'resnet_v2_101/block3/unit_22/bottleneck_v2/conv2/BatchNorm/moving_mean:0' shape=(256,) dtype=float32_ref>,\n",
       " <tf.Variable 'resnet_v2_101/block3/unit_22/bottleneck_v2/conv2/BatchNorm/moving_variance:0' shape=(256,) dtype=float32_ref>,\n",
       " <tf.Variable 'resnet_v2_101/block3/unit_22/bottleneck_v2/conv3/weights:0' shape=(1, 1, 256, 1024) dtype=float32_ref>,\n",
       " <tf.Variable 'resnet_v2_101/block3/unit_22/bottleneck_v2/conv3/biases:0' shape=(1024,) dtype=float32_ref>,\n",
       " <tf.Variable 'resnet_v2_101/block3/unit_23/bottleneck_v2/preact/beta:0' shape=(1024,) dtype=float32_ref>,\n",
       " <tf.Variable 'resnet_v2_101/block3/unit_23/bottleneck_v2/preact/gamma:0' shape=(1024,) dtype=float32_ref>,\n",
       " <tf.Variable 'resnet_v2_101/block3/unit_23/bottleneck_v2/preact/moving_mean:0' shape=(1024,) dtype=float32_ref>,\n",
       " <tf.Variable 'resnet_v2_101/block3/unit_23/bottleneck_v2/preact/moving_variance:0' shape=(1024,) dtype=float32_ref>,\n",
       " <tf.Variable 'resnet_v2_101/block3/unit_23/bottleneck_v2/conv1/weights:0' shape=(1, 1, 1024, 256) dtype=float32_ref>,\n",
       " <tf.Variable 'resnet_v2_101/block3/unit_23/bottleneck_v2/conv1/BatchNorm/beta:0' shape=(256,) dtype=float32_ref>,\n",
       " <tf.Variable 'resnet_v2_101/block3/unit_23/bottleneck_v2/conv1/BatchNorm/gamma:0' shape=(256,) dtype=float32_ref>,\n",
       " <tf.Variable 'resnet_v2_101/block3/unit_23/bottleneck_v2/conv1/BatchNorm/moving_mean:0' shape=(256,) dtype=float32_ref>,\n",
       " <tf.Variable 'resnet_v2_101/block3/unit_23/bottleneck_v2/conv1/BatchNorm/moving_variance:0' shape=(256,) dtype=float32_ref>,\n",
       " <tf.Variable 'resnet_v2_101/block3/unit_23/bottleneck_v2/conv2/weights:0' shape=(3, 3, 256, 256) dtype=float32_ref>,\n",
       " <tf.Variable 'resnet_v2_101/block3/unit_23/bottleneck_v2/conv2/BatchNorm/beta:0' shape=(256,) dtype=float32_ref>,\n",
       " <tf.Variable 'resnet_v2_101/block3/unit_23/bottleneck_v2/conv2/BatchNorm/gamma:0' shape=(256,) dtype=float32_ref>,\n",
       " <tf.Variable 'resnet_v2_101/block3/unit_23/bottleneck_v2/conv2/BatchNorm/moving_mean:0' shape=(256,) dtype=float32_ref>,\n",
       " <tf.Variable 'resnet_v2_101/block3/unit_23/bottleneck_v2/conv2/BatchNorm/moving_variance:0' shape=(256,) dtype=float32_ref>,\n",
       " <tf.Variable 'resnet_v2_101/block3/unit_23/bottleneck_v2/conv3/weights:0' shape=(1, 1, 256, 1024) dtype=float32_ref>,\n",
       " <tf.Variable 'resnet_v2_101/block3/unit_23/bottleneck_v2/conv3/biases:0' shape=(1024,) dtype=float32_ref>,\n",
       " <tf.Variable 'resnet_v2_101/block4/unit_1/bottleneck_v2/preact/beta:0' shape=(1024,) dtype=float32_ref>,\n",
       " <tf.Variable 'resnet_v2_101/block4/unit_1/bottleneck_v2/preact/gamma:0' shape=(1024,) dtype=float32_ref>,\n",
       " <tf.Variable 'resnet_v2_101/block4/unit_1/bottleneck_v2/preact/moving_mean:0' shape=(1024,) dtype=float32_ref>,\n",
       " <tf.Variable 'resnet_v2_101/block4/unit_1/bottleneck_v2/preact/moving_variance:0' shape=(1024,) dtype=float32_ref>,\n",
       " <tf.Variable 'resnet_v2_101/block4/unit_1/bottleneck_v2/shortcut/weights:0' shape=(1, 1, 1024, 2048) dtype=float32_ref>,\n",
       " <tf.Variable 'resnet_v2_101/block4/unit_1/bottleneck_v2/shortcut/biases:0' shape=(2048,) dtype=float32_ref>,\n",
       " <tf.Variable 'resnet_v2_101/block4/unit_1/bottleneck_v2/conv1/weights:0' shape=(1, 1, 1024, 512) dtype=float32_ref>,\n",
       " <tf.Variable 'resnet_v2_101/block4/unit_1/bottleneck_v2/conv1/BatchNorm/beta:0' shape=(512,) dtype=float32_ref>,\n",
       " <tf.Variable 'resnet_v2_101/block4/unit_1/bottleneck_v2/conv1/BatchNorm/gamma:0' shape=(512,) dtype=float32_ref>,\n",
       " <tf.Variable 'resnet_v2_101/block4/unit_1/bottleneck_v2/conv1/BatchNorm/moving_mean:0' shape=(512,) dtype=float32_ref>,\n",
       " <tf.Variable 'resnet_v2_101/block4/unit_1/bottleneck_v2/conv1/BatchNorm/moving_variance:0' shape=(512,) dtype=float32_ref>,\n",
       " <tf.Variable 'resnet_v2_101/block4/unit_1/bottleneck_v2/conv2/weights:0' shape=(3, 3, 512, 512) dtype=float32_ref>,\n",
       " <tf.Variable 'resnet_v2_101/block4/unit_1/bottleneck_v2/conv2/BatchNorm/beta:0' shape=(512,) dtype=float32_ref>,\n",
       " <tf.Variable 'resnet_v2_101/block4/unit_1/bottleneck_v2/conv2/BatchNorm/gamma:0' shape=(512,) dtype=float32_ref>,\n",
       " <tf.Variable 'resnet_v2_101/block4/unit_1/bottleneck_v2/conv2/BatchNorm/moving_mean:0' shape=(512,) dtype=float32_ref>,\n",
       " <tf.Variable 'resnet_v2_101/block4/unit_1/bottleneck_v2/conv2/BatchNorm/moving_variance:0' shape=(512,) dtype=float32_ref>,\n",
       " <tf.Variable 'resnet_v2_101/block4/unit_1/bottleneck_v2/conv3/weights:0' shape=(1, 1, 512, 2048) dtype=float32_ref>,\n",
       " <tf.Variable 'resnet_v2_101/block4/unit_1/bottleneck_v2/conv3/biases:0' shape=(2048,) dtype=float32_ref>,\n",
       " <tf.Variable 'resnet_v2_101/block4/unit_2/bottleneck_v2/preact/beta:0' shape=(2048,) dtype=float32_ref>,\n",
       " <tf.Variable 'resnet_v2_101/block4/unit_2/bottleneck_v2/preact/gamma:0' shape=(2048,) dtype=float32_ref>,\n",
       " <tf.Variable 'resnet_v2_101/block4/unit_2/bottleneck_v2/preact/moving_mean:0' shape=(2048,) dtype=float32_ref>,\n",
       " <tf.Variable 'resnet_v2_101/block4/unit_2/bottleneck_v2/preact/moving_variance:0' shape=(2048,) dtype=float32_ref>,\n",
       " <tf.Variable 'resnet_v2_101/block4/unit_2/bottleneck_v2/conv1/weights:0' shape=(1, 1, 2048, 512) dtype=float32_ref>,\n",
       " <tf.Variable 'resnet_v2_101/block4/unit_2/bottleneck_v2/conv1/BatchNorm/beta:0' shape=(512,) dtype=float32_ref>,\n",
       " <tf.Variable 'resnet_v2_101/block4/unit_2/bottleneck_v2/conv1/BatchNorm/gamma:0' shape=(512,) dtype=float32_ref>,\n",
       " <tf.Variable 'resnet_v2_101/block4/unit_2/bottleneck_v2/conv1/BatchNorm/moving_mean:0' shape=(512,) dtype=float32_ref>,\n",
       " <tf.Variable 'resnet_v2_101/block4/unit_2/bottleneck_v2/conv1/BatchNorm/moving_variance:0' shape=(512,) dtype=float32_ref>,\n",
       " <tf.Variable 'resnet_v2_101/block4/unit_2/bottleneck_v2/conv2/weights:0' shape=(3, 3, 512, 512) dtype=float32_ref>,\n",
       " <tf.Variable 'resnet_v2_101/block4/unit_2/bottleneck_v2/conv2/BatchNorm/beta:0' shape=(512,) dtype=float32_ref>,\n",
       " <tf.Variable 'resnet_v2_101/block4/unit_2/bottleneck_v2/conv2/BatchNorm/gamma:0' shape=(512,) dtype=float32_ref>,\n",
       " <tf.Variable 'resnet_v2_101/block4/unit_2/bottleneck_v2/conv2/BatchNorm/moving_mean:0' shape=(512,) dtype=float32_ref>,\n",
       " <tf.Variable 'resnet_v2_101/block4/unit_2/bottleneck_v2/conv2/BatchNorm/moving_variance:0' shape=(512,) dtype=float32_ref>,\n",
       " <tf.Variable 'resnet_v2_101/block4/unit_2/bottleneck_v2/conv3/weights:0' shape=(1, 1, 512, 2048) dtype=float32_ref>,\n",
       " <tf.Variable 'resnet_v2_101/block4/unit_2/bottleneck_v2/conv3/biases:0' shape=(2048,) dtype=float32_ref>,\n",
       " <tf.Variable 'resnet_v2_101/block4/unit_3/bottleneck_v2/preact/beta:0' shape=(2048,) dtype=float32_ref>,\n",
       " <tf.Variable 'resnet_v2_101/block4/unit_3/bottleneck_v2/preact/gamma:0' shape=(2048,) dtype=float32_ref>,\n",
       " <tf.Variable 'resnet_v2_101/block4/unit_3/bottleneck_v2/preact/moving_mean:0' shape=(2048,) dtype=float32_ref>,\n",
       " <tf.Variable 'resnet_v2_101/block4/unit_3/bottleneck_v2/preact/moving_variance:0' shape=(2048,) dtype=float32_ref>,\n",
       " <tf.Variable 'resnet_v2_101/block4/unit_3/bottleneck_v2/conv1/weights:0' shape=(1, 1, 2048, 512) dtype=float32_ref>,\n",
       " <tf.Variable 'resnet_v2_101/block4/unit_3/bottleneck_v2/conv1/BatchNorm/beta:0' shape=(512,) dtype=float32_ref>,\n",
       " <tf.Variable 'resnet_v2_101/block4/unit_3/bottleneck_v2/conv1/BatchNorm/gamma:0' shape=(512,) dtype=float32_ref>,\n",
       " <tf.Variable 'resnet_v2_101/block4/unit_3/bottleneck_v2/conv1/BatchNorm/moving_mean:0' shape=(512,) dtype=float32_ref>,\n",
       " <tf.Variable 'resnet_v2_101/block4/unit_3/bottleneck_v2/conv1/BatchNorm/moving_variance:0' shape=(512,) dtype=float32_ref>,\n",
       " <tf.Variable 'resnet_v2_101/block4/unit_3/bottleneck_v2/conv2/weights:0' shape=(3, 3, 512, 512) dtype=float32_ref>,\n",
       " <tf.Variable 'resnet_v2_101/block4/unit_3/bottleneck_v2/conv2/BatchNorm/beta:0' shape=(512,) dtype=float32_ref>,\n",
       " <tf.Variable 'resnet_v2_101/block4/unit_3/bottleneck_v2/conv2/BatchNorm/gamma:0' shape=(512,) dtype=float32_ref>,\n",
       " <tf.Variable 'resnet_v2_101/block4/unit_3/bottleneck_v2/conv2/BatchNorm/moving_mean:0' shape=(512,) dtype=float32_ref>,\n",
       " <tf.Variable 'resnet_v2_101/block4/unit_3/bottleneck_v2/conv2/BatchNorm/moving_variance:0' shape=(512,) dtype=float32_ref>,\n",
       " <tf.Variable 'resnet_v2_101/block4/unit_3/bottleneck_v2/conv3/weights:0' shape=(1, 1, 512, 2048) dtype=float32_ref>,\n",
       " <tf.Variable 'resnet_v2_101/block4/unit_3/bottleneck_v2/conv3/biases:0' shape=(2048,) dtype=float32_ref>,\n",
       " <tf.Variable 'resnet_v2_101/postnorm/beta:0' shape=(2048,) dtype=float32_ref>,\n",
       " <tf.Variable 'resnet_v2_101/postnorm/gamma:0' shape=(2048,) dtype=float32_ref>,\n",
       " <tf.Variable 'resnet_v2_101/postnorm/moving_mean:0' shape=(2048,) dtype=float32_ref>,\n",
       " <tf.Variable 'resnet_v2_101/postnorm/moving_variance:0' shape=(2048,) dtype=float32_ref>,\n",
       " <tf.Variable 'custom_cnn/Conv/weights:0' shape=(1, 1, 1024, 512) dtype=float32_ref>,\n",
       " <tf.Variable 'custom_cnn/Conv/biases:0' shape=(512,) dtype=float32_ref>,\n",
       " <tf.Variable 'custom_cnn/BatchNorm/beta:0' shape=(512,) dtype=float32_ref>,\n",
       " <tf.Variable 'custom_cnn/BatchNorm/gamma:0' shape=(512,) dtype=float32_ref>,\n",
       " <tf.Variable 'custom_cnn/BatchNorm/moving_mean:0' shape=(512,) dtype=float32_ref>,\n",
       " <tf.Variable 'custom_cnn/BatchNorm/moving_variance:0' shape=(512,) dtype=float32_ref>,\n",
       " <tf.Variable 'custom_cnn/Conv_1/weights:0' shape=(3, 3, 512, 512) dtype=float32_ref>,\n",
       " <tf.Variable 'custom_cnn/Conv_1/biases:0' shape=(512,) dtype=float32_ref>,\n",
       " <tf.Variable 'custom_cnn/BatchNorm_1/beta:0' shape=(512,) dtype=float32_ref>,\n",
       " <tf.Variable 'custom_cnn/BatchNorm_1/gamma:0' shape=(512,) dtype=float32_ref>,\n",
       " <tf.Variable 'custom_cnn/BatchNorm_1/moving_mean:0' shape=(512,) dtype=float32_ref>,\n",
       " <tf.Variable 'custom_cnn/BatchNorm_1/moving_variance:0' shape=(512,) dtype=float32_ref>,\n",
       " <tf.Variable 'custom_cnn/Conv_2/weights:0' shape=(1, 1, 512, 512) dtype=float32_ref>,\n",
       " <tf.Variable 'custom_cnn/Conv_2/biases:0' shape=(512,) dtype=float32_ref>,\n",
       " <tf.Variable 'custom_cnn/BatchNorm_2/beta:0' shape=(512,) dtype=float32_ref>,\n",
       " <tf.Variable 'custom_cnn/BatchNorm_2/gamma:0' shape=(512,) dtype=float32_ref>,\n",
       " <tf.Variable 'custom_cnn/BatchNorm_2/moving_mean:0' shape=(512,) dtype=float32_ref>,\n",
       " <tf.Variable 'custom_cnn/BatchNorm_2/moving_variance:0' shape=(512,) dtype=float32_ref>,\n",
       " <tf.Variable 'rnn/glimpse/fc_c_state_init/weights:0' shape=(512, 512) dtype=float32_ref>,\n",
       " <tf.Variable 'rnn/glimpse/fc_c_state_init/biases:0' shape=(512,) dtype=float32_ref>,\n",
       " <tf.Variable 'rnn/glimpse/fc_m_state_init/weights:0' shape=(512, 512) dtype=float32_ref>,\n",
       " <tf.Variable 'rnn/glimpse/fc_m_state_init/biases:0' shape=(512,) dtype=float32_ref>,\n",
       " <tf.Variable 'rnn/rnn/att_func/att_fc/weights:0' shape=(1024, 512) dtype=float32_ref>,\n",
       " <tf.Variable 'rnn/rnn/att_func/att_fc/biases:0' shape=(512,) dtype=float32_ref>,\n",
       " <tf.Variable 'rnn/rnn/att_func/att_logits/weights:0' shape=(512, 1) dtype=float32_ref>,\n",
       " <tf.Variable 'rnn/rnn/att_func/att_logits/biases:0' shape=(1,) dtype=float32_ref>,\n",
       " <tf.Variable 'rnn/rnn/lstm_cell/kernel:0' shape=(1024, 2048) dtype=float32_ref>,\n",
       " <tf.Variable 'rnn/rnn/lstm_cell/bias:0' shape=(2048,) dtype=float32_ref>,\n",
       " <tf.Variable 'rnn/rnn/lstm_cell/w_f_diag:0' shape=(512,) dtype=float32_ref>,\n",
       " <tf.Variable 'rnn/rnn/lstm_cell/w_i_diag:0' shape=(512,) dtype=float32_ref>,\n",
       " <tf.Variable 'rnn/rnn/lstm_cell/w_o_diag:0' shape=(512,) dtype=float32_ref>,\n",
       " <tf.Variable 'logits/weights:0' shape=(512, 10) dtype=float32_ref>,\n",
       " <tf.Variable 'logits/biases:0' shape=(10,) dtype=float32_ref>,\n",
       " <tf.Variable 'EMA/add:0' shape=() dtype=float32_ref>,\n",
       " <tf.Variable 'EMA/add/biased:0' shape=() dtype=float32_ref>,\n",
       " <tf.Variable 'EMA/add/local_step:0' shape=() dtype=float32_ref>,\n",
       " <tf.Variable 'learning_rate:0' shape=() dtype=float32_ref>,\n",
       " <tf.Variable 'beta1_power:0' shape=() dtype=float32_ref>,\n",
       " <tf.Variable 'beta2_power:0' shape=() dtype=float32_ref>,\n",
       " <tf.Variable 'custom_cnn/Conv/weights/Adam:0' shape=(1, 1, 1024, 512) dtype=float32_ref>,\n",
       " <tf.Variable 'custom_cnn/Conv/weights/Adam_1:0' shape=(1, 1, 1024, 512) dtype=float32_ref>,\n",
       " <tf.Variable 'custom_cnn/Conv/biases/Adam:0' shape=(512,) dtype=float32_ref>,\n",
       " <tf.Variable 'custom_cnn/Conv/biases/Adam_1:0' shape=(512,) dtype=float32_ref>,\n",
       " <tf.Variable 'custom_cnn/BatchNorm/beta/Adam:0' shape=(512,) dtype=float32_ref>,\n",
       " <tf.Variable 'custom_cnn/BatchNorm/beta/Adam_1:0' shape=(512,) dtype=float32_ref>,\n",
       " <tf.Variable 'custom_cnn/BatchNorm/gamma/Adam:0' shape=(512,) dtype=float32_ref>,\n",
       " <tf.Variable 'custom_cnn/BatchNorm/gamma/Adam_1:0' shape=(512,) dtype=float32_ref>,\n",
       " <tf.Variable 'custom_cnn/Conv_1/weights/Adam:0' shape=(3, 3, 512, 512) dtype=float32_ref>,\n",
       " <tf.Variable 'custom_cnn/Conv_1/weights/Adam_1:0' shape=(3, 3, 512, 512) dtype=float32_ref>,\n",
       " <tf.Variable 'custom_cnn/Conv_1/biases/Adam:0' shape=(512,) dtype=float32_ref>,\n",
       " <tf.Variable 'custom_cnn/Conv_1/biases/Adam_1:0' shape=(512,) dtype=float32_ref>,\n",
       " <tf.Variable 'custom_cnn/BatchNorm_1/beta/Adam:0' shape=(512,) dtype=float32_ref>,\n",
       " <tf.Variable 'custom_cnn/BatchNorm_1/beta/Adam_1:0' shape=(512,) dtype=float32_ref>,\n",
       " <tf.Variable 'custom_cnn/BatchNorm_1/gamma/Adam:0' shape=(512,) dtype=float32_ref>,\n",
       " <tf.Variable 'custom_cnn/BatchNorm_1/gamma/Adam_1:0' shape=(512,) dtype=float32_ref>,\n",
       " <tf.Variable 'custom_cnn/Conv_2/weights/Adam:0' shape=(1, 1, 512, 512) dtype=float32_ref>,\n",
       " <tf.Variable 'custom_cnn/Conv_2/weights/Adam_1:0' shape=(1, 1, 512, 512) dtype=float32_ref>,\n",
       " <tf.Variable 'custom_cnn/Conv_2/biases/Adam:0' shape=(512,) dtype=float32_ref>,\n",
       " <tf.Variable 'custom_cnn/Conv_2/biases/Adam_1:0' shape=(512,) dtype=float32_ref>,\n",
       " <tf.Variable 'custom_cnn/BatchNorm_2/beta/Adam:0' shape=(512,) dtype=float32_ref>,\n",
       " <tf.Variable 'custom_cnn/BatchNorm_2/beta/Adam_1:0' shape=(512,) dtype=float32_ref>,\n",
       " <tf.Variable 'custom_cnn/BatchNorm_2/gamma/Adam:0' shape=(512,) dtype=float32_ref>,\n",
       " <tf.Variable 'custom_cnn/BatchNorm_2/gamma/Adam_1:0' shape=(512,) dtype=float32_ref>,\n",
       " <tf.Variable 'rnn/glimpse/fc_c_state_init/weights/Adam:0' shape=(512, 512) dtype=float32_ref>,\n",
       " <tf.Variable 'rnn/glimpse/fc_c_state_init/weights/Adam_1:0' shape=(512, 512) dtype=float32_ref>,\n",
       " <tf.Variable 'rnn/glimpse/fc_c_state_init/biases/Adam:0' shape=(512,) dtype=float32_ref>,\n",
       " <tf.Variable 'rnn/glimpse/fc_c_state_init/biases/Adam_1:0' shape=(512,) dtype=float32_ref>,\n",
       " <tf.Variable 'rnn/glimpse/fc_m_state_init/weights/Adam:0' shape=(512, 512) dtype=float32_ref>,\n",
       " <tf.Variable 'rnn/glimpse/fc_m_state_init/weights/Adam_1:0' shape=(512, 512) dtype=float32_ref>,\n",
       " <tf.Variable 'rnn/glimpse/fc_m_state_init/biases/Adam:0' shape=(512,) dtype=float32_ref>,\n",
       " <tf.Variable 'rnn/glimpse/fc_m_state_init/biases/Adam_1:0' shape=(512,) dtype=float32_ref>,\n",
       " <tf.Variable 'rnn/rnn/att_func/att_fc/weights/Adam:0' shape=(1024, 512) dtype=float32_ref>,\n",
       " <tf.Variable 'rnn/rnn/att_func/att_fc/weights/Adam_1:0' shape=(1024, 512) dtype=float32_ref>,\n",
       " <tf.Variable 'rnn/rnn/att_func/att_fc/biases/Adam:0' shape=(512,) dtype=float32_ref>,\n",
       " <tf.Variable 'rnn/rnn/att_func/att_fc/biases/Adam_1:0' shape=(512,) dtype=float32_ref>,\n",
       " <tf.Variable 'rnn/rnn/att_func/att_logits/weights/Adam:0' shape=(512, 1) dtype=float32_ref>,\n",
       " <tf.Variable 'rnn/rnn/att_func/att_logits/weights/Adam_1:0' shape=(512, 1) dtype=float32_ref>,\n",
       " <tf.Variable 'rnn/rnn/att_func/att_logits/biases/Adam:0' shape=(1,) dtype=float32_ref>,\n",
       " <tf.Variable 'rnn/rnn/att_func/att_logits/biases/Adam_1:0' shape=(1,) dtype=float32_ref>,\n",
       " <tf.Variable 'rnn/rnn/lstm_cell/kernel/Adam:0' shape=(1024, 2048) dtype=float32_ref>,\n",
       " <tf.Variable 'rnn/rnn/lstm_cell/kernel/Adam_1:0' shape=(1024, 2048) dtype=float32_ref>,\n",
       " <tf.Variable 'rnn/rnn/lstm_cell/bias/Adam:0' shape=(2048,) dtype=float32_ref>,\n",
       " <tf.Variable 'rnn/rnn/lstm_cell/bias/Adam_1:0' shape=(2048,) dtype=float32_ref>,\n",
       " <tf.Variable 'rnn/rnn/lstm_cell/w_f_diag/Adam:0' shape=(512,) dtype=float32_ref>,\n",
       " <tf.Variable 'rnn/rnn/lstm_cell/w_f_diag/Adam_1:0' shape=(512,) dtype=float32_ref>,\n",
       " <tf.Variable 'rnn/rnn/lstm_cell/w_i_diag/Adam:0' shape=(512,) dtype=float32_ref>,\n",
       " <tf.Variable 'rnn/rnn/lstm_cell/w_i_diag/Adam_1:0' shape=(512,) dtype=float32_ref>,\n",
       " <tf.Variable 'rnn/rnn/lstm_cell/w_o_diag/Adam:0' shape=(512,) dtype=float32_ref>,\n",
       " <tf.Variable 'rnn/rnn/lstm_cell/w_o_diag/Adam_1:0' shape=(512,) dtype=float32_ref>,\n",
       " <tf.Variable 'logits/weights/Adam:0' shape=(512, 10) dtype=float32_ref>,\n",
       " <tf.Variable 'logits/weights/Adam_1:0' shape=(512, 10) dtype=float32_ref>,\n",
       " <tf.Variable 'logits/biases/Adam:0' shape=(10,) dtype=float32_ref>,\n",
       " <tf.Variable 'logits/biases/Adam_1:0' shape=(10,) dtype=float32_ref>,\n",
       " <tf.Variable 'global_step:0' shape=() dtype=int64_ref>,\n",
       " <tf.Variable 'EMA/DataParallelInferenceRunner/QueueInput/queue_size:0' shape=() dtype=float32_ref>,\n",
       " <tf.Variable 'EMA/DataParallelInferenceRunner/QueueInput/queue_size/biased:0' shape=() dtype=float32_ref>,\n",
       " <tf.Variable 'EMA/DataParallelInferenceRunner/QueueInput/queue_size/local_step:0' shape=() dtype=float32_ref>]"
      ]
     },
     "execution_count": 14,
     "metadata": {},
     "output_type": "execute_result"
    }
   ],
   "source": [
    "tf.get_collection(tf.GraphKeys.GLOBAL_VARIABLES)"
   ]
  },
  {
   "cell_type": "code",
   "execution_count": null,
   "metadata": {
    "collapsed": true
   },
   "outputs": [],
   "source": []
  }
 ],
 "metadata": {
  "kernelspec": {
   "display_name": "Python 3",
   "language": "python",
   "name": "python3"
  },
  "language_info": {
   "codemirror_mode": {
    "name": "ipython",
    "version": 3
   },
   "file_extension": ".py",
   "mimetype": "text/x-python",
   "name": "python",
   "nbconvert_exporter": "python",
   "pygments_lexer": "ipython3",
   "version": "3.6.2"
  }
 },
 "nbformat": 4,
 "nbformat_minor": 2
}
