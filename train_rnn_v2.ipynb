{
 "cells": [
  {
   "cell_type": "code",
   "execution_count": 12,
   "metadata": {},
   "outputs": [
    {
     "name": "stdout",
     "output_type": "stream",
     "text": [
      "The autoreload extension is already loaded. To reload it, use:\n",
      "  %reload_ext autoreload\n",
      "\u001b[32m[1103 17:53:53 @logger.py:74]\u001b[0m Argv: /home/yangyang/Applications/anaconda3/lib/python3.6/site-packages/ipykernel_launcher.py -f /run/user/1007/jupyter/kernel-c5773769-f885-44ee-affa-4308d0f383e1.json\n"
     ]
    }
   ],
   "source": [
    "%load_ext autoreload\n",
    "%autoreload 2\n",
    "\n",
    "from config.rnn import default\n",
    "from models import RNNV2, RNN, RNNV12\n",
    "import numpy as np\n",
    "from functional import seq\n",
    "import tensorflow as tf\n",
    "from tensorpack import (TrainConfig, SyncMultiGPUTrainerParameterServer as Trainer, \n",
    "                        PredictConfig, MultiProcessDatasetPredictor as Predictor,\n",
    "                        SaverRestore, logger)\n",
    "from tensorpack.callbacks import (ScheduledHyperParamSetter, MaxSaver, ModelSaver,\n",
    "                                  DataParallelInferenceRunner as InfRunner)\n",
    "from tensorpack.predict import SimpleDatasetPredictor\n",
    "from tensorpack.tfutils.common import get_default_sess_config\n",
    "from utils import DataManager\n",
    "from utils.validation import (Accumulator, AggregateMetric, calcu_metrics)\n",
    "\n",
    "resnet_loc = \"./data/resnet_v2_101/resnet_v2_101.ckpt\"\n",
    "log_dir = './train_log/all-stage/'\n",
    "logger.set_logger_dir(log_dir, action='d')"
   ]
  },
  {
   "cell_type": "code",
   "execution_count": 13,
   "metadata": {
    "collapsed": true
   },
   "outputs": [],
   "source": [
    "config = default\n",
    "ignore_restore = ['learning_rate', 'global_step']\n",
    "save_name = \"all-stages-max-micro-auc.tfmodel\""
   ]
  },
  {
   "cell_type": "code",
   "execution_count": 14,
   "metadata": {
    "collapsed": true,
    "scrolled": true
   },
   "outputs": [],
   "source": [
    "config.stages = [2, 3, 4, 5, 6]\n",
    "config.proportion = {'train': 0.55, 'val': 0.0, 'test': 0.45}\n",
    "config.annotation_number = None\n",
    "dm = DataManager.from_config(config)\n",
    "train_set = dm.get_train_set()\n",
    "test_set = dm.get_test_set()"
   ]
  },
  {
   "cell_type": "code",
   "execution_count": 15,
   "metadata": {},
   "outputs": [
    {
     "data": {
      "text/plain": [
       "{'test': (3780, 16120), 'train': (2999, 13163), 'val': (1177, 5297)}"
      ]
     },
     "execution_count": 15,
     "metadata": {},
     "output_type": "execute_result"
    }
   ],
   "source": [
    "config.proportion = {'train': 0.7, 'val':0.3, 'test': 0.0}\n",
    "config.stages = [2, 3, 4, 5, 6]\n",
    "config.annotation_number = 20\n",
    "dm = DataManager.from_dataset(train_set, test_set, config)\n",
    "dm.get_num_info()"
   ]
  },
  {
   "cell_type": "code",
   "execution_count": 16,
   "metadata": {},
   "outputs": [
    {
     "data": {
      "text/html": [
       "<div>\n",
       "<style>\n",
       "    .dataframe thead tr:only-child th {\n",
       "        text-align: right;\n",
       "    }\n",
       "\n",
       "    .dataframe thead th {\n",
       "        text-align: left;\n",
       "    }\n",
       "\n",
       "    .dataframe tbody tr th {\n",
       "        vertical-align: top;\n",
       "    }\n",
       "</style>\n",
       "<table border=\"1\" class=\"dataframe\">\n",
       "  <thead>\n",
       "    <tr style=\"text-align: right;\">\n",
       "      <th></th>\n",
       "      <th>train</th>\n",
       "      <th>val</th>\n",
       "      <th>test</th>\n",
       "    </tr>\n",
       "  </thead>\n",
       "  <tbody>\n",
       "    <tr>\n",
       "      <th>anterior midgut primordium</th>\n",
       "      <td>8.115502</td>\n",
       "      <td>7.654412</td>\n",
       "      <td>8.264706</td>\n",
       "    </tr>\n",
       "    <tr>\n",
       "      <th>brain primordium</th>\n",
       "      <td>12.096070</td>\n",
       "      <td>11.934066</td>\n",
       "      <td>12.309859</td>\n",
       "    </tr>\n",
       "    <tr>\n",
       "      <th>cellular blastoderm</th>\n",
       "      <td>9.063758</td>\n",
       "      <td>8.491935</td>\n",
       "      <td>8.947368</td>\n",
       "    </tr>\n",
       "    <tr>\n",
       "      <th>embryonic brain</th>\n",
       "      <td>8.401254</td>\n",
       "      <td>8.341270</td>\n",
       "      <td>8.379653</td>\n",
       "    </tr>\n",
       "    <tr>\n",
       "      <th>embryonic central nervous system</th>\n",
       "      <td>12.884259</td>\n",
       "      <td>11.134021</td>\n",
       "      <td>13.482759</td>\n",
       "    </tr>\n",
       "    <tr>\n",
       "      <th>embryonic dorsal epidermis</th>\n",
       "      <td>11.600840</td>\n",
       "      <td>10.653465</td>\n",
       "      <td>11.813559</td>\n",
       "    </tr>\n",
       "    <tr>\n",
       "      <th>embryonic hindgut</th>\n",
       "      <td>10.025735</td>\n",
       "      <td>9.603604</td>\n",
       "      <td>10.183432</td>\n",
       "    </tr>\n",
       "    <tr>\n",
       "      <th>embryonic midgut</th>\n",
       "      <td>5.694196</td>\n",
       "      <td>5.575419</td>\n",
       "      <td>5.654930</td>\n",
       "    </tr>\n",
       "    <tr>\n",
       "      <th>embryonic ventral epidermis</th>\n",
       "      <td>13.146226</td>\n",
       "      <td>11.934066</td>\n",
       "      <td>13.538462</td>\n",
       "    </tr>\n",
       "    <tr>\n",
       "      <th>embryonic/larval muscle system</th>\n",
       "      <td>12.096070</td>\n",
       "      <td>12.077778</td>\n",
       "      <td>12.170732</td>\n",
       "    </tr>\n",
       "    <tr>\n",
       "      <th>faint ubiquitous</th>\n",
       "      <td>3.813804</td>\n",
       "      <td>3.597656</td>\n",
       "      <td>3.960630</td>\n",
       "    </tr>\n",
       "    <tr>\n",
       "      <th>head mesoderm primordium P2</th>\n",
       "      <td>15.210811</td>\n",
       "      <td>15.347222</td>\n",
       "      <td>15.875000</td>\n",
       "    </tr>\n",
       "    <tr>\n",
       "      <th>hindgut proper primordium</th>\n",
       "      <td>15.037433</td>\n",
       "      <td>14.905405</td>\n",
       "      <td>15.293103</td>\n",
       "    </tr>\n",
       "    <tr>\n",
       "      <th>posterior endoderm primordium</th>\n",
       "      <td>14.784211</td>\n",
       "      <td>15.123288</td>\n",
       "      <td>15.725664</td>\n",
       "    </tr>\n",
       "    <tr>\n",
       "      <th>posterior midgut primordium</th>\n",
       "      <td>7.667630</td>\n",
       "      <td>7.591241</td>\n",
       "      <td>7.790698</td>\n",
       "    </tr>\n",
       "    <tr>\n",
       "      <th>trunk mesoderm primordium</th>\n",
       "      <td>6.296837</td>\n",
       "      <td>6.310559</td>\n",
       "      <td>6.544910</td>\n",
       "    </tr>\n",
       "    <tr>\n",
       "      <th>ubiquitous</th>\n",
       "      <td>1.440195</td>\n",
       "      <td>1.457203</td>\n",
       "      <td>1.523364</td>\n",
       "    </tr>\n",
       "    <tr>\n",
       "      <th>ventral nerve cord</th>\n",
       "      <td>8.087879</td>\n",
       "      <td>8.053846</td>\n",
       "      <td>8.152542</td>\n",
       "    </tr>\n",
       "    <tr>\n",
       "      <th>ventral nerve cord primordium</th>\n",
       "      <td>13.418269</td>\n",
       "      <td>13.180723</td>\n",
       "      <td>13.538462</td>\n",
       "    </tr>\n",
       "    <tr>\n",
       "      <th>yolk nuclei</th>\n",
       "      <td>11.654008</td>\n",
       "      <td>10.770000</td>\n",
       "      <td>11.770270</td>\n",
       "    </tr>\n",
       "  </tbody>\n",
       "</table>\n",
       "</div>"
      ],
      "text/plain": [
       "                                      train        val       test\n",
       "anterior midgut primordium         8.115502   7.654412   8.264706\n",
       "brain primordium                  12.096070  11.934066  12.309859\n",
       "cellular blastoderm                9.063758   8.491935   8.947368\n",
       "embryonic brain                    8.401254   8.341270   8.379653\n",
       "embryonic central nervous system  12.884259  11.134021  13.482759\n",
       "embryonic dorsal epidermis        11.600840  10.653465  11.813559\n",
       "embryonic hindgut                 10.025735   9.603604  10.183432\n",
       "embryonic midgut                   5.694196   5.575419   5.654930\n",
       "embryonic ventral epidermis       13.146226  11.934066  13.538462\n",
       "embryonic/larval muscle system    12.096070  12.077778  12.170732\n",
       "faint ubiquitous                   3.813804   3.597656   3.960630\n",
       "head mesoderm primordium P2       15.210811  15.347222  15.875000\n",
       "hindgut proper primordium         15.037433  14.905405  15.293103\n",
       "posterior endoderm primordium     14.784211  15.123288  15.725664\n",
       "posterior midgut primordium        7.667630   7.591241   7.790698\n",
       "trunk mesoderm primordium          6.296837   6.310559   6.544910\n",
       "ubiquitous                         1.440195   1.457203   1.523364\n",
       "ventral nerve cord                 8.087879   8.053846   8.152542\n",
       "ventral nerve cord primordium     13.418269  13.180723  13.538462\n",
       "yolk nuclei                       11.654008  10.770000  11.770270"
      ]
     },
     "execution_count": 16,
     "metadata": {},
     "output_type": "execute_result"
    }
   ],
   "source": [
    "dm.get_imbalance_ratio()"
   ]
  },
  {
   "cell_type": "code",
   "execution_count": 17,
   "metadata": {
    "collapsed": true
   },
   "outputs": [],
   "source": [
    "config.weight_decay = 0.0\n",
    "config.dropout_keep_prob = 0.5\n",
    "config.gamma = 2\n",
    "config.use_glimpse = \n",
    "config.doubly_stochastic_lambda = 1e-3\n",
    "config.read_time = 5\n",
    "config.batch_size = 64\n",
    "\n",
    "threshold = 0.4\n",
    "train_data = dm.get_train_stream()\n",
    "val_data = dm.get_validation_stream()"
   ]
  },
  {
   "cell_type": "code",
   "execution_count": 18,
   "metadata": {},
   "outputs": [
    {
     "name": "stdout",
     "output_type": "stream",
     "text": [
      "\u001b[32m[1103 17:54:01 @inference_runner.py:82]\u001b[0m InferenceRunner will eval on an InputSource of size 18\n",
      "\u001b[32m[1103 17:54:01 @input_source.py:180]\u001b[0m Setting up the queue 'QueueInput/input_queue' for CPU prefetching ...\n",
      "\u001b[32m[1103 17:54:01 @training.py:90]\u001b[0m Building graph for training tower 0 on device LeastLoadedDeviceSetter-/gpu:0...\n",
      "INFO:tensorflow:Scale of 0 disables regularizer.\n",
      "INFO:tensorflow:Scale of 0 disables regularizer.\n",
      "INFO:tensorflow:Scale of 0 disables regularizer.\n",
      "INFO:tensorflow:Scale of 0 disables regularizer.\n",
      "INFO:tensorflow:Scale of 0 disables regularizer.\n",
      "INFO:tensorflow:Scale of 0 disables regularizer.\n",
      "INFO:tensorflow:Scale of 0 disables regularizer.\n",
      "INFO:tensorflow:Scale of 0 disables regularizer.\n",
      "INFO:tensorflow:Scale of 0 disables regularizer.\n",
      "INFO:tensorflow:Scale of 0 disables regularizer.\n",
      "INFO:tensorflow:Scale of 0 disables regularizer.\n",
      "INFO:tensorflow:Scale of 0 disables regularizer.\n",
      "INFO:tensorflow:Scale of 0 disables regularizer.\n",
      "INFO:tensorflow:Scale of 0 disables regularizer.\n",
      "INFO:tensorflow:Scale of 0 disables regularizer.\n",
      "INFO:tensorflow:Scale of 0 disables regularizer.\n",
      "INFO:tensorflow:Scale of 0 disables regularizer.\n",
      "\u001b[32m[1103 17:54:06 @model_utils.py:47]\u001b[0m \u001b[36mModel Parameters: \n",
      "\u001b[0mname                               shape                  dim\n",
      "---------------------------------  -----------------  -------\n",
      "custom_cnn/conv1/weights:0         [3, 3, 1024, 512]  4718592\n",
      "custom_cnn/conv1/biases:0          [512]                  512\n",
      "custom_cnn/batch_norm1/beta:0      [512]                  512\n",
      "custom_cnn/batch_norm1/gamma:0     [512]                  512\n",
      "rnn/process/read_logits/weights:0  [1024, 1]             1024\n",
      "rnn/process/read_logits/biases:0   [1]                      1\n",
      "rnn/process/gate_att/weights:0     [512, 1]               512\n",
      "rnn/process/gate_att/biases:0      [1]                      1\n",
      "rnn/process/fc_fg/weights:0        [1024, 512]         524288\n",
      "rnn/process/fc_fg/biases:0         [512]                  512\n",
      "rnn/process/fc_ig/weights:0        [1024, 512]         524288\n",
      "rnn/process/fc_ig/biases:0         [512]                  512\n",
      "logits/weights:0                   [512, 20]            10240\n",
      "logits/biases:0                    [20]                    20\u001b[36m\n",
      "Total #vars=14, #param=5781526 (22.05 MB assuming all float32)\u001b[0m\n",
      "\u001b[32m[1103 17:54:06 @base.py:207]\u001b[0m Setup callbacks graph ...\n",
      "\u001b[32m[1103 17:54:06 @input_source.py:180]\u001b[0m Setting up the queue 'DataParallelInferenceRunner/QueueInput/input_queue' for CPU prefetching ...\n",
      "\u001b[32m[1103 17:54:06 @predict.py:51]\u001b[0m Building predictor tower 'InferenceTower0' on device /gpu:0 ...\n",
      "INFO:tensorflow:Scale of 0 disables regularizer.\n",
      "INFO:tensorflow:Scale of 0 disables regularizer.\n",
      "INFO:tensorflow:Scale of 0 disables regularizer.\n",
      "INFO:tensorflow:Scale of 0 disables regularizer.\n",
      "INFO:tensorflow:Scale of 0 disables regularizer.\n",
      "INFO:tensorflow:Scale of 0 disables regularizer.\n",
      "INFO:tensorflow:Scale of 0 disables regularizer.\n",
      "INFO:tensorflow:Scale of 0 disables regularizer.\n",
      "INFO:tensorflow:Scale of 0 disables regularizer.\n",
      "INFO:tensorflow:Scale of 0 disables regularizer.\n",
      "INFO:tensorflow:Scale of 0 disables regularizer.\n",
      "INFO:tensorflow:Scale of 0 disables regularizer.\n",
      "INFO:tensorflow:Scale of 0 disables regularizer.\n",
      "INFO:tensorflow:Scale of 0 disables regularizer.\n",
      "INFO:tensorflow:Scale of 0 disables regularizer.\n",
      "INFO:tensorflow:Scale of 0 disables regularizer.\n",
      "INFO:tensorflow:Scale of 0 disables regularizer.\n",
      "\u001b[32m[1103 17:54:08 @collection.py:139]\u001b[0m Size of these collections were changed in InferenceTower0: (resnet_v2_101_end_points: 141->282)\n",
      "\u001b[32m[1103 17:54:08 @collection.py:152]\u001b[0m These collections were modified but restored in InferenceTower0: (tf.GraphKeys.SUMMARIES: 6->8), (tf.GraphKeys.UPDATE_OPS: 204->206)\n",
      "\u001b[32m[1103 17:54:09 @summary.py:34]\u001b[0m Maintain moving average summary of 1 tensors.\n",
      "\u001b[32m[1103 17:54:09 @graph.py:90]\u001b[0m Applying collection UPDATE_OPS of 204 ops.\n",
      "\u001b[32m[1103 17:54:10 @sessinit.py:136]\u001b[0m Variable global_step:0 in the graph will be not loaded from the checkpoint!\n",
      "\u001b[32m[1103 17:54:10 @sessinit.py:89]\u001b[0m \u001b[5m\u001b[31mWRN\u001b[0m The following variables are in the graph, but not found in the checkpoint: custom_cnn/conv1/weights, custom_cnn/conv1/biases, custom_cnn/batch_norm1/beta, custom_cnn/batch_norm1/gamma, custom_cnn/batch_norm1/moving_mean, custom_cnn/batch_norm1/moving_variance, rnn/process/read_logits/weights, rnn/process/read_logits/biases, rnn/process/gate_att/weights, rnn/process/gate_att/biases, rnn/process/fc_fg/weights, rnn/process/fc_fg/biases, rnn/process/fc_ig/weights, rnn/process/fc_ig/biases, logits/weights, logits/biases, learning_rate, beta1_power, beta2_power\n",
      "\u001b[32m[1103 17:54:10 @sessinit.py:89]\u001b[0m \u001b[5m\u001b[31mWRN\u001b[0m The following variables are in the checkpoint, but not found in the graph: global_step:0, resnet_v2_101/block1/unit_1/bottleneck_v2/conv1/BatchNorm/beta/ExponentialMovingAverage:0, resnet_v2_101/block1/unit_1/bottleneck_v2/conv1/BatchNorm/gamma/ExponentialMovingAverage:0, resnet_v2_101/block1/unit_1/bottleneck_v2/conv1/BatchNorm/moving_mean/ExponentialMovingAverage:0, resnet_v2_101/block1/unit_1/bottleneck_v2/conv1/BatchNorm/moving_variance/ExponentialMovingAverage:0, resnet_v2_101/block1/unit_1/bottleneck_v2/conv1/weights/ExponentialMovingAverage:0, resnet_v2_101/block1/unit_1/bottleneck_v2/conv2/BatchNorm/beta/ExponentialMovingAverage:0, resnet_v2_101/block1/unit_1/bottleneck_v2/conv2/BatchNorm/gamma/ExponentialMovingAverage:0, resnet_v2_101/block1/unit_1/bottleneck_v2/conv2/BatchNorm/moving_mean/ExponentialMovingAverage:0, resnet_v2_101/block1/unit_1/bottleneck_v2/conv2/BatchNorm/moving_variance/ExponentialMovingAverage:0, resnet_v2_101/block1/unit_1/bottleneck_v2/conv2/weights/ExponentialMovingAverage:0, resnet_v2_101/block1/unit_1/bottleneck_v2/conv3/biases/ExponentialMovingAverage:0, resnet_v2_101/block1/unit_1/bottleneck_v2/conv3/weights/ExponentialMovingAverage:0, resnet_v2_101/block1/unit_1/bottleneck_v2/preact/beta/ExponentialMovingAverage:0, resnet_v2_101/block1/unit_1/bottleneck_v2/preact/gamma/ExponentialMovingAverage:0, resnet_v2_101/block1/unit_1/bottleneck_v2/preact/moving_mean/ExponentialMovingAverage:0, resnet_v2_101/block1/unit_1/bottleneck_v2/preact/moving_variance/ExponentialMovingAverage:0, resnet_v2_101/block1/unit_1/bottleneck_v2/shortcut/biases/ExponentialMovingAverage:0, resnet_v2_101/block1/unit_1/bottleneck_v2/shortcut/weights/ExponentialMovingAverage:0, resnet_v2_101/block1/unit_2/bottleneck_v2/conv1/BatchNorm/beta/ExponentialMovingAverage:0, resnet_v2_101/block1/unit_2/bottleneck_v2/conv1/BatchNorm/gamma/ExponentialMovingAverage:0, resnet_v2_101/block1/unit_2/bottleneck_v2/conv1/BatchNorm/moving_mean/ExponentialMovingAverage:0, resnet_v2_101/block1/unit_2/bottleneck_v2/conv1/BatchNorm/moving_variance/ExponentialMovingAverage:0, resnet_v2_101/block1/unit_2/bottleneck_v2/conv1/weights/ExponentialMovingAverage:0, resnet_v2_101/block1/unit_2/bottleneck_v2/conv2/BatchNorm/beta/ExponentialMovingAverage:0, resnet_v2_101/block1/unit_2/bottleneck_v2/conv2/BatchNorm/gamma/ExponentialMovingAverage:0, resnet_v2_101/block1/unit_2/bottleneck_v2/conv2/BatchNorm/moving_mean/ExponentialMovingAverage:0, resnet_v2_101/block1/unit_2/bottleneck_v2/conv2/BatchNorm/moving_variance/ExponentialMovingAverage:0, resnet_v2_101/block1/unit_2/bottleneck_v2/conv2/weights/ExponentialMovingAverage:0, resnet_v2_101/block1/unit_2/bottleneck_v2/conv3/biases/ExponentialMovingAverage:0, resnet_v2_101/block1/unit_2/bottleneck_v2/conv3/weights/ExponentialMovingAverage:0, resnet_v2_101/block1/unit_2/bottleneck_v2/preact/beta/ExponentialMovingAverage:0, resnet_v2_101/block1/unit_2/bottleneck_v2/preact/gamma/ExponentialMovingAverage:0, resnet_v2_101/block1/unit_2/bottleneck_v2/preact/moving_mean/ExponentialMovingAverage:0, resnet_v2_101/block1/unit_2/bottleneck_v2/preact/moving_variance/ExponentialMovingAverage:0, resnet_v2_101/block1/unit_3/bottleneck_v2/conv1/BatchNorm/beta/ExponentialMovingAverage:0, resnet_v2_101/block1/unit_3/bottleneck_v2/conv1/BatchNorm/gamma/ExponentialMovingAverage:0, resnet_v2_101/block1/unit_3/bottleneck_v2/conv1/BatchNorm/moving_mean/ExponentialMovingAverage:0, resnet_v2_101/block1/unit_3/bottleneck_v2/conv1/BatchNorm/moving_variance/ExponentialMovingAverage:0, resnet_v2_101/block1/unit_3/bottleneck_v2/conv1/weights/ExponentialMovingAverage:0, resnet_v2_101/block1/unit_3/bottleneck_v2/conv2/BatchNorm/beta/ExponentialMovingAverage:0, resnet_v2_101/block1/unit_3/bottleneck_v2/conv2/BatchNorm/gamma/ExponentialMovingAverage:0, resnet_v2_101/block1/unit_3/bottleneck_v2/conv2/BatchNorm/moving_mean/ExponentialMovingAverage:0, resnet_v2_101/block1/unit_3/bottleneck_v2/conv2/BatchNorm/moving_variance/ExponentialMovingAverage:0, resnet_v2_101/block1/unit_3/bottleneck_v2/conv2/weights/ExponentialMovingAverage:0, resnet_v2_101/block1/unit_3/bottleneck_v2/conv3/biases/ExponentialMovingAverage:0, resnet_v2_101/block1/unit_3/bottleneck_v2/conv3/weights/ExponentialMovingAverage:0, resnet_v2_101/block1/unit_3/bottleneck_v2/preact/beta/ExponentialMovingAverage:0, resnet_v2_101/block1/unit_3/bottleneck_v2/preact/gamma/ExponentialMovingAverage:0, resnet_v2_101/block1/unit_3/bottleneck_v2/preact/moving_mean/ExponentialMovingAverage:0, resnet_v2_101/block1/unit_3/bottleneck_v2/preact/moving_variance/ExponentialMovingAverage:0, resnet_v2_101/block2/unit_1/bottleneck_v2/conv1/BatchNorm/beta/ExponentialMovingAverage:0, resnet_v2_101/block2/unit_1/bottleneck_v2/conv1/BatchNorm/gamma/ExponentialMovingAverage:0, resnet_v2_101/block2/unit_1/bottleneck_v2/conv1/BatchNorm/moving_mean/ExponentialMovingAverage:0, resnet_v2_101/block2/unit_1/bottleneck_v2/conv1/BatchNorm/moving_variance/ExponentialMovingAverage:0, resnet_v2_101/block2/unit_1/bottleneck_v2/conv1/weights/ExponentialMovingAverage:0, resnet_v2_101/block2/unit_1/bottleneck_v2/conv2/BatchNorm/beta/ExponentialMovingAverage:0, resnet_v2_101/block2/unit_1/bottleneck_v2/conv2/BatchNorm/gamma/ExponentialMovingAverage:0, resnet_v2_101/block2/unit_1/bottleneck_v2/conv2/BatchNorm/moving_mean/ExponentialMovingAverage:0, resnet_v2_101/block2/unit_1/bottleneck_v2/conv2/BatchNorm/moving_variance/ExponentialMovingAverage:0, resnet_v2_101/block2/unit_1/bottleneck_v2/conv2/weights/ExponentialMovingAverage:0, resnet_v2_101/block2/unit_1/bottleneck_v2/conv3/biases/ExponentialMovingAverage:0, resnet_v2_101/block2/unit_1/bottleneck_v2/conv3/weights/ExponentialMovingAverage:0, resnet_v2_101/block2/unit_1/bottleneck_v2/preact/beta/ExponentialMovingAverage:0, resnet_v2_101/block2/unit_1/bottleneck_v2/preact/gamma/ExponentialMovingAverage:0, resnet_v2_101/block2/unit_1/bottleneck_v2/preact/moving_mean/ExponentialMovingAverage:0, resnet_v2_101/block2/unit_1/bottleneck_v2/preact/moving_variance/ExponentialMovingAverage:0, resnet_v2_101/block2/unit_1/bottleneck_v2/shortcut/biases/ExponentialMovingAverage:0, resnet_v2_101/block2/unit_1/bottleneck_v2/shortcut/weights/ExponentialMovingAverage:0, resnet_v2_101/block2/unit_2/bottleneck_v2/conv1/BatchNorm/beta/ExponentialMovingAverage:0, resnet_v2_101/block2/unit_2/bottleneck_v2/conv1/BatchNorm/gamma/ExponentialMovingAverage:0, resnet_v2_101/block2/unit_2/bottleneck_v2/conv1/BatchNorm/moving_mean/ExponentialMovingAverage:0, resnet_v2_101/block2/unit_2/bottleneck_v2/conv1/BatchNorm/moving_variance/ExponentialMovingAverage:0, resnet_v2_101/block2/unit_2/bottleneck_v2/conv1/weights/ExponentialMovingAverage:0, resnet_v2_101/block2/unit_2/bottleneck_v2/conv2/BatchNorm/beta/ExponentialMovingAverage:0, resnet_v2_101/block2/unit_2/bottleneck_v2/conv2/BatchNorm/gamma/ExponentialMovingAverage:0, resnet_v2_101/block2/unit_2/bottleneck_v2/conv2/BatchNorm/moving_mean/ExponentialMovingAverage:0, resnet_v2_101/block2/unit_2/bottleneck_v2/conv2/BatchNorm/moving_variance/ExponentialMovingAverage:0, resnet_v2_101/block2/unit_2/bottleneck_v2/conv2/weights/ExponentialMovingAverage:0, resnet_v2_101/block2/unit_2/bottleneck_v2/conv3/biases/ExponentialMovingAverage:0, resnet_v2_101/block2/unit_2/bottleneck_v2/conv3/weights/ExponentialMovingAverage:0, resnet_v2_101/block2/unit_2/bottleneck_v2/preact/beta/ExponentialMovingAverage:0, resnet_v2_101/block2/unit_2/bottleneck_v2/preact/gamma/ExponentialMovingAverage:0, resnet_v2_101/block2/unit_2/bottleneck_v2/preact/moving_mean/ExponentialMovingAverage:0, resnet_v2_101/block2/unit_2/bottleneck_v2/preact/moving_variance/ExponentialMovingAverage:0, resnet_v2_101/block2/unit_3/bottleneck_v2/conv1/BatchNorm/beta/ExponentialMovingAverage:0, resnet_v2_101/block2/unit_3/bottleneck_v2/conv1/BatchNorm/gamma/ExponentialMovingAverage:0, resnet_v2_101/block2/unit_3/bottleneck_v2/conv1/BatchNorm/moving_mean/ExponentialMovingAverage:0, resnet_v2_101/block2/unit_3/bottleneck_v2/conv1/BatchNorm/moving_variance/ExponentialMovingAverage:0, resnet_v2_101/block2/unit_3/bottleneck_v2/conv1/weights/ExponentialMovingAverage:0, resnet_v2_101/block2/unit_3/bottleneck_v2/conv2/BatchNorm/beta/ExponentialMovingAverage:0, resnet_v2_101/block2/unit_3/bottleneck_v2/conv2/BatchNorm/gamma/ExponentialMovingAverage:0, resnet_v2_101/block2/unit_3/bottleneck_v2/conv2/BatchNorm/moving_mean/ExponentialMovingAverage:0, resnet_v2_101/block2/unit_3/bottleneck_v2/conv2/BatchNorm/moving_variance/ExponentialMovingAverage:0, resnet_v2_101/block2/unit_3/bottleneck_v2/conv2/weights/ExponentialMovingAverage:0, resnet_v2_101/block2/unit_3/bottleneck_v2/conv3/biases/ExponentialMovingAverage:0, resnet_v2_101/block2/unit_3/bottleneck_v2/conv3/weights/ExponentialMovingAverage:0, resnet_v2_101/block2/unit_3/bottleneck_v2/preact/beta/ExponentialMovingAverage:0, resnet_v2_101/block2/unit_3/bottleneck_v2/preact/gamma/ExponentialMovingAverage:0, resnet_v2_101/block2/unit_3/bottleneck_v2/preact/moving_mean/ExponentialMovingAverage:0, resnet_v2_101/block2/unit_3/bottleneck_v2/preact/moving_variance/ExponentialMovingAverage:0, resnet_v2_101/block2/unit_4/bottleneck_v2/conv1/BatchNorm/beta/ExponentialMovingAverage:0, resnet_v2_101/block2/unit_4/bottleneck_v2/conv1/BatchNorm/gamma/ExponentialMovingAverage:0, resnet_v2_101/block2/unit_4/bottleneck_v2/conv1/BatchNorm/moving_mean/ExponentialMovingAverage:0, resnet_v2_101/block2/unit_4/bottleneck_v2/conv1/BatchNorm/moving_variance/ExponentialMovingAverage:0, resnet_v2_101/block2/unit_4/bottleneck_v2/conv1/weights/ExponentialMovingAverage:0, resnet_v2_101/block2/unit_4/bottleneck_v2/conv2/BatchNorm/beta/ExponentialMovingAverage:0, resnet_v2_101/block2/unit_4/bottleneck_v2/conv2/BatchNorm/gamma/ExponentialMovingAverage:0, resnet_v2_101/block2/unit_4/bottleneck_v2/conv2/BatchNorm/moving_mean/ExponentialMovingAverage:0, resnet_v2_101/block2/unit_4/bottleneck_v2/conv2/BatchNorm/moving_variance/ExponentialMovingAverage:0, resnet_v2_101/block2/unit_4/bottleneck_v2/conv2/weights/ExponentialMovingAverage:0, resnet_v2_101/block2/unit_4/bottleneck_v2/conv3/biases/ExponentialMovingAverage:0, resnet_v2_101/block2/unit_4/bottleneck_v2/conv3/weights/ExponentialMovingAverage:0, resnet_v2_101/block2/unit_4/bottleneck_v2/preact/beta/ExponentialMovingAverage:0, resnet_v2_101/block2/unit_4/bottleneck_v2/preact/gamma/ExponentialMovingAverage:0, resnet_v2_101/block2/unit_4/bottleneck_v2/preact/moving_mean/ExponentialMovingAverage:0, resnet_v2_101/block2/unit_4/bottleneck_v2/preact/moving_variance/ExponentialMovingAverage:0, resnet_v2_101/block3/unit_1/bottleneck_v2/conv1/BatchNorm/beta/ExponentialMovingAverage:0, resnet_v2_101/block3/unit_1/bottleneck_v2/conv1/BatchNorm/gamma/ExponentialMovingAverage:0, resnet_v2_101/block3/unit_1/bottleneck_v2/conv1/BatchNorm/moving_mean/ExponentialMovingAverage:0, resnet_v2_101/block3/unit_1/bottleneck_v2/conv1/BatchNorm/moving_variance/ExponentialMovingAverage:0, resnet_v2_101/block3/unit_1/bottleneck_v2/conv1/weights/ExponentialMovingAverage:0, resnet_v2_101/block3/unit_1/bottleneck_v2/conv2/BatchNorm/beta/ExponentialMovingAverage:0, resnet_v2_101/block3/unit_1/bottleneck_v2/conv2/BatchNorm/gamma/ExponentialMovingAverage:0, resnet_v2_101/block3/unit_1/bottleneck_v2/conv2/BatchNorm/moving_mean/ExponentialMovingAverage:0, resnet_v2_101/block3/unit_1/bottleneck_v2/conv2/BatchNorm/moving_variance/ExponentialMovingAverage:0, resnet_v2_101/block3/unit_1/bottleneck_v2/conv2/weights/ExponentialMovingAverage:0, resnet_v2_101/block3/unit_1/bottleneck_v2/conv3/biases/ExponentialMovingAverage:0, resnet_v2_101/block3/unit_1/bottleneck_v2/conv3/weights/ExponentialMovingAverage:0, resnet_v2_101/block3/unit_1/bottleneck_v2/preact/beta/ExponentialMovingAverage:0, resnet_v2_101/block3/unit_1/bottleneck_v2/preact/gamma/ExponentialMovingAverage:0, resnet_v2_101/block3/unit_1/bottleneck_v2/preact/moving_mean/ExponentialMovingAverage:0, resnet_v2_101/block3/unit_1/bottleneck_v2/preact/moving_variance/ExponentialMovingAverage:0, resnet_v2_101/block3/unit_1/bottleneck_v2/shortcut/biases/ExponentialMovingAverage:0, resnet_v2_101/block3/unit_1/bottleneck_v2/shortcut/weights/ExponentialMovingAverage:0, resnet_v2_101/block3/unit_10/bottleneck_v2/conv1/BatchNorm/beta/ExponentialMovingAverage:0, resnet_v2_101/block3/unit_10/bottleneck_v2/conv1/BatchNorm/gamma/ExponentialMovingAverage:0, resnet_v2_101/block3/unit_10/bottleneck_v2/conv1/BatchNorm/moving_mean/ExponentialMovingAverage:0, resnet_v2_101/block3/unit_10/bottleneck_v2/conv1/BatchNorm/moving_variance/ExponentialMovingAverage:0, resnet_v2_101/block3/unit_10/bottleneck_v2/conv1/weights/ExponentialMovingAverage:0, resnet_v2_101/block3/unit_10/bottleneck_v2/conv2/BatchNorm/beta/ExponentialMovingAverage:0, resnet_v2_101/block3/unit_10/bottleneck_v2/conv2/BatchNorm/gamma/ExponentialMovingAverage:0, resnet_v2_101/block3/unit_10/bottleneck_v2/conv2/BatchNorm/moving_mean/ExponentialMovingAverage:0, resnet_v2_101/block3/unit_10/bottleneck_v2/conv2/BatchNorm/moving_variance/ExponentialMovingAverage:0, resnet_v2_101/block3/unit_10/bottleneck_v2/conv2/weights/ExponentialMovingAverage:0, resnet_v2_101/block3/unit_10/bottleneck_v2/conv3/biases/ExponentialMovingAverage:0, resnet_v2_101/block3/unit_10/bottleneck_v2/conv3/weights/ExponentialMovingAverage:0, resnet_v2_101/block3/unit_10/bottleneck_v2/preact/beta/ExponentialMovingAverage:0, resnet_v2_101/block3/unit_10/bottleneck_v2/preact/gamma/ExponentialMovingAverage:0, resnet_v2_101/block3/unit_10/bottleneck_v2/preact/moving_mean/ExponentialMovingAverage:0, resnet_v2_101/block3/unit_10/bottleneck_v2/preact/moving_variance/ExponentialMovingAverage:0, resnet_v2_101/block3/unit_11/bottleneck_v2/conv1/BatchNorm/beta/ExponentialMovingAverage:0, resnet_v2_101/block3/unit_11/bottleneck_v2/conv1/BatchNorm/gamma/ExponentialMovingAverage:0, resnet_v2_101/block3/unit_11/bottleneck_v2/conv1/BatchNorm/moving_mean/ExponentialMovingAverage:0, resnet_v2_101/block3/unit_11/bottleneck_v2/conv1/BatchNorm/moving_variance/ExponentialMovingAverage:0, resnet_v2_101/block3/unit_11/bottleneck_v2/conv1/weights/ExponentialMovingAverage:0, resnet_v2_101/block3/unit_11/bottleneck_v2/conv2/BatchNorm/beta/ExponentialMovingAverage:0, resnet_v2_101/block3/unit_11/bottleneck_v2/conv2/BatchNorm/gamma/ExponentialMovingAverage:0, resnet_v2_101/block3/unit_11/bottleneck_v2/conv2/BatchNorm/moving_mean/ExponentialMovingAverage:0, resnet_v2_101/block3/unit_11/bottleneck_v2/conv2/BatchNorm/moving_variance/ExponentialMovingAverage:0, resnet_v2_101/block3/unit_11/bottleneck_v2/conv2/weights/ExponentialMovingAverage:0, resnet_v2_101/block3/unit_11/bottleneck_v2/conv3/biases/ExponentialMovingAverage:0, resnet_v2_101/block3/unit_11/bottleneck_v2/conv3/weights/ExponentialMovingAverage:0, resnet_v2_101/block3/unit_11/bottleneck_v2/preact/beta/ExponentialMovingAverage:0, resnet_v2_101/block3/unit_11/bottleneck_v2/preact/gamma/ExponentialMovingAverage:0, resnet_v2_101/block3/unit_11/bottleneck_v2/preact/moving_mean/ExponentialMovingAverage:0, resnet_v2_101/block3/unit_11/bottleneck_v2/preact/moving_variance/ExponentialMovingAverage:0, resnet_v2_101/block3/unit_12/bottleneck_v2/conv1/BatchNorm/beta/ExponentialMovingAverage:0, resnet_v2_101/block3/unit_12/bottleneck_v2/conv1/BatchNorm/gamma/ExponentialMovingAverage:0, resnet_v2_101/block3/unit_12/bottleneck_v2/conv1/BatchNorm/moving_mean/ExponentialMovingAverage:0, resnet_v2_101/block3/unit_12/bottleneck_v2/conv1/BatchNorm/moving_variance/ExponentialMovingAverage:0, resnet_v2_101/block3/unit_12/bottleneck_v2/conv1/weights/ExponentialMovingAverage:0, resnet_v2_101/block3/unit_12/bottleneck_v2/conv2/BatchNorm/beta/ExponentialMovingAverage:0, resnet_v2_101/block3/unit_12/bottleneck_v2/conv2/BatchNorm/gamma/ExponentialMovingAverage:0, resnet_v2_101/block3/unit_12/bottleneck_v2/conv2/BatchNorm/moving_mean/ExponentialMovingAverage:0, resnet_v2_101/block3/unit_12/bottleneck_v2/conv2/BatchNorm/moving_variance/ExponentialMovingAverage:0, resnet_v2_101/block3/unit_12/bottleneck_v2/conv2/weights/ExponentialMovingAverage:0, resnet_v2_101/block3/unit_12/bottleneck_v2/conv3/biases/ExponentialMovingAverage:0, resnet_v2_101/block3/unit_12/bottleneck_v2/conv3/weights/ExponentialMovingAverage:0, resnet_v2_101/block3/unit_12/bottleneck_v2/preact/beta/ExponentialMovingAverage:0, resnet_v2_101/block3/unit_12/bottleneck_v2/preact/gamma/ExponentialMovingAverage:0, resnet_v2_101/block3/unit_12/bottleneck_v2/preact/moving_mean/ExponentialMovingAverage:0, resnet_v2_101/block3/unit_12/bottleneck_v2/preact/moving_variance/ExponentialMovingAverage:0, resnet_v2_101/block3/unit_13/bottleneck_v2/conv1/BatchNorm/beta/ExponentialMovingAverage:0, resnet_v2_101/block3/unit_13/bottleneck_v2/conv1/BatchNorm/gamma/ExponentialMovingAverage:0, resnet_v2_101/block3/unit_13/bottleneck_v2/conv1/BatchNorm/moving_mean/ExponentialMovingAverage:0, resnet_v2_101/block3/unit_13/bottleneck_v2/conv1/BatchNorm/moving_variance/ExponentialMovingAverage:0, resnet_v2_101/block3/unit_13/bottleneck_v2/conv1/weights/ExponentialMovingAverage:0, resnet_v2_101/block3/unit_13/bottleneck_v2/conv2/BatchNorm/beta/ExponentialMovingAverage:0, resnet_v2_101/block3/unit_13/bottleneck_v2/conv2/BatchNorm/gamma/ExponentialMovingAverage:0, resnet_v2_101/block3/unit_13/bottleneck_v2/conv2/BatchNorm/moving_mean/ExponentialMovingAverage:0, resnet_v2_101/block3/unit_13/bottleneck_v2/conv2/BatchNorm/moving_variance/ExponentialMovingAverage:0, resnet_v2_101/block3/unit_13/bottleneck_v2/conv2/weights/ExponentialMovingAverage:0, resnet_v2_101/block3/unit_13/bottleneck_v2/conv3/biases/ExponentialMovingAverage:0, resnet_v2_101/block3/unit_13/bottleneck_v2/conv3/weights/ExponentialMovingAverage:0, resnet_v2_101/block3/unit_13/bottleneck_v2/preact/beta/ExponentialMovingAverage:0, resnet_v2_101/block3/unit_13/bottleneck_v2/preact/gamma/ExponentialMovingAverage:0, resnet_v2_101/block3/unit_13/bottleneck_v2/preact/moving_mean/ExponentialMovingAverage:0, resnet_v2_101/block3/unit_13/bottleneck_v2/preact/moving_variance/ExponentialMovingAverage:0, resnet_v2_101/block3/unit_14/bottleneck_v2/conv1/BatchNorm/beta/ExponentialMovingAverage:0, resnet_v2_101/block3/unit_14/bottleneck_v2/conv1/BatchNorm/gamma/ExponentialMovingAverage:0, resnet_v2_101/block3/unit_14/bottleneck_v2/conv1/BatchNorm/moving_mean/ExponentialMovingAverage:0, resnet_v2_101/block3/unit_14/bottleneck_v2/conv1/BatchNorm/moving_variance/ExponentialMovingAverage:0, resnet_v2_101/block3/unit_14/bottleneck_v2/conv1/weights/ExponentialMovingAverage:0, resnet_v2_101/block3/unit_14/bottleneck_v2/conv2/BatchNorm/beta/ExponentialMovingAverage:0, resnet_v2_101/block3/unit_14/bottleneck_v2/conv2/BatchNorm/gamma/ExponentialMovingAverage:0, resnet_v2_101/block3/unit_14/bottleneck_v2/conv2/BatchNorm/moving_mean/ExponentialMovingAverage:0, resnet_v2_101/block3/unit_14/bottleneck_v2/conv2/BatchNorm/moving_variance/ExponentialMovingAverage:0, resnet_v2_101/block3/unit_14/bottleneck_v2/conv2/weights/ExponentialMovingAverage:0, resnet_v2_101/block3/unit_14/bottleneck_v2/conv3/biases/ExponentialMovingAverage:0, resnet_v2_101/block3/unit_14/bottleneck_v2/conv3/weights/ExponentialMovingAverage:0, resnet_v2_101/block3/unit_14/bottleneck_v2/preact/beta/ExponentialMovingAverage:0, resnet_v2_101/block3/unit_14/bottleneck_v2/preact/gamma/ExponentialMovingAverage:0, resnet_v2_101/block3/unit_14/bottleneck_v2/preact/moving_mean/ExponentialMovingAverage:0, resnet_v2_101/block3/unit_14/bottleneck_v2/preact/moving_variance/ExponentialMovingAverage:0, resnet_v2_101/block3/unit_15/bottleneck_v2/conv1/BatchNorm/beta/ExponentialMovingAverage:0, resnet_v2_101/block3/unit_15/bottleneck_v2/conv1/BatchNorm/gamma/ExponentialMovingAverage:0, resnet_v2_101/block3/unit_15/bottleneck_v2/conv1/BatchNorm/moving_mean/ExponentialMovingAverage:0, resnet_v2_101/block3/unit_15/bottleneck_v2/conv1/BatchNorm/moving_variance/ExponentialMovingAverage:0, resnet_v2_101/block3/unit_15/bottleneck_v2/conv1/weights/ExponentialMovingAverage:0, resnet_v2_101/block3/unit_15/bottleneck_v2/conv2/BatchNorm/beta/ExponentialMovingAverage:0, resnet_v2_101/block3/unit_15/bottleneck_v2/conv2/BatchNorm/gamma/ExponentialMovingAverage:0, resnet_v2_101/block3/unit_15/bottleneck_v2/conv2/BatchNorm/moving_mean/ExponentialMovingAverage:0, resnet_v2_101/block3/unit_15/bottleneck_v2/conv2/BatchNorm/moving_variance/ExponentialMovingAverage:0, resnet_v2_101/block3/unit_15/bottleneck_v2/conv2/weights/ExponentialMovingAverage:0, resnet_v2_101/block3/unit_15/bottleneck_v2/conv3/biases/ExponentialMovingAverage:0, resnet_v2_101/block3/unit_15/bottleneck_v2/conv3/weights/ExponentialMovingAverage:0, resnet_v2_101/block3/unit_15/bottleneck_v2/preact/beta/ExponentialMovingAverage:0, resnet_v2_101/block3/unit_15/bottleneck_v2/preact/gamma/ExponentialMovingAverage:0, resnet_v2_101/block3/unit_15/bottleneck_v2/preact/moving_mean/ExponentialMovingAverage:0, resnet_v2_101/block3/unit_15/bottleneck_v2/preact/moving_variance/ExponentialMovingAverage:0, resnet_v2_101/block3/unit_16/bottleneck_v2/conv1/BatchNorm/beta/ExponentialMovingAverage:0, resnet_v2_101/block3/unit_16/bottleneck_v2/conv1/BatchNorm/gamma/ExponentialMovingAverage:0, resnet_v2_101/block3/unit_16/bottleneck_v2/conv1/BatchNorm/moving_mean/ExponentialMovingAverage:0, resnet_v2_101/block3/unit_16/bottleneck_v2/conv1/BatchNorm/moving_variance/ExponentialMovingAverage:0, resnet_v2_101/block3/unit_16/bottleneck_v2/conv1/weights/ExponentialMovingAverage:0, resnet_v2_101/block3/unit_16/bottleneck_v2/conv2/BatchNorm/beta/ExponentialMovingAverage:0, resnet_v2_101/block3/unit_16/bottleneck_v2/conv2/BatchNorm/gamma/ExponentialMovingAverage:0, resnet_v2_101/block3/unit_16/bottleneck_v2/conv2/BatchNorm/moving_mean/ExponentialMovingAverage:0, resnet_v2_101/block3/unit_16/bottleneck_v2/conv2/BatchNorm/moving_variance/ExponentialMovingAverage:0, resnet_v2_101/block3/unit_16/bottleneck_v2/conv2/weights/ExponentialMovingAverage:0, resnet_v2_101/block3/unit_16/bottleneck_v2/conv3/biases/ExponentialMovingAverage:0, resnet_v2_101/block3/unit_16/bottleneck_v2/conv3/weights/ExponentialMovingAverage:0, resnet_v2_101/block3/unit_16/bottleneck_v2/preact/beta/ExponentialMovingAverage:0, resnet_v2_101/block3/unit_16/bottleneck_v2/preact/gamma/ExponentialMovingAverage:0, resnet_v2_101/block3/unit_16/bottleneck_v2/preact/moving_mean/ExponentialMovingAverage:0, resnet_v2_101/block3/unit_16/bottleneck_v2/preact/moving_variance/ExponentialMovingAverage:0, resnet_v2_101/block3/unit_17/bottleneck_v2/conv1/BatchNorm/beta/ExponentialMovingAverage:0, resnet_v2_101/block3/unit_17/bottleneck_v2/conv1/BatchNorm/gamma/ExponentialMovingAverage:0, resnet_v2_101/block3/unit_17/bottleneck_v2/conv1/BatchNorm/moving_mean/ExponentialMovingAverage:0, resnet_v2_101/block3/unit_17/bottleneck_v2/conv1/BatchNorm/moving_variance/ExponentialMovingAverage:0, resnet_v2_101/block3/unit_17/bottleneck_v2/conv1/weights/ExponentialMovingAverage:0, resnet_v2_101/block3/unit_17/bottleneck_v2/conv2/BatchNorm/beta/ExponentialMovingAverage:0, resnet_v2_101/block3/unit_17/bottleneck_v2/conv2/BatchNorm/gamma/ExponentialMovingAverage:0, resnet_v2_101/block3/unit_17/bottleneck_v2/conv2/BatchNorm/moving_mean/ExponentialMovingAverage:0, resnet_v2_101/block3/unit_17/bottleneck_v2/conv2/BatchNorm/moving_variance/ExponentialMovingAverage:0, resnet_v2_101/block3/unit_17/bottleneck_v2/conv2/weights/ExponentialMovingAverage:0, resnet_v2_101/block3/unit_17/bottleneck_v2/conv3/biases/ExponentialMovingAverage:0, resnet_v2_101/block3/unit_17/bottleneck_v2/conv3/weights/ExponentialMovingAverage:0, resnet_v2_101/block3/unit_17/bottleneck_v2/preact/beta/ExponentialMovingAverage:0, resnet_v2_101/block3/unit_17/bottleneck_v2/preact/gamma/ExponentialMovingAverage:0, resnet_v2_101/block3/unit_17/bottleneck_v2/preact/moving_mean/ExponentialMovingAverage:0, resnet_v2_101/block3/unit_17/bottleneck_v2/preact/moving_variance/ExponentialMovingAverage:0, resnet_v2_101/block3/unit_18/bottleneck_v2/conv1/BatchNorm/beta/ExponentialMovingAverage:0, resnet_v2_101/block3/unit_18/bottleneck_v2/conv1/BatchNorm/gamma/ExponentialMovingAverage:0, resnet_v2_101/block3/unit_18/bottleneck_v2/conv1/BatchNorm/moving_mean/ExponentialMovingAverage:0, resnet_v2_101/block3/unit_18/bottleneck_v2/conv1/BatchNorm/moving_variance/ExponentialMovingAverage:0, resnet_v2_101/block3/unit_18/bottleneck_v2/conv1/weights/ExponentialMovingAverage:0, resnet_v2_101/block3/unit_18/bottleneck_v2/conv2/BatchNorm/beta/ExponentialMovingAverage:0, resnet_v2_101/block3/unit_18/bottleneck_v2/conv2/BatchNorm/gamma/ExponentialMovingAverage:0, resnet_v2_101/block3/unit_18/bottleneck_v2/conv2/BatchNorm/moving_mean/ExponentialMovingAverage:0, resnet_v2_101/block3/unit_18/bottleneck_v2/conv2/BatchNorm/moving_variance/ExponentialMovingAverage:0, resnet_v2_101/block3/unit_18/bottleneck_v2/conv2/weights/ExponentialMovingAverage:0, resnet_v2_101/block3/unit_18/bottleneck_v2/conv3/biases/ExponentialMovingAverage:0, resnet_v2_101/block3/unit_18/bottleneck_v2/conv3/weights/ExponentialMovingAverage:0, resnet_v2_101/block3/unit_18/bottleneck_v2/preact/beta/ExponentialMovingAverage:0, resnet_v2_101/block3/unit_18/bottleneck_v2/preact/gamma/ExponentialMovingAverage:0, resnet_v2_101/block3/unit_18/bottleneck_v2/preact/moving_mean/ExponentialMovingAverage:0, resnet_v2_101/block3/unit_18/bottleneck_v2/preact/moving_variance/ExponentialMovingAverage:0, resnet_v2_101/block3/unit_19/bottleneck_v2/conv1/BatchNorm/beta/ExponentialMovingAverage:0, resnet_v2_101/block3/unit_19/bottleneck_v2/conv1/BatchNorm/gamma/ExponentialMovingAverage:0, resnet_v2_101/block3/unit_19/bottleneck_v2/conv1/BatchNorm/moving_mean/ExponentialMovingAverage:0, resnet_v2_101/block3/unit_19/bottleneck_v2/conv1/BatchNorm/moving_variance/ExponentialMovingAverage:0, resnet_v2_101/block3/unit_19/bottleneck_v2/conv1/weights/ExponentialMovingAverage:0, resnet_v2_101/block3/unit_19/bottleneck_v2/conv2/BatchNorm/beta/ExponentialMovingAverage:0, resnet_v2_101/block3/unit_19/bottleneck_v2/conv2/BatchNorm/gamma/ExponentialMovingAverage:0, resnet_v2_101/block3/unit_19/bottleneck_v2/conv2/BatchNorm/moving_mean/ExponentialMovingAverage:0, resnet_v2_101/block3/unit_19/bottleneck_v2/conv2/BatchNorm/moving_variance/ExponentialMovingAverage:0, resnet_v2_101/block3/unit_19/bottleneck_v2/conv2/weights/ExponentialMovingAverage:0, resnet_v2_101/block3/unit_19/bottleneck_v2/conv3/biases/ExponentialMovingAverage:0, resnet_v2_101/block3/unit_19/bottleneck_v2/conv3/weights/ExponentialMovingAverage:0, resnet_v2_101/block3/unit_19/bottleneck_v2/preact/beta/ExponentialMovingAverage:0, resnet_v2_101/block3/unit_19/bottleneck_v2/preact/gamma/ExponentialMovingAverage:0, resnet_v2_101/block3/unit_19/bottleneck_v2/preact/moving_mean/ExponentialMovingAverage:0, resnet_v2_101/block3/unit_19/bottleneck_v2/preact/moving_variance/ExponentialMovingAverage:0, resnet_v2_101/block3/unit_2/bottleneck_v2/conv1/BatchNorm/beta/ExponentialMovingAverage:0, resnet_v2_101/block3/unit_2/bottleneck_v2/conv1/BatchNorm/gamma/ExponentialMovingAverage:0, resnet_v2_101/block3/unit_2/bottleneck_v2/conv1/BatchNorm/moving_mean/ExponentialMovingAverage:0, resnet_v2_101/block3/unit_2/bottleneck_v2/conv1/BatchNorm/moving_variance/ExponentialMovingAverage:0, resnet_v2_101/block3/unit_2/bottleneck_v2/conv1/weights/ExponentialMovingAverage:0, resnet_v2_101/block3/unit_2/bottleneck_v2/conv2/BatchNorm/beta/ExponentialMovingAverage:0, resnet_v2_101/block3/unit_2/bottleneck_v2/conv2/BatchNorm/gamma/ExponentialMovingAverage:0, resnet_v2_101/block3/unit_2/bottleneck_v2/conv2/BatchNorm/moving_mean/ExponentialMovingAverage:0, resnet_v2_101/block3/unit_2/bottleneck_v2/conv2/BatchNorm/moving_variance/ExponentialMovingAverage:0, resnet_v2_101/block3/unit_2/bottleneck_v2/conv2/weights/ExponentialMovingAverage:0, resnet_v2_101/block3/unit_2/bottleneck_v2/conv3/biases/ExponentialMovingAverage:0, resnet_v2_101/block3/unit_2/bottleneck_v2/conv3/weights/ExponentialMovingAverage:0, resnet_v2_101/block3/unit_2/bottleneck_v2/preact/beta/ExponentialMovingAverage:0, resnet_v2_101/block3/unit_2/bottleneck_v2/preact/gamma/ExponentialMovingAverage:0, resnet_v2_101/block3/unit_2/bottleneck_v2/preact/moving_mean/ExponentialMovingAverage:0, resnet_v2_101/block3/unit_2/bottleneck_v2/preact/moving_variance/ExponentialMovingAverage:0, resnet_v2_101/block3/unit_20/bottleneck_v2/conv1/BatchNorm/beta/ExponentialMovingAverage:0, resnet_v2_101/block3/unit_20/bottleneck_v2/conv1/BatchNorm/gamma/ExponentialMovingAverage:0, resnet_v2_101/block3/unit_20/bottleneck_v2/conv1/BatchNorm/moving_mean/ExponentialMovingAverage:0, resnet_v2_101/block3/unit_20/bottleneck_v2/conv1/BatchNorm/moving_variance/ExponentialMovingAverage:0, resnet_v2_101/block3/unit_20/bottleneck_v2/conv1/weights/ExponentialMovingAverage:0, resnet_v2_101/block3/unit_20/bottleneck_v2/conv2/BatchNorm/beta/ExponentialMovingAverage:0, resnet_v2_101/block3/unit_20/bottleneck_v2/conv2/BatchNorm/gamma/ExponentialMovingAverage:0, resnet_v2_101/block3/unit_20/bottleneck_v2/conv2/BatchNorm/moving_mean/ExponentialMovingAverage:0, resnet_v2_101/block3/unit_20/bottleneck_v2/conv2/BatchNorm/moving_variance/ExponentialMovingAverage:0, resnet_v2_101/block3/unit_20/bottleneck_v2/conv2/weights/ExponentialMovingAverage:0, resnet_v2_101/block3/unit_20/bottleneck_v2/conv3/biases/ExponentialMovingAverage:0, resnet_v2_101/block3/unit_20/bottleneck_v2/conv3/weights/ExponentialMovingAverage:0, resnet_v2_101/block3/unit_20/bottleneck_v2/preact/beta/ExponentialMovingAverage:0, resnet_v2_101/block3/unit_20/bottleneck_v2/preact/gamma/ExponentialMovingAverage:0, resnet_v2_101/block3/unit_20/bottleneck_v2/preact/moving_mean/ExponentialMovingAverage:0, resnet_v2_101/block3/unit_20/bottleneck_v2/preact/moving_variance/ExponentialMovingAverage:0, resnet_v2_101/block3/unit_21/bottleneck_v2/conv1/BatchNorm/beta/ExponentialMovingAverage:0, resnet_v2_101/block3/unit_21/bottleneck_v2/conv1/BatchNorm/gamma/ExponentialMovingAverage:0, resnet_v2_101/block3/unit_21/bottleneck_v2/conv1/BatchNorm/moving_mean/ExponentialMovingAverage:0, resnet_v2_101/block3/unit_21/bottleneck_v2/conv1/BatchNorm/moving_variance/ExponentialMovingAverage:0, resnet_v2_101/block3/unit_21/bottleneck_v2/conv1/weights/ExponentialMovingAverage:0, resnet_v2_101/block3/unit_21/bottleneck_v2/conv2/BatchNorm/beta/ExponentialMovingAverage:0, resnet_v2_101/block3/unit_21/bottleneck_v2/conv2/BatchNorm/gamma/ExponentialMovingAverage:0, resnet_v2_101/block3/unit_21/bottleneck_v2/conv2/BatchNorm/moving_mean/ExponentialMovingAverage:0, resnet_v2_101/block3/unit_21/bottleneck_v2/conv2/BatchNorm/moving_variance/ExponentialMovingAverage:0, resnet_v2_101/block3/unit_21/bottleneck_v2/conv2/weights/ExponentialMovingAverage:0, resnet_v2_101/block3/unit_21/bottleneck_v2/conv3/biases/ExponentialMovingAverage:0, resnet_v2_101/block3/unit_21/bottleneck_v2/conv3/weights/ExponentialMovingAverage:0, resnet_v2_101/block3/unit_21/bottleneck_v2/preact/beta/ExponentialMovingAverage:0, resnet_v2_101/block3/unit_21/bottleneck_v2/preact/gamma/ExponentialMovingAverage:0, resnet_v2_101/block3/unit_21/bottleneck_v2/preact/moving_mean/ExponentialMovingAverage:0, resnet_v2_101/block3/unit_21/bottleneck_v2/preact/moving_variance/ExponentialMovingAverage:0, resnet_v2_101/block3/unit_22/bottleneck_v2/conv1/BatchNorm/beta/ExponentialMovingAverage:0, resnet_v2_101/block3/unit_22/bottleneck_v2/conv1/BatchNorm/gamma/ExponentialMovingAverage:0, resnet_v2_101/block3/unit_22/bottleneck_v2/conv1/BatchNorm/moving_mean/ExponentialMovingAverage:0, resnet_v2_101/block3/unit_22/bottleneck_v2/conv1/BatchNorm/moving_variance/ExponentialMovingAverage:0, resnet_v2_101/block3/unit_22/bottleneck_v2/conv1/weights/ExponentialMovingAverage:0, resnet_v2_101/block3/unit_22/bottleneck_v2/conv2/BatchNorm/beta/ExponentialMovingAverage:0, resnet_v2_101/block3/unit_22/bottleneck_v2/conv2/BatchNorm/gamma/ExponentialMovingAverage:0, resnet_v2_101/block3/unit_22/bottleneck_v2/conv2/BatchNorm/moving_mean/ExponentialMovingAverage:0, resnet_v2_101/block3/unit_22/bottleneck_v2/conv2/BatchNorm/moving_variance/ExponentialMovingAverage:0, resnet_v2_101/block3/unit_22/bottleneck_v2/conv2/weights/ExponentialMovingAverage:0, resnet_v2_101/block3/unit_22/bottleneck_v2/conv3/biases/ExponentialMovingAverage:0, resnet_v2_101/block3/unit_22/bottleneck_v2/conv3/weights/ExponentialMovingAverage:0, resnet_v2_101/block3/unit_22/bottleneck_v2/preact/beta/ExponentialMovingAverage:0, resnet_v2_101/block3/unit_22/bottleneck_v2/preact/gamma/ExponentialMovingAverage:0, resnet_v2_101/block3/unit_22/bottleneck_v2/preact/moving_mean/ExponentialMovingAverage:0, resnet_v2_101/block3/unit_22/bottleneck_v2/preact/moving_variance/ExponentialMovingAverage:0, resnet_v2_101/block3/unit_23/bottleneck_v2/conv1/BatchNorm/beta/ExponentialMovingAverage:0, resnet_v2_101/block3/unit_23/bottleneck_v2/conv1/BatchNorm/gamma/ExponentialMovingAverage:0, resnet_v2_101/block3/unit_23/bottleneck_v2/conv1/BatchNorm/moving_mean/ExponentialMovingAverage:0, resnet_v2_101/block3/unit_23/bottleneck_v2/conv1/BatchNorm/moving_variance/ExponentialMovingAverage:0, resnet_v2_101/block3/unit_23/bottleneck_v2/conv1/weights/ExponentialMovingAverage:0, resnet_v2_101/block3/unit_23/bottleneck_v2/conv2/BatchNorm/beta/ExponentialMovingAverage:0, resnet_v2_101/block3/unit_23/bottleneck_v2/conv2/BatchNorm/gamma/ExponentialMovingAverage:0, resnet_v2_101/block3/unit_23/bottleneck_v2/conv2/BatchNorm/moving_mean/ExponentialMovingAverage:0, resnet_v2_101/block3/unit_23/bottleneck_v2/conv2/BatchNorm/moving_variance/ExponentialMovingAverage:0, resnet_v2_101/block3/unit_23/bottleneck_v2/conv2/weights/ExponentialMovingAverage:0, resnet_v2_101/block3/unit_23/bottleneck_v2/conv3/biases/ExponentialMovingAverage:0, resnet_v2_101/block3/unit_23/bottleneck_v2/conv3/weights/ExponentialMovingAverage:0, resnet_v2_101/block3/unit_23/bottleneck_v2/preact/beta/ExponentialMovingAverage:0, resnet_v2_101/block3/unit_23/bottleneck_v2/preact/gamma/ExponentialMovingAverage:0, resnet_v2_101/block3/unit_23/bottleneck_v2/preact/moving_mean/ExponentialMovingAverage:0, resnet_v2_101/block3/unit_23/bottleneck_v2/preact/moving_variance/ExponentialMovingAverage:0, resnet_v2_101/block3/unit_3/bottleneck_v2/conv1/BatchNorm/beta/ExponentialMovingAverage:0, resnet_v2_101/block3/unit_3/bottleneck_v2/conv1/BatchNorm/gamma/ExponentialMovingAverage:0, resnet_v2_101/block3/unit_3/bottleneck_v2/conv1/BatchNorm/moving_mean/ExponentialMovingAverage:0, resnet_v2_101/block3/unit_3/bottleneck_v2/conv1/BatchNorm/moving_variance/ExponentialMovingAverage:0, resnet_v2_101/block3/unit_3/bottleneck_v2/conv1/weights/ExponentialMovingAverage:0, resnet_v2_101/block3/unit_3/bottleneck_v2/conv2/BatchNorm/beta/ExponentialMovingAverage:0, resnet_v2_101/block3/unit_3/bottleneck_v2/conv2/BatchNorm/gamma/ExponentialMovingAverage:0, resnet_v2_101/block3/unit_3/bottleneck_v2/conv2/BatchNorm/moving_mean/ExponentialMovingAverage:0, resnet_v2_101/block3/unit_3/bottleneck_v2/conv2/BatchNorm/moving_variance/ExponentialMovingAverage:0, resnet_v2_101/block3/unit_3/bottleneck_v2/conv2/weights/ExponentialMovingAverage:0, resnet_v2_101/block3/unit_3/bottleneck_v2/conv3/biases/ExponentialMovingAverage:0, resnet_v2_101/block3/unit_3/bottleneck_v2/conv3/weights/ExponentialMovingAverage:0, resnet_v2_101/block3/unit_3/bottleneck_v2/preact/beta/ExponentialMovingAverage:0, resnet_v2_101/block3/unit_3/bottleneck_v2/preact/gamma/ExponentialMovingAverage:0, resnet_v2_101/block3/unit_3/bottleneck_v2/preact/moving_mean/ExponentialMovingAverage:0, resnet_v2_101/block3/unit_3/bottleneck_v2/preact/moving_variance/ExponentialMovingAverage:0, resnet_v2_101/block3/unit_4/bottleneck_v2/conv1/BatchNorm/beta/ExponentialMovingAverage:0, resnet_v2_101/block3/unit_4/bottleneck_v2/conv1/BatchNorm/gamma/ExponentialMovingAverage:0, resnet_v2_101/block3/unit_4/bottleneck_v2/conv1/BatchNorm/moving_mean/ExponentialMovingAverage:0, resnet_v2_101/block3/unit_4/bottleneck_v2/conv1/BatchNorm/moving_variance/ExponentialMovingAverage:0, resnet_v2_101/block3/unit_4/bottleneck_v2/conv1/weights/ExponentialMovingAverage:0, resnet_v2_101/block3/unit_4/bottleneck_v2/conv2/BatchNorm/beta/ExponentialMovingAverage:0, resnet_v2_101/block3/unit_4/bottleneck_v2/conv2/BatchNorm/gamma/ExponentialMovingAverage:0, resnet_v2_101/block3/unit_4/bottleneck_v2/conv2/BatchNorm/moving_mean/ExponentialMovingAverage:0, resnet_v2_101/block3/unit_4/bottleneck_v2/conv2/BatchNorm/moving_variance/ExponentialMovingAverage:0, resnet_v2_101/block3/unit_4/bottleneck_v2/conv2/weights/ExponentialMovingAverage:0, resnet_v2_101/block3/unit_4/bottleneck_v2/conv3/biases/ExponentialMovingAverage:0, resnet_v2_101/block3/unit_4/bottleneck_v2/conv3/weights/ExponentialMovingAverage:0, resnet_v2_101/block3/unit_4/bottleneck_v2/preact/beta/ExponentialMovingAverage:0, resnet_v2_101/block3/unit_4/bottleneck_v2/preact/gamma/ExponentialMovingAverage:0, resnet_v2_101/block3/unit_4/bottleneck_v2/preact/moving_mean/ExponentialMovingAverage:0, resnet_v2_101/block3/unit_4/bottleneck_v2/preact/moving_variance/ExponentialMovingAverage:0, resnet_v2_101/block3/unit_5/bottleneck_v2/conv1/BatchNorm/beta/ExponentialMovingAverage:0, resnet_v2_101/block3/unit_5/bottleneck_v2/conv1/BatchNorm/gamma/ExponentialMovingAverage:0, resnet_v2_101/block3/unit_5/bottleneck_v2/conv1/BatchNorm/moving_mean/ExponentialMovingAverage:0, resnet_v2_101/block3/unit_5/bottleneck_v2/conv1/BatchNorm/moving_variance/ExponentialMovingAverage:0, resnet_v2_101/block3/unit_5/bottleneck_v2/conv1/weights/ExponentialMovingAverage:0, resnet_v2_101/block3/unit_5/bottleneck_v2/conv2/BatchNorm/beta/ExponentialMovingAverage:0, resnet_v2_101/block3/unit_5/bottleneck_v2/conv2/BatchNorm/gamma/ExponentialMovingAverage:0, resnet_v2_101/block3/unit_5/bottleneck_v2/conv2/BatchNorm/moving_mean/ExponentialMovingAverage:0, resnet_v2_101/block3/unit_5/bottleneck_v2/conv2/BatchNorm/moving_variance/ExponentialMovingAverage:0, resnet_v2_101/block3/unit_5/bottleneck_v2/conv2/weights/ExponentialMovingAverage:0, resnet_v2_101/block3/unit_5/bottleneck_v2/conv3/biases/ExponentialMovingAverage:0, resnet_v2_101/block3/unit_5/bottleneck_v2/conv3/weights/ExponentialMovingAverage:0, resnet_v2_101/block3/unit_5/bottleneck_v2/preact/beta/ExponentialMovingAverage:0, resnet_v2_101/block3/unit_5/bottleneck_v2/preact/gamma/ExponentialMovingAverage:0, resnet_v2_101/block3/unit_5/bottleneck_v2/preact/moving_mean/ExponentialMovingAverage:0, resnet_v2_101/block3/unit_5/bottleneck_v2/preact/moving_variance/ExponentialMovingAverage:0, resnet_v2_101/block3/unit_6/bottleneck_v2/conv1/BatchNorm/beta/ExponentialMovingAverage:0, resnet_v2_101/block3/unit_6/bottleneck_v2/conv1/BatchNorm/gamma/ExponentialMovingAverage:0, resnet_v2_101/block3/unit_6/bottleneck_v2/conv1/BatchNorm/moving_mean/ExponentialMovingAverage:0, resnet_v2_101/block3/unit_6/bottleneck_v2/conv1/BatchNorm/moving_variance/ExponentialMovingAverage:0, resnet_v2_101/block3/unit_6/bottleneck_v2/conv1/weights/ExponentialMovingAverage:0, resnet_v2_101/block3/unit_6/bottleneck_v2/conv2/BatchNorm/beta/ExponentialMovingAverage:0, resnet_v2_101/block3/unit_6/bottleneck_v2/conv2/BatchNorm/gamma/ExponentialMovingAverage:0, resnet_v2_101/block3/unit_6/bottleneck_v2/conv2/BatchNorm/moving_mean/ExponentialMovingAverage:0, resnet_v2_101/block3/unit_6/bottleneck_v2/conv2/BatchNorm/moving_variance/ExponentialMovingAverage:0, resnet_v2_101/block3/unit_6/bottleneck_v2/conv2/weights/ExponentialMovingAverage:0, resnet_v2_101/block3/unit_6/bottleneck_v2/conv3/biases/ExponentialMovingAverage:0, resnet_v2_101/block3/unit_6/bottleneck_v2/conv3/weights/ExponentialMovingAverage:0, resnet_v2_101/block3/unit_6/bottleneck_v2/preact/beta/ExponentialMovingAverage:0, resnet_v2_101/block3/unit_6/bottleneck_v2/preact/gamma/ExponentialMovingAverage:0, resnet_v2_101/block3/unit_6/bottleneck_v2/preact/moving_mean/ExponentialMovingAverage:0, resnet_v2_101/block3/unit_6/bottleneck_v2/preact/moving_variance/ExponentialMovingAverage:0, resnet_v2_101/block3/unit_7/bottleneck_v2/conv1/BatchNorm/beta/ExponentialMovingAverage:0, resnet_v2_101/block3/unit_7/bottleneck_v2/conv1/BatchNorm/gamma/ExponentialMovingAverage:0, resnet_v2_101/block3/unit_7/bottleneck_v2/conv1/BatchNorm/moving_mean/ExponentialMovingAverage:0, resnet_v2_101/block3/unit_7/bottleneck_v2/conv1/BatchNorm/moving_variance/ExponentialMovingAverage:0, resnet_v2_101/block3/unit_7/bottleneck_v2/conv1/weights/ExponentialMovingAverage:0, resnet_v2_101/block3/unit_7/bottleneck_v2/conv2/BatchNorm/beta/ExponentialMovingAverage:0, resnet_v2_101/block3/unit_7/bottleneck_v2/conv2/BatchNorm/gamma/ExponentialMovingAverage:0, resnet_v2_101/block3/unit_7/bottleneck_v2/conv2/BatchNorm/moving_mean/ExponentialMovingAverage:0, resnet_v2_101/block3/unit_7/bottleneck_v2/conv2/BatchNorm/moving_variance/ExponentialMovingAverage:0, resnet_v2_101/block3/unit_7/bottleneck_v2/conv2/weights/ExponentialMovingAverage:0, resnet_v2_101/block3/unit_7/bottleneck_v2/conv3/biases/ExponentialMovingAverage:0, resnet_v2_101/block3/unit_7/bottleneck_v2/conv3/weights/ExponentialMovingAverage:0, resnet_v2_101/block3/unit_7/bottleneck_v2/preact/beta/ExponentialMovingAverage:0, resnet_v2_101/block3/unit_7/bottleneck_v2/preact/gamma/ExponentialMovingAverage:0, resnet_v2_101/block3/unit_7/bottleneck_v2/preact/moving_mean/ExponentialMovingAverage:0, resnet_v2_101/block3/unit_7/bottleneck_v2/preact/moving_variance/ExponentialMovingAverage:0, resnet_v2_101/block3/unit_8/bottleneck_v2/conv1/BatchNorm/beta/ExponentialMovingAverage:0, resnet_v2_101/block3/unit_8/bottleneck_v2/conv1/BatchNorm/gamma/ExponentialMovingAverage:0, resnet_v2_101/block3/unit_8/bottleneck_v2/conv1/BatchNorm/moving_mean/ExponentialMovingAverage:0, resnet_v2_101/block3/unit_8/bottleneck_v2/conv1/BatchNorm/moving_variance/ExponentialMovingAverage:0, resnet_v2_101/block3/unit_8/bottleneck_v2/conv1/weights/ExponentialMovingAverage:0, resnet_v2_101/block3/unit_8/bottleneck_v2/conv2/BatchNorm/beta/ExponentialMovingAverage:0, resnet_v2_101/block3/unit_8/bottleneck_v2/conv2/BatchNorm/gamma/ExponentialMovingAverage:0, resnet_v2_101/block3/unit_8/bottleneck_v2/conv2/BatchNorm/moving_mean/ExponentialMovingAverage:0, resnet_v2_101/block3/unit_8/bottleneck_v2/conv2/BatchNorm/moving_variance/ExponentialMovingAverage:0, resnet_v2_101/block3/unit_8/bottleneck_v2/conv2/weights/ExponentialMovingAverage:0, resnet_v2_101/block3/unit_8/bottleneck_v2/conv3/biases/ExponentialMovingAverage:0, resnet_v2_101/block3/unit_8/bottleneck_v2/conv3/weights/ExponentialMovingAverage:0, resnet_v2_101/block3/unit_8/bottleneck_v2/preact/beta/ExponentialMovingAverage:0, resnet_v2_101/block3/unit_8/bottleneck_v2/preact/gamma/ExponentialMovingAverage:0, resnet_v2_101/block3/unit_8/bottleneck_v2/preact/moving_mean/ExponentialMovingAverage:0, resnet_v2_101/block3/unit_8/bottleneck_v2/preact/moving_variance/ExponentialMovingAverage:0, resnet_v2_101/block3/unit_9/bottleneck_v2/conv1/BatchNorm/beta/ExponentialMovingAverage:0, resnet_v2_101/block3/unit_9/bottleneck_v2/conv1/BatchNorm/gamma/ExponentialMovingAverage:0, resnet_v2_101/block3/unit_9/bottleneck_v2/conv1/BatchNorm/moving_mean/ExponentialMovingAverage:0, resnet_v2_101/block3/unit_9/bottleneck_v2/conv1/BatchNorm/moving_variance/ExponentialMovingAverage:0, resnet_v2_101/block3/unit_9/bottleneck_v2/conv1/weights/ExponentialMovingAverage:0, resnet_v2_101/block3/unit_9/bottleneck_v2/conv2/BatchNorm/beta/ExponentialMovingAverage:0, resnet_v2_101/block3/unit_9/bottleneck_v2/conv2/BatchNorm/gamma/ExponentialMovingAverage:0, resnet_v2_101/block3/unit_9/bottleneck_v2/conv2/BatchNorm/moving_mean/ExponentialMovingAverage:0, resnet_v2_101/block3/unit_9/bottleneck_v2/conv2/BatchNorm/moving_variance/ExponentialMovingAverage:0, resnet_v2_101/block3/unit_9/bottleneck_v2/conv2/weights/ExponentialMovingAverage:0, resnet_v2_101/block3/unit_9/bottleneck_v2/conv3/biases/ExponentialMovingAverage:0, resnet_v2_101/block3/unit_9/bottleneck_v2/conv3/weights/ExponentialMovingAverage:0, resnet_v2_101/block3/unit_9/bottleneck_v2/preact/beta/ExponentialMovingAverage:0, resnet_v2_101/block3/unit_9/bottleneck_v2/preact/gamma/ExponentialMovingAverage:0, resnet_v2_101/block3/unit_9/bottleneck_v2/preact/moving_mean/ExponentialMovingAverage:0, resnet_v2_101/block3/unit_9/bottleneck_v2/preact/moving_variance/ExponentialMovingAverage:0, resnet_v2_101/block4/unit_1/bottleneck_v2/conv1/BatchNorm/beta/ExponentialMovingAverage:0, resnet_v2_101/block4/unit_1/bottleneck_v2/conv1/BatchNorm/gamma/ExponentialMovingAverage:0, resnet_v2_101/block4/unit_1/bottleneck_v2/conv1/BatchNorm/moving_mean/ExponentialMovingAverage:0, resnet_v2_101/block4/unit_1/bottleneck_v2/conv1/BatchNorm/moving_variance/ExponentialMovingAverage:0, resnet_v2_101/block4/unit_1/bottleneck_v2/conv1/weights/ExponentialMovingAverage:0, resnet_v2_101/block4/unit_1/bottleneck_v2/conv2/BatchNorm/beta/ExponentialMovingAverage:0, resnet_v2_101/block4/unit_1/bottleneck_v2/conv2/BatchNorm/gamma/ExponentialMovingAverage:0, resnet_v2_101/block4/unit_1/bottleneck_v2/conv2/BatchNorm/moving_mean/ExponentialMovingAverage:0, resnet_v2_101/block4/unit_1/bottleneck_v2/conv2/BatchNorm/moving_variance/ExponentialMovingAverage:0, resnet_v2_101/block4/unit_1/bottleneck_v2/conv2/weights/ExponentialMovingAverage:0, resnet_v2_101/block4/unit_1/bottleneck_v2/conv3/biases/ExponentialMovingAverage:0, resnet_v2_101/block4/unit_1/bottleneck_v2/conv3/weights/ExponentialMovingAverage:0, resnet_v2_101/block4/unit_1/bottleneck_v2/preact/beta/ExponentialMovingAverage:0, resnet_v2_101/block4/unit_1/bottleneck_v2/preact/gamma/ExponentialMovingAverage:0, resnet_v2_101/block4/unit_1/bottleneck_v2/preact/moving_mean/ExponentialMovingAverage:0, resnet_v2_101/block4/unit_1/bottleneck_v2/preact/moving_variance/ExponentialMovingAverage:0, resnet_v2_101/block4/unit_1/bottleneck_v2/shortcut/biases/ExponentialMovingAverage:0, resnet_v2_101/block4/unit_1/bottleneck_v2/shortcut/weights/ExponentialMovingAverage:0, resnet_v2_101/block4/unit_2/bottleneck_v2/conv1/BatchNorm/beta/ExponentialMovingAverage:0, resnet_v2_101/block4/unit_2/bottleneck_v2/conv1/BatchNorm/gamma/ExponentialMovingAverage:0, resnet_v2_101/block4/unit_2/bottleneck_v2/conv1/BatchNorm/moving_mean/ExponentialMovingAverage:0, resnet_v2_101/block4/unit_2/bottleneck_v2/conv1/BatchNorm/moving_variance/ExponentialMovingAverage:0, resnet_v2_101/block4/unit_2/bottleneck_v2/conv1/weights/ExponentialMovingAverage:0, resnet_v2_101/block4/unit_2/bottleneck_v2/conv2/BatchNorm/beta/ExponentialMovingAverage:0, resnet_v2_101/block4/unit_2/bottleneck_v2/conv2/BatchNorm/gamma/ExponentialMovingAverage:0, resnet_v2_101/block4/unit_2/bottleneck_v2/conv2/BatchNorm/moving_mean/ExponentialMovingAverage:0, resnet_v2_101/block4/unit_2/bottleneck_v2/conv2/BatchNorm/moving_variance/ExponentialMovingAverage:0, resnet_v2_101/block4/unit_2/bottleneck_v2/conv2/weights/ExponentialMovingAverage:0, resnet_v2_101/block4/unit_2/bottleneck_v2/conv3/biases/ExponentialMovingAverage:0, resnet_v2_101/block4/unit_2/bottleneck_v2/conv3/weights/ExponentialMovingAverage:0, resnet_v2_101/block4/unit_2/bottleneck_v2/preact/beta/ExponentialMovingAverage:0, resnet_v2_101/block4/unit_2/bottleneck_v2/preact/gamma/ExponentialMovingAverage:0, resnet_v2_101/block4/unit_2/bottleneck_v2/preact/moving_mean/ExponentialMovingAverage:0, resnet_v2_101/block4/unit_2/bottleneck_v2/preact/moving_variance/ExponentialMovingAverage:0, resnet_v2_101/block4/unit_3/bottleneck_v2/conv1/BatchNorm/beta/ExponentialMovingAverage:0, resnet_v2_101/block4/unit_3/bottleneck_v2/conv1/BatchNorm/gamma/ExponentialMovingAverage:0, resnet_v2_101/block4/unit_3/bottleneck_v2/conv1/BatchNorm/moving_mean/ExponentialMovingAverage:0, resnet_v2_101/block4/unit_3/bottleneck_v2/conv1/BatchNorm/moving_variance/ExponentialMovingAverage:0, resnet_v2_101/block4/unit_3/bottleneck_v2/conv1/weights/ExponentialMovingAverage:0, resnet_v2_101/block4/unit_3/bottleneck_v2/conv2/BatchNorm/beta/ExponentialMovingAverage:0, resnet_v2_101/block4/unit_3/bottleneck_v2/conv2/BatchNorm/gamma/ExponentialMovingAverage:0, resnet_v2_101/block4/unit_3/bottleneck_v2/conv2/BatchNorm/moving_mean/ExponentialMovingAverage:0, resnet_v2_101/block4/unit_3/bottleneck_v2/conv2/BatchNorm/moving_variance/ExponentialMovingAverage:0, resnet_v2_101/block4/unit_3/bottleneck_v2/conv2/weights/ExponentialMovingAverage:0, resnet_v2_101/block4/unit_3/bottleneck_v2/conv3/biases/ExponentialMovingAverage:0, resnet_v2_101/block4/unit_3/bottleneck_v2/conv3/weights/ExponentialMovingAverage:0, resnet_v2_101/block4/unit_3/bottleneck_v2/preact/beta/ExponentialMovingAverage:0, resnet_v2_101/block4/unit_3/bottleneck_v2/preact/gamma/ExponentialMovingAverage:0, resnet_v2_101/block4/unit_3/bottleneck_v2/preact/moving_mean/ExponentialMovingAverage:0, resnet_v2_101/block4/unit_3/bottleneck_v2/preact/moving_variance/ExponentialMovingAverage:0, resnet_v2_101/conv1/biases/ExponentialMovingAverage:0, resnet_v2_101/conv1/weights/ExponentialMovingAverage:0, resnet_v2_101/logits/biases/ExponentialMovingAverage:0, resnet_v2_101/logits/biases:0, resnet_v2_101/logits/weights/ExponentialMovingAverage:0, resnet_v2_101/logits/weights:0, resnet_v2_101/postnorm/beta/ExponentialMovingAverage:0, resnet_v2_101/postnorm/gamma/ExponentialMovingAverage:0, resnet_v2_101/postnorm/moving_mean/ExponentialMovingAverage:0, resnet_v2_101/postnorm/moving_variance/ExponentialMovingAverage:0, total_loss/ExponentialMovingAverage:0\n"
     ]
    },
    {
     "name": "stdout",
     "output_type": "stream",
     "text": [
      "\u001b[32m[1103 17:54:11 @base.py:212]\u001b[0m Creating the session ...\n",
      "\u001b[32m[1103 17:54:13 @base.py:216]\u001b[0m Initializing the session ...\n",
      "\u001b[32m[1103 17:54:13 @sessinit.py:116]\u001b[0m Restoring checkpoint from ./data/resnet_v2_101/resnet_v2_101.ckpt ...\n",
      "INFO:tensorflow:Restoring parameters from ./data/resnet_v2_101/resnet_v2_101.ckpt\n",
      "\u001b[32m[1103 17:54:14 @base.py:223]\u001b[0m Graph Finalized.\n",
      "\u001b[32m[1103 17:54:14 @param.py:144]\u001b[0m After epoch 0, learning_rate will change to 0.00010000\n",
      "\u001b[32m[1103 17:54:15 @concurrency.py:36]\u001b[0m Starting EnqueueThread DataParallelInferenceRunner/QueueInput/input_queue ...\n",
      "\u001b[32m[1103 17:54:16 @concurrency.py:36]\u001b[0m Starting EnqueueThread QueueInput/input_queue ...\n",
      "\u001b[32m[1103 17:54:16 @base.py:257]\u001b[0m Start Epoch 1 ...\n"
     ]
    },
    {
     "name": "stderr",
     "output_type": "stream",
     "text": [
      "100%|##########|46/46[01:44<00:00, 0.44it/s]"
     ]
    },
    {
     "name": "stdout",
     "output_type": "stream",
     "text": [
      "\u001b[32m[1103 17:56:00 @base.py:267]\u001b[0m Epoch 1 (global_step 46) finished, time:104.45 sec.\n"
     ]
    },
    {
     "name": "stderr",
     "output_type": "stream",
     "text": [
      "\n",
      "  0%|          |0/18[00:00<?,?it/s]/home/yangyang/Applications/anaconda3/lib/python3.6/site-packages/sklearn/metrics/classification.py:1135: UndefinedMetricWarning: F-score is ill-defined and being set to 0.0 in labels with no predicted samples.\n",
      "  'precision', 'predicted', average, warn_for)\n",
      "100%|##########|18/18[00:28<00:00, 0.59it/s]\n"
     ]
    },
    {
     "name": "stdout",
     "output_type": "stream",
     "text": [
      "\u001b[32m[1103 17:56:30 @saver.py:90]\u001b[0m Model saved to ./train_log/all-stage/model-46.\n",
      "\u001b[32m[1103 17:56:31 @saver.py:159]\u001b[0m Model with maximum 'micro_auc' saved.\n",
      "\u001b[32m[1103 17:56:31 @monitor.py:362]\u001b[0m DataParallelInferenceRunner/QueueInput/queue_size: 49\n",
      "\u001b[32m[1103 17:56:31 @monitor.py:362]\u001b[0m QueueInput/queue_size: 4.55\n",
      "\u001b[32m[1103 17:56:31 @monitor.py:362]\u001b[0m coverage: 8.8637\n",
      "\u001b[32m[1103 17:56:31 @monitor.py:362]\u001b[0m learning_rate: 0.0001\n",
      "\u001b[32m[1103 17:56:31 @monitor.py:362]\u001b[0m loss/value: 0.27497\n",
      "\u001b[32m[1103 17:56:31 @monitor.py:362]\u001b[0m macro_auc: 0.82476\n",
      "\u001b[32m[1103 17:56:31 @monitor.py:362]\u001b[0m macro_f1: 0.1398\n",
      "\u001b[32m[1103 17:56:31 @monitor.py:362]\u001b[0m mean_average_precision: 0.42967\n",
      "\u001b[32m[1103 17:56:31 @monitor.py:362]\u001b[0m micro_auc: 0.63218\n",
      "\u001b[32m[1103 17:56:31 @monitor.py:362]\u001b[0m micro_f1: 0.22909\n",
      "\u001b[32m[1103 17:56:31 @monitor.py:362]\u001b[0m one_error: 0.8941\n",
      "\u001b[32m[1103 17:56:31 @monitor.py:362]\u001b[0m ranking_loss: 0.36868\n",
      "\u001b[32m[1103 17:56:31 @monitor.py:362]\u001b[0m ranking_mean_average_precision: 0.31675\n",
      "\u001b[32m[1103 17:56:31 @monitor.py:362]\u001b[0m training_ap: 0.19124\n",
      "\u001b[32m[1103 17:56:31 @monitor.py:362]\u001b[0m training_auc: 0.66767\n",
      "\u001b[32m[1103 17:56:31 @group.py:42]\u001b[0m Callbacks took 30.581 sec in total. DataParallelInferenceRunner: 28.985sec\n",
      "\u001b[32m[1103 17:56:31 @base.py:257]\u001b[0m Start Epoch 2 ...\n"
     ]
    },
    {
     "name": "stderr",
     "output_type": "stream",
     "text": [
      "100%|##########|46/46[01:21<00:00, 0.56it/s]"
     ]
    },
    {
     "name": "stdout",
     "output_type": "stream",
     "text": [
      "\u001b[32m[1103 17:57:53 @base.py:267]\u001b[0m Epoch 2 (global_step 92) finished, time:81.60 sec.\n"
     ]
    },
    {
     "name": "stderr",
     "output_type": "stream",
     "text": [
      "\n",
      "100%|##########|18/18[00:28<00:00, 0.65it/s]\n"
     ]
    },
    {
     "name": "stdout",
     "output_type": "stream",
     "text": [
      "\u001b[32m[1103 17:58:21 @saver.py:90]\u001b[0m Model saved to ./train_log/all-stage/model-92.\n",
      "\u001b[32m[1103 17:58:22 @saver.py:159]\u001b[0m Model with maximum 'micro_auc' saved.\n",
      "\u001b[32m[1103 17:58:22 @monitor.py:362]\u001b[0m DataParallelInferenceRunner/QueueInput/queue_size: 49.871\n",
      "\u001b[32m[1103 17:58:22 @monitor.py:362]\u001b[0m QueueInput/queue_size: 25.804\n",
      "\u001b[32m[1103 17:58:22 @monitor.py:362]\u001b[0m coverage: 8.5148\n",
      "\u001b[32m[1103 17:58:22 @monitor.py:362]\u001b[0m learning_rate: 0.0001\n",
      "\u001b[32m[1103 17:58:22 @monitor.py:362]\u001b[0m loss/value: 0.22649\n",
      "\u001b[32m[1103 17:58:22 @monitor.py:362]\u001b[0m macro_auc: 0.87087\n",
      "\u001b[32m[1103 17:58:22 @monitor.py:362]\u001b[0m macro_f1: 0.16035\n",
      "\u001b[32m[1103 17:58:22 @monitor.py:362]\u001b[0m mean_average_precision: 0.49646\n",
      "\u001b[32m[1103 17:58:22 @monitor.py:362]\u001b[0m micro_auc: 0.6829\n",
      "\u001b[32m[1103 17:58:22 @monitor.py:362]\u001b[0m micro_f1: 0.25494\n",
      "\u001b[32m[1103 17:58:22 @monitor.py:362]\u001b[0m one_error: 0.86632\n",
      "\u001b[32m[1103 17:58:22 @monitor.py:362]\u001b[0m ranking_loss: 0.34894\n",
      "\u001b[32m[1103 17:58:22 @monitor.py:362]\u001b[0m ranking_mean_average_precision: 0.35562\n",
      "\u001b[32m[1103 17:58:22 @monitor.py:362]\u001b[0m training_ap: 0.28353\n",
      "\u001b[32m[1103 17:58:22 @monitor.py:362]\u001b[0m training_auc: 0.75392\n",
      "\u001b[32m[1103 17:58:22 @group.py:42]\u001b[0m Callbacks took 29.449 sec in total. DataParallelInferenceRunner: 28.061sec\n",
      "\u001b[32m[1103 17:58:22 @base.py:257]\u001b[0m Start Epoch 3 ...\n"
     ]
    },
    {
     "name": "stderr",
     "output_type": "stream",
     "text": [
      "100%|##########|46/46[01:23<00:00, 0.54it/s]"
     ]
    },
    {
     "name": "stdout",
     "output_type": "stream",
     "text": [
      "\u001b[32m[1103 17:59:46 @base.py:267]\u001b[0m Epoch 3 (global_step 138) finished, time:83.60 sec.\n"
     ]
    },
    {
     "name": "stderr",
     "output_type": "stream",
     "text": [
      "\n",
      "100%|##########|18/18[00:25<00:00, 0.74it/s]\n"
     ]
    },
    {
     "name": "stdout",
     "output_type": "stream",
     "text": [
      "\u001b[32m[1103 18:00:11 @saver.py:90]\u001b[0m Model saved to ./train_log/all-stage/model-138.\n",
      "\u001b[32m[1103 18:00:12 @saver.py:159]\u001b[0m Model with maximum 'micro_auc' saved.\n",
      "\u001b[32m[1103 18:00:12 @monitor.py:362]\u001b[0m DataParallelInferenceRunner/QueueInput/queue_size: 49.178\n",
      "\u001b[32m[1103 18:00:12 @monitor.py:362]\u001b[0m QueueInput/queue_size: 47.674\n",
      "\u001b[32m[1103 18:00:12 @monitor.py:362]\u001b[0m coverage: 8.3238\n",
      "\u001b[32m[1103 18:00:12 @monitor.py:362]\u001b[0m learning_rate: 0.0001\n",
      "\u001b[32m[1103 18:00:12 @monitor.py:362]\u001b[0m loss/value: 0.20087\n",
      "\u001b[32m[1103 18:00:12 @monitor.py:362]\u001b[0m macro_auc: 0.88923\n",
      "\u001b[32m[1103 18:00:12 @monitor.py:362]\u001b[0m macro_f1: 0.22925\n",
      "\u001b[32m[1103 18:00:12 @monitor.py:362]\u001b[0m mean_average_precision: 0.54392\n",
      "\u001b[32m[1103 18:00:12 @monitor.py:362]\u001b[0m micro_auc: 0.71221\n",
      "\u001b[32m[1103 18:00:12 @monitor.py:362]\u001b[0m micro_f1: 0.26351\n",
      "\u001b[32m[1103 18:00:12 @monitor.py:362]\u001b[0m one_error: 0.74219\n",
      "\u001b[32m[1103 18:00:12 @monitor.py:362]\u001b[0m ranking_loss: 0.33013\n",
      "\u001b[32m[1103 18:00:12 @monitor.py:362]\u001b[0m ranking_mean_average_precision: 0.40572\n",
      "\u001b[32m[1103 18:00:12 @monitor.py:362]\u001b[0m training_ap: 0.33908\n",
      "\u001b[32m[1103 18:00:12 @monitor.py:362]\u001b[0m training_auc: 0.79712\n",
      "\u001b[32m[1103 18:00:12 @group.py:42]\u001b[0m Callbacks took 26.090 sec in total. DataParallelInferenceRunner: 25.514sec\n",
      "\u001b[32m[1103 18:00:12 @base.py:257]\u001b[0m Start Epoch 4 ...\n"
     ]
    },
    {
     "name": "stderr",
     "output_type": "stream",
     "text": [
      "100%|##########|46/46[01:22<00:00, 0.57it/s]"
     ]
    },
    {
     "name": "stdout",
     "output_type": "stream",
     "text": [
      "\u001b[32m[1103 18:01:34 @base.py:267]\u001b[0m Epoch 4 (global_step 184) finished, time:82.66 sec.\n"
     ]
    },
    {
     "name": "stderr",
     "output_type": "stream",
     "text": [
      "\n",
      "100%|##########|18/18[00:24<00:00, 0.70it/s]\n"
     ]
    },
    {
     "name": "stdout",
     "output_type": "stream",
     "text": [
      "\u001b[32m[1103 18:02:00 @saver.py:90]\u001b[0m Model saved to ./train_log/all-stage/model-184.\n",
      "\u001b[32m[1103 18:02:00 @saver.py:159]\u001b[0m Model with maximum 'micro_auc' saved.\n",
      "\u001b[32m[1103 18:02:00 @monitor.py:362]\u001b[0m DataParallelInferenceRunner/QueueInput/queue_size: 49.295\n",
      "\u001b[32m[1103 18:02:00 @monitor.py:362]\u001b[0m QueueInput/queue_size: 49.738\n",
      "\u001b[32m[1103 18:02:00 @monitor.py:362]\u001b[0m coverage: 7.7005\n",
      "\u001b[32m[1103 18:02:00 @monitor.py:362]\u001b[0m learning_rate: 0.0001\n",
      "\u001b[32m[1103 18:02:00 @monitor.py:362]\u001b[0m loss/value: 0.18623\n",
      "\u001b[32m[1103 18:02:00 @monitor.py:362]\u001b[0m macro_auc: 0.89911\n",
      "\u001b[32m[1103 18:02:00 @monitor.py:362]\u001b[0m macro_f1: 0.32258\n",
      "\u001b[32m[1103 18:02:00 @monitor.py:362]\u001b[0m mean_average_precision: 0.5841\n",
      "\u001b[32m[1103 18:02:00 @monitor.py:362]\u001b[0m micro_auc: 0.75879\n",
      "\u001b[32m[1103 18:02:00 @monitor.py:362]\u001b[0m micro_f1: 0.32118\n",
      "\u001b[32m[1103 18:02:00 @monitor.py:362]\u001b[0m one_error: 0.74653\n",
      "\u001b[32m[1103 18:02:00 @monitor.py:362]\u001b[0m ranking_loss: 0.2849\n",
      "\u001b[32m[1103 18:02:00 @monitor.py:362]\u001b[0m ranking_mean_average_precision: 0.40911\n",
      "\u001b[32m[1103 18:02:00 @monitor.py:362]\u001b[0m training_ap: 0.375\n",
      "\u001b[32m[1103 18:02:00 @monitor.py:362]\u001b[0m training_auc: 0.82262\n",
      "\u001b[32m[1103 18:02:00 @group.py:42]\u001b[0m Callbacks took 25.997 sec in total. DataParallelInferenceRunner: 24.801sec\n",
      "\u001b[32m[1103 18:02:00 @base.py:257]\u001b[0m Start Epoch 5 ...\n"
     ]
    },
    {
     "name": "stderr",
     "output_type": "stream",
     "text": [
      "100%|##########|46/46[01:22<00:00, 0.57it/s]"
     ]
    },
    {
     "name": "stdout",
     "output_type": "stream",
     "text": [
      "\u001b[32m[1103 18:03:23 @base.py:267]\u001b[0m Epoch 5 (global_step 230) finished, time:82.78 sec.\n"
     ]
    },
    {
     "name": "stderr",
     "output_type": "stream",
     "text": [
      "\n",
      "100%|##########|18/18[00:25<00:00, 0.70it/s]\n"
     ]
    },
    {
     "name": "stdout",
     "output_type": "stream",
     "text": [
      "\u001b[32m[1103 18:03:49 @saver.py:90]\u001b[0m Model saved to ./train_log/all-stage/model-230.\n",
      "\u001b[32m[1103 18:03:50 @saver.py:159]\u001b[0m Model with maximum 'micro_auc' saved.\n",
      "\u001b[32m[1103 18:03:50 @monitor.py:362]\u001b[0m DataParallelInferenceRunner/QueueInput/queue_size: 49.743\n",
      "\u001b[32m[1103 18:03:50 @monitor.py:362]\u001b[0m QueueInput/queue_size: 49.934\n",
      "\u001b[32m[1103 18:03:50 @monitor.py:362]\u001b[0m coverage: 7.2257\n",
      "\u001b[32m[1103 18:03:50 @monitor.py:362]\u001b[0m learning_rate: 0.0001\n",
      "\u001b[32m[1103 18:03:50 @monitor.py:362]\u001b[0m loss/value: 0.1784\n",
      "\u001b[32m[1103 18:03:50 @monitor.py:362]\u001b[0m macro_auc: 0.90727\n",
      "\u001b[32m[1103 18:03:50 @monitor.py:362]\u001b[0m macro_f1: 0.32127\n",
      "\u001b[32m[1103 18:03:50 @monitor.py:362]\u001b[0m mean_average_precision: 0.59684\n",
      "\u001b[32m[1103 18:03:50 @monitor.py:362]\u001b[0m micro_auc: 0.78323\n",
      "\u001b[32m[1103 18:03:50 @monitor.py:362]\u001b[0m micro_f1: 0.32485\n",
      "\u001b[32m[1103 18:03:50 @monitor.py:362]\u001b[0m one_error: 0.67361\n",
      "\u001b[32m[1103 18:03:50 @monitor.py:362]\u001b[0m ranking_loss: 0.24686\n",
      "\u001b[32m[1103 18:03:50 @monitor.py:362]\u001b[0m ranking_mean_average_precision: 0.45495\n",
      "\u001b[32m[1103 18:03:50 @monitor.py:362]\u001b[0m training_ap: 0.40459\n",
      "\u001b[32m[1103 18:03:50 @monitor.py:362]\u001b[0m training_auc: 0.83959\n",
      "\u001b[32m[1103 18:03:50 @group.py:42]\u001b[0m Callbacks took 26.875 sec in total. DataParallelInferenceRunner: 25.596sec\n",
      "\u001b[32m[1103 18:03:50 @base.py:257]\u001b[0m Start Epoch 6 ...\n"
     ]
    },
    {
     "name": "stderr",
     "output_type": "stream",
     "text": [
      "100%|##########|46/46[01:22<00:00, 0.50it/s]"
     ]
    },
    {
     "name": "stdout",
     "output_type": "stream",
     "text": [
      "\u001b[32m[1103 18:05:13 @base.py:267]\u001b[0m Epoch 6 (global_step 276) finished, time:82.71 sec.\n"
     ]
    },
    {
     "name": "stderr",
     "output_type": "stream",
     "text": [
      "\n",
      "100%|##########|18/18[00:25<00:00, 0.73it/s]\n"
     ]
    },
    {
     "name": "stdout",
     "output_type": "stream",
     "text": [
      "\u001b[32m[1103 18:05:38 @saver.py:90]\u001b[0m Model saved to ./train_log/all-stage/model-276.\n",
      "\u001b[32m[1103 18:05:39 @saver.py:159]\u001b[0m Model with maximum 'micro_auc' saved.\n",
      "\u001b[32m[1103 18:05:39 @monitor.py:362]\u001b[0m DataParallelInferenceRunner/QueueInput/queue_size: 49.556\n",
      "\u001b[32m[1103 18:05:39 @monitor.py:362]\u001b[0m QueueInput/queue_size: 49.972\n",
      "\u001b[32m[1103 18:05:39 @monitor.py:362]\u001b[0m coverage: 6.3056\n",
      "\u001b[32m[1103 18:05:39 @monitor.py:362]\u001b[0m learning_rate: 0.0001\n",
      "\u001b[32m[1103 18:05:39 @monitor.py:362]\u001b[0m loss/value: 0.16837\n",
      "\u001b[32m[1103 18:05:39 @monitor.py:362]\u001b[0m macro_auc: 0.91661\n",
      "\u001b[32m[1103 18:05:39 @monitor.py:362]\u001b[0m macro_f1: 0.35777\n",
      "\u001b[32m[1103 18:05:39 @monitor.py:362]\u001b[0m mean_average_precision: 0.63031\n",
      "\u001b[32m[1103 18:05:39 @monitor.py:362]\u001b[0m micro_auc: 0.83302\n",
      "\u001b[32m[1103 18:05:39 @monitor.py:362]\u001b[0m micro_f1: 0.35373\n",
      "\u001b[32m[1103 18:05:39 @monitor.py:362]\u001b[0m one_error: 0.52691\n",
      "\u001b[32m[1103 18:05:39 @monitor.py:362]\u001b[0m ranking_loss: 0.19311\n",
      "\u001b[32m[1103 18:05:39 @monitor.py:362]\u001b[0m ranking_mean_average_precision: 0.54514\n",
      "\u001b[32m[1103 18:05:39 @monitor.py:362]\u001b[0m training_ap: 0.42941\n",
      "\u001b[32m[1103 18:05:39 @monitor.py:362]\u001b[0m training_auc: 0.85235\n",
      "\u001b[32m[1103 18:05:39 @group.py:42]\u001b[0m Callbacks took 26.398 sec in total. DataParallelInferenceRunner: 25.051sec\n",
      "\u001b[32m[1103 18:05:39 @base.py:257]\u001b[0m Start Epoch 7 ...\n"
     ]
    },
    {
     "name": "stderr",
     "output_type": "stream",
     "text": [
      "100%|##########|46/46[01:23<00:00, 0.55it/s]"
     ]
    },
    {
     "name": "stdout",
     "output_type": "stream",
     "text": [
      "\u001b[32m[1103 18:07:02 @base.py:267]\u001b[0m Epoch 7 (global_step 322) finished, time:83.09 sec.\n"
     ]
    },
    {
     "name": "stderr",
     "output_type": "stream",
     "text": [
      "\n",
      "100%|##########|18/18[00:24<00:00, 0.72it/s]\n"
     ]
    },
    {
     "name": "stdout",
     "output_type": "stream",
     "text": [
      "\u001b[32m[1103 18:07:27 @saver.py:90]\u001b[0m Model saved to ./train_log/all-stage/model-322.\n",
      "\u001b[32m[1103 18:07:28 @saver.py:159]\u001b[0m Model with maximum 'micro_auc' saved.\n",
      "\u001b[32m[1103 18:07:28 @monitor.py:362]\u001b[0m DataParallelInferenceRunner/QueueInput/queue_size: 49.319\n",
      "\u001b[32m[1103 18:07:28 @monitor.py:362]\u001b[0m QueueInput/queue_size: 49.98\n",
      "\u001b[32m[1103 18:07:28 @monitor.py:362]\u001b[0m coverage: 5.5642\n",
      "\u001b[32m[1103 18:07:28 @monitor.py:362]\u001b[0m learning_rate: 0.0001\n",
      "\u001b[32m[1103 18:07:28 @monitor.py:362]\u001b[0m loss/value: 0.1598\n",
      "\u001b[32m[1103 18:07:28 @monitor.py:362]\u001b[0m macro_auc: 0.92277\n",
      "\u001b[32m[1103 18:07:28 @monitor.py:362]\u001b[0m macro_f1: 0.38321\n",
      "\u001b[32m[1103 18:07:28 @monitor.py:362]\u001b[0m mean_average_precision: 0.64578\n",
      "\u001b[32m[1103 18:07:28 @monitor.py:362]\u001b[0m micro_auc: 0.85159\n",
      "\u001b[32m[1103 18:07:28 @monitor.py:362]\u001b[0m micro_f1: 0.37056\n",
      "\u001b[32m[1103 18:07:28 @monitor.py:362]\u001b[0m one_error: 0.57899\n",
      "\u001b[32m[1103 18:07:28 @monitor.py:362]\u001b[0m ranking_loss: 0.17246\n",
      "\u001b[32m[1103 18:07:28 @monitor.py:362]\u001b[0m ranking_mean_average_precision: 0.54868\n",
      "\u001b[32m[1103 18:07:28 @monitor.py:362]\u001b[0m training_ap: 0.44928\n",
      "\u001b[32m[1103 18:07:28 @monitor.py:362]\u001b[0m training_auc: 0.86259\n",
      "\u001b[32m[1103 18:07:28 @group.py:42]\u001b[0m Callbacks took 25.331 sec in total. DataParallelInferenceRunner: 24.257sec\n",
      "\u001b[32m[1103 18:07:28 @base.py:257]\u001b[0m Start Epoch 8 ...\n"
     ]
    },
    {
     "name": "stderr",
     "output_type": "stream",
     "text": [
      "100%|##########|46/46[01:24<00:00, 0.53it/s]"
     ]
    },
    {
     "name": "stdout",
     "output_type": "stream",
     "text": [
      "\u001b[32m[1103 18:08:52 @base.py:267]\u001b[0m Epoch 8 (global_step 368) finished, time:84.12 sec.\n"
     ]
    },
    {
     "name": "stderr",
     "output_type": "stream",
     "text": [
      "\n",
      "100%|##########|18/18[00:25<00:00, 0.71it/s]\n"
     ]
    },
    {
     "name": "stdout",
     "output_type": "stream",
     "text": [
      "\u001b[32m[1103 18:09:18 @saver.py:90]\u001b[0m Model saved to ./train_log/all-stage/model-368.\n",
      "\u001b[32m[1103 18:09:19 @saver.py:159]\u001b[0m Model with maximum 'micro_auc' saved.\n",
      "\u001b[32m[1103 18:09:19 @monitor.py:362]\u001b[0m DataParallelInferenceRunner/QueueInput/queue_size: 49.743\n",
      "\u001b[32m[1103 18:09:19 @monitor.py:362]\u001b[0m QueueInput/queue_size: 49.998\n",
      "\u001b[32m[1103 18:09:19 @monitor.py:362]\u001b[0m coverage: 4.7691\n",
      "\u001b[32m[1103 18:09:19 @monitor.py:362]\u001b[0m learning_rate: 0.0001\n",
      "\u001b[32m[1103 18:09:19 @monitor.py:362]\u001b[0m loss/value: 0.15577\n",
      "\u001b[32m[1103 18:09:19 @monitor.py:362]\u001b[0m macro_auc: 0.92486\n",
      "\u001b[32m[1103 18:09:19 @monitor.py:362]\u001b[0m macro_f1: 0.37694\n",
      "\u001b[32m[1103 18:09:19 @monitor.py:362]\u001b[0m mean_average_precision: 0.65093\n",
      "\u001b[32m[1103 18:09:19 @monitor.py:362]\u001b[0m micro_auc: 0.88235\n",
      "\u001b[32m[1103 18:09:19 @monitor.py:362]\u001b[0m micro_f1: 0.36985\n",
      "\u001b[32m[1103 18:09:19 @monitor.py:362]\u001b[0m one_error: 0.51562\n",
      "\u001b[32m[1103 18:09:19 @monitor.py:362]\u001b[0m ranking_loss: 0.13721\n",
      "\u001b[32m[1103 18:09:19 @monitor.py:362]\u001b[0m ranking_mean_average_precision: 0.61017\n",
      "\u001b[32m[1103 18:09:19 @monitor.py:362]\u001b[0m training_ap: 0.46713\n",
      "\u001b[32m[1103 18:09:19 @monitor.py:362]\u001b[0m training_auc: 0.87068\n",
      "\u001b[32m[1103 18:09:19 @group.py:42]\u001b[0m Callbacks took 26.789 sec in total. DataParallelInferenceRunner: 25.271sec\n",
      "\u001b[32m[1103 18:09:19 @base.py:257]\u001b[0m Start Epoch 9 ...\n"
     ]
    },
    {
     "name": "stderr",
     "output_type": "stream",
     "text": [
      "100%|##########|46/46[01:23<00:00, 0.54it/s]"
     ]
    },
    {
     "name": "stdout",
     "output_type": "stream",
     "text": [
      "\u001b[32m[1103 18:10:42 @base.py:267]\u001b[0m Epoch 9 (global_step 414) finished, time:83.23 sec.\n"
     ]
    },
    {
     "name": "stderr",
     "output_type": "stream",
     "text": [
      "\n",
      "100%|##########|18/18[00:25<00:00, 0.73it/s]\n"
     ]
    },
    {
     "name": "stdout",
     "output_type": "stream",
     "text": [
      "\u001b[32m[1103 18:11:07 @saver.py:90]\u001b[0m Model saved to ./train_log/all-stage/model-414.\n",
      "\u001b[32m[1103 18:11:07 @saver.py:159]\u001b[0m Model with maximum 'micro_auc' saved.\n",
      "\u001b[32m[1103 18:11:07 @monitor.py:362]\u001b[0m DataParallelInferenceRunner/QueueInput/queue_size: 49.577\n",
      "\u001b[32m[1103 18:11:07 @monitor.py:362]\u001b[0m QueueInput/queue_size: 50\n",
      "\u001b[32m[1103 18:11:07 @monitor.py:362]\u001b[0m coverage: 4.5174\n",
      "\u001b[32m[1103 18:11:07 @monitor.py:362]\u001b[0m learning_rate: 0.0001\n",
      "\u001b[32m[1103 18:11:07 @monitor.py:362]\u001b[0m loss/value: 0.15319\n",
      "\u001b[32m[1103 18:11:07 @monitor.py:362]\u001b[0m macro_auc: 0.92637\n",
      "\u001b[32m[1103 18:11:07 @monitor.py:362]\u001b[0m macro_f1: 0.37852\n",
      "\u001b[32m[1103 18:11:07 @monitor.py:362]\u001b[0m mean_average_precision: 0.6605\n",
      "\u001b[32m[1103 18:11:07 @monitor.py:362]\u001b[0m micro_auc: 0.88705\n",
      "\u001b[32m[1103 18:11:07 @monitor.py:362]\u001b[0m micro_f1: 0.37556\n",
      "\u001b[32m[1103 18:11:07 @monitor.py:362]\u001b[0m one_error: 0.54167\n",
      "\u001b[32m[1103 18:11:07 @monitor.py:362]\u001b[0m ranking_loss: 0.13298\n",
      "\u001b[32m[1103 18:11:07 @monitor.py:362]\u001b[0m ranking_mean_average_precision: 0.60357\n",
      "\u001b[32m[1103 18:11:07 @monitor.py:362]\u001b[0m training_ap: 0.4815\n",
      "\u001b[32m[1103 18:11:07 @monitor.py:362]\u001b[0m training_auc: 0.87723\n",
      "\u001b[32m[1103 18:11:07 @group.py:42]\u001b[0m Callbacks took 25.636 sec in total. DataParallelInferenceRunner: 25.097sec\n",
      "\u001b[32m[1103 18:11:07 @base.py:257]\u001b[0m Start Epoch 10 ...\n"
     ]
    },
    {
     "name": "stderr",
     "output_type": "stream",
     "text": [
      "100%|##########|46/46[01:22<00:00, 0.58it/s]"
     ]
    },
    {
     "name": "stdout",
     "output_type": "stream",
     "text": [
      "\u001b[32m[1103 18:12:30 @base.py:267]\u001b[0m Epoch 10 (global_step 460) finished, time:82.86 sec.\n"
     ]
    },
    {
     "name": "stderr",
     "output_type": "stream",
     "text": [
      "\n",
      "100%|##########|18/18[00:24<00:00, 0.71it/s]\n"
     ]
    },
    {
     "name": "stdout",
     "output_type": "stream",
     "text": [
      "\u001b[32m[1103 18:12:55 @saver.py:90]\u001b[0m Model saved to ./train_log/all-stage/model-460.\n",
      "\u001b[32m[1103 18:12:56 @saver.py:159]\u001b[0m Model with maximum 'micro_auc' saved.\n",
      "\u001b[32m[1103 18:12:56 @monitor.py:362]\u001b[0m DataParallelInferenceRunner/QueueInput/queue_size: 49.597\n",
      "\u001b[32m[1103 18:12:56 @monitor.py:362]\u001b[0m QueueInput/queue_size: 49.957\n",
      "\u001b[32m[1103 18:12:56 @monitor.py:362]\u001b[0m coverage: 4.5286\n",
      "\u001b[32m[1103 18:12:56 @monitor.py:362]\u001b[0m learning_rate: 0.0001\n",
      "\u001b[32m[1103 18:12:56 @monitor.py:362]\u001b[0m loss/value: 0.1454\n",
      "\u001b[32m[1103 18:12:56 @monitor.py:362]\u001b[0m macro_auc: 0.92995\n",
      "\u001b[32m[1103 18:12:56 @monitor.py:362]\u001b[0m macro_f1: 0.37014\n",
      "\u001b[32m[1103 18:12:56 @monitor.py:362]\u001b[0m mean_average_precision: 0.66919\n",
      "\u001b[32m[1103 18:12:56 @monitor.py:362]\u001b[0m micro_auc: 0.89019\n",
      "\u001b[32m[1103 18:12:56 @monitor.py:362]\u001b[0m micro_f1: 0.37239\n",
      "\u001b[32m[1103 18:12:56 @monitor.py:362]\u001b[0m one_error: 0.51823\n",
      "\u001b[32m[1103 18:12:56 @monitor.py:362]\u001b[0m ranking_loss: 0.12608\n",
      "\u001b[32m[1103 18:12:56 @monitor.py:362]\u001b[0m ranking_mean_average_precision: 0.61466\n",
      "\u001b[32m[1103 18:12:56 @monitor.py:362]\u001b[0m training_ap: 0.49608\n",
      "\u001b[32m[1103 18:12:56 @monitor.py:362]\u001b[0m training_auc: 0.88326\n",
      "\u001b[32m[1103 18:12:56 @group.py:42]\u001b[0m Callbacks took 25.650 sec in total. DataParallelInferenceRunner: 24.546sec\n",
      "\u001b[32m[1103 18:12:56 @base.py:257]\u001b[0m Start Epoch 11 ...\n"
     ]
    },
    {
     "name": "stderr",
     "output_type": "stream",
     "text": [
      "100%|##########|46/46[01:23<00:00, 0.55it/s]"
     ]
    },
    {
     "name": "stdout",
     "output_type": "stream",
     "text": [
      "\u001b[32m[1103 18:14:19 @base.py:267]\u001b[0m Epoch 11 (global_step 506) finished, time:83.04 sec.\n"
     ]
    },
    {
     "name": "stderr",
     "output_type": "stream",
     "text": [
      "\n",
      "100%|##########|18/18[00:25<00:00, 0.70it/s]\n"
     ]
    },
    {
     "name": "stdout",
     "output_type": "stream",
     "text": [
      "\u001b[32m[1103 18:14:45 @saver.py:90]\u001b[0m Model saved to ./train_log/all-stage/model-506.\n",
      "\u001b[32m[1103 18:14:46 @saver.py:159]\u001b[0m Model with maximum 'micro_auc' saved.\n",
      "\u001b[32m[1103 18:14:46 @monitor.py:362]\u001b[0m DataParallelInferenceRunner/QueueInput/queue_size: 49.848\n",
      "\u001b[32m[1103 18:14:46 @monitor.py:362]\u001b[0m QueueInput/queue_size: 49.996\n",
      "\u001b[32m[1103 18:14:46 @monitor.py:362]\u001b[0m coverage: 3.8594\n",
      "\u001b[32m[1103 18:14:46 @monitor.py:362]\u001b[0m learning_rate: 0.0001\n",
      "\u001b[32m[1103 18:14:46 @monitor.py:362]\u001b[0m loss/value: 0.14381\n",
      "\u001b[32m[1103 18:14:46 @monitor.py:362]\u001b[0m macro_auc: 0.93284\n",
      "\u001b[32m[1103 18:14:46 @monitor.py:362]\u001b[0m macro_f1: 0.35606\n",
      "\u001b[32m[1103 18:14:46 @monitor.py:362]\u001b[0m mean_average_precision: 0.6903\n",
      "\u001b[32m[1103 18:14:46 @monitor.py:362]\u001b[0m micro_auc: 0.91431\n",
      "\u001b[32m[1103 18:14:46 @monitor.py:362]\u001b[0m micro_f1: 0.3649\n",
      "\u001b[32m[1103 18:14:46 @monitor.py:362]\u001b[0m one_error: 0.43663\n",
      "\u001b[32m[1103 18:14:46 @monitor.py:362]\u001b[0m ranking_loss: 0.098734\n",
      "\u001b[32m[1103 18:14:46 @monitor.py:362]\u001b[0m ranking_mean_average_precision: 0.67645\n",
      "\u001b[32m[1103 18:14:46 @monitor.py:362]\u001b[0m training_ap: 0.50888\n",
      "\u001b[32m[1103 18:14:46 @monitor.py:362]\u001b[0m training_auc: 0.88815\n",
      "\u001b[32m[1103 18:14:46 @group.py:42]\u001b[0m Callbacks took 27.028 sec in total. DataParallelInferenceRunner: 25.609sec\n",
      "\u001b[32m[1103 18:14:46 @base.py:257]\u001b[0m Start Epoch 12 ...\n"
     ]
    },
    {
     "name": "stderr",
     "output_type": "stream",
     "text": [
      "100%|##########|46/46[01:23<00:00, 0.55it/s]"
     ]
    },
    {
     "name": "stdout",
     "output_type": "stream",
     "text": [
      "\u001b[32m[1103 18:16:09 @base.py:267]\u001b[0m Epoch 12 (global_step 552) finished, time:83.13 sec.\n"
     ]
    },
    {
     "name": "stderr",
     "output_type": "stream",
     "text": [
      "\n",
      "100%|##########|18/18[00:25<00:00, 0.73it/s]\n"
     ]
    },
    {
     "name": "stdout",
     "output_type": "stream",
     "text": [
      "\u001b[32m[1103 18:16:35 @saver.py:90]\u001b[0m Model saved to ./train_log/all-stage/model-552.\n",
      "\u001b[32m[1103 18:16:35 @saver.py:159]\u001b[0m Model with maximum 'micro_auc' saved.\n",
      "\u001b[32m[1103 18:16:35 @monitor.py:362]\u001b[0m DataParallelInferenceRunner/QueueInput/queue_size: 49.7\n",
      "\u001b[32m[1103 18:16:35 @monitor.py:362]\u001b[0m QueueInput/queue_size: 49.941\n",
      "\u001b[32m[1103 18:16:35 @monitor.py:362]\u001b[0m coverage: 3.5547\n",
      "\u001b[32m[1103 18:16:35 @monitor.py:362]\u001b[0m learning_rate: 0.0001\n",
      "\u001b[32m[1103 18:16:35 @monitor.py:362]\u001b[0m loss/value: 0.13905\n",
      "\u001b[32m[1103 18:16:35 @monitor.py:362]\u001b[0m macro_auc: 0.93437\n",
      "\u001b[32m[1103 18:16:35 @monitor.py:362]\u001b[0m macro_f1: 0.3663\n",
      "\u001b[32m[1103 18:16:35 @monitor.py:362]\u001b[0m mean_average_precision: 0.69596\n",
      "\u001b[32m[1103 18:16:35 @monitor.py:362]\u001b[0m micro_auc: 0.92326\n",
      "\u001b[32m[1103 18:16:35 @monitor.py:362]\u001b[0m micro_f1: 0.37712\n",
      "\u001b[32m[1103 18:16:35 @monitor.py:362]\u001b[0m one_error: 0.37153\n",
      "\u001b[32m[1103 18:16:35 @monitor.py:362]\u001b[0m ranking_loss: 0.087192\n",
      "\u001b[32m[1103 18:16:35 @monitor.py:362]\u001b[0m ranking_mean_average_precision: 0.7139\n",
      "\u001b[32m[1103 18:16:35 @monitor.py:362]\u001b[0m training_ap: 0.52162\n",
      "\u001b[32m[1103 18:16:35 @monitor.py:362]\u001b[0m training_auc: 0.89264\n",
      "\u001b[32m[1103 18:16:35 @group.py:42]\u001b[0m Callbacks took 26.072 sec in total. DataParallelInferenceRunner: 25.423sec\n",
      "\u001b[32m[1103 18:16:35 @base.py:257]\u001b[0m Start Epoch 13 ...\n"
     ]
    },
    {
     "name": "stderr",
     "output_type": "stream",
     "text": [
      "100%|##########|46/46[01:22<00:00, 0.55it/s]"
     ]
    },
    {
     "name": "stdout",
     "output_type": "stream",
     "text": [
      "\u001b[32m[1103 18:17:58 @base.py:267]\u001b[0m Epoch 13 (global_step 598) finished, time:82.33 sec.\n"
     ]
    },
    {
     "name": "stderr",
     "output_type": "stream",
     "text": [
      "\n",
      "100%|##########|18/18[00:24<00:00, 0.71it/s]\n"
     ]
    },
    {
     "name": "stdout",
     "output_type": "stream",
     "text": [
      "\u001b[32m[1103 18:18:23 @saver.py:90]\u001b[0m Model saved to ./train_log/all-stage/model-598.\n",
      "\u001b[32m[1103 18:18:23 @monitor.py:362]\u001b[0m DataParallelInferenceRunner/QueueInput/queue_size: 49.78\n",
      "\u001b[32m[1103 18:18:23 @monitor.py:362]\u001b[0m QueueInput/queue_size: 49.981\n",
      "\u001b[32m[1103 18:18:23 @monitor.py:362]\u001b[0m coverage: 4.099\n",
      "\u001b[32m[1103 18:18:23 @monitor.py:362]\u001b[0m learning_rate: 0.0001\n",
      "\u001b[32m[1103 18:18:23 @monitor.py:362]\u001b[0m loss/value: 0.13394\n",
      "\u001b[32m[1103 18:18:23 @monitor.py:362]\u001b[0m macro_auc: 0.93744\n",
      "\u001b[32m[1103 18:18:23 @monitor.py:362]\u001b[0m macro_f1: 0.39461\n",
      "\u001b[32m[1103 18:18:23 @monitor.py:362]\u001b[0m mean_average_precision: 0.69978\n",
      "\u001b[32m[1103 18:18:23 @monitor.py:362]\u001b[0m micro_auc: 0.91228\n",
      "\u001b[32m[1103 18:18:23 @monitor.py:362]\u001b[0m micro_f1: 0.40104\n",
      "\u001b[32m[1103 18:18:23 @monitor.py:362]\u001b[0m one_error: 0.37587\n",
      "\u001b[32m[1103 18:18:23 @monitor.py:362]\u001b[0m ranking_loss: 0.10248\n",
      "\u001b[32m[1103 18:18:23 @monitor.py:362]\u001b[0m ranking_mean_average_precision: 0.67894\n",
      "\u001b[32m[1103 18:18:23 @monitor.py:362]\u001b[0m training_ap: 0.53306\n",
      "\u001b[32m[1103 18:18:23 @monitor.py:362]\u001b[0m training_auc: 0.89673\n",
      "\u001b[32m[1103 18:18:23 @group.py:42]\u001b[0m Callbacks took 25.057 sec in total. DataParallelInferenceRunner: 24.769sec\n",
      "\u001b[32m[1103 18:18:23 @base.py:257]\u001b[0m Start Epoch 14 ...\n"
     ]
    },
    {
     "name": "stderr",
     "output_type": "stream",
     "text": [
      "100%|##########|46/46[01:22<00:00, 0.54it/s]"
     ]
    },
    {
     "name": "stdout",
     "output_type": "stream",
     "text": [
      "\u001b[32m[1103 18:19:45 @base.py:267]\u001b[0m Epoch 14 (global_step 644) finished, time:82.22 sec.\n"
     ]
    },
    {
     "name": "stderr",
     "output_type": "stream",
     "text": [
      "\n",
      "100%|##########|18/18[00:25<00:00, 0.72it/s]\n"
     ]
    },
    {
     "name": "stdout",
     "output_type": "stream",
     "text": [
      "\u001b[32m[1103 18:20:11 @saver.py:90]\u001b[0m Model saved to ./train_log/all-stage/model-644.\n",
      "\u001b[32m[1103 18:20:12 @saver.py:159]\u001b[0m Model with maximum 'micro_auc' saved.\n",
      "\u001b[32m[1103 18:20:12 @monitor.py:362]\u001b[0m DataParallelInferenceRunner/QueueInput/queue_size: 49.917\n",
      "\u001b[32m[1103 18:20:12 @monitor.py:362]\u001b[0m QueueInput/queue_size: 49.96\n",
      "\u001b[32m[1103 18:20:12 @monitor.py:362]\u001b[0m coverage: 3.362\n",
      "\u001b[32m[1103 18:20:12 @monitor.py:362]\u001b[0m learning_rate: 0.0001\n",
      "\u001b[32m[1103 18:20:12 @monitor.py:362]\u001b[0m loss/value: 0.12315\n",
      "\u001b[32m[1103 18:20:12 @monitor.py:362]\u001b[0m macro_auc: 0.9361\n",
      "\u001b[32m[1103 18:20:12 @monitor.py:362]\u001b[0m macro_f1: 0.4\n",
      "\u001b[32m[1103 18:20:12 @monitor.py:362]\u001b[0m mean_average_precision: 0.70137\n",
      "\u001b[32m[1103 18:20:12 @monitor.py:362]\u001b[0m micro_auc: 0.93219\n",
      "\u001b[32m[1103 18:20:12 @monitor.py:362]\u001b[0m micro_f1: 0.41592\n",
      "\u001b[32m[1103 18:20:12 @monitor.py:362]\u001b[0m one_error: 0.32726\n",
      "\u001b[32m[1103 18:20:12 @monitor.py:362]\u001b[0m ranking_loss: 0.074664\n",
      "\u001b[32m[1103 18:20:12 @monitor.py:362]\u001b[0m ranking_mean_average_precision: 0.73592\n",
      "\u001b[32m[1103 18:20:12 @monitor.py:362]\u001b[0m training_ap: 0.54535\n",
      "\u001b[32m[1103 18:20:12 @monitor.py:362]\u001b[0m training_auc: 0.90079\n",
      "\u001b[32m[1103 18:20:12 @group.py:42]\u001b[0m Callbacks took 27.109 sec in total. DataParallelInferenceRunner: 25.788sec\n",
      "\u001b[32m[1103 18:20:12 @base.py:257]\u001b[0m Start Epoch 15 ...\n"
     ]
    },
    {
     "name": "stderr",
     "output_type": "stream",
     "text": [
      "100%|##########|46/46[01:21<00:00, 0.58it/s]"
     ]
    },
    {
     "name": "stdout",
     "output_type": "stream",
     "text": [
      "\u001b[32m[1103 18:21:34 @base.py:267]\u001b[0m Epoch 15 (global_step 690) finished, time:81.86 sec.\n",
      "\u001b[32m[1103 18:21:34 @param.py:144]\u001b[0m After epoch 15, learning_rate will change to 0.00010000\n"
     ]
    },
    {
     "name": "stderr",
     "output_type": "stream",
     "text": [
      "\n",
      "100%|##########|18/18[00:24<00:00, 0.75it/s]\n"
     ]
    },
    {
     "name": "stdout",
     "output_type": "stream",
     "text": [
      "\u001b[32m[1103 18:21:59 @saver.py:90]\u001b[0m Model saved to ./train_log/all-stage/model-690.\n",
      "\u001b[32m[1103 18:21:59 @saver.py:159]\u001b[0m Model with maximum 'micro_auc' saved.\n",
      "\u001b[32m[1103 18:21:59 @monitor.py:362]\u001b[0m DataParallelInferenceRunner/QueueInput/queue_size: 49.671\n",
      "\u001b[32m[1103 18:21:59 @monitor.py:362]\u001b[0m QueueInput/queue_size: 49.996\n",
      "\u001b[32m[1103 18:21:59 @monitor.py:362]\u001b[0m coverage: 3.2448\n",
      "\u001b[32m[1103 18:21:59 @monitor.py:362]\u001b[0m learning_rate: 0.0001\n",
      "\u001b[32m[1103 18:21:59 @monitor.py:362]\u001b[0m loss/value: 0.12909\n",
      "\u001b[32m[1103 18:21:59 @monitor.py:362]\u001b[0m macro_auc: 0.94067\n",
      "\u001b[32m[1103 18:21:59 @monitor.py:362]\u001b[0m macro_f1: 0.36437\n",
      "\u001b[32m[1103 18:21:59 @monitor.py:362]\u001b[0m mean_average_precision: 0.71288\n",
      "\u001b[32m[1103 18:21:59 @monitor.py:362]\u001b[0m micro_auc: 0.93444\n",
      "\u001b[32m[1103 18:21:59 @monitor.py:362]\u001b[0m micro_f1: 0.38464\n",
      "\u001b[32m[1103 18:21:59 @monitor.py:362]\u001b[0m one_error: 0.35677\n",
      "\u001b[32m[1103 18:21:59 @monitor.py:362]\u001b[0m ranking_loss: 0.073931\n",
      "\u001b[32m[1103 18:21:59 @monitor.py:362]\u001b[0m ranking_mean_average_precision: 0.7356\n",
      "\u001b[32m[1103 18:21:59 @monitor.py:362]\u001b[0m training_ap: 0.55517\n",
      "\u001b[32m[1103 18:21:59 @monitor.py:362]\u001b[0m training_auc: 0.90397\n",
      "\u001b[32m[1103 18:21:59 @group.py:42]\u001b[0m Callbacks took 25.570 sec in total. DataParallelInferenceRunner: 24.829sec\n",
      "\u001b[32m[1103 18:21:59 @base.py:257]\u001b[0m Start Epoch 16 ...\n"
     ]
    },
    {
     "name": "stderr",
     "output_type": "stream",
     "text": [
      "100%|##########|46/46[01:22<00:00, 0.56it/s]"
     ]
    },
    {
     "name": "stdout",
     "output_type": "stream",
     "text": [
      "\u001b[32m[1103 18:23:22 @base.py:267]\u001b[0m Epoch 16 (global_step 736) finished, time:82.52 sec.\n"
     ]
    },
    {
     "name": "stderr",
     "output_type": "stream",
     "text": [
      "\n",
      "100%|##########|18/18[00:24<00:00, 0.70it/s]\n"
     ]
    },
    {
     "name": "stdout",
     "output_type": "stream",
     "text": [
      "\u001b[32m[1103 18:23:47 @saver.py:90]\u001b[0m Model saved to ./train_log/all-stage/model-736.\n",
      "\u001b[32m[1103 18:23:48 @saver.py:159]\u001b[0m Model with maximum 'micro_auc' saved.\n",
      "\u001b[32m[1103 18:23:48 @monitor.py:362]\u001b[0m DataParallelInferenceRunner/QueueInput/queue_size: 49.757\n",
      "\u001b[32m[1103 18:23:48 @monitor.py:362]\u001b[0m QueueInput/queue_size: 50\n",
      "\u001b[32m[1103 18:23:48 @monitor.py:362]\u001b[0m coverage: 3.0877\n",
      "\u001b[32m[1103 18:23:48 @monitor.py:362]\u001b[0m learning_rate: 0.0001\n",
      "\u001b[32m[1103 18:23:48 @monitor.py:362]\u001b[0m loss/value: 0.12412\n",
      "\u001b[32m[1103 18:23:48 @monitor.py:362]\u001b[0m macro_auc: 0.94263\n",
      "\u001b[32m[1103 18:23:48 @monitor.py:362]\u001b[0m macro_f1: 0.39197\n",
      "\u001b[32m[1103 18:23:48 @monitor.py:362]\u001b[0m mean_average_precision: 0.72445\n",
      "\u001b[32m[1103 18:23:48 @monitor.py:362]\u001b[0m micro_auc: 0.9391\n",
      "\u001b[32m[1103 18:23:48 @monitor.py:362]\u001b[0m micro_f1: 0.41386\n",
      "\u001b[32m[1103 18:23:48 @monitor.py:362]\u001b[0m one_error: 0.32205\n",
      "\u001b[32m[1103 18:23:48 @monitor.py:362]\u001b[0m ranking_loss: 0.066613\n",
      "\u001b[32m[1103 18:23:48 @monitor.py:362]\u001b[0m ranking_mean_average_precision: 0.75846\n",
      "\u001b[32m[1103 18:23:48 @monitor.py:362]\u001b[0m training_ap: 0.56483\n",
      "\u001b[32m[1103 18:23:48 @monitor.py:362]\u001b[0m training_auc: 0.90706\n",
      "\u001b[32m[1103 18:23:48 @group.py:42]\u001b[0m Callbacks took 25.898 sec in total. DataParallelInferenceRunner: 24.748sec\n",
      "\u001b[32m[1103 18:23:48 @base.py:257]\u001b[0m Start Epoch 17 ...\n"
     ]
    },
    {
     "name": "stderr",
     "output_type": "stream",
     "text": [
      "100%|##########|46/46[01:22<00:00, 0.55it/s]"
     ]
    },
    {
     "name": "stdout",
     "output_type": "stream",
     "text": [
      "\u001b[32m[1103 18:25:10 @base.py:267]\u001b[0m Epoch 17 (global_step 782) finished, time:82.47 sec.\n"
     ]
    },
    {
     "name": "stderr",
     "output_type": "stream",
     "text": [
      "\n",
      "100%|##########|18/18[00:25<00:00, 0.71it/s]\n"
     ]
    },
    {
     "name": "stdout",
     "output_type": "stream",
     "text": [
      "\u001b[32m[1103 18:25:36 @saver.py:90]\u001b[0m Model saved to ./train_log/all-stage/model-782.\n",
      "\u001b[32m[1103 18:25:37 @saver.py:159]\u001b[0m Model with maximum 'micro_auc' saved.\n",
      "\u001b[32m[1103 18:25:37 @monitor.py:362]\u001b[0m DataParallelInferenceRunner/QueueInput/queue_size: 49.908\n",
      "\u001b[32m[1103 18:25:37 @monitor.py:362]\u001b[0m QueueInput/queue_size: 49.974\n",
      "\u001b[32m[1103 18:25:37 @monitor.py:362]\u001b[0m coverage: 2.9531\n",
      "\u001b[32m[1103 18:25:37 @monitor.py:362]\u001b[0m learning_rate: 0.0001\n",
      "\u001b[32m[1103 18:25:37 @monitor.py:362]\u001b[0m loss/value: 0.12171\n",
      "\u001b[32m[1103 18:25:37 @monitor.py:362]\u001b[0m macro_auc: 0.94343\n",
      "\u001b[32m[1103 18:25:37 @monitor.py:362]\u001b[0m macro_f1: 0.39194\n",
      "\u001b[32m[1103 18:25:37 @monitor.py:362]\u001b[0m mean_average_precision: 0.72873\n",
      "\u001b[32m[1103 18:25:37 @monitor.py:362]\u001b[0m micro_auc: 0.94326\n",
      "\u001b[32m[1103 18:25:37 @monitor.py:362]\u001b[0m micro_f1: 0.40806\n",
      "\u001b[32m[1103 18:25:37 @monitor.py:362]\u001b[0m one_error: 0.31424\n",
      "\u001b[32m[1103 18:25:37 @monitor.py:362]\u001b[0m ranking_loss: 0.062294\n",
      "\u001b[32m[1103 18:25:37 @monitor.py:362]\u001b[0m ranking_mean_average_precision: 0.76881\n",
      "\u001b[32m[1103 18:25:37 @monitor.py:362]\u001b[0m training_ap: 0.5743\n",
      "\u001b[32m[1103 18:25:37 @monitor.py:362]\u001b[0m training_auc: 0.90999\n",
      "\u001b[32m[1103 18:25:37 @group.py:42]\u001b[0m Callbacks took 26.408 sec in total. DataParallelInferenceRunner: 25.381sec\n",
      "\u001b[32m[1103 18:25:37 @base.py:257]\u001b[0m Start Epoch 18 ...\n"
     ]
    },
    {
     "name": "stderr",
     "output_type": "stream",
     "text": [
      "100%|##########|46/46[01:22<00:00, 0.57it/s]"
     ]
    },
    {
     "name": "stdout",
     "output_type": "stream",
     "text": [
      "\u001b[32m[1103 18:26:59 @base.py:267]\u001b[0m Epoch 18 (global_step 828) finished, time:82.15 sec.\n"
     ]
    },
    {
     "name": "stderr",
     "output_type": "stream",
     "text": [
      "\n",
      "100%|##########|18/18[00:25<00:00, 0.71it/s]\n"
     ]
    },
    {
     "name": "stdout",
     "output_type": "stream",
     "text": [
      "\u001b[32m[1103 18:27:24 @saver.py:90]\u001b[0m Model saved to ./train_log/all-stage/model-828.\n",
      "\u001b[32m[1103 18:27:24 @monitor.py:362]\u001b[0m DataParallelInferenceRunner/QueueInput/queue_size: 49.531\n",
      "\u001b[32m[1103 18:27:24 @monitor.py:362]\u001b[0m QueueInput/queue_size: 49.992\n",
      "\u001b[32m[1103 18:27:24 @monitor.py:362]\u001b[0m coverage: 3.0512\n",
      "\u001b[32m[1103 18:27:24 @monitor.py:362]\u001b[0m learning_rate: 0.0001\n",
      "\u001b[32m[1103 18:27:24 @monitor.py:362]\u001b[0m loss/value: 0.11868\n",
      "\u001b[32m[1103 18:27:24 @monitor.py:362]\u001b[0m macro_auc: 0.94367\n",
      "\u001b[32m[1103 18:27:24 @monitor.py:362]\u001b[0m macro_f1: 0.42422\n",
      "\u001b[32m[1103 18:27:24 @monitor.py:362]\u001b[0m mean_average_precision: 0.72568\n",
      "\u001b[32m[1103 18:27:24 @monitor.py:362]\u001b[0m micro_auc: 0.94182\n",
      "\u001b[32m[1103 18:27:24 @monitor.py:362]\u001b[0m micro_f1: 0.43785\n",
      "\u001b[32m[1103 18:27:24 @monitor.py:362]\u001b[0m one_error: 0.29514\n",
      "\u001b[32m[1103 18:27:24 @monitor.py:362]\u001b[0m ranking_loss: 0.063406\n",
      "\u001b[32m[1103 18:27:24 @monitor.py:362]\u001b[0m ranking_mean_average_precision: 0.77073\n",
      "\u001b[32m[1103 18:27:24 @monitor.py:362]\u001b[0m training_ap: 0.58274\n",
      "\u001b[32m[1103 18:27:24 @monitor.py:362]\u001b[0m training_auc: 0.91264\n",
      "\u001b[32m[1103 18:27:24 @group.py:42]\u001b[0m Callbacks took 25.507 sec in total. DataParallelInferenceRunner: 25.216sec\n",
      "\u001b[32m[1103 18:27:24 @base.py:257]\u001b[0m Start Epoch 19 ...\n"
     ]
    },
    {
     "name": "stderr",
     "output_type": "stream",
     "text": [
      "100%|##########|46/46[01:22<00:00, 0.56it/s]"
     ]
    },
    {
     "name": "stdout",
     "output_type": "stream",
     "text": [
      "\u001b[32m[1103 18:28:47 @base.py:267]\u001b[0m Epoch 19 (global_step 874) finished, time:82.62 sec.\n"
     ]
    },
    {
     "name": "stderr",
     "output_type": "stream",
     "text": [
      "\n",
      "100%|##########|18/18[00:24<00:00, 0.72it/s]\n"
     ]
    },
    {
     "name": "stdout",
     "output_type": "stream",
     "text": [
      "\u001b[32m[1103 18:29:12 @saver.py:90]\u001b[0m Model saved to ./train_log/all-stage/model-874.\n",
      "\u001b[32m[1103 18:29:12 @monitor.py:362]\u001b[0m DataParallelInferenceRunner/QueueInput/queue_size: 49.802\n",
      "\u001b[32m[1103 18:29:12 @monitor.py:362]\u001b[0m QueueInput/queue_size: 49.991\n",
      "\u001b[32m[1103 18:29:12 @monitor.py:362]\u001b[0m coverage: 3.3186\n",
      "\u001b[32m[1103 18:29:12 @monitor.py:362]\u001b[0m learning_rate: 0.0001\n",
      "\u001b[32m[1103 18:29:12 @monitor.py:362]\u001b[0m loss/value: 0.1119\n",
      "\u001b[32m[1103 18:29:12 @monitor.py:362]\u001b[0m macro_auc: 0.94398\n",
      "\u001b[32m[1103 18:29:12 @monitor.py:362]\u001b[0m macro_f1: 0.41422\n",
      "\u001b[32m[1103 18:29:12 @monitor.py:362]\u001b[0m mean_average_precision: 0.73441\n",
      "\u001b[32m[1103 18:29:12 @monitor.py:362]\u001b[0m micro_auc: 0.93434\n",
      "\u001b[32m[1103 18:29:12 @monitor.py:362]\u001b[0m micro_f1: 0.43301\n",
      "\u001b[32m[1103 18:29:12 @monitor.py:362]\u001b[0m one_error: 0.34809\n",
      "\u001b[32m[1103 18:29:12 @monitor.py:362]\u001b[0m ranking_loss: 0.075928\n",
      "\u001b[32m[1103 18:29:12 @monitor.py:362]\u001b[0m ranking_mean_average_precision: 0.7335\n",
      "\u001b[32m[1103 18:29:12 @monitor.py:362]\u001b[0m training_ap: 0.59192\n",
      "\u001b[32m[1103 18:29:12 @monitor.py:362]\u001b[0m training_auc: 0.91532\n",
      "\u001b[32m[1103 18:29:12 @group.py:42]\u001b[0m Callbacks took 25.026 sec in total. DataParallelInferenceRunner: 24.736sec\n",
      "\u001b[32m[1103 18:29:12 @base.py:257]\u001b[0m Start Epoch 20 ...\n"
     ]
    },
    {
     "name": "stderr",
     "output_type": "stream",
     "text": [
      "100%|##########|46/46[01:22<00:00, 0.55it/s]"
     ]
    },
    {
     "name": "stdout",
     "output_type": "stream",
     "text": [
      "\u001b[32m[1103 18:30:35 @base.py:267]\u001b[0m Epoch 20 (global_step 920) finished, time:82.65 sec.\n"
     ]
    },
    {
     "name": "stderr",
     "output_type": "stream",
     "text": [
      "\n",
      "100%|##########|18/18[00:25<00:00, 0.72it/s]\n"
     ]
    },
    {
     "name": "stdout",
     "output_type": "stream",
     "text": [
      "\u001b[32m[1103 18:31:00 @saver.py:90]\u001b[0m Model saved to ./train_log/all-stage/model-920.\n",
      "\u001b[32m[1103 18:31:01 @saver.py:159]\u001b[0m Model with maximum 'micro_auc' saved.\n",
      "\u001b[32m[1103 18:31:01 @monitor.py:362]\u001b[0m DataParallelInferenceRunner/QueueInput/queue_size: 49.925\n",
      "\u001b[32m[1103 18:31:01 @monitor.py:362]\u001b[0m QueueInput/queue_size: 49.989\n",
      "\u001b[32m[1103 18:31:01 @monitor.py:362]\u001b[0m coverage: 2.8299\n",
      "\u001b[32m[1103 18:31:01 @monitor.py:362]\u001b[0m learning_rate: 0.0001\n",
      "\u001b[32m[1103 18:31:01 @monitor.py:362]\u001b[0m loss/value: 0.10828\n",
      "\u001b[32m[1103 18:31:01 @monitor.py:362]\u001b[0m macro_auc: 0.94551\n",
      "\u001b[32m[1103 18:31:01 @monitor.py:362]\u001b[0m macro_f1: 0.44297\n",
      "\u001b[32m[1103 18:31:01 @monitor.py:362]\u001b[0m mean_average_precision: 0.73553\n",
      "\u001b[32m[1103 18:31:01 @monitor.py:362]\u001b[0m micro_auc: 0.9468\n",
      "\u001b[32m[1103 18:31:01 @monitor.py:362]\u001b[0m micro_f1: 0.45549\n",
      "\u001b[32m[1103 18:31:01 @monitor.py:362]\u001b[0m one_error: 0.28993\n",
      "\u001b[32m[1103 18:31:01 @monitor.py:362]\u001b[0m ranking_loss: 0.057721\n",
      "\u001b[32m[1103 18:31:01 @monitor.py:362]\u001b[0m ranking_mean_average_precision: 0.78141\n",
      "\u001b[32m[1103 18:31:01 @monitor.py:362]\u001b[0m training_ap: 0.60069\n",
      "\u001b[32m[1103 18:31:01 @monitor.py:362]\u001b[0m training_auc: 0.91784\n",
      "\u001b[32m[1103 18:31:01 @group.py:42]\u001b[0m Callbacks took 26.578 sec in total. DataParallelInferenceRunner: 25.214sec\n",
      "\u001b[32m[1103 18:31:01 @base.py:257]\u001b[0m Start Epoch 21 ...\n"
     ]
    },
    {
     "name": "stderr",
     "output_type": "stream",
     "text": [
      "100%|##########|46/46[01:22<00:00, 0.54it/s]"
     ]
    },
    {
     "name": "stdout",
     "output_type": "stream",
     "text": [
      "\u001b[32m[1103 18:32:24 @base.py:267]\u001b[0m Epoch 21 (global_step 966) finished, time:82.62 sec.\n"
     ]
    },
    {
     "name": "stderr",
     "output_type": "stream",
     "text": [
      "\n",
      "100%|##########|18/18[00:24<00:00, 0.74it/s]\n"
     ]
    },
    {
     "name": "stdout",
     "output_type": "stream",
     "text": [
      "\u001b[32m[1103 18:32:49 @saver.py:90]\u001b[0m Model saved to ./train_log/all-stage/model-966.\n",
      "\u001b[32m[1103 18:32:49 @monitor.py:362]\u001b[0m DataParallelInferenceRunner/QueueInput/queue_size: 49.542\n",
      "\u001b[32m[1103 18:32:49 @monitor.py:362]\u001b[0m QueueInput/queue_size: 49.999\n",
      "\u001b[32m[1103 18:32:49 @monitor.py:362]\u001b[0m coverage: 2.9566\n",
      "\u001b[32m[1103 18:32:49 @monitor.py:362]\u001b[0m learning_rate: 0.0001\n",
      "\u001b[32m[1103 18:32:49 @monitor.py:362]\u001b[0m loss/value: 0.10964\n",
      "\u001b[32m[1103 18:32:49 @monitor.py:362]\u001b[0m macro_auc: 0.94399\n",
      "\u001b[32m[1103 18:32:49 @monitor.py:362]\u001b[0m macro_f1: 0.45075\n",
      "\u001b[32m[1103 18:32:49 @monitor.py:362]\u001b[0m mean_average_precision: 0.72654\n",
      "\u001b[32m[1103 18:32:49 @monitor.py:362]\u001b[0m micro_auc: 0.94365\n",
      "\u001b[32m[1103 18:32:49 @monitor.py:362]\u001b[0m micro_f1: 0.46634\n",
      "\u001b[32m[1103 18:32:49 @monitor.py:362]\u001b[0m one_error: 0.30556\n",
      "\u001b[32m[1103 18:32:49 @monitor.py:362]\u001b[0m ranking_loss: 0.062439\n",
      "\u001b[32m[1103 18:32:49 @monitor.py:362]\u001b[0m ranking_mean_average_precision: 0.7709\n",
      "\u001b[32m[1103 18:32:49 @monitor.py:362]\u001b[0m training_ap: 0.60871\n",
      "\u001b[32m[1103 18:32:49 @monitor.py:362]\u001b[0m training_auc: 0.92012\n",
      "\u001b[32m[1103 18:32:49 @group.py:42]\u001b[0m Callbacks took 25.251 sec in total. DataParallelInferenceRunner: 24.952sec\n",
      "\u001b[32m[1103 18:32:49 @base.py:257]\u001b[0m Start Epoch 22 ...\n"
     ]
    },
    {
     "name": "stderr",
     "output_type": "stream",
     "text": [
      "100%|##########|46/46[01:22<00:00, 0.55it/s]"
     ]
    },
    {
     "name": "stdout",
     "output_type": "stream",
     "text": [
      "\u001b[32m[1103 18:34:12 @base.py:267]\u001b[0m Epoch 22 (global_step 1012) finished, time:82.52 sec.\n"
     ]
    },
    {
     "name": "stderr",
     "output_type": "stream",
     "text": [
      "\n",
      "100%|##########|18/18[00:25<00:00, 0.71it/s]\n"
     ]
    },
    {
     "name": "stdout",
     "output_type": "stream",
     "text": [
      "\u001b[32m[1103 18:34:37 @saver.py:90]\u001b[0m Model saved to ./train_log/all-stage/model-1012.\n",
      "\u001b[32m[1103 18:34:37 @monitor.py:362]\u001b[0m DataParallelInferenceRunner/QueueInput/queue_size: 49.827\n",
      "\u001b[32m[1103 18:34:37 @monitor.py:362]\u001b[0m QueueInput/queue_size: 50\n",
      "\u001b[32m[1103 18:34:37 @monitor.py:362]\u001b[0m coverage: 3.3628\n",
      "\u001b[32m[1103 18:34:37 @monitor.py:362]\u001b[0m learning_rate: 0.0001\n",
      "\u001b[32m[1103 18:34:37 @monitor.py:362]\u001b[0m loss/value: 0.10494\n",
      "\u001b[32m[1103 18:34:37 @monitor.py:362]\u001b[0m macro_auc: 0.94593\n",
      "\u001b[32m[1103 18:34:37 @monitor.py:362]\u001b[0m macro_f1: 0.47601\n",
      "\u001b[32m[1103 18:34:37 @monitor.py:362]\u001b[0m mean_average_precision: 0.74381\n",
      "\u001b[32m[1103 18:34:37 @monitor.py:362]\u001b[0m micro_auc: 0.92501\n",
      "\u001b[32m[1103 18:34:37 @monitor.py:362]\u001b[0m micro_f1: 0.47503\n",
      "\u001b[32m[1103 18:34:37 @monitor.py:362]\u001b[0m one_error: 0.3724\n",
      "\u001b[32m[1103 18:34:37 @monitor.py:362]\u001b[0m ranking_loss: 0.081982\n",
      "\u001b[32m[1103 18:34:37 @monitor.py:362]\u001b[0m ranking_mean_average_precision: 0.72581\n",
      "\u001b[32m[1103 18:34:37 @monitor.py:362]\u001b[0m training_ap: 0.6167\n",
      "\u001b[32m[1103 18:34:37 @monitor.py:362]\u001b[0m training_auc: 0.92234\n",
      "\u001b[32m[1103 18:34:37 @group.py:42]\u001b[0m Callbacks took 25.353 sec in total. DataParallelInferenceRunner: 25.027sec\n",
      "\u001b[32m[1103 18:34:37 @base.py:271]\u001b[0m Training has finished!\n",
      "\u001b[32m[1103 18:34:37 @input_source.py:148]\u001b[0m EnqueueThread DataParallelInferenceRunner/QueueInput/input_queue Exited.\n",
      "\u001b[32m[1103 18:34:37 @input_source.py:148]\u001b[0m EnqueueThread QueueInput/input_queue Exited.\n"
     ]
    }
   ],
   "source": [
    "np.set_printoptions(formatter={'float_kind': lambda x: '%.2f' % x})\n",
    "model = RNN(config, is_finetuning=False, \n",
    "              label_scale=dm.get_imbalance_ratio().train.values)\n",
    "tf.reset_default_graph()\n",
    "train_config = TrainConfig(model=model, dataflow=train_data,\n",
    "                           callbacks=[\n",
    "                               ScheduledHyperParamSetter('learning_rate', [(0, 1e-4), (15, 1e-4), \n",
    "                                                                           (40, 1e-5)]),\n",
    "                               InfRunner(val_data, [AggregateMetric(config.validation_metrics, threshold)],\n",
    "                                         [0]),\n",
    "                               ModelSaver(var_collections='model_variables'),\n",
    "                               MaxSaver('micro_auc', save_name),\n",
    "                           ],\n",
    "                           session_init=SaverRestore(\n",
    "                               model_path=resnet_loc, ignore=ignore_restore),\n",
    "                           max_epoch=22, tower=[0])\n",
    "Trainer(train_config).train()"
   ]
  },
  {
   "cell_type": "code",
   "execution_count": 14,
   "metadata": {},
   "outputs": [
    {
     "data": {
      "text/plain": [
       "[<tf.Variable 'EMA/QueueInput/queue_size:0' shape=() dtype=float32_ref>,\n",
       " <tf.Variable 'EMA/QueueInput/queue_size/biased:0' shape=() dtype=float32_ref>,\n",
       " <tf.Variable 'EMA/QueueInput/queue_size/local_step:0' shape=() dtype=float32_ref>,\n",
       " <tf.Variable 'resnet_v2_101/conv1/weights:0' shape=(7, 7, 3, 64) dtype=float32_ref>,\n",
       " <tf.Variable 'resnet_v2_101/conv1/biases:0' shape=(64,) dtype=float32_ref>,\n",
       " <tf.Variable 'resnet_v2_101/block1/unit_1/bottleneck_v2/preact/beta:0' shape=(64,) dtype=float32_ref>,\n",
       " <tf.Variable 'resnet_v2_101/block1/unit_1/bottleneck_v2/preact/gamma:0' shape=(64,) dtype=float32_ref>,\n",
       " <tf.Variable 'resnet_v2_101/block1/unit_1/bottleneck_v2/preact/moving_mean:0' shape=(64,) dtype=float32_ref>,\n",
       " <tf.Variable 'resnet_v2_101/block1/unit_1/bottleneck_v2/preact/moving_variance:0' shape=(64,) dtype=float32_ref>,\n",
       " <tf.Variable 'resnet_v2_101/block1/unit_1/bottleneck_v2/shortcut/weights:0' shape=(1, 1, 64, 256) dtype=float32_ref>,\n",
       " <tf.Variable 'resnet_v2_101/block1/unit_1/bottleneck_v2/shortcut/biases:0' shape=(256,) dtype=float32_ref>,\n",
       " <tf.Variable 'resnet_v2_101/block1/unit_1/bottleneck_v2/conv1/weights:0' shape=(1, 1, 64, 64) dtype=float32_ref>,\n",
       " <tf.Variable 'resnet_v2_101/block1/unit_1/bottleneck_v2/conv1/BatchNorm/beta:0' shape=(64,) dtype=float32_ref>,\n",
       " <tf.Variable 'resnet_v2_101/block1/unit_1/bottleneck_v2/conv1/BatchNorm/gamma:0' shape=(64,) dtype=float32_ref>,\n",
       " <tf.Variable 'resnet_v2_101/block1/unit_1/bottleneck_v2/conv1/BatchNorm/moving_mean:0' shape=(64,) dtype=float32_ref>,\n",
       " <tf.Variable 'resnet_v2_101/block1/unit_1/bottleneck_v2/conv1/BatchNorm/moving_variance:0' shape=(64,) dtype=float32_ref>,\n",
       " <tf.Variable 'resnet_v2_101/block1/unit_1/bottleneck_v2/conv2/weights:0' shape=(3, 3, 64, 64) dtype=float32_ref>,\n",
       " <tf.Variable 'resnet_v2_101/block1/unit_1/bottleneck_v2/conv2/BatchNorm/beta:0' shape=(64,) dtype=float32_ref>,\n",
       " <tf.Variable 'resnet_v2_101/block1/unit_1/bottleneck_v2/conv2/BatchNorm/gamma:0' shape=(64,) dtype=float32_ref>,\n",
       " <tf.Variable 'resnet_v2_101/block1/unit_1/bottleneck_v2/conv2/BatchNorm/moving_mean:0' shape=(64,) dtype=float32_ref>,\n",
       " <tf.Variable 'resnet_v2_101/block1/unit_1/bottleneck_v2/conv2/BatchNorm/moving_variance:0' shape=(64,) dtype=float32_ref>,\n",
       " <tf.Variable 'resnet_v2_101/block1/unit_1/bottleneck_v2/conv3/weights:0' shape=(1, 1, 64, 256) dtype=float32_ref>,\n",
       " <tf.Variable 'resnet_v2_101/block1/unit_1/bottleneck_v2/conv3/biases:0' shape=(256,) dtype=float32_ref>,\n",
       " <tf.Variable 'resnet_v2_101/block1/unit_2/bottleneck_v2/preact/beta:0' shape=(256,) dtype=float32_ref>,\n",
       " <tf.Variable 'resnet_v2_101/block1/unit_2/bottleneck_v2/preact/gamma:0' shape=(256,) dtype=float32_ref>,\n",
       " <tf.Variable 'resnet_v2_101/block1/unit_2/bottleneck_v2/preact/moving_mean:0' shape=(256,) dtype=float32_ref>,\n",
       " <tf.Variable 'resnet_v2_101/block1/unit_2/bottleneck_v2/preact/moving_variance:0' shape=(256,) dtype=float32_ref>,\n",
       " <tf.Variable 'resnet_v2_101/block1/unit_2/bottleneck_v2/conv1/weights:0' shape=(1, 1, 256, 64) dtype=float32_ref>,\n",
       " <tf.Variable 'resnet_v2_101/block1/unit_2/bottleneck_v2/conv1/BatchNorm/beta:0' shape=(64,) dtype=float32_ref>,\n",
       " <tf.Variable 'resnet_v2_101/block1/unit_2/bottleneck_v2/conv1/BatchNorm/gamma:0' shape=(64,) dtype=float32_ref>,\n",
       " <tf.Variable 'resnet_v2_101/block1/unit_2/bottleneck_v2/conv1/BatchNorm/moving_mean:0' shape=(64,) dtype=float32_ref>,\n",
       " <tf.Variable 'resnet_v2_101/block1/unit_2/bottleneck_v2/conv1/BatchNorm/moving_variance:0' shape=(64,) dtype=float32_ref>,\n",
       " <tf.Variable 'resnet_v2_101/block1/unit_2/bottleneck_v2/conv2/weights:0' shape=(3, 3, 64, 64) dtype=float32_ref>,\n",
       " <tf.Variable 'resnet_v2_101/block1/unit_2/bottleneck_v2/conv2/BatchNorm/beta:0' shape=(64,) dtype=float32_ref>,\n",
       " <tf.Variable 'resnet_v2_101/block1/unit_2/bottleneck_v2/conv2/BatchNorm/gamma:0' shape=(64,) dtype=float32_ref>,\n",
       " <tf.Variable 'resnet_v2_101/block1/unit_2/bottleneck_v2/conv2/BatchNorm/moving_mean:0' shape=(64,) dtype=float32_ref>,\n",
       " <tf.Variable 'resnet_v2_101/block1/unit_2/bottleneck_v2/conv2/BatchNorm/moving_variance:0' shape=(64,) dtype=float32_ref>,\n",
       " <tf.Variable 'resnet_v2_101/block1/unit_2/bottleneck_v2/conv3/weights:0' shape=(1, 1, 64, 256) dtype=float32_ref>,\n",
       " <tf.Variable 'resnet_v2_101/block1/unit_2/bottleneck_v2/conv3/biases:0' shape=(256,) dtype=float32_ref>,\n",
       " <tf.Variable 'resnet_v2_101/block1/unit_3/bottleneck_v2/preact/beta:0' shape=(256,) dtype=float32_ref>,\n",
       " <tf.Variable 'resnet_v2_101/block1/unit_3/bottleneck_v2/preact/gamma:0' shape=(256,) dtype=float32_ref>,\n",
       " <tf.Variable 'resnet_v2_101/block1/unit_3/bottleneck_v2/preact/moving_mean:0' shape=(256,) dtype=float32_ref>,\n",
       " <tf.Variable 'resnet_v2_101/block1/unit_3/bottleneck_v2/preact/moving_variance:0' shape=(256,) dtype=float32_ref>,\n",
       " <tf.Variable 'resnet_v2_101/block1/unit_3/bottleneck_v2/conv1/weights:0' shape=(1, 1, 256, 64) dtype=float32_ref>,\n",
       " <tf.Variable 'resnet_v2_101/block1/unit_3/bottleneck_v2/conv1/BatchNorm/beta:0' shape=(64,) dtype=float32_ref>,\n",
       " <tf.Variable 'resnet_v2_101/block1/unit_3/bottleneck_v2/conv1/BatchNorm/gamma:0' shape=(64,) dtype=float32_ref>,\n",
       " <tf.Variable 'resnet_v2_101/block1/unit_3/bottleneck_v2/conv1/BatchNorm/moving_mean:0' shape=(64,) dtype=float32_ref>,\n",
       " <tf.Variable 'resnet_v2_101/block1/unit_3/bottleneck_v2/conv1/BatchNorm/moving_variance:0' shape=(64,) dtype=float32_ref>,\n",
       " <tf.Variable 'resnet_v2_101/block1/unit_3/bottleneck_v2/conv2/weights:0' shape=(3, 3, 64, 64) dtype=float32_ref>,\n",
       " <tf.Variable 'resnet_v2_101/block1/unit_3/bottleneck_v2/conv2/BatchNorm/beta:0' shape=(64,) dtype=float32_ref>,\n",
       " <tf.Variable 'resnet_v2_101/block1/unit_3/bottleneck_v2/conv2/BatchNorm/gamma:0' shape=(64,) dtype=float32_ref>,\n",
       " <tf.Variable 'resnet_v2_101/block1/unit_3/bottleneck_v2/conv2/BatchNorm/moving_mean:0' shape=(64,) dtype=float32_ref>,\n",
       " <tf.Variable 'resnet_v2_101/block1/unit_3/bottleneck_v2/conv2/BatchNorm/moving_variance:0' shape=(64,) dtype=float32_ref>,\n",
       " <tf.Variable 'resnet_v2_101/block1/unit_3/bottleneck_v2/conv3/weights:0' shape=(1, 1, 64, 256) dtype=float32_ref>,\n",
       " <tf.Variable 'resnet_v2_101/block1/unit_3/bottleneck_v2/conv3/biases:0' shape=(256,) dtype=float32_ref>,\n",
       " <tf.Variable 'resnet_v2_101/block2/unit_1/bottleneck_v2/preact/beta:0' shape=(256,) dtype=float32_ref>,\n",
       " <tf.Variable 'resnet_v2_101/block2/unit_1/bottleneck_v2/preact/gamma:0' shape=(256,) dtype=float32_ref>,\n",
       " <tf.Variable 'resnet_v2_101/block2/unit_1/bottleneck_v2/preact/moving_mean:0' shape=(256,) dtype=float32_ref>,\n",
       " <tf.Variable 'resnet_v2_101/block2/unit_1/bottleneck_v2/preact/moving_variance:0' shape=(256,) dtype=float32_ref>,\n",
       " <tf.Variable 'resnet_v2_101/block2/unit_1/bottleneck_v2/shortcut/weights:0' shape=(1, 1, 256, 512) dtype=float32_ref>,\n",
       " <tf.Variable 'resnet_v2_101/block2/unit_1/bottleneck_v2/shortcut/biases:0' shape=(512,) dtype=float32_ref>,\n",
       " <tf.Variable 'resnet_v2_101/block2/unit_1/bottleneck_v2/conv1/weights:0' shape=(1, 1, 256, 128) dtype=float32_ref>,\n",
       " <tf.Variable 'resnet_v2_101/block2/unit_1/bottleneck_v2/conv1/BatchNorm/beta:0' shape=(128,) dtype=float32_ref>,\n",
       " <tf.Variable 'resnet_v2_101/block2/unit_1/bottleneck_v2/conv1/BatchNorm/gamma:0' shape=(128,) dtype=float32_ref>,\n",
       " <tf.Variable 'resnet_v2_101/block2/unit_1/bottleneck_v2/conv1/BatchNorm/moving_mean:0' shape=(128,) dtype=float32_ref>,\n",
       " <tf.Variable 'resnet_v2_101/block2/unit_1/bottleneck_v2/conv1/BatchNorm/moving_variance:0' shape=(128,) dtype=float32_ref>,\n",
       " <tf.Variable 'resnet_v2_101/block2/unit_1/bottleneck_v2/conv2/weights:0' shape=(3, 3, 128, 128) dtype=float32_ref>,\n",
       " <tf.Variable 'resnet_v2_101/block2/unit_1/bottleneck_v2/conv2/BatchNorm/beta:0' shape=(128,) dtype=float32_ref>,\n",
       " <tf.Variable 'resnet_v2_101/block2/unit_1/bottleneck_v2/conv2/BatchNorm/gamma:0' shape=(128,) dtype=float32_ref>,\n",
       " <tf.Variable 'resnet_v2_101/block2/unit_1/bottleneck_v2/conv2/BatchNorm/moving_mean:0' shape=(128,) dtype=float32_ref>,\n",
       " <tf.Variable 'resnet_v2_101/block2/unit_1/bottleneck_v2/conv2/BatchNorm/moving_variance:0' shape=(128,) dtype=float32_ref>,\n",
       " <tf.Variable 'resnet_v2_101/block2/unit_1/bottleneck_v2/conv3/weights:0' shape=(1, 1, 128, 512) dtype=float32_ref>,\n",
       " <tf.Variable 'resnet_v2_101/block2/unit_1/bottleneck_v2/conv3/biases:0' shape=(512,) dtype=float32_ref>,\n",
       " <tf.Variable 'resnet_v2_101/block2/unit_2/bottleneck_v2/preact/beta:0' shape=(512,) dtype=float32_ref>,\n",
       " <tf.Variable 'resnet_v2_101/block2/unit_2/bottleneck_v2/preact/gamma:0' shape=(512,) dtype=float32_ref>,\n",
       " <tf.Variable 'resnet_v2_101/block2/unit_2/bottleneck_v2/preact/moving_mean:0' shape=(512,) dtype=float32_ref>,\n",
       " <tf.Variable 'resnet_v2_101/block2/unit_2/bottleneck_v2/preact/moving_variance:0' shape=(512,) dtype=float32_ref>,\n",
       " <tf.Variable 'resnet_v2_101/block2/unit_2/bottleneck_v2/conv1/weights:0' shape=(1, 1, 512, 128) dtype=float32_ref>,\n",
       " <tf.Variable 'resnet_v2_101/block2/unit_2/bottleneck_v2/conv1/BatchNorm/beta:0' shape=(128,) dtype=float32_ref>,\n",
       " <tf.Variable 'resnet_v2_101/block2/unit_2/bottleneck_v2/conv1/BatchNorm/gamma:0' shape=(128,) dtype=float32_ref>,\n",
       " <tf.Variable 'resnet_v2_101/block2/unit_2/bottleneck_v2/conv1/BatchNorm/moving_mean:0' shape=(128,) dtype=float32_ref>,\n",
       " <tf.Variable 'resnet_v2_101/block2/unit_2/bottleneck_v2/conv1/BatchNorm/moving_variance:0' shape=(128,) dtype=float32_ref>,\n",
       " <tf.Variable 'resnet_v2_101/block2/unit_2/bottleneck_v2/conv2/weights:0' shape=(3, 3, 128, 128) dtype=float32_ref>,\n",
       " <tf.Variable 'resnet_v2_101/block2/unit_2/bottleneck_v2/conv2/BatchNorm/beta:0' shape=(128,) dtype=float32_ref>,\n",
       " <tf.Variable 'resnet_v2_101/block2/unit_2/bottleneck_v2/conv2/BatchNorm/gamma:0' shape=(128,) dtype=float32_ref>,\n",
       " <tf.Variable 'resnet_v2_101/block2/unit_2/bottleneck_v2/conv2/BatchNorm/moving_mean:0' shape=(128,) dtype=float32_ref>,\n",
       " <tf.Variable 'resnet_v2_101/block2/unit_2/bottleneck_v2/conv2/BatchNorm/moving_variance:0' shape=(128,) dtype=float32_ref>,\n",
       " <tf.Variable 'resnet_v2_101/block2/unit_2/bottleneck_v2/conv3/weights:0' shape=(1, 1, 128, 512) dtype=float32_ref>,\n",
       " <tf.Variable 'resnet_v2_101/block2/unit_2/bottleneck_v2/conv3/biases:0' shape=(512,) dtype=float32_ref>,\n",
       " <tf.Variable 'resnet_v2_101/block2/unit_3/bottleneck_v2/preact/beta:0' shape=(512,) dtype=float32_ref>,\n",
       " <tf.Variable 'resnet_v2_101/block2/unit_3/bottleneck_v2/preact/gamma:0' shape=(512,) dtype=float32_ref>,\n",
       " <tf.Variable 'resnet_v2_101/block2/unit_3/bottleneck_v2/preact/moving_mean:0' shape=(512,) dtype=float32_ref>,\n",
       " <tf.Variable 'resnet_v2_101/block2/unit_3/bottleneck_v2/preact/moving_variance:0' shape=(512,) dtype=float32_ref>,\n",
       " <tf.Variable 'resnet_v2_101/block2/unit_3/bottleneck_v2/conv1/weights:0' shape=(1, 1, 512, 128) dtype=float32_ref>,\n",
       " <tf.Variable 'resnet_v2_101/block2/unit_3/bottleneck_v2/conv1/BatchNorm/beta:0' shape=(128,) dtype=float32_ref>,\n",
       " <tf.Variable 'resnet_v2_101/block2/unit_3/bottleneck_v2/conv1/BatchNorm/gamma:0' shape=(128,) dtype=float32_ref>,\n",
       " <tf.Variable 'resnet_v2_101/block2/unit_3/bottleneck_v2/conv1/BatchNorm/moving_mean:0' shape=(128,) dtype=float32_ref>,\n",
       " <tf.Variable 'resnet_v2_101/block2/unit_3/bottleneck_v2/conv1/BatchNorm/moving_variance:0' shape=(128,) dtype=float32_ref>,\n",
       " <tf.Variable 'resnet_v2_101/block2/unit_3/bottleneck_v2/conv2/weights:0' shape=(3, 3, 128, 128) dtype=float32_ref>,\n",
       " <tf.Variable 'resnet_v2_101/block2/unit_3/bottleneck_v2/conv2/BatchNorm/beta:0' shape=(128,) dtype=float32_ref>,\n",
       " <tf.Variable 'resnet_v2_101/block2/unit_3/bottleneck_v2/conv2/BatchNorm/gamma:0' shape=(128,) dtype=float32_ref>,\n",
       " <tf.Variable 'resnet_v2_101/block2/unit_3/bottleneck_v2/conv2/BatchNorm/moving_mean:0' shape=(128,) dtype=float32_ref>,\n",
       " <tf.Variable 'resnet_v2_101/block2/unit_3/bottleneck_v2/conv2/BatchNorm/moving_variance:0' shape=(128,) dtype=float32_ref>,\n",
       " <tf.Variable 'resnet_v2_101/block2/unit_3/bottleneck_v2/conv3/weights:0' shape=(1, 1, 128, 512) dtype=float32_ref>,\n",
       " <tf.Variable 'resnet_v2_101/block2/unit_3/bottleneck_v2/conv3/biases:0' shape=(512,) dtype=float32_ref>,\n",
       " <tf.Variable 'resnet_v2_101/block2/unit_4/bottleneck_v2/preact/beta:0' shape=(512,) dtype=float32_ref>,\n",
       " <tf.Variable 'resnet_v2_101/block2/unit_4/bottleneck_v2/preact/gamma:0' shape=(512,) dtype=float32_ref>,\n",
       " <tf.Variable 'resnet_v2_101/block2/unit_4/bottleneck_v2/preact/moving_mean:0' shape=(512,) dtype=float32_ref>,\n",
       " <tf.Variable 'resnet_v2_101/block2/unit_4/bottleneck_v2/preact/moving_variance:0' shape=(512,) dtype=float32_ref>,\n",
       " <tf.Variable 'resnet_v2_101/block2/unit_4/bottleneck_v2/conv1/weights:0' shape=(1, 1, 512, 128) dtype=float32_ref>,\n",
       " <tf.Variable 'resnet_v2_101/block2/unit_4/bottleneck_v2/conv1/BatchNorm/beta:0' shape=(128,) dtype=float32_ref>,\n",
       " <tf.Variable 'resnet_v2_101/block2/unit_4/bottleneck_v2/conv1/BatchNorm/gamma:0' shape=(128,) dtype=float32_ref>,\n",
       " <tf.Variable 'resnet_v2_101/block2/unit_4/bottleneck_v2/conv1/BatchNorm/moving_mean:0' shape=(128,) dtype=float32_ref>,\n",
       " <tf.Variable 'resnet_v2_101/block2/unit_4/bottleneck_v2/conv1/BatchNorm/moving_variance:0' shape=(128,) dtype=float32_ref>,\n",
       " <tf.Variable 'resnet_v2_101/block2/unit_4/bottleneck_v2/conv2/weights:0' shape=(3, 3, 128, 128) dtype=float32_ref>,\n",
       " <tf.Variable 'resnet_v2_101/block2/unit_4/bottleneck_v2/conv2/BatchNorm/beta:0' shape=(128,) dtype=float32_ref>,\n",
       " <tf.Variable 'resnet_v2_101/block2/unit_4/bottleneck_v2/conv2/BatchNorm/gamma:0' shape=(128,) dtype=float32_ref>,\n",
       " <tf.Variable 'resnet_v2_101/block2/unit_4/bottleneck_v2/conv2/BatchNorm/moving_mean:0' shape=(128,) dtype=float32_ref>,\n",
       " <tf.Variable 'resnet_v2_101/block2/unit_4/bottleneck_v2/conv2/BatchNorm/moving_variance:0' shape=(128,) dtype=float32_ref>,\n",
       " <tf.Variable 'resnet_v2_101/block2/unit_4/bottleneck_v2/conv3/weights:0' shape=(1, 1, 128, 512) dtype=float32_ref>,\n",
       " <tf.Variable 'resnet_v2_101/block2/unit_4/bottleneck_v2/conv3/biases:0' shape=(512,) dtype=float32_ref>,\n",
       " <tf.Variable 'resnet_v2_101/block3/unit_1/bottleneck_v2/preact/beta:0' shape=(512,) dtype=float32_ref>,\n",
       " <tf.Variable 'resnet_v2_101/block3/unit_1/bottleneck_v2/preact/gamma:0' shape=(512,) dtype=float32_ref>,\n",
       " <tf.Variable 'resnet_v2_101/block3/unit_1/bottleneck_v2/preact/moving_mean:0' shape=(512,) dtype=float32_ref>,\n",
       " <tf.Variable 'resnet_v2_101/block3/unit_1/bottleneck_v2/preact/moving_variance:0' shape=(512,) dtype=float32_ref>,\n",
       " <tf.Variable 'resnet_v2_101/block3/unit_1/bottleneck_v2/shortcut/weights:0' shape=(1, 1, 512, 1024) dtype=float32_ref>,\n",
       " <tf.Variable 'resnet_v2_101/block3/unit_1/bottleneck_v2/shortcut/biases:0' shape=(1024,) dtype=float32_ref>,\n",
       " <tf.Variable 'resnet_v2_101/block3/unit_1/bottleneck_v2/conv1/weights:0' shape=(1, 1, 512, 256) dtype=float32_ref>,\n",
       " <tf.Variable 'resnet_v2_101/block3/unit_1/bottleneck_v2/conv1/BatchNorm/beta:0' shape=(256,) dtype=float32_ref>,\n",
       " <tf.Variable 'resnet_v2_101/block3/unit_1/bottleneck_v2/conv1/BatchNorm/gamma:0' shape=(256,) dtype=float32_ref>,\n",
       " <tf.Variable 'resnet_v2_101/block3/unit_1/bottleneck_v2/conv1/BatchNorm/moving_mean:0' shape=(256,) dtype=float32_ref>,\n",
       " <tf.Variable 'resnet_v2_101/block3/unit_1/bottleneck_v2/conv1/BatchNorm/moving_variance:0' shape=(256,) dtype=float32_ref>,\n",
       " <tf.Variable 'resnet_v2_101/block3/unit_1/bottleneck_v2/conv2/weights:0' shape=(3, 3, 256, 256) dtype=float32_ref>,\n",
       " <tf.Variable 'resnet_v2_101/block3/unit_1/bottleneck_v2/conv2/BatchNorm/beta:0' shape=(256,) dtype=float32_ref>,\n",
       " <tf.Variable 'resnet_v2_101/block3/unit_1/bottleneck_v2/conv2/BatchNorm/gamma:0' shape=(256,) dtype=float32_ref>,\n",
       " <tf.Variable 'resnet_v2_101/block3/unit_1/bottleneck_v2/conv2/BatchNorm/moving_mean:0' shape=(256,) dtype=float32_ref>,\n",
       " <tf.Variable 'resnet_v2_101/block3/unit_1/bottleneck_v2/conv2/BatchNorm/moving_variance:0' shape=(256,) dtype=float32_ref>,\n",
       " <tf.Variable 'resnet_v2_101/block3/unit_1/bottleneck_v2/conv3/weights:0' shape=(1, 1, 256, 1024) dtype=float32_ref>,\n",
       " <tf.Variable 'resnet_v2_101/block3/unit_1/bottleneck_v2/conv3/biases:0' shape=(1024,) dtype=float32_ref>,\n",
       " <tf.Variable 'resnet_v2_101/block3/unit_2/bottleneck_v2/preact/beta:0' shape=(1024,) dtype=float32_ref>,\n",
       " <tf.Variable 'resnet_v2_101/block3/unit_2/bottleneck_v2/preact/gamma:0' shape=(1024,) dtype=float32_ref>,\n",
       " <tf.Variable 'resnet_v2_101/block3/unit_2/bottleneck_v2/preact/moving_mean:0' shape=(1024,) dtype=float32_ref>,\n",
       " <tf.Variable 'resnet_v2_101/block3/unit_2/bottleneck_v2/preact/moving_variance:0' shape=(1024,) dtype=float32_ref>,\n",
       " <tf.Variable 'resnet_v2_101/block3/unit_2/bottleneck_v2/conv1/weights:0' shape=(1, 1, 1024, 256) dtype=float32_ref>,\n",
       " <tf.Variable 'resnet_v2_101/block3/unit_2/bottleneck_v2/conv1/BatchNorm/beta:0' shape=(256,) dtype=float32_ref>,\n",
       " <tf.Variable 'resnet_v2_101/block3/unit_2/bottleneck_v2/conv1/BatchNorm/gamma:0' shape=(256,) dtype=float32_ref>,\n",
       " <tf.Variable 'resnet_v2_101/block3/unit_2/bottleneck_v2/conv1/BatchNorm/moving_mean:0' shape=(256,) dtype=float32_ref>,\n",
       " <tf.Variable 'resnet_v2_101/block3/unit_2/bottleneck_v2/conv1/BatchNorm/moving_variance:0' shape=(256,) dtype=float32_ref>,\n",
       " <tf.Variable 'resnet_v2_101/block3/unit_2/bottleneck_v2/conv2/weights:0' shape=(3, 3, 256, 256) dtype=float32_ref>,\n",
       " <tf.Variable 'resnet_v2_101/block3/unit_2/bottleneck_v2/conv2/BatchNorm/beta:0' shape=(256,) dtype=float32_ref>,\n",
       " <tf.Variable 'resnet_v2_101/block3/unit_2/bottleneck_v2/conv2/BatchNorm/gamma:0' shape=(256,) dtype=float32_ref>,\n",
       " <tf.Variable 'resnet_v2_101/block3/unit_2/bottleneck_v2/conv2/BatchNorm/moving_mean:0' shape=(256,) dtype=float32_ref>,\n",
       " <tf.Variable 'resnet_v2_101/block3/unit_2/bottleneck_v2/conv2/BatchNorm/moving_variance:0' shape=(256,) dtype=float32_ref>,\n",
       " <tf.Variable 'resnet_v2_101/block3/unit_2/bottleneck_v2/conv3/weights:0' shape=(1, 1, 256, 1024) dtype=float32_ref>,\n",
       " <tf.Variable 'resnet_v2_101/block3/unit_2/bottleneck_v2/conv3/biases:0' shape=(1024,) dtype=float32_ref>,\n",
       " <tf.Variable 'resnet_v2_101/block3/unit_3/bottleneck_v2/preact/beta:0' shape=(1024,) dtype=float32_ref>,\n",
       " <tf.Variable 'resnet_v2_101/block3/unit_3/bottleneck_v2/preact/gamma:0' shape=(1024,) dtype=float32_ref>,\n",
       " <tf.Variable 'resnet_v2_101/block3/unit_3/bottleneck_v2/preact/moving_mean:0' shape=(1024,) dtype=float32_ref>,\n",
       " <tf.Variable 'resnet_v2_101/block3/unit_3/bottleneck_v2/preact/moving_variance:0' shape=(1024,) dtype=float32_ref>,\n",
       " <tf.Variable 'resnet_v2_101/block3/unit_3/bottleneck_v2/conv1/weights:0' shape=(1, 1, 1024, 256) dtype=float32_ref>,\n",
       " <tf.Variable 'resnet_v2_101/block3/unit_3/bottleneck_v2/conv1/BatchNorm/beta:0' shape=(256,) dtype=float32_ref>,\n",
       " <tf.Variable 'resnet_v2_101/block3/unit_3/bottleneck_v2/conv1/BatchNorm/gamma:0' shape=(256,) dtype=float32_ref>,\n",
       " <tf.Variable 'resnet_v2_101/block3/unit_3/bottleneck_v2/conv1/BatchNorm/moving_mean:0' shape=(256,) dtype=float32_ref>,\n",
       " <tf.Variable 'resnet_v2_101/block3/unit_3/bottleneck_v2/conv1/BatchNorm/moving_variance:0' shape=(256,) dtype=float32_ref>,\n",
       " <tf.Variable 'resnet_v2_101/block3/unit_3/bottleneck_v2/conv2/weights:0' shape=(3, 3, 256, 256) dtype=float32_ref>,\n",
       " <tf.Variable 'resnet_v2_101/block3/unit_3/bottleneck_v2/conv2/BatchNorm/beta:0' shape=(256,) dtype=float32_ref>,\n",
       " <tf.Variable 'resnet_v2_101/block3/unit_3/bottleneck_v2/conv2/BatchNorm/gamma:0' shape=(256,) dtype=float32_ref>,\n",
       " <tf.Variable 'resnet_v2_101/block3/unit_3/bottleneck_v2/conv2/BatchNorm/moving_mean:0' shape=(256,) dtype=float32_ref>,\n",
       " <tf.Variable 'resnet_v2_101/block3/unit_3/bottleneck_v2/conv2/BatchNorm/moving_variance:0' shape=(256,) dtype=float32_ref>,\n",
       " <tf.Variable 'resnet_v2_101/block3/unit_3/bottleneck_v2/conv3/weights:0' shape=(1, 1, 256, 1024) dtype=float32_ref>,\n",
       " <tf.Variable 'resnet_v2_101/block3/unit_3/bottleneck_v2/conv3/biases:0' shape=(1024,) dtype=float32_ref>,\n",
       " <tf.Variable 'resnet_v2_101/block3/unit_4/bottleneck_v2/preact/beta:0' shape=(1024,) dtype=float32_ref>,\n",
       " <tf.Variable 'resnet_v2_101/block3/unit_4/bottleneck_v2/preact/gamma:0' shape=(1024,) dtype=float32_ref>,\n",
       " <tf.Variable 'resnet_v2_101/block3/unit_4/bottleneck_v2/preact/moving_mean:0' shape=(1024,) dtype=float32_ref>,\n",
       " <tf.Variable 'resnet_v2_101/block3/unit_4/bottleneck_v2/preact/moving_variance:0' shape=(1024,) dtype=float32_ref>,\n",
       " <tf.Variable 'resnet_v2_101/block3/unit_4/bottleneck_v2/conv1/weights:0' shape=(1, 1, 1024, 256) dtype=float32_ref>,\n",
       " <tf.Variable 'resnet_v2_101/block3/unit_4/bottleneck_v2/conv1/BatchNorm/beta:0' shape=(256,) dtype=float32_ref>,\n",
       " <tf.Variable 'resnet_v2_101/block3/unit_4/bottleneck_v2/conv1/BatchNorm/gamma:0' shape=(256,) dtype=float32_ref>,\n",
       " <tf.Variable 'resnet_v2_101/block3/unit_4/bottleneck_v2/conv1/BatchNorm/moving_mean:0' shape=(256,) dtype=float32_ref>,\n",
       " <tf.Variable 'resnet_v2_101/block3/unit_4/bottleneck_v2/conv1/BatchNorm/moving_variance:0' shape=(256,) dtype=float32_ref>,\n",
       " <tf.Variable 'resnet_v2_101/block3/unit_4/bottleneck_v2/conv2/weights:0' shape=(3, 3, 256, 256) dtype=float32_ref>,\n",
       " <tf.Variable 'resnet_v2_101/block3/unit_4/bottleneck_v2/conv2/BatchNorm/beta:0' shape=(256,) dtype=float32_ref>,\n",
       " <tf.Variable 'resnet_v2_101/block3/unit_4/bottleneck_v2/conv2/BatchNorm/gamma:0' shape=(256,) dtype=float32_ref>,\n",
       " <tf.Variable 'resnet_v2_101/block3/unit_4/bottleneck_v2/conv2/BatchNorm/moving_mean:0' shape=(256,) dtype=float32_ref>,\n",
       " <tf.Variable 'resnet_v2_101/block3/unit_4/bottleneck_v2/conv2/BatchNorm/moving_variance:0' shape=(256,) dtype=float32_ref>,\n",
       " <tf.Variable 'resnet_v2_101/block3/unit_4/bottleneck_v2/conv3/weights:0' shape=(1, 1, 256, 1024) dtype=float32_ref>,\n",
       " <tf.Variable 'resnet_v2_101/block3/unit_4/bottleneck_v2/conv3/biases:0' shape=(1024,) dtype=float32_ref>,\n",
       " <tf.Variable 'resnet_v2_101/block3/unit_5/bottleneck_v2/preact/beta:0' shape=(1024,) dtype=float32_ref>,\n",
       " <tf.Variable 'resnet_v2_101/block3/unit_5/bottleneck_v2/preact/gamma:0' shape=(1024,) dtype=float32_ref>,\n",
       " <tf.Variable 'resnet_v2_101/block3/unit_5/bottleneck_v2/preact/moving_mean:0' shape=(1024,) dtype=float32_ref>,\n",
       " <tf.Variable 'resnet_v2_101/block3/unit_5/bottleneck_v2/preact/moving_variance:0' shape=(1024,) dtype=float32_ref>,\n",
       " <tf.Variable 'resnet_v2_101/block3/unit_5/bottleneck_v2/conv1/weights:0' shape=(1, 1, 1024, 256) dtype=float32_ref>,\n",
       " <tf.Variable 'resnet_v2_101/block3/unit_5/bottleneck_v2/conv1/BatchNorm/beta:0' shape=(256,) dtype=float32_ref>,\n",
       " <tf.Variable 'resnet_v2_101/block3/unit_5/bottleneck_v2/conv1/BatchNorm/gamma:0' shape=(256,) dtype=float32_ref>,\n",
       " <tf.Variable 'resnet_v2_101/block3/unit_5/bottleneck_v2/conv1/BatchNorm/moving_mean:0' shape=(256,) dtype=float32_ref>,\n",
       " <tf.Variable 'resnet_v2_101/block3/unit_5/bottleneck_v2/conv1/BatchNorm/moving_variance:0' shape=(256,) dtype=float32_ref>,\n",
       " <tf.Variable 'resnet_v2_101/block3/unit_5/bottleneck_v2/conv2/weights:0' shape=(3, 3, 256, 256) dtype=float32_ref>,\n",
       " <tf.Variable 'resnet_v2_101/block3/unit_5/bottleneck_v2/conv2/BatchNorm/beta:0' shape=(256,) dtype=float32_ref>,\n",
       " <tf.Variable 'resnet_v2_101/block3/unit_5/bottleneck_v2/conv2/BatchNorm/gamma:0' shape=(256,) dtype=float32_ref>,\n",
       " <tf.Variable 'resnet_v2_101/block3/unit_5/bottleneck_v2/conv2/BatchNorm/moving_mean:0' shape=(256,) dtype=float32_ref>,\n",
       " <tf.Variable 'resnet_v2_101/block3/unit_5/bottleneck_v2/conv2/BatchNorm/moving_variance:0' shape=(256,) dtype=float32_ref>,\n",
       " <tf.Variable 'resnet_v2_101/block3/unit_5/bottleneck_v2/conv3/weights:0' shape=(1, 1, 256, 1024) dtype=float32_ref>,\n",
       " <tf.Variable 'resnet_v2_101/block3/unit_5/bottleneck_v2/conv3/biases:0' shape=(1024,) dtype=float32_ref>,\n",
       " <tf.Variable 'resnet_v2_101/block3/unit_6/bottleneck_v2/preact/beta:0' shape=(1024,) dtype=float32_ref>,\n",
       " <tf.Variable 'resnet_v2_101/block3/unit_6/bottleneck_v2/preact/gamma:0' shape=(1024,) dtype=float32_ref>,\n",
       " <tf.Variable 'resnet_v2_101/block3/unit_6/bottleneck_v2/preact/moving_mean:0' shape=(1024,) dtype=float32_ref>,\n",
       " <tf.Variable 'resnet_v2_101/block3/unit_6/bottleneck_v2/preact/moving_variance:0' shape=(1024,) dtype=float32_ref>,\n",
       " <tf.Variable 'resnet_v2_101/block3/unit_6/bottleneck_v2/conv1/weights:0' shape=(1, 1, 1024, 256) dtype=float32_ref>,\n",
       " <tf.Variable 'resnet_v2_101/block3/unit_6/bottleneck_v2/conv1/BatchNorm/beta:0' shape=(256,) dtype=float32_ref>,\n",
       " <tf.Variable 'resnet_v2_101/block3/unit_6/bottleneck_v2/conv1/BatchNorm/gamma:0' shape=(256,) dtype=float32_ref>,\n",
       " <tf.Variable 'resnet_v2_101/block3/unit_6/bottleneck_v2/conv1/BatchNorm/moving_mean:0' shape=(256,) dtype=float32_ref>,\n",
       " <tf.Variable 'resnet_v2_101/block3/unit_6/bottleneck_v2/conv1/BatchNorm/moving_variance:0' shape=(256,) dtype=float32_ref>,\n",
       " <tf.Variable 'resnet_v2_101/block3/unit_6/bottleneck_v2/conv2/weights:0' shape=(3, 3, 256, 256) dtype=float32_ref>,\n",
       " <tf.Variable 'resnet_v2_101/block3/unit_6/bottleneck_v2/conv2/BatchNorm/beta:0' shape=(256,) dtype=float32_ref>,\n",
       " <tf.Variable 'resnet_v2_101/block3/unit_6/bottleneck_v2/conv2/BatchNorm/gamma:0' shape=(256,) dtype=float32_ref>,\n",
       " <tf.Variable 'resnet_v2_101/block3/unit_6/bottleneck_v2/conv2/BatchNorm/moving_mean:0' shape=(256,) dtype=float32_ref>,\n",
       " <tf.Variable 'resnet_v2_101/block3/unit_6/bottleneck_v2/conv2/BatchNorm/moving_variance:0' shape=(256,) dtype=float32_ref>,\n",
       " <tf.Variable 'resnet_v2_101/block3/unit_6/bottleneck_v2/conv3/weights:0' shape=(1, 1, 256, 1024) dtype=float32_ref>,\n",
       " <tf.Variable 'resnet_v2_101/block3/unit_6/bottleneck_v2/conv3/biases:0' shape=(1024,) dtype=float32_ref>,\n",
       " <tf.Variable 'resnet_v2_101/block3/unit_7/bottleneck_v2/preact/beta:0' shape=(1024,) dtype=float32_ref>,\n",
       " <tf.Variable 'resnet_v2_101/block3/unit_7/bottleneck_v2/preact/gamma:0' shape=(1024,) dtype=float32_ref>,\n",
       " <tf.Variable 'resnet_v2_101/block3/unit_7/bottleneck_v2/preact/moving_mean:0' shape=(1024,) dtype=float32_ref>,\n",
       " <tf.Variable 'resnet_v2_101/block3/unit_7/bottleneck_v2/preact/moving_variance:0' shape=(1024,) dtype=float32_ref>,\n",
       " <tf.Variable 'resnet_v2_101/block3/unit_7/bottleneck_v2/conv1/weights:0' shape=(1, 1, 1024, 256) dtype=float32_ref>,\n",
       " <tf.Variable 'resnet_v2_101/block3/unit_7/bottleneck_v2/conv1/BatchNorm/beta:0' shape=(256,) dtype=float32_ref>,\n",
       " <tf.Variable 'resnet_v2_101/block3/unit_7/bottleneck_v2/conv1/BatchNorm/gamma:0' shape=(256,) dtype=float32_ref>,\n",
       " <tf.Variable 'resnet_v2_101/block3/unit_7/bottleneck_v2/conv1/BatchNorm/moving_mean:0' shape=(256,) dtype=float32_ref>,\n",
       " <tf.Variable 'resnet_v2_101/block3/unit_7/bottleneck_v2/conv1/BatchNorm/moving_variance:0' shape=(256,) dtype=float32_ref>,\n",
       " <tf.Variable 'resnet_v2_101/block3/unit_7/bottleneck_v2/conv2/weights:0' shape=(3, 3, 256, 256) dtype=float32_ref>,\n",
       " <tf.Variable 'resnet_v2_101/block3/unit_7/bottleneck_v2/conv2/BatchNorm/beta:0' shape=(256,) dtype=float32_ref>,\n",
       " <tf.Variable 'resnet_v2_101/block3/unit_7/bottleneck_v2/conv2/BatchNorm/gamma:0' shape=(256,) dtype=float32_ref>,\n",
       " <tf.Variable 'resnet_v2_101/block3/unit_7/bottleneck_v2/conv2/BatchNorm/moving_mean:0' shape=(256,) dtype=float32_ref>,\n",
       " <tf.Variable 'resnet_v2_101/block3/unit_7/bottleneck_v2/conv2/BatchNorm/moving_variance:0' shape=(256,) dtype=float32_ref>,\n",
       " <tf.Variable 'resnet_v2_101/block3/unit_7/bottleneck_v2/conv3/weights:0' shape=(1, 1, 256, 1024) dtype=float32_ref>,\n",
       " <tf.Variable 'resnet_v2_101/block3/unit_7/bottleneck_v2/conv3/biases:0' shape=(1024,) dtype=float32_ref>,\n",
       " <tf.Variable 'resnet_v2_101/block3/unit_8/bottleneck_v2/preact/beta:0' shape=(1024,) dtype=float32_ref>,\n",
       " <tf.Variable 'resnet_v2_101/block3/unit_8/bottleneck_v2/preact/gamma:0' shape=(1024,) dtype=float32_ref>,\n",
       " <tf.Variable 'resnet_v2_101/block3/unit_8/bottleneck_v2/preact/moving_mean:0' shape=(1024,) dtype=float32_ref>,\n",
       " <tf.Variable 'resnet_v2_101/block3/unit_8/bottleneck_v2/preact/moving_variance:0' shape=(1024,) dtype=float32_ref>,\n",
       " <tf.Variable 'resnet_v2_101/block3/unit_8/bottleneck_v2/conv1/weights:0' shape=(1, 1, 1024, 256) dtype=float32_ref>,\n",
       " <tf.Variable 'resnet_v2_101/block3/unit_8/bottleneck_v2/conv1/BatchNorm/beta:0' shape=(256,) dtype=float32_ref>,\n",
       " <tf.Variable 'resnet_v2_101/block3/unit_8/bottleneck_v2/conv1/BatchNorm/gamma:0' shape=(256,) dtype=float32_ref>,\n",
       " <tf.Variable 'resnet_v2_101/block3/unit_8/bottleneck_v2/conv1/BatchNorm/moving_mean:0' shape=(256,) dtype=float32_ref>,\n",
       " <tf.Variable 'resnet_v2_101/block3/unit_8/bottleneck_v2/conv1/BatchNorm/moving_variance:0' shape=(256,) dtype=float32_ref>,\n",
       " <tf.Variable 'resnet_v2_101/block3/unit_8/bottleneck_v2/conv2/weights:0' shape=(3, 3, 256, 256) dtype=float32_ref>,\n",
       " <tf.Variable 'resnet_v2_101/block3/unit_8/bottleneck_v2/conv2/BatchNorm/beta:0' shape=(256,) dtype=float32_ref>,\n",
       " <tf.Variable 'resnet_v2_101/block3/unit_8/bottleneck_v2/conv2/BatchNorm/gamma:0' shape=(256,) dtype=float32_ref>,\n",
       " <tf.Variable 'resnet_v2_101/block3/unit_8/bottleneck_v2/conv2/BatchNorm/moving_mean:0' shape=(256,) dtype=float32_ref>,\n",
       " <tf.Variable 'resnet_v2_101/block3/unit_8/bottleneck_v2/conv2/BatchNorm/moving_variance:0' shape=(256,) dtype=float32_ref>,\n",
       " <tf.Variable 'resnet_v2_101/block3/unit_8/bottleneck_v2/conv3/weights:0' shape=(1, 1, 256, 1024) dtype=float32_ref>,\n",
       " <tf.Variable 'resnet_v2_101/block3/unit_8/bottleneck_v2/conv3/biases:0' shape=(1024,) dtype=float32_ref>,\n",
       " <tf.Variable 'resnet_v2_101/block3/unit_9/bottleneck_v2/preact/beta:0' shape=(1024,) dtype=float32_ref>,\n",
       " <tf.Variable 'resnet_v2_101/block3/unit_9/bottleneck_v2/preact/gamma:0' shape=(1024,) dtype=float32_ref>,\n",
       " <tf.Variable 'resnet_v2_101/block3/unit_9/bottleneck_v2/preact/moving_mean:0' shape=(1024,) dtype=float32_ref>,\n",
       " <tf.Variable 'resnet_v2_101/block3/unit_9/bottleneck_v2/preact/moving_variance:0' shape=(1024,) dtype=float32_ref>,\n",
       " <tf.Variable 'resnet_v2_101/block3/unit_9/bottleneck_v2/conv1/weights:0' shape=(1, 1, 1024, 256) dtype=float32_ref>,\n",
       " <tf.Variable 'resnet_v2_101/block3/unit_9/bottleneck_v2/conv1/BatchNorm/beta:0' shape=(256,) dtype=float32_ref>,\n",
       " <tf.Variable 'resnet_v2_101/block3/unit_9/bottleneck_v2/conv1/BatchNorm/gamma:0' shape=(256,) dtype=float32_ref>,\n",
       " <tf.Variable 'resnet_v2_101/block3/unit_9/bottleneck_v2/conv1/BatchNorm/moving_mean:0' shape=(256,) dtype=float32_ref>,\n",
       " <tf.Variable 'resnet_v2_101/block3/unit_9/bottleneck_v2/conv1/BatchNorm/moving_variance:0' shape=(256,) dtype=float32_ref>,\n",
       " <tf.Variable 'resnet_v2_101/block3/unit_9/bottleneck_v2/conv2/weights:0' shape=(3, 3, 256, 256) dtype=float32_ref>,\n",
       " <tf.Variable 'resnet_v2_101/block3/unit_9/bottleneck_v2/conv2/BatchNorm/beta:0' shape=(256,) dtype=float32_ref>,\n",
       " <tf.Variable 'resnet_v2_101/block3/unit_9/bottleneck_v2/conv2/BatchNorm/gamma:0' shape=(256,) dtype=float32_ref>,\n",
       " <tf.Variable 'resnet_v2_101/block3/unit_9/bottleneck_v2/conv2/BatchNorm/moving_mean:0' shape=(256,) dtype=float32_ref>,\n",
       " <tf.Variable 'resnet_v2_101/block3/unit_9/bottleneck_v2/conv2/BatchNorm/moving_variance:0' shape=(256,) dtype=float32_ref>,\n",
       " <tf.Variable 'resnet_v2_101/block3/unit_9/bottleneck_v2/conv3/weights:0' shape=(1, 1, 256, 1024) dtype=float32_ref>,\n",
       " <tf.Variable 'resnet_v2_101/block3/unit_9/bottleneck_v2/conv3/biases:0' shape=(1024,) dtype=float32_ref>,\n",
       " <tf.Variable 'resnet_v2_101/block3/unit_10/bottleneck_v2/preact/beta:0' shape=(1024,) dtype=float32_ref>,\n",
       " <tf.Variable 'resnet_v2_101/block3/unit_10/bottleneck_v2/preact/gamma:0' shape=(1024,) dtype=float32_ref>,\n",
       " <tf.Variable 'resnet_v2_101/block3/unit_10/bottleneck_v2/preact/moving_mean:0' shape=(1024,) dtype=float32_ref>,\n",
       " <tf.Variable 'resnet_v2_101/block3/unit_10/bottleneck_v2/preact/moving_variance:0' shape=(1024,) dtype=float32_ref>,\n",
       " <tf.Variable 'resnet_v2_101/block3/unit_10/bottleneck_v2/conv1/weights:0' shape=(1, 1, 1024, 256) dtype=float32_ref>,\n",
       " <tf.Variable 'resnet_v2_101/block3/unit_10/bottleneck_v2/conv1/BatchNorm/beta:0' shape=(256,) dtype=float32_ref>,\n",
       " <tf.Variable 'resnet_v2_101/block3/unit_10/bottleneck_v2/conv1/BatchNorm/gamma:0' shape=(256,) dtype=float32_ref>,\n",
       " <tf.Variable 'resnet_v2_101/block3/unit_10/bottleneck_v2/conv1/BatchNorm/moving_mean:0' shape=(256,) dtype=float32_ref>,\n",
       " <tf.Variable 'resnet_v2_101/block3/unit_10/bottleneck_v2/conv1/BatchNorm/moving_variance:0' shape=(256,) dtype=float32_ref>,\n",
       " <tf.Variable 'resnet_v2_101/block3/unit_10/bottleneck_v2/conv2/weights:0' shape=(3, 3, 256, 256) dtype=float32_ref>,\n",
       " <tf.Variable 'resnet_v2_101/block3/unit_10/bottleneck_v2/conv2/BatchNorm/beta:0' shape=(256,) dtype=float32_ref>,\n",
       " <tf.Variable 'resnet_v2_101/block3/unit_10/bottleneck_v2/conv2/BatchNorm/gamma:0' shape=(256,) dtype=float32_ref>,\n",
       " <tf.Variable 'resnet_v2_101/block3/unit_10/bottleneck_v2/conv2/BatchNorm/moving_mean:0' shape=(256,) dtype=float32_ref>,\n",
       " <tf.Variable 'resnet_v2_101/block3/unit_10/bottleneck_v2/conv2/BatchNorm/moving_variance:0' shape=(256,) dtype=float32_ref>,\n",
       " <tf.Variable 'resnet_v2_101/block3/unit_10/bottleneck_v2/conv3/weights:0' shape=(1, 1, 256, 1024) dtype=float32_ref>,\n",
       " <tf.Variable 'resnet_v2_101/block3/unit_10/bottleneck_v2/conv3/biases:0' shape=(1024,) dtype=float32_ref>,\n",
       " <tf.Variable 'resnet_v2_101/block3/unit_11/bottleneck_v2/preact/beta:0' shape=(1024,) dtype=float32_ref>,\n",
       " <tf.Variable 'resnet_v2_101/block3/unit_11/bottleneck_v2/preact/gamma:0' shape=(1024,) dtype=float32_ref>,\n",
       " <tf.Variable 'resnet_v2_101/block3/unit_11/bottleneck_v2/preact/moving_mean:0' shape=(1024,) dtype=float32_ref>,\n",
       " <tf.Variable 'resnet_v2_101/block3/unit_11/bottleneck_v2/preact/moving_variance:0' shape=(1024,) dtype=float32_ref>,\n",
       " <tf.Variable 'resnet_v2_101/block3/unit_11/bottleneck_v2/conv1/weights:0' shape=(1, 1, 1024, 256) dtype=float32_ref>,\n",
       " <tf.Variable 'resnet_v2_101/block3/unit_11/bottleneck_v2/conv1/BatchNorm/beta:0' shape=(256,) dtype=float32_ref>,\n",
       " <tf.Variable 'resnet_v2_101/block3/unit_11/bottleneck_v2/conv1/BatchNorm/gamma:0' shape=(256,) dtype=float32_ref>,\n",
       " <tf.Variable 'resnet_v2_101/block3/unit_11/bottleneck_v2/conv1/BatchNorm/moving_mean:0' shape=(256,) dtype=float32_ref>,\n",
       " <tf.Variable 'resnet_v2_101/block3/unit_11/bottleneck_v2/conv1/BatchNorm/moving_variance:0' shape=(256,) dtype=float32_ref>,\n",
       " <tf.Variable 'resnet_v2_101/block3/unit_11/bottleneck_v2/conv2/weights:0' shape=(3, 3, 256, 256) dtype=float32_ref>,\n",
       " <tf.Variable 'resnet_v2_101/block3/unit_11/bottleneck_v2/conv2/BatchNorm/beta:0' shape=(256,) dtype=float32_ref>,\n",
       " <tf.Variable 'resnet_v2_101/block3/unit_11/bottleneck_v2/conv2/BatchNorm/gamma:0' shape=(256,) dtype=float32_ref>,\n",
       " <tf.Variable 'resnet_v2_101/block3/unit_11/bottleneck_v2/conv2/BatchNorm/moving_mean:0' shape=(256,) dtype=float32_ref>,\n",
       " <tf.Variable 'resnet_v2_101/block3/unit_11/bottleneck_v2/conv2/BatchNorm/moving_variance:0' shape=(256,) dtype=float32_ref>,\n",
       " <tf.Variable 'resnet_v2_101/block3/unit_11/bottleneck_v2/conv3/weights:0' shape=(1, 1, 256, 1024) dtype=float32_ref>,\n",
       " <tf.Variable 'resnet_v2_101/block3/unit_11/bottleneck_v2/conv3/biases:0' shape=(1024,) dtype=float32_ref>,\n",
       " <tf.Variable 'resnet_v2_101/block3/unit_12/bottleneck_v2/preact/beta:0' shape=(1024,) dtype=float32_ref>,\n",
       " <tf.Variable 'resnet_v2_101/block3/unit_12/bottleneck_v2/preact/gamma:0' shape=(1024,) dtype=float32_ref>,\n",
       " <tf.Variable 'resnet_v2_101/block3/unit_12/bottleneck_v2/preact/moving_mean:0' shape=(1024,) dtype=float32_ref>,\n",
       " <tf.Variable 'resnet_v2_101/block3/unit_12/bottleneck_v2/preact/moving_variance:0' shape=(1024,) dtype=float32_ref>,\n",
       " <tf.Variable 'resnet_v2_101/block3/unit_12/bottleneck_v2/conv1/weights:0' shape=(1, 1, 1024, 256) dtype=float32_ref>,\n",
       " <tf.Variable 'resnet_v2_101/block3/unit_12/bottleneck_v2/conv1/BatchNorm/beta:0' shape=(256,) dtype=float32_ref>,\n",
       " <tf.Variable 'resnet_v2_101/block3/unit_12/bottleneck_v2/conv1/BatchNorm/gamma:0' shape=(256,) dtype=float32_ref>,\n",
       " <tf.Variable 'resnet_v2_101/block3/unit_12/bottleneck_v2/conv1/BatchNorm/moving_mean:0' shape=(256,) dtype=float32_ref>,\n",
       " <tf.Variable 'resnet_v2_101/block3/unit_12/bottleneck_v2/conv1/BatchNorm/moving_variance:0' shape=(256,) dtype=float32_ref>,\n",
       " <tf.Variable 'resnet_v2_101/block3/unit_12/bottleneck_v2/conv2/weights:0' shape=(3, 3, 256, 256) dtype=float32_ref>,\n",
       " <tf.Variable 'resnet_v2_101/block3/unit_12/bottleneck_v2/conv2/BatchNorm/beta:0' shape=(256,) dtype=float32_ref>,\n",
       " <tf.Variable 'resnet_v2_101/block3/unit_12/bottleneck_v2/conv2/BatchNorm/gamma:0' shape=(256,) dtype=float32_ref>,\n",
       " <tf.Variable 'resnet_v2_101/block3/unit_12/bottleneck_v2/conv2/BatchNorm/moving_mean:0' shape=(256,) dtype=float32_ref>,\n",
       " <tf.Variable 'resnet_v2_101/block3/unit_12/bottleneck_v2/conv2/BatchNorm/moving_variance:0' shape=(256,) dtype=float32_ref>,\n",
       " <tf.Variable 'resnet_v2_101/block3/unit_12/bottleneck_v2/conv3/weights:0' shape=(1, 1, 256, 1024) dtype=float32_ref>,\n",
       " <tf.Variable 'resnet_v2_101/block3/unit_12/bottleneck_v2/conv3/biases:0' shape=(1024,) dtype=float32_ref>,\n",
       " <tf.Variable 'resnet_v2_101/block3/unit_13/bottleneck_v2/preact/beta:0' shape=(1024,) dtype=float32_ref>,\n",
       " <tf.Variable 'resnet_v2_101/block3/unit_13/bottleneck_v2/preact/gamma:0' shape=(1024,) dtype=float32_ref>,\n",
       " <tf.Variable 'resnet_v2_101/block3/unit_13/bottleneck_v2/preact/moving_mean:0' shape=(1024,) dtype=float32_ref>,\n",
       " <tf.Variable 'resnet_v2_101/block3/unit_13/bottleneck_v2/preact/moving_variance:0' shape=(1024,) dtype=float32_ref>,\n",
       " <tf.Variable 'resnet_v2_101/block3/unit_13/bottleneck_v2/conv1/weights:0' shape=(1, 1, 1024, 256) dtype=float32_ref>,\n",
       " <tf.Variable 'resnet_v2_101/block3/unit_13/bottleneck_v2/conv1/BatchNorm/beta:0' shape=(256,) dtype=float32_ref>,\n",
       " <tf.Variable 'resnet_v2_101/block3/unit_13/bottleneck_v2/conv1/BatchNorm/gamma:0' shape=(256,) dtype=float32_ref>,\n",
       " <tf.Variable 'resnet_v2_101/block3/unit_13/bottleneck_v2/conv1/BatchNorm/moving_mean:0' shape=(256,) dtype=float32_ref>,\n",
       " <tf.Variable 'resnet_v2_101/block3/unit_13/bottleneck_v2/conv1/BatchNorm/moving_variance:0' shape=(256,) dtype=float32_ref>,\n",
       " <tf.Variable 'resnet_v2_101/block3/unit_13/bottleneck_v2/conv2/weights:0' shape=(3, 3, 256, 256) dtype=float32_ref>,\n",
       " <tf.Variable 'resnet_v2_101/block3/unit_13/bottleneck_v2/conv2/BatchNorm/beta:0' shape=(256,) dtype=float32_ref>,\n",
       " <tf.Variable 'resnet_v2_101/block3/unit_13/bottleneck_v2/conv2/BatchNorm/gamma:0' shape=(256,) dtype=float32_ref>,\n",
       " <tf.Variable 'resnet_v2_101/block3/unit_13/bottleneck_v2/conv2/BatchNorm/moving_mean:0' shape=(256,) dtype=float32_ref>,\n",
       " <tf.Variable 'resnet_v2_101/block3/unit_13/bottleneck_v2/conv2/BatchNorm/moving_variance:0' shape=(256,) dtype=float32_ref>,\n",
       " <tf.Variable 'resnet_v2_101/block3/unit_13/bottleneck_v2/conv3/weights:0' shape=(1, 1, 256, 1024) dtype=float32_ref>,\n",
       " <tf.Variable 'resnet_v2_101/block3/unit_13/bottleneck_v2/conv3/biases:0' shape=(1024,) dtype=float32_ref>,\n",
       " <tf.Variable 'resnet_v2_101/block3/unit_14/bottleneck_v2/preact/beta:0' shape=(1024,) dtype=float32_ref>,\n",
       " <tf.Variable 'resnet_v2_101/block3/unit_14/bottleneck_v2/preact/gamma:0' shape=(1024,) dtype=float32_ref>,\n",
       " <tf.Variable 'resnet_v2_101/block3/unit_14/bottleneck_v2/preact/moving_mean:0' shape=(1024,) dtype=float32_ref>,\n",
       " <tf.Variable 'resnet_v2_101/block3/unit_14/bottleneck_v2/preact/moving_variance:0' shape=(1024,) dtype=float32_ref>,\n",
       " <tf.Variable 'resnet_v2_101/block3/unit_14/bottleneck_v2/conv1/weights:0' shape=(1, 1, 1024, 256) dtype=float32_ref>,\n",
       " <tf.Variable 'resnet_v2_101/block3/unit_14/bottleneck_v2/conv1/BatchNorm/beta:0' shape=(256,) dtype=float32_ref>,\n",
       " <tf.Variable 'resnet_v2_101/block3/unit_14/bottleneck_v2/conv1/BatchNorm/gamma:0' shape=(256,) dtype=float32_ref>,\n",
       " <tf.Variable 'resnet_v2_101/block3/unit_14/bottleneck_v2/conv1/BatchNorm/moving_mean:0' shape=(256,) dtype=float32_ref>,\n",
       " <tf.Variable 'resnet_v2_101/block3/unit_14/bottleneck_v2/conv1/BatchNorm/moving_variance:0' shape=(256,) dtype=float32_ref>,\n",
       " <tf.Variable 'resnet_v2_101/block3/unit_14/bottleneck_v2/conv2/weights:0' shape=(3, 3, 256, 256) dtype=float32_ref>,\n",
       " <tf.Variable 'resnet_v2_101/block3/unit_14/bottleneck_v2/conv2/BatchNorm/beta:0' shape=(256,) dtype=float32_ref>,\n",
       " <tf.Variable 'resnet_v2_101/block3/unit_14/bottleneck_v2/conv2/BatchNorm/gamma:0' shape=(256,) dtype=float32_ref>,\n",
       " <tf.Variable 'resnet_v2_101/block3/unit_14/bottleneck_v2/conv2/BatchNorm/moving_mean:0' shape=(256,) dtype=float32_ref>,\n",
       " <tf.Variable 'resnet_v2_101/block3/unit_14/bottleneck_v2/conv2/BatchNorm/moving_variance:0' shape=(256,) dtype=float32_ref>,\n",
       " <tf.Variable 'resnet_v2_101/block3/unit_14/bottleneck_v2/conv3/weights:0' shape=(1, 1, 256, 1024) dtype=float32_ref>,\n",
       " <tf.Variable 'resnet_v2_101/block3/unit_14/bottleneck_v2/conv3/biases:0' shape=(1024,) dtype=float32_ref>,\n",
       " <tf.Variable 'resnet_v2_101/block3/unit_15/bottleneck_v2/preact/beta:0' shape=(1024,) dtype=float32_ref>,\n",
       " <tf.Variable 'resnet_v2_101/block3/unit_15/bottleneck_v2/preact/gamma:0' shape=(1024,) dtype=float32_ref>,\n",
       " <tf.Variable 'resnet_v2_101/block3/unit_15/bottleneck_v2/preact/moving_mean:0' shape=(1024,) dtype=float32_ref>,\n",
       " <tf.Variable 'resnet_v2_101/block3/unit_15/bottleneck_v2/preact/moving_variance:0' shape=(1024,) dtype=float32_ref>,\n",
       " <tf.Variable 'resnet_v2_101/block3/unit_15/bottleneck_v2/conv1/weights:0' shape=(1, 1, 1024, 256) dtype=float32_ref>,\n",
       " <tf.Variable 'resnet_v2_101/block3/unit_15/bottleneck_v2/conv1/BatchNorm/beta:0' shape=(256,) dtype=float32_ref>,\n",
       " <tf.Variable 'resnet_v2_101/block3/unit_15/bottleneck_v2/conv1/BatchNorm/gamma:0' shape=(256,) dtype=float32_ref>,\n",
       " <tf.Variable 'resnet_v2_101/block3/unit_15/bottleneck_v2/conv1/BatchNorm/moving_mean:0' shape=(256,) dtype=float32_ref>,\n",
       " <tf.Variable 'resnet_v2_101/block3/unit_15/bottleneck_v2/conv1/BatchNorm/moving_variance:0' shape=(256,) dtype=float32_ref>,\n",
       " <tf.Variable 'resnet_v2_101/block3/unit_15/bottleneck_v2/conv2/weights:0' shape=(3, 3, 256, 256) dtype=float32_ref>,\n",
       " <tf.Variable 'resnet_v2_101/block3/unit_15/bottleneck_v2/conv2/BatchNorm/beta:0' shape=(256,) dtype=float32_ref>,\n",
       " <tf.Variable 'resnet_v2_101/block3/unit_15/bottleneck_v2/conv2/BatchNorm/gamma:0' shape=(256,) dtype=float32_ref>,\n",
       " <tf.Variable 'resnet_v2_101/block3/unit_15/bottleneck_v2/conv2/BatchNorm/moving_mean:0' shape=(256,) dtype=float32_ref>,\n",
       " <tf.Variable 'resnet_v2_101/block3/unit_15/bottleneck_v2/conv2/BatchNorm/moving_variance:0' shape=(256,) dtype=float32_ref>,\n",
       " <tf.Variable 'resnet_v2_101/block3/unit_15/bottleneck_v2/conv3/weights:0' shape=(1, 1, 256, 1024) dtype=float32_ref>,\n",
       " <tf.Variable 'resnet_v2_101/block3/unit_15/bottleneck_v2/conv3/biases:0' shape=(1024,) dtype=float32_ref>,\n",
       " <tf.Variable 'resnet_v2_101/block3/unit_16/bottleneck_v2/preact/beta:0' shape=(1024,) dtype=float32_ref>,\n",
       " <tf.Variable 'resnet_v2_101/block3/unit_16/bottleneck_v2/preact/gamma:0' shape=(1024,) dtype=float32_ref>,\n",
       " <tf.Variable 'resnet_v2_101/block3/unit_16/bottleneck_v2/preact/moving_mean:0' shape=(1024,) dtype=float32_ref>,\n",
       " <tf.Variable 'resnet_v2_101/block3/unit_16/bottleneck_v2/preact/moving_variance:0' shape=(1024,) dtype=float32_ref>,\n",
       " <tf.Variable 'resnet_v2_101/block3/unit_16/bottleneck_v2/conv1/weights:0' shape=(1, 1, 1024, 256) dtype=float32_ref>,\n",
       " <tf.Variable 'resnet_v2_101/block3/unit_16/bottleneck_v2/conv1/BatchNorm/beta:0' shape=(256,) dtype=float32_ref>,\n",
       " <tf.Variable 'resnet_v2_101/block3/unit_16/bottleneck_v2/conv1/BatchNorm/gamma:0' shape=(256,) dtype=float32_ref>,\n",
       " <tf.Variable 'resnet_v2_101/block3/unit_16/bottleneck_v2/conv1/BatchNorm/moving_mean:0' shape=(256,) dtype=float32_ref>,\n",
       " <tf.Variable 'resnet_v2_101/block3/unit_16/bottleneck_v2/conv1/BatchNorm/moving_variance:0' shape=(256,) dtype=float32_ref>,\n",
       " <tf.Variable 'resnet_v2_101/block3/unit_16/bottleneck_v2/conv2/weights:0' shape=(3, 3, 256, 256) dtype=float32_ref>,\n",
       " <tf.Variable 'resnet_v2_101/block3/unit_16/bottleneck_v2/conv2/BatchNorm/beta:0' shape=(256,) dtype=float32_ref>,\n",
       " <tf.Variable 'resnet_v2_101/block3/unit_16/bottleneck_v2/conv2/BatchNorm/gamma:0' shape=(256,) dtype=float32_ref>,\n",
       " <tf.Variable 'resnet_v2_101/block3/unit_16/bottleneck_v2/conv2/BatchNorm/moving_mean:0' shape=(256,) dtype=float32_ref>,\n",
       " <tf.Variable 'resnet_v2_101/block3/unit_16/bottleneck_v2/conv2/BatchNorm/moving_variance:0' shape=(256,) dtype=float32_ref>,\n",
       " <tf.Variable 'resnet_v2_101/block3/unit_16/bottleneck_v2/conv3/weights:0' shape=(1, 1, 256, 1024) dtype=float32_ref>,\n",
       " <tf.Variable 'resnet_v2_101/block3/unit_16/bottleneck_v2/conv3/biases:0' shape=(1024,) dtype=float32_ref>,\n",
       " <tf.Variable 'resnet_v2_101/block3/unit_17/bottleneck_v2/preact/beta:0' shape=(1024,) dtype=float32_ref>,\n",
       " <tf.Variable 'resnet_v2_101/block3/unit_17/bottleneck_v2/preact/gamma:0' shape=(1024,) dtype=float32_ref>,\n",
       " <tf.Variable 'resnet_v2_101/block3/unit_17/bottleneck_v2/preact/moving_mean:0' shape=(1024,) dtype=float32_ref>,\n",
       " <tf.Variable 'resnet_v2_101/block3/unit_17/bottleneck_v2/preact/moving_variance:0' shape=(1024,) dtype=float32_ref>,\n",
       " <tf.Variable 'resnet_v2_101/block3/unit_17/bottleneck_v2/conv1/weights:0' shape=(1, 1, 1024, 256) dtype=float32_ref>,\n",
       " <tf.Variable 'resnet_v2_101/block3/unit_17/bottleneck_v2/conv1/BatchNorm/beta:0' shape=(256,) dtype=float32_ref>,\n",
       " <tf.Variable 'resnet_v2_101/block3/unit_17/bottleneck_v2/conv1/BatchNorm/gamma:0' shape=(256,) dtype=float32_ref>,\n",
       " <tf.Variable 'resnet_v2_101/block3/unit_17/bottleneck_v2/conv1/BatchNorm/moving_mean:0' shape=(256,) dtype=float32_ref>,\n",
       " <tf.Variable 'resnet_v2_101/block3/unit_17/bottleneck_v2/conv1/BatchNorm/moving_variance:0' shape=(256,) dtype=float32_ref>,\n",
       " <tf.Variable 'resnet_v2_101/block3/unit_17/bottleneck_v2/conv2/weights:0' shape=(3, 3, 256, 256) dtype=float32_ref>,\n",
       " <tf.Variable 'resnet_v2_101/block3/unit_17/bottleneck_v2/conv2/BatchNorm/beta:0' shape=(256,) dtype=float32_ref>,\n",
       " <tf.Variable 'resnet_v2_101/block3/unit_17/bottleneck_v2/conv2/BatchNorm/gamma:0' shape=(256,) dtype=float32_ref>,\n",
       " <tf.Variable 'resnet_v2_101/block3/unit_17/bottleneck_v2/conv2/BatchNorm/moving_mean:0' shape=(256,) dtype=float32_ref>,\n",
       " <tf.Variable 'resnet_v2_101/block3/unit_17/bottleneck_v2/conv2/BatchNorm/moving_variance:0' shape=(256,) dtype=float32_ref>,\n",
       " <tf.Variable 'resnet_v2_101/block3/unit_17/bottleneck_v2/conv3/weights:0' shape=(1, 1, 256, 1024) dtype=float32_ref>,\n",
       " <tf.Variable 'resnet_v2_101/block3/unit_17/bottleneck_v2/conv3/biases:0' shape=(1024,) dtype=float32_ref>,\n",
       " <tf.Variable 'resnet_v2_101/block3/unit_18/bottleneck_v2/preact/beta:0' shape=(1024,) dtype=float32_ref>,\n",
       " <tf.Variable 'resnet_v2_101/block3/unit_18/bottleneck_v2/preact/gamma:0' shape=(1024,) dtype=float32_ref>,\n",
       " <tf.Variable 'resnet_v2_101/block3/unit_18/bottleneck_v2/preact/moving_mean:0' shape=(1024,) dtype=float32_ref>,\n",
       " <tf.Variable 'resnet_v2_101/block3/unit_18/bottleneck_v2/preact/moving_variance:0' shape=(1024,) dtype=float32_ref>,\n",
       " <tf.Variable 'resnet_v2_101/block3/unit_18/bottleneck_v2/conv1/weights:0' shape=(1, 1, 1024, 256) dtype=float32_ref>,\n",
       " <tf.Variable 'resnet_v2_101/block3/unit_18/bottleneck_v2/conv1/BatchNorm/beta:0' shape=(256,) dtype=float32_ref>,\n",
       " <tf.Variable 'resnet_v2_101/block3/unit_18/bottleneck_v2/conv1/BatchNorm/gamma:0' shape=(256,) dtype=float32_ref>,\n",
       " <tf.Variable 'resnet_v2_101/block3/unit_18/bottleneck_v2/conv1/BatchNorm/moving_mean:0' shape=(256,) dtype=float32_ref>,\n",
       " <tf.Variable 'resnet_v2_101/block3/unit_18/bottleneck_v2/conv1/BatchNorm/moving_variance:0' shape=(256,) dtype=float32_ref>,\n",
       " <tf.Variable 'resnet_v2_101/block3/unit_18/bottleneck_v2/conv2/weights:0' shape=(3, 3, 256, 256) dtype=float32_ref>,\n",
       " <tf.Variable 'resnet_v2_101/block3/unit_18/bottleneck_v2/conv2/BatchNorm/beta:0' shape=(256,) dtype=float32_ref>,\n",
       " <tf.Variable 'resnet_v2_101/block3/unit_18/bottleneck_v2/conv2/BatchNorm/gamma:0' shape=(256,) dtype=float32_ref>,\n",
       " <tf.Variable 'resnet_v2_101/block3/unit_18/bottleneck_v2/conv2/BatchNorm/moving_mean:0' shape=(256,) dtype=float32_ref>,\n",
       " <tf.Variable 'resnet_v2_101/block3/unit_18/bottleneck_v2/conv2/BatchNorm/moving_variance:0' shape=(256,) dtype=float32_ref>,\n",
       " <tf.Variable 'resnet_v2_101/block3/unit_18/bottleneck_v2/conv3/weights:0' shape=(1, 1, 256, 1024) dtype=float32_ref>,\n",
       " <tf.Variable 'resnet_v2_101/block3/unit_18/bottleneck_v2/conv3/biases:0' shape=(1024,) dtype=float32_ref>,\n",
       " <tf.Variable 'resnet_v2_101/block3/unit_19/bottleneck_v2/preact/beta:0' shape=(1024,) dtype=float32_ref>,\n",
       " <tf.Variable 'resnet_v2_101/block3/unit_19/bottleneck_v2/preact/gamma:0' shape=(1024,) dtype=float32_ref>,\n",
       " <tf.Variable 'resnet_v2_101/block3/unit_19/bottleneck_v2/preact/moving_mean:0' shape=(1024,) dtype=float32_ref>,\n",
       " <tf.Variable 'resnet_v2_101/block3/unit_19/bottleneck_v2/preact/moving_variance:0' shape=(1024,) dtype=float32_ref>,\n",
       " <tf.Variable 'resnet_v2_101/block3/unit_19/bottleneck_v2/conv1/weights:0' shape=(1, 1, 1024, 256) dtype=float32_ref>,\n",
       " <tf.Variable 'resnet_v2_101/block3/unit_19/bottleneck_v2/conv1/BatchNorm/beta:0' shape=(256,) dtype=float32_ref>,\n",
       " <tf.Variable 'resnet_v2_101/block3/unit_19/bottleneck_v2/conv1/BatchNorm/gamma:0' shape=(256,) dtype=float32_ref>,\n",
       " <tf.Variable 'resnet_v2_101/block3/unit_19/bottleneck_v2/conv1/BatchNorm/moving_mean:0' shape=(256,) dtype=float32_ref>,\n",
       " <tf.Variable 'resnet_v2_101/block3/unit_19/bottleneck_v2/conv1/BatchNorm/moving_variance:0' shape=(256,) dtype=float32_ref>,\n",
       " <tf.Variable 'resnet_v2_101/block3/unit_19/bottleneck_v2/conv2/weights:0' shape=(3, 3, 256, 256) dtype=float32_ref>,\n",
       " <tf.Variable 'resnet_v2_101/block3/unit_19/bottleneck_v2/conv2/BatchNorm/beta:0' shape=(256,) dtype=float32_ref>,\n",
       " <tf.Variable 'resnet_v2_101/block3/unit_19/bottleneck_v2/conv2/BatchNorm/gamma:0' shape=(256,) dtype=float32_ref>,\n",
       " <tf.Variable 'resnet_v2_101/block3/unit_19/bottleneck_v2/conv2/BatchNorm/moving_mean:0' shape=(256,) dtype=float32_ref>,\n",
       " <tf.Variable 'resnet_v2_101/block3/unit_19/bottleneck_v2/conv2/BatchNorm/moving_variance:0' shape=(256,) dtype=float32_ref>,\n",
       " <tf.Variable 'resnet_v2_101/block3/unit_19/bottleneck_v2/conv3/weights:0' shape=(1, 1, 256, 1024) dtype=float32_ref>,\n",
       " <tf.Variable 'resnet_v2_101/block3/unit_19/bottleneck_v2/conv3/biases:0' shape=(1024,) dtype=float32_ref>,\n",
       " <tf.Variable 'resnet_v2_101/block3/unit_20/bottleneck_v2/preact/beta:0' shape=(1024,) dtype=float32_ref>,\n",
       " <tf.Variable 'resnet_v2_101/block3/unit_20/bottleneck_v2/preact/gamma:0' shape=(1024,) dtype=float32_ref>,\n",
       " <tf.Variable 'resnet_v2_101/block3/unit_20/bottleneck_v2/preact/moving_mean:0' shape=(1024,) dtype=float32_ref>,\n",
       " <tf.Variable 'resnet_v2_101/block3/unit_20/bottleneck_v2/preact/moving_variance:0' shape=(1024,) dtype=float32_ref>,\n",
       " <tf.Variable 'resnet_v2_101/block3/unit_20/bottleneck_v2/conv1/weights:0' shape=(1, 1, 1024, 256) dtype=float32_ref>,\n",
       " <tf.Variable 'resnet_v2_101/block3/unit_20/bottleneck_v2/conv1/BatchNorm/beta:0' shape=(256,) dtype=float32_ref>,\n",
       " <tf.Variable 'resnet_v2_101/block3/unit_20/bottleneck_v2/conv1/BatchNorm/gamma:0' shape=(256,) dtype=float32_ref>,\n",
       " <tf.Variable 'resnet_v2_101/block3/unit_20/bottleneck_v2/conv1/BatchNorm/moving_mean:0' shape=(256,) dtype=float32_ref>,\n",
       " <tf.Variable 'resnet_v2_101/block3/unit_20/bottleneck_v2/conv1/BatchNorm/moving_variance:0' shape=(256,) dtype=float32_ref>,\n",
       " <tf.Variable 'resnet_v2_101/block3/unit_20/bottleneck_v2/conv2/weights:0' shape=(3, 3, 256, 256) dtype=float32_ref>,\n",
       " <tf.Variable 'resnet_v2_101/block3/unit_20/bottleneck_v2/conv2/BatchNorm/beta:0' shape=(256,) dtype=float32_ref>,\n",
       " <tf.Variable 'resnet_v2_101/block3/unit_20/bottleneck_v2/conv2/BatchNorm/gamma:0' shape=(256,) dtype=float32_ref>,\n",
       " <tf.Variable 'resnet_v2_101/block3/unit_20/bottleneck_v2/conv2/BatchNorm/moving_mean:0' shape=(256,) dtype=float32_ref>,\n",
       " <tf.Variable 'resnet_v2_101/block3/unit_20/bottleneck_v2/conv2/BatchNorm/moving_variance:0' shape=(256,) dtype=float32_ref>,\n",
       " <tf.Variable 'resnet_v2_101/block3/unit_20/bottleneck_v2/conv3/weights:0' shape=(1, 1, 256, 1024) dtype=float32_ref>,\n",
       " <tf.Variable 'resnet_v2_101/block3/unit_20/bottleneck_v2/conv3/biases:0' shape=(1024,) dtype=float32_ref>,\n",
       " <tf.Variable 'resnet_v2_101/block3/unit_21/bottleneck_v2/preact/beta:0' shape=(1024,) dtype=float32_ref>,\n",
       " <tf.Variable 'resnet_v2_101/block3/unit_21/bottleneck_v2/preact/gamma:0' shape=(1024,) dtype=float32_ref>,\n",
       " <tf.Variable 'resnet_v2_101/block3/unit_21/bottleneck_v2/preact/moving_mean:0' shape=(1024,) dtype=float32_ref>,\n",
       " <tf.Variable 'resnet_v2_101/block3/unit_21/bottleneck_v2/preact/moving_variance:0' shape=(1024,) dtype=float32_ref>,\n",
       " <tf.Variable 'resnet_v2_101/block3/unit_21/bottleneck_v2/conv1/weights:0' shape=(1, 1, 1024, 256) dtype=float32_ref>,\n",
       " <tf.Variable 'resnet_v2_101/block3/unit_21/bottleneck_v2/conv1/BatchNorm/beta:0' shape=(256,) dtype=float32_ref>,\n",
       " <tf.Variable 'resnet_v2_101/block3/unit_21/bottleneck_v2/conv1/BatchNorm/gamma:0' shape=(256,) dtype=float32_ref>,\n",
       " <tf.Variable 'resnet_v2_101/block3/unit_21/bottleneck_v2/conv1/BatchNorm/moving_mean:0' shape=(256,) dtype=float32_ref>,\n",
       " <tf.Variable 'resnet_v2_101/block3/unit_21/bottleneck_v2/conv1/BatchNorm/moving_variance:0' shape=(256,) dtype=float32_ref>,\n",
       " <tf.Variable 'resnet_v2_101/block3/unit_21/bottleneck_v2/conv2/weights:0' shape=(3, 3, 256, 256) dtype=float32_ref>,\n",
       " <tf.Variable 'resnet_v2_101/block3/unit_21/bottleneck_v2/conv2/BatchNorm/beta:0' shape=(256,) dtype=float32_ref>,\n",
       " <tf.Variable 'resnet_v2_101/block3/unit_21/bottleneck_v2/conv2/BatchNorm/gamma:0' shape=(256,) dtype=float32_ref>,\n",
       " <tf.Variable 'resnet_v2_101/block3/unit_21/bottleneck_v2/conv2/BatchNorm/moving_mean:0' shape=(256,) dtype=float32_ref>,\n",
       " <tf.Variable 'resnet_v2_101/block3/unit_21/bottleneck_v2/conv2/BatchNorm/moving_variance:0' shape=(256,) dtype=float32_ref>,\n",
       " <tf.Variable 'resnet_v2_101/block3/unit_21/bottleneck_v2/conv3/weights:0' shape=(1, 1, 256, 1024) dtype=float32_ref>,\n",
       " <tf.Variable 'resnet_v2_101/block3/unit_21/bottleneck_v2/conv3/biases:0' shape=(1024,) dtype=float32_ref>,\n",
       " <tf.Variable 'resnet_v2_101/block3/unit_22/bottleneck_v2/preact/beta:0' shape=(1024,) dtype=float32_ref>,\n",
       " <tf.Variable 'resnet_v2_101/block3/unit_22/bottleneck_v2/preact/gamma:0' shape=(1024,) dtype=float32_ref>,\n",
       " <tf.Variable 'resnet_v2_101/block3/unit_22/bottleneck_v2/preact/moving_mean:0' shape=(1024,) dtype=float32_ref>,\n",
       " <tf.Variable 'resnet_v2_101/block3/unit_22/bottleneck_v2/preact/moving_variance:0' shape=(1024,) dtype=float32_ref>,\n",
       " <tf.Variable 'resnet_v2_101/block3/unit_22/bottleneck_v2/conv1/weights:0' shape=(1, 1, 1024, 256) dtype=float32_ref>,\n",
       " <tf.Variable 'resnet_v2_101/block3/unit_22/bottleneck_v2/conv1/BatchNorm/beta:0' shape=(256,) dtype=float32_ref>,\n",
       " <tf.Variable 'resnet_v2_101/block3/unit_22/bottleneck_v2/conv1/BatchNorm/gamma:0' shape=(256,) dtype=float32_ref>,\n",
       " <tf.Variable 'resnet_v2_101/block3/unit_22/bottleneck_v2/conv1/BatchNorm/moving_mean:0' shape=(256,) dtype=float32_ref>,\n",
       " <tf.Variable 'resnet_v2_101/block3/unit_22/bottleneck_v2/conv1/BatchNorm/moving_variance:0' shape=(256,) dtype=float32_ref>,\n",
       " <tf.Variable 'resnet_v2_101/block3/unit_22/bottleneck_v2/conv2/weights:0' shape=(3, 3, 256, 256) dtype=float32_ref>,\n",
       " <tf.Variable 'resnet_v2_101/block3/unit_22/bottleneck_v2/conv2/BatchNorm/beta:0' shape=(256,) dtype=float32_ref>,\n",
       " <tf.Variable 'resnet_v2_101/block3/unit_22/bottleneck_v2/conv2/BatchNorm/gamma:0' shape=(256,) dtype=float32_ref>,\n",
       " <tf.Variable 'resnet_v2_101/block3/unit_22/bottleneck_v2/conv2/BatchNorm/moving_mean:0' shape=(256,) dtype=float32_ref>,\n",
       " <tf.Variable 'resnet_v2_101/block3/unit_22/bottleneck_v2/conv2/BatchNorm/moving_variance:0' shape=(256,) dtype=float32_ref>,\n",
       " <tf.Variable 'resnet_v2_101/block3/unit_22/bottleneck_v2/conv3/weights:0' shape=(1, 1, 256, 1024) dtype=float32_ref>,\n",
       " <tf.Variable 'resnet_v2_101/block3/unit_22/bottleneck_v2/conv3/biases:0' shape=(1024,) dtype=float32_ref>,\n",
       " <tf.Variable 'resnet_v2_101/block3/unit_23/bottleneck_v2/preact/beta:0' shape=(1024,) dtype=float32_ref>,\n",
       " <tf.Variable 'resnet_v2_101/block3/unit_23/bottleneck_v2/preact/gamma:0' shape=(1024,) dtype=float32_ref>,\n",
       " <tf.Variable 'resnet_v2_101/block3/unit_23/bottleneck_v2/preact/moving_mean:0' shape=(1024,) dtype=float32_ref>,\n",
       " <tf.Variable 'resnet_v2_101/block3/unit_23/bottleneck_v2/preact/moving_variance:0' shape=(1024,) dtype=float32_ref>,\n",
       " <tf.Variable 'resnet_v2_101/block3/unit_23/bottleneck_v2/conv1/weights:0' shape=(1, 1, 1024, 256) dtype=float32_ref>,\n",
       " <tf.Variable 'resnet_v2_101/block3/unit_23/bottleneck_v2/conv1/BatchNorm/beta:0' shape=(256,) dtype=float32_ref>,\n",
       " <tf.Variable 'resnet_v2_101/block3/unit_23/bottleneck_v2/conv1/BatchNorm/gamma:0' shape=(256,) dtype=float32_ref>,\n",
       " <tf.Variable 'resnet_v2_101/block3/unit_23/bottleneck_v2/conv1/BatchNorm/moving_mean:0' shape=(256,) dtype=float32_ref>,\n",
       " <tf.Variable 'resnet_v2_101/block3/unit_23/bottleneck_v2/conv1/BatchNorm/moving_variance:0' shape=(256,) dtype=float32_ref>,\n",
       " <tf.Variable 'resnet_v2_101/block3/unit_23/bottleneck_v2/conv2/weights:0' shape=(3, 3, 256, 256) dtype=float32_ref>,\n",
       " <tf.Variable 'resnet_v2_101/block3/unit_23/bottleneck_v2/conv2/BatchNorm/beta:0' shape=(256,) dtype=float32_ref>,\n",
       " <tf.Variable 'resnet_v2_101/block3/unit_23/bottleneck_v2/conv2/BatchNorm/gamma:0' shape=(256,) dtype=float32_ref>,\n",
       " <tf.Variable 'resnet_v2_101/block3/unit_23/bottleneck_v2/conv2/BatchNorm/moving_mean:0' shape=(256,) dtype=float32_ref>,\n",
       " <tf.Variable 'resnet_v2_101/block3/unit_23/bottleneck_v2/conv2/BatchNorm/moving_variance:0' shape=(256,) dtype=float32_ref>,\n",
       " <tf.Variable 'resnet_v2_101/block3/unit_23/bottleneck_v2/conv3/weights:0' shape=(1, 1, 256, 1024) dtype=float32_ref>,\n",
       " <tf.Variable 'resnet_v2_101/block3/unit_23/bottleneck_v2/conv3/biases:0' shape=(1024,) dtype=float32_ref>,\n",
       " <tf.Variable 'resnet_v2_101/block4/unit_1/bottleneck_v2/preact/beta:0' shape=(1024,) dtype=float32_ref>,\n",
       " <tf.Variable 'resnet_v2_101/block4/unit_1/bottleneck_v2/preact/gamma:0' shape=(1024,) dtype=float32_ref>,\n",
       " <tf.Variable 'resnet_v2_101/block4/unit_1/bottleneck_v2/preact/moving_mean:0' shape=(1024,) dtype=float32_ref>,\n",
       " <tf.Variable 'resnet_v2_101/block4/unit_1/bottleneck_v2/preact/moving_variance:0' shape=(1024,) dtype=float32_ref>,\n",
       " <tf.Variable 'resnet_v2_101/block4/unit_1/bottleneck_v2/shortcut/weights:0' shape=(1, 1, 1024, 2048) dtype=float32_ref>,\n",
       " <tf.Variable 'resnet_v2_101/block4/unit_1/bottleneck_v2/shortcut/biases:0' shape=(2048,) dtype=float32_ref>,\n",
       " <tf.Variable 'resnet_v2_101/block4/unit_1/bottleneck_v2/conv1/weights:0' shape=(1, 1, 1024, 512) dtype=float32_ref>,\n",
       " <tf.Variable 'resnet_v2_101/block4/unit_1/bottleneck_v2/conv1/BatchNorm/beta:0' shape=(512,) dtype=float32_ref>,\n",
       " <tf.Variable 'resnet_v2_101/block4/unit_1/bottleneck_v2/conv1/BatchNorm/gamma:0' shape=(512,) dtype=float32_ref>,\n",
       " <tf.Variable 'resnet_v2_101/block4/unit_1/bottleneck_v2/conv1/BatchNorm/moving_mean:0' shape=(512,) dtype=float32_ref>,\n",
       " <tf.Variable 'resnet_v2_101/block4/unit_1/bottleneck_v2/conv1/BatchNorm/moving_variance:0' shape=(512,) dtype=float32_ref>,\n",
       " <tf.Variable 'resnet_v2_101/block4/unit_1/bottleneck_v2/conv2/weights:0' shape=(3, 3, 512, 512) dtype=float32_ref>,\n",
       " <tf.Variable 'resnet_v2_101/block4/unit_1/bottleneck_v2/conv2/BatchNorm/beta:0' shape=(512,) dtype=float32_ref>,\n",
       " <tf.Variable 'resnet_v2_101/block4/unit_1/bottleneck_v2/conv2/BatchNorm/gamma:0' shape=(512,) dtype=float32_ref>,\n",
       " <tf.Variable 'resnet_v2_101/block4/unit_1/bottleneck_v2/conv2/BatchNorm/moving_mean:0' shape=(512,) dtype=float32_ref>,\n",
       " <tf.Variable 'resnet_v2_101/block4/unit_1/bottleneck_v2/conv2/BatchNorm/moving_variance:0' shape=(512,) dtype=float32_ref>,\n",
       " <tf.Variable 'resnet_v2_101/block4/unit_1/bottleneck_v2/conv3/weights:0' shape=(1, 1, 512, 2048) dtype=float32_ref>,\n",
       " <tf.Variable 'resnet_v2_101/block4/unit_1/bottleneck_v2/conv3/biases:0' shape=(2048,) dtype=float32_ref>,\n",
       " <tf.Variable 'resnet_v2_101/block4/unit_2/bottleneck_v2/preact/beta:0' shape=(2048,) dtype=float32_ref>,\n",
       " <tf.Variable 'resnet_v2_101/block4/unit_2/bottleneck_v2/preact/gamma:0' shape=(2048,) dtype=float32_ref>,\n",
       " <tf.Variable 'resnet_v2_101/block4/unit_2/bottleneck_v2/preact/moving_mean:0' shape=(2048,) dtype=float32_ref>,\n",
       " <tf.Variable 'resnet_v2_101/block4/unit_2/bottleneck_v2/preact/moving_variance:0' shape=(2048,) dtype=float32_ref>,\n",
       " <tf.Variable 'resnet_v2_101/block4/unit_2/bottleneck_v2/conv1/weights:0' shape=(1, 1, 2048, 512) dtype=float32_ref>,\n",
       " <tf.Variable 'resnet_v2_101/block4/unit_2/bottleneck_v2/conv1/BatchNorm/beta:0' shape=(512,) dtype=float32_ref>,\n",
       " <tf.Variable 'resnet_v2_101/block4/unit_2/bottleneck_v2/conv1/BatchNorm/gamma:0' shape=(512,) dtype=float32_ref>,\n",
       " <tf.Variable 'resnet_v2_101/block4/unit_2/bottleneck_v2/conv1/BatchNorm/moving_mean:0' shape=(512,) dtype=float32_ref>,\n",
       " <tf.Variable 'resnet_v2_101/block4/unit_2/bottleneck_v2/conv1/BatchNorm/moving_variance:0' shape=(512,) dtype=float32_ref>,\n",
       " <tf.Variable 'resnet_v2_101/block4/unit_2/bottleneck_v2/conv2/weights:0' shape=(3, 3, 512, 512) dtype=float32_ref>,\n",
       " <tf.Variable 'resnet_v2_101/block4/unit_2/bottleneck_v2/conv2/BatchNorm/beta:0' shape=(512,) dtype=float32_ref>,\n",
       " <tf.Variable 'resnet_v2_101/block4/unit_2/bottleneck_v2/conv2/BatchNorm/gamma:0' shape=(512,) dtype=float32_ref>,\n",
       " <tf.Variable 'resnet_v2_101/block4/unit_2/bottleneck_v2/conv2/BatchNorm/moving_mean:0' shape=(512,) dtype=float32_ref>,\n",
       " <tf.Variable 'resnet_v2_101/block4/unit_2/bottleneck_v2/conv2/BatchNorm/moving_variance:0' shape=(512,) dtype=float32_ref>,\n",
       " <tf.Variable 'resnet_v2_101/block4/unit_2/bottleneck_v2/conv3/weights:0' shape=(1, 1, 512, 2048) dtype=float32_ref>,\n",
       " <tf.Variable 'resnet_v2_101/block4/unit_2/bottleneck_v2/conv3/biases:0' shape=(2048,) dtype=float32_ref>,\n",
       " <tf.Variable 'resnet_v2_101/block4/unit_3/bottleneck_v2/preact/beta:0' shape=(2048,) dtype=float32_ref>,\n",
       " <tf.Variable 'resnet_v2_101/block4/unit_3/bottleneck_v2/preact/gamma:0' shape=(2048,) dtype=float32_ref>,\n",
       " <tf.Variable 'resnet_v2_101/block4/unit_3/bottleneck_v2/preact/moving_mean:0' shape=(2048,) dtype=float32_ref>,\n",
       " <tf.Variable 'resnet_v2_101/block4/unit_3/bottleneck_v2/preact/moving_variance:0' shape=(2048,) dtype=float32_ref>,\n",
       " <tf.Variable 'resnet_v2_101/block4/unit_3/bottleneck_v2/conv1/weights:0' shape=(1, 1, 2048, 512) dtype=float32_ref>,\n",
       " <tf.Variable 'resnet_v2_101/block4/unit_3/bottleneck_v2/conv1/BatchNorm/beta:0' shape=(512,) dtype=float32_ref>,\n",
       " <tf.Variable 'resnet_v2_101/block4/unit_3/bottleneck_v2/conv1/BatchNorm/gamma:0' shape=(512,) dtype=float32_ref>,\n",
       " <tf.Variable 'resnet_v2_101/block4/unit_3/bottleneck_v2/conv1/BatchNorm/moving_mean:0' shape=(512,) dtype=float32_ref>,\n",
       " <tf.Variable 'resnet_v2_101/block4/unit_3/bottleneck_v2/conv1/BatchNorm/moving_variance:0' shape=(512,) dtype=float32_ref>,\n",
       " <tf.Variable 'resnet_v2_101/block4/unit_3/bottleneck_v2/conv2/weights:0' shape=(3, 3, 512, 512) dtype=float32_ref>,\n",
       " <tf.Variable 'resnet_v2_101/block4/unit_3/bottleneck_v2/conv2/BatchNorm/beta:0' shape=(512,) dtype=float32_ref>,\n",
       " <tf.Variable 'resnet_v2_101/block4/unit_3/bottleneck_v2/conv2/BatchNorm/gamma:0' shape=(512,) dtype=float32_ref>,\n",
       " <tf.Variable 'resnet_v2_101/block4/unit_3/bottleneck_v2/conv2/BatchNorm/moving_mean:0' shape=(512,) dtype=float32_ref>,\n",
       " <tf.Variable 'resnet_v2_101/block4/unit_3/bottleneck_v2/conv2/BatchNorm/moving_variance:0' shape=(512,) dtype=float32_ref>,\n",
       " <tf.Variable 'resnet_v2_101/block4/unit_3/bottleneck_v2/conv3/weights:0' shape=(1, 1, 512, 2048) dtype=float32_ref>,\n",
       " <tf.Variable 'resnet_v2_101/block4/unit_3/bottleneck_v2/conv3/biases:0' shape=(2048,) dtype=float32_ref>,\n",
       " <tf.Variable 'resnet_v2_101/postnorm/beta:0' shape=(2048,) dtype=float32_ref>,\n",
       " <tf.Variable 'resnet_v2_101/postnorm/gamma:0' shape=(2048,) dtype=float32_ref>,\n",
       " <tf.Variable 'resnet_v2_101/postnorm/moving_mean:0' shape=(2048,) dtype=float32_ref>,\n",
       " <tf.Variable 'resnet_v2_101/postnorm/moving_variance:0' shape=(2048,) dtype=float32_ref>,\n",
       " <tf.Variable 'custom_cnn/Conv/weights:0' shape=(1, 1, 1024, 512) dtype=float32_ref>,\n",
       " <tf.Variable 'custom_cnn/Conv/biases:0' shape=(512,) dtype=float32_ref>,\n",
       " <tf.Variable 'custom_cnn/BatchNorm/beta:0' shape=(512,) dtype=float32_ref>,\n",
       " <tf.Variable 'custom_cnn/BatchNorm/gamma:0' shape=(512,) dtype=float32_ref>,\n",
       " <tf.Variable 'custom_cnn/BatchNorm/moving_mean:0' shape=(512,) dtype=float32_ref>,\n",
       " <tf.Variable 'custom_cnn/BatchNorm/moving_variance:0' shape=(512,) dtype=float32_ref>,\n",
       " <tf.Variable 'custom_cnn/Conv_1/weights:0' shape=(3, 3, 512, 512) dtype=float32_ref>,\n",
       " <tf.Variable 'custom_cnn/Conv_1/biases:0' shape=(512,) dtype=float32_ref>,\n",
       " <tf.Variable 'custom_cnn/BatchNorm_1/beta:0' shape=(512,) dtype=float32_ref>,\n",
       " <tf.Variable 'custom_cnn/BatchNorm_1/gamma:0' shape=(512,) dtype=float32_ref>,\n",
       " <tf.Variable 'custom_cnn/BatchNorm_1/moving_mean:0' shape=(512,) dtype=float32_ref>,\n",
       " <tf.Variable 'custom_cnn/BatchNorm_1/moving_variance:0' shape=(512,) dtype=float32_ref>,\n",
       " <tf.Variable 'custom_cnn/Conv_2/weights:0' shape=(1, 1, 512, 512) dtype=float32_ref>,\n",
       " <tf.Variable 'custom_cnn/Conv_2/biases:0' shape=(512,) dtype=float32_ref>,\n",
       " <tf.Variable 'custom_cnn/BatchNorm_2/beta:0' shape=(512,) dtype=float32_ref>,\n",
       " <tf.Variable 'custom_cnn/BatchNorm_2/gamma:0' shape=(512,) dtype=float32_ref>,\n",
       " <tf.Variable 'custom_cnn/BatchNorm_2/moving_mean:0' shape=(512,) dtype=float32_ref>,\n",
       " <tf.Variable 'custom_cnn/BatchNorm_2/moving_variance:0' shape=(512,) dtype=float32_ref>,\n",
       " <tf.Variable 'rnn/glimpse/fc_c_state_init/weights:0' shape=(512, 512) dtype=float32_ref>,\n",
       " <tf.Variable 'rnn/glimpse/fc_c_state_init/biases:0' shape=(512,) dtype=float32_ref>,\n",
       " <tf.Variable 'rnn/glimpse/fc_m_state_init/weights:0' shape=(512, 512) dtype=float32_ref>,\n",
       " <tf.Variable 'rnn/glimpse/fc_m_state_init/biases:0' shape=(512,) dtype=float32_ref>,\n",
       " <tf.Variable 'rnn/rnn/att_func/att_fc/weights:0' shape=(1024, 512) dtype=float32_ref>,\n",
       " <tf.Variable 'rnn/rnn/att_func/att_fc/biases:0' shape=(512,) dtype=float32_ref>,\n",
       " <tf.Variable 'rnn/rnn/att_func/att_logits/weights:0' shape=(512, 1) dtype=float32_ref>,\n",
       " <tf.Variable 'rnn/rnn/att_func/att_logits/biases:0' shape=(1,) dtype=float32_ref>,\n",
       " <tf.Variable 'rnn/rnn/lstm_cell/kernel:0' shape=(1024, 2048) dtype=float32_ref>,\n",
       " <tf.Variable 'rnn/rnn/lstm_cell/bias:0' shape=(2048,) dtype=float32_ref>,\n",
       " <tf.Variable 'rnn/rnn/lstm_cell/w_f_diag:0' shape=(512,) dtype=float32_ref>,\n",
       " <tf.Variable 'rnn/rnn/lstm_cell/w_i_diag:0' shape=(512,) dtype=float32_ref>,\n",
       " <tf.Variable 'rnn/rnn/lstm_cell/w_o_diag:0' shape=(512,) dtype=float32_ref>,\n",
       " <tf.Variable 'logits/weights:0' shape=(512, 10) dtype=float32_ref>,\n",
       " <tf.Variable 'logits/biases:0' shape=(10,) dtype=float32_ref>,\n",
       " <tf.Variable 'EMA/add:0' shape=() dtype=float32_ref>,\n",
       " <tf.Variable 'EMA/add/biased:0' shape=() dtype=float32_ref>,\n",
       " <tf.Variable 'EMA/add/local_step:0' shape=() dtype=float32_ref>,\n",
       " <tf.Variable 'learning_rate:0' shape=() dtype=float32_ref>,\n",
       " <tf.Variable 'beta1_power:0' shape=() dtype=float32_ref>,\n",
       " <tf.Variable 'beta2_power:0' shape=() dtype=float32_ref>,\n",
       " <tf.Variable 'custom_cnn/Conv/weights/Adam:0' shape=(1, 1, 1024, 512) dtype=float32_ref>,\n",
       " <tf.Variable 'custom_cnn/Conv/weights/Adam_1:0' shape=(1, 1, 1024, 512) dtype=float32_ref>,\n",
       " <tf.Variable 'custom_cnn/Conv/biases/Adam:0' shape=(512,) dtype=float32_ref>,\n",
       " <tf.Variable 'custom_cnn/Conv/biases/Adam_1:0' shape=(512,) dtype=float32_ref>,\n",
       " <tf.Variable 'custom_cnn/BatchNorm/beta/Adam:0' shape=(512,) dtype=float32_ref>,\n",
       " <tf.Variable 'custom_cnn/BatchNorm/beta/Adam_1:0' shape=(512,) dtype=float32_ref>,\n",
       " <tf.Variable 'custom_cnn/BatchNorm/gamma/Adam:0' shape=(512,) dtype=float32_ref>,\n",
       " <tf.Variable 'custom_cnn/BatchNorm/gamma/Adam_1:0' shape=(512,) dtype=float32_ref>,\n",
       " <tf.Variable 'custom_cnn/Conv_1/weights/Adam:0' shape=(3, 3, 512, 512) dtype=float32_ref>,\n",
       " <tf.Variable 'custom_cnn/Conv_1/weights/Adam_1:0' shape=(3, 3, 512, 512) dtype=float32_ref>,\n",
       " <tf.Variable 'custom_cnn/Conv_1/biases/Adam:0' shape=(512,) dtype=float32_ref>,\n",
       " <tf.Variable 'custom_cnn/Conv_1/biases/Adam_1:0' shape=(512,) dtype=float32_ref>,\n",
       " <tf.Variable 'custom_cnn/BatchNorm_1/beta/Adam:0' shape=(512,) dtype=float32_ref>,\n",
       " <tf.Variable 'custom_cnn/BatchNorm_1/beta/Adam_1:0' shape=(512,) dtype=float32_ref>,\n",
       " <tf.Variable 'custom_cnn/BatchNorm_1/gamma/Adam:0' shape=(512,) dtype=float32_ref>,\n",
       " <tf.Variable 'custom_cnn/BatchNorm_1/gamma/Adam_1:0' shape=(512,) dtype=float32_ref>,\n",
       " <tf.Variable 'custom_cnn/Conv_2/weights/Adam:0' shape=(1, 1, 512, 512) dtype=float32_ref>,\n",
       " <tf.Variable 'custom_cnn/Conv_2/weights/Adam_1:0' shape=(1, 1, 512, 512) dtype=float32_ref>,\n",
       " <tf.Variable 'custom_cnn/Conv_2/biases/Adam:0' shape=(512,) dtype=float32_ref>,\n",
       " <tf.Variable 'custom_cnn/Conv_2/biases/Adam_1:0' shape=(512,) dtype=float32_ref>,\n",
       " <tf.Variable 'custom_cnn/BatchNorm_2/beta/Adam:0' shape=(512,) dtype=float32_ref>,\n",
       " <tf.Variable 'custom_cnn/BatchNorm_2/beta/Adam_1:0' shape=(512,) dtype=float32_ref>,\n",
       " <tf.Variable 'custom_cnn/BatchNorm_2/gamma/Adam:0' shape=(512,) dtype=float32_ref>,\n",
       " <tf.Variable 'custom_cnn/BatchNorm_2/gamma/Adam_1:0' shape=(512,) dtype=float32_ref>,\n",
       " <tf.Variable 'rnn/glimpse/fc_c_state_init/weights/Adam:0' shape=(512, 512) dtype=float32_ref>,\n",
       " <tf.Variable 'rnn/glimpse/fc_c_state_init/weights/Adam_1:0' shape=(512, 512) dtype=float32_ref>,\n",
       " <tf.Variable 'rnn/glimpse/fc_c_state_init/biases/Adam:0' shape=(512,) dtype=float32_ref>,\n",
       " <tf.Variable 'rnn/glimpse/fc_c_state_init/biases/Adam_1:0' shape=(512,) dtype=float32_ref>,\n",
       " <tf.Variable 'rnn/glimpse/fc_m_state_init/weights/Adam:0' shape=(512, 512) dtype=float32_ref>,\n",
       " <tf.Variable 'rnn/glimpse/fc_m_state_init/weights/Adam_1:0' shape=(512, 512) dtype=float32_ref>,\n",
       " <tf.Variable 'rnn/glimpse/fc_m_state_init/biases/Adam:0' shape=(512,) dtype=float32_ref>,\n",
       " <tf.Variable 'rnn/glimpse/fc_m_state_init/biases/Adam_1:0' shape=(512,) dtype=float32_ref>,\n",
       " <tf.Variable 'rnn/rnn/att_func/att_fc/weights/Adam:0' shape=(1024, 512) dtype=float32_ref>,\n",
       " <tf.Variable 'rnn/rnn/att_func/att_fc/weights/Adam_1:0' shape=(1024, 512) dtype=float32_ref>,\n",
       " <tf.Variable 'rnn/rnn/att_func/att_fc/biases/Adam:0' shape=(512,) dtype=float32_ref>,\n",
       " <tf.Variable 'rnn/rnn/att_func/att_fc/biases/Adam_1:0' shape=(512,) dtype=float32_ref>,\n",
       " <tf.Variable 'rnn/rnn/att_func/att_logits/weights/Adam:0' shape=(512, 1) dtype=float32_ref>,\n",
       " <tf.Variable 'rnn/rnn/att_func/att_logits/weights/Adam_1:0' shape=(512, 1) dtype=float32_ref>,\n",
       " <tf.Variable 'rnn/rnn/att_func/att_logits/biases/Adam:0' shape=(1,) dtype=float32_ref>,\n",
       " <tf.Variable 'rnn/rnn/att_func/att_logits/biases/Adam_1:0' shape=(1,) dtype=float32_ref>,\n",
       " <tf.Variable 'rnn/rnn/lstm_cell/kernel/Adam:0' shape=(1024, 2048) dtype=float32_ref>,\n",
       " <tf.Variable 'rnn/rnn/lstm_cell/kernel/Adam_1:0' shape=(1024, 2048) dtype=float32_ref>,\n",
       " <tf.Variable 'rnn/rnn/lstm_cell/bias/Adam:0' shape=(2048,) dtype=float32_ref>,\n",
       " <tf.Variable 'rnn/rnn/lstm_cell/bias/Adam_1:0' shape=(2048,) dtype=float32_ref>,\n",
       " <tf.Variable 'rnn/rnn/lstm_cell/w_f_diag/Adam:0' shape=(512,) dtype=float32_ref>,\n",
       " <tf.Variable 'rnn/rnn/lstm_cell/w_f_diag/Adam_1:0' shape=(512,) dtype=float32_ref>,\n",
       " <tf.Variable 'rnn/rnn/lstm_cell/w_i_diag/Adam:0' shape=(512,) dtype=float32_ref>,\n",
       " <tf.Variable 'rnn/rnn/lstm_cell/w_i_diag/Adam_1:0' shape=(512,) dtype=float32_ref>,\n",
       " <tf.Variable 'rnn/rnn/lstm_cell/w_o_diag/Adam:0' shape=(512,) dtype=float32_ref>,\n",
       " <tf.Variable 'rnn/rnn/lstm_cell/w_o_diag/Adam_1:0' shape=(512,) dtype=float32_ref>,\n",
       " <tf.Variable 'logits/weights/Adam:0' shape=(512, 10) dtype=float32_ref>,\n",
       " <tf.Variable 'logits/weights/Adam_1:0' shape=(512, 10) dtype=float32_ref>,\n",
       " <tf.Variable 'logits/biases/Adam:0' shape=(10,) dtype=float32_ref>,\n",
       " <tf.Variable 'logits/biases/Adam_1:0' shape=(10,) dtype=float32_ref>,\n",
       " <tf.Variable 'global_step:0' shape=() dtype=int64_ref>,\n",
       " <tf.Variable 'EMA/DataParallelInferenceRunner/QueueInput/queue_size:0' shape=() dtype=float32_ref>,\n",
       " <tf.Variable 'EMA/DataParallelInferenceRunner/QueueInput/queue_size/biased:0' shape=() dtype=float32_ref>,\n",
       " <tf.Variable 'EMA/DataParallelInferenceRunner/QueueInput/queue_size/local_step:0' shape=() dtype=float32_ref>]"
      ]
     },
     "execution_count": 14,
     "metadata": {},
     "output_type": "execute_result"
    }
   ],
   "source": [
    "tf.get_collection(tf.GraphKeys.GLOBAL_VARIABLES)"
   ]
  },
  {
   "cell_type": "code",
   "execution_count": null,
   "metadata": {
    "collapsed": true
   },
   "outputs": [],
   "source": []
  }
 ],
 "metadata": {
  "kernelspec": {
   "display_name": "Python 3",
   "language": "python",
   "name": "python3"
  },
  "language_info": {
   "codemirror_mode": {
    "name": "ipython",
    "version": 3
   },
   "file_extension": ".py",
   "mimetype": "text/x-python",
   "name": "python",
   "nbconvert_exporter": "python",
   "pygments_lexer": "ipython3",
   "version": "3.6.2"
  }
 },
 "nbformat": 4,
 "nbformat_minor": 2
}
