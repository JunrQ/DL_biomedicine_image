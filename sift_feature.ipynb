{
 "cells": [
  {
   "cell_type": "code",
   "execution_count": 6,
   "metadata": {
    "collapsed": true
   },
   "outputs": [],
   "source": [
    "from scipy import io\n",
    "import numpy as np\n",
    "from functional import seq\n",
    "import os\n",
    "import pickle\n",
    "from sklearn.decomposition import PCA\n",
    "from sklearn.preprocessing import Normalizer\n",
    "from sklearn.preprocessing import normalize\n",
    "\n",
    "%matplotlib inline\n",
    "\n",
    "sift_loc = \"/data/yangyang/FlyExpress_SIFT_feature/\"\n",
    "img_index = \"/data/yangyang/SIFT/30_labels.pickle\""
   ]
  },
  {
   "cell_type": "code",
   "execution_count": 7,
   "metadata": {
    "collapsed": true
   },
   "outputs": [],
   "source": [
    "def read_all_file(folder):\n",
    "    data = []\n",
    "    for file in os.listdir(folder):\n",
    "        name = os.fsdecode(file)\n",
    "        if name.endswith('.mat'):\n",
    "            mat = io.loadmat(folder+file)\n",
    "            data.append(mat['FlyExpress_SIFT_feature'][0, :])\n",
    "    return np.hstack(data)\n",
    "\n",
    "def unique(idx, image):\n",
    "    idx, slice = np.unique(idx, return_index=True)\n",
    "    return idx, image[slice, :]\n",
    "\n",
    "def separate_set(sift_loc, index_loc):\n",
    "    mat_data = read_all_file(sift_loc)\n",
    "    with open(index_loc, 'rb') as f:\n",
    "        idx = pickle.load(f)\n",
    "        train_idx, test_idx = set(idx['train']), set(idx['test'])\n",
    "        \n",
    "    print(len(train_idx))\n",
    "    print(len(test_idx))\n",
    "    \n",
    "    train_stream = seq(mat_data).smap(lambda idx, data: (idx[0], data.flatten())) \\\n",
    "        .filter(lambda dp: dp[0] in train_idx) \\\n",
    "        .list()\n",
    "    train_idx, train_img = zip(*train_stream)\n",
    "    train_idx = np.array(train_idx)\n",
    "    train_img = np.vstack(train_img)\n",
    "    train_idx, train_img = unique(train_idx, train_img)\n",
    "    \n",
    "    test_stream = seq(mat_data).smap(lambda idx, data: (idx[0], data.flatten())) \\\n",
    "        .filter(lambda dp: dp[0] in test_idx) \\\n",
    "        .list()\n",
    "    test_idx, test_img = zip(*test_stream)\n",
    "    test_idx = np.array(test_idx)\n",
    "    test_img = np.vstack(test_img)\n",
    "    test_idx, test_img = unique(test_idx, test_img)\n",
    "    \n",
    "    return train_idx, train_img, test_idx, test_img\n",
    "\n",
    "def to_dict(train_idx, train_img, test_idx, test_img):\n",
    "    train = seq(train_idx).zip(seq(train_img)).dict()\n",
    "    test = seq(test_idx).zip(seq(test_img)).dict()\n",
    "    return {**train, **test}"
   ]
  },
  {
   "cell_type": "code",
   "execution_count": 9,
   "metadata": {},
   "outputs": [
    {
     "name": "stdout",
     "output_type": "stream",
     "text": [
      "17469\n",
      "17181\n"
     ]
    }
   ],
   "source": [
    "train_idx, train_img, test_idx, test_img = separate_set(sift_loc, img_index)\n",
    "\n",
    "pca = PCA(n_components=512, whiten=True)\n",
    "#normalizer = Normalizer(axis=0)\n",
    "train_norm = normalize(train_img, norm='l1', axis=0)\n",
    "test_norm = normalize(test_img, norm='l1', axis=0)\n",
    "train_feature = pca.fit_transform(train_norm)\n",
    "test_feature = pca.transform(test_norm)\n",
    "data = to_dict(train_idx, train_feature, test_idx, test_feature)\n",
    "with open('30_labels_feature.pickle', 'wb') as f:\n",
    "    pickle.dump(data, f)"
   ]
  },
  {
   "cell_type": "code",
   "execution_count": 10,
   "metadata": {},
   "outputs": [
    {
     "data": {
      "text/plain": [
       "0.99928809178113398"
      ]
     },
     "execution_count": 10,
     "metadata": {},
     "output_type": "execute_result"
    }
   ],
   "source": [
    "pca.explained_variance_ratio_.sum()"
   ]
  },
  {
   "cell_type": "code",
   "execution_count": null,
   "metadata": {},
   "outputs": [],
   "source": [
    "data.keys()"
   ]
  },
  {
   "cell_type": "code",
   "execution_count": null,
   "metadata": {
    "collapsed": true
   },
   "outputs": [],
   "source": []
  }
 ],
 "metadata": {
  "kernelspec": {
   "display_name": "Python 3",
   "language": "python",
   "name": "python3"
  },
  "language_info": {
   "codemirror_mode": {
    "name": "ipython",
    "version": 3
   },
   "file_extension": ".py",
   "mimetype": "text/x-python",
   "name": "python",
   "nbconvert_exporter": "python",
   "pygments_lexer": "ipython3",
   "version": "3.6.2"
  }
 },
 "nbformat": 4,
 "nbformat_minor": 2
}
